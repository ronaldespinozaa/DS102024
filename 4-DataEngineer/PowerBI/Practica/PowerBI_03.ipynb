{
 "cells": [
  {
   "cell_type": "markdown",
   "id": "8be7ba9a-780c-4518-94c7-1e069e8f757e",
   "metadata": {},
   "source": [
    "## Practica 3 - Presentación del cliente\n",
    "\n",
    "**The Company** es una corporación internacional que opera en múltiples sectores, incluyendo tecnología, manufactura y servicios. Con una fuerte orientación hacia la innovación y la eficiencia, **The Company** se dedica a mejorar continuamente sus operaciones y la satisfacción de sus empleados. En su esfuerzo por crear un entorno laboral inclusivo y productivo, la empresa está comprometida con el análisis de datos para tomar decisiones basadas en evidencias.\n",
    "\n",
    "### Proyecto\n",
    "**The Company** tiene un objetivo ambicioso: tomar todas sus decisiones en base a datos. En una primera instancia quieren entender cómo son los movimientos en su plantilla de empleados, identificando contrataciones y terminaciones a lo largo del tiempo. Así mismo, han identificado tres grandes grupos de preguntas que quieren responder:\n",
    "1. ¿Quiénes son nuestros empleados? ¿Hay áreas de mejora en cuanto a la diversidad?\n",
    "2. ¿Cómo es la organización actualmente? ¿Hay sectores o posiciones específicas en donde se concentren la mayor parte de los empleados?\n",
    "3. ¿Cuál es el nivel de satisfacción de los empleados activos? ¿Esa satisfacción es más o menos  parecida en los distintos sectores?\n",
    "   \n",
    "- **Base de datos**: _The Company Data_\n",
    "\n",
    "- **Aclaraciones importantes sobre los campos del dataset**:\n",
    "\n",
    "    - Todas las fechas están en el formato usado en **Estados Unidos (Mes/Día/Año)**\n",
    "\n",
    "    - Si el campo **Termination_Date** (Fecha de terminación) tiene valor **\"12/12/2999\"**, esto quiere decir que la persona todavía está empleada en la compañía. Podemos reemplazar ese valor por **null** en **Power Query** para que la columna no genere errores cuando le asignamos tipo fecha.\n",
    "\n",
    "### Requerimientos específicos\n",
    "1. **Conectar y limpiar la fuente de datos**:\n",
    "\n",
    "Importar y limpiar el dataset proporcionado por The Company.\n",
    "\n",
    "2. **Crear una tabla calendario**\n",
    "\n",
    "3. **Crear el modelo relacional**\n",
    "\n",
    "Prestar atención a la cardinalidad y dirección de filtrado. \n",
    "\n",
    "4. **Realizar una primera página con las siguientes visualizaciones**:\n",
    "\n",
    "- KPI que indique la cantidad total de empleados activos\n",
    "- KPI que indique la cantidad total de contrataciones realizadas\n",
    "- KPI que indique la cantidad total de terminaciones\n",
    "- Gráfico evolutivo de contrataciones\n",
    "- Gráfico evolutivo de terminaciones\n",
    "\n",
    "5. **Desarrollar al menos una de las siguientes tres hojas de detalle**\n",
    "\n",
    "- Un **análisis demográfico** para poder describir los perfiles de empleados activos de **The Company**. (Algunas variables según las cuales visualizar la información podrían ser: edad, antigüedad, lugar de residencia, oficina a la que asisten, género, raza, educación…)\n",
    "\n",
    "- Un análisis **organizacional** teniendo en cuenta los empleados activos (Algunas preguntas que podría responder esta página son: ¿cuáles son las oficinas con más personas? ¿Cómo es la distribución de empleados según el tipo de oficina? ¿Cómo es la distribución de niveles de liderazgo (**Level**)? ¿Cómo es la distribución por departamento?)\n",
    "\n",
    "- Un **análisis de satisfacción** (Algunas visualizaciones podrían ser: NPS general de la empresa, NPS por departamento por país y por level, Promedio de puntaje por preguntas agrupadas por categorías)\n",
    "\n",
    "6. **Agregar los filtros y segmentadores que se consideren necesarios en cada página**\n",
    "\n",
    "**IMPORTANTE**:\n",
    "- Escribe en este notebook la explicación del dashboard.\n",
    "- Adjunta al correo del coordinador técnico el dashboard."
   ]
  },
  {
   "cell_type": "code",
   "execution_count": null,
   "id": "afab247d-4938-4571-86b9-4505b02ad0d0",
   "metadata": {},
   "outputs": [],
   "source": [
    "# Escribe aquí la explicación del dashboard.\n",
    "\n",
    "\n",
    "\n"
   ]
  },
  {
   "cell_type": "code",
   "execution_count": null,
   "id": "3cb79d6f-11c6-44fe-a58b-f162cdf72747",
   "metadata": {},
   "outputs": [],
   "source": [
    "##############################################################################################################################"
   ]
  }
 ],
 "metadata": {
  "kernelspec": {
   "display_name": "Python 3 (ipykernel)",
   "language": "python",
   "name": "python3"
  },
  "language_info": {
   "codemirror_mode": {
    "name": "ipython",
    "version": 3
   },
   "file_extension": ".py",
   "mimetype": "text/x-python",
   "name": "python",
   "nbconvert_exporter": "python",
   "pygments_lexer": "ipython3",
   "version": "3.11.7"
  }
 },
 "nbformat": 4,
 "nbformat_minor": 5
}
