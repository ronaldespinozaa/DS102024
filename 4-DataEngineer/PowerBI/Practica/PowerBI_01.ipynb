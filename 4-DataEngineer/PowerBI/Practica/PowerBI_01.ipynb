{
 "cells": [
  {
   "cell_type": "markdown",
   "id": "8b786771-390e-40af-9238-e909758d5be7",
   "metadata": {},
   "source": [
    "## Practica 01 - Presentación del cliente\n",
    "\n",
    "Uber es una empresa multinacional que ofrece servicios de transporte privado a través de su aplicación móvil. Fundada en 2009, Uber ha revolucionado la industria del transporte al proporcionar una forma conveniente y accesible para que las personas se desplacen por las ciudades. La empresa no solo opera en cientos de ciudades alrededor del mundo, sino que también ha expandido sus servicios para incluir el reparto de alimentos y la logística de carga, consolidándose como un líder en la economía colaborativa.\n",
    "\n",
    "### Proyecto\n",
    "Uber está buscando desarrollar un proyecto de **Data Analytics** que le permita entender mejor sus operaciones y optimizar su desempeño en áreas clave. Este proyecto se centrará en analizar datos históricos de viajes para identificar patrones y tendencias que puedan mejorar la eficiencia del servicio, la satisfacción del cliente y la asignación de recursos. La meta es proporcionar **insights** accionables que ayuden a Uber a tomar decisiones informadas sobre estrategias operativas y de marketing.\n",
    "\n",
    "- **Base de datos**: _Dataset_Uber.xlsx_\n",
    "\n",
    "- **Aclaraciones importantes sobre los campos del dataset**:\n",
    "\n",
    "    - **Purpose** (Propósito del viaje) es un campo opcional.\n",
    "\n",
    "    - **Driver Rating** (Puntuación promedio del conductor) es un valor agregado. Es decir que no conocemos la puntuación específica por viaje sino el puntaje promedio de cada conductor.\n",
    "\n",
    "### Requerimientos específicos:\n",
    "Para esta clase práctica deberemos desarrollar un tablero de **Power BI** con un análisis descriptivo de las operaciones de Uber. Para ello será necesario:\n",
    "\n",
    "1. **Conectar y limpiar la fuente de datos**:\n",
    "    - Importar y limpiar el dataset proporcionado por Uber.\n",
    "\n",
    "2. **Definir KPIs**:\n",
    "    - Analizar qué datos hay disponibles en el dataset y definir al menos cuatro **KPIs**.\n",
    "\n",
    "3. **Crear medidas y/o columnas calculadas**:\n",
    "    - Crear las funciones DAX necesarias para visualizar los **KPIs** definidos en el punto anterior. \n",
    "\n",
    "4. **Crear al menos dos páginas de visualizaciones, una general y una específica**.\n",
    "    - Recordemos que para elegir una visualización adecuada es necesario primero saber qué queremos mostrar y cuáles son los campos involucrados.  \n",
    "\n",
    "5. **Panel de Filtrado y Segmentación**:\n",
    "    - Incluyamos segmentadores en nuestro tablero para que el usuario pueda explorar los datos por diferentes dimensiones.\n",
    "\n",
    "6. **¡No olvidemos prestar atención al diseño!**:\n",
    "    - Tengamos en cuenta las buenas prácticas de diseño vistas durante las clases previas: revisemos colores, títulos y encabezados.\n",
    "\n",
    "**TIP**: En la primera clase del módulo tenemos una **DAX Cheat Sheet** que podrá ayudarnos con nuestras fórmulas. Además, en la clase tres encontramos la check list de puntos específicos a tener en cuenta a la hora de desarrollar nuestro tablero.\n",
    "\n",
    "**IMPORTANTE**:\n",
    "- Escribe en este notebook una breve explicación del dashboard.\n",
    "- Adjunta al correo del coordinador técnico el dashboard."
   ]
  },
  {
   "cell_type": "code",
   "execution_count": null,
   "id": "b41383f4-019e-4f01-8520-309c9cdb6dc0",
   "metadata": {},
   "outputs": [],
   "source": [
    "# Escribe aquí una breve explicación del dashboard.\n",
    "\n",
    "\n"
   ]
  },
  {
   "cell_type": "code",
   "execution_count": null,
   "id": "2cd0c865-5da7-4b78-b87a-18b45433fa48",
   "metadata": {},
   "outputs": [],
   "source": [
    "##############################################################################################################################"
   ]
  }
 ],
 "metadata": {
  "kernelspec": {
   "display_name": "Python 3 (ipykernel)",
   "language": "python",
   "name": "python3"
  },
  "language_info": {
   "codemirror_mode": {
    "name": "ipython",
    "version": 3
   },
   "file_extension": ".py",
   "mimetype": "text/x-python",
   "name": "python",
   "nbconvert_exporter": "python",
   "pygments_lexer": "ipython3",
   "version": "3.11.7"
  }
 },
 "nbformat": 4,
 "nbformat_minor": 5
}
