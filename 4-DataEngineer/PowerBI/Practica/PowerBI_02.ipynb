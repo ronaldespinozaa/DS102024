{
 "cells": [
  {
   "cell_type": "markdown",
   "id": "3ddcfeaf-3577-4683-a983-aaa85bedd61d",
   "metadata": {},
   "source": [
    "## Practica 2 - Presentación del cliente\n",
    "\n",
    "**Adventure Works** es una empresa global de fabricación y venta de productos deportivos, conocida por su amplia gama de productos de alta calidad. La compañía opera en varios mercados internacionales y se enfoca en brindar a sus clientes productos innovadores y un excelente servicio al cliente. Con un enfoque en la expansión y la optimización operativa, Adventure Works está comprometida con el uso de análisis de datos avanzados para impulsar su toma de decisiones estratégicas.\n",
    "\n",
    "### Proyecto\n",
    "**Adventure Works** necesita desarrollar un proyecto de **Data Analytics** para analizar sus datos de ventas, clientes y productos. El objetivo principal del proyecto es obtener **insights** valiosos que puedan mejorar la eficiencia operativa, optimizar las estrategias de marketing y aumentar la satisfacción del cliente. Al utilizar técnicas de análisis avanzadas, **Adventure Works** busca identificar patrones y tendencias en las ventas, segmentar a sus clientes de manera efectiva y evaluar el rendimiento de sus productos en diferentes mercados.\n",
    "\n",
    "- **Base de datos**: _Adventure works\n",
    "\n",
    "### Requerimientos específicos\n",
    "Para esta clase práctica deberemos desarrollar un tablero de **Power BI** con un análisis descriptivo de las operaciones de **Adventure Works**. Para ello será necesario:\n",
    "\n",
    "1. **Conectar y limpiar la fuente de datos**:\n",
    "\n",
    "Importar y limpiar el dataset proporcionado de Uber.\n",
    "\n",
    "2. **Crear una tabla calendario**\n",
    "\n",
    "3. **Crear el modelo relacional entre las tres tablas**:\n",
    "\n",
    "Prestar atención a la cardinalidad y dirección de filtrado. \n",
    "\n",
    "4. **Diseñar un dashboard siguiendo los siguientes requerimientos del cliente**:\n",
    "- Calcular:\n",
    "    - **facturación total en $**\n",
    "    - **cantidad de ventas totales**\n",
    "    - **cantidad de clientes únicos**\n",
    "   \n",
    "- Identificar el canal de ventas más utilizado respecto a las ventas en **$**.\n",
    "  \n",
    "- Visualizar la evolución mensual de las ventas en **$** y en cantidad.\n",
    "  \n",
    "- Visualizar las ventas en **$** por categoría y subcategoría en un mismo gráfico armando una **jerarquía** para poder utilizar un **drill down**.\n",
    "  \n",
    "- Visualizar las ventas en cantidad por productos agrupados. Para ello crear grupos usando el campo **ProductName**. Los grupos deberán ser: \n",
    "    - **External Lock**\n",
    "    - **Internal Lock**\n",
    "    - **Lock Washer**\n",
    "    - **Flat Washer**\n",
    "    - **Hex Nut (All)**\n",
    "    - **Lock Nut (All)**\n",
    "    - **Mountain (All)**\n",
    "    - **Road(All)**\n",
    "    - **Touring (All)**\n",
    "    - **Otros**\n",
    "- Agregar un filtro que permita filtrar los distintos años en todos los gráficos excepto en los gráficos de evolución mensual.\n",
    "\n",
    "_**Opcional**: Crear una página de drill through con los campos que se considere importantes._\n",
    "\n",
    "\n",
    "**IMPORTANTE**:\n",
    "- Escribe en este notebook una breve explicación del dashboard.\n",
    "- Adjunta al correo del coordinador técnico el dashboard."
   ]
  },
  {
   "cell_type": "code",
   "execution_count": null,
   "id": "7a591248-1371-4bb0-baec-7160d252d140",
   "metadata": {},
   "outputs": [],
   "source": [
    "# Escribe aquí una breve explicación del dashboard.\n",
    "\n",
    "\n",
    "\n"
   ]
  },
  {
   "cell_type": "code",
   "execution_count": null,
   "id": "07310cb1-4273-4cc3-94eb-98a8d7cfece9",
   "metadata": {},
   "outputs": [],
   "source": [
    "##############################################################################################################################"
   ]
  }
 ],
 "metadata": {
  "kernelspec": {
   "display_name": "Python 3 (ipykernel)",
   "language": "python",
   "name": "python3"
  },
  "language_info": {
   "codemirror_mode": {
    "name": "ipython",
    "version": 3
   },
   "file_extension": ".py",
   "mimetype": "text/x-python",
   "name": "python",
   "nbconvert_exporter": "python",
   "pygments_lexer": "ipython3",
   "version": "3.11.7"
  }
 },
 "nbformat": 4,
 "nbformat_minor": 5
}
