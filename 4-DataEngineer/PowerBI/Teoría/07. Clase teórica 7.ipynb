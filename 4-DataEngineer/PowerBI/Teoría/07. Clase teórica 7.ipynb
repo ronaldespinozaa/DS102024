{
 "cells": [
  {
   "cell_type": "markdown",
   "id": "9f6326b7-4082-4bf5-b950-33bf24e7cefb",
   "metadata": {},
   "source": [
    "## Clase teórica 07\n",
    "\n",
    "En esta clase y en la siguiente presentaremos algunos tableros de ejemplo de manera integral. Cada tablero fue realizado en un área distinta del análisis de datos, por lo que puede ser útil realizar un recorrido por dicho área de aplicación, para que podamos ser testigos de los múltiples contextos, industrias y escenarios en los que Power BI se convierte en una herramienta útil.\n",
    "\n",
    "### Customer Analytics\n",
    "\n",
    "En este apartado nos centraremos en Customer Analytics, una área fundamental dentro del análisis de datos aplicada específicamente al comportamiento y las experiencias de los clientes. Customer Analytics es el proceso de recopilar, analizar e interpretar datos relacionados con los clientes para comprender mejor sus necesidades, comportamientos y preferencias. Utiliza técnicas de análisis de datos para extraer insights que pueden mejorar la toma de decisiones estratégicas y tácticas en áreas como marketing, ventas, servicio al cliente y desarrollo de productos. Esto permite a las empresas personalizar sus ofertas, optimizar las interacciones con los clientes y mejorar la satisfacción y lealtad del cliente.\n",
    "\n",
    "Customer analytics incluye el análisis de datos demográficos, transaccionales, de comportamiento y de feedback de clientes para obtener una visión completa y accionable sobre cómo mejorar su experiencia.\n",
    "\n",
    "#### NPS, el KPI estrella\n",
    "\n",
    "El **Net Promoter Score** (**NPS**) es una métrica que mide la satisfacción del cliente en relación a una empresa, producto o servicio y por eso es ampliamente utilizada en Customer Analytics. Fue desarrollado en 2003 por Fred Reichheld, un consultor de Bain & Company, en colaboración con la empresa de software Satmetrix. \n",
    "\n",
    "La métrica **NPS** se calcula mediante una única pregunta clave: \"¿Qué tan probable es que recomiende nuestra empresa/producto/servicio a un amigo o colega?\" Los clientes responden en una escala de 0 a 10. Basado en sus respuestas, los clientes se clasifican en tres categorías:\n",
    "\n",
    "- **Promotores (puntajes de 9 a 10)**: Clientes leales y entusiastas que probablemente recomienden la empresa y contribuyan al crecimiento.\n",
    "\n",
    "- **Neutrales (puntajes de 7 a 8)**: Clientes satisfechos pero no lo suficientemente entusiastas como para promover activamente la empresa.\n",
    "\n",
    "- **Detractores (puntajes de 0 a 6)**: Clientes insatisfechos que pueden dañar la reputación de la empresa a través del boca a boca negativo.\n",
    "\n",
    "Una vez recolectada la información, el **NPS** se calcula con la siguiente fórmula:\n",
    "\n",
    "$$\n",
    "\\frac{(\\text{Promotores} - \\text{detractores})}{\\text{total clientes}} * 100\n",
    "$$\n",
    "\n",
    "#### Ejemplo: Starbucks\n",
    "**Tablero terminado**: _..\\00.Notebooks Teoría\\Tableros semana 3\\Customer Analytics_\n",
    "\n",
    "En este ejemplo visualizamos las respuestas de una encuesta de satisfacción de la conocida empresa de café Starbucks para sus sucursales de Malasia. Esta información nos permitirá conocer quiénes son los clientes, cómo son sus visitas a esta cafetería, qué opinan de distintos indicadores clave y qué tan probable es que recomienden Starbucks.\n",
    "\n",
    "\n",
    "- **Modelo**\n",
    "\n",
    "Si bien la tabla fuente es una sola, el modelo es un modelo estrella con una gran tabla central y ocho tablas satélites que fueron construidas desde la misma tabla central.\n",
    "\n",
    "<div align=\"center\">\n",
    "   <img src=\"Imagenes y Videos - Clase 07\\S03-C07-E01_1.Modelo-CA.png\">\n",
    "</div>\n",
    "\n",
    "¿Por qué hicimos esto? Para responder esta pregunta dividimos las tablas en dos:\n",
    "\n",
    "- **Creación de nuevas tablas**\n",
    "\n",
    "Por un lado, tenemos seis tablas de “Orden”: Gran parte de las preguntas de la encuesta son de single choice con categorías que siguen cierto orden pero que no necesariamente se ve reflejado si ordenamos esas categorías alfabéticamente. Por ejemplo, frente a la pregunta por la frecuencia de visita, las opciones son: Daily, Weekly, Monthly, Rarely y Never. Si bien ese es el orden lógico (de mayor a menor frecuencia), si ordenamos alfabéticamente los términos aparecen así: Daily, Monthly, Never, Rarely y Weekly lo cual sería confuso para nuestro usuario.\n",
    "\n",
    "Para poder ordenar las categorías de forma lógica, es necesario que creemos una tabla específica. Para hacerlo, en el editor de queries hacemos clic derecho sobre nuestra tabla original y elegimos la opción Referencia."
   ]
  },
  {
   "cell_type": "markdown",
   "id": "7c6aff17-af41-4cee-90b9-f64814b23051",
   "metadata": {},
   "source": [
    "<div align=\"center\">\n",
    "   <img src=\"Imagenes y Videos - Clase 07\\S03-C07-E01_2. Referenciar.png\">\n",
    "</div>\n",
    "\n",
    "Esto nos creará automáticamente una nueva tabla a la que llamaremos Orden Frequency of visits, en la que quitaremos todas las columnas menos la que nos importa ordenar, eliminaremos los duplicados y crearemos una columna condicional donde asignemos un número a cada categoría."
   ]
  },
  {
   "cell_type": "markdown",
   "id": "c2e22e7d-6fd6-4aa3-bb03-b99a366cbbae",
   "metadata": {},
   "source": [
    "<div align=\"center\">\n",
    "   <img src=\"Imagenes y Videos - Clase 07\\S03-C07-E01_3.Quitar otras columnas.png\">\n",
    "</div>"
   ]
  },
  {
   "cell_type": "markdown",
   "id": "556f1339-41b5-42ce-b3c1-abda5132feae",
   "metadata": {},
   "source": [
    "<div align=\"center\">\n",
    "   <img src=\"Imagenes y Videos - Clase 07\\S03-C07-E01_4.Quitar duplicados.png\">\n",
    "</div>"
   ]
  },
  {
   "cell_type": "markdown",
   "id": "9e76e3d4-9878-4129-860c-92a69b51dad3",
   "metadata": {},
   "source": [
    "<div align=\"center\">\n",
    "   <img src=\"Imagenes y Videos - Clase 07\\S03-C07-E01_5. Columna condicional.png\">\n",
    "</div>\n",
    "\n",
    "Una vez que “Cerramos y aplicamos”, solo nos queda (como vimos en clases anteriores) generar la relación entre la tabla original y la nueva (utilizando como key la columna con la que trabajamos, en este caso “Frequency of visits” y luego ordenar la columna de categorías en base a la columna de orden creada."
   ]
  },
  {
   "cell_type": "markdown",
   "id": "77a6f5c4-e222-4671-86f4-8e8ebc69d11f",
   "metadata": {},
   "source": [
    "<div align=\"center\">\n",
    "   <img src=\"Imagenes y Videos - Clase 07\\S03-C07-E01_6.ordenar columna por.png\">\n",
    "</div>\n",
    "\n",
    "- **¿Y las otras dos tablas?**\n",
    "\n",
    "Veremos que hay dos preguntas que en lugar de ser single choice son multiple choice. Eso hace que tengamos una o varias respuestas en una misma celda. Para poder manipular esos datos lo que hacemos es crear una tabla por cada pregunta multiple choice utilizando la opción de referencia y eliminar las columnas que no sean la columna indicada (por ejemplo, Most purchased product) e Índice. Una vez realizados estos pasos, debemos utilizar la función “Dividir columna por delimitador” y en opciones avanzadas seleccionar “Filas”"
   ]
  },
  {
   "cell_type": "markdown",
   "id": "9a464a86-5208-41f2-8f07-b08c8d3acad9",
   "metadata": {},
   "source": [
    "<div align=\"center\">\n",
    "   <img src=\"Imagenes y Videos - Clase 07\\S03-C07-E01_7.Dividir columna.png\">\n",
    "</div>\n",
    "\n",
    "Una vez creadas, estas dos nuevas tablas se relacionarán cada una con la tabla original usando la columna Índice como key. \n",
    "\n",
    "- **Cálculo de NPS**\n",
    "- \n",
    "Para analizar la satisfacción de nuestros clientes realizamos dos acciones clave: una en el editor de queries y otra en el tablero. \n",
    "\n",
    "Primero, en Power Query, vamos a crear una columna para asignar a cada cliente la categoría que corresponda a su puntaje. Si en la pregunta del NPS respondió 6 o menos será “Detractor”, 7 u 8 será “Neutral” y 9 o 10 será “Promotor”. Eso lo hacemos con una columna condicional. "
   ]
  },
  {
   "cell_type": "markdown",
   "id": "9ca54d7a-90ca-47d7-b536-bf9ef39668d6",
   "metadata": {},
   "source": [
    "<div align=\"center\">\n",
    "   <img src=\"Imagenes y Videos - Clase 07\\S03-C07-E01_8.Columna condicional.png\">\n",
    "</div>\n",
    "\n",
    "Luego tocará hacer el cálculo del **NPS**, para lo cual deberemos calcular cuántos promotores tenemos, cuántos detractores, cuántos votos totales y dividir. \n",
    "\n",
    "```\n",
    "NPS =\n",
    "Var Promotores = CALCULATE(DISTINCTCOUNT('Starbucks satisfactory survey'[Índice]),\n",
    "    OR('Starbucks satisfactory survey'[Satisfaction rate] = 9, 'Starbucks satisfactory survey'[Satisfaction rate] = 10))\n",
    "\n",
    "Var Detractores = CALCULATE(DISTINCTCOUNT('Starbucks satisfactory survey'[Índice]),\n",
    "    AND(AND(AND('Starbucks satisfactory survey'[Satisfaction rate] <> 8, 'Starbucks satisfactory survey'[Satisfaction rate] <> 7), 'Starbucks satisfactory survey'[Satisfaction rate] <> 9), 'Starbucks satisfactory survey'[Satisfaction rate] <> 10))\n",
    "\n",
    "Var Total = DISTINCTCOUNT('Starbucks satisfactory survey'[Índice])\n",
    "\n",
    "Var Result = (Promotores-Detractores)/Total\n",
    "\n",
    "RETURN\n",
    "IF(ISBLANK(Result), \"-\", Result)\n",
    "```\n",
    "\n",
    "**Importante**: en este caso no hacemos la multiplicación por 100 porque ese paso se hará automáticamente al definir el formado de la métrica como “Porcentaje”.\n",
    "\n",
    "- **Uso de variables dentro de funciones DAX**\n",
    "¡La DAX del cálculo de NPS tiene más de una fórmula! \n",
    "\n",
    "Sí, es una fórmula DAX que utiliza variables. Estas nos sirven para realizar cálculos intermedios que luego utilizaremos para calcular un resultado final. De esta forma, las fórmulas son más fáciles de leer y mantener, además de mejorar el rendimiento. \n",
    "\n",
    "La estructura básica para definir y usar variables en DAX es la siguiente:\n",
    "\n",
    "```\n",
    "Nombre_medida = \n",
    "VAR nombre_variable = expresión\n",
    "\n",
    "RETURN \n",
    "expresión_usando_variable.\n",
    "```\n",
    "\n",
    "VAR y RETURN serán palabras clave que debemos usar siempre que creemos fórmulas DAX con variables.\n",
    "\n",
    "En el caso del cálculo de NPS, primero calculamos cuántos son los Promotores (Var Promotores), luego hacemos lo mismo con los Detractores (Var Detractores) y con el total de respuestas (Var Total).  Además, antes del RETURN creamos una última variable que llamamos “Result” donde hacemos el cálculo del NPS para poder formatearlo justamente en el último paso: Después de escribir RETURN, codeamos nuestra última fórmula que será puramente estética:  Si “Result” está en blanco, entonces queremos ver un guión, sino, queremos ver lo que haya dado Result.\n",
    "\n",
    "\n",
    "- **Filtro Top N**\n",
    "Otra particularidad de este tablero es que mostramos el Top 5 de canales para recibir promociones y de productos más comprados. Para poder hacer ese filtro, primero creamos el gráfico (en este caso, los campos salen de las tablas creadas específicamente para esas categorías) y veremos que al crearlo, a priori aparecen todas las categorías listadas. Para poder reducir la lista a las cinco con mayor cantidad de votos debemos seleccionar el gráfico, abrir el panel de filtros y elegir la opción “Top N”"
   ]
  },
  {
   "cell_type": "markdown",
   "id": "df2c861f-cb83-4773-81fd-5bd2829620b4",
   "metadata": {},
   "source": [
    "<div align=\"center\">\n",
    "   <img src=\"Imagenes y Videos - Clase 07\\S03-C07-E01_9.Top N 1.png\">\n",
    "</div>\n",
    "\n",
    "Allí nos preguntará si queremos mostrar los artículos superiores o inferiores y cuántos queremos mostrar (en este caso, elegimos superiores pero si estuviésemos analizado, por ejemplo, los productos con peor performance, elegiríamos inferiores). Luego, debemos agregar el campo por el que queremos filtrar. En este caso, agregamos el mismo campo “índice” que tenemos en el reporte y elegimos que lo muestre como “Recuento distintivo”."
   ]
  },
  {
   "cell_type": "markdown",
   "id": "d0bdc0be-6c4d-412a-9db5-784984d60962",
   "metadata": {},
   "source": [
    "<div align=\"center\">\n",
    "   <img src=\"Imagenes y Videos - Clase 07\\S03-C07-E01_10.Top N 2.png\">\n",
    "</div>\n",
    "\n",
    "- **Seguimiento y análisis de redes sociales (Twitter)**\n",
    "\n",
    "El área de **Social Analytics, o análisis de redes sociales**, en el mundo de Data Analytics, se centra en la recolección y el análisis de datos provenientes de plataformas sociales como Facebook, Twitter, Instagram, y LinkedIn. Utilizando técnicas de minería de datos, procesamiento del lenguaje natural y análisis de sentimientos, los profesionales pueden interpretar grandes volúmenes de datos no estructurados. Esto permite **identificar tendencias, entender el comportamiento del consumidor, medir la efectividad de campañas de marketing y gestionar la reputación en línea**. Al analizar interacciones y menciones en redes sociales, las empresas pueden obtener insights valiosos sobre la percepción de su marca y productos, facilitando la toma de decisiones informadas.\n",
    "\n",
    "Además, Social Analytics desempeña un papel crucial en la **gestión de crisis y la optimización de estrategias de comunicación**. Al monitorear en tiempo real las conversaciones y reacciones de los usuarios, las organizaciones pueden detectar y responder rápidamente a posibles problemas o críticas, minimizando el impacto negativo. También permite **segmentar audiencias** de manera más precisa, personalizar mensajes y mejorar la experiencia del cliente. En resumen, el análisis de redes sociales no solo proporciona una comprensión profunda del entorno digital y las dinámicas sociales, sino que también impulsa la innovación y el crecimiento mediante estrategias basadas en datos.\n",
    "\n",
    "- **KPIs más utilizados**\n",
    "\n",
    "Algunos de los KPIs más utilizados en esta industria son:\n",
    "- > **Impresiones (Alcance/Reach)**:\n",
    "  \n",
    "  Mide el número total de personas que han visto una publicación o campaña en redes sociales. Indica la visibilidad de los contenidos y el tamaño de la audiencia impactada.\n",
    "\n",
    "¿Cómo se calcula?\n",
    "$$\n",
    "\\text{Impresiones} = \\text{Número total de personas que han visto la publicación}\n",
    "$$\n",
    "\n",
    "- > **Engagement**:\n",
    "  \n",
    "  Calcula la interacción total (me gusta, comentarios, compartidos, clics) en relación con el número de seguidores o impresiones. Evalúa el nivel de interacción y la relevancia del contenido para la audiencia.\n",
    "¿Cómo se calcula?\n",
    "\n",
    "En relación con impresiones:\n",
    "$$\n",
    "\\text{Engagement Rate} = \\frac{\\text{Total de Interacciones}}{\\text{Total de Impresiones}} × 100\n",
    "$$\n",
    "En relación con seguidores:\n",
    "$$\n",
    "\\text{Engagement Rate} = \\frac{\\text{Total de Interacciones}}{\\text{Total de Seguidores}} × 100\n",
    "$$\n",
    "- > **Tasa de Clics (Click-Through Rate - CTR)**:\n",
    "  \n",
    "  Mide el porcentaje de personas que hacen clic en un enlace o anuncio respecto al total de impresiones. Indica la efectividad de los llamados a la acción y el interés generado por el contenido.\n",
    "$$\n",
    "\\text{CTR} = \\frac{\\text{Número total de clics}}{\\text{Total de Impresiones}} × 100\n",
    "$$\n",
    "\n",
    "\n",
    "---"
   ]
  },
  {
   "cell_type": "markdown",
   "id": "de8e101f-20f8-4cfc-98db-980ec6aa0bbd",
   "metadata": {},
   "source": [
    "### Ejemplo: Campañas publicitarias en Twitter/X \n",
    "Tablero terminado: _..\\00.Notebooks Teoría\\Tableros semana 3\\Social Analytics_\n",
    "\n",
    "En este tablero podemos observar el caso de una empresa que realiza **campañas publicitarias a través de la red social Twitter o X**. En este caso puntual, se está analizando una **campaña que se desarrolló durante el año 2020 para medir su efectividad y con intención de repetirla en la actualidad**. El dashboard busca medir algunos KPIs concretos, como # de likes, # de respuestas a los tweets generados, # de retweets, # de clicks a la URL, entre otros. Además, se pueden ver gráficos que miden las impresiones a lo largo del tiempo y el engagement total por mes. En una tabla, el equipo de social analytics de la empresa busca **identificar los horarios y días de la semana en los que la campaña tuvo mayor éxito**.\n",
    "\n",
    "\n",
    "- **Modelo**\n",
    "  \n",
    "El modelo de datos se ve de la siguiente manera:\n",
    "\n",
    "<div align=\"center\">\n",
    "   <img src=\"Imagenes y Videos - Clase 07\\S03-C07-E02_1.Modelo-SA.png\">\n",
    "</div>\n",
    "\n",
    "> **SocialMedia**:\n",
    "Es una tabla que agrupa las principales métricas de Twitter (impresiones, likes, retweets, respuestas, clics en URL, etc.) sobre cada tweet realizado, además de contener el texto del tweet en sí mismo con su fecha.\n",
    "\n",
    "> **Días Semana**:\n",
    "Tabla auxiliar realizada especialmente para ordenar los días de la semana de lunes a domingo.\n",
    "\n",
    "\n",
    "- **Cálculos y transformaciones principales**\n",
    "  \n",
    "- Para poder ordenar la tabla que incluye días de la semana, se incorporó una tabla de orden en conexión con el modelo de la misma forma que en el tablero anterior.\n",
    "- Se transformó la variable de fecha duplicando la columna y convirtiendo a hora y día la fecha desde Power Query.\n",
    "- En nuestro caso, los engagements ya venían calculados dentro de la tabla como una columna más. Para calcular el total de impresiones usamos una tarjeta → Suma de ‘Social Media’[impressions]\n",
    "- Para calcular la CTR (tasa de clics) utilizamos el campo que cuenta los clics al perfil de usuario que publicó el tweet. Lo dividimos por el total de impresiones y multiplicamos el cociente por 100 para obtener una tasa. Finalmente, convertimos el tipo de dato a porcentaje.\n",
    "\n",
    "```\n",
    "CTR = DIVIDE(SUM(SocialMedia[user profile clicks]), SUM(SocialMedia[impressions])) * 100\n",
    "```\n",
    "\n",
    "- **Formato condicional**\n",
    "  \n",
    "Para este tablero hemos creado una tabla con formato condicional de colores, que indica los días y horarios con mayor engagement. El formato condicional se elige a partir del botón “fx”, y en este caso es del tipo “degradado”. En nuestro caso, estamos aplicando formato condicional a los elementos de celda de la tabla."
   ]
  },
  {
   "cell_type": "markdown",
   "id": "34af15db-4d19-45ec-bd86-ee719c4272d5",
   "metadata": {},
   "source": [
    "<div align=\"center\">\n",
    "   <img src=\"Imagenes y Videos - Clase 07\\S03-C07-E02_2.Formato condicional 1.png\">\n",
    "</div>"
   ]
  },
  {
   "cell_type": "markdown",
   "id": "4563bfc4-5add-4aa6-8784-3641c0501cb4",
   "metadata": {},
   "source": [
    "<div align=\"center\">\n",
    "   <img src=\"Imagenes y Videos - Clase 07\\S03-C07-E02_3.Formato condicional 2.png\">\n",
    "</div>\n",
    "\n",
    "Al abrirse la ventana del formato condicional, tenemos varias opciones de estilo. Elegimos el degradado, pero también se pueden establecer reglas en base al valor de un campo o en base a una regla puntual que definimos de manera personalizada (por ejemplo, arriba de X valor la celda se pinta de un color y por debajo, de otro). Aplicamos a “Solo valores” y luego elegimos el campo en base al cual se va a establecer el degradado (debe ser un campo cuantitativo), y elegimos la medida de resumen (en nuestro caso, la suma de los engagements, pero podría ser el promedio, el recuento, etc,). Establecemos un valor mínimo y uno máximo de color y el degradado se va a configurar, la ventana incluso nos muestra la vista previa de los colores del más claro (valor más bajo) al más oscuro (destinado al máximo valor de la serie). Podemos incluso definir un color intermedio para personalizar aún más el degradado.\n",
    "\n",
    "- **Funcionalidades**\n",
    "  \n",
    "    - Segmentador de fecha: para poder identificar momentos álgidos de la campaña con mayor facilidad. La fecha se limpió y formateó para no incluir horario y otros datos que no eran relevantes en este caso.\n",
    "    - Encabezado con título y logo del área de social analytics."
   ]
  },
  {
   "cell_type": "markdown",
   "id": "c74e02da-b6da-4da0-b9f9-ff9fac18f232",
   "metadata": {},
   "source": [
    "<div align=\"center\">\n",
    "   <img src=\"Imagenes y Videos - Clase 07\\S03-C07-E02_4.Tablero.png\">\n",
    "</div>"
   ]
  },
  {
   "cell_type": "code",
   "execution_count": null,
   "id": "9550d5da-3e0f-45a8-8331-052f2693ffd2",
   "metadata": {},
   "outputs": [],
   "source": [
    "##############################################################################################################################"
   ]
  }
 ],
 "metadata": {
  "kernelspec": {
   "display_name": "Python 3 (ipykernel)",
   "language": "python",
   "name": "python3"
  },
  "language_info": {
   "codemirror_mode": {
    "name": "ipython",
    "version": 3
   },
   "file_extension": ".py",
   "mimetype": "text/x-python",
   "name": "python",
   "nbconvert_exporter": "python",
   "pygments_lexer": "ipython3",
   "version": "3.11.7"
  }
 },
 "nbformat": 4,
 "nbformat_minor": 5
}
