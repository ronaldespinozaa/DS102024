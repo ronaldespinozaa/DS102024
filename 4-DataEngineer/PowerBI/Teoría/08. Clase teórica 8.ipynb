{
 "cells": [
  {
   "cell_type": "markdown",
   "id": "19c04448-3e55-4129-ac9f-232fb52a60c9",
   "metadata": {},
   "source": [
    "## Clase teórica 08\n",
    "\n",
    "1. ### Monitoreo, Evaluación y Aprendizaje (MEL)\n",
    "\n",
    "\n",
    "El área de **Monitoreo, Evaluación y Aprendizaje** (o MEL, sigla por su nombre en inglés: Monitoring evaluation and learning ) en el ámbito de Data Analytics se enfoca en la recopilación, análisis e interpretación de datos para evaluar el rendimiento de proyectos y programas. Utilizando herramientas analíticas avanzadas, los profesionales de MEL pueden identificar tendencias, medir el impacto y detectar áreas de mejora en el mundo de la filantropía y la inversión social/de impacto. El monitoreo continuo permite una visión en tiempo real del progreso, asegurando que las iniciativas se mantengan alineadas con los objetivos establecidos. La evaluación sistemática, por otro lado, proporciona una revisión detallada de los resultados, facilitando una comprensión profunda de los factores de éxito y las barreras enfrentadas.\n",
    "\n",
    "El componente de aprendizaje en MEL es crucial para cerrar el ciclo de retroalimentación. Al analizar los datos y resultados obtenidos, **las organizaciones pueden extraer lecciones valiosas que informan futuras estrategias y decisiones**. Este enfoque iterativo promueve la mejora continua y la adaptabilidad, permitiendo a las organizaciones responder de manera más efectiva a los cambios y desafíos. En resumen, MEL en Data Analytics no solo asegura la eficacia y eficiencia de los proyectos, sino que también fomenta una cultura de aprendizaje y desarrollo constante.\n",
    "\n",
    "- **KPIs más utilizados**\n",
    "\n",
    "Algunos de los KPIs más utilizados por los equipos MEL en el tercer sector son:\n",
    "\n",
    "1. **Retorno Social de la Inversión (Social Return on Investment - SROI)**: Analiza el valor social generado por el proyecto en relación con el costo invertido. Sirve para proporcionar una visión económica del impacto social, facilitando la comparación entre distintas iniciativas.\n",
    "\n",
    "- **¿Cómo se calcula?**\n",
    "    1. Primero, debemos calcular el valor total de los beneficios:\n",
    "    $$\n",
    "    \\text{Valor Total de los Beneficios} = \\sum_{}^{} \\text{Valor Monetario de cada Resultado} × \\text{Cantidad de Resultados}\n",
    "    $$\n",
    "    2. Luego, el valor total de las inversiones realizadas en el proyecto\n",
    "    $$\n",
    "    \\text{Valor total de las inversiones} = \\sum_{}^{} \\text{Valor Monetario de cada Inversión}\n",
    "    $$\n",
    "    3. Calcular el SROI:\n",
    "    $$\n",
    "    \\text{SROI} = \\frac{\\text{Valor Total de los Beneficios}}{\\text{Valor Total de las Inversiones}}\n",
    "    $$\n",
    "- **¿Cómo se interpreta?**\n",
    "  \n",
    "Si obtenemos un **SROI** de \\\\$3,14, esto significa que por cada \\\\$1 invertido se generan \\\\$3 de valor social.\n",
    "\n",
    "\n",
    "2. **Tasa de Participación**: Calcula el porcentaje de la población objetivo que participa en el programa o proyecto. Mediante un indicador más exigente podemos calcular la tasa de graduación o finalización del programa. Ayuda a medir el alcance y la aceptación de la intervención entre los beneficiarios previstos.\n",
    "\n",
    "\n",
    "- **¿Cómo se calcula?**\n",
    "    $$\n",
    "    \\text{Tasa de Participación} = \\frac{\\text{Número de Participantes Elegibles o Esperados}}{\\text{Número de Participantes Reales}} × 100\n",
    "    $$\n",
    "\n",
    "- **¿Cómo se interpreta?**\n",
    "  \n",
    "Podemos saber qué porcentaje de los candidatos elegibles del programa efectivamente terminaron participando. Un programa con alta tasa de abandono debería replantearse su estructura para obtener mayor retención. Se considera que tasas de participación por encima de 80% son altas, mientras que por debajo del 50% son tasas bajas.\n",
    "\n",
    "3. **Satisfacción de los Beneficiarios**: Recoge la percepción y satisfacción de los beneficiarios respecto a los servicios o intervenciones recibidas. Ofrece una medida cualitativa o cuantitativa del éxito, asegurando que las necesidades y expectativas de los beneficiarios se están cumpliendo. La medida cuantitativa más utilizada es el NPS, que pasaremos a ver en un tablero de la próxima clase.\n",
    "\n",
    "---"
   ]
  },
  {
   "cell_type": "markdown",
   "id": "51d3ead6-f67a-4955-862d-81ffc3a7c5eb",
   "metadata": {},
   "source": [
    "### Ejemplo: Programa de capacitación para adultos jóvenes en Argentina\n",
    "Tablero terminado: _..\\00.Notebooks Teoría\\Tableros semana 3\\MEL_\n",
    "\n",
    "En este primer tablero veremos el caso de monitoreo de un programa social que ofrece **capacitación a jóvenes adultos** que todavía siguen en la escuela pero que trabajan o buscan trabajo en paralelo. Los talleres que ofrece la organización potencian las habilidades blandas y técnicas de estos jóvenes que se encuentran en una edad crítica para buscar empleo y comenzar su carrera profesional. El programa se desarrolla en el área metropolitana de Buenos Aires, Argentina. El coordinador del proyecto solicitó a su equipo un tablero de seguimiento de los **principales indicadores de proceso** del programa: # de alumnos, # de talleres, # de escuelas. Además, el equipo cuenta con un **perfil sociodemográfico y laboral** de cada joven que se obtiene a partir de la encuesta de entrada al programa, que se aplica cuando los jóvenes postulan. Por último, el equipo de la ONG que implementa el programa puede conocer el **funnel o embudo** del mismo, que muestra cuántos jóvenes pasan por cada etapa, y cuál es la tasa de conversión o graduación de las capacitaciones.\n",
    "\n",
    "- **Modelo**\n",
    "\n",
    "El modelo de datos se ve de la siguiente manera\n",
    "\n",
    "<div align=\"center\">\n",
    "   <img src=\"Imagenes y Videos - Clase 08\\S03-C08-E01_1.Modelo-MEL.png\">\n",
    "</div>\n",
    "\n",
    "- **Las tablas conectadas son**:\n",
    "\n",
    "- **Alumnos**: contiene la información que completaron los alumnos al ingresar al programa (su perfil socio demográfico, su situación laboral, su conocimiento previo a ingresar de los conocimientos que el programa busca incorporar, así como la etapa que alcanzaron en el marco del programa).\n",
    "- **Talleres**: es la tabla donde se toma el presente de los distintos talleres dictados en el programa. Se relaciona con Alumnos gracias al ID de alumno. Es una relación uno a muchos porque un alumno puede asistir a varios talleres.\n",
    "- **Escuelas**: contiene la información (nombre, dirección, tipo, sector, etc.) de cada escuela. Se relaciona con los alumnos a través del ID de escuela, donde cada escuela puede albergar varios alumnos.\n",
    "- **Orden nivel educativo**: es una tabla auxiliar creada con el único fin de otorgar un orden cardinal a la variable del nivel educativo de los padres de los alumnos. Con la herramienta “Introducir datos” podemos crear este tipo de tablas que se componen de una columna con la categoría a ordenar (en este caso el nivel educativo) y otra columna que la ordena. Si conectamos correctamente la tabla, podemos elegir la categoría de la tabla auxiliar a la hora de hacer visualizaciones, y ordenar dicha tabla por la columna numérica para luego poder ordenar el eje de acuerdo a esos números en orden y no de acuerdo al nombre en orden alfabético de las categorías (algo que Power Bi suele hacer por default con datos de tipo texto).\n",
    "- **Recursos**: es una tabla que contiene el detalle de los recursos económicos que se invirtieron en el programa. No la conectamos a ninguna tabla porque no necesitamos filtrar ni relacionar esos datos con otros. La tabla nos va a servir para calcular algunas medidas sobre los costos del programa.\n",
    "\n",
    "- **Cálculos y transformaciones principales**\n",
    "- Para poder ordenar el gráfico de máximo nivel educativo alcanzado por las madres de los jóvenes inscriptos se incluyó una tabla de orden en conexión con el modelo.\n",
    "- Se incluyeron las medidas de conteo distintivo de alumnos y de promedio de alumnos por escuela para facilitar el trabajo con KPIs y gráficos de las hojas 1-3.\n",
    "  \n",
    "```\n",
    "Count_alumnos = DISTINCTCOUNT(Alumnos[ID alumno])\n",
    "\n",
    "promedioxescuela = Alumnos[count_alumnos]/DISTINCTCOUNT(Escuelas[IdEscuela])\n",
    "```\n",
    "\n",
    "Para el cálculo de el **SROI** se hicieron algunos cálculos auxiliares que funcionan como insumo para este KPI final.\n",
    "```\n",
    "Inversión = SUM(Recursos[Valor ($)])\n",
    "```\n",
    "Sumamos el total de recursos monetarios invertidos.\n",
    "```\n",
    "Costo por beneficiario = [Inversión]/Alumnos[count_alumnos]\n",
    "```\n",
    "Calculamos el cociente entre la inversión total realizada y el total de alumnos que pasaron por el programa para calcular un costo individual por persona beneficiada.\n",
    "```\n",
    "beneficio = CALCULATE(SUM(Alumnos[18. Ingresos]), Alumnos[Etapa del programa] = \"Graduación\")\n",
    "```\n",
    "Calculamos el beneficio total obtenido, sumando el total de los ingresos que reciben los alumnos por trabajar y filtrando ese dato por los alumnos que se graduaron del programa, para solo tener en cuenta a quienes atravesaron toda la intervención.\n",
    "```\n",
    "SROI = [beneficio]/[Inversión]\n",
    "```\n",
    "Finalmente, calculamos el SROI dividiendo los beneficios obtenidos por la inversión total realizada.\n",
    "\n",
    "- **Funnel de conversión**\n",
    "\n",
    "En este tablero incluímos un embudo que muestra la cantidad de alumnos por la etapa que cada uno alcanzó. El objeto visual de embudo o funnel viene por default con Power Bi desktop. Los datos que debemos completar al realizarlo son “Categoría” y “Valor”. En nuestro caso, la categoría se completa con la Etapa del programa a la cual cada alumnos llegó, y el valor es el conteo de alumnos que habíamos realizado previamente. "
   ]
  },
  {
   "cell_type": "markdown",
   "id": "3815f8c3-ea13-492a-b482-5840921110a2",
   "metadata": {},
   "source": [
    "<div align=\"center\">\n",
    "   <img src=\"Imagenes y Videos - Clase 08\\S03-C08-E01_2.Funnel 1.png\">\n",
    "</div>\n",
    "\n",
    "De esta forma, el embudo hace un conteo por etapa que grafica con barras que se van achicando a medida que la etapa avanza. Al final, nos muestra el porcentaje que llegó a la última etapa respecto del universo de la primera etapa, lo que significa en nuestro tablero un cálculo automático de la tasa de participación."
   ]
  },
  {
   "cell_type": "markdown",
   "id": "a010b8cf-9154-400a-97be-73b108965749",
   "metadata": {},
   "source": [
    "<div align=\"center\">\n",
    "   <img src=\"Imagenes y Videos - Clase 08\\S03-C08-E01_3.Funnel 2.png\">\n",
    "</div>\n",
    "\n",
    "- **Word Cloud**\n",
    "Con este objeto visual obtenido de Custom Visuals se observa un resumen de los comentarios que los alumnos dejaron sobre el programa en la encuesta de salida. En “Categoría” volcamos nuestro campo de texto (en este caso, el comentario de los jóvenes sobre el programa) y la nube se genera automáticamente, con todas las palabras que Power Bi encuentra, cuyo tamaño va a depender de la cantidad de repeticiones de cada palabra."
   ]
  },
  {
   "cell_type": "markdown",
   "id": "50b0e515-3ab6-461a-bb8c-ee67b466f836",
   "metadata": {},
   "source": [
    "<div align=\"center\">\n",
    "   <img src=\"Imagenes y Videos - Clase 08\\S03-C08-E01_4. Word cloud.png\">\n",
    "</div>\n",
    "\n",
    "Algo importante a tener en cuenta sobre este gráfico es que podemos eliminar “stop words”, es decir, palabras que no aportan significado al texto escrito por si solas, como preposiciones, artículos, etc. En la configuración del gráfico activamos la opción Stop Words y escribimos las palabras que notamos que es mejor evitar visualizar, separadas por espacios. Otra alternativa es incluir una tabla en el modelo que incluya todas las stop words a quitar de las nubes de palabras."
   ]
  },
  {
   "cell_type": "markdown",
   "id": "fc40e28f-89d7-4875-96ab-2f4451d67f5a",
   "metadata": {},
   "source": [
    "<div align=\"center\">\n",
    "   <img src=\"Imagenes y Videos - Clase 08\\S03-C08-E01_5. Stop words.png\">\n",
    "</div>\n",
    "\n",
    "En este gráfico también podemos customizar los colores de las palabras, la forma en la que rota el texto, además de otras cuestiones comunes a todos los gráficos como el título, tamaño, estilo, etc.\n",
    "\n",
    "- **Funcionalidades**\n",
    "\n",
    "    - **Menú de botones**: se incluye un menú en el wireframe del tablero con un botón por página para facilitar la navegación. Abajo a la izquierda, un botón de flecha para volver hacia atrás.\n",
    "    \n",
    "    - **Segmentadores**: distrito y escuela son las variables elegidas para segmentar los datos en cada página."
   ]
  },
  {
   "cell_type": "markdown",
   "id": "b86d8902-c4b1-4dfd-8a73-3d62d966e854",
   "metadata": {},
   "source": [
    "<div align=\"center\">\n",
    "   <img src=\"Imagenes y Videos - Clase 08\\S03-C08-E01_6. Tablero.png\">\n",
    "</div>\n",
    "\n",
    "---"
   ]
  },
  {
   "cell_type": "markdown",
   "id": "40f8aec5-a544-4e38-8ebb-2792cd9817ea",
   "metadata": {},
   "source": [
    "- **People Analytics**\n",
    "\n",
    "En este apartado nos enfocaremos en People Analytics, una disciplina clave en el ámbito de la gestión de recursos humanos y la toma de decisiones estratégicas sobre el personal. People Analytics se refiere al uso de datos y análisis para comprender y mejorar cómo las personas contribuyen al éxito organizacional. Utiliza datos recopilados de diversas fuentes, como encuestas de empleados, sistemas de recursos humanos, y plataformas de productividad, para tomar decisiones informadas sobre la contratación, el desarrollo, la retención y el rendimiento de los empleados.\n",
    "\n",
    "- **KPIs más utilizados**\n",
    "    \n",
    "En términos generales, el foco estará en entender la composición de la **plantilla de empleados** (en inglés, headcount) pero también cómo son las contrataciones (hires) y, sobre todo, cómo son las **terminaciones** (terminations). Este último es un KPI  clave para la gestión de recursos humanos porque permite identificar las causas y patrones detrás de la rotación de empleados. Contratar y formar a un empleado es un proceso costoso, y si esa persona se va muy rápido de la empresa, la inversión no alcanza a generar un retorno, lo que hace crucial entender y abordar las razones de las terminaciones para mejorar la retención y maximizar el retorno de la inversión en el personal.\n",
    "\n",
    "### Ejemplo: MFG\n",
    "Tablero terminado: _..\\00.Notebooks Teoría\\Tableros semana 3\\People Analytics_\n",
    "\n",
    "En este caso, veremos el ejemplo de análisis del área de recursos humanos de una empresa llamada MFG con datos que van del 2006 al 2015. El tablero consta de dos páginas: por un lado, un análisis de tendencias de los principales KPIs (Plantilla de empleados, Contrataciones y Terminaciones) y, por el otro, un análisis específico de las terminaciones. \n",
    "\n",
    "Mientras la primera página puede ayudar a los usuarios clave del tablero a identificar patrones y anomalías, la segunda página permitirá hacer un análisis en detalle de las terminaciones, respondiendo a preguntas como ¿en qué departamentos hubo más terminaciones voluntarias? ¿Hay un sesgo de género en las terminaciones? ¿Con qué antigüedad están dejando la empresa los empleados?\n",
    "\n",
    "<div align=\"center\">\n",
    "   <img src=\"Imagenes y Videos - Clase 08\\S03-C08-E02_ 1. Modelo PA.png\">\n",
    "</div>\n",
    "\n",
    "Como podemos ver, si bien el modelo es muy simple ya que tiene solo dos tablas, existen tres relaciones entre ellas:\n",
    "- **CALENDARIO[Date] - MFG Term Data[Term date]** que es una relación activa (solo una puede serlo)\n",
    "- **CALENDARIO[Date] - MFG Term Data[Hire date]** que es una relación inactiva\n",
    "- **CALENDARIO[Date] - MFG Term Data[Record Date]** que es una relación inactiva\n",
    "\n",
    "¿Por qué elegimos que la relación activa sea con Term Date? Porque es la columna que necesitamos usar en uno de nuestros segmentadores en la página 2 del tablero. \n",
    "\n",
    "¿Y las otras relaciones? Las utilizaremos en nuestros cálculos DAX. ¡Lo veremos más adelante en esta misma clase! Por ahora, es importante saber que estas tres relaciones son necesarias para nuestro modelo. \n",
    "\n",
    "- **Fechas**\n",
    "\n",
    "Existe un problema recurrente en Power BI con las columnas de fechas: en nuestros datasets, estas pueden estar en formato español (día/mes/año) o en formato inglés (mes/día/año). Si la configuración de nuestra herramienta está en español, reconocerá el primer formato de fecha y no el segundo… y viceversa.\n",
    "\n",
    "En nuestro ejemplo, el dataset de MFG tiene las fechas en inglés. Por eso, para lograr formatear las columnas como “Fecha” debemos realizar algunos pasos de limpieza específicos:\n",
    "\n",
    "Primero, debemos seleccionar la columna y dividirla por el delimitador que tenga (en este caso, es “/” pero podría ser “-” u otros)"
   ]
  },
  {
   "cell_type": "markdown",
   "id": "61684e8f-73c9-431e-87f6-11e472531eae",
   "metadata": {},
   "source": [
    "<div align=\"center\">\n",
    "   <img src=\"Imagenes y Videos - Clase 08\\S03-C08-E02_ 2. fechas dividir columna.png\">\n",
    "</div>\n",
    "\n",
    "Esto nos creará tres columnas, que llamaremos “Mes”, “Día” y “Año” y a las cuales les asignaremos el formato número entero. Por último, seleccionaremos las tres columnas en el orden que queremos (es decir, primero cliqueamos en Día, luego presionando ctrl cliqueamos Mes y Año) y las combinamos para crear una nueva columna de fecha"
   ]
  },
  {
   "cell_type": "markdown",
   "id": "a45fb5b7-df98-4b03-a8ed-3015c3d89f37",
   "metadata": {},
   "source": [
    "<div align=\"center\">\n",
    "   <img src=\"Imagenes y Videos - Clase 08\\S03-C08-E02_ 3. fechas combinar columna.png\">\n",
    "</div>"
   ]
  },
  {
   "cell_type": "markdown",
   "id": "d23cc4be-6d87-4912-9af4-68070cefa023",
   "metadata": {},
   "source": [
    "<div align=\"center\">\n",
    "   <img src=\"Imagenes y Videos - Clase 08\\S03-C08-E02_ 4. fechas combinar columna separador.png\">\n",
    "</div>\n",
    "\n",
    "Uso de relaciones inactivas en cálculos DAX\n",
    "Una vez realizadas todas nuestras tareas de ETL crearemos nuestras medidas calculadas:\n",
    "\n",
    "```\n",
    "Plantilla de empleados =\n",
    "CALCULATE(DISTINCTCOUNT('MFG Term data'[EmployeeID]),\n",
    "'MFG Term data'[STATUS] = \"ACTIVE\",\n",
    "USERELATIONSHIP(CALENDARIO[Date], 'MFG Term data'[Record Date])) + 0\n",
    "\n",
    "Contrataciones =\n",
    "CALCULATE(DISTINCTCOUNT('MFG Term data'[EmployeeID]),\n",
    "'MFG Term data'[STATUS] = \"ACTIVE\",\n",
    "USERELATIONSHIP(CALENDARIO[Date], 'MFG Term data'[Hire date])) + 0\n",
    "\n",
    "Terminaciones =\n",
    "CALCULATE(DISTINCTCOUNT('MFG Term data'[EmployeeID]),\n",
    "'MFG Term data'[STATUS] = \"TERMINATED\",\n",
    "USERELATIONSHIP(CALENDARIO[Date], 'MFG Term data'[Term date])) + 0\n",
    "\n",
    "```\n",
    "\n",
    "Como vemos, las tres fórmulas son muy parecidas pero, además de cambiar el status, cambia la relación entre fechas que usamos. Esto lo hacemos  a través de la función USERLATIONSHIP() que nos permite pedirle a la fórmula que, a la hora de calcular el KPI utilice alguna de las relaciones inactivas que tenemos. \n",
    "\n",
    "Para calcular el número de empleados de un momento dado, usamos la columna “Record Date” ya que queremos saber qué personas estaban activas en ese momento. En cambio, para calcular las contrataciones, tenemos que tener en cuenta la fecha en la que esa contratación se dio. Por último, si queremos saber cuándo los empleados se van de la empresa, nos interesa la term date. Aquí una aclaración importante: en tanto Date-Term Date es la relación activa del modelo, para esta DAX no haría falta declarar el USERELATIONSHIP() ya que la usaría de forma predeterminada. Sin embargo, como tenemos varias relaciones, no está de más agregar esa sentencia que nos ayudará en el futuro a recordar qué columna de fecha se utiliza en cada caso. \n",
    "\n",
    "Además de los tres KPIs principales, creamos dos medidas que nos permitirán diferenciar las terminaciones voluntarias e involuntarias:\n",
    "```\n",
    "Terminaciones Voluntarias = CALCULATE('MFG Term data'[Terminaciones], 'MFG Term data'[termtype_desc] = \"Voluntary\")\n",
    "\n",
    "Terminaciones Involuntarias = CALCULATE('MFG Term data'[Terminaciones], 'MFG Term data'[termtype_desc] = \"Involuntary\")\n",
    "```\n",
    "\n",
    "- **Antigüedad**\n",
    "En este tablero, también hemos creado la columna calculada Antigüedad, para poder utilizarla como filtro: \n",
    "\n",
    "```\n",
    "Antiguedad (Años) =\n",
    "IF(\n",
    "    ISBLANK('MFG Term data'[Term date]),\n",
    "    DATEDIFF('MFG Term data'[Hire date],'MFG Term data'[Record Date], YEAR),\n",
    "    DATEDIFF('MFG Term data'[Hire date], 'MFG Term data'[Term date], YEAR))\n",
    "```\n",
    "\n",
    "En este caso, utilizando la función IF() declaramos que, si la Term Date está vacía, calcule la diferencia en años de la fecha de contratación y la fecha de registro. En cambio, si la term date existe, queremos calcular la diferencia en años de la fecha de contratación y la fecha de terminación.\n",
    "\n",
    "- **Parámetros**\n",
    "\n",
    "Por último nos enfocaremos en la visualización dinámica de la página “Análisis de terminaciones” creada con un Parámetro.\n",
    "\n",
    "- **¿Qué son los parámetros en Power BI y para qué sirven?**\n",
    "Los parámetros en Power BI son valores dinámicos que se pueden utilizar para modificar el contenido de las consultas, lo que permite crear informes interactivos y personalizados.\n",
    "\n",
    "Los parámetros pueden definirse como variables que pueden tomar valores de campos de nuestro modelo o intervalos numéricos, y estos valores pueden ser utilizados en las fórmulas DAX, en los filtros de visualizaciones, o en las consultas de datos. \n",
    "\n",
    "Veamos cómo creamos nuestra visualización dinámica:\n",
    "\n",
    "- El primer paso es crear el parámetro. Esto lo hacemos desde el menú Modelado > Parámetro nuevo > Campos"
   ]
  },
  {
   "cell_type": "markdown",
   "id": "09fa5eec-b58a-47ed-b8c7-f52923068fa9",
   "metadata": {},
   "source": [
    "<div align=\"center\">\n",
    "   <img src=\"Imagenes y Videos - Clase 08\\S03-C08-E02_ 5. Parámetro nuevo.png\">\n",
    "</div>\n",
    "Allí debemos elegir qué campos queremos tener en nuestro parámetro"
   ]
  },
  {
   "cell_type": "markdown",
   "id": "6680068b-ae68-43fc-9cae-1130957bf445",
   "metadata": {},
   "source": [
    "<div align=\"center\">\n",
    "   <img src=\"Imagenes y Videos - Clase 08\\S03-C08-E02_ 6. Parámetro nuevo_campos.png\">\n",
    "</div>\n",
    "\n",
    "Al clickear Crear, se generará una nueva tabla, con una sola columna que será nuestro parámetro. Una buena práctica es cambiar los títulos de los parámetros (en la fórmula DAX, las expresiones que aparecen entre comillas en color rojo al principio de cada línea) para que no muestren los nombres originales de las columnas sino términos más amigables para el usuario: "
   ]
  },
  {
   "cell_type": "markdown",
   "id": "57f9b4d2-8e0b-4df8-851e-3dcb2559908c",
   "metadata": {},
   "source": [
    "<div align=\"center\">\n",
    "   <img src=\"Imagenes y Videos - Clase 08\\S03-C08-E02_ 7. Parámetro creado.png\">\n",
    "</div>\n",
    "\n",
    "Una vez creado, ya podemos utilizar el parámetro para nuestras visualizaciones: generamos la botonera usando el objeto visual de Segmentación de datos y elegimos nuestra columna parámetro como campo."
   ]
  },
  {
   "cell_type": "markdown",
   "id": "ea08fdcb-cf97-4f1a-a29b-a84ac26ddbef",
   "metadata": {},
   "source": [
    "<div align=\"center\">\n",
    "   <img src=\"Imagenes y Videos - Clase 08\\S03-C08-E02_ 8. Parámetro botonera.png\">\n",
    "</div>\n",
    "\n",
    "Por último, creamos nuestro gráfico de barras, que en el eje X  mostrará la medida Terminaciones y en el eje Y, el parámetro. Esta configuración del gráfico hará que, al clickear uno de los botones del segmentador, el gráfico de barras se transforme visualizando la dimensión elegida. No solo cambiarán los valores del eje Y y la distribución de la medida, sino también el título de la visualización."
   ]
  },
  {
   "cell_type": "markdown",
   "id": "341cc9bb-e1bf-49ba-95f5-52ed3dd1ade7",
   "metadata": {},
   "source": [
    "<div align=\"center\">\n",
    "   <img src=\"Imagenes y Videos - Clase 08\\S03-C08-E02_ 9. Parámetro barras.png\">\n",
    "</div>"
   ]
  },
  {
   "cell_type": "code",
   "execution_count": null,
   "id": "e749002b-8720-4ef1-a55e-5424c46ead48",
   "metadata": {},
   "outputs": [],
   "source": [
    "##############################################################################################################################"
   ]
  }
 ],
 "metadata": {
  "kernelspec": {
   "display_name": "Python 3 (ipykernel)",
   "language": "python",
   "name": "python3"
  },
  "language_info": {
   "codemirror_mode": {
    "name": "ipython",
    "version": 3
   },
   "file_extension": ".py",
   "mimetype": "text/x-python",
   "name": "python",
   "nbconvert_exporter": "python",
   "pygments_lexer": "ipython3",
   "version": "3.11.7"
  }
 },
 "nbformat": 4,
 "nbformat_minor": 5
}
