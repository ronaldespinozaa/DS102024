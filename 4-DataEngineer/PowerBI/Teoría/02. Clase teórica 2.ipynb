{
 "cells": [
  {
   "cell_type": "markdown",
   "id": "83de3a3e-8f67-4d9e-b0b6-c875d644a9aa",
   "metadata": {},
   "source": [
    "## Clase teórica 2"
   ]
  },
  {
   "cell_type": "markdown",
   "id": "be087b95-15a9-466f-8916-ca08b36feb01",
   "metadata": {},
   "source": [
    "#### **CALCULATE()**: La reina de las DAX\n",
    "\n",
    "En la clase anterior presentamos el lenguaje **DAX** y conocimos algunas funciones básicas que nos permiten realizar cálculos para crear medidas y columnas calculadas. \n",
    "\n",
    "Estas funciones son muy útiles y como analistas las utilizamos todo el tiempo. Sin embargo, cuando el análisis requiere la aplicación de condiciones o contextos específicos debemos combinarlas con **CALCULATE()**. \n",
    "\n",
    "**CALCULATE** es una de las funciones más poderosas, versátiles y utilizadas en **DAX** ya que nos permite realizar un cálculo dándole un contexto específico. Esta función es esencial para la creación de medidas dinámicas y personalizadas.\n",
    "\n",
    "La sintaxis de la función es la siguiente:\n",
    "\n",
    "```\n",
    "CALCULATE(Expression, [Filter1], [Filter2], ...)\n",
    "```\n",
    "\n",
    "La primera parte (Expression) es una función como las que conocimos en la clase anterior. Por ejemplo, podría ser un **COUNT(column)** o **SUM(column)**. Lo que **CALCULATE** agrega es la posibilidad de aplicar uno o más filtros específicos a esa expresión, modificando el conjunto de datos que se considerará al calcular la expresión.\n",
    "\n",
    "Por ejemplo, supongamos que tenemos una tabla de ventas y queremos calcular la suma de SalesAmount pero solo para un producto específico. Podemos usar CALCULATE de la siguiente manera:\n",
    "\n",
    "```\n",
    "Sales-A123 = CALCULATE(SUM([SalesAmount]), [ProductID] = \"A123\")\n",
    "```\n",
    "\n",
    "En este ejemplo, **CALCULATE** aplica un filtro para que solo se consideren las filas donde **ProductID** es igual a \"A123\". La función **SUM**, entonces, se evalúa en este contexto filtrado. Esto quiere decir que la función **Sales-A123** únicamente sumará las ventas si corresponden al producto A123 y dejará afuera de la suma todas las demás ventas asociadas a otros productos. "
   ]
  },
  {
   "cell_type": "markdown",
   "id": "96bbbe31-1b2a-472c-b588-0b1939ca4ef9",
   "metadata": {},
   "source": [
    "#### **DAX** en la vida real: ¿memorizar todo?\n",
    "\n",
    "Saber de memoria todas las funciones dax con sus parámetros es difícil y, sobre todo, innecesario. Si bien con la práctica iremos incorporando la sintaxis de muchas funciones, hasta el más experimentado analista usa las herramientas disponibles para saber qué función (o combinación de funciones) es la mejor para lograr el cálculo que necesitamos. A continuación tenemos algunos recorridos posibles para encontrar la fórmula correcta:\n",
    "\n",
    "- **Mirar la Página oficial de Microsoft**: [https://learn.microsoft.com/es-es/dax/](https://learn.microsoft.com/es-es/dax/) \n",
    "\n",
    "La documentación oficial de Microsoft es uno de los recursos más confiables y completos para aprender sobre DAX. Allí podemos encontrar descripciones detalladas de todas las funciones DAX, ejemplos prácticos y guías paso a paso.\n",
    "\n",
    "- **Buscar en Google**\n",
    "\n",
    "Una búsqueda rápida en Google puede dirigirnos a numerosos recursos, incluyendo blogs, foros y tutoriales. En general, terminamos encontrando algún video de YouTube que explica exactamente lo que necesitamos hacer. Otra página que suele aparecer entre los resultados y es súper confiable es el sitio de Comunidad de Microsoft: ¡el 99% de las veces hay una persona que ya preguntó lo que necesitamos! Y, si no, podemos agregar la consulta nosotros. \n",
    "\n",
    "- **Preguntarle a ChatGPT o la herramienta de IA que más nos guste**\n",
    "\n",
    "Usar las herramientas que tenemos a disposición para resolver desafíos de análisis no es “hacer trampas”, aunque recuerda que es crucial comprender la lógica que hay detrás de la función.\n",
    "Al fin y al cabo, nuestro valor agregado será entender al usuario final del tablero y desarrollar visualizaciones que permitan generar insights valiosos."
   ]
  },
  {
   "cell_type": "markdown",
   "id": "5a96fb13-dd5a-416f-ba21-9c3d07257bea",
   "metadata": {},
   "source": [
    "#### **Visualizaciones**\n",
    "\n",
    "Cuando trabajamos en **Power BI** nuestro objetivo final será crear un reporte: es decir, un conjunto de páginas que en su interior tienen visualizaciones de datos, filtros y segmentadores así como otros objetos visuales de contexto (títulos, íconos, botones, etc).  Estos reportes, como ya hemos visto, se crean en **Power BI Desktop** y luego, al ser publicados, se comparten utilizando **Power BI Service**. \n",
    "\n",
    "Los distintos gráficos y visualizaciones son las que nos permiten convertir datos crudos en información comprensible y accionable, ayudándonos a identificar patrones, tendencias y relaciones. Básicamente, sin visualizaciones no hay tablero. Sin embargo, antes de seleccionar el tipo de visualización, es crucial seguir un enfoque basado en objetivos. Para eso debemos:\n",
    "\n",
    "1. **Definir qué queremos mostrar**: El primer paso es tener claridad sobre la historia que queremos contar con nuestros datos. ¿Estamos tratando de mostrar una tendencia temporal, una distribución, una comparación entre categorías, o una relación entre variables?\n",
    "\n",
    "2. **Identificar los Campos Involucrados**: Una vez que sabemos qué queremos mostrar, necesitamos identificar los campos o variables de nuestros datos que son relevantes para esa historia. Estos campos pueden ser medidas (como ventas, ingresos, etc.) o dimensiones (como fecha, región, producto, etc.).\n",
    "\n",
    "3. **Elegir la visualización adecuada**: Solo después de definir claramente nuestro objetivo y los datos necesarios, podemos seleccionar la visualización que mejor se adapte a nuestra necesidad. Elegir la visualización antes de estos pasos puede llevar a representaciones ineficaces o confusas.\n",
    "\n",
    "Una vez que sabemos qué queremos mostrar, podremos elegir la indicada desde el menú superior:\n",
    "\n",
    "<div align=\"center\">\n",
    "   <img src=\"Imagenes y Videos - Clase 02\\S01-C02-E03_1. Visualizaciones.png\">\n",
    "</div>"
   ]
  },
  {
   "cell_type": "markdown",
   "id": "3d4d64a0-50aa-4df2-b4e6-93ab40630011",
   "metadata": {},
   "source": [
    "Al seleccionar un tipo de objeto visual, este se crea vacío, a partir de lo cual podemos agregar métricas y dimensiones en el panel de edición de visualizaciones.\n",
    "\n",
    "Si mientras estamos construyendo el tablero queremos probar cómo se vería la misma información con otra visualización, sólo es cuestión de cambiar nuestra selección: nuestro objeto visual cambia instantáneamente al nuevo tipo de gráfico. "
   ]
  },
  {
   "cell_type": "markdown",
   "id": "81b08c1d-cf25-4aeb-b7d9-cffea2b28629",
   "metadata": {},
   "source": [
    "#### 1. Tipos de visualizaciones\n",
    "\n",
    "**Power BI** ofrece una amplia variedad de visualizaciones para representar datos de diferentes maneras. Estas son algunas de las más utilizadas:\n",
    "\n",
    "- **Gráficos de Barras y Columnas**: Son útiles para analizar cómo se comporta una variable numérica en diferentes categorías. La decisión de utilizar uno u otro suele depender de los nombres de las categorías: Las barras horizontales facilitan la lectura de nombres largos de categorías.\n",
    "\n",
    "<div align=\"center\">\n",
    "   <img src=\"Imagenes y Videos - Clase 02\\pbi1.png\">\n",
    "</div>"
   ]
  },
  {
   "cell_type": "markdown",
   "id": "4baf2377-3c1c-493b-970b-8c14305935b8",
   "metadata": {},
   "source": [
    "- **Gráficos de Líneas**: Los utilizamos para mostrar tendencias a lo largo del tiempo o cuando tenemos dos variables numéricas ordenadas. Cada punto en el gráfico representa un valor en el tiempo, y las líneas conectan estos puntos para mostrar la tendencia general.\n",
    "\n",
    "<div align=\"center\">\n",
    "   <img src=\"Imagenes y Videos - Clase 02\\pbi2.png\">\n",
    "</div>"
   ]
  },
  {
   "cell_type": "markdown",
   "id": "312742bb-c852-413a-975b-dd276c5c7329",
   "metadata": {},
   "source": [
    "- **Gráficos de Área**: Son similares a los gráficos de líneas, pero el área bajo la línea está rellena. Son útiles para mostrar la contribución de valores individuales al total a lo largo del tiempo.\n",
    "\n",
    "<div align=\"center\">\n",
    "   <img src=\"Imagenes y Videos - Clase 02\\pbi3.png\">\n",
    "</div>"
   ]
  },
  {
   "cell_type": "markdown",
   "id": "c888996f-7ff2-44f1-9f36-2409840acf90",
   "metadata": {},
   "source": [
    "- **Gráficos de Torta y Donut**: Muestran la proporción de cada categoría en relación con el total. Son buenos para representar distribuciones simples pero no se recomienda usarlos si tenemos más de 3 categorías a visualizar. \n",
    "\n",
    "<div align=\"center\">\n",
    "   <img src=\"Imagenes y Videos - Clase 02\\pbi4.png\">\n",
    "</div>"
   ]
  },
  {
   "cell_type": "markdown",
   "id": "f08bc38d-76fa-4804-8d5e-5c29c75ac0e0",
   "metadata": {},
   "source": [
    "- **Tablas y Matrices**: Presentan datos en formato tabular, ideal para mostrar información detallada. La matriz tiene como punto extra que nos permite mostrar datos en una estructura jerárquica con agregaciones y subtotales.\n",
    "\n",
    "<div align=\"center\">\n",
    "   <img src=\"Imagenes y Videos - Clase 02\\pbi5.png\">\n",
    "</div>"
   ]
  },
  {
   "cell_type": "markdown",
   "id": "ce94a131-6794-449b-b4c4-c4e79bea0a96",
   "metadata": {},
   "source": [
    "-**Mapas**: Power BI permite hacer visualizaciones georreferenciadas gracias a la vinculación con el servicio de mapas de Bing creado por Microsoft (y principal competidor de Google Maps). Los valores en el mapa pueden estar representados por colores o por puntos (de distinto tamaño y/o color). Para utilizar este tipo de visualización tenemos que asegurarnos de que los datos geográficos estén declarados como tales (Herramientas de columnas > Tipo de datos).\n",
    "\n",
    "<div align=\"center\">\n",
    "   <img src=\"Imagenes y Videos - Clase 02\\pbi6.png\">\n",
    "</div>"
   ]
  },
  {
   "cell_type": "markdown",
   "id": "342db93a-6cd4-4973-a7e9-98e11a624db6",
   "metadata": {},
   "source": [
    "- **Gráficos de Dispersión**: Los usamos cuando queremos mostrar la relación entre dos variables numéricas, donde cada punto en el gráfico representa un valor individual de los datos.\n",
    "\n",
    "<div align=\"center\">\n",
    "   <img src=\"Imagenes y Videos - Clase 02\\pbi7.png\">\n",
    "</div> "
   ]
  },
  {
   "cell_type": "markdown",
   "id": "581b341f-6b09-4fb5-a631-e0b14fbefd85",
   "metadata": {},
   "source": [
    "- **Tarjeta/KPI**: Es una visualización muy simple, para mostrar una determinada medida (suma, promedio, conteo, etc.). Es lo primero que el usuario de nuestro reporte va a querer ver: cantidad de respuestas, suma de ventas totales, promedio de scoring, etc.\n",
    "                                                                                                                               <div align=\"center\">\n",
    "   <img src=\"Imagenes y Videos - Clase 02\\pbi8.png\">\n",
    "</div>"
   ]
  },
  {
   "cell_type": "markdown",
   "id": "5b4b20ac-c7ab-4b60-9f42-42e455fd6a11",
   "metadata": {},
   "source": [
    "#### 2. Formato\n",
    "\n",
    "Para cambiar el formato de nuestras visualizaciones debemos tener visible el panel \"Formato\"\n",
    "\n",
    "\n",
    "<div align=\"center\">\n",
    "   <img src=\"Imagenes y Videos - Clase 02\\S01-C02-E03_2. Ver-Formato.png\">\n",
    "</div>\n",
    "\n",
    "Desde allí podremos cambiar los colores, formatear la leyenda, definir si queremos mostrarla o no, el estilo de las etiquetas de detalles, los títulos, borde, sombra, efectos, etc.\n",
    "\n",
    "Vale aclarar que cada visualización tendrá distintas opciones dependiendo del tipo seleccionado. Por ejemplo, “Tamaño y estilo” o “título” aparecen en todas las visualizaciones, pero mientras los gráficos de barras tienen configuraciones para sus ejes, las tablas y matrices tienen configuraciones de formato para encabezados, entre otras diferencias. \n",
    "\n",
    "Algunos tipos de gráficos tienen en este mismo menú la posibilidad de agregar líneas de referencia o tendencia dinámicas. \n",
    "\n",
    "Un detalle importante: Si lo que queremos formatear es el dato en sí, debemos seleccionar el campo en el panel de “Datos” y luego ir al menú “herramientas de columnas”. Allí podemos indicar a nivel visual con cuál tipo de datos estamos trabajando (moneda, porcentaje, etc)"
   ]
  },
  {
   "cell_type": "markdown",
   "id": "d998b212-53a4-4a26-b37d-c158a9a1ff6a",
   "metadata": {},
   "source": [
    "<div align=\"center\">\n",
    "   <img src=\"Imagenes y Videos - Clase 02\\S01-C02-E03_4. Visualizaciones personalizadas.png\">\n",
    "</div>\n",
    "\n",
    "En este mismo menú podremos cambiar la categoría de los datos (desde Tipo de datos, dentro de cuadrante de Estructura) y elegir qué tipo de resumen predeterminado tendrá cada dato (en el caso de los ID, una buena práctica es elegir \"no resumir\") "
   ]
  },
  {
   "cell_type": "markdown",
   "id": "1caae11f-4c29-4284-864f-f6ed33ec3f0a",
   "metadata": {},
   "source": [
    "#### 3. Visualizaciones personalizadas\n",
    "\n",
    "Si tenemos un usuario Pro o Premium Power BI, nos permite incorporar gráficos o visuales adicionales en nuestro reporte para complementar las visualizaciones básicas que vienen incluidas por defecto. Estas visualizaciones son desarrolladas tanto por Microsoft como por la comunidad de usuarios y las podemos descargar desde la opción “obtener más objetos visuales” que aparece al final de la lista de visualizaciones predeterminadas. \n",
    "\n",
    "<div align=\"center\">\n",
    "   <img src=\"Imagenes y Videos - Clase 02\\S01-C02-E03_4. Visualizaciones personalizadas.png\">\n",
    "</div>\n",
    "\n",
    "Este tipo de visualizaciones nos proveen mayor variedad y flexibilidad en el diseño pero al mismo tiempo pueden afectar el rendimiento del reporte (especialmente si no están optimizadas), tener problemas de compatibilidad o, lo más importante de todo, generar problemas de seguridad, ya que no todas pasan por revisiones rigurosas. Por esta razón. recomendamos utilizar únicamente las visualizaciones personalizadas validadas por Microsoft (que son aquellas que tienen al lado una estrellita azul con una tilde)."
   ]
  },
  {
   "cell_type": "markdown",
   "id": "bae865f3-6d0e-4905-a977-f7d8c845fe5d",
   "metadata": {},
   "source": [
    "#### 4. Panel de filtrado y segmentación de datos\n",
    "\n",
    "En Power BI, los filtros y la segmentación de datos son herramientas esenciales que permiten a analistas y usuarios interactuar con los datos de manera dinámica y obtener información más específica y relevante. \n",
    "\n",
    "1. Panel de filtros\n",
    "El panel de filtros suele estar oculto para los usuarios pero es muy utilizado para construir el tablero. Los filtros pueden aplicarse a nivel de página, de visualización o a todo el reporte.\n",
    "\n",
    "    Los filtros a nivel visualización nos permiten filtrar datos solo para el gráfico seleccionado sin afectar a los demás. En cambio, los filtros de página nos permiten filtrar toda la página al mismo tiempo para que todo el análisis siga el mismo criterio. Por ejemplo, se utilizan mucho al realizar una página que permita ver datos de un solo país o sección o cuando queremos segmentar las visualizaciones a un rango de tiempo específico. Por último, también podemos hacer un filtro para todo el reporte, lo cual nos permitirá aplicar filtros globales que afecten todos los datos presentados.\n",
    "    \n",
    "    Para poder ver el panel de filtros debemos asegurarnos, como en el caso de “Datos” y “Formato”, que en el menú “Ver” la opción “Filtros” esté marcada. \n",
    "    \n",
    "    Una vez que el panel “Filtros” esté visible, podemos agregar campos para filtrar en los tres niveles (objeto visual, página, todas las páginas): al hacerlo podremos elegir el tipo de filtro que queremos hacer: avanzado (con condicionales), básico (seleccionando el dato que queremos ver) o Top N (respecto a otro campo). Si el campo con el que queremos filtrar es de fecha también nos permite elegir un período respecto a una Fecha Relativa (últimos X días, semanas, meses o años)\n",
    "\n",
    "<div align=\"center\">\n",
    "   <img src=\"Imagenes y Videos - Clase 02\\S01-C02-E04_1. Panel de filtros.png\">\n",
    "</div>"
   ]
  },
  {
   "cell_type": "markdown",
   "id": "34e81077-4acd-4433-9362-32c3eb376066",
   "metadata": {},
   "source": [
    "2. Segmentación de datos\n",
    "Los slicers (o segmentadores de datos) son uno de los objetos visuales que encontramos en Power BI y serán los que permitan a los usuarios filtrar datos en un reporte de manera intuitiva y visual. Funcionan como controles interactivos que se pueden agregar a cualquier página del reporte.\n",
    "\n",
    "    Al agregar el slicer, al igual que con todos las demás visualizaciones, tenemos que elegir (desde el panel “Datos”) qué campo queremos que sea el segmentador. \n",
    "    \n",
    "    Así mismo,  tenemos disponible el panel de Formato donde podremos configurar no sólo las cuestiones básicas como fondo, tamaño o título sino también elegir cuál queremos que sea la configuración de la segmentación:\n",
    "    \n",
    "    Allí podremos optar entre mostrar los valores del campo elegido como lista vertical (donde los usuarios pueden seleccionar cliqueando un casillero), como mosaico (donde se genera un botón por cada categoría) o menú desplegable. En los tres casos podemos configurar si la selección debe ser única o múltiple y si mostramos o no la opción “Seleccionar todo”\n",
    "\n",
    "<div align=\"center\">\n",
    "   <img src=\"Imagenes y Videos - Clase 02\\S01-C02-E05_1. Formato-Slicer.png\">\n",
    "</div>\n",
    "\n",
    "Si el campo elegido es una variable continua, además de las tres opciones anteriores también tenemos la opción de elegir “Entre” “Menor o igual que” o “Mayor o igual que”, para que el usuario pueda ingresar máximos y/o mínimos a segmentar. "
   ]
  },
  {
   "cell_type": "markdown",
   "id": "bcba3324-fa96-484c-95ea-6bedef6fd686",
   "metadata": {},
   "source": [
    "#### 5. Medidas rápidas\n",
    "\n",
    "Es una funcionalidad que permite crear medidas predefinidas sin tener que escribir la función DAX asociada. Para utilizarla debemos clickear en el botón Medida rápida del menú:\n",
    "\n",
    "<div align=\"center\">\n",
    "   <img src=\"Imagenes y Videos - Clase 02\\S01-C02-E04_1. Medidas rápidas.png\">\n",
    "</div>\n",
    "\n",
    "Y elegir el cálculo que queremos realizar de la lista de opciones, agrupadas por el tipo de cálculo que realizan:\n",
    "\n",
    "- Agregado por categoría (Para calcular medidas de tendencia central así como valores máximos y mínimos)\n",
    "\n",
    "- Filtros (Para analizar valores filtrados y compararlos)\n",
    "\n",
    "- Inteligencia de tiempo (Para calcular totales en un período de tiempo o cambios entre dos períodos)\n",
    "\n",
    "- Totales\n",
    "\n",
    "- Operaciones matemáticas\n",
    "\n",
    "- Texto"
   ]
  },
  {
   "cell_type": "markdown",
   "id": "2e8daa5d-4890-4a9b-ab74-4c950a1403cb",
   "metadata": {},
   "source": [
    "**Ventajas y Desventajas de Usar Medidas Rápidas**\n",
    "\n",
    "**Ventajas**:\n",
    "\n",
    "- Son fáciles de usar y no requieren conocimientos profundos de DAX\n",
    "- Permiten crear cálculos complejos rápidamente.\n",
    "- Aseguran que los cálculos comunes se realicen de manera uniforme y coherente en todo el proyecto.\n",
    "- Pueden acelerar el proceso de análisis, permitiendo obtener insights más rápido.\n",
    "\n",
    "\n",
    "**Desventajas**:\n",
    "\n",
    "- Las medidas rápidas pueden no cubrir todas las necesidades específicas y complejas de un análisis avanzado.\n",
    "- Dado que son predefinidas, existen limitaciones si necesitamos personalizar los cálculos más allá de las opciones disponibles.\n",
    "- Pueden volvernos dependientes de las herramientas gráficas y no desarrollar habilidades en DAX, lo que puede ser un obstáculo en análisis más avanzados.\n",
    "- En algunos casos, las medidas rápidas pueden no estar tan optimizadas como las medidas personalizadas escritas manualmente en DAX.\n"
   ]
  },
  {
   "cell_type": "code",
   "execution_count": null,
   "id": "e678c6ed-8414-4619-8656-25c6110afeaf",
   "metadata": {},
   "outputs": [],
   "source": [
    "##############################################################################################################################"
   ]
  }
 ],
 "metadata": {
  "kernelspec": {
   "display_name": "Python 3 (ipykernel)",
   "language": "python",
   "name": "python3"
  },
  "language_info": {
   "codemirror_mode": {
    "name": "ipython",
    "version": 3
   },
   "file_extension": ".py",
   "mimetype": "text/x-python",
   "name": "python",
   "nbconvert_exporter": "python",
   "pygments_lexer": "ipython3",
   "version": "3.11.7"
  }
 },
 "nbformat": 4,
 "nbformat_minor": 5
}
