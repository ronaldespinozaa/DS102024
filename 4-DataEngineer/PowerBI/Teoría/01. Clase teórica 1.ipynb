{
 "cells": [
  {
   "cell_type": "markdown",
   "id": "2eff22fa-eaf0-40cd-8709-bbb1c4fe2bbe",
   "metadata": {},
   "source": [
    "## Clase teórica 1\n",
    "\n",
    "### Introducción a herramientas BI. ¿Qué lugar ocupan en la carrera de Data Analytics?\n",
    "\n",
    "1. **¿Qué es BI?**\n",
    "\n",
    "El **Business Intelligence**, **BI** o la **inteligencia de negocios** no es un concepto nuevo. En la década de los 60 surgió como un sistema para compartir información entre organizaciones. En la década de 1980 se desarrolló aún más junto con los modelos informáticos. Se utilizó para tomar decisiones y transformar datos en información antes de convertirse en un producto específico de los equipos de BI con soluciones de servicio basadas en tecnología. ([Fuente](https://www.tableau.com/es-es/learn/whitepapers/six-myths-moving-traditional-to-modern-bi))\n",
    "\n",
    "El concepto moderno de **BI** combina **análisis de negocios**, **minería**, **visualización**, **herramientas** e **infraestructura de datos**, además de prácticas recomendadas para ayudar a las empresas a tomar decisiones basadas en los datos. En la práctica, implementar la inteligencia de negocios moderna implica contar con una vista integral de todos los datos de la organización. Además, consiste en usar estos datos para impulsar el cambio, eliminar las ineficiencias y adaptarse rápidamente a los cambios del mercado o la demanda.\n",
    "\n",
    "- **Definición**: La inteligencia de negocios o **Business Intelligence** (**BI**) es el proceso de recopilar, almacenar y analizar datos de operaciones empresariales. La BI ofrece métricas integrales del negocio, prácticamente en tiempo real, para mejorar la toma de decisiones. (Fuente: Tableau)"
   ]
  },
  {
   "cell_type": "markdown",
   "id": "ab5138a9-369a-44ea-8bab-40ad914398fc",
   "metadata": {},
   "source": [
    "2. **¿Cómo se vincula con el trabajo de Data Analyst?**\n",
    "\n",
    "El **Business Intelligence** incluye el **Business Analytics** y **Data Analytics**. Sin embargo, estos conforman solo una parte del proceso completo. La **BI** ayuda a los usuarios a extraer conclusiones a partir del análisis de datos (Data Analytics). Los científicos de datos exploran en profundidad los aspectos específicos de los datos. Para hacerlo, usan estadísticas avanzadas y análisis predictivos a fin de descubrir patrones actuales y futuros.\n",
    "\n",
    "- **Definición**: El análisis de negocios o **Business Analytics** (**BA**) hace referencia a usar los datos de la empresa para predecir tendencias y resultados. El **BA** incluye la minería de datos, el análisis estadístico y el modelado predictivo, que ayudan a los usuarios a tomar decisiones más informadas. (Fuente: Tableau)\n",
    "\n",
    "- **Definición**: El análisis de datos o **Data Analytics** es el proceso técnico de la minería, la limpieza y la transformación de datos, así como el desarrollo de sistemas para administrarlos. El análisis de datos trabaja con grandes cantidades de datos para identificar tendencias y resolver problemas. Además, se utiliza en diferentes disciplinas, desde el gobierno hasta la ciencia. No está relacionado únicamente con las aplicaciones empresariales. (Fuente: Tableau)\n",
    "\n",
    "Entonces, en resumen, **Business Analytics** es la aplicación de negocios de la técnica de **Data Analytics** que excede al mundo empresarial. Mientras **Business Intelligence** (**BI**) está centrado en el análisis descriptivo, el **Business Analytics** (**BA**) se enfoca en hacer análisis predictivo."
   ]
  },
  {
   "cell_type": "markdown",
   "id": "db34c607-83d0-4199-be24-95fec13bb527",
   "metadata": {},
   "source": [
    "3. **¿Qué es Power BI?**\n",
    "\n",
    "**Microsoft Power BI** es una herramienta de informes que ofrece preparación, visualización, distribución y gestión de datos. Con ella podemos crear desde informes sencillos de una única fuente (por ejemplo, un libro de Excel o un Google Spreadsheet) hasta tableros interactivos con modelos complejos de datos de distintas fuentes. Puede conectarse con una gran variedad de fuentes de datos, tanto del entorno Microsoft (Office, SQL Server, OneLake, Azure, Fabric) como fuera de él (Google Drive, Salesforce, Snowflake, MongoDB, GitHub, Oracle).\n",
    "\n",
    "Los tres componentes principales de **Power BI** son su aplicación de escritorio (**Power BI Desktop**), la plataforma online (**Power BI Service**) y la aplicación móvil (**Power BI Mobile**), siendo las dos primeras las que utilizaremos en este curso. **Power BI Desktop** es la herramienta principal de desarrollo de informes, mientras que la publicación, distribución y organización de los informes en el espacio de trabajo se realizan desde la plataforma online.\n",
    "\n",
    "Lanzado en 2015 como **Power BI Designer**, lo que conocemos como **Power BI** es el resultado de la combinación de diferentes herramientas previas de Microsoft Office: PowerPivot, Power Query, Power View y Power Map. Estas herramientas se diseñaron originalmente como complementos para abarcar instancias específicas de los procesos del análisis de datos. Actualmente, **Power BI** tiene funciones de visualización, cálculo y transformaciones básicas, y se complementa de manera nativa con Power Query para los procesos de ETL (extracción, transformación y carga). Es por eso que **Power BI** utiliza el lenguaje DAX (Data Analytics Expressions), similar al de las fórmulas de Excel, mientras que para **Power Query** se utiliza el lenguaje M. Sin embargo, todo el proceso de trabajo tiene una interfaz de bajo código y aprender los lenguajes es accesible e intuitivo.\n",
    "\n",
    "¿Y cómo se usa?"
   ]
  },
  {
   "cell_type": "markdown",
   "id": "39c6612d-0b66-4355-bb3e-ee700b2e85b3",
   "metadata": {},
   "source": [
    "Podemos usar **Power BI** con tres tipos de licencia:\n",
    "\n",
    "- **Uso gratuito**: permite crear informes en el escritorio con todas las funcionalidades básicas, pero no compartir ágilmente. Puede generarse con cuentas educativas o profesionales.\n",
    "\n",
    "- **Licencia Pro**: permite, además, usar la plataforma online para compartir y publicar informes de manera abierta y en el área de trabajo de la organización. Cuesta 10 USD mensuales por usuario, con descuentos para organizaciones sin ánimo de lucro a través de Techsoup.\n",
    "\n",
    "- **Licencia Premium**: permite acceder a modelos más grandes, actualizaciones más frecuentes, desarrollar pipelines y otras funciones para usos de mayor escala. Cuesta 20 USD mensuales por usuario.\n",
    "\n",
    "> ¿Se puede publicar un tablero sin tener licencia Pro/Premium? Sí, con una cuenta profesional o educativa Office 365. \n",
    "\n",
    "Además, Microsoft tiene material de excelente calidad para consultar, practicar y entrenar en **Power BI**. Para empezar a explorar se puede comenzar por acá: **Introducción** y **Entrenamiento**.\n",
    "\n",
    "Por último, cabe aclarar que **Power BI** es una herramienta utilizada por organizaciones de todo tipo, tamaño y complejidad, y forma parte de la frontera tecnológica de la industria. Es por eso que se actualiza permanentemente, tiene hubs y foros oficiales de discusión y difusión de novedades, e incorpora de manera sistemática nuevas funcionalidades.\n",
    "\n",
    "La última innovación de Microsoft en ciencia de datos es la creación de Fabric, un entorno que combina las herramientas de ingesta, almacenamiento, transformación y visualización de datos, con modelos de aprendizaje automático y complementos de Inteligencia Artificial. Este entorno incluye **Power BI** como parte de sus componentes."
   ]
  },
  {
   "cell_type": "markdown",
   "id": "a743c23a-3496-45ba-b5fd-6531f4ac5796",
   "metadata": {},
   "source": [
    "<div align=\"center\">\n",
    "   <img src=\"Imagenes y Videos - Clase 01\\S01-C01-E01_1. Power BI.png\">\n",
    "</div>"
   ]
  },
  {
   "cell_type": "markdown",
   "id": "f014879c-ee1d-44ed-a0d6-b699c6286c45",
   "metadata": {},
   "source": [
    "---"
   ]
  },
  {
   "cell_type": "markdown",
   "id": "6e060330-d5c2-4d5d-ba7c-8b943ca02738",
   "metadata": {},
   "source": [
    "### Onboarding\n",
    "\n",
    "Una vez dentro de **Power BI Desktop**, ya podemos hacer un recorrido breve por sus componentes principales.\n",
    "\n",
    "En primer lugar, veremos que, arriba a la izquierda, el programa nos ofrece iniciar sesión con una cuenta de usuario. Esto es opcional. En caso de hacerlo, podremos guardar nuestros tableros en un espacio de trabajo propio en la nube (**Power BI Server**) pero si no tenemos una cuenta de usuario todavía, podemos alojar nuestros archivos localmente en nuestros ordenadores. \n",
    "\n",
    "Las vistas con las que cuenta la herramienta aparecen a la derecha y son tres:\n",
    "- **Vista de informe**: es un canvas para diseñar los reportes. Aquí podremos ver todas las páginas de nuestro tablero, donde iremos agregando cada uno de nuestros objetos visuales.\n",
    "- **Vista de tabla**: se trata de una vista previa de los datos con los que vamos a trabajar. Aquí estarán disponibles todas las fuentes de datos que hayamos agregado, con sus respectivos campos y valores. \n",
    "- **Vista de modelo**: aquí podemos ver nuestro modelo de datos, con todas sus entidades y relaciones."
   ]
  },
  {
   "cell_type": "markdown",
   "id": "5ebb56ce-1b70-4b85-99ab-7b7184015e42",
   "metadata": {},
   "source": [
    "<div align=\"center\">\n",
    "   <img src=\"Imagenes y Videos - Clase 01\\S01-C01-E02_1. Vistas.png\">\n",
    "</div>"
   ]
  },
  {
   "cell_type": "markdown",
   "id": "b28640c4-1f30-4e8e-9f01-1f42a6b4a253",
   "metadata": {},
   "source": [
    "Empecemos por un recorrido dentro de la **vista de informe**.  \n",
    "\n",
    "En la parte superior del panel tenemos nuestra **barra de herramientas**: desde allí podremos configurar múltiples aspectos del informe tales como el origen de los datos, la inserción de elementos (imágenes, botones, etc.), el modelado de datos, el tema, los filtros, entre muchos otros. "
   ]
  },
  {
   "cell_type": "markdown",
   "id": "de7f6c1f-5c02-43e7-926e-1e3c28eef1d6",
   "metadata": {},
   "source": [
    "<div align=\"center\">\n",
    "   <img src=\"Imagenes y Videos - Clase 01\\S01-C01-E02_2.Barra de herramientas.png\">\n",
    "</div>"
   ]
  },
  {
   "cell_type": "markdown",
   "id": "945dbeb5-3bb9-48de-b9fc-7af308c68829",
   "metadata": {},
   "source": [
    "Sobre la derecha, aparecen nuestros paneles. (Si hay alguno no aparece a simple vista, debemos ir al menú Ver, en la barra de herramientas, y cliquear el que corresponda. Una vez que están seleccionados los paneles a utilizar, podemos desplegarlos u ocultarnos usando los botones del menú vertical de la derecha.) \n",
    "\n",
    "- **Datos**: Aquí encontraremos nuestras fuentes de datos con sus respectivos campos ordenados alfabéticamente.\n",
    "\n",
    "- **Compilar**: en la parte superior del panel vemos todas las visualizaciones disponibles (Gráficos de barras, tablas, tarjetas, embudo, treemap, etc.). Por debajo, aparece el casillero donde podremos agregar los campos de nuestras fuentes de datos que queremos visualizar. Según de qué visualización se trate, habrá distintos valores que asociar para poder completar el gráfico (Leyenda, Detalles, Categorías, Ejes, etc.)\n",
    "\n",
    "- **Formato**:  Allí se configuran el formato visual de las gráficas y el del canvas según qué se seleccione.\n",
    "\n",
    "Por último, también como panel a la derecha del tablero, vemos los **Filtros**. Este panel sirve para monitorear los filtros aplicados al objeto visual, la página y el informe."
   ]
  },
  {
   "cell_type": "markdown",
   "id": "7e12137d-34ef-47d5-9651-ccfa848b150e",
   "metadata": {},
   "source": [
    "<div align=\"center\">\n",
    "   <img src=\"Imagenes y Videos - Clase 01\\S01-C01-E02_3. Paneles.png\">\n",
    "</div>"
   ]
  },
  {
   "cell_type": "markdown",
   "id": "6a86728c-31d4-4a0c-8763-cb22becab691",
   "metadata": {},
   "source": [
    "Si nos adentramos en la **vista de tabla**, los elementos de esta interfaz son los siguientes:\n",
    "\n",
    "- **Tabla**: el aspecto principal de la vista de tabla es que vamos a ver las tablas del modelo de datos con sus filas y columnas. De esta forma, podemos explorar y gestionar los datos importados de una manera estructurada y tabular, similar a como se visualizan en una base de datos. Esta vista es útil para verificar los datos importados.\n",
    "\n",
    "- **Datos**: a la derecha encontramos todas las tablas cargadas con sus campos. Al seleccionar un campo específico, la vista se centrará en esa columna puntual.\n",
    "\n",
    "- **Herramientas de tablas**: en este panel tenemos la opción de modificar el nombre de la tabla, hacer cálculos (medidas, columnas y tablas calculadas), administrar las relaciones del modelo y designar una tabla como tabla de fechas.\n",
    "\n",
    "- **Herramientas de columnas**: vemos este panel solo cuando seleccionamos una columna puntual. Cuenta con varias herramientas para transformar el tipo de dato, nombre, formato de los datos de una columna específica. También podemos resumir, agrupar y agregar columnas desde este panel."
   ]
  },
  {
   "cell_type": "markdown",
   "id": "3160810b-11d6-47b2-839f-2576bbd4c5b4",
   "metadata": {},
   "source": [
    "<div align=\"center\">\n",
    "   <img src=\"Imagenes y Videos - Clase 01\\S01-C01-E02_4. Vista-de-tabla.png\">\n",
    "</div>"
   ]
  },
  {
   "cell_type": "markdown",
   "id": "31555c2e-a764-4709-bd5a-980e6e82e15d",
   "metadata": {},
   "source": [
    "Trabajaremos la **vista del modelo** más adelante, por ahora solo es importante que sepamos que allí está. \n",
    "\n",
    "Poco a poco, a lo largo del módulo exploraremos con mayor profundidad los aspectos, paneles y funciones que fuimos describiendo sobre la herramienta.\n",
    "\n",
    "---"
   ]
  },
  {
   "cell_type": "markdown",
   "id": "2521536a-727c-4dc4-a5e4-e4cdfc7d8139",
   "metadata": {},
   "source": [
    "### Conexión de datos\n",
    "\n",
    "A la hora de crear nuestro tablero, lo primero que haremos es conectarnos a una fuente de datos. Power BI nos permitirá conectarnos a fuentes de datos locales (es decir, a archivos que estén en nuestro ordenador) o fuentes de datos de origen externo alojadas en servidores (bases de datos) o fuentes de datos de origen web (redes sociales, Google Analytics, etc.).\n",
    "\n",
    "Hay varias formas de conectarse a los datos pero la más ordenada es haciéndolo directamente desde el Editor de Power Query, la herramienta creada por Microsoft para el proceso de ETL (extracción, transformación y carga de datos por sus siglas en inglés). Para ello debemos seguir estos pasos:\n",
    "\n",
    "1. Desde el panel superior, elegir la opción Transformar datos:"
   ]
  },
  {
   "cell_type": "markdown",
   "id": "4fe82a64-bf47-463b-9fdb-c102911d802e",
   "metadata": {},
   "source": [
    "<div align=\"center\">\n",
    "   <img src=\"Imagenes y Videos - Clase 01\\S01-C01-E03_1. Transformar datos.png\">\n",
    "</div>\n",
    "\n",
    "Power Query se abrirá automáticamente sin salir de Power BI: ambas ventanas se mantienen abiertas en paralelo."
   ]
  },
  {
   "cell_type": "markdown",
   "id": "cbffa3ad-8d26-4f98-965e-58dc6c69aef1",
   "metadata": {},
   "source": [
    "2. Cliqueamos en Nuevo Origen:\n",
    "\n",
    "<div align=\"center\">\n",
    "   <img src=\"Imagenes y Videos - Clase 01\\S01-C01-E03_2. Nuevo origen.png\">\n",
    "</div>"
   ]
  },
  {
   "cell_type": "markdown",
   "id": "c0986ef3-19d9-4476-9a29-f7a6c13b8f90",
   "metadata": {},
   "source": [
    "3. Elegimos el tipo de fuente que queremos conectar (por ejemplo, un archivo de Excel) y cliqueamos Conectar\n",
    "\n",
    "<div align=\"center\">\n",
    "   <img src=\"Imagenes y Videos - Clase 01\\S01-C01-E03_3. Obtener datos - conectar.png\">\n",
    "</div>"
   ]
  },
  {
   "cell_type": "markdown",
   "id": "aff4d32f-e478-42d5-a7a3-ea9b6034c0f4",
   "metadata": {},
   "source": [
    "4. Dependiendo del tipo de archivo al que nos conectemos, habrá distintos pasos intermedios. Por ejemplo:\n",
    "    - Si elegimos un archivo de texto o csv, Power BI nos preguntará que tipo de delimitador usa el archivo.\n",
    "    - Si elegimos conectarnos a una base de datos desde sistemas de gestión como MySQL u Oracle, tendremos que cargar las credenciales correspondientes. \n",
    "    - Si elegimos un Libro de Excel, como en este caso, tendremos que elegir qué pestaña queremos usar como fuente.\n",
    "\n",
    "<div align=\"center\">\n",
    "   <img src=\"Imagenes y Videos - Clase 01\\S01-C01-E03_4. Navegador.png\">\n",
    "</div>"
   ]
  },
  {
   "cell_type": "markdown",
   "id": "8cff46db-7092-48a0-a2ae-b0eb1e0c37c8",
   "metadata": {},
   "source": [
    "Veremos que, al clickear Aceptar, la base de datos aparece en nuestro Power Query. Debemos repetir estos pasos cada vez que queramos conectar una nueva fuente de datos. \n",
    "\n",
    "Profundizaremos más sobre este punto dentro de algunas clases pero sepamos que podemos cargar tantas fuentes de datos como queramos y estas pueden ser del mismo tipo de origen o de orígenes variados."
   ]
  },
  {
   "cell_type": "markdown",
   "id": "e9f3c31c-1bc3-4a25-bc32-9e1ed70f8751",
   "metadata": {},
   "source": [
    "### Limpieza de datos\n",
    "\n",
    "Como ya sabemos de módulos anteriores, no siempre encontramos los datos en un formato adecuado para el análisis y por ello tendremos que realizar diferentes acciones de limpieza antes de utilizarlos. En general solemos hacer limpieza de datos al menos en dos momentos: al inicio, cuando conectamos el origen de datos, y luego del primer acercamiento exploratorio cuando ya tenemos mayor conocimiento de la fuente. \n",
    "\n",
    "En el Editor de Power Query podemos realizar casi todas las transformaciones que vimos en el módulo de SQL. Por ejemplo:\n",
    "\n",
    "- Usar primera fila como encabezado: Si los encabezados aparecen como la primera fila de nuestra tabla, debemos usar esta opción para que se visualicen correctamente (Este paso muchas veces es realizado de forma automática por Power Query)\n",
    "\n",
    "<div align=\"center\">\n",
    "   <img src=\"Imagenes y Videos - Clase 01\\S01-C01-E04_1. Encabezados.png\">\n",
    "</div>"
   ]
  },
  {
   "attachments": {},
   "cell_type": "markdown",
   "id": "3e0107bc-9467-4dc6-a2f0-6900271d7d6c",
   "metadata": {},
   "source": [
    "- **Títulos de columnas**: si es necesario, podemos renombrar columnas. [`Video: S01-C01-E04_2. título-columna`](Imagenes%20y%20Videos%20-%20Clase%2001\\S01-C01-E04_2.%20título-columna.mp4)\n",
    "\n",
    "- **Tipos de datos**: siempre debemos revisar que cada columna está definida con el tipo de dato que corresponda (número entero, número decimal, booleano, fecha, hora, texto, etc) [`Video: S01-C01-E04_3. tipo de datos`](Imagenes%20y%20Videos%20-%20Clase%2001\\S01-C01-E04_3.%20Tipo%20de%20datos.mp4)\n",
    "\n",
    "- **Quitar Columnas / Quitar filas**: Si al cargar la fuente hay columnas/filas en blanco podemos eliminarlas con los botones Quitar Columnas / Quitar filas según corresponda.v>"
   ]
  },
  {
   "cell_type": "markdown",
   "id": "c91f7c83-eb9e-4df7-97e2-8b45c810becd",
   "metadata": {},
   "source": [
    "<div align=\"center\">\n",
    "   <img src=\"Imagenes y Videos - Clase 01\\S01-C01-E04_4. Quitar-filas-columnas.png\">\n",
    "</div>\n",
    "\n",
    "El botón Quitar columnas también nos puede servir para eliminar las columnas que, desde el principio, sabemos que no vamos a usar … pero ¡cuidado! Es muy importante conocer a fondo nuestros datos antes de eliminar datos que tal vez más adelante puedan servirnos. \n",
    "\n",
    "En caso de que nuestra base tenga filas duplicadas, podemos usar la sub-opción \"Quitar duplicados\"."
   ]
  },
  {
   "cell_type": "markdown",
   "id": "21a001ff-17b1-4e7b-89f7-adce56f22bba",
   "metadata": {},
   "source": [
    "<div align=\"center\">\n",
    "   <img src=\"Imagenes y Videos - Clase 01\\S01-C01-E04_5. Quitar-duplicados.png\">\n",
    "</div>\n",
    "\n",
    "- **Reemplazar valores**: Muchas veces vamos a necesitar reemplazar un caracter por otro. Por ejemplo, podríamos necesitar que, dentro de una columna en particular, siempre que haya un punto sea reemplazado por una coma o que o que todas las celdas vacías sean reemplazadas por un valor. [`Video: S01-C01-E04_6. Reemplazar valores`](Imagenes%20y%20Videos%20-%20Clase%2001\\S01-C01-E04_6.%20Reemplazar%20valores.mp4)\n",
    "\n",
    "Además de las anteriores, según el tipo de dato, Power Query nos permitirá realizar distintas transformaciones específicas. Para conocer cuáles, basta con hacer clic derecho sobre una columna y desplegar la opción “Transformar”. Dentro de transformar veremos distintas opciones para textos, números, fechas, etc. "
   ]
  },
  {
   "cell_type": "markdown",
   "id": "2d2c1d29-053c-442b-b22c-6224589f9fc4",
   "metadata": {},
   "source": [
    "<div align=\"center\">\n",
    "   <img src=\"Imagenes y Videos - Clase 01\\S01-C01-E04_7. Transformar.png\">\n",
    "</div>"
   ]
  },
  {
   "cell_type": "markdown",
   "id": "cdd7ecca-bddb-472f-9d59-b4c4f331fda6",
   "metadata": {},
   "source": [
    "> **¡Importante!**: Una vez conectadas nuestras fuentes de datos y realizada la limpieza, debemos cliquear “Cerrar y aplicar” para guardar los cambios y que estos impacten en el modelo.\n",
    "\n",
    "<div align=\"center\">\n",
    "   <img src=\"Imagenes y Videos - Clase 01\\S01-C01-E04_8. Cerrar y aplicar.png\">\n",
    "</div>\n",
    "\n",
    "---"
   ]
  },
  {
   "cell_type": "markdown",
   "id": "d0f3cf4a-4ebd-4a09-b9eb-f80e320a95cb",
   "metadata": {},
   "source": [
    "### Lenguaje DAX: una primera aproximación\n",
    "\n",
    "- **Introducción**\n",
    "\n",
    "**DAX** (por sus siglas en inglés **Data Analysis Expressions**) es el lenguaje de fórmulas utilizado en Power BI. Se trata de una recopilación de funciones, operadores y constantes que se pueden usar en una expresión para calcular y devolver uno o varios valores. Es decir: **DAX** nos ayuda a crear información de datos nueva con insumos que ya están en el modelo.\n",
    "\n",
    "Si bien algunas funciones DAX pueden resultarnos familiares por su parecido con las fórmulas de Excel, debemos saber que no son exactamente el mismo lenguaje. \n",
    "\n",
    "Para comprender la sintaxis de las fórmulas de **DAX**, evaluemos un breve ejemplo:\n",
    "\n",
    "<div align=\"center\">\n",
    "   <img src=\"Imagenes y Videos - Clase 01\\S01-C01-E05_1. Elementos DAX.png\">\n",
    "</div>\n",
    "\n",
    "La sintaxis de esta fórmula incluye los siguientes elementos:\n",
    "\n",
    "- **A**. El operador del signo igual (=) indica el principio del cálculo y siempre debe aparecer después del nombre asignado a nuestro cálculo. \n",
    "- **B**. La fórmula que estamos usando en este ejemplo es AVERAGE. Si bien no es imprescindible escribirla en mayúscula, solemos hacerlo para identificarla rápidamente. \n",
    "- **C**. A diferencia de las fórmulas de Excel que hacen referencia a una celda, una fórmula DAX hace referencia siempre a una columna. En este caso, la columna a la que se hace referencia [user rating score] siempre se escribe entre [] y contiene los valores con los que se hace el promedio del puntaje. Además, siempre debe estar antecedida (sin espacios) por el nombre de la tabla donde se encuentra (netflix, en este caso).\n",
    "\n",
    "- **Medidas vs. Columnas calculadas**\n",
    "\n",
    "En **Power BI**, existen tanto columnas calculadas como medidas y ambas se crean utilizando DAX. Sin embargo, se diferencian en su propósito y en la forma en que se calculan y utilizan. Como analistas y desarrolladores de Power BI será clave entender la diferencia entre una y otra. \n",
    "\n",
    "Las **medidas** son fórmulas DAX que se utilizan para cálculos agregados, es decir que no se calculan fila a fila, sino que generan un valor único al analizar los campos y las segmentaciones correspondientes. \n",
    "\n",
    "Estas medidas no son parte de ninguna tabla en particular sino que se alojan “en memoria” y  se calculan efectivamente sólo cuando las asociamos a un determinado gráfico, tomando el contexto del gráfico elegido como filtro. Es decir, “se recalculan” cada vez que se utilizan. \n",
    "\n",
    "Las medidas nos sirven para crear **cálculos dinámicos que responden al contexto del informe**. Son ideales para crear métricas como sumas, promedios, conteos, máximos, mínimos y otras agregaciones que deben responder a los filtros y segmentos en un informe\n",
    "\n",
    "**Veamos un ejemplo**: \n",
    "\n",
    "- Si queremos saber cuántas películas distintas aparecen en nuestra fuente de datos podemos hacer una medida con un conteo distinto de la columna que funciona como ID llamada _**Column 1**_:\n",
    "\n",
    "```\n",
    "ConteoPeliculas = DISTINCTCOUNT(netflix[Column1]) \n",
    "```\n",
    "\n",
    "Esta medida queda almacenada en el panel de datos y se alojará en la tabla que esté seleccionada como “Tabla inicial” pero, como dijimos, no será parte de la tabla en sí sino que estará alojada en la memoria. Por esta razón, no la encontramos como columna en la vista de tabla."
   ]
  },
  {
   "cell_type": "markdown",
   "id": "e44f2cab-4808-4ce8-8c17-1b99306ffacd",
   "metadata": {},
   "source": [
    "<div align=\"center\">\n",
    "   <img src=\"Imagenes y Videos - Clase 01\\S01-C01-E05_2. Nueva-Medida.png\">\n",
    "</div>\n",
    "\n"
   ]
  },
  {
   "cell_type": "markdown",
   "id": "ba6d8093-b24e-44d1-a805-7bedb24faace",
   "metadata": {},
   "source": [
    "<div align=\"center\">\n",
    "   <img src=\"Imagenes y Videos - Clase 01\\S01-C01-E05_3. ConteoPeliculas.png\">\n",
    "</div>"
   ]
  },
  {
   "cell_type": "markdown",
   "id": "ce5a50ed-cae5-4076-aef0-8e4f98e1f324",
   "metadata": {},
   "source": [
    "Las columnas calculadas, por otro lado, sí constituyen nuevas columnas que se añaden a una tabla en nuestro modelo de datos. Se crean usando fórmulas DAX y cada valor de la columna calculada se calcula en el momento en que se carga o se actualiza el modelo. \n",
    "\n",
    "Las utilizamos cuando necesitamos realizar cálculos a nivel de fila, como concatenar dos columnas de texto o realizar cálculos que dependen de otras columnas en la misma tabla y deben generar un resultado por cada registro. También pueden ser útiles para crear relaciones entre tablas en el modelo de datos.- \n",
    "\n",
    "Veamos un ejemplo:\n",
    "\n",
    "Si queremos calcular la antigüedad en años que tiene cada película debemos realizar una resta entre el año actual y el año de cada película. Este cálculo nos dará una antigüedad por cada registro que ten\n",
    "\n",
    "```\n",
    "Antigüedad = YEAR(TODAY()) - netflix[release year]\n",
    "```\n",
    "\n",
    "Para saber el año actual utilizamos la función **YEAR()** y como parámetro usamos otra función: **TODAY()** para que se actualice automáticamente la actualidad respecto al día de “hoy” (es decir, el día de la actualización del tablero). El año de lanzamiento de cada película ya está en la tabla en la columna **netflix[release year]**.\n",
    "\n",
    "Lo que obtenemos es una columna completa con el dato de la antigüedad de cada película de nuestro dataset, que se almacena en el panel de datos y además queda visible en nuestra tabla. amos. "
   ]
  },
  {
   "cell_type": "markdown",
   "id": "c694469d-0c10-474a-b580-bb89861a24de",
   "metadata": {},
   "source": [
    "<div align=\"center\">\n",
    "   <img src=\"Imagenes y Videos - Clase 01\\S01-C01-E05_4. Nueva-Columna-Calculada.png\">\n",
    "</div>"
   ]
  },
  {
   "cell_type": "markdown",
   "id": "a9b997a7-aebe-47c7-a43f-4885f4a24173",
   "metadata": {},
   "source": [
    "<div align=\"center\">\n",
    "   <img src=\"Imagenes y Videos - Clase 01\\S01-C01-E05_5. Antiguedad.png\">\n",
    "</div>"
   ]
  },
  {
   "cell_type": "markdown",
   "id": "6616c4ef-d034-4444-8808-73518b1c2df8",
   "metadata": {},
   "source": [
    "En resumen las principales diferencias entre las medidas y las columnas calculadas (aunque ambas utilizan **DAX**), son:\n",
    "\n",
    "- Almacenamiento: las columnas calculadas almacenan valores en el modelo de datos, mientras que las medidas no almacenan valores y se calculan en tiempo de consulta.\n",
    "- Cálculo: las columnas calculadas se calculan a nivel de fila en el momento de la carga/actualización, mientras que las medidas se calculan en tiempo de consulta en función del contexto del informe.\n",
    "- Uso: las columnas calculadas son útiles para cálculos a nivel de fila y creación de relaciones, mientras que las medidas son ideales para cálculos agregados dinámicos que responden al contexto de filtrado en los informes.\n",
    "\n",
    "Ambas herramientas son muy utilizadas en Power BI y su uso depende del tipo de análisis y los requisitos específicos del informe que estemos creando."
   ]
  },
  {
   "cell_type": "markdown",
   "id": "ba14bcdb-3790-4e63-b935-c0cfb740f36f",
   "metadata": {},
   "source": [
    "- **DAX Cheat Sheet**\n",
    "\n",
    "A lo largo de todo el módulo pondremos en práctica distintas funciones DAX para crear tanto medidas como columnas calculadas. \n",
    "\n",
    "A continuación tenemos una Cheat Sheet de las funciones DAX más utilizadas:\n",
    "\n",
    "- **Funciones de agregación:**\n",
    "\n",
    "    - **SUM(Column)**: Suma todos los valores de una columna.\n",
    "\n",
    "    - **AVERAGE(Column)**: Calcula el promedio de los valores de una columna.\n",
    "\n",
    "    - **MIN(Column)**: Devuelve el valor mínimo de una columna.\n",
    "\n",
    "    - **MAX(Column)**: Devuelve el valor máximo de una columna.\n",
    "\n",
    "    - **COUNT(Column)**: Cuenta la cantidad de registros que contiene una determinada columna (excluyendo los valores en blanco).. \n",
    "\n",
    "    - **DISTINCTCOUNT(Column)**: Cuenta la cantidad de registros únicos que contiene una determinada columna. \n",
    "\n",
    "    - **COUNTROWS(Table)**: Cuenta el número de filas en una tabla.\n",
    " \n",
    "- **Funciones de Texto:**\n",
    "\n",
    "    - **CONCATENATE(Text1, Text2)**: Une dos cadenas de texto en una sola\n",
    "\n",
    "    - **LEFT(Text, NumberOfCharacters)**: Devuelve el número especificado de caracteres desde el inicio de una cadena de texto.\n",
    "\n",
    "    - **RIGHT(Text, NumberOfCharacters)**: Devuelve el número especificado de caracteres desde el final de una cadena de texto.\n",
    "\n",
    "    - **MID(Text, StartPosition, NumberOfCharacters)**: Devuelve un número específico de caracteres de una cadena de texto, comenzando en la posición que se especifique.\n",
    "\n",
    "    - **LEN(Text)**: Devuelve el número de caracteres en una cadena de texto.\n",
    "\n",
    "    - **UPPER(Text)**: Convierte todos los caracteres de una cadena de texto en mayúsculas.\n",
    "\n",
    "    - **LOWER(Text)**: Convierte todos los caracteres de una cadena de texto en minúsculas.\n",
    "\n",
    "- **Funciones de Fechas:**\n",
    "    - **TODAY()**: Devuelve la fecha actual.\n",
    "\n",
    "    - **NOW()**: Devuelve la fecha y hora actuales.\n",
    "\n",
    "    - **YEAR(Date)**: Devuelve el año de una fecha.\n",
    "\n",
    "    - **MONTH(Date)**: Devuelve el mes de una fecha.\n",
    "\n",
    "    - **DAY(Date)**: Devuelve el día del mes de una fecha.\n",
    "\n",
    "    - **DATEDIFF(StartDate, EndDate, Interval)**: Devuelve la diferencia entre dos fechas en el intervalo especificado (días, meses, años, etc.).\n",
    "       \n",
    "- **Condiciones:**\n",
    "    - **IF(Condition, ValueIfTrue, ValueIfFalse)**: Evalúa una condición y devuelve un valor si la condición es verdadera y otro valor si es falsa."
   ]
  }
 ],
 "metadata": {
  "kernelspec": {
   "display_name": "Python 3 (ipykernel)",
   "language": "python",
   "name": "python3"
  },
  "language_info": {
   "codemirror_mode": {
    "name": "ipython",
    "version": 3
   },
   "file_extension": ".py",
   "mimetype": "text/x-python",
   "name": "python",
   "nbconvert_exporter": "python",
   "pygments_lexer": "ipython3",
   "version": "3.11.7"
  }
 },
 "nbformat": 4,
 "nbformat_minor": 5
}
