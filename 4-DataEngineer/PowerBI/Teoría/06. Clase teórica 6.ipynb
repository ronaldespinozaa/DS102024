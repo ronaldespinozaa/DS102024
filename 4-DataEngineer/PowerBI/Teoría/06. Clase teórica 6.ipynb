{
 "cells": [
  {
   "cell_type": "markdown",
   "id": "f96f9a97-86e8-45a4-a2c9-723942af67ed",
   "metadata": {},
   "source": [
    "## Clase teórica 06\n",
    "\n",
    "1. ### Principios de visualización: posición, tamaño y color\n",
    "\n",
    "Como analistas de datos, una de nuestras tareas principales será crear visualizaciones que comuniquen información de forma transparente, sin necesidad de explicaciones extra.\n",
    "\n",
    "A la hora de crear nuestras visualizaciones debemos tener en cuenta distintos aspectos que influyen en mayor y menor medida en la lectura por parte de los usuarios del tablero. Dos de los puntos más importantes que tenemos que tener en cuenta son el tamaño y la posición.\n",
    "\n",
    "<div align=\"center\">\n",
    "   <img src=\"Imagenes y Videos - Clase 06\\S02-C06-E1.1.Posición.png\">\n",
    "</div>\n",
    "\n",
    "Lo primero que vamos a leer es lo que está en el centro con letra más grande. Luego, nuestra vista recorrerá el tablero de izquierda a derecha y de arriba a abajo.\n",
    "\n",
    "Así mismo, la información estará asociada a colores para que se entienda mejor y más rápido. Los colores pueden diferenciarse por el tono, la intensidad, o el contraste. A su vez el color puede marcar secuencia o categorización.\n",
    "\n",
    "- **Secuencia**: Los colores secuenciales se utilizan para mostrar valores ordenados de mayor a menor, por ejemplo, en un mapa coroplético donde claro signifique poca densidad y oscuro alta densidad. "
   ]
  },
  {
   "cell_type": "markdown",
   "id": "d2b3d779-1109-40ff-ac4b-ea488d5a9dbf",
   "metadata": {},
   "source": [
    "<div align=\"center\">\n",
    "   <img src=\"Imagenes y Videos - Clase 06\\S02-C06-E1.2.Mapa.png\">\n",
    "</div>\n",
    "\n",
    "- **Categorización**: Los colores categóricos se utilizan para distinguir datos pertenecientes a\n",
    "diferentes grupos. En particular, se asocia a la representación de variables categóricas."
   ]
  },
  {
   "cell_type": "markdown",
   "id": "a3e8b3f1-f3b8-4122-a75e-c0fb8202f59e",
   "metadata": {},
   "source": [
    "<div align=\"center\">\n",
    "   <img src=\"Imagenes y Videos - Clase 06\\S02-C06-E1.3.colores categóricos.png\">\n",
    "</div>\n",
    "\n",
    "#### Buenas Prácticas a tener en cuenta\n",
    "\n",
    "La presentación visual impacta en la comprensión de los datos y por eso el diseño gráfico de nuestro tablero es muy importante para lograr los resultados esperados. Algunos consejos para seguir:\n",
    "\n",
    "- **No abusar de los colores**: Para evitar confusión, el color debe tener un significado claro. Además, debemos ser siempre consistente con nuestra paleta de colores. \n",
    "- **Asignar colores específicos a categorías**: Las categorías deben tener el mismo color a lo largo del reporte para facilitar la comprensión.\n",
    "- **Cuidado con los gráficos de torta**: Evitar su uso con muchas categorías para una mejor comprensión.\n",
    "- **Alinear y balancear elementos visuales**: Es necesario que nos aseguremos que todas nuestras visualizaciones estén organizadas de manera lógica y estéticamente agradable.\n",
    "- **Revisar tipografías**: Elijamos fuentes simples y profesionales: Buenas opciones para usar son, por ejemplo, Segoe UI, Verdana o Trebuchet MS que tienen un estilo moderno y legible. En cambio, no recomendamos usar fuentes como Comic Sans MS, demasiado informal o Courier New, que por su estilo monoespaciado puede hacer que el informe parezca menos personalizado. \n",
    "- **Revisar tamaños de letra**: debemos asegurarnos de que el tamaño sea lo suficientemente grande para ser leído fácilmente, pero no tan grande que distraiga y usemos diferentes tamaños y pesos de fuente para crear una jerarquía visual clara, diferenciando títulos, subtítulos y contenido.\n",
    "- **Mantener la simplicidad**: Evitemos la sobrecarga de información en un solo gráfico o dashboard. Debemos dejar el suficiente espacio en blanco entre los gráficos para que éstos sean legibles. \n",
    "- **Ser consistentes**: todos los gráficos del reporte deben tener el mismo estilo. Hagamos especial foco en títulos, ejes y formatos de fechas y números.\n",
    "\n",
    "2. ### Marcadores y tooltips\n",
    "\n",
    "- **Marcadores**:\n",
    "\n",
    "Los marcadores nos permiten asociar determinadas acciones del usuario sobre el tablero a los datos, por ejemplo, generando filtros de acuerdo a los clic que haga el usuario sobre el dashboard. Esta herramienta incentiva la interactividad de los reportes, facilitando la presentación de datos y permitiendo a los usuarios navegar a través de diferentes vistas y escenarios predefinidos. \n",
    "\n",
    "Para usar un marcador debemos configurar la página del reporte tal como queremos capturarla (aplicando filtros, configurando visualizaciones, etc) y luego en el menú “Ver” desplegar el panel de marcadores para agregarlo. Al cliquear \"Agregar\" crearemos un nuevo marcador que capturará el estado actual de la página.\n",
    "\n",
    "En este caso, tenemos dos gráficos, un mapa y un gráfico de barras. Desde el panel “Selección”, ocultamos el gráfico (cliqueando el ícono del ojo para que aparezca tachado) y dejamos el Mapa a la vista.Luego, agregamos el marcador."
   ]
  },
  {
   "cell_type": "markdown",
   "id": "2a6e2416-eb72-4228-8411-ba7d07708ed9",
   "metadata": {},
   "source": [
    "<div align=\"center\">\n",
    "   <img src=\"Imagenes y Videos - Clase 06\\S02-C06-E2-1.Agregar-marcador.png\">\n",
    "</div>\n",
    "\n",
    "Si queremos, podemos cambiarle el nombre haciendo clic en los tres puntos que aparecen al costado del marcador"
   ]
  },
  {
   "cell_type": "markdown",
   "id": "63a29fab-23d6-4b6a-80d2-51e3adb874e5",
   "metadata": {},
   "source": [
    "<div align=\"center\">\n",
    "   <img src=\"Imagenes y Videos - Clase 06\\S02-C06-E2-2.Cambiar nombre.png\">\n",
    "</div>\n",
    "\n",
    "Lo que hará ese marcador es sacarle una foto a la configuración de la página y cada vez que una acción se asocie a ese marcador, la página se mostrará con la configuración guardada. \n",
    "\n",
    "Deberemos tener un marcador por cada vista que queramos mostrar. En este ejemplo, realizaremos un marcador para ver el mapa y otro para ver el gráfico (contrario al ejemplo anterior, dejamos el gráfico visible y el mapa escondido)."
   ]
  },
  {
   "cell_type": "markdown",
   "id": "0792f198-4d52-4175-b5cc-eb993c535074",
   "metadata": {},
   "source": [
    "<div align=\"center\">\n",
    "   <img src=\"Imagenes y Videos - Clase 06\\S02-C06-E2-3.Marcadoresx2.png\">\n",
    "</div>\n",
    "\n",
    "Para asociar  una acción al marcador debemos cliquear el objeto, luego ir al formato de la imagen, buscar la opción de acción para activarla y elegir el tipo “marcador” junto con el marcador correspondiente. "
   ]
  },
  {
   "cell_type": "markdown",
   "id": "dc04b44d-bb9d-4fb2-a9c7-e9a7591c348a",
   "metadata": {},
   "source": [
    "<div align=\"center\">\n",
    "   <img src=\"Imagenes y Videos - Clase 06\\S02-C06-E2-3.Marcadoresx2.png\">\n",
    "</div>"
   ]
  },
  {
   "cell_type": "markdown",
   "id": "4c70cb66-6a84-4c70-b509-e734b3c8b8a1",
   "metadata": {},
   "source": [
    "<div align=\"center\">\n",
    "   <img src=\"Imagenes y Videos - Clase 06\\S02-C06-E2-4.Botón-mapa.png\">\n",
    "</div>\n",
    "\n",
    "Una vez configuradas las acciones de los botones, veremos cómo un gráfico reemplaza al otro según corresponda. \n",
    "\n",
    "Usar marcadores en Power BI nos permitirá generar mayor interactividad, generando una mejor experiencia de usuario al facilitar la navegación. Sin embargo, debemos tener en cuenta que esta herramienta implica un mantenimiento muy exhaustivo: Si los datos o la estructura del informe cambian frecuentemente, puede ser necesario actualizar los marcadores regularmente. Así mismo, en reportes muy grandes, el uso excesivo de marcadores puede afectar el rendimiento de la navegación.\n",
    "\n",
    "- **Tooltips**\n",
    "\n",
    "Los tooltips (en castellano, “Información sobre herramientas”) de Power BI nos sirven para mostrar información adicional sobre un dato específico cuando el usuario pasa el cursor sobre un elemento visual de un informe (por ejemplo, una barra en un gráfico). Los tooltips permiten a los usuarios ver detalles adicionales sin sobrecargar el informe con información visible de forma permanente.\n",
    "\n",
    "Existen dos tipos de tooltips: los predeterminados, que Power BI genera automáticamente con los datos que componen la visualización, y los personalizados, que configurar específicamente. \n",
    "\n",
    "La mayoría de las visualizaciones tienen de forma predeterminada un tooltip que muestra los mismos datos que la propia visualización pero en formato texto."
   ]
  },
  {
   "cell_type": "markdown",
   "id": "ffbf9c49-b513-4bcf-ae05-e291d0900462",
   "metadata": {},
   "source": [
    "<div align=\"center\">\n",
    "   <img src=\"Imagenes y Videos - Clase 06\\S02-C06-E2-6.tootltip 1.png\">\n",
    "</div>\n",
    "\n",
    "Sin embargo, también podemos generar tooltips personalizados de dos formas:\n",
    "\n",
    "> **Tooltips personalizados - campos**\n",
    "\n",
    "En primer lugar podemos querer mostrar un dato adicional dentro del tooltip predeterminado. Para hacerlo, solo basta con seleccionar nuestra visualización y agregar el campo que queramos mostrar en la sección “información sobre herramientas” del panel compilar."
   ]
  },
  {
   "cell_type": "markdown",
   "id": "23652646-33e7-4286-b473-8aafcc8382ab",
   "metadata": {},
   "source": [
    "<div align=\"center\">\n",
    "   <img src=\"Imagenes y Videos - Clase 06\\S02-C06-E2-7.tootltip 2.png\">\n",
    "</div>"
   ]
  },
  {
   "cell_type": "markdown",
   "id": "46273b4e-318a-48d4-a21c-dab124923433",
   "metadata": {},
   "source": [
    "<div align=\"center\">\n",
    "   <img src=\"Imagenes y Videos - Clase 06\\S02-C06-E2-8.tootltip 3.png\">\n",
    "</div>\n",
    "\n",
    "> **Tooltips personalizados - páginas**\n",
    "\n",
    "Otra opción posible es mostrar una nueva visualización como tooltip. Para ello debemos crear una nueva página y, antes de agregar una visualización, cambiar el tipo de página a “Información sobre herramientas” desde el panel de Formato."
   ]
  },
  {
   "cell_type": "markdown",
   "id": "f9257868-386f-4160-a66f-f16611e22ad4",
   "metadata": {},
   "source": [
    "<div align=\"center\">\n",
    "   <img src=\"Imagenes y Videos - Clase 06\\S02-C06-E2-9.tootltip 4.png\">\n",
    "</div>\n",
    "\n",
    "Allí crearemos la visualización que queremos usar como tooltip"
   ]
  },
  {
   "cell_type": "markdown",
   "id": "88f2c04c-cf2f-4ae1-b9c4-714dbc28954e",
   "metadata": {},
   "source": [
    "<div align=\"center\">\n",
    "   <img src=\"Imagenes y Videos - Clase 06\\S02-C06-E2-10.tootltip 5.png\">\n",
    "</div>\n",
    "\n",
    "Y por último asociaremos la página creada a la información sobre herramientas de nuestra visualización original desde el menú “Propiedades”, dentro del panel de Formato."
   ]
  },
  {
   "cell_type": "markdown",
   "id": "c2f1d240-0c30-4cb3-8022-2b48ba3f3efd",
   "metadata": {},
   "source": [
    "<div align=\"center\">\n",
    "   <img src=\"Imagenes y Videos - Clase 06\\S02-C06-E2-11.tootltip 6.png\">\n",
    "</div>"
   ]
  },
  {
   "cell_type": "markdown",
   "id": "0b664f4e-aaa0-465d-972f-a5d09003abb8",
   "metadata": {},
   "source": [
    "<div align=\"center\">\n",
    "   <img src=\"Imagenes y Videos - Clase 06\\S02-C06-E2-12.tootltip 7.png\">\n",
    "</div>\n",
    "Si bien los tooltip personalizados desde una página de informe son una herramienta muy valiosa no recomendamos agregarlos a todos los gráficos del reporte porque puede hacer mucho ruido visual.\n",
    "\n",
    "\n",
    "3. ### Drill Through / Obtención de detalles\n",
    "El  drill through es una funcionalidad muy utilizada para potenciar la interactividad en los reportes en Power BI, ya que permite a los usuarios acceder a un mayor detalle sobre la información visualizada navegando desde una visualización de alto nivel a detalles más específicos dentro de un informe. En lugar de simplemente filtrar los datos en una visualización existente, el drill through nos lleva a una página secundaria predefinida que contiene detalles específicos relacionados con los datos seleccionados. Esto es útil para explorar información detallada sin sobrecargar la visualización principal con demasiados detalles.\n",
    "\n",
    "Para poder implementarla debemos, primero, crear una página, definirla como drill through y elegir cuáles serán los campos que la filtrarán. Los campos elegidos deben ser los mismos que están siendo visualizados en el o los gráficos de la página principal.  \n",
    "\n",
    "Así mismo, en la página de drill through debemos insertar una visualización con el detalle que queremos mostrar. En general, esta página tendrá una tabla o matriz con distintas dimensiones y valores de detalle.\n",
    "\n",
    "Una vez que nuestra página de drill through está configurada, automáticamente todos los gráficos que incluyan los datos seleccionados tendrán la opción (en el menú del clic derecho) de navegar hasta la página de detalle correspondiente. \n",
    "\n",
    "`VIDEO S02-C06-E03_Obtención de detalles`\n",
    "\n",
    "Esta funcionalidad permitirá a nuestros usuarios tener rápido acceso a detalles específicos sin sobrecargar las visualizaciones principales.\n",
    "\n",
    "4. ### Interacciones entre gráficos\n",
    "\n",
    "De forma predeterminada, todos los gráficos que se encuentran en una misma página de un reporte interactúan entre sí, siempre y cuando estén construidos con datos de una misma fuente o de fuentes relacionadas. Por esta razón, si seleccionamos un elemento de un gráfico veremos que los demás también se filtran. \n",
    "\n",
    "Aunque las interacciones predeterminadas son útiles para explorar la correlación entre diferentes conjuntos de datos, a veces necesitamos personalizarlas para adaptarse mejor a nuestras necesidades analíticas. \n",
    "\n",
    "Para cambiar cómo un gráfico responde a las interacciones con otros gráficos en la misma página debemos seleccionar el gráfico cuyas interacciones queremos editar, luego ir a Formato desde el menú superior y cliquear en el botón Editar Interacciones. \n",
    "\n",
    "Al hacerlo aparecerán sobre cada una de las visualizaciones unos íconos que nos permitirán elegir el tipo de interacción (si filtrar o resaltar) o decidir eliminar la interacción por completo. \n",
    "\n",
    "`VIDEO S02-C06-E04_Interacción entre gráficos`\n",
    "\n",
    "5. ### Armado de documentación\n",
    "\n",
    "La documentación en cualquier proyecto de data analytics es esencial por varias razones:\n",
    "- Es el instrumento para comunicar a los miembros del equipo y stakeholders cuáles son los objetivos del proyecto y las métricas clave, reduciendo la posibilidad de malentendidos. \n",
    "\n",
    "- Nos permite actualizar y realizar el mantenimiento de los tableros, ya que debe permitir a cualquiera analista de datos que la lea entender la estructura y lógica del proyecto, lo que facilita la realización de cambios y la resolución de problemas.\n",
    "\n",
    "- Documentar las fuentes de datos, los procesos de transformación y las reglas de negocio aplicadas asegura que los datos se manejen de manera consistente. Esto es crucial para mantener la calidad y fiabilidad de la información presentada en los dashboards.\n",
    "\n",
    "- La documentación proporciona una guía estructurada para los nuevos miembros del equipo, permitiéndoles comprender rápidamente el proyecto y su contexto. Esto reduce el tiempo de capacitación y facilita una integración más rápida y efectiva.\n",
    "\n",
    "- En muchos casos, las organizaciones deben cumplir con regulaciones y estándares específicos. La documentación completa es fundamental para demostrar cumplimiento durante auditorías y revisiones regulatorias, proporcionando un rastro claro de cómo se manejaron y analizaron los datos.\n",
    "\n",
    "### Estructura para nuestra documentación\n",
    "- **Objetivo principal del tablero**\n",
    "  \n",
    "¿Qué resultados esperan los usuarios clave? ¿Cuál es su necesidad principal?\n",
    "\n",
    "- **Usuarios clave**\n",
    "  \n",
    "¿Quiénes son las personas que utilizarán el tablero? ¿Qué puestos ocupan o qué actividades principales realizan en relación al consumo y análisis de datos? \n",
    "\n",
    "- **Requerimientos**\n",
    "  \n",
    "¿Cuáles fueron los pedidos específicos de los usuarios clave? ¿Qué preguntas responderemos mediante el tablero desarrollado?\n",
    "\n",
    "- **Fuentes de datos**\n",
    "  \n",
    "Lista de fuentes de datos utilizadas en el tablero y Diagrama de Entidad-Relación.\n",
    "\n",
    "- **Acciones de limpieza clave**\n",
    "  \n",
    "No será necesario listar todos y cada uno de los pasos de limpieza pero sí resumir o aclarar aquellos que implican cambios importantes en la tabla como la creación de columnas o los filtros y eliminación de duplicados. \n",
    "\n",
    "- **Principales indicadores**\n",
    "  \n",
    "Definir cuáles son nuestros principales indicadores servirá, no solo, para llevar un registro de lo que hicimos, sino también, para definir el glosario de métricas. Una forma de presentar los indicadores es en una tabla con la siguiente estructura:\n",
    "\n",
    "|KPI                 |Fórmula                                        |Unidad            |Descripción                                                      |\n",
    "|--------------------|-----------------------------------------------|------------------|-----------------------------------------------------------------|\n",
    "|# de ventas         |COUNT(ID)                                      |Número entero (#) |Cantidad de ventas agregadas.                                    |\n",
    "|Porcentaje de ventas|DIVIDE(CALCULATE(COUNT(ID), FILTER), COUNT(ID))|Porcentaje (%)    |Distribución de ventas por dimensiones (definifas a continuación)|\n",
    "|Ticket promedio     |AVERAGE(Venta)                                 |Número decimal ($)|Ticket de venta promedio por dimensión.                          |\n",
    "\n",
    "- **Dimensiones y filtros**\n",
    "  \n",
    "Cuáles serán las principales dimensiones de análisis y qué filtros (segmentadores de datos) serán utilizados\n",
    "\n",
    "- **Descripción general del tablero**\n",
    "   \n",
    "Lista de páginas y descripción del foco principal de cada una. "
   ]
  },
  {
   "cell_type": "code",
   "execution_count": null,
   "id": "e63bfce6-48ac-4a27-b550-e42bc7e9389d",
   "metadata": {},
   "outputs": [],
   "source": [
    "##############################################################################################################################"
   ]
  }
 ],
 "metadata": {
  "kernelspec": {
   "display_name": "Python 3 (ipykernel)",
   "language": "python",
   "name": "python3"
  },
  "language_info": {
   "codemirror_mode": {
    "name": "ipython",
    "version": 3
   },
   "file_extension": ".py",
   "mimetype": "text/x-python",
   "name": "python",
   "nbconvert_exporter": "python",
   "pygments_lexer": "ipython3",
   "version": "3.11.7"
  }
 },
 "nbformat": 4,
 "nbformat_minor": 5
}
