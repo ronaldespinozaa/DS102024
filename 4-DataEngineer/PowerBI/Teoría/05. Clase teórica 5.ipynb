{
 "cells": [
  {
   "cell_type": "markdown",
   "id": "8c738dc5-b5bc-4ae4-b918-dafcf014a8fd",
   "metadata": {},
   "source": [
    "## Clase teórica 05\n",
    "\n",
    "1. ### Tabla calendario\n",
    "\n",
    "¿Qué es una tabla calendario?\n",
    "\n",
    "En Power BI, una tabla calendario o tabla de fechas es esencial para trabajar con datos relacionados con el tiempo. Esta herramienta facilita análisis temporales, como la comparación de ventas año a año o la identificación de tendencias mensuales. La tabla calendario permite la segmentación de datos por días, semanas, meses, trimestres y años, entre otros periodos.\n",
    "\n",
    "Una Tabla Calendario es una tabla independiente que contiene todas las posibles fechas del período de tiempo que se desea analizar. Se puede enriquecer con columnas adicionales como día de la semana, nombre del mes, trimestre y más.\n",
    "\n",
    "Si nos aseguramos de tener una tabla de fechas bien estructurada, facilitaremos el análisis y la visualización de datos a lo largo del tiempo.\n",
    "\n",
    "Estas tablas nos permiten trabajar con:\n",
    "\n",
    "- **Consistencia Temporal**: Asegura que todas las visualizaciones y cálculos utilizan las mismas definiciones de períodos.\n",
    "- **Flexibilidad**: Permite la creación de filtros y segmentaciones temporales.\n",
    "- **Funciones DAX**: Facilita el uso de funciones **DAX** específicas para análisis temporal, como **TOTALYTD**, **SAMEPERIODLASTYEAR**, entre otras.\n",
    "\n",
    "#### ¿Cómo crear una tabla calendario en Power BI?\n",
    "\n",
    "1. **Crear la Tabla Calendario**:\n",
    "\n",
    "Accedemos a la vista de tabla y elegimos Inicio > Cálculos > Nueva tabla.\n",
    "\n",
    "2. **En la barra de fórmulas escribimos**\n",
    "\n",
    "```\n",
    "CALENDARIO = CALENDAR(StartDate, EndDate)\n",
    "```\n",
    "\n",
    "Donde todo lo que va antes de la coma es la fecha de inicio de la tabla y lo que va al final representa la última fecha del periodo que queremos en formato tabular.\n",
    "\n",
    "**Ejemplo**: \n",
    "```\n",
    "CALENDARIO = CALENDAR(DATE(2020, 01, 01), DATE(2023, 12, 31))\n",
    "```\n",
    "\n",
    "Se creará una tabla de una sola columna (llamada Date o Fecha) que contendrá una fila por día dentro del periodo indicado.\n",
    "\n",
    "<div align=\"center\">\n",
    "   <img src=\"Imagenes y Videos - Clase 05\\S02-C05-E01_1. Calendario.png\">\n",
    "</div>\n",
    "\n",
    "3. **Podemos crear tantas columnas como queramos para descomponer esta fecha en elementos de interés, como por ejemplo**:\n",
    "\n",
    "**Año = YEAR(CALENDARIO[Date])** → Devuelve el año\n",
    "\n",
    "**Mes = MONTH(CALENDARIO[Date])** → Devuelve el número de mes\n",
    "\n",
    "**Día = DAY(CALENDARIO[Date])** → Devuelve el número de día\n",
    "\n",
    "**Semestre= ROUNDUP(CALENDARIO[Mes]/6;0)** → Devuelve el número de semestre\n",
    "\n",
    "**Cuatrimestre = ROUNDUP(CALENDARIO[Mes]/4;0)** → Devuelve el número de cuatrimestre\n",
    "\n",
    "**Trimestre = ROUNDUP(CALENDARIO[Mes]/3;0)** → Devuelve el número de trimestre\n",
    "\n",
    "**Semana = WEEKNUM(CALENDARIO[Date])** → Devuelve el número de semana"
   ]
  },
  {
   "cell_type": "markdown",
   "id": "9665ffa7-8d1f-45f6-887b-84e9e26eea2c",
   "metadata": {},
   "source": [
    "<div align=\"center\">\n",
    "   <img src=\"Imagenes y Videos - Clase 05\\S02-C05-E01_2. Columnas-adicionales.png\">\n",
    "</div>"
   ]
  },
  {
   "cell_type": "markdown",
   "id": "398172bf-3520-4143-aebc-010744cc8be0",
   "metadata": {},
   "source": [
    "<div align=\"center\">\n",
    "   <img src=\"Imagenes y Videos - Clase 05\\S02-C05-E01_3. Columna-año.png\">\n",
    "</div>\n",
    "\n",
    "4. **Una vez que tengamos nuestra tabla calendario con todas las columnas que deseemos, debemos conectarla a los datos existentes. Para ello, en la vista de relaciones, arrastramos la columna \"Fecha\" de la tabla calendario a la columna de fecha correspondiente en las tablas que contienen nuestros datos.**"
   ]
  },
  {
   "cell_type": "markdown",
   "id": "30f7830a-30a2-46da-93b2-753462bd2cd3",
   "metadata": {},
   "source": [
    "<div align=\"center\">\n",
    "   <img src=\"Imagenes y Videos - Clase 05\\S02-C05-E01_4. Relación Calendario-Ventas.png\">\n",
    "</div>\n",
    "\n",
    "2. ### Nuevas columnas desde el editor de queries\n",
    "\n",
    "En clases anteriores presentamos Power Query, una herramienta poderosa e incorporada orgánicamente a Power BI para transformar y preparar datos antes de visualizarlos. Ahora explicaremos cómo crear nuevas columnas, dividir columnas existentes y combinar columnas utilizando el editor de Power Query. Estos procesos son esenciales para limpiar y estructurar los datos de manera que sean útiles para el análisis.\n",
    "\n",
    "**Crear nuevas columnas en Power Query**\n",
    "\n",
    "1. Accedemos a Power Query a través de “Transformar Datos”\n",
    "\n",
    "> En el menú de arriba, vamos a “Agregar columna”. Veremos que hay varias opciones a la hora de crear columnas nuevas en este editor. > Empezaremos por una de las más comunes y “libres”, la columna personalizada.\n",
    "> \n",
    "> _**Columna personalizada**_\n",
    "> Aquí podremos crear columnas basadas en fórmulas. Recordemos que en Power Query se utiliza el lenguaje m y no DAX.\n",
    "> \n",
    "2. Seleccionamos la tabla donde se desea agregar la nueva columna.\n",
    "\n",
    "3. Hacemos click en \"Agregar columna\" en la barra de opciones.\n",
    "\n",
    "4. Seleccionamos \"Columna personalizada\".\n",
    "\n",
    "5. En el cuadro de diálogo Agregar columna personalizada, ingresamos el nombre de la nueva columna y la fórmula deseada. Por ejemplo, para crear una columna que calcule el 10% de un valor de ventas, se podría usar la fórmula [Venta] * 0.1.\n",
    "\n",
    "6. Hacemos clic en \"Aceptar\" para crear la nueva columna.\n",
    "\n"
   ]
  },
  {
   "cell_type": "markdown",
   "id": "e7d42add-f553-48e3-8af3-62badce20f79",
   "metadata": {},
   "source": [
    "<div align=\"center\">\n",
    "   <img src=\"Imagenes y Videos - Clase 05\\S02-C05-E02_1. Columna-personalizada.png\">\n",
    "</div>\n",
    "\n",
    "**Las columnas personalizadas nos permiten muchos cálculos posibles**: promedios, restar una columna de otra, podemos armar rangos o categorías para nuestros datos y un sinfín de etcétera. En el cuadro que se abre al elegir una columna personalizada, junto al cuadro para escribir la fórmula deseada, tenemos todas las columnas de nuestro dataset para insertar fácilmente. Esto favorece la escritura en lenguaje m de los nombres de las columnas.\n",
    "\n",
    "- _**Columna condicional**_:\n",
    "\n",
    "Para crear una nueva columna basada en condiciones lógicas debemos seguir estos pasos:\n",
    "\n",
    "1. En Power Query, seleccionamos la tabla donde se desea agregar la nueva columna.\n",
    "2. Hacemos click en \"Agregar columna\" en la cinta de opciones.\n",
    "3. Seleccionamos \"Columna condicional\".\n",
    "4. En el cuadro de diálogo Agregar columna condicional, definimos las condiciones. Por ejemplo, para crear una columna que clasifique las ventas como \"Altas\" si superan 1000 y \"Bajas\" si no, se puede configurar como se muestra a continuación\n",
    "5. Hacemos clic en \"Aceptar\" para crear la nueva columna."
   ]
  },
  {
   "cell_type": "markdown",
   "id": "59ac56f8-8675-416a-86ab-c83c55d7bc5b",
   "metadata": {},
   "source": [
    "<div align=\"center\">\n",
    "   <img src=\"Imagenes y Videos - Clase 05\\S02-C05-E02_2. Columna-condicional.png\">\n",
    "</div>"
   ]
  },
  {
   "cell_type": "markdown",
   "id": "c2eb2311-3508-4522-86bb-bfe817d56ba8",
   "metadata": {},
   "source": [
    "- _**Columna índice**_:\n",
    "\n",
    "Una última columna que podemos mencionar es la Columna de índice. Esta puede ser de utilidad si necesitamos enumerar todo el dataset en un cierto orden específico. Tenemos la opción de empezar por 0, por 1 o personalizar el primer valor de índice. En el caso de personalizar el índice, además de elegir por qué valor iniciar, podemos elegir el tipo de incremento (y así, por ejemplo, armar un índice que salte de 10 en 10 o de 2 en 2). Si tenemos una tabla sin ID esta columna puede ser una buena opción para crearla.\n",
    "\n",
    "<div align=\"center\">\n",
    "   <img src=\"Imagenes y Videos - Clase 05\\S02-C05-E02_3. Columna-indice.png\">\n",
    "</div>\n",
    "\n",
    "- _**Dividir Columnas / Split column**_\n",
    "  \n",
    "Al igual que Excel, Power Query nos permite dividir una columna en múltiples columnas basadas en un delimitador (por ejemplo, una coma, un espacio, etc.):\n",
    "\n",
    "1. En Power Query, seleccionamos la columna que se desea dividir.\n",
    "2. Hacemos click en \"Dividir columna\" dentro de “Transformar” en la barra de opciones. (También encontramos esta opción al hacer click derecho sobre la selección)\n",
    "3. Seleccionamos \"Por delimitador\". (Hay otras opciones para establecer la división, pero esta es la más frecuente).\n",
    "4. En el cuadro de diálogo, seleccionamos el delimitador (por ejemplo, una coma, un espacio, un punto y coma, etc.) y elegimos cómo deseamos dividir la columna (por cada aparición del delimitador, en la izquierda más a la izquierda, en la derecha más a la derecha, etc.).\n",
    "5. Hacemos clic en \"Aceptar\" para dividir la columna."
   ]
  },
  {
   "cell_type": "markdown",
   "id": "2f8b7d50-e730-4908-a4da-db60286fa9a9",
   "metadata": {},
   "source": [
    "<div align=\"center\">\n",
    "   <img src=\"Imagenes y Videos - Clase 05\\S02-C05-E02_4. Dividir-columna.png\">\n",
    "</div>"
   ]
  },
  {
   "cell_type": "markdown",
   "id": "a0f0f037-b8e0-48f8-9de8-167058d17eaf",
   "metadata": {},
   "source": [
    "<div align=\"center\">\n",
    "   <img src=\"Imagenes y Videos - Clase 05\\S02-C05-E02_5. Dividir-columna-cuadro.png\">\n",
    "</div>\n",
    "\n",
    "- _**Combinar Columnas / Merge column**_\n",
    "\n",
    "Para combinar dos o más columnas en una sola columna:\n",
    "1. En Power Query, seleccionamos las columnas que queremos combinar (manteniendo presionada la tecla Ctrl mientras se hace click en cada columna).\n",
    "2. Hacemos clic en \"Combinar columnas\" dentro de “Transformar” en la barra de opciones. (También encontramos esta opción al hacer clic derecho sobre la selección)\n",
    "3. En el cuadro de diálogo Combinar columnas, seleccionar el delimitador que se desea usar para separar los valores combinados (por ejemplo, un espacio o una coma) y proporcionar un nombre para la nueva columna.\n",
    "4. Hacemos clic en \"Aceptar\" para crear la nueva columna combinada."
   ]
  },
  {
   "cell_type": "markdown",
   "id": "361f54c0-3085-4f35-99e8-ae3d017e4199",
   "metadata": {},
   "source": [
    "<div align=\"center\">\n",
    "   <img src=\"Imagenes y Videos - Clase 05\\S02-C05-E02_6. Combinar-columnas.png\">\n",
    "</div>"
   ]
  },
  {
   "cell_type": "markdown",
   "id": "4d48d4ab-ac76-4b1a-839c-1c202cab20af",
   "metadata": {},
   "source": [
    "<div align=\"center\">\n",
    "   <img src=\"Imagenes y Videos - Clase 05\\S02-C05-E02_7. Combinar-columnas-cuadro.png\">\n",
    "</div>\n",
    "De esta forma, las dos columnas iniciales dejarán de ser parte de la tabla y se generará una nueva columna unificada. Si quisiéramos, por los requerimientos del tablero, tener las dos columnas originales y, también, la columna combinada debemos seguir los mismos pasos pero desde el menú “Agregar columna” (en lugar de hacerlo desde el menú “Transformar”)"
   ]
  },
  {
   "cell_type": "markdown",
   "id": "575ea621-a610-479f-9d9c-eef47fd50761",
   "metadata": {},
   "source": [
    "<div align=\"center\">\n",
    "   <img src=\"Imagenes y Videos - Clase 05\\S02-C05-E02_8. Combinar-columnas-desde-Agregar.png\">\n",
    "</div>\n",
    "\n",
    "- _**Agregar columnas específicas según el tipo de dato**_\n",
    "\n",
    "Por último, también podremos agregar columnas específicas dependiendo del tipo de dato de la columna original. \n",
    "\n",
    "Por ejemplo, podemos calcular la antigüedad o extraer el año en columnas de fechas:"
   ]
  },
  {
   "cell_type": "markdown",
   "id": "c5dbe34a-7658-4743-8a37-0046182183fd",
   "metadata": {},
   "source": [
    "<div align=\"center\">\n",
    "   <img src=\"Imagenes y Videos - Clase 05\\S02-C05-E02_9.Agregar-fecha.png\">\n",
    "</div>\n",
    "\n",
    "También podríamos necesitar, por ejemplo, saber cuál es la ganancia por producto y para eso podríamos dividir la columna ganancia por la columna cantidad:"
   ]
  },
  {
   "cell_type": "markdown",
   "id": "6a07107e-69e2-4ba5-a78c-0f046dcd41d9",
   "metadata": {},
   "source": [
    "<div align=\"center\">\n",
    "   <img src=\"Imagenes y Videos - Clase 05\\S02-C05-E02_10.Agregar-num.png\">\n",
    "</div>"
   ]
  },
  {
   "cell_type": "markdown",
   "id": "51598dd6-7575-408c-a268-113c161d7d8e",
   "metadata": {},
   "source": [
    "<div align=\"center\">\n",
    "   <img src=\"Imagenes y Videos - Clase 05\\S02-C05-E02_11.Agregar-num-dividir.png\">\n",
    "</div>"
   ]
  },
  {
   "cell_type": "markdown",
   "id": "2e2e196f-ea75-4a89-82fb-116bf4d7d0dd",
   "metadata": {},
   "source": [
    "3. ### DAX avanzado\n",
    "\n",
    "En clases anteriores hemos comenzado a trabajar con DAX. En esta sección veremos una nueva Cheat Sheet de fórmulas más avanzadas que nos pueden resultar útiles en el trabajo con datos en Power BI. Estas funciones avanzadas nos permiten manipular y analizar los datos de maneras muy específicas y eficientes.\n",
    "\n",
    "- **RELATED(Column)**: permite acceder a columnas en tablas relacionadas. Es útil cuando necesitamos traer información de una tabla relacionada a la tabla actual.\n",
    "\n",
    "**Ejemplo**:\n",
    "```\n",
    "EsDevuelto = RELATED(Devoluciones[Devuelto])\n",
    "```\n",
    "\n",
    "Esta nueva columna nos indica para cada fila de pedido si se trata de un pedido devuelto en base a la tabla de Devoluciones.\n",
    "\n",
    "- **SWITCH(Expression, Value1, Result1, Value2, Result2, ..., ElseResult)**: evalúa una expresión contra una lista de valores y devuelve el primer resultado coincidente.\n",
    "\n",
    "**Ejemplo**:\n",
    "```\n",
    "ClasificacionVentas = SWITCH(\n",
    "    TRUE(),\n",
    "    Ventas[Venta] > 1000, \"Alta\",\n",
    "    Ventas[Venta] > 500, \"Media\",\n",
    "    \"Baja\"\n",
    ")\n",
    "```\n",
    "\n",
    "Este ejemplo clasifica las ventas como \"Alta\", \"Media\" o \"Baja\" según la cantidad vendida.\n",
    "\n",
    "- **LOOKUPVALUE(<result_columnName>, <search_columnName>, <search_value> [, <search2_columnName>, <search2_value>]...[, <alternateResult>])**: devuelve el valor de una columna en una tabla relacionada basada en una condición.\n",
    "\n",
    "**Ejemplo**:\n",
    "\n",
    "```\n",
    "Gerente del pedido = LOOKUPVALUE(Personas[Gerente regional], Personas[Región], Ventas[Región])\n",
    "```\n",
    "\n",
    "Esta columna busca para cada pedido (cada fila) de la tabla Ventas el gerente regional responsable de ese pedido en la tabla de Personas.\n",
    "\n",
    "- **ALL(Column)**: elimina todos los filtros de una tabla o columna.\n",
    "\n",
    "**Ejemplo**:\n",
    "\n",
    "```\n",
    "GananciasTotales = CALCULATE(SUM(Ventas[Ganancia]), ALL(Ventas))\n",
    "```\n",
    "\n",
    "Este ejemplo calcula la suma de las ganancias totales en ventas sin ningún filtro aplicado.\n",
    "\n",
    "- **FILTER(Table, Condition)**: devuelve una tabla que cumple con una condición específica.\n",
    "\n",
    "**Ejemplo**:\n",
    "\n",
    "```\n",
    "VentasGrandes = CALCULATE(\n",
    "    SUM(Ventas[Precio total]),\n",
    "    FILTER(Ventas, Ventas[Cantidad] > 10)\n",
    ")\n",
    "```\n",
    "\n",
    "Este ejemplo crea una columna con el precio total de las ventas donde la cantidad es mayor a 10.\n",
    "\n",
    "- **EARLIER(Column, Number)**: devuelve el valor de una columna en una fila anterior en el contexto de la fila actual.\n",
    "\n",
    "**Ejemplo**:\n",
    "\n",
    "```\n",
    "VentasAcumuladas = \n",
    "    CALCULATE(\n",
    "        SUM(Ventas[Precio total]),\n",
    "        FILTER(\n",
    "            Ventas,\n",
    "            Ventas[Fecha del pedido] <= EARLIER(Ventas[Fecha del pedido])\n",
    "        )\n",
    "    )\n",
    "```\n",
    "\n",
    "En este ejemplo, EARLIER se utiliza para el cálculo anidado a partir de un valor de entrada para toda la tabla. Si ordenamos las ventas por fecha de pedido, obtendremos en esta columna las ventas acumuladas para cada fecha de pedido, a partir del contexto de toda la tabla y no solo de la fila actual.\n",
    "\n",
    "- **SUMX(Table, Expression)**: realiza una suma iterando sobre una tabla y evaluando una expresión para cada fila.\n",
    "\n",
    "**Ejemplo**:\n",
    "\n",
    "```\n",
    "SumaPrecios = SUMX(Ventas, Ventas[Cantidad] * Ventas[Precio total])\n",
    "```\n",
    "\n",
    "Este ejemplo calcula la suma de los precios multiplicando la cantidad por el precio total.\n",
    "\n",
    "- **DISTINCT(Column)**: devuelve una columna o tabla con valores únicos.\n",
    "\n",
    "**Ejemplo**:\n",
    "```\n",
    "Nueva tabla → ClientesUnicos = DISTINCT(Ventas[Id. del cliente])\n",
    "```\n",
    "Este ejemplo crea una tabla con los IDs únicos de clientes.\n",
    "\n",
    "4. ### Implementación de jerarquías personalizadas\n",
    "\n",
    "En Power BI, las jerarquías permiten agrupar varios niveles de datos en una estructura lógica. Esto facilita el análisis de datos a diferentes niveles de detalle, como por país, ciudad, estado, región, etc. En esta sección, veremos cómo crear jerarquías personalizadas utilizando nuestro modelo de datos.\n",
    "\n",
    "**Paso 1: Crear la Jerarquía Geográfica**\n",
    "\n",
    "- Primero, debemos asegurarnos de que estamos en el panel de Datos dentro de la Vista de Tabla.\n",
    "- Seleccionamos la Tabla Ventas en el panel de Datos.\n",
    "- Hacemos click derecho sobre la columna País.\n",
    "- Seleccionamos la opción Nueva jerarquía. Esto crea una jerarquía con País como primer nivel.\n",
    "- Renombramos la jerarquía si es necesario, por ejemplo, a Ubicación.\n",
    "\n",
    "Ahora vamos a agregar más niveles a nuestra jerarquía. Desde el panel de datos hacemos click derecho sobre Estado y seleccionamos Agregar a jerarquía > Ubicación (o cualquiera sea el nombre elegido para la jerarquía). De la misma manera, agregamos la columna Ciudad como un nivel más bajo si lo deseamos.\n",
    "\n",
    "<div align=\"center\">\n",
    "   <img src=\"Imagenes y Videos - Clase 05\\S02-C05-E04_1. Crear-jerarquia.png\">\n",
    "</div>"
   ]
  },
  {
   "cell_type": "markdown",
   "id": "cbcb0d88-269b-4138-86dc-95faee8062b7",
   "metadata": {},
   "source": [
    "<div align=\"center\">\n",
    "   <img src=\"Imagenes y Videos - Clase 05\\S02-C05-E04_2. Jerarquia.png\">\n",
    "</div>\n",
    "\n",
    "**Paso 2: Visualización de la Jerarquía**\n",
    "\n",
    "Una vez creada la jerarquía, podemos utilizarla en visualizaciones para analizar los datos en diferentes niveles geográficos.\n",
    "\n",
    "En la Vista de informe, seleccionamos un gráfico, por ejemplo, una tabla o un gráfico de barras. Arrastramos la Ubicación al área de filas o columnas de la visualización. Podemos explorar la ganancia promedio o las ventas totales por país, estado, ciudad, etc. \n",
    "\n",
    "Utilizando las funciones de drill down (perforar hacia abajo) en Power BI, podemos explorar los datos de manera jerárquica.\n",
    "Por ejemplo, podemos expandir un país para ver los estados en ese país, y luego expandir cada estado para ver las ciudades asociadas."
   ]
  },
  {
   "cell_type": "markdown",
   "id": "439582e4-656e-41df-9808-577881fd1247",
   "metadata": {},
   "source": [
    "<div align=\"center\">\n",
    "   <img src=\"Imagenes y Videos - Clase 05\\S02-C05-E04_3. Jerarquia-grafico.png\">\n",
    "</div>\n",
    "\n",
    "**Jerarquía de fechas**: vale la pena mencionar en este punto que cuando Power BI reconoce una columna como campo de fecha, automáticamente genera una jerarquía. Podemos entonces visualizar las fechas por Año, Trimestre, Mes y Día, todo en el mismo gráfico agrupado."
   ]
  },
  {
   "cell_type": "markdown",
   "id": "014e0fd4-d5a1-48be-bd5b-31bd6f19d48f",
   "metadata": {},
   "source": [
    "<div align=\"center\">\n",
    "   <img src=\"Imagenes y Videos - Clase 05\\S02-C05-E04_4. Jerarquia-fechas.png\">\n",
    "</div>"
   ]
  },
  {
   "cell_type": "markdown",
   "id": "61fd3d57-5f5f-4928-a556-f51ed95d7266",
   "metadata": {},
   "source": [
    "5. ### Grupos\n",
    "\n",
    "De la misma manera que con las jerarquías, podemos crear a partir de una columna varios grupos o categorías en las que segmentar los datos. La función \"Nuevo Grupo\" nos permite crear segmentaciones personalizadas dentro de una tabla de datos. En este caso, utilizaremos la función \"Nuevo Grupo\" en la tabla de Ventas para crear grupos basados en las formas de envío de los productos.\n",
    "\n",
    "**Paso 1: Crear Grupos en la Tabla de Ventas**\n",
    "- Hacemos click derecho sobre la columna que queremos agrupar, por ejemplo, Categoría.\n",
    "- Seleccionamos la opción Nuevo Grupo.\n",
    "\n",
    "<div align=\"center\">\n",
    "   <img src=\"Imagenes y Videos - Clase 05\\S02-C05-E05_1. Nuevo-grupo.png\">\n",
    "</div>\n",
    "\n",
    "- Se abrirá un cuadro de diálogo donde podemos agregar los nombres de los grupos y las filas que pertenecen a cada grupo, además de modificar el nombre de la columna de grupos. Por ejemplo, podríamos crear grupos para distinguir entre envíos Inaplazables y - Aplazables. Para seleccionar varias categorías a la vez y convertirlas en grupo, utilizamos la tecla Ctrl.\n",
    "- Seleccionamos Aceptar para guardar los grupos.\n",
    "\n",
    "`S02-C05-E05_2. Grupo-video`\n",
    "\n",
    "**Paso 2: Utilizar nuevo grupo en visualizaciones**\n",
    "- Una vez que hemos creado los grupos, podemos utilizarlos en nuestras visualizaciones para analizar los datos en diferentes niveles de detalle.\n",
    "- En la pestaña Visualizaciones, seleccionamos un gráfico o tabla para crear nuestra visualización.\n",
    "- Arrastramos el campo de la jerarquía de grupos que creamos al área de filas o columnas de la visualización.\n",
    "Podemos expandir y contraer los grupos en la visualización para ver los datos en diferentes niveles de detalle."
   ]
  },
  {
   "cell_type": "markdown",
   "id": "eff5f5b6-79cc-468a-8927-3960a4be8c24",
   "metadata": {},
   "source": [
    "<div align=\"center\">\n",
    "   <img src=\"Imagenes y Videos - Clase 05\\S02-C05-E05_3. Grupo-grafico.png\">\n",
    "</div>"
   ]
  },
  {
   "cell_type": "code",
   "execution_count": null,
   "id": "a56f519b-1882-4d29-9715-1542a250643a",
   "metadata": {},
   "outputs": [],
   "source": [
    "##############################################################################################################################"
   ]
  }
 ],
 "metadata": {
  "kernelspec": {
   "display_name": "Python 3 (ipykernel)",
   "language": "python",
   "name": "python3"
  },
  "language_info": {
   "codemirror_mode": {
    "name": "ipython",
    "version": 3
   },
   "file_extension": ".py",
   "mimetype": "text/x-python",
   "name": "python",
   "nbconvert_exporter": "python",
   "pygments_lexer": "ipython3",
   "version": "3.11.7"
  }
 },
 "nbformat": 4,
 "nbformat_minor": 5
}
