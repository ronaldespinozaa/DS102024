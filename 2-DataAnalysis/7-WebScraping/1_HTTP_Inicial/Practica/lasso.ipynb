{
 "cells": [
  {
   "cell_type": "markdown",
   "metadata": {},
   "source": [
    "# Ejercicio Scraping\n",
    "\n",
    "Descargar letras de canciones\n",
    "\n",
    "Utilizando beautiful soup descargar todas las canciones de [Lasso](https://es.wikipedia.org/wiki/Lasso_(cantante)) que hay en [letras.com](https://www.letras.com/lasso/)"
   ]
  },
  {
   "cell_type": "code",
   "execution_count": 3,
   "metadata": {},
   "outputs": [],
   "source": [
    "from bs4 import BeautifulSoup\n",
    "import requests\n",
    "import os\n",
    "\n",
    "letras_url = \"https://www.letras.com\"\n",
    "\n",
    "def descargar_letras(artista):\n",
    "    # COMPLETAR\n",
    "    return\n",
    "        \n",
    "artista = \"lasso\"\n",
    "descargar_letras(artista)"
   ]
  }
 ],
 "metadata": {
  "instance_type": "ml.t3.medium",
  "kernelspec": {
   "display_name": "Python 3",
   "language": "python",
   "name": "python3"
  },
  "language_info": {
   "codemirror_mode": {
    "name": "ipython",
    "version": 3
   },
   "file_extension": ".py",
   "mimetype": "text/x-python",
   "name": "python",
   "nbconvert_exporter": "python",
   "pygments_lexer": "ipython3",
   "version": "3.8.5"
  }
 },
 "nbformat": 4,
 "nbformat_minor": 4
}
