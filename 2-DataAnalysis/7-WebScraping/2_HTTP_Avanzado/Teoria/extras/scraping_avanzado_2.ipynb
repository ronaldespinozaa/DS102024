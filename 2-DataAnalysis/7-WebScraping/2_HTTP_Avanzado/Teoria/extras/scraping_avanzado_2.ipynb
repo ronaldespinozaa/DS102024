{
  "cells": [
    {
      "cell_type": "markdown",
      "metadata": {},
      "source": [
        "\n",
        "# Práctica: Scraping Avanzado 2:\n",
        "\n",
        "- ChromeDevTools\n",
        "- Cookies\n",
        "- Crawling\n",
        "- Regex, XPath\n"
      ]
    },
    {
      "cell_type": "markdown",
      "metadata": {
        "id": "hp_q_0dXPuS5"
      },
      "source": [
        "## Pyautogui, Selenium, Requests\n",
        "\n",
        "Ahora que vimos `requests` podemos entender que es una manera protocolar de conseguir un recurso en lugar de interactuar a través del sistema operativo con mousse y teclado como con `pyautogui`.\n",
        "\n",
        "La web está hecha con la tríada de lenguajes: HTML, JS, y CSS. Javascript modifica el contenido dinámicamente, ejecutando código del lado del cliente. Requests no ejecuta el código javascript, por lo que en ese caso es necesario usar una alternativa que sí lo haga. Desde \"alto nivel\" hacia \"bajo nivel\" sería: automatizando la interacción con el navegador desde el sistema operativo (pyautogui), automatizando el navegador (selenium), o encontrando una **API oculta o visible para usar requests.**.\n",
        "\n",
        "Cuando una compañia desarrolla un sitio web muchas veces separa lo que se dice el _frontend_, que es la parte visible del sitio y la cual se ejecuta en tu navegador, del _backend_, la parte del sitio que realiza el computo mas pesado y se ejecuta en servidores/computadoras de la compañia.\n",
        "\n",
        "Para comunicar el _backend_ con el _frontend_ una forma popular es desarrollar REST APIs, a veces estas son públicas pero a veces están ocultas y las utilizamos sin darnos cuenta cuando interactuamos con un sitio web.\n",
        "\n",
        "Ejemplo de un sitio web y su API: http://numbersapi.com/"
      ]
    },
    {
      "cell_type": "markdown",
      "metadata": {
        "id": "C5d7NaztLbro"
      },
      "source": [
        "# Ejemplos"
      ]
    },
    {
      "cell_type": "markdown",
      "metadata": {
        "id": "DkuX5-72Ld6f"
      },
      "source": [
        "#### Modo 1: pyautogui\n",
        "\n",
        "Lo queremos evitar, es frágil y _ad hoc_ (**y no anda en Colab!**)"
      ]
    },
    {
      "cell_type": "code",
      "execution_count": null,
      "metadata": {
        "id": "PZZ4gPHdPuS9"
      },
      "outputs": [],
      "source": [
        "!pip install pyautogui\n",
        "import pyautogui\n",
        "from time import sleep"
      ]
    },
    {
      "cell_type": "code",
      "execution_count": 153,
      "metadata": {
        "id": "Lmd0MasDPuTO"
      },
      "outputs": [],
      "source": [
        "import requests as rq\n",
        "url = 'https://www.lanacion.com.ar/'"
      ]
    },
    {
      "cell_type": "code",
      "execution_count": null,
      "metadata": {
        "id": "f0-dsF7LPuTa"
      },
      "outputs": [],
      "source": [
        "pyautogui.hotkey('ctrl', 't')\n",
        "sleep(2)\n",
        "pyautogui.write(url.split())\n",
        "sleep(2)\n",
        "pyautogui.press('enter')"
      ]
    },
    {
      "cell_type": "markdown",
      "metadata": {
        "id": "nSF009BbPuTp"
      },
      "source": [
        "Modo 2:\n",
        "\n",
        "Emulando un navegador con Selenium"
      ]
    },
    {
      "cell_type": "code",
      "execution_count": null,
      "metadata": {
        "id": "8BC66dzehP1U"
      },
      "outputs": [],
      "source": [
        "# Esta celda instala selenium y chromedriver en Colab\n",
        "!pip install selenium\n",
        "!apt-get update # to update ubuntu to correctly run apt install\n",
        "!apt install chromium-chromedriver\n",
        "!cp /usr/lib/chromium-browser/chromedriver/usr/bin\n",
        "import sys\n",
        "sys.path.insert(0,'/usr/lib/chromium-browser/chromedriver')"
      ]
    },
    {
      "cell_type": "code",
      "execution_count": null,
      "metadata": {
        "colab": {
          "base_uri": "https://localhost:8080/",
          "height": 35
        },
        "id": "vflCFO8Jt0l6",
        "outputId": "c03a322c-ecc0-4364-a3f9-bbc8e91ff5fb"
      },
      "outputs": [
        {
          "data": {
            "application/vnd.google.colaboratory.intrinsic+json": {
              "type": "string"
            },
            "text/plain": [
              "'https://www.lanacion.com.ar/'"
            ]
          },
          "execution_count": 65,
          "metadata": {},
          "output_type": "execute_result"
        }
      ],
      "source": [
        "url"
      ]
    },
    {
      "cell_type": "code",
      "execution_count": null,
      "metadata": {
        "id": "ZSByOiDYPuTq"
      },
      "outputs": [],
      "source": [
        "from selenium import webdriver\n",
        "chrome_options = webdriver.ChromeOptions()\n",
        "chrome_options.add_argument('--headless')\n",
        "chrome_options.add_argument('--no-sandbox') # necesarios en colab \n",
        "chrome_options.add_argument('--disable-dev-shm-usage')\n",
        "\n",
        "driver = webdriver.Chrome(options=chrome_options)"
      ]
    },
    {
      "cell_type": "code",
      "execution_count": null,
      "metadata": {
        "id": "CFeBOelJPuT0"
      },
      "outputs": [],
      "source": [
        "# *vamos* a un sitio\n",
        "driver.get(url)"
      ]
    },
    {
      "cell_type": "code",
      "execution_count": null,
      "metadata": {
        "colab": {
          "base_uri": "https://localhost:8080/",
          "height": 157
        },
        "id": "JkrMy4E7t5j6",
        "outputId": "c1468674-89d3-42e6-8d19-28da9f9c0130"
      },
      "outputs": [],
      "source": [
        "# el driver ahora \"está\" en ese sitio\n",
        "driver.page_source[:100]"
      ]
    },
    {
      "cell_type": "code",
      "execution_count": null,
      "metadata": {
        "colab": {
          "base_uri": "https://localhost:8080/"
        },
        "id": "9-KalvrGPuT7",
        "outputId": "499b76e8-0c8e-45c8-82a9-8cf69c0922d1"
      },
      "outputs": [],
      "source": [
        "# Ejercicio: usar xpath para encontrar los títulos\n",
        "patron = '' # completar\n",
        "titulos = [e.text for e in driver.find_elements_by_xpath(patron)]"
      ]
    },
    {
      "cell_type": "code",
      "execution_count": null,
      "metadata": {
        "colab": {
          "base_uri": "https://localhost:8080/"
        },
        "id": "myhNE1A9PuT-",
        "outputId": "66e3c1e7-4353-49a7-e88a-f22409ab9cdf"
      },
      "outputs": [
        {
          "data": {
            "text/plain": [
              "['Reuniones sin acuerdo. Tironeos, negociaciones y un negocio millonario detrás de la falta de gasoil',\n",
              " 'Disputa. La Nación y la Ciudad volvieron a reunirse por la coparticipación: hablan de un “principio de avance”',\n",
              " 'Tregua. Fernández almorzó con Pablo Moyano y dieron una señal de unidad en medio de la interna oficialista',\n",
              " 'A las piñas por Gasoil. Un camionero empezó una brutal pelea con un playero por el cupo al combustible',\n",
              " '¿Secuestro en Puerto Madero? Un policía retirado mató a un ladrón que tenía encerrada en el baúl a una víctima',\n",
              " '\"Fútbol parásito\". Las despiadadas críticas para el estilo de Simeone y la respuesta de Koke para Guardiola',\n",
              " 'Temas del día:']"
            ]
          },
          "execution_count": 44,
          "metadata": {},
          "output_type": "execute_result"
        }
      ],
      "source": [
        "titulos"
      ]
    },
    {
      "cell_type": "markdown",
      "metadata": {
        "id": "n4kWOPiVPuUB"
      },
      "source": [
        "Tercer modo: requests\n"
      ]
    },
    {
      "cell_type": "code",
      "execution_count": 183,
      "metadata": {
        "id": "_PZpzHJjPuUC"
      },
      "outputs": [],
      "source": [
        "import requests \n",
        "# para pasar del string con el html a un DOM y usar xpath\n",
        "from lxml import html\n",
        "# alternativa \n",
        "from bs4 import BeautifulSoup"
      ]
    },
    {
      "cell_type": "code",
      "execution_count": 202,
      "metadata": {
        "id": "48ttqhHyPuUE"
      },
      "outputs": [],
      "source": [
        "r = requests.get('https://www.lanacion.com.ar/')"
      ]
    },
    {
      "cell_type": "code",
      "execution_count": 185,
      "metadata": {
        "id": "BzVI-wU6u3bj"
      },
      "outputs": [],
      "source": [
        "soup = BeautifulSoup(r.content, 'html.parser')"
      ]
    },
    {
      "cell_type": "markdown",
      "metadata": {},
      "source": [
        "Ahora parseo: \n",
        "- BeautifulSoup: funciones importantes son .find(), .find_all(), .get()\n",
        "- XPATH: un mini lenguaje para recorrer archivos en formato [XML](https://www.w3schools.com/xml/xpath_intro.asp)"
      ]
    },
    {
      "cell_type": "code",
      "execution_count": 211,
      "metadata": {
        "colab": {
          "base_uri": "https://localhost:8080/"
        },
        "id": "9zYYisXDxm1z",
        "outputId": "d38eacd6-5c72-4e3f-ae0e-37abdbca7a9a"
      },
      "outputs": [
        {
          "data": {
            "text/plain": [
              "[<h2 class=\"com-subhead --twoxs\"><a href=\"/sociedad/provincia-desde-manana-dejara-de-ser-obligatorio-el-uso-de-tapabocas-en-escuelas-trabajos-y-espacios-nid06042022/\" title=\"Así lo anunció el ministro de Salud bonaerense, Nicolás Kreplak, que indicó que ellos continúan recomendando el uso; en el transporte público seguirá siendo obligatorio\">Así lo anunció el ministro de Salud bonaerense, Nicolás Kreplak, que indicó que ellos continúan recomendando el uso; en el transporte público seguirá siendo obligatorio</a></h2>,\n",
              " <h2 class=\"com-title --xs\"><a class=\"com-link\" href=\"/politica/una-vecina-de-recoleta-indignada-por-la-muerte-de-su-padre-por-covid-es-buscada-por-pagar-los-nid06042022/\" title='\"Asesina\". Una vecina de Recoleta indignada por la muerte de su padre es buscada por pagar los afiches contra Cristina'><em class=\"com-lead\">\"Asesina\". </em>Una vecina de Recoleta indignada por la muerte de su padre es buscada por pagar los afiches contra Cristina</a></h2>,\n",
              " <h2 class=\"com-title --xs\"><a class=\"com-link\" href=\"/deportes/futbol/champions-league-karim-benzema-el-delantero-que-deslumbra-al-mundo-es-una-noche-magica-como-contra-nid06042022/\" title='\"Casi se queda afuera\". Otra noche mágica en la Champions de Karim Benzema, el delantero que deslumbra al mundo'><em class=\"com-lead\">\"Casi se queda afuera\". </em>Otra noche mágica en la Champions de Karim Benzema, el delantero que deslumbra al mundo</a></h2>,\n",
              " <h2 class=\"com-title --xs\"><a class=\"com-link\" href=\"/economia/escasez-de-gasoil-las-petroleras-negocian-quien-debe-dejar-de-exportar-para-abastecer-el-mercado-nid06042022/\" title=\"Reuniones sin acuerdo. Tironeos y un negocio millonario detrás de la falta de gasoil\"><em class=\"com-lead\">Reuniones sin acuerdo. </em>Tironeos y un negocio millonario detrás de la falta de gasoil</a></h2>,\n",
              " <h2 class=\"com-title --xs\"><a class=\"com-link\" href=\"/politica/juzgan-al-exjefe-del-ejercito-de-cristina-kirchner-por-enriquecimiento-ilicito-nid06042022/\" title='\"Un bolso chiquito\". Juzgan al exjefe del Ejército de Cristina Kirchner por enriquecimiento ilícito'><em class=\"com-lead\">\"Un bolso chiquito\". </em>Juzgan al exjefe del Ejército de Cristina Kirchner por enriquecimiento ilícito</a></h2>,\n",
              " <h2 class=\"com-title --xs\"><a class=\"com-link\" href=\"/sociedad/viajes-que-aerolineas-ya-no-exigen-el-uso-de-barbijo-en-los-vuelos-nid06042022/\" title=\"Viajes. Las aerolíneas que ya no exigen el uso de barbijo en los vuelos\"><em class=\"com-lead\">Viajes. </em>Las aerolíneas que ya no exigen el uso de barbijo en los vuelos</a></h2>]"
            ]
          },
          "execution_count": 211,
          "metadata": {},
          "output_type": "execute_result"
        }
      ],
      "source": [
        "[e for e in soup.find_all('h2')]"
      ]
    },
    {
      "cell_type": "code",
      "execution_count": 212,
      "metadata": {
        "colab": {
          "base_uri": "https://localhost:8080/"
        },
        "id": "SKiVfuHlPuUH",
        "outputId": "25fff1a2-5e2b-43a9-eebc-99822f028e29"
      },
      "outputs": [
        {
          "data": {
            "text/plain": [
              "['Así lo anunció el ministro de Salud bonaerense, Nicolás Kreplak, que indicó que ellos continúan recomendando el uso; en el transporte público seguirá siendo obligatorio',\n",
              " '\"Asesina\". Una vecina de Recoleta indignada por la muerte de su padre es buscada por pagar los afiches contra Cristina',\n",
              " '\"Casi se queda afuera\". Otra noche mágica en la Champions de Karim Benzema, el delantero que deslumbra al mundo',\n",
              " 'Reuniones sin acuerdo. Tironeos y un negocio millonario detrás de la falta de gasoil',\n",
              " '\"Un bolso chiquito\". Juzgan al exjefe del Ejército de Cristina Kirchner por enriquecimiento ilícito',\n",
              " 'Viajes. Las aerolíneas que ya no exigen el uso de barbijo en los vuelos']"
            ]
          },
          "execution_count": 212,
          "metadata": {},
          "output_type": "execute_result"
        }
      ],
      "source": [
        "dom = html.fromstring(r.content)\n",
        "\n",
        "# con XPATH\n",
        "[''.join(e.itertext()) for e in dom.xpath('//h2')]"
      ]
    },
    {
      "cell_type": "code",
      "execution_count": 237,
      "metadata": {
        "colab": {
          "base_uri": "https://localhost:8080/"
        },
        "id": "r4nRZTC1Nkz9",
        "outputId": "c51bb663-ed81-40a9-93ee-d611ece09ca1"
      },
      "outputs": [
        {
          "data": {
            "text/plain": [
              "['Desde mañana. El uso de tapabocas en escuelas dejará de ser obligatorio en la provincia',\n",
              " '\"Asesina\". Una vecina de Recoleta indignada por la muerte de su padre es buscada por pagar los afiches contra Cristina',\n",
              " '\"Casi se queda afuera\". Otra noche mágica en la Champions de Karim Benzema, el delantero que deslumbra al mundo',\n",
              " 'Reuniones sin acuerdo. Tironeos y un negocio millonario detrás de la falta de gasoil',\n",
              " '\"Un bolso chiquito\". Juzgan al exjefe del Ejército de Cristina Kirchner por enriquecimiento ilícito',\n",
              " 'Viajes. Las aerolíneas que ya no exigen el uso de barbijo en los vuelos']"
            ]
          },
          "execution_count": 237,
          "metadata": {},
          "output_type": "execute_result"
        }
      ],
      "source": [
        "# Cualquier elemento cuyo atributo \"class\" contenga \"title\"\n",
        "patron = '//*[contains(@class, \"title\")]'\n",
        "[''.join(e.itertext()) for e in dom.xpath(patron)]"
      ]
    },
    {
      "cell_type": "markdown",
      "metadata": {
        "id": "z--txWEtix92"
      },
      "source": [
        "Buenas puntas:\n",
        "\n",
        "- sitemap\n",
        "- robots.txt\n",
        "\n",
        "¿Cómo encuentro el sitemap? Ejemplo de \"Google Hacking\": uso de operadores en google para mejores búsquedas.\n",
        "\n",
        "`inurl:sitemap site:lanacion.com.ar` "
      ]
    },
    {
      "cell_type": "code",
      "execution_count": null,
      "metadata": {
        "id": "p6VBzT3TkW0k"
      },
      "outputs": [],
      "source": []
    },
    {
      "cell_type": "markdown",
      "metadata": {
        "id": "ZlKiOwveg48Q"
      },
      "source": [
        "### ChromeDevTools\n",
        "\n",
        "El navegador de Chrome nos ofrece herramientas para analizar elementos de la web. Para eso, vamos a abrir las \"Herramientas de Desarrollador\" en el menú o con _CTRL + SHIFT + I_.\n",
        "\n",
        "Ahí hay dos pestañas que van a ser de nuestro interés:\n",
        "\n",
        "En **Elements** vamos a poder inspeccionar el código HTML, para ubicar los datos de nuestro interés. Para identificar la ubicación de uno, podemos posicionarnos con el cursor sobre el sitio, hacer click derecho, y seleccionar \"Inspeccionar elemento\".\n",
        "\n",
        "En la solapa **Network** podemos ver todos los paquetes HTTP que realiza nuestro navegador interactuando con un sitio. Identificando los paquetes de las APIs que traen los datos, podemos _scrapear_ datos más facilmente.\n",
        "\n",
        "Posibles estrategias:\n",
        "- Tomar una parte de la info que buscamos del sitio y ponerla en el buscador en _Network_\n",
        "- Buscar en el HTML dónde se ubica la info que necesitamos\n",
        "- Buscar en HTML o con DevTools las llamadas de javascript"
      ]
    },
    {
      "cell_type": "markdown",
      "metadata": {
        "id": "ORfLoqBXhZOV"
      },
      "source": [
        "<img src='https://i2.wp.com/abodeqa.com/wp-content/uploads/2019/02/Inspect-Element-Using-Select-Tool.gif'>\n"
      ]
    },
    {
      "cell_type": "markdown",
      "metadata": {
        "id": "_CseXi3IiBvx"
      },
      "source": [
        "**Ejemplo Bytes:**\n",
        "\n",
        "Base de Datos de Comercio Exterior del Instituto Nacional de Estadística de Bolivia\n",
        "\n",
        "Vamos a ingresar al siguiente sitio web:\n",
        "\n",
        "http://web2.ine.gob.bo:8081/IneComex/BasesComex.aspx\n",
        "\n",
        "Pasos:\n",
        "\n",
        "- Ingresar al sitio en una nueva pestaña\n",
        "- Abrir la pestaña \"Network\" en las herramientas de desarrollador del navegador\n",
        "- Llenar el formulario y descargar la base de datos\n",
        "- Observar el paquete HTTP que realizó el pedido"
      ]
    },
    {
      "cell_type": "code",
      "execution_count": null,
      "metadata": {
        "colab": {
          "base_uri": "https://localhost:8080/"
        },
        "id": "8RYkDErCt-iv",
        "outputId": "e15c01d5-7dfd-4747-cb6b-a6e777daf949"
      },
      "outputs": [
        {
          "name": "stdout",
          "output_type": "stream",
          "text": [
            "--2022-04-06 21:53:55--  http://web2.ine.gob.bo:8081/IneComex/BD/exp2020.rar\n",
            "Resolving web2.ine.gob.bo (web2.ine.gob.bo)... 200.105.137.5\n",
            "Connecting to web2.ine.gob.bo (web2.ine.gob.bo)|200.105.137.5|:8081... connected.\n",
            "HTTP request sent, awaiting response... 200 OK\n",
            "Length: 161096 (157K) [application/octet-stream]\n",
            "Saving to: ‘exp2020.rar’\n",
            "\n",
            "exp2020.rar         100%[===================>] 157.32K   306KB/s    in 0.5s    \n",
            "\n",
            "2022-04-06 21:53:57 (306 KB/s) - ‘exp2020.rar’ saved [161096/161096]\n",
            "\n",
            "\n",
            "UNRAR 5.50 freeware      Copyright (c) 1993-2017 Alexander Roshal\n",
            "\n",
            "\n",
            "Extracting from exp2020.rar\n",
            "\n",
            "Extracting  ./exp2020.txt                                                \b\b\b\b 20%\b\b\b\b 40%\b\b\b\b 60%\b\b\b\b 81%\b\b\b\b 99%\b\b\b\b\b  OK \n",
            "All OK\n"
          ]
        }
      ],
      "source": [
        "!wget http://web2.ine.gob.bo:8081/IneComex/BD/exp2020.rar\n",
        "!unrar x exp2020.rar ./"
      ]
    },
    {
      "cell_type": "markdown",
      "metadata": {
        "id": "sHCqCV4TPVDq"
      },
      "source": [
        "Podríamos bajarlo directo con Python. Las descargas de distintos archivos de formatos distintos a texto (.txt, .csv, .json...) son iguales, escribiendo a disco en modo \"write bytes\" ('wb')"
      ]
    },
    {
      "cell_type": "code",
      "execution_count": 238,
      "metadata": {
        "id": "59NqiLhiIuj_"
      },
      "outputs": [],
      "source": [
        "# Ejemplo bytes\n",
        "url = 'https://upload.wikimedia.org/wikipedia/commons/thumb/e/e4/HTML_logo.png/250px-HTML_logo.png'\n",
        "r = requests.get(url)"
      ]
    },
    {
      "cell_type": "code",
      "execution_count": 239,
      "metadata": {
        "id": "tVaT2lCWJMjj"
      },
      "outputs": [],
      "source": [
        "with open('imagen.png', 'wb') as out:\n",
        "  out.write(r.content)"
      ]
    },
    {
      "cell_type": "code",
      "execution_count": null,
      "metadata": {
        "colab": {
          "base_uri": "https://localhost:8080/"
        },
        "id": "lxhS56ia39wv",
        "outputId": "4d18f361-c22d-4957-92d5-926e5be29e55"
      },
      "outputs": [
        {
          "name": "stdout",
          "output_type": "stream",
          "text": [
            "GESTION|MES|Departamento|NANDINA|des_nandina|des_Pais|des_Medio_Sal|des_Via_Sal|CUCIR3|GCE|CIIU3|CODACT|TNT|Peso_Bruto_Kg|Peso_Neto_Kg|Valor_FOB_Sus\r\n",
            "2020.0|7.0|2.0|2106906100| PREPARACIONES ALIMENTICIAS MEJORADORES DE PANIFICACION A BASE DE ESTEVIA|ZONA FRANCA DE BOLIVIA|CARRETERA|ZONAS FRANCAS|0989|122|1549|D6|34.0|53|50|4023\r\n",
            "2020.0|10.0|2.0|2106906100| PREPARACIONES ALIMENTICIAS MEJORADORES DE PANIFICACION A BASE DE ESTEVIA|ZONA FRANCA DE BOLIVIA|CARRETERA|ZONAS FRANCAS|0989|122|1549|D6|34.0|53|50|4023\r\n",
            "2020.0|6.0|2.0|2208500000|\"GIN\" Y GINEBRA|COSTA RICA|AEREA|AEREA|1124|122|1551|D3|13.0|70|34|272\r\n",
            "2020.0|1.0|2.0|2208500000|\"GIN\" Y GINEBRA|PERU|CARRETERA|DESAGUADERO|1124|122|1551|D3|13.0|11230|6300|42750\r\n",
            "2020.0|1.0|2.0|2208500000|\"GIN\" Y GINEBRA|CHILE|CARRETERA|ARICA - CHARANA - TAMBO QUEMADO|1124|122|1551|D3|13.0|4500|2520|15480\r\n",
            "2020.0|6.0|2.0|2208500000|\"GIN\" Y GINEBRA|COSTA RICA|CARRETERA|ARICA - CHARANA - TAMBO QUEMADO|1124|122|1551|D3|13.0|755|412|3334\r\n",
            "2020.0|7.0|2.0|2208500000|\"GIN\" Y GINEBRA|CHILE|CARRETERA|ARICA - CHARANA - TAMBO QUEMADO|1124|122|1551|D3|13.0|20070|11340|66420\r\n",
            "2020.0|8.0|2.0|2208500000|\"GIN\" Y GINEBRA|PAISES BAJOS|CARRETERA|ARICA - CHARANA - TAMBO QUEMADO|1124|122|1551|D3|13.0|4500|2520|16200\r\n",
            "2020.0|12.0|2.0|2208500000|\"GIN\" Y GINEBRA|GUATEMALA|CARRETERA|ARICA - CHARANA - TAMBO QUEMADO|1124|122|1551|D3|13.0|1125|630|6300\r\n"
          ]
        }
      ],
      "source": [
        "# vemos la primera parte de la base de datos\n",
        "!head exp2020.txt "
      ]
    },
    {
      "cell_type": "code",
      "execution_count": null,
      "metadata": {
        "colab": {
          "base_uri": "https://localhost:8080/",
          "height": 443
        },
        "id": "DU52Xv1xsV6i",
        "outputId": "34995768-0877-421c-9df7-f518ca12d3cd"
      },
      "outputs": [
        {
          "data": {
            "text/html": [
              "\n",
              "  <div id=\"df-443aa9bb-e2a1-46d3-ad48-f136d05aa55a\">\n",
              "    <div class=\"colab-df-container\">\n",
              "      <div>\n",
              "<style scoped>\n",
              "    .dataframe tbody tr th:only-of-type {\n",
              "        vertical-align: middle;\n",
              "    }\n",
              "\n",
              "    .dataframe tbody tr th {\n",
              "        vertical-align: top;\n",
              "    }\n",
              "\n",
              "    .dataframe thead th {\n",
              "        text-align: right;\n",
              "    }\n",
              "</style>\n",
              "<table border=\"1\" class=\"dataframe\">\n",
              "  <thead>\n",
              "    <tr style=\"text-align: right;\">\n",
              "      <th></th>\n",
              "      <th>GESTION</th>\n",
              "      <th>MES</th>\n",
              "      <th>Departamento</th>\n",
              "      <th>NANDINA</th>\n",
              "      <th>des_nandina</th>\n",
              "      <th>des_Pais</th>\n",
              "      <th>des_Medio_Sal</th>\n",
              "      <th>des_Via_Sal</th>\n",
              "      <th>CUCIR3</th>\n",
              "      <th>GCE</th>\n",
              "      <th>CIIU3</th>\n",
              "      <th>CODACT</th>\n",
              "      <th>TNT</th>\n",
              "      <th>Peso_Bruto_Kg</th>\n",
              "      <th>Peso_Neto_Kg</th>\n",
              "      <th>Valor_FOB_Sus</th>\n",
              "    </tr>\n",
              "  </thead>\n",
              "  <tbody>\n",
              "    <tr>\n",
              "      <th>0</th>\n",
              "      <td>2020.0</td>\n",
              "      <td>7.0</td>\n",
              "      <td>2.0</td>\n",
              "      <td>2106906100</td>\n",
              "      <td>PREPARACIONES ALIMENTICIAS MEJORADORES DE PAN...</td>\n",
              "      <td>ZONA FRANCA DE BOLIVIA</td>\n",
              "      <td>CARRETERA</td>\n",
              "      <td>ZONAS FRANCAS</td>\n",
              "      <td>989</td>\n",
              "      <td>122</td>\n",
              "      <td>1549</td>\n",
              "      <td>D6</td>\n",
              "      <td>34.0</td>\n",
              "      <td>53</td>\n",
              "      <td>50</td>\n",
              "      <td>4023</td>\n",
              "    </tr>\n",
              "    <tr>\n",
              "      <th>1</th>\n",
              "      <td>2020.0</td>\n",
              "      <td>10.0</td>\n",
              "      <td>2.0</td>\n",
              "      <td>2106906100</td>\n",
              "      <td>PREPARACIONES ALIMENTICIAS MEJORADORES DE PAN...</td>\n",
              "      <td>ZONA FRANCA DE BOLIVIA</td>\n",
              "      <td>CARRETERA</td>\n",
              "      <td>ZONAS FRANCAS</td>\n",
              "      <td>989</td>\n",
              "      <td>122</td>\n",
              "      <td>1549</td>\n",
              "      <td>D6</td>\n",
              "      <td>34.0</td>\n",
              "      <td>53</td>\n",
              "      <td>50</td>\n",
              "      <td>4023</td>\n",
              "    </tr>\n",
              "    <tr>\n",
              "      <th>2</th>\n",
              "      <td>2020.0</td>\n",
              "      <td>6.0</td>\n",
              "      <td>2.0</td>\n",
              "      <td>2208500000</td>\n",
              "      <td>GIN Y GINEBRA</td>\n",
              "      <td>COSTA RICA</td>\n",
              "      <td>AEREA</td>\n",
              "      <td>AEREA</td>\n",
              "      <td>1124</td>\n",
              "      <td>122</td>\n",
              "      <td>1551</td>\n",
              "      <td>D3</td>\n",
              "      <td>13.0</td>\n",
              "      <td>70</td>\n",
              "      <td>34</td>\n",
              "      <td>272</td>\n",
              "    </tr>\n",
              "    <tr>\n",
              "      <th>3</th>\n",
              "      <td>2020.0</td>\n",
              "      <td>1.0</td>\n",
              "      <td>2.0</td>\n",
              "      <td>2208500000</td>\n",
              "      <td>GIN Y GINEBRA</td>\n",
              "      <td>PERU</td>\n",
              "      <td>CARRETERA</td>\n",
              "      <td>DESAGUADERO</td>\n",
              "      <td>1124</td>\n",
              "      <td>122</td>\n",
              "      <td>1551</td>\n",
              "      <td>D3</td>\n",
              "      <td>13.0</td>\n",
              "      <td>11230</td>\n",
              "      <td>6300</td>\n",
              "      <td>42750</td>\n",
              "    </tr>\n",
              "    <tr>\n",
              "      <th>4</th>\n",
              "      <td>2020.0</td>\n",
              "      <td>1.0</td>\n",
              "      <td>2.0</td>\n",
              "      <td>2208500000</td>\n",
              "      <td>GIN Y GINEBRA</td>\n",
              "      <td>CHILE</td>\n",
              "      <td>CARRETERA</td>\n",
              "      <td>ARICA - CHARANA - TAMBO QUEMADO</td>\n",
              "      <td>1124</td>\n",
              "      <td>122</td>\n",
              "      <td>1551</td>\n",
              "      <td>D3</td>\n",
              "      <td>13.0</td>\n",
              "      <td>4500</td>\n",
              "      <td>2520</td>\n",
              "      <td>15480</td>\n",
              "    </tr>\n",
              "  </tbody>\n",
              "</table>\n",
              "</div>\n",
              "      <button class=\"colab-df-convert\" onclick=\"convertToInteractive('df-443aa9bb-e2a1-46d3-ad48-f136d05aa55a')\"\n",
              "              title=\"Convert this dataframe to an interactive table.\"\n",
              "              style=\"display:none;\">\n",
              "        \n",
              "  <svg xmlns=\"http://www.w3.org/2000/svg\" height=\"24px\"viewBox=\"0 0 24 24\"\n",
              "       width=\"24px\">\n",
              "    <path d=\"M0 0h24v24H0V0z\" fill=\"none\"/>\n",
              "    <path d=\"M18.56 5.44l.94 2.06.94-2.06 2.06-.94-2.06-.94-.94-2.06-.94 2.06-2.06.94zm-11 1L8.5 8.5l.94-2.06 2.06-.94-2.06-.94L8.5 2.5l-.94 2.06-2.06.94zm10 10l.94 2.06.94-2.06 2.06-.94-2.06-.94-.94-2.06-.94 2.06-2.06.94z\"/><path d=\"M17.41 7.96l-1.37-1.37c-.4-.4-.92-.59-1.43-.59-.52 0-1.04.2-1.43.59L10.3 9.45l-7.72 7.72c-.78.78-.78 2.05 0 2.83L4 21.41c.39.39.9.59 1.41.59.51 0 1.02-.2 1.41-.59l7.78-7.78 2.81-2.81c.8-.78.8-2.07 0-2.86zM5.41 20L4 18.59l7.72-7.72 1.47 1.35L5.41 20z\"/>\n",
              "  </svg>\n",
              "      </button>\n",
              "      \n",
              "  <style>\n",
              "    .colab-df-container {\n",
              "      display:flex;\n",
              "      flex-wrap:wrap;\n",
              "      gap: 12px;\n",
              "    }\n",
              "\n",
              "    .colab-df-convert {\n",
              "      background-color: #E8F0FE;\n",
              "      border: none;\n",
              "      border-radius: 50%;\n",
              "      cursor: pointer;\n",
              "      display: none;\n",
              "      fill: #1967D2;\n",
              "      height: 32px;\n",
              "      padding: 0 0 0 0;\n",
              "      width: 32px;\n",
              "    }\n",
              "\n",
              "    .colab-df-convert:hover {\n",
              "      background-color: #E2EBFA;\n",
              "      box-shadow: 0px 1px 2px rgba(60, 64, 67, 0.3), 0px 1px 3px 1px rgba(60, 64, 67, 0.15);\n",
              "      fill: #174EA6;\n",
              "    }\n",
              "\n",
              "    [theme=dark] .colab-df-convert {\n",
              "      background-color: #3B4455;\n",
              "      fill: #D2E3FC;\n",
              "    }\n",
              "\n",
              "    [theme=dark] .colab-df-convert:hover {\n",
              "      background-color: #434B5C;\n",
              "      box-shadow: 0px 1px 3px 1px rgba(0, 0, 0, 0.15);\n",
              "      filter: drop-shadow(0px 1px 2px rgba(0, 0, 0, 0.3));\n",
              "      fill: #FFFFFF;\n",
              "    }\n",
              "  </style>\n",
              "\n",
              "      <script>\n",
              "        const buttonEl =\n",
              "          document.querySelector('#df-443aa9bb-e2a1-46d3-ad48-f136d05aa55a button.colab-df-convert');\n",
              "        buttonEl.style.display =\n",
              "          google.colab.kernel.accessAllowed ? 'block' : 'none';\n",
              "\n",
              "        async function convertToInteractive(key) {\n",
              "          const element = document.querySelector('#df-443aa9bb-e2a1-46d3-ad48-f136d05aa55a');\n",
              "          const dataTable =\n",
              "            await google.colab.kernel.invokeFunction('convertToInteractive',\n",
              "                                                     [key], {});\n",
              "          if (!dataTable) return;\n",
              "\n",
              "          const docLinkHtml = 'Like what you see? Visit the ' +\n",
              "            '<a target=\"_blank\" href=https://colab.research.google.com/notebooks/data_table.ipynb>data table notebook</a>'\n",
              "            + ' to learn more about interactive tables.';\n",
              "          element.innerHTML = '';\n",
              "          dataTable['output_type'] = 'display_data';\n",
              "          await google.colab.output.renderOutput(dataTable, element);\n",
              "          const docLink = document.createElement('div');\n",
              "          docLink.innerHTML = docLinkHtml;\n",
              "          element.appendChild(docLink);\n",
              "        }\n",
              "      </script>\n",
              "    </div>\n",
              "  </div>\n",
              "  "
            ],
            "text/plain": [
              "   GESTION   MES  Departamento     NANDINA  \\\n",
              "0   2020.0   7.0           2.0  2106906100   \n",
              "1   2020.0  10.0           2.0  2106906100   \n",
              "2   2020.0   6.0           2.0  2208500000   \n",
              "3   2020.0   1.0           2.0  2208500000   \n",
              "4   2020.0   1.0           2.0  2208500000   \n",
              "\n",
              "                                         des_nandina                des_Pais  \\\n",
              "0   PREPARACIONES ALIMENTICIAS MEJORADORES DE PAN...  ZONA FRANCA DE BOLIVIA   \n",
              "1   PREPARACIONES ALIMENTICIAS MEJORADORES DE PAN...  ZONA FRANCA DE BOLIVIA   \n",
              "2                                      GIN Y GINEBRA              COSTA RICA   \n",
              "3                                      GIN Y GINEBRA                    PERU   \n",
              "4                                      GIN Y GINEBRA                   CHILE   \n",
              "\n",
              "  des_Medio_Sal                      des_Via_Sal  CUCIR3  GCE  CIIU3 CODACT  \\\n",
              "0     CARRETERA                    ZONAS FRANCAS     989  122   1549     D6   \n",
              "1     CARRETERA                    ZONAS FRANCAS     989  122   1549     D6   \n",
              "2         AEREA                            AEREA    1124  122   1551     D3   \n",
              "3     CARRETERA                      DESAGUADERO    1124  122   1551     D3   \n",
              "4     CARRETERA  ARICA - CHARANA - TAMBO QUEMADO    1124  122   1551     D3   \n",
              "\n",
              "    TNT  Peso_Bruto_Kg  Peso_Neto_Kg  Valor_FOB_Sus  \n",
              "0  34.0             53            50           4023  \n",
              "1  34.0             53            50           4023  \n",
              "2  13.0             70            34            272  \n",
              "3  13.0          11230          6300          42750  \n",
              "4  13.0           4500          2520          15480  "
            ]
          },
          "execution_count": 106,
          "metadata": {},
          "output_type": "execute_result"
        }
      ],
      "source": [
        "# Lo podemos cargar con pandas para análisis de datos\n",
        "\n",
        "import pandas as pd\n",
        "df = pd.read_csv('exp2020.txt', sep='|', encoding=\"ISO-8859-1\")\n",
        "df.head()"
      ]
    },
    {
      "cell_type": "markdown",
      "metadata": {
        "id": "RJD_ss4TsFbr"
      },
      "source": [
        "Ejercicio: \n",
        "\n",
        "- Descargar el archivo con Python\n",
        "- Hacer un búcle que descargue exportaciones desde el 2016 al 2020\n",
        "\n",
        "Pista: usar un for, f-strings, ```.content``` y ```\n",
        "with open(...\n",
        "```"
      ]
    },
    {
      "cell_type": "code",
      "execution_count": null,
      "metadata": {
        "colab": {
          "base_uri": "https://localhost:8080/"
        },
        "id": "aVsajujkLgi6",
        "outputId": "edc9e9ac-1201-4d1f-a5dc-1313c14e8d4a"
      },
      "outputs": [
        {
          "name": "stdout",
          "output_type": "stream",
          "text": [
            "Guardando exp2016.rar\n",
            "Guardando exp2017.rar\n",
            "Guardando exp2018.rar\n",
            "Guardando exp2019.rar\n",
            "Guardando exp2020.rar\n"
          ]
        }
      ],
      "source": [
        "# Con un loop podemos cambiar el año y descargar todas\n",
        "\n",
        "anios = []\n",
        "\n",
        "for a in range(2016, 2021):\n",
        "  nombre = f\"exp{a}.rar\"\n",
        "  url = f'http://web2.ine.gob.bo:8081/IneComex/BD/{nombre}'\n",
        "\n",
        "  obj = requests.get(url)\n",
        "\n",
        "  # guardar el contenido de obj en archivo de nombre 'nombre'\n",
        "\n",
        "  with open(nombre, 'wb') as out:\n",
        "    out.write(obj.content)\n",
        "    \n",
        "  print('Guardando', nombre)\n",
        "  sleep(5)"
      ]
    },
    {
      "cell_type": "markdown",
      "metadata": {
        "id": "2m38xKczwSbm"
      },
      "source": [
        "## Crawling y Scraping\n",
        "\n",
        "Podemos de un sitio inicial tomar todos los links que aparecen, y entrar para extraer la información de cada uno. \n",
        "\n",
        "Ejercicio:\n",
        "\n",
        "Extraer todos los links de http://www.sice.oas.org .\n",
        "\n",
        "- Usar ChromeDevTools para ver dónde se encuentran los datos \n",
        "- Usar requests y BeautifulSoup\n",
        "- Filtrar los links que no sean nulos, contengan \"/Trade/\" y terminen con .asp\n",
        "\n",
        "\n",
        "En una aplicación real, uno tiene que considerar como se diseña la arquitectura del servicio. Se podrían tener procesos \"trabajadores\" o *Workers* que hacen rastreo de nuevos links (*crawling*) alimentando una cola o (*Queue*), mientras otros que se ocupan de ir tomando de estos links y extraer los datos (*Scraping*).\n",
        "\n",
        "[Scrapy](https://scrapy.org/) es una librería que nos ofrece abstracciones para fácilmente produccionalizar (*deploy*) productos escalables de crawling y scraping."
      ]
    },
    {
      "cell_type": "code",
      "execution_count": null,
      "metadata": {
        "id": "zhC-R-s0lYDx"
      },
      "outputs": [],
      "source": [
        "from bs4 import BeautifulSoup\n",
        "\n",
        "def codigo_html(url):\n",
        "    '''recibe una URL y devuelve el .text de la Response'''\n",
        "    headers = {'user-agent': 'Mozilla/5.0 (X11; Linux x86_64) AppleWebKit/537.36 (KHTML, like Gecko) Chrome/84.0.4147.105 Safari/537.36'}\n",
        "    return requests.get(url, headers=headers).text"
      ]
    },
    {
      "cell_type": "code",
      "execution_count": null,
      "metadata": {
        "id": "zHECBiApsCjI"
      },
      "outputs": [],
      "source": [
        "url = 'http://www.sice.oas.org/agreements_s.asp'"
      ]
    },
    {
      "cell_type": "code",
      "execution_count": null,
      "metadata": {
        "id": "Rw1XICx_w0ik"
      },
      "outputs": [],
      "source": [
        "# Extraer los links con BS, Regex o XPATH\n",
        "soup = BeautifulSoup(..., 'html.parser')"
      ]
    },
    {
      "cell_type": "code",
      "execution_count": null,
      "metadata": {
        "colab": {
          "base_uri": "https://localhost:8080/"
        },
        "id": "PyQCI5Faw9uL",
        "outputId": "ae4e57c4-0990-414d-d20c-8238219a3c96"
      },
      "outputs": [
        {
          "data": {
            "text/plain": [
              "['/Trade/PAC_ALL/Index_Pacific_Alliance_s.asp',\n",
              " '/Trade/BOL_MEX_66/BOL_MEX_Ind_s.asp',\n",
              " '/Trade/CAFTA/CAFTADR/CAFTADRin_s.asp',\n",
              " '/Trade/CAN_EFTA_FTA/canefta_in.asp',\n",
              " '/Trade/chican_s/CAN_CHL_Index_2019_s.asp',\n",
              " '/Trade/CAN_KOR/English/CAN_KOR_index_e.asp',\n",
              " '/Trade/cancr/Spanish/indice.asp',\n",
              " '/Trade/can-isr/can-isr.asp',\n",
              " '/Trade/can-isr/CAN_ISR_2018_index_e.asp',\n",
              " '/Trade/CAN_JOR_FTA/index_e.asp']"
            ]
          },
          "execution_count": 223,
          "metadata": {
            "tags": []
          },
          "output_type": "execute_result"
        }
      ],
      "source": [
        "# Alternativa con Expresiones Regulares\n",
        "\n",
        "import re\n",
        "r = requests.get(url)\n",
        "\n",
        "patron = ...\n",
        "\n",
        "# Buscamos todo lo que coincida con nuestro patrón\n",
        "subs = re.findall(patron, r.text)\n",
        "subs[:10]"
      ]
    },
    {
      "cell_type": "markdown",
      "metadata": {
        "id": "p4x5WLUP73AW"
      },
      "source": [
        "## Cookies WTO"
      ]
    },
    {
      "cell_type": "markdown",
      "metadata": {
        "id": "Nix0LMev7GDp"
      },
      "source": [
        "Vamos a buscar nuevos acuerdos comerciales en el sitio de la World Trade Organization:\n",
        "\n",
        "https://rtais.wto.org/ \n",
        "\n",
        "Los acuerdos están indexados por ID, por ejemplo:\n",
        "\n",
        "https://rtais.wto.org/UI/PublicShowRTAIDCard.aspx?rtaid=1093\n",
        "\n",
        "Observen que en la URL hay un parámetro que es una identificación (ID) numérica"
      ]
    },
    {
      "cell_type": "markdown",
      "metadata": {
        "id": "9zJKy-c943dJ"
      },
      "source": [
        "\n",
        "Mientras el usuario navega por un sitio, se acumula información sobre su actividad como pequeños archivos o strings denominados _cookies_, que sirven, por ejemplo, para mantener una sesión iniciada.\n",
        "\n",
        "La clase Session de requests permite almacenar cookies"
      ]
    },
    {
      "cell_type": "code",
      "execution_count": null,
      "metadata": {
        "id": "HTMPQoXFzn7b"
      },
      "outputs": [],
      "source": [
        "from IPython.display import HTML"
      ]
    },
    {
      "cell_type": "code",
      "execution_count": 155,
      "metadata": {
        "id": "2CZECXON4eTT"
      },
      "outputs": [],
      "source": [
        "import requests \n",
        "\n",
        "id = 1093\n",
        "\n",
        "# Creamos una nueva sesión\n",
        "s = requests.Session() "
      ]
    },
    {
      "cell_type": "code",
      "execution_count": 156,
      "metadata": {
        "colab": {
          "base_uri": "https://localhost:8080/"
        },
        "id": "6ZNhhc4J4oOB",
        "outputId": "824afabe-db44-4796-db55-f9ba1fa25ebc"
      },
      "outputs": [
        {
          "data": {
            "text/plain": [
              "<Response [200]>"
            ]
          },
          "execution_count": 156,
          "metadata": {},
          "output_type": "execute_result"
        }
      ],
      "source": [
        "s.get('https://rtais.wto.org/')"
      ]
    },
    {
      "cell_type": "code",
      "execution_count": 164,
      "metadata": {
        "id": "bzH91gZi7fie"
      },
      "outputs": [],
      "source": [
        "# Al ingresar primero a este sitio, nos otorgan las cookies\n",
        "r = rq.get(f'https://rtais.wto.org/UI/PublicShowRTAIDCard.aspx?rtaid={id}')"
      ]
    },
    {
      "cell_type": "code",
      "execution_count": null,
      "metadata": {
        "colab": {
          "base_uri": "https://localhost:8080/"
        },
        "id": "4T3SbPRI-OYw",
        "outputId": "ed10d7a0-c79c-46cd-8e2a-75d205607671"
      },
      "outputs": [],
      "source": [
        "r.content"
      ]
    },
    {
      "cell_type": "markdown",
      "metadata": {
        "id": "WvIbclhae01S"
      },
      "source": [
        "Sin esos _cookies_, y los siguientes headers, el sitio no devuelve la información."
      ]
    },
    {
      "cell_type": "code",
      "execution_count": 167,
      "metadata": {
        "id": "FXNjg_u15hjq"
      },
      "outputs": [],
      "source": [
        "headers = {\n",
        "    'User-Agent': 'Mozilla/5.0 (X11; Linux x86_64) AppleWebKit/537.36 (KHTML, like Gecko) Chrome/86.0.4240.75 Safari/537.36',\n",
        "    'Referer': f'https://rtais.wto.org/UI/PublicShowRTAIDCard.aspx?rtaid={id}'}\n",
        "\n",
        "# Hacemos un GET pero usando la Sesión que instanciamos\n",
        "r2 = s.get('https://rtais.wto.org/WEBCONTROL/ExportRTAIDCard.aspx', headers=headers)"
      ]
    },
    {
      "cell_type": "code",
      "execution_count": null,
      "metadata": {
        "colab": {
          "base_uri": "https://localhost:8080/"
        },
        "id": "CDYpU-2vJvv7",
        "outputId": "0562df2f-0b60-4054-b65c-e5bdcf782411"
      },
      "outputs": [],
      "source": [
        "r2.content[:1000]"
      ]
    },
    {
      "cell_type": "code",
      "execution_count": 174,
      "metadata": {
        "colab": {
          "base_uri": "https://localhost:8080/",
          "height": 909
        },
        "id": "w25bpJwi50jv",
        "outputId": "ef1bd134-4af8-4a52-d405-e60d4c1c583c"
      },
      "outputs": [
        {
          "data": {
            "text/html": [
              "<table id=\"tblbasicInfo\" cellspacing=\"0\" cellpadding=\"0\" align=\"center\" border=\"1\" width=\"100%\">\r\n",
              "\t<tr>\r\n",
              "\t\t<th class=\"subheadingwhite\" align=\"left\">\r\n",
              "                                        <span id=\"lblBasicInfo\">Basic Information</span>\r\n",
              "                                    </th>\r\n",
              "\t</tr>\r\n",
              "\t<tr>\r\n",
              "\t\t<td>\r\n",
              "                                        <fieldset>\r\n",
              "                                            <table cellspacing=\"2\" cellpadding=\"2\" align=\"center\" border=\"1\" width=\"100%\">\r\n",
              "                                                <tbody>\r\n",
              "                                                    <tr id=\"trRTAEngName\" class=\"table1\" align=\"center\">\r\n",
              "\t\t\t<td class=\"PublicShowField\" align=\"right\" width=\"15%\" nowrap=\"nowrap\">\r\n",
              "                                                            <span id=\"lblEngAgrName\">Agreement name:</span>\r\n",
              "                                                        </td>\r\n",
              "\t\t\t<td class=\"PublicShowFieldValue\" align=\"left\" colspan=\"3\">\r\n",
              "                                                            <span id=\"txtEngAgrName\">EU - Pacific States - Accession of Samoa</span>\r\n",
              "                                                        </td>\r\n",
              "\t\t</tr>\r\n",
              "\t\t\r\n",
              "                                                    \r\n",
              "                                                    \r\n",
              "                                                    <tr id=\"trRTACoverageType\">\r\n",
              "\t\t\t<td class=\"PublicShowField\" align=\"right\" width=\"15%\">\r\n",
              "                                                            <span id=\"lblCoverage\">Coverage:</span>\r\n",
              "                                                        </td>\r\n",
              "\t\t\t<td class=\"PublicShowFieldValue\" width=\"35%\">\r\n",
              "                                                            <span id=\"selCoverage\">Goods</span>\r\n",
              "                                                        </td>\r\n",
              "\t\t\t<td class=\"PublicShowField\" align=\"right\" width=\"15%\">\r\n",
              "                                                            <span id=\"lblType\">Type:</span>\r\n",
              "                                                        </td>\r\n",
              "\t\t\t<td class=\"PublicShowFieldValue\" width=\"35%\">\r\n",
              "                                                            <span id=\"selType\">Free Trade Agreement</span>\r\n",
              "                                                        </td>\r\n",
              "\t\t</tr>\r\n",
              "\t\t\r\n",
              "                                                    <tr id=\"trRTAStatusLegalCover\">\r\n",
              "\t\t\t<td class=\"PublicShowField\" align=\"right\">\r\n",
              "                                                            <span id=\"lblStatus\">Status:</span>\r\n",
              "                                                        </td>\r\n",
              "\t\t\t<td class=\"PublicShowFieldValue\">\r\n",
              "                                                            <span id=\"selStatus\" title=\"The RTA is, or will soon be, in force.\" class=\"showHand\">In Force</span>\r\n",
              "                                                        </td>\r\n",
              "\t\t\t<td class=\"PublicShowField\" align=\"right\">\r\n",
              "                                                            <span id=\"lblLegalCover\">Notification under:</span>\r\n",
              "                                                        </td>\r\n",
              "\t\t\t<td class=\"PublicShowFieldValue\">\r\n",
              "                                                            <span id=\"selLegalcover\">GATT Art. XXIV</span>\r\n",
              "                                                        </td>\r\n",
              "\t\t</tr>\r\n",
              "\t\t\r\n",
              "                                                    <tr id=\"trRTAGSDDON\">\r\n",
              "\t\t\t<td class=\"PublicShowField\" nowrap=\"nowrap\" align=\"right\">\r\n",
              "                                                            <span id=\"lblGSD\">Date of signature:</span>\r\n",
              "                                                        </td>\r\n",
              "\t\t\t<td class=\"PublicShowFieldValue\" align=\"left\">\r\n",
              "                                                            <span id=\"txtGSD\">21-Dec-2018</span>\r\n",
              "                                                        </td>\r\n",
              "\t\t\t<td class=\"PublicShowField\" align=\"right\">\r\n",
              "                                                            <span id=\"lblDON\">Date of notification:</span>\r\n",
              "                                                        </td>\r\n",
              "\t\t\t<td class=\"PublicShowFieldValue\" align=\"left\">\r\n",
              "                                                            <span id=\"txtDON\">26-Oct-2020</span>\r\n",
              "                                                        </td>\r\n",
              "\t\t</tr>\r\n",
              "\t\t\r\n",
              "                                                    \r\n",
              "                                                    <tr id=\"trRTADOEGDOFI\">\r\n",
              "\t\t\t<td class=\"PublicShowField\" valign=\"middle\" nowrap=\"nowrap\" align=\"right\">\r\n",
              "                                                            <span id=\"lblDOE\">Date of entry into force:</span>\r\n",
              "                                                        </td>\r\n",
              "\t\t\t<td class=\"PublicShowFieldValue\" valign=\"middle\" align=\"left\">\r\n",
              "                                                            <span id=\"txtDOE\">31-Dec-2018</span>\r\n",
              "                                                        </td>\r\n",
              "\t\t\t<td class=\"PublicShowField\" valign=\"middle\" nowrap=\"nowrap\" align=\"right\">\r\n",
              "                                                            <span id=\"lblGDOFI\">End of implementation period:</span>\r\n",
              "                                                        </td>\r\n",
              "\t\t\t<td class=\"PublicShowFieldValue\" valign=\"middle\" align=\"left\">\r\n",
              "                                                            <span id=\"txtGDOFI\">01-Jan-2037</span>\r\n",
              "                                                        </td>\r\n",
              "\t\t</tr>\r\n",
              "\t\t\r\n",
              "                                                    \r\n",
              "                                                    <tr id=\"trDOER\">\r\n",
              "\t\t\t<td class=\"PublicShowField\" align=\"Right\">\r\n",
              "                                                            <span id=\"lblDOERemarks\">Remarks:</span>\r\n",
              "                                                        </td>\r\n",
              "\t\t\t<td class=\"PublicShowFieldValue\" align=\"left\">\r\n",
              "                                                            <span id=\"txtDOERemarks\">Official Journal of the European Union: L 333 of 28-Dec-2018.\r\n",
              "The EU and Samoa are provisionally applying the Agreement since 31-Dec-18.\r\n",
              "The United Kingdom was a Member State of the European Union until 31 January 2020. The European Union and the United Kingdom have agreed a Withdrawal Agreement pursuant to Article 50 of the Treaty on European Union, which provides for a time-limited transition period during which European Union law, with limited exceptions as provided for in the Withdrawal Agreement will apply to and in the United Kingdom. Further details are available in the communication from the United Kingdom (WT/GC/206) dated 1 February 2020 and the note verbal from the European Union (WT/LET/1462) dated 27 January 2020 notifying WTO members that the United Kingdom is treated as a member State of the European Union for the purposes of relevant international agreements for the duration of the transition period. </span>\r\n",
              "                                                        </td>\r\n",
              "\t\t\t<td class=\"PublicShowField\" align=\"right\">\r\n",
              "                                                            \r\n",
              "                                                        </td>\r\n",
              "\t\t\t<td class=\"PublicShowFieldValue\" align=\"left\">\r\n",
              "                                                            \r\n",
              "                                                        </td>\r\n",
              "\t\t</tr>\r\n",
              "\t\t\r\n",
              "                                                    <tr id=\"trISAccession\">\r\n",
              "\t\t\t<td class=\"PublicShowField\" align=\"Right\">\r\n",
              "                                                            <span id=\"lblISAccession\">Accession</span>\r\n",
              "                                                        </td>\r\n",
              "\t\t\t<td class=\"PublicShowFieldValue\" align=\"left\">\r\n",
              "                                                            <span id=\"chkIsAccession\">Yes</span>\r\n",
              "                                                        </td>\r\n",
              "\t\t\t<td class=\"PublicShowField\" align=\"right\">&nbsp;\r\n",
              "                                                        </td>\r\n",
              "\t\t\t<td class=\"PublicShowFieldValue\">&nbsp;\r\n",
              "                                                        </td>\r\n",
              "\t\t</tr>\r\n",
              "\t\t\r\n",
              "                                                    <tr id=\"trCurrSig\">\r\n",
              "\t\t\t<td class=\"PublicShowField\" align=\"right\">\r\n",
              "                                                            <span id=\"lblCurrentSign\">Current signatories:</span>\r\n",
              "                                                        </td>\r\n",
              "\t\t\t<td class=\"PublicShowFieldValue\" colspan=\"3\">\r\n",
              "                                                            <span id=\"lbltxtCurrSign\" style=\"display:inline-block;width:100%;\">Austria; Belgium; Bulgaria; Croatia; Cyprus; Czech Republic; Denmark; Estonia; Finland; France; Germany; Greece; Hungary; Ireland; Italy; Latvia; Lithuania; Luxembourg; Malta; Netherlands; Poland; Portugal; Romania; Slovak Republic; Slovenia; Spain; Sweden; Fiji; Papua New Guinea; Samoa.</span>\r\n",
              "                                                        </td>\r\n",
              "\t\t</tr>\r\n",
              "\t\t\r\n",
              "                                                    <tr id=\"trOrigSig\">\r\n",
              "\t\t\t<td class=\"PublicShowField\" align=\"right\">\r\n",
              "                                                            <span id=\"lblOrigSign\">Original signatories:</span>\r\n",
              "                                                        </td>\r\n",
              "\t\t\t<td class=\"PublicShowFieldValue\" colspan=\"3\">\r\n",
              "                                                            <span id=\"lbltxtOrigSign\">Austria; Belgium; Bulgaria; Croatia; Cyprus; Czech Republic; Denmark; Estonia; Fiji; Finland; France; Germany; Greece; Hungary; Ireland; Italy; Latvia; Lithuania; Luxembourg; Malta; Netherlands; Papua New Guinea; Poland; Portugal; Romania; Samoa; Slovak Republic; Slovenia; Spain; Sweden; United Kingdom.</span>\r\n",
              "                                                        </td>\r\n",
              "\t\t</tr>\r\n",
              "\t\t\r\n",
              "                                                    <tr id=\"trRTAComposition\">\r\n",
              "\t\t\t<td class=\"PublicShowField\" align=\"right\">\r\n",
              "                                                            <span id=\"lblComposition\">RTA Composition:</span>\r\n",
              "                                                        </td>\r\n",
              "\t\t\t<td class=\"PublicShowFieldValue\" colspan=\"3\">\r\n",
              "                                                            <span id=\"txtComposition\">Plurilateral;One Party is an RTA.</span>\r\n",
              "\r\n",
              "                                                        </td>\r\n",
              "\t\t</tr>\r\n",
              "\t\t\r\n",
              "                                                    <tr id=\"trRTARegionCategory\">\r\n",
              "\t\t\t<td class=\"PublicShowField\" align=\"right\">\r\n",
              "                                                            <span id=\"lblRegion\">Region:</span>\r\n",
              "                                                        </td>\r\n",
              "\t\t\t<td class=\"PublicShowFieldValue\">\r\n",
              "                                                            <span id=\"txtRegion\"> Europe; Oceania.</span>\r\n",
              "                                                        </td>\r\n",
              "\t\t\t<td class=\"PublicShowField\" nowrap=\"nowrap\" align=\"right\">\r\n",
              "                                                            <!--<span id=\"lblCatogorisation\">Membership Categorization:</span> -->\r\n",
              "                                                        </td>\r\n",
              "\t\t\t<td class=\"PublicShowFieldValue\">\r\n",
              "                                                            <!--<span id=\"txtCatogorisation\"> Developed economies ; Developing economies</span> -->\r\n",
              "                                                        </td>\r\n",
              "\t\t</tr>\r\n",
              "\t\t\r\n",
              "                                                    <tr id=\"trRTAWtoMemberCrossRegion\">\r\n",
              "\t\t\t<td class=\"PublicShowField\" nowrap=\"nowrap\" align=\"right\">\r\n",
              "                                                            <span id=\"lblWTOMember\">All Parties WTO members?</span>\r\n",
              "                                                        </td>\r\n",
              "\t\t\t<td class=\"PublicShowFieldValue\">\r\n",
              "                                                            <span id=\"txtWTOMember\">Yes</span>\r\n",
              "                                                        </td>\r\n",
              "\t\t\t<td class=\"PublicShowField\" nowrap=\"nowrap\" align=\"right\">\r\n",
              "                                                            <span id=\"lblICrossRegion\">Cross-Regional:</span>\r\n",
              "                                                        </td>\r\n",
              "\t\t\t<td class=\"PublicShowFieldValue\">\r\n",
              "                                                            <span id=\"chkCrossRegion\"> Yes</span>\r\n",
              "                                                        </td>\r\n",
              "\t\t</tr>\r\n",
              "\t\t\r\n",
              "                                                </tbody>\r\n",
              "                                            </table>\r\n",
              "                                        </fieldset>\r\n",
              "                                    </td>\r\n",
              "\t</tr>\r\n",
              "\t<tr>\r\n",
              "\t\t<td valign=\"top\">\r\n",
              "                                        <fieldset id=\"fldOffWebAdd\">\r\n",
              "                                            <table cellspacing=\"0\" cellpadding=\"0\" width=\"100%\" align=\"left\" border=\"1\">\r\n",
              "                                                <tbody>\r\n",
              "                                                    <tr class=\"table1\" align=\"center\">\r\n",
              "                                                        <th class=\"subheadingwhite\" align=\"left\" colspan=\"4\">\r\n",
              "                                                            <span id=\"lblOffWebAdd\">Official Web Address</span>\r\n",
              "                                                        </th>\r\n",
              "                                                    </tr>\r\n",
              "                                                    <tr align=\"center\">\r\n",
              "                                                        <td align=\"left\" colspan=\"4\">\r\n",
              "                                                            \r\n",
              "                                                                    <table border=\"1\" width=\"100%\" cellpadding=\"2\" cellspacing=\"2\">\r\n",
              "                                                                \r\n",
              "                                                                    <tr class=\"PublicShowFieldValue\">\r\n",
              "                                                                        <td colspan=\"4\">\r\n",
              "                                                                            https://ec.europa.eu/ \r\n",
              "                                                                        </td>\r\n",
              "                                                                    </tr>\r\n",
              "                                                                \r\n",
              "                                                                    </table>\r\n",
              "                                                                \r\n",
              "                                                        </td>\r\n",
              "                                                    </tr>\r\n",
              "\r\n",
              "                                                </tbody>\r\n",
              "                                            </table>\r\n",
              "                                        </fieldset>\r\n",
              "                                    </td>\r\n",
              "\t</tr>\r\n",
              "\t<tr>\r\n",
              "\t\t<td width=\"100%\">\r\n",
              "                                        <table id=\"tblRelAgr\" cellspacing=\"0\" cellpadding=\"0\" width=\"100%\" align=\"center\" border=\"0\">\r\n",
              "\t\t\t<tr>\r\n",
              "\t\t\t\t<th class=\"subheadingwhite\" align=\"left\" colspan=\"2\">\r\n",
              "                                                    <span id=\"lblRelAgreements\">Related agreements</span>\r\n",
              "                                                </th>\r\n",
              "\t\t\t</tr>\r\n",
              "\t\t\t<tr align=\"center\">\r\n",
              "\t\t\t\t<td align=\"left\">\r\n",
              "                                                    \r\n",
              "                                                            <table border=\"1\" width=\"100%\">\r\n",
              "                                                        \r\n",
              "                                                            <tr class=\"PublicShowFieldValue\">\r\n",
              "                                                                <td colspan=\"4\">&nbsp;&nbsp; \r\n",
              "                                                                    EU - Pacific States'\r\n",
              "                                                                </td>\r\n",
              "                                                            </tr>\r\n",
              "                                                        \r\n",
              "                                                            <tr class=\"PublicShowFieldValue\">\r\n",
              "                                                                <td colspan=\"4\">&nbsp;&nbsp; \r\n",
              "                                                                    EU - Pacific States - Accession of Solomon Islands'\r\n",
              "                                                                </td>\r\n",
              "                                                            </tr>\r\n",
              "                                                        \r\n",
              "                                                            </table>\r\n",
              "                                                        \r\n",
              "                                                </td>\r\n",
              "\t\t\t</tr>\r\n",
              "\t\t</table>\r\n",
              "\t\t\r\n",
              "                                    </td>\r\n",
              "\t</tr>\r\n",
              "</table>\r\n",
              "<table id=\"tblWTOProcess\" cellspacing=\"0\" cellpadding=\"0\" align=\"center\" border=\"1\" width=\"100%\">\r\n",
              "\t<tr>\r\n",
              "\t\t<th class=\"subheadingwhite\" align=\"left\">\r\n",
              "                                        <span id=\"lblWTOProcess\">WTO Consideration Process</span>\r\n",
              "                                    </th>\r\n",
              "\t</tr>\r\n",
              "\t<tr>\r\n",
              "\t\t<td>\r\n",
              "                                        <fieldset>\r\n",
              "                                            <table cellspacing=\"2\" cellpadding=\"2\" border=\"1\" width=\"100%\">\r\n",
              "                                                <tbody>\r\n",
              "                                                    <tr id=\"trConStatus\" class=\"table1\">\r\n",
              "\t\t\t<td class=\"PublicShowField\" align=\"right\" width=\"15%\">\r\n",
              "                                                            <span id=\"lblGConsiderationStatus\">Consideration status:</span>\r\n",
              "                                                        </td>\r\n",
              "\t\t\t<td class=\"PublicShowFieldValue\" align=\"left\" width=\"25%\">\r\n",
              "                                                            <span id=\"selGConsiderationStatus\">Factual Presentation currently being drafted</span>\r\n",
              "                                                        </td>\r\n",
              "\t\t\t<td id=\"tdSCinsiderationStatsLable\" class=\"PublicShowField\" align=\"right\" width=\"25%\">\r\n",
              "                                                            \r\n",
              "                                                        </td>\r\n",
              "\t\t\t<td id=\"tdSCinsiderationStatsVal\" class=\"PublicShowFieldValue\" align=\"left\" width=\"25%\">\r\n",
              "                                                            \r\n",
              "                                                        </td>\r\n",
              "\t\t</tr>\r\n",
              "\t\t\r\n",
              "                                                    <tr id=\"trDocSeries\">\r\n",
              "\t\t\t<td class=\"PublicShowField\" align=\"right\">\r\n",
              "                                                            <span id=\"lblDocSeries\">Document series:</span>\r\n",
              "                                                        </td>\r\n",
              "\t\t\t<td class=\"PublicShowFieldValue\" align=\"left\" colspan=\"3\">\r\n",
              "                                                            <span id=\"lbltxtDocSeries\">WT/REG408</span>\r\n",
              "                                                        </td>\r\n",
              "\t\t</tr>\r\n",
              "\t\t\r\n",
              "                                                    \r\n",
              "                                                </tbody>\r\n",
              "                                            </table>\r\n",
              "                                        </fieldset>\r\n",
              "                                        <table id=\"tblRelDocs\" cellspacing=\"2\" cellpadding=\"0\" border=\"1\" width=\"100%\" align=\"Left\">\r\n",
              "\t\t\t<tr class=\"table1\">\r\n",
              "\t\t\t\t<th class=\"subheadingwhite\" align=\"left\" colspan=\"4\">\r\n",
              "                                                        <span id=\"lblRelDocs\">Related documents</span>\r\n",
              "                                                    </th>\r\n",
              "\t\t\t</tr>\r\n",
              "\t\t\t<tr align=\"center\">\r\n",
              "\t\t\t\t<td align=\"left\" colspan=\"4\">\r\n",
              "                                                        \r\n",
              "                                                                <table border=\"1\" width=\"100%\" cellpadding=\"2\" cellspacing=\"2\">\r\n",
              "                                                                    <tr class=\"PublicShowFieldValue\">\r\n",
              "                                                                        <th align=\"left\">\r\n",
              "                                                                            <span id=\"rptRelDocumentList_lblDocType\">Document type</span></th>\r\n",
              "                                                                        <th align=\"left\" colspan=\"3\">\r\n",
              "                                                                            <span id=\"rptRelDocumentList_lblSymbol\">Symbol</span></th>\r\n",
              "                                                                    </tr>\r\n",
              "                                                            \r\n",
              "                                                                <tr>\r\n",
              "                                                                    <td class=\"PublicShowFieldValue\" align=\"left\">\r\n",
              "                                                                        Notification  \r\n",
              "                                                                    </td>\r\n",
              "                                                                    <td class=\"PublicShowFieldValue\" colspan=\"3\" align=\"left\">\r\n",
              "                                                                        WT/REG408/N/1\r\n",
              "                                                                    </td>\r\n",
              "                                                                </tr>\r\n",
              "                                                            \r\n",
              "                                                                <tr>\r\n",
              "                                                                    <td class=\"PublicShowFieldValue\" align=\"left\">\r\n",
              "                                                                        Notification / Inactive Agreements  \r\n",
              "                                                                    </td>\r\n",
              "                                                                    <td class=\"PublicShowFieldValue\" colspan=\"3\" align=\"left\">\r\n",
              "                                                                        WT/REG/GEN/N/10\r\n",
              "                                                                    </td>\r\n",
              "                                                                </tr>\r\n",
              "                                                            \r\n",
              "                                                                </table>\r\n",
              "                                                            \r\n",
              "\r\n",
              "                                                    </td>\r\n",
              "\t\t\t</tr>\r\n",
              "\t\t</table>\r\n",
              "\t\t\r\n",
              "                                    </td>\r\n",
              "\t</tr>\r\n",
              "</table>\r\n"
            ],
            "text/plain": [
              "<IPython.core.display.HTML object>"
            ]
          },
          "execution_count": 174,
          "metadata": {},
          "output_type": "execute_result"
        }
      ],
      "source": [
        "HTML(r2.text)"
      ]
    },
    {
      "cell_type": "code",
      "execution_count": 175,
      "metadata": {
        "id": "QuF3Bm4C60oS"
      },
      "outputs": [],
      "source": [
        "with open('data.xls', 'w') as out:\n",
        "  out.write(r2.text)"
      ]
    },
    {
      "cell_type": "markdown",
      "metadata": {
        "id": "r9Rn0bVgzshE"
      },
      "source": [
        "Ejercicio:\n",
        "\n",
        "- Extraigan los IDs de https://rtais.wto.org/ y descarguen los .xls para cada uno.\n",
        "\n",
        "- Con la librería OS, creen una carpeta con el nombre de la fecha de hoy, y guarden los archivos ahí"
      ]
    },
    {
      "cell_type": "code",
      "execution_count": null,
      "metadata": {
        "id": "xg7XgI5kPteI"
      },
      "outputs": [],
      "source": []
    },
    {
      "cell_type": "markdown",
      "metadata": {
        "id": "8fvcmqrgzeu2"
      },
      "source": [
        "\n",
        "Muchas veces las páginas web obtienen sus ingresos a partir del uso de usuarios tradicionales (humanos) pero no de los scrapers (máquinas). Por lo que estos no generan ganancias al sitio y encima pueden causar congestión en los servidores (Pudiendo causar incluso la rotura del sitio similar a lo que pasa con los [ataques DDOS](https://es.wikipedia.org/wiki/Ataque_de_denegaci%C3%B3n_de_servicio)).\n",
        "\n",
        "Por esta razón los sitios webs suelen tener una pagina [/robots.txt](https://es.wikipedia.org/wiki/Est%C3%A1ndar_de_exclusi%C3%B3n_de_robots) donde especifican que tipo de scrapeo prefieren evitar.\n",
        "\n",
        "Pueden ver, como ejemplos:\n",
        "\n",
        "- https://www.google.com/robots.txt\n",
        "- https://en.wikipedia.org/robots.txt"
      ]
    },
    {
      "cell_type": "markdown",
      "metadata": {
        "id": "_iWcg0Aa8PJ0"
      },
      "source": [
        "Ejercicio para la casa: \n",
        "\n",
        "Descargar PDFs de https://www.markiteconomics.com/Public/Release/PressReleases\n"
      ]
    },
    {
      "cell_type": "code",
      "execution_count": null,
      "metadata": {
        "id": "8LocsJs7Ye1J"
      },
      "outputs": [],
      "source": []
    },
    {
      "cell_type": "markdown",
      "metadata": {
        "id": "e5-0WjLKc9O5"
      },
      "source": [
        "Ejemplo con curl2python: identificamos el paquete, y con la herramienta armamos el paquete de requests:\n",
        "\n",
        "Datos de la OECD https://stats.oecd.org/Index.aspx?DataSetCode=ULC_EEQ%20"
      ]
    },
    {
      "cell_type": "code",
      "execution_count": null,
      "metadata": {
        "id": "QOyfPZ_QOH3L"
      },
      "outputs": [],
      "source": []
    },
    {
      "cell_type": "code",
      "execution_count": null,
      "metadata": {
        "colab": {
          "base_uri": "https://localhost:8080/"
        },
        "id": "xrk7D7arjcs4",
        "outputId": "400ed704-b063-4e7b-b821-df0dd4a4e002"
      },
      "outputs": [],
      "source": [
        "response.content[:1000]"
      ]
    },
    {
      "cell_type": "code",
      "execution_count": null,
      "metadata": {
        "id": "QGl3NSSWdVxC"
      },
      "outputs": [],
      "source": [
        "df = pd.read_csv('./unit_labour_costs_and_labour_productivity_(employment_based).csv')"
      ]
    },
    {
      "cell_type": "code",
      "execution_count": null,
      "metadata": {
        "colab": {
          "base_uri": "https://localhost:8080/",
          "height": 1000
        },
        "id": "fHDpABE_j8sH",
        "outputId": "47162ba1-6a75-40ce-8ba8-b6f26956d099"
      },
      "outputs": [
        {
          "data": {
            "text/html": [
              "\n",
              "  <div id=\"df-10df32d3-f8a3-482e-bab9-a652104cec96\">\n",
              "    <div class=\"colab-df-container\">\n",
              "      <div>\n",
              "<style scoped>\n",
              "    .dataframe tbody tr th:only-of-type {\n",
              "        vertical-align: middle;\n",
              "    }\n",
              "\n",
              "    .dataframe tbody tr th {\n",
              "        vertical-align: top;\n",
              "    }\n",
              "\n",
              "    .dataframe thead th {\n",
              "        text-align: right;\n",
              "    }\n",
              "</style>\n",
              "<table border=\"1\" class=\"dataframe\">\n",
              "  <thead>\n",
              "    <tr style=\"text-align: right;\">\n",
              "      <th></th>\n",
              "      <th>LOCATION</th>\n",
              "      <th>Country</th>\n",
              "      <th>SUBJECT</th>\n",
              "      <th>Subject</th>\n",
              "      <th>MEASURE</th>\n",
              "      <th>Measure</th>\n",
              "      <th>FREQUENCY</th>\n",
              "      <th>Frequency</th>\n",
              "      <th>TIME</th>\n",
              "      <th>Time</th>\n",
              "      <th>Unit Code</th>\n",
              "      <th>Unit</th>\n",
              "      <th>PowerCode Code</th>\n",
              "      <th>PowerCode</th>\n",
              "      <th>Reference Period Code</th>\n",
              "      <th>Reference Period</th>\n",
              "      <th>Value</th>\n",
              "      <th>Flag Codes</th>\n",
              "      <th>Flags</th>\n",
              "    </tr>\n",
              "  </thead>\n",
              "  <tbody>\n",
              "    <tr>\n",
              "      <th>0</th>\n",
              "      <td>AUS</td>\n",
              "      <td>Australia</td>\n",
              "      <td>ULQELP01</td>\n",
              "      <td>GDP per person employed</td>\n",
              "      <td>IXOB</td>\n",
              "      <td>Index</td>\n",
              "      <td>Q</td>\n",
              "      <td>Quarterly</td>\n",
              "      <td>2010-Q1</td>\n",
              "      <td>Q1-2010</td>\n",
              "      <td>IDX</td>\n",
              "      <td>Index</td>\n",
              "      <td>0</td>\n",
              "      <td>Units</td>\n",
              "      <td>2015_100</td>\n",
              "      <td>2015=100</td>\n",
              "      <td>89.491630</td>\n",
              "      <td>NaN</td>\n",
              "      <td>NaN</td>\n",
              "    </tr>\n",
              "    <tr>\n",
              "      <th>1</th>\n",
              "      <td>AUS</td>\n",
              "      <td>Australia</td>\n",
              "      <td>ULQELP01</td>\n",
              "      <td>GDP per person employed</td>\n",
              "      <td>IXOB</td>\n",
              "      <td>Index</td>\n",
              "      <td>Q</td>\n",
              "      <td>Quarterly</td>\n",
              "      <td>2010-Q2</td>\n",
              "      <td>Q2-2010</td>\n",
              "      <td>IDX</td>\n",
              "      <td>Index</td>\n",
              "      <td>0</td>\n",
              "      <td>Units</td>\n",
              "      <td>2015_100</td>\n",
              "      <td>2015=100</td>\n",
              "      <td>93.900680</td>\n",
              "      <td>NaN</td>\n",
              "      <td>NaN</td>\n",
              "    </tr>\n",
              "    <tr>\n",
              "      <th>2</th>\n",
              "      <td>AUS</td>\n",
              "      <td>Australia</td>\n",
              "      <td>ULQELP01</td>\n",
              "      <td>GDP per person employed</td>\n",
              "      <td>IXOB</td>\n",
              "      <td>Index</td>\n",
              "      <td>Q</td>\n",
              "      <td>Quarterly</td>\n",
              "      <td>2010-Q3</td>\n",
              "      <td>Q3-2010</td>\n",
              "      <td>IDX</td>\n",
              "      <td>Index</td>\n",
              "      <td>0</td>\n",
              "      <td>Units</td>\n",
              "      <td>2015_100</td>\n",
              "      <td>2015=100</td>\n",
              "      <td>93.225730</td>\n",
              "      <td>NaN</td>\n",
              "      <td>NaN</td>\n",
              "    </tr>\n",
              "    <tr>\n",
              "      <th>3</th>\n",
              "      <td>AUS</td>\n",
              "      <td>Australia</td>\n",
              "      <td>ULQELP01</td>\n",
              "      <td>GDP per person employed</td>\n",
              "      <td>IXOB</td>\n",
              "      <td>Index</td>\n",
              "      <td>Q</td>\n",
              "      <td>Quarterly</td>\n",
              "      <td>2010-Q4</td>\n",
              "      <td>Q4-2010</td>\n",
              "      <td>IDX</td>\n",
              "      <td>Index</td>\n",
              "      <td>0</td>\n",
              "      <td>Units</td>\n",
              "      <td>2015_100</td>\n",
              "      <td>2015=100</td>\n",
              "      <td>96.757190</td>\n",
              "      <td>NaN</td>\n",
              "      <td>NaN</td>\n",
              "    </tr>\n",
              "    <tr>\n",
              "      <th>4</th>\n",
              "      <td>AUS</td>\n",
              "      <td>Australia</td>\n",
              "      <td>ULQELP01</td>\n",
              "      <td>GDP per person employed</td>\n",
              "      <td>IXOB</td>\n",
              "      <td>Index</td>\n",
              "      <td>Q</td>\n",
              "      <td>Quarterly</td>\n",
              "      <td>2011-Q1</td>\n",
              "      <td>Q1-2011</td>\n",
              "      <td>IDX</td>\n",
              "      <td>Index</td>\n",
              "      <td>0</td>\n",
              "      <td>Units</td>\n",
              "      <td>2015_100</td>\n",
              "      <td>2015=100</td>\n",
              "      <td>89.183420</td>\n",
              "      <td>NaN</td>\n",
              "      <td>NaN</td>\n",
              "    </tr>\n",
              "    <tr>\n",
              "      <th>...</th>\n",
              "      <td>...</td>\n",
              "      <td>...</td>\n",
              "      <td>...</td>\n",
              "      <td>...</td>\n",
              "      <td>...</td>\n",
              "      <td>...</td>\n",
              "      <td>...</td>\n",
              "      <td>...</td>\n",
              "      <td>...</td>\n",
              "      <td>...</td>\n",
              "      <td>...</td>\n",
              "      <td>...</td>\n",
              "      <td>...</td>\n",
              "      <td>...</td>\n",
              "      <td>...</td>\n",
              "      <td>...</td>\n",
              "      <td>...</td>\n",
              "      <td>...</td>\n",
              "      <td>...</td>\n",
              "    </tr>\n",
              "    <tr>\n",
              "      <th>6521</th>\n",
              "      <td>TUR</td>\n",
              "      <td>Turkey</td>\n",
              "      <td>ULQELP01</td>\n",
              "      <td>GDP per person employed</td>\n",
              "      <td>GYSA</td>\n",
              "      <td>Quarterly change on the same quarter of the pr...</td>\n",
              "      <td>Q</td>\n",
              "      <td>Quarterly</td>\n",
              "      <td>2019-Q4</td>\n",
              "      <td>Q4-2019</td>\n",
              "      <td>PC</td>\n",
              "      <td>Percentage</td>\n",
              "      <td>0</td>\n",
              "      <td>Units</td>\n",
              "      <td>NaN</td>\n",
              "      <td>NaN</td>\n",
              "      <td>6.780829</td>\n",
              "      <td>NaN</td>\n",
              "      <td>NaN</td>\n",
              "    </tr>\n",
              "    <tr>\n",
              "      <th>6522</th>\n",
              "      <td>TUR</td>\n",
              "      <td>Turkey</td>\n",
              "      <td>ULQELP01</td>\n",
              "      <td>GDP per person employed</td>\n",
              "      <td>GYSA</td>\n",
              "      <td>Quarterly change on the same quarter of the pr...</td>\n",
              "      <td>Q</td>\n",
              "      <td>Quarterly</td>\n",
              "      <td>2020-Q1</td>\n",
              "      <td>Q1-2020</td>\n",
              "      <td>PC</td>\n",
              "      <td>Percentage</td>\n",
              "      <td>0</td>\n",
              "      <td>Units</td>\n",
              "      <td>NaN</td>\n",
              "      <td>NaN</td>\n",
              "      <td>6.607855</td>\n",
              "      <td>NaN</td>\n",
              "      <td>NaN</td>\n",
              "    </tr>\n",
              "    <tr>\n",
              "      <th>6523</th>\n",
              "      <td>TUR</td>\n",
              "      <td>Turkey</td>\n",
              "      <td>ULQELP01</td>\n",
              "      <td>GDP per person employed</td>\n",
              "      <td>GYSA</td>\n",
              "      <td>Quarterly change on the same quarter of the pr...</td>\n",
              "      <td>Q</td>\n",
              "      <td>Quarterly</td>\n",
              "      <td>2020-Q2</td>\n",
              "      <td>Q2-2020</td>\n",
              "      <td>PC</td>\n",
              "      <td>Percentage</td>\n",
              "      <td>0</td>\n",
              "      <td>Units</td>\n",
              "      <td>NaN</td>\n",
              "      <td>NaN</td>\n",
              "      <td>-0.717307</td>\n",
              "      <td>NaN</td>\n",
              "      <td>NaN</td>\n",
              "    </tr>\n",
              "    <tr>\n",
              "      <th>6524</th>\n",
              "      <td>TUR</td>\n",
              "      <td>Turkey</td>\n",
              "      <td>ULQELP01</td>\n",
              "      <td>GDP per person employed</td>\n",
              "      <td>GYSA</td>\n",
              "      <td>Quarterly change on the same quarter of the pr...</td>\n",
              "      <td>Q</td>\n",
              "      <td>Quarterly</td>\n",
              "      <td>2020-Q3</td>\n",
              "      <td>Q3-2020</td>\n",
              "      <td>PC</td>\n",
              "      <td>Percentage</td>\n",
              "      <td>0</td>\n",
              "      <td>Units</td>\n",
              "      <td>NaN</td>\n",
              "      <td>NaN</td>\n",
              "      <td>9.567170</td>\n",
              "      <td>NaN</td>\n",
              "      <td>NaN</td>\n",
              "    </tr>\n",
              "    <tr>\n",
              "      <th>6525</th>\n",
              "      <td>TUR</td>\n",
              "      <td>Turkey</td>\n",
              "      <td>ULQELP01</td>\n",
              "      <td>GDP per person employed</td>\n",
              "      <td>GYSA</td>\n",
              "      <td>Quarterly change on the same quarter of the pr...</td>\n",
              "      <td>Q</td>\n",
              "      <td>Quarterly</td>\n",
              "      <td>2020-Q4</td>\n",
              "      <td>Q4-2020</td>\n",
              "      <td>PC</td>\n",
              "      <td>Percentage</td>\n",
              "      <td>0</td>\n",
              "      <td>Units</td>\n",
              "      <td>NaN</td>\n",
              "      <td>NaN</td>\n",
              "      <td>10.071380</td>\n",
              "      <td>NaN</td>\n",
              "      <td>NaN</td>\n",
              "    </tr>\n",
              "  </tbody>\n",
              "</table>\n",
              "<p>6526 rows × 19 columns</p>\n",
              "</div>\n",
              "      <button class=\"colab-df-convert\" onclick=\"convertToInteractive('df-10df32d3-f8a3-482e-bab9-a652104cec96')\"\n",
              "              title=\"Convert this dataframe to an interactive table.\"\n",
              "              style=\"display:none;\">\n",
              "        \n",
              "  <svg xmlns=\"http://www.w3.org/2000/svg\" height=\"24px\"viewBox=\"0 0 24 24\"\n",
              "       width=\"24px\">\n",
              "    <path d=\"M0 0h24v24H0V0z\" fill=\"none\"/>\n",
              "    <path d=\"M18.56 5.44l.94 2.06.94-2.06 2.06-.94-2.06-.94-.94-2.06-.94 2.06-2.06.94zm-11 1L8.5 8.5l.94-2.06 2.06-.94-2.06-.94L8.5 2.5l-.94 2.06-2.06.94zm10 10l.94 2.06.94-2.06 2.06-.94-2.06-.94-.94-2.06-.94 2.06-2.06.94z\"/><path d=\"M17.41 7.96l-1.37-1.37c-.4-.4-.92-.59-1.43-.59-.52 0-1.04.2-1.43.59L10.3 9.45l-7.72 7.72c-.78.78-.78 2.05 0 2.83L4 21.41c.39.39.9.59 1.41.59.51 0 1.02-.2 1.41-.59l7.78-7.78 2.81-2.81c.8-.78.8-2.07 0-2.86zM5.41 20L4 18.59l7.72-7.72 1.47 1.35L5.41 20z\"/>\n",
              "  </svg>\n",
              "      </button>\n",
              "      \n",
              "  <style>\n",
              "    .colab-df-container {\n",
              "      display:flex;\n",
              "      flex-wrap:wrap;\n",
              "      gap: 12px;\n",
              "    }\n",
              "\n",
              "    .colab-df-convert {\n",
              "      background-color: #E8F0FE;\n",
              "      border: none;\n",
              "      border-radius: 50%;\n",
              "      cursor: pointer;\n",
              "      display: none;\n",
              "      fill: #1967D2;\n",
              "      height: 32px;\n",
              "      padding: 0 0 0 0;\n",
              "      width: 32px;\n",
              "    }\n",
              "\n",
              "    .colab-df-convert:hover {\n",
              "      background-color: #E2EBFA;\n",
              "      box-shadow: 0px 1px 2px rgba(60, 64, 67, 0.3), 0px 1px 3px 1px rgba(60, 64, 67, 0.15);\n",
              "      fill: #174EA6;\n",
              "    }\n",
              "\n",
              "    [theme=dark] .colab-df-convert {\n",
              "      background-color: #3B4455;\n",
              "      fill: #D2E3FC;\n",
              "    }\n",
              "\n",
              "    [theme=dark] .colab-df-convert:hover {\n",
              "      background-color: #434B5C;\n",
              "      box-shadow: 0px 1px 3px 1px rgba(0, 0, 0, 0.15);\n",
              "      filter: drop-shadow(0px 1px 2px rgba(0, 0, 0, 0.3));\n",
              "      fill: #FFFFFF;\n",
              "    }\n",
              "  </style>\n",
              "\n",
              "      <script>\n",
              "        const buttonEl =\n",
              "          document.querySelector('#df-10df32d3-f8a3-482e-bab9-a652104cec96 button.colab-df-convert');\n",
              "        buttonEl.style.display =\n",
              "          google.colab.kernel.accessAllowed ? 'block' : 'none';\n",
              "\n",
              "        async function convertToInteractive(key) {\n",
              "          const element = document.querySelector('#df-10df32d3-f8a3-482e-bab9-a652104cec96');\n",
              "          const dataTable =\n",
              "            await google.colab.kernel.invokeFunction('convertToInteractive',\n",
              "                                                     [key], {});\n",
              "          if (!dataTable) return;\n",
              "\n",
              "          const docLinkHtml = 'Like what you see? Visit the ' +\n",
              "            '<a target=\"_blank\" href=https://colab.research.google.com/notebooks/data_table.ipynb>data table notebook</a>'\n",
              "            + ' to learn more about interactive tables.';\n",
              "          element.innerHTML = '';\n",
              "          dataTable['output_type'] = 'display_data';\n",
              "          await google.colab.output.renderOutput(dataTable, element);\n",
              "          const docLink = document.createElement('div');\n",
              "          docLink.innerHTML = docLinkHtml;\n",
              "          element.appendChild(docLink);\n",
              "        }\n",
              "      </script>\n",
              "    </div>\n",
              "  </div>\n",
              "  "
            ],
            "text/plain": [
              "     LOCATION    Country   SUBJECT                  Subject MEASURE  \\\n",
              "0         AUS  Australia  ULQELP01  GDP per person employed    IXOB   \n",
              "1         AUS  Australia  ULQELP01  GDP per person employed    IXOB   \n",
              "2         AUS  Australia  ULQELP01  GDP per person employed    IXOB   \n",
              "3         AUS  Australia  ULQELP01  GDP per person employed    IXOB   \n",
              "4         AUS  Australia  ULQELP01  GDP per person employed    IXOB   \n",
              "...       ...        ...       ...                      ...     ...   \n",
              "6521      TUR     Turkey  ULQELP01  GDP per person employed    GYSA   \n",
              "6522      TUR     Turkey  ULQELP01  GDP per person employed    GYSA   \n",
              "6523      TUR     Turkey  ULQELP01  GDP per person employed    GYSA   \n",
              "6524      TUR     Turkey  ULQELP01  GDP per person employed    GYSA   \n",
              "6525      TUR     Turkey  ULQELP01  GDP per person employed    GYSA   \n",
              "\n",
              "                                                Measure FREQUENCY  Frequency  \\\n",
              "0                                                 Index         Q  Quarterly   \n",
              "1                                                 Index         Q  Quarterly   \n",
              "2                                                 Index         Q  Quarterly   \n",
              "3                                                 Index         Q  Quarterly   \n",
              "4                                                 Index         Q  Quarterly   \n",
              "...                                                 ...       ...        ...   \n",
              "6521  Quarterly change on the same quarter of the pr...         Q  Quarterly   \n",
              "6522  Quarterly change on the same quarter of the pr...         Q  Quarterly   \n",
              "6523  Quarterly change on the same quarter of the pr...         Q  Quarterly   \n",
              "6524  Quarterly change on the same quarter of the pr...         Q  Quarterly   \n",
              "6525  Quarterly change on the same quarter of the pr...         Q  Quarterly   \n",
              "\n",
              "         TIME     Time Unit Code        Unit  PowerCode Code PowerCode  \\\n",
              "0     2010-Q1  Q1-2010       IDX       Index               0     Units   \n",
              "1     2010-Q2  Q2-2010       IDX       Index               0     Units   \n",
              "2     2010-Q3  Q3-2010       IDX       Index               0     Units   \n",
              "3     2010-Q4  Q4-2010       IDX       Index               0     Units   \n",
              "4     2011-Q1  Q1-2011       IDX       Index               0     Units   \n",
              "...       ...      ...       ...         ...             ...       ...   \n",
              "6521  2019-Q4  Q4-2019        PC  Percentage               0     Units   \n",
              "6522  2020-Q1  Q1-2020        PC  Percentage               0     Units   \n",
              "6523  2020-Q2  Q2-2020        PC  Percentage               0     Units   \n",
              "6524  2020-Q3  Q3-2020        PC  Percentage               0     Units   \n",
              "6525  2020-Q4  Q4-2020        PC  Percentage               0     Units   \n",
              "\n",
              "     Reference Period Code Reference Period      Value  Flag Codes  Flags  \n",
              "0                 2015_100         2015=100  89.491630         NaN    NaN  \n",
              "1                 2015_100         2015=100  93.900680         NaN    NaN  \n",
              "2                 2015_100         2015=100  93.225730         NaN    NaN  \n",
              "3                 2015_100         2015=100  96.757190         NaN    NaN  \n",
              "4                 2015_100         2015=100  89.183420         NaN    NaN  \n",
              "...                    ...              ...        ...         ...    ...  \n",
              "6521                   NaN              NaN   6.780829         NaN    NaN  \n",
              "6522                   NaN              NaN   6.607855         NaN    NaN  \n",
              "6523                   NaN              NaN  -0.717307         NaN    NaN  \n",
              "6524                   NaN              NaN   9.567170         NaN    NaN  \n",
              "6525                   NaN              NaN  10.071380         NaN    NaN  \n",
              "\n",
              "[6526 rows x 19 columns]"
            ]
          },
          "execution_count": 50,
          "metadata": {},
          "output_type": "execute_result"
        }
      ],
      "source": [
        "df"
      ]
    },
    {
      "cell_type": "markdown",
      "metadata": {
        "id": "uhN44D1KopT5"
      },
      "source": [
        "## Recursos extra:\n",
        "\n",
        "### Scheduling\n",
        "\n",
        "Scheduling es configurar una ejecución automáticamente en el tiempo. \n",
        "\n",
        "- [Crontab para Linux o Mac](https://tecadmin.net/crontab-in-linux-with-20-examples-of-cron-schedule/)\n",
        "- [Schedule en Windows](https://stackoverflow.com/questions/132971/what-is-the-windows-version-of-cron)\n",
        "\n",
        "### Recursos útiles\n",
        "- [Tutorial de Indian Pythonista sobre APIs ocultas](https://www.youtube.com/watch?v=twuhocLtGCg)\n",
        "\n",
        "### Herramientas útiles\n",
        "- [curl2python](https://curl.trillworks.com/)\n",
        "- [Visualizador de JSONs](http://jsonviewer.stack.hu/)\n",
        "\n"
      ]
    }
  ],
  "metadata": {
    "colab": {
      "collapsed_sections": [],
      "name": "scraping_avanzado_2.ipynb",
      "provenance": []
    },
    "instance_type": "ml.t3.medium",
    "kernelspec": {
      "display_name": "Python 3",
      "language": "python",
      "name": "python3"
    },
    "language_info": {
      "codemirror_mode": {
        "name": "ipython",
        "version": 3
      },
      "file_extension": ".py",
      "mimetype": "text/x-python",
      "name": "python",
      "nbconvert_exporter": "python",
      "pygments_lexer": "ipython3",
      "version": "3.8.5"
    }
  },
  "nbformat": 4,
  "nbformat_minor": 0
}
