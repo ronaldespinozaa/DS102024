{
  "cells": [
    {
      "cell_type": "markdown",
      "metadata": {
        "id": "YbltOBlVWDIZ"
      },
      "source": [
        "# Encontrando APIs ocultas\n",
        "\n",
        "Cuando una compañia desarrolla un sitio web muchas veces separa lo que se dice el _frontend_, que es la parte visible del sitio y la cual se ejecuta en tu navegador, del _backend_, la parte del sitio que realiza el computo mas pesado y se ejecuta en servidores/computadoras de la compañia.\n",
        "\n",
        "Para comunicar el _backend_ con el _frontend_ una forma popular es desarrollar REST APIs, a veces estas son públicas pero a veces están ocultas y las utilizamos sin darnos cuenta cuando interactuamos con un sitio web.\n",
        "\n",
        "Ejemplo de un sitio web y su API: http://numbersapi.com/\n",
        "\n",
        "Hoy veremos como encontrarlas y utilizarlas para extraer datos de forma cómoda"
      ]
    },
    {
      "cell_type": "markdown",
      "metadata": {
        "id": "-_mZyv8SWDIb"
      },
      "source": [
        "## Ejemplo 1: Valor del Bitcoin\n",
        "\n",
        "Para este primer ejemplo veremos como encontrar una API oculta en https://coinmarketcap.com/es\n",
        "\n",
        "Luego veremos como utilizarla de 3 maneras:\n",
        "1. Desde el navegador\n",
        "2. Con cURL (Un programa de linea de comandos para transferir datos de internet)\n",
        "3. Con Python"
      ]
    },
    {
      "cell_type": "markdown",
      "metadata": {},
      "source": [
        "[Herramienta](https://www.epochconverter.com/)"
      ]
    },
    {
      "cell_type": "markdown",
      "metadata": {
        "id": "jnUvD8TUWDIc"
      },
      "source": [
        "### Método utilizando python\n",
        "\n",
        "Usaremos el sitio web de [coinmarketcap](https://coinmarketcap.com/es/currencies/bitcoin/) que proporciona datos del Bitcoin en tiempo real.\n",
        "\n",
        "#### Pasos para encontrar la API oculta y utilizarla con Python\n",
        "\n",
        "1. Entrar al sitio web:\n",
        "\n",
        "    - Visita el sitio\n",
        "\n",
        "2. Abrir las herramientas de desarrollo:\n",
        "\n",
        "    - Presiona Ctrl+Shift+I para abrir las herramientas de desarrollo en tu navegador.\n",
        "    - Ve a la solapa Network y selecciona XHR.\n",
        "\n",
        "3. Recargar el sitio y analizar las peticiones:\n",
        "\n",
        "    - Recarga la página para capturar todas las solicitudes que realiza el sitio.\n",
        "    - En la pestaña XHR, revisa las peticiones que se están realizando. Busca aquellas que tienen nombres relevantes o cuyo Response contiene datos que te interesen, como el valor del Bitcoin.\n",
        "\n",
        "4. Identificar la API y copiar el comando cURL:\n",
        "\n",
        "    - Una vez que encuentres una solicitud relevante, haz clic derecho sobre ella y selecciona \"Copy as cURL(bash)\" para copiar el comando cURL que realiza la solicitud.\n",
        "\n",
        "5. Convertir el comando cURL a código Python:\n",
        "\n",
        "    - Utiliza [curlconverter.com](https://curlconverter.com/) para convertir el comando cURL a código Python. Pega el cURL copiado y el sitio te generará un código en Python utilizando la librería requests.\n",
        "\n",
        "6. Escribir el código en Python:\n",
        "\n",
        "    - A partir del código generado, puedes realizar la solicitud a la API y extraer los datos que necesites."
      ]
    },
    {
      "cell_type": "code",
      "execution_count": null,
      "metadata": {
        "colab": {
          "base_uri": "https://localhost:8080/"
        },
        "id": "jawgGIYzWDIc",
        "outputId": "efa5f013-1710-4557-e69a-f8c4cc403d1e"
      },
      "outputs": [],
      "source": [
        "import requests\n",
        "\n",
        "headers = {\n",
        "    'accept': 'application/json, text/plain, */*',\n",
        "    'accept-language': 'es-ES,es;q=0.8',\n",
        "    'cache-control': 'no-cache',\n",
        "    'origin': 'https://coinmarketcap.com',\n",
        "    'platform': 'web',\n",
        "    'priority': 'u=1, i',\n",
        "    'referer': 'https://coinmarketcap.com/',\n",
        "    'sec-ch-ua': '\"Chromium\";v=\"128\", \"Not;A=Brand\";v=\"24\", \"Brave\";v=\"128\"',\n",
        "    'sec-ch-ua-mobile': '?0',\n",
        "    'sec-ch-ua-platform': '\"Windows\"',\n",
        "    'sec-fetch-dest': 'empty',\n",
        "    'sec-fetch-mode': 'cors',\n",
        "    'sec-fetch-site': 'same-site',\n",
        "    'sec-gpc': '1',\n",
        "    'user-agent': 'Mozilla/5.0 (Windows NT 10.0; Win64; x64) AppleWebKit/537.36 (KHTML, like Gecko) Chrome/128.0.0.0 Safari/537.36',\n",
        "    'x-request-id': 'ae6571a8c35944b8863462441f81f1c9',\n",
        "}\n",
        "\n",
        "params = {\n",
        "    'id': '1',\n",
        "    'range': '1D',\n",
        "}\n",
        "\n",
        "response = requests.get('https://api.coinmarketcap.com/data-api/v3/cryptocurrency/detail/chart', params=params, headers=headers)\n",
        "response.json()"
      ]
    },
    {
      "cell_type": "markdown",
      "metadata": {
        "id": "ygsIxo1pWDIe"
      },
      "source": [
        "## Mejorando el código\n",
        "\n",
        "Analizando la API se puede ver que tiene al menos un parámetro modificables, el periodo.\n",
        "\n",
        "Podemos poner todo dentro de una función que extraiga los precios del Bitcoin para un periodo determinado. De esta forma será más fácil de usar y no necesitemos repetir el código."
      ]
    },
    {
      "cell_type": "code",
      "execution_count": null,
      "metadata": {
        "id": "9hsw76yLDSUc"
      },
      "outputs": [],
      "source": [
        "import requests\n",
        "\n",
        "headers = {\n",
        "    'accept': 'application/json, text/plain, */*',\n",
        "    'accept-language': 'es-ES,es;q=0.8',\n",
        "    'cache-control': 'no-cache',\n",
        "    'origin': 'https://coinmarketcap.com',\n",
        "    'platform': 'web',\n",
        "    'priority': 'u=1, i',\n",
        "    'referer': 'https://coinmarketcap.com/',\n",
        "    'sec-ch-ua': '\"Chromium\";v=\"128\", \"Not;A=Brand\";v=\"24\", \"Brave\";v=\"128\"',\n",
        "    'sec-ch-ua-mobile': '?0',\n",
        "    'sec-ch-ua-platform': '\"Windows\"',\n",
        "    'sec-fetch-dest': 'empty',\n",
        "    'sec-fetch-mode': 'cors',\n",
        "    'sec-fetch-site': 'same-site',\n",
        "    'sec-gpc': '1',\n",
        "    'user-agent': 'Mozilla/5.0 (Windows NT 10.0; Win64; x64) AppleWebKit/537.36 (KHTML, like Gecko) Chrome/128.0.0.0 Safari/537.36',\n",
        "    'x-request-id': 'ae6571a8c35944b8863462441f81f1c9',\n",
        "}\n",
        "\n",
        "params = {\n",
        "    'id': '1',  # ID de la criptomoneda (1 es Bitcoin)\n",
        "    'range': '7D',  # Rango de tiempo para los últimos 7 días\n",
        "}\n",
        "\n",
        "response = requests.get('https://api.coinmarketcap.com/data-api/v3/cryptocurrency/detail/chart', params=params, headers=headers)\n",
        "\n",
        "if response.status_code == 200:\n",
        "    data = response.json()\n",
        "    print(data)\n",
        "else:\n",
        "    print(\"Error:\", response.status_code)\n"
      ]
    },
    {
      "cell_type": "code",
      "execution_count": null,
      "metadata": {},
      "outputs": [],
      "source": [
        "import pandas as pd\n",
        "\n",
        "points = data['data']['points']\n",
        "\n",
        "# Convertir los datos en un DataFrame\n",
        "df = pd.DataFrame.from_dict(points, orient='index')\n",
        "\n",
        "# Separar los valores de 'v' en columnas\n",
        "df[['price', 'volume_24h', 'market_cap', 'c4', 'c5']] = pd.DataFrame(df['v'].tolist(), index=df.index)\n",
        "\n",
        "# Eliminar las columnas innecesarias ('v' y 'c')\n",
        "df = df.drop(columns=['v', 'c4', 'c5', 'c'])\n",
        "\n",
        "# Convertir la columna index (timestamps) a un formato de fecha legible\n",
        "df.index = pd.to_datetime(pd.to_numeric(df.index), unit='s')\n",
        "\n",
        "# Mostrar el DataFrame\n",
        "df"
      ]
    },
    {
      "cell_type": "code",
      "execution_count": null,
      "metadata": {},
      "outputs": [],
      "source": [
        "df['market_cap']/df['price']\n"
      ]
    },
    {
      "cell_type": "code",
      "execution_count": null,
      "metadata": {
        "colab": {
          "base_uri": "https://localhost:8080/",
          "height": 668
        },
        "id": "NvqXcelXDbFz",
        "outputId": "b00f8420-9fae-4dff-f029-78be050948f5"
      },
      "outputs": [],
      "source": [
        "import plotly.graph_objects as go\n",
        "\n",
        "fig = go.Figure()\n",
        "\n",
        "# Graficar el Precio\n",
        "fig.add_trace(go.Scatter(x=df.index, y=df['price'], mode='lines', name='Price (USD)', yaxis='y1'))\n",
        "\n",
        "# Graficar el Volumen de 24h\n",
        "fig.add_trace(go.Scatter(x=df.index, y=df['volume_24h'], mode='lines', name='Volume 24h (USD)', yaxis='y2'))\n",
        "\n",
        "# Configurar los ejes con escala logarítmica\n",
        "fig.update_layout(\n",
        "    title='Evolución de Precio, Volumen de 24h y Capitalización de Mercado (Escala Logarítmica)',\n",
        "    xaxis_title='Fecha',\n",
        "    yaxis=dict(\n",
        "        title='Price (USD)',\n",
        "        type='log',  # Escala logarítmica\n",
        "        titlefont=dict(color='blue'),\n",
        "        tickfont=dict(color='blue'),\n",
        "        side='left'\n",
        "    ),\n",
        "    yaxis2=dict(\n",
        "        title='Volume 24h (USD)',\n",
        "        type='log',  # Escala logarítmica\n",
        "        titlefont=dict(color='orange'),\n",
        "        tickfont=dict(color='orange'),\n",
        "        overlaying='y',\n",
        "        side='right'\n",
        "    ),\n",
        ")\n",
        "\n",
        "# Mostrar la figura\n",
        "fig.show()\n"
      ]
    },
    {
      "cell_type": "markdown",
      "metadata": {
        "id": "JO58sZHIWDIf"
      },
      "source": [
        "## Ejercicio Meteorológica\n",
        "\n",
        "Conseguir los datos de la meteorología de Madrid: https://www.bbc.com/weather/3117735"
      ]
    },
    {
      "cell_type": "code",
      "execution_count": null,
      "metadata": {
        "id": "Ldaf6e4_WDIg"
      },
      "outputs": [],
      "source": []
    },
    {
      "cell_type": "markdown",
      "metadata": {
        "id": "mCYHNvv_WDIg"
      },
      "source": [
        "#### Crear el DataFrame"
      ]
    },
    {
      "cell_type": "code",
      "execution_count": null,
      "metadata": {},
      "outputs": [],
      "source": []
    },
    {
      "cell_type": "markdown",
      "metadata": {},
      "source": [
        "#### Trazar un gráfico"
      ]
    },
    {
      "cell_type": "code",
      "execution_count": null,
      "metadata": {
        "colab": {
          "base_uri": "https://localhost:8080/",
          "height": 283
        },
        "id": "d1rEpllFWDIh",
        "outputId": "9d94cb8f-7171-46ac-f162-4f43352b66d1"
      },
      "outputs": [],
      "source": [
        "\n"
      ]
    }
  ],
  "metadata": {
    "colab": {
      "provenance": []
    },
    "instance_type": "ml.t3.medium",
    "kernelspec": {
      "display_name": "Python 3",
      "language": "python",
      "name": "python3"
    },
    "language_info": {
      "codemirror_mode": {
        "name": "ipython",
        "version": 3
      },
      "file_extension": ".py",
      "mimetype": "text/x-python",
      "name": "python",
      "nbconvert_exporter": "python",
      "pygments_lexer": "ipython3",
      "version": "3.11.9"
    }
  },
  "nbformat": 4,
  "nbformat_minor": 0
}
