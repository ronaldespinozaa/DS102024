{
 "cells": [
  {
   "cell_type": "markdown",
   "metadata": {},
   "source": [
    "# Tips para scrapear mejor\n",
    "\n",
    "- Scrapear multiples cosas al mismo tiempo"
   ]
  },
  {
   "cell_type": "code",
   "execution_count": null,
   "metadata": {},
   "outputs": [],
   "source": [
    "from concurrent.futures import ThreadPoolExecutor\n",
    "import requests\n",
    "\n",
    "def bajar_datos(url: str) -> str:\n",
    "    try:\n",
    "        response = requests.get(url)\n",
    "        response.raise_for_status()\n",
    "        return response.text\n",
    "    except requests.exceptions.RequestException as e:\n",
    "        return f\"Error al bajar {url}: {e}\"\n",
    "\n",
    "# Lista de URLs para descargar\n",
    "urls = [f\"http://numbersapi.com/{number}\" for number in range(1, 9)]\n",
    "print(\"URLs a descargar:\", urls)"
   ]
  },
  {
   "cell_type": "code",
   "execution_count": null,
   "metadata": {},
   "outputs": [],
   "source": [
    "# Descarga secuencial (una por una)\n",
    "print(\"Descarga secuencial:\")\n",
    "for url in urls:\n",
    "    resultado = bajar_datos(url)\n",
    "    print(resultado)"
   ]
  },
  {
   "cell_type": "code",
   "execution_count": null,
   "metadata": {},
   "outputs": [],
   "source": [
    "# Descarga en paralelo utilizando ThreadPoolExecutor\n",
    "print(\"Descarga en paralelo:\")\n",
    "with ThreadPoolExecutor(max_workers=5) as executor:\n",
    "    resultados = executor.map(bajar_datos, urls)\n",
    "    for resultado in resultados:\n",
    "        print(resultado)"
   ]
  },
  {
   "cell_type": "markdown",
   "metadata": {},
   "source": [
    "Una alternativa es multithreading: "
   ]
  },
  {
   "cell_type": "markdown",
   "metadata": {},
   "source": [
    "\n",
    "- Evitar que te bloqueen\n",
    "    - Rotacion de ip y useragent\n",
    "        - rotacion de userAgent: https://pypi.org/project/fake-useragent/\n",
    "        - smartproxy y https://github.com/mattes/rotating-proxy\n",
    "        \n",
    "    - A veces las cuentas premium las banean/bloquean menos, ya que son la fuente de dinero del sitio y son \"intocables\" (Ejemplo: Spotify)\n",
    "\n",
    "- Crear cuentas sin límites\n",
    "    - Registración con teléfono\n",
    "        - Teléfonos descartables (proovl y twilio)\n",
    "        - Reutilizar un mismo teléfono: +54/+549/11/15/011\n",
    "\n",
    "    - Registración con email\n",
    "        - Emails descartables\n",
    "        - Reutilizar un mismo mail: pedroperez@gmail.com/pedro.perez@gmail.com/...\n",
    "\n",
    "- [Resolver captchas](https://addons.mozilla.org/en-US/firefox/addon/recaptcha-solver/)\n",
    "\n",
    "- [Acceder a sitios viejos](http://web.archive.org/)\n",
    "\n"
   ]
  }
 ],
 "metadata": {
  "kernelspec": {
   "display_name": "Python 3",
   "language": "python",
   "name": "python3"
  },
  "language_info": {
   "codemirror_mode": {
    "name": "ipython",
    "version": 3
   },
   "file_extension": ".py",
   "mimetype": "text/x-python",
   "name": "python",
   "nbconvert_exporter": "python",
   "pygments_lexer": "ipython3",
   "version": "3.11.9"
  }
 },
 "nbformat": 4,
 "nbformat_minor": 4
}
