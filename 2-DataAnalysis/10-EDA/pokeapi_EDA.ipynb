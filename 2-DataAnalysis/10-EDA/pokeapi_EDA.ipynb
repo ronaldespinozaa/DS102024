{
 "cells": [
  {
   "cell_type": "markdown",
   "metadata": {},
   "source": [
    "## Análisis Descriptivo"
   ]
  },
  {
   "cell_type": "code",
   "execution_count": 1,
   "metadata": {},
   "outputs": [],
   "source": [
    "# Librerías\n",
    "import requests\n",
    "import pandas as pd\n",
    "import numpy as np\n",
    "import matplotlib.pyplot as plt\n",
    "import seaborn as sns"
   ]
  },
  {
   "cell_type": "code",
   "execution_count": 11,
   "metadata": {},
   "outputs": [],
   "source": [
    "def obtener_datos_pokemons(inicio, fin=None):\n",
    "    if fin is None:\n",
    "        fin = inicio\n",
    "    lista_pok = []\n",
    "\n",
    "    for num in range(inicio, fin + 1):\n",
    "        response = requests.get(url=f\"https://pokeapi.co/api/v2/pokemon/{num}/\")\n",
    "        if response.status_code == 200:\n",
    "            data = response.json()\n",
    "            \n",
    "            dic_pok = {\n",
    "                'id': data['id'],\n",
    "                'name': data['name'],\n",
    "                'height': data['height'],\n",
    "                'weight': data['weight']\n",
    "            }\n",
    "            \n",
    "            for idx, type_info in enumerate(data['types']):\n",
    "                dic_pok[f'type_{idx + 1}'] = type_info['type']['name']\n",
    "            \n",
    "            for stat_info in data['stats']:\n",
    "                dic_pok[stat_info['stat']['name']] = stat_info['base_stat']\n",
    "            \n",
    "            lista_pok.append(dic_pok)\n",
    "\n",
    "    return pd.DataFrame(lista_pok)\n",
    "\n",
    "df_pokemon = obtener_datos_pokemons(1,151)\n"
   ]
  },
  {
   "cell_type": "code",
   "execution_count": 12,
   "metadata": {},
   "outputs": [
    {
     "data": {
      "text/html": [
       "<div>\n",
       "<style scoped>\n",
       "    .dataframe tbody tr th:only-of-type {\n",
       "        vertical-align: middle;\n",
       "    }\n",
       "\n",
       "    .dataframe tbody tr th {\n",
       "        vertical-align: top;\n",
       "    }\n",
       "\n",
       "    .dataframe thead th {\n",
       "        text-align: right;\n",
       "    }\n",
       "</style>\n",
       "<table border=\"1\" class=\"dataframe\">\n",
       "  <thead>\n",
       "    <tr style=\"text-align: right;\">\n",
       "      <th></th>\n",
       "      <th>id</th>\n",
       "      <th>name</th>\n",
       "      <th>height</th>\n",
       "      <th>weight</th>\n",
       "      <th>type_1</th>\n",
       "      <th>type_2</th>\n",
       "      <th>hp</th>\n",
       "      <th>attack</th>\n",
       "      <th>defense</th>\n",
       "      <th>special-attack</th>\n",
       "      <th>special-defense</th>\n",
       "      <th>speed</th>\n",
       "    </tr>\n",
       "  </thead>\n",
       "  <tbody>\n",
       "    <tr>\n",
       "      <th>0</th>\n",
       "      <td>1</td>\n",
       "      <td>bulbasaur</td>\n",
       "      <td>7</td>\n",
       "      <td>69</td>\n",
       "      <td>grass</td>\n",
       "      <td>poison</td>\n",
       "      <td>45</td>\n",
       "      <td>49</td>\n",
       "      <td>49</td>\n",
       "      <td>65</td>\n",
       "      <td>65</td>\n",
       "      <td>45</td>\n",
       "    </tr>\n",
       "    <tr>\n",
       "      <th>1</th>\n",
       "      <td>2</td>\n",
       "      <td>ivysaur</td>\n",
       "      <td>10</td>\n",
       "      <td>130</td>\n",
       "      <td>grass</td>\n",
       "      <td>poison</td>\n",
       "      <td>60</td>\n",
       "      <td>62</td>\n",
       "      <td>63</td>\n",
       "      <td>80</td>\n",
       "      <td>80</td>\n",
       "      <td>60</td>\n",
       "    </tr>\n",
       "    <tr>\n",
       "      <th>2</th>\n",
       "      <td>3</td>\n",
       "      <td>venusaur</td>\n",
       "      <td>20</td>\n",
       "      <td>1000</td>\n",
       "      <td>grass</td>\n",
       "      <td>poison</td>\n",
       "      <td>80</td>\n",
       "      <td>82</td>\n",
       "      <td>83</td>\n",
       "      <td>100</td>\n",
       "      <td>100</td>\n",
       "      <td>80</td>\n",
       "    </tr>\n",
       "    <tr>\n",
       "      <th>3</th>\n",
       "      <td>4</td>\n",
       "      <td>charmander</td>\n",
       "      <td>6</td>\n",
       "      <td>85</td>\n",
       "      <td>fire</td>\n",
       "      <td>NaN</td>\n",
       "      <td>39</td>\n",
       "      <td>52</td>\n",
       "      <td>43</td>\n",
       "      <td>60</td>\n",
       "      <td>50</td>\n",
       "      <td>65</td>\n",
       "    </tr>\n",
       "    <tr>\n",
       "      <th>4</th>\n",
       "      <td>5</td>\n",
       "      <td>charmeleon</td>\n",
       "      <td>11</td>\n",
       "      <td>190</td>\n",
       "      <td>fire</td>\n",
       "      <td>NaN</td>\n",
       "      <td>58</td>\n",
       "      <td>64</td>\n",
       "      <td>58</td>\n",
       "      <td>80</td>\n",
       "      <td>65</td>\n",
       "      <td>80</td>\n",
       "    </tr>\n",
       "  </tbody>\n",
       "</table>\n",
       "</div>"
      ],
      "text/plain": [
       "   id        name  height  weight type_1  type_2  hp  attack  defense  \\\n",
       "0   1   bulbasaur       7      69  grass  poison  45      49       49   \n",
       "1   2     ivysaur      10     130  grass  poison  60      62       63   \n",
       "2   3    venusaur      20    1000  grass  poison  80      82       83   \n",
       "3   4  charmander       6      85   fire     NaN  39      52       43   \n",
       "4   5  charmeleon      11     190   fire     NaN  58      64       58   \n",
       "\n",
       "   special-attack  special-defense  speed  \n",
       "0              65               65     45  \n",
       "1              80               80     60  \n",
       "2             100              100     80  \n",
       "3              60               50     65  \n",
       "4              80               65     80  "
      ]
     },
     "execution_count": 12,
     "metadata": {},
     "output_type": "execute_result"
    }
   ],
   "source": [
    "df_pokemon.head()"
   ]
  },
  {
   "cell_type": "markdown",
   "metadata": {},
   "source": [
    "## Análisis de datos."
   ]
  },
  {
   "cell_type": "markdown",
   "metadata": {},
   "source": [
    "1. Definir el Problema\n",
    "    - Objetivos\n",
    "2. Recolección de Datos\n",
    "    - Fuentes de datos\n",
    "3. Análisis Descriptivo\n",
    "    - Estadísticas Descriptivas\n",
    "    - Visualizaciones de las variables (UniVariante)\n",
    "4. Limpieza de los Datos\n",
    "    - Calidad de los datos --> NaNs, outliers...\n",
    "5. Análisis Exploratorio\n",
    "    - Visualizaciones de variables (BiVariantes, MultiVariantes)\n",
    "    - Correlaciones\n",
    "6. Análisis Inferencial\n",
    "    - Pruebas Estadísticas\n",
    "7. ....\n",
    "8. ....\n",
    "9. Interpretación de los Resultados\n",
    "    - Insight\n",
    "    - Conclusiones\n",
    "10. Toma de decisiones"
   ]
  },
  {
   "cell_type": "markdown",
   "metadata": {},
   "source": [
    "# Análisis Descriptivo"
   ]
  },
  {
   "cell_type": "markdown",
   "metadata": {},
   "source": [
    "- Realizar estadísticas descriptivas básicas para obtener una visión general de los datos.\n",
    "- Identificar tipos de datos y reconocer patrones y anomalías evidentes."
   ]
  },
  {
   "cell_type": "markdown",
   "metadata": {},
   "source": [
    "Pasos para el análisis descriptivo:\n",
    "\n",
    "1. Hacer una copia de df (dataframe)\n",
    "2. Revisar el head y tail de df\n",
    "3. Revisar la info\n",
    "4. Revisar los missing\n",
    "5. Hacer una tabla con los tipos de datos, clasificación de datos, cardinalidad, % missing, de cada variable\n",
    "6. Revisar los outliers\n",
    "7. Tipo de distribución \n",
    "8. Gráficos\n",
    "    - Histogramas\n",
    "    - Boxplot\n",
    "    - Densidad "
   ]
  }
 ],
 "metadata": {
  "kernelspec": {
   "display_name": ".venv",
   "language": "python",
   "name": "python3"
  },
  "language_info": {
   "codemirror_mode": {
    "name": "ipython",
    "version": 3
   },
   "file_extension": ".py",
   "mimetype": "text/x-python",
   "name": "python",
   "nbconvert_exporter": "python",
   "pygments_lexer": "ipython3",
   "version": "3.11.6"
  }
 },
 "nbformat": 4,
 "nbformat_minor": 2
}
