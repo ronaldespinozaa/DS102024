{
  "cells": [
    {
      "cell_type": "markdown",
      "metadata": {
        "id": "AOe1_suhwZNN"
      },
      "source": [
        "### Ejercicio 1: Suma Matrices\n",
        "Complete la implementación de la función suma_matrices para que devuelva como resultado la suma entre las dos matrices (arreglos numpy) pasados como parámetro (recordá verificar que los tamaños sean compatibles). "
      ]
    },
    {
      "cell_type": "code",
      "execution_count": 2,
      "metadata": {
        "id": "CkVRd7MMwZNP"
      },
      "outputs": [],
      "source": [
        "import numpy as np\n",
        "def suma_matrices(A, B):\n",
        "  suma = np.array([])\n",
        "  #complete con su código aquí\n",
        "  return suma"
      ]
    },
    {
      "cell_type": "code",
      "execution_count": null,
      "metadata": {
        "cellView": "form",
        "id": "YYxIsuAswZNR"
      },
      "outputs": [],
      "source": [
        "#@title Ejecuta esta celda para evaluar tu función\n",
        "import numpy as np\n",
        "A = np.array([\n",
        "    [10,20,30],\n",
        "    [40,50,60]\n",
        "])\n",
        "\n",
        "B = np.array([\n",
        "    [10,50,30],\n",
        "    [40,20,60]\n",
        "])\n",
        "\n",
        "C = np.array([\n",
        "        [ 2,  3,  5,  -8],\n",
        "        [4, 13, 17, -19],\n",
        "        [23, 15, 31, 0]\n",
        "])\n",
        "\n",
        "D = np.array([\n",
        "        [ 2,  3,  5,  7],\n",
        "        [11, 13, 17, 19],\n",
        "        [23, 29, 31, 37]\n",
        "    ])\n",
        "\n",
        "def test_suma(A,B,C,D):\n",
        "  if( not (suma_matrices(A, B) == A + B).all()): raise ValueError(\"La suma entre A y B falla\")\n",
        "  try:\n",
        "    suma_matrices(C, A)\n",
        "    print(\"Tu función no contempla tamaños incompatibles a la hora de sumar\" )\n",
        "  except ValueError:\n",
        "    print(\"Tu función suma_matrices está excelente\")\n",
        "\n",
        "test_suma(A,B,C,D)"
      ]
    },
    {
      "cell_type": "markdown",
      "metadata": {
        "id": "deUSjqihk0Fk"
      },
      "source": [
        "### Ejercicio 2\n",
        "Complete la implementación de las funciones es_triangular_superior(), es_triangular_inferior() y es_diagonal() para que devuelvan verdadero o falso según corresponda. "
      ]
    },
    {
      "cell_type": "code",
      "execution_count": null,
      "metadata": {
        "id": "EEYgk4_7p71E"
      },
      "outputs": [],
      "source": [
        "def es_triangular_superior(A):\n",
        "  #complete con su código aquí\n",
        "\n",
        "def es_triangular_inferior(A):\n",
        "  #complete con su código aquí  \n",
        "\n",
        "def es_diagonal(A):\n",
        "  #complete con su código aquí"
      ]
    },
    {
      "cell_type": "code",
      "execution_count": null,
      "metadata": {
        "cellView": "form",
        "id": "h_OQM9pfsCMR"
      },
      "outputs": [],
      "source": [
        "#@title Ejecuta esta celda para evaluar tu función\n",
        "import numpy as np\n",
        "A = np.array([[4, 1, 0],\n",
        "       [0, 5, 0],\n",
        "       [0, 0, 6]])\n",
        "\n",
        "B = np.array([[4, 0, 0],\n",
        "       [1, 5, 0],\n",
        "       [3, 0, 6]])\n",
        "\n",
        "C = np.array([[4, 0, 0],\n",
        "       [0, 5, 0],\n",
        "       [0, 0, 6]])\n",
        "\n",
        "D = np.array([\n",
        "        [ 2,  3,  5,  7],\n",
        "        [11, 13, 17, 19],\n",
        "        [23, 29, 31, 37]\n",
        "    ])\n",
        "\n",
        "def test(A,B,C,D):\n",
        "  if not es_triangular_superior(A): raise ValueError(\"tu función falla al detectar matrices triangulares superiores\")\n",
        "  if not es_triangular_inferior(B): raise ValueError(\"tu función falla al detectar matrices triangulares inferiores\")\n",
        "  if not es_diagonal(C): raise ValueError(\"tu función falla al detectar matrices diagonales\")\n",
        "  if es_triangular_superior(B) or es_triangular_superior(D): raise ValueError(\"tu función indica como matrices triangulares superiores algunas matrices que no lo son\")\n",
        "  if es_triangular_inferior(A) or es_triangular_inferior(D): raise ValueError(\"tu función indica como matrices triangulares inferiores algunas matrices que no lo son\")\n",
        "  if es_diagonal(A) or es_diagonal(D) or es_diagonal(B): raise ValueError(\"tu función indica como matrices diagonales algunas matrices que no lo son\")\n",
        "  print(\"Las tres funciones están excelentes!\")\n",
        "test(A,B,C,D)"
      ]
    },
    {
      "cell_type": "markdown",
      "metadata": {
        "id": "HhxxLQZlsmAI"
      },
      "source": [
        "### Ejercicio 3\n",
        "Complete la implementación de la función producto_matrices para que devuelva como resultado la multiplicación entre las dos matrices (arreglos numpy) pasados como parámetro (recuerda verificar que los tamaños sean compatibles). "
      ]
    },
    {
      "cell_type": "code",
      "execution_count": null,
      "metadata": {
        "id": "C-4XY7pniJbl"
      },
      "outputs": [],
      "source": [
        "def producto_matrices(a, b):\n",
        "  producto = np.array([])\n",
        "  #complete con su código aquí\n",
        "  return producto"
      ]
    },
    {
      "cell_type": "code",
      "execution_count": null,
      "metadata": {
        "cellView": "form",
        "id": "__42ho37iYNr"
      },
      "outputs": [],
      "source": [
        "#@title Ejecuta esta celda para evaluar tu función\n",
        "import numpy as np\n",
        "A = np.array([\n",
        "    [10,20,30],\n",
        "    [40,50,60]\n",
        "])\n",
        "\n",
        "B = np.array([\n",
        "    [10,50,30],\n",
        "    [40,20,60]\n",
        "])\n",
        "\n",
        "C = np.array([\n",
        "        [ 2,  3,  5,  -8],\n",
        "        [4, 13, 17, -19],\n",
        "        [23, 15, 31, 0]\n",
        "])\n",
        "\n",
        "D = np.array([\n",
        "        [ 2,  3,  5,  7],\n",
        "        [11, 13, 17, 19],\n",
        "        [23, 29, 31, 37]\n",
        "    ])\n",
        "def test_producto(A,B,C,D):\n",
        "  if( not (producto_matrices(A, C) == A.dot(C)).all()): raise ValueError(\"La multiplicación entre A y C falla\")\n",
        "  try:\n",
        "    producto_matrices(C, A)\n",
        "    print(\"Tu función no contempla tamaños incompatibles a la hora de multiplicar\" )\n",
        "  except ValueError:\n",
        "    print(\"Tu función producto_matrices está excelente\")\n",
        "\n",
        "test_producto(A,B,C,D)\n",
        "\n",
        "def test_suma(A,B,C,D):\n",
        "  if( not (suma_matrices(A, B) == A + B).all()): raise ValueError(\"La suma entre A y B falla\")\n",
        "  try:\n",
        "    producto_matrices(C, A)\n",
        "    print(\"Tu función no contempla tamaños incompatibles a la hora de sumar\" )\n",
        "  except ValueError:\n",
        "    print(\"Tu función suma_matrices está excelente\")"
      ]
    }
  ],
  "metadata": {
    "colab": {
      "collapsed_sections": [
        "deUSjqihk0Fk",
        "HhxxLQZlsmAI"
      ],
      "name": "Ejercicios_Matrices",
      "provenance": []
    },
    "kernelspec": {
      "display_name": "Python 3",
      "name": "python3"
    },
    "language_info": {
      "name": "python"
    }
  },
  "nbformat": 4,
  "nbformat_minor": 0
}
