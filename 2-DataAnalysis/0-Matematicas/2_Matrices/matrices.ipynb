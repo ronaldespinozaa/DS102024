{
  "cells": [
    {
      "cell_type": "markdown",
      "metadata": {
        "id": "C0nRpW2iS5wN"
      },
      "source": [
        "# Matrices\n",
        "Una matriz es un arreglo rectangular de escalares (es decir, cualquier número: entero, real o complejo) dispuestos en filas y columnas, por ejemplo:\n",
        "\n",
        "$$\\begin{bmatrix} 10 & 20 & 30 \\\\ 40 & 50 & 60 \\end{bmatrix}$$\n",
        "\n",
        "También puede pensar en una matriz como una lista de vectores: la matriz anterior contiene 2 vectores 3D horizontales o 3 vectores 2D verticales.\n",
        "\n",
        "Las matrices son convenientes y muy eficientes para ejecutar operaciones en muchos vectores a la vez. También veremos que son excelentes para representar y realizar transformaciones lineales como rotaciones, traslaciones y cambios de escala."
      ]
    },
    {
      "cell_type": "markdown",
      "metadata": {
        "id": "ZJMBBMu_S5wO"
      },
      "source": [
        "## Matrices en python\n",
        "En python, una matriz se puede representar de varias formas. El más simple es solo una lista de listas de python:"
      ]
    },
    {
      "cell_type": "code",
      "execution_count": null,
      "metadata": {
        "colab": {
          "base_uri": "https://localhost:8080/"
        },
        "id": "eO_0Det4S5wO",
        "outputId": "4357f52c-6604-42a8-937b-4e2ebb77c928"
      },
      "outputs": [],
      "source": [
        "[\n",
        "    [10, 20, 30],\n",
        "    [40, 50, 60]\n",
        "]"
      ]
    },
    {
      "cell_type": "markdown",
      "metadata": {
        "id": "16rfGDy2S5wO"
      },
      "source": [
        "Pero, al igual que con los vectores, es mucho más eficiente representarlas como arreglos NumPy.\n"
      ]
    },
    {
      "cell_type": "code",
      "execution_count": null,
      "metadata": {
        "colab": {
          "base_uri": "https://localhost:8080/"
        },
        "id": "shyRIdgRS5wO",
        "outputId": "c0e92bf6-3763-4d42-bea8-8f971e445c95"
      },
      "outputs": [],
      "source": [
        "import numpy as np\n",
        "A = np.array([\n",
        "    [10,20,30],\n",
        "    [40,50,60]\n",
        "])\n",
        "print(A)"
      ]
    },
    {
      "cell_type": "markdown",
      "metadata": {
        "id": "_P6RP26XS5wO"
      },
      "source": [
        "Por convención, las matrices generalmente tienen nombres en mayúsculas, como $A$.\n",
        "\n",
        "En el resto de este Notebook, asumiremos que estamos usando arreglos NumPy (tipo `ndarray`) para representar matrices."
      ]
    },
    {
      "cell_type": "markdown",
      "metadata": {
        "id": "6AHxXoFjS5wO"
      },
      "source": [
        "## Tamaño\n",
        "El tamaño de una matriz se define por su número de filas y número de columnas. Se define  $filas \\times columnas$. Por ejemplo, la matriz $A$ anterior es un ejemplo de una matriz de $2 \\times 3$: 2 filas, 3 columnas. \n",
        "\n",
        "*Nota: una matriz de $3 \\times 2$ tendría 3 filas y 2 columnas.*\n",
        "\n",
        "Para obtener el tamaño de una matriz en NumPy:"
      ]
    },
    {
      "cell_type": "code",
      "execution_count": null,
      "metadata": {
        "colab": {
          "base_uri": "https://localhost:8080/"
        },
        "id": "T2D_-DkWS5wO",
        "outputId": "65ead927-2599-4884-9b2a-34ffd09f9114"
      },
      "outputs": [],
      "source": [
        "A.shape"
      ]
    },
    {
      "cell_type": "markdown",
      "metadata": {
        "id": "LzrNne5rS5wP"
      },
      "source": [
        "**Nota**: el atributo `size` representa el número de elementos en el `ndarray`, no el tamaño de la matriz:"
      ]
    },
    {
      "cell_type": "code",
      "execution_count": null,
      "metadata": {
        "colab": {
          "base_uri": "https://localhost:8080/"
        },
        "id": "zKo1ds29S5wP",
        "outputId": "c426b928-4931-4bf2-ddc2-ac6ac5015450"
      },
      "outputs": [],
      "source": [
        "A.size"
      ]
    },
    {
      "cell_type": "markdown",
      "metadata": {
        "id": "ZRIgWI0aS5wP"
      },
      "source": [
        "## Indexación de elementos\n",
        "El número ubicado en la fila $i^{th}$ y la columna $j^{th}$ de una matriz $X$ a veces se indica como $X_{i,j}$ o $X_{ij}$, pero no no es una notación estándar, por lo que la gente suele preferir nombrar explícitamente los elementos, así: \"*Sea $X = (x_{i,j})_{1 ≤ i ≤ m, 1 ≤ j ≤ n}$*\". Esto significa que $X$ es igual a:\n",
        "\n",
        "$X = \\begin{bmatrix}\n",
        "   x_{1,1} & x_{1,2} & x_{1,3} & \\cdots & x_{1,n}\\\\\n",
        "   x_{2,1} & x_{2,2} & x_{2,3} & \\cdots & x_{2,n}\\\\\n",
        "   x_{3,1} & x_{3,2} & x_{3,3} & \\cdots & x_{3,n}\\\\\n",
        "   \\vdots & \\vdots & \\vdots & \\ddots & \\vdots \\\\\n",
        "   x_{m,1} & x_{m,2} & x_{m,3} & \\cdots & x_{m,n}\\\\\n",
        "\\end{bmatrix}$\n",
        "\n",
        "Sin embargo, en este notebook usaremos la notación $X_{i,j}$, ya que coincide bastante bien con la notación de NumPy. Tenga en cuenta que en matemáticas, los índices generalmente comienzan en 1, pero en programación generalmente comienzan en 0. Entonces, para acceder a $A_{2,3}$ mediante programación, debemos escribir esto:"
      ]
    },
    {
      "cell_type": "code",
      "execution_count": null,
      "metadata": {
        "colab": {
          "base_uri": "https://localhost:8080/"
        },
        "id": "AnW1xC6HS5wP",
        "outputId": "91e2dadb-3d5b-47f2-dc26-9128dd42276a"
      },
      "outputs": [],
      "source": [
        "A[1,2]  # 2da fila, 3ra columna"
      ]
    },
    {
      "cell_type": "markdown",
      "metadata": {
        "id": "AFeIzsEYS5wP"
      },
      "source": [
        "El vector de  la fila $i^{ésima}$ a veces se anota como $M_i$ o $M_{i,*}$, pero nuevamente no hay una notación estándar, por lo que las personas prefieren definir explícitamente sus propios nombres, por ejemplo: \"*Sea **x**$_{i}$ el $i^{ésimo}$ vector fila  de la matriz $X$*\". Usaremos $M_{i,*}$, por la misma razón que la anterior. Por ejemplo, para acceder a $A_{2,*}$ (es decir, el vector de la segunda fila de $A$):"
      ]
    },
    {
      "cell_type": "code",
      "execution_count": null,
      "metadata": {
        "colab": {
          "base_uri": "https://localhost:8080/"
        },
        "id": "zc4JPJr7S5wP",
        "outputId": "3e62ffd6-45fe-4cf1-c920-b885185d2951"
      },
      "outputs": [],
      "source": [
        "A[1, :]  # Vector de segunda fila (como una matriz 1D)"
      ]
    },
    {
      "cell_type": "markdown",
      "metadata": {
        "id": "pfi6WiFhS5wP"
      },
      "source": [
        "De manera similar, el $j^{ésimo}$ vector de columna a veces se indica como $M^j$ o $M_{*,j}$, pero no existe una notación estándar. Usaremos $M_{*,j}$. Por ejemplo, para acceder a $A_{*,3}$ (es decir, el vector de la tercera columna de $A$):"
      ]
    },
    {
      "cell_type": "code",
      "execution_count": null,
      "metadata": {
        "colab": {
          "base_uri": "https://localhost:8080/"
        },
        "id": "fqIRXpTtS5wP",
        "outputId": "0d421368-6cf5-4e34-87b1-880f58c9a944"
      },
      "outputs": [],
      "source": [
        "A[:, 2]  # 3er vector de columna (como una matriz 1D)"
      ]
    },
    {
      "cell_type": "markdown",
      "metadata": {
        "id": "6mKVI3MsS5wQ"
      },
      "source": [
        "Tenga en cuenta que el resultado es en realidad una matriz NumPy unidimensional: no existe una matriz unidimensional *vertical* u *horizontal*. Si realmente necesita representar un vector de fila como una matriz de una fila (es decir, una matriz 2D NumPy), o un vector de columna como una matriz de una columna, entonces necesita usar un slice en lugar de un índice al acceder a la fila o columna, por ejemplo:"
      ]
    },
    {
      "cell_type": "code",
      "execution_count": null,
      "metadata": {
        "colab": {
          "base_uri": "https://localhost:8080/"
        },
        "id": "_W3TzC8uS5wQ",
        "outputId": "2979d0d4-aa51-4237-c064-6ac1e2d01640"
      },
      "outputs": [],
      "source": [
        "A[1:2, :]  # filas 2 a 3 (excluidas): esto devuelve la fila 2 como una matriz de una fila"
      ]
    },
    {
      "cell_type": "code",
      "execution_count": null,
      "metadata": {
        "colab": {
          "base_uri": "https://localhost:8080/"
        },
        "id": "laiNoQeTS5wQ",
        "outputId": "6cc0817d-d20b-4968-cb19-063f919a9069"
      },
      "outputs": [],
      "source": [
        "A[:, 2:3]  # columnas 3 a 4 (excluidas): esto devuelve la columna 3 como una matriz de una columna"
      ]
    },
    {
      "cell_type": "markdown",
      "metadata": {
        "id": "Iduki9SvS5wQ"
      },
      "source": [
        "## Matrices cuadradas, triangulares, diagonales e identidad\n",
        "Una **matriz cuadrada** es una matriz que tiene el mismo número de filas y columnas, por ejemplo, una matriz de $3 \\times 3$:\n",
        "\n",
        "\\begin{bmatrix}\n",
        "  4 & 9 & 2 \\\\\n",
        "  3 & 5 & 7 \\\\\n",
        "  8 & 1 & 6\n",
        "\\end{bmatrix}"
      ]
    },
    {
      "cell_type": "markdown",
      "metadata": {
        "id": "Df8i0AzuS5wQ"
      },
      "source": [
        "Una **matriz triangular superior** es un tipo especial de matriz cuadrada donde todos los elementos *debajo* de la diagonal principal (de arriba a la izquierda a abajo a la derecha) son cero, por ejemplo:\n",
        "\n",
        "\\begin{bmatrix}\n",
        "  4 & 9 & 2 \\\\\n",
        "  0 & 5 & 7 \\\\\n",
        "  0 & 0 & 6\n",
        "\\end{bmatrix}"
      ]
    },
    {
      "cell_type": "markdown",
      "metadata": {
        "id": "Yzr_yhi1S5wQ"
      },
      "source": [
        "De manera similar, una **matriz triangular inferior** es una matriz cuadrada donde todos los elementos *encima* de la diagonal principal son cero, por ejemplo:\n",
        "\n",
        "\\begin{bmatrix}\n",
        "  4 & 0 & 0 \\\\\n",
        "  3 & 5 & 0 \\\\\n",
        "  8 & 1 & 6\n",
        "\\end{bmatrix}"
      ]
    },
    {
      "cell_type": "markdown",
      "metadata": {
        "id": "MbhfP5fnS5wQ"
      },
      "source": [
        "Una **matriz triangular** es una que es triangular inferior o triangular superior."
      ]
    },
    {
      "cell_type": "markdown",
      "metadata": {
        "id": "p3lGc-EOS5wQ"
      },
      "source": [
        "Una matriz que es tanto triangular superior como inferior se denomina **matriz diagonal**, por ejemplo:\n",
        "\n",
        "\\begin{bmatrix}\n",
        "  4 & 0 & 0 \\\\\n",
        "  0 & 5 & 0 \\\\\n",
        "  0 & 0 & 6\n",
        "\\end{bmatrix}\n",
        "\n",
        "Puede construir una matriz diagonal usando la función `diag` de NumPy:"
      ]
    },
    {
      "cell_type": "code",
      "execution_count": null,
      "metadata": {
        "colab": {
          "base_uri": "https://localhost:8080/"
        },
        "id": "6l7CoEG4S5wQ",
        "outputId": "57d0a937-6c37-4656-ba38-e830f0d157ae"
      },
      "outputs": [],
      "source": [
        "np.diag([4, 5, 6])"
      ]
    },
    {
      "cell_type": "markdown",
      "metadata": {
        "id": "04h6IAq_S5wR"
      },
      "source": [
        "Si pasa una matriz a la función `diag`,  extraerá los valores diagonales:"
      ]
    },
    {
      "cell_type": "code",
      "execution_count": null,
      "metadata": {
        "colab": {
          "base_uri": "https://localhost:8080/"
        },
        "id": "vkTiPHX3S5wR",
        "outputId": "60999193-2577-4a5e-95ca-7edb4d32cf14"
      },
      "outputs": [],
      "source": [
        "D = np.array([\n",
        "        [1, 2, 3],\n",
        "        [4, 5, 6],\n",
        "        [7, 8, 9],\n",
        "    ])\n",
        "np.diag(D)"
      ]
    },
    {
      "cell_type": "markdown",
      "metadata": {
        "id": "H26MV9zoS5wR"
      },
      "source": [
        "Finalmente, la **matriz identidad** de tamaño $n$, indicada como $I_n$, es una matriz diagonal de tamaño $n \\times n$ con $1$ en la diagonal principal, por ejemplo $I_3$:\n",
        "\n",
        "\\begin{bmatrix}\n",
        "  1 & 0 & 0 \\\\\n",
        "  0 & 1 & 0 \\\\\n",
        "  0 & 0 & 1\n",
        "\\end{bmatrix}\n",
        "\n",
        "La función `eye` de Numpy devuelve la matriz de identidad del tamaño deseado:"
      ]
    },
    {
      "cell_type": "code",
      "execution_count": null,
      "metadata": {
        "colab": {
          "base_uri": "https://localhost:8080/"
        },
        "id": "oGBx1uddS5wR",
        "outputId": "3853dfed-e9f2-4de4-d4c9-81e00123aefa"
      },
      "outputs": [],
      "source": [
        "np.eye(3)"
      ]
    },
    {
      "cell_type": "markdown",
      "metadata": {
        "id": "aY6zrsPVS5wR"
      },
      "source": [
        "La matriz de identidad a menudo se indica simplemente como $I$ (en lugar de $I_n$) cuando su tamaño es claro dado el contexto. Se llama la matriz *identidad* porque al multiplicar una matriz con ella, la matriz permanece sin cambios, como veremos a continuación."
      ]
    },
    {
      "cell_type": "markdown",
      "metadata": {
        "id": "nGZbwkcJS5wR"
      },
      "source": [
        "## Sumando matrices\n",
        "Si dos matrices $Q$ y $R$ tienen el mismo tamaño $m \\times n$, se pueden sumar. La suma se realiza *elemento a elemento*: el resultado también es una matriz $m \\times n$ $S$ donde cada elemento es la suma de los elementos en la posición correspondiente: $S_{i,j} = Q_{i,j} + R_{i,j}$\n",
        "\n",
        "$$S =\n",
        "\\begin{bmatrix}\n",
        "  Q_{11} + R_{11} & Q_{12} + R_{12} & Q_{13} + R_{13} & \\cdots & Q_{1n} + R_{1n} \\\\\n",
        "  Q_{21} + R_{21} & Q_{22} + R_{22} & Q_{23} + R_{23} & \\cdots & Q_{2n} + R_{2n}  \\\\\n",
        "  Q_{31} + R_{31} & Q_{32} + R_{32} & Q_{33} + R_{33} & \\cdots & Q_{3n} + R_{3n}  \\\\\n",
        "  \\vdots & \\vdots & \\vdots & \\ddots & \\vdots \\\\\n",
        "  Q_{m1} + R_{m1} & Q_{m2} + R_{m2} & Q_{m3} + R_{m3} & \\cdots & Q_{mn} + R_{mn}  \\\\\n",
        "\\end{bmatrix}$$\n",
        "\n",
        "Por ejemplo, creemos una matriz de $2 \\times 3$ $B$ y calculemos $A + B$:"
      ]
    },
    {
      "cell_type": "code",
      "execution_count": null,
      "metadata": {
        "colab": {
          "base_uri": "https://localhost:8080/"
        },
        "id": "AWcbZbOCS5wR",
        "outputId": "ee340a27-af13-44ae-c8d0-046829b523a7"
      },
      "outputs": [],
      "source": [
        "B = np.array([[1,2,3], [4, 5, 6]])\n",
        "B"
      ]
    },
    {
      "cell_type": "code",
      "execution_count": null,
      "metadata": {
        "colab": {
          "base_uri": "https://localhost:8080/"
        },
        "id": "f0mdeghfS5wS",
        "outputId": "72a2b3b3-a56b-450c-9f2e-97cdabb4d54d"
      },
      "outputs": [],
      "source": [
        "A"
      ]
    },
    {
      "cell_type": "code",
      "execution_count": null,
      "metadata": {
        "colab": {
          "base_uri": "https://localhost:8080/"
        },
        "id": "kTLl8h0fS5wS",
        "outputId": "b21aa86a-88d1-404a-f50a-deb073a522bb"
      },
      "outputs": [],
      "source": [
        "A + B"
      ]
    },
    {
      "cell_type": "markdown",
      "metadata": {
        "id": "1-oY600WS5wS"
      },
      "source": [
        "**La suma es *conmutativa***, lo que significa que $A + B = B + A$:"
      ]
    },
    {
      "cell_type": "code",
      "execution_count": null,
      "metadata": {
        "colab": {
          "base_uri": "https://localhost:8080/"
        },
        "id": "olK9MZg2S5wS",
        "outputId": "c005f145-02c0-4767-d295-9e409aaf06c5"
      },
      "outputs": [],
      "source": [
        "B + A"
      ]
    },
    {
      "cell_type": "markdown",
      "metadata": {
        "id": "MsLuhvbsS5wS"
      },
      "source": [
        "**También es *asociativo***, lo que significa que $A + (B + C) = (A + B) + C$:"
      ]
    },
    {
      "cell_type": "code",
      "execution_count": null,
      "metadata": {
        "colab": {
          "base_uri": "https://localhost:8080/"
        },
        "id": "wuu9oHgnS5wS",
        "outputId": "a6b11ce7-1e26-43fd-b602-08cc2f3ad1ec"
      },
      "outputs": [],
      "source": [
        "C = np.array([[100,200,300], [400, 500, 600]])\n",
        "\n",
        "A + (B + C)"
      ]
    },
    {
      "cell_type": "code",
      "execution_count": null,
      "metadata": {
        "colab": {
          "base_uri": "https://localhost:8080/"
        },
        "id": "hoOu5--bS5wS",
        "outputId": "d88be44f-6cbf-49a2-ee14-537a5ee3167a"
      },
      "outputs": [],
      "source": [
        "(A + B) + C"
      ]
    },
    {
      "cell_type": "markdown",
      "metadata": {
        "id": "ioVRizawS5wS"
      },
      "source": [
        "## Multiplicación por un escalar\n",
        "Una matriz $M$ se puede multiplicar por un escalar $\\lambda$. El resultado se anota $\\lambda M$, y es una matriz del mismo tamaño que $M$ con todos los elementos multiplicados por $\\lambda$:\n",
        "\n",
        "$$\\lambda M =\n",
        "\\begin{bmatrix}\n",
        "  \\lambda \\times M_{11} & \\lambda \\times M_{12} & \\lambda \\times M_{13} & \\cdots & \\lambda \\times M_{1n} \\\\\n",
        "  \\lambda \\times M_{21} & \\lambda \\times M_{22} & \\lambda \\times M_{23} & \\cdots & \\lambda \\times M_{2n} \\\\\n",
        "  \\lambda \\times M_{31} & \\lambda \\times M_{32} & \\lambda \\times M_{33} & \\cdots & \\lambda \\times M_{3n} \\\\\n",
        "  \\vdots & \\vdots & \\vdots & \\ddots & \\vdots \\\\\n",
        "  \\lambda \\times M_{m1} & \\lambda \\times M_{m2} & \\lambda \\times M_{m3} & \\cdots & \\lambda \\times M_{mn} \\\\\n",
        "\\end{bmatrix}$$\n",
        "\n",
        "Una forma más concisa de escribir esto es:\n",
        "\n",
        "$(\\lambda M)_{i,j} = \\lambda (M)_{i,j}$\n",
        "\n",
        "En NumPy, simplemente use el operador `*` para multiplicar una matriz por un escalar. Por ejemplo:"
      ]
    },
    {
      "cell_type": "code",
      "execution_count": null,
      "metadata": {
        "colab": {
          "base_uri": "https://localhost:8080/"
        },
        "id": "j59e1YDzS5wT",
        "outputId": "df22f39d-6ba9-484e-f0b4-0a435f2e468f"
      },
      "outputs": [],
      "source": [
        "2 * A"
      ]
    },
    {
      "cell_type": "markdown",
      "metadata": {
        "id": "ZMTz8JEyS5wT"
      },
      "source": [
        "La multiplicación escalar también se define en el lado derecho y da el mismo resultado: $M \\lambda = \\lambda M$. Por ejemplo:"
      ]
    },
    {
      "cell_type": "code",
      "execution_count": null,
      "metadata": {
        "colab": {
          "base_uri": "https://localhost:8080/"
        },
        "id": "xXELR1NUS5wT",
        "outputId": "6bc49c67-8830-4b95-c027-f3f26ef45b59"
      },
      "outputs": [],
      "source": [
        "A * 2"
      ]
    },
    {
      "cell_type": "markdown",
      "metadata": {
        "id": "Ab_3huF2S5wT"
      },
      "source": [
        "Esto hace que la multiplicación escalar sea **conmutativa**.\n",
        "\n",
        "También es **asociativa**, lo que significa que $\\alpha (\\beta M) = (\\alpha \\times \\beta) M$, donde $\\alpha$ y $\\beta$ son escalares. Por ejemplo:"
      ]
    },
    {
      "cell_type": "code",
      "execution_count": null,
      "metadata": {
        "colab": {
          "base_uri": "https://localhost:8080/"
        },
        "id": "txgs2XpoS5wT",
        "outputId": "6efe1dbc-faf6-4758-b5e8-379f2f502d60"
      },
      "outputs": [],
      "source": [
        "2 * (3 * A)"
      ]
    },
    {
      "cell_type": "code",
      "execution_count": null,
      "metadata": {
        "colab": {
          "base_uri": "https://localhost:8080/"
        },
        "id": "viN9WWasS5wT",
        "outputId": "a8b22532-9319-4336-fc53-28250f662605"
      },
      "outputs": [],
      "source": [
        "(2 * 3) * A"
      ]
    },
    {
      "cell_type": "markdown",
      "metadata": {
        "id": "YyEAEeVQS5wT"
      },
      "source": [
        "Finalmente, es **distributiva sobre la suma** de matrices, lo que significa que $\\lambda (Q + R) = \\lambda Q + \\lambda R$:"
      ]
    },
    {
      "cell_type": "code",
      "execution_count": null,
      "metadata": {
        "colab": {
          "base_uri": "https://localhost:8080/"
        },
        "id": "t1UvXKH2S5wT",
        "outputId": "a56c609b-44fd-4102-a9b0-4fc214d5b4c4"
      },
      "outputs": [],
      "source": [
        "2 * (A + B)"
      ]
    },
    {
      "cell_type": "code",
      "execution_count": null,
      "metadata": {
        "colab": {
          "base_uri": "https://localhost:8080/"
        },
        "id": "2HVd6Jx_S5wT",
        "outputId": "3a39e275-f475-4689-b688-87a2aa5be2c2"
      },
      "outputs": [],
      "source": [
        "2 * A + 2 * B"
      ]
    },
    {
      "cell_type": "markdown",
      "metadata": {
        "id": "oOc6CwjES5wU"
      },
      "source": [
        "## Multiplicación de matrices\n",
        "Hasta ahora, las operaciones matriciales han sido bastante intuitivas. Pero multiplicar matrices es un poco más complicado.\n",
        "\n",
        "Una matriz $Q$ de tamaño $m \\times n$ se puede multiplicar por una matriz $R$ de tamaño $n \\times q$. Se anota simplemente $QR$ sin signo de multiplicación ni punto. El resultado $P$ es una matriz $m \\times q$ donde cada elemento se calcula como una suma de productos:\n",
        "\n",
        "$$P_{i,j} = \\sum_{k=1}^n{Q_{i,k} \\times R_{k,j}}$$\n",
        "\n",
        "El elemento en la posición $i,j$ en la matriz resultante es la suma de los productos de los elementos en la fila $i$ de la matriz $Q$ por los elementos en la columna $j$ de la matriz $R$.\n",
        "\n",
        "![Alt Text](https://numbas.mathcentre.ac.uk/media/question-resources/Matrix_Multiplication_02.gif)\n",
        "\n",
        "\n",
        "Puedes notar que cada elemento $P_{i,j}$ es el producto escalar del vector fila $Q_{i,*}$ y el vector columna $R_{*,j}$:\n",
        "\n",
        "$$P_{i,j} = Q_{i,*} \\cdot R_{*,j}$$\n",
        "\n",
        "Entonces podemos reescribir $P$ de manera más concisa como:\n",
        "\n",
        "$$P =\n",
        "\\begin{bmatrix}\n",
        "Q_{1,*} \\cdot R_{*,1} & Q_{1,*} \\cdot R_{*,2} & \\cdots & Q_{1,*} \\cdot R_{*,q} \\\\\n",
        "Q_{2,*} \\cdot R_{*,1} & Q_{2,*} \\cdot R_{*,2} & \\cdots & Q_{2,*} \\cdot R_{*,q} \\\\\n",
        "\\vdots & \\vdots & \\ddots & \\vdots \\\\\n",
        "Q_{m,*} \\cdot R_{*,1} & Q_{m,*} \\cdot R_{*,2} & \\cdots & Q_{m,*} \\cdot R_{*,q}\n",
        "\\end{bmatrix}$$\n"
      ]
    },
    {
      "cell_type": "markdown",
      "metadata": {
        "id": "yqMozlN5S5wU"
      },
      "source": [
        "Multipliquemos dos matrices en NumPy, usando el método `dot` de `ndarray`:\n",
        "$$E = AD = \\begin{bmatrix}\n",
        "  10 & 20 & 30 \\\\\n",
        "  40 & 50 & 60\n",
        "\\end{bmatrix} \n",
        "\\begin{bmatrix}\n",
        "  2 & 3 & 5 & 7 \\\\\n",
        "  11 & 13 & 17 & 19 \\\\\n",
        "  23 & 29 & 31 & 37\n",
        "\\end{bmatrix} = \n",
        "\\begin{bmatrix}\n",
        "  930 & 1160 & 1320 & 1560 \\\\\n",
        "  2010 & 2510 & 2910 & 3450\n",
        "\\end{bmatrix}$$"
      ]
    },
    {
      "cell_type": "code",
      "execution_count": null,
      "metadata": {
        "colab": {
          "base_uri": "https://localhost:8080/"
        },
        "id": "oJiZ8XT9S5wU",
        "outputId": "ee18675a-233f-4c0c-c5db-c0963a374b65"
      },
      "outputs": [],
      "source": [
        "D = np.array([\n",
        "        [ 2,  3,  5,  7],\n",
        "        [11, 13, 17, 19],\n",
        "        [23, 29, 31, 37]\n",
        "    ])\n",
        "E = A.dot(D)\n",
        "E"
      ]
    },
    {
      "cell_type": "markdown",
      "metadata": {
        "id": "2dXHtKIvS5wU"
      },
      "source": [
        "Verifiquemos este resultado mirando un elemento, solo para estar seguros: mirando $E_{2,3}$ por ejemplo, necesitamos multiplicar los elementos en la $2^{da}$ fila de $A$ por los elementos en la $3^{ra}$ columna de D y suma estos productos:"
      ]
    },
    {
      "cell_type": "code",
      "execution_count": null,
      "metadata": {
        "colab": {
          "base_uri": "https://localhost:8080/"
        },
        "id": "EIUPdwB5S5wU",
        "outputId": "be1a8300-3bf3-4bf9-b624-0cad7d4a01ae"
      },
      "outputs": [],
      "source": [
        "40*5 + 50*17 + 60*31"
      ]
    },
    {
      "cell_type": "code",
      "execution_count": null,
      "metadata": {
        "colab": {
          "base_uri": "https://localhost:8080/"
        },
        "id": "oNn-UOKMS5wU",
        "outputId": "0c37592d-4e8f-4fca-9227-fa742ffa1c5d"
      },
      "outputs": [],
      "source": [
        "E[1,2]  # fila 2, columna 3"
      ]
    },
    {
      "cell_type": "markdown",
      "metadata": {
        "id": "cHnmDOhSS5wU"
      },
      "source": [
        "¡Se ve bien! Puedes comprobar los otros elementos hasta que te acostumbres al algoritmo.\n",
        "\n",
        "Multiplicamos una matriz de $2 \\times 3$ por una matriz de $3 \\times 4$, por lo que el resultado es una matriz de $2 \\times 4$. El número de columnas de la primera matriz tiene que ser igual al número de filas de la segunda matriz. Si intentamos multiplicar $D$ por $A$, obtenemos un error porque D tiene 4 columnas mientras que A tiene 2 filas:"
      ]
    },
    {
      "cell_type": "code",
      "execution_count": null,
      "metadata": {
        "colab": {
          "base_uri": "https://localhost:8080/"
        },
        "id": "qQlTZPJDS5wU",
        "outputId": "f95565ca-ee44-4ef7-ffce-4faabb1144e6"
      },
      "outputs": [],
      "source": [
        "try:\n",
        "    D.dot(A)\n",
        "except ValueError as e:\n",
        "    print(\"ValueError:\", e)"
      ]
    },
    {
      "cell_type": "markdown",
      "metadata": {
        "id": "AjS_U69sS5wV"
      },
      "source": [
        "Esto ilustra el hecho de que **la multiplicación de matrices *NO* es conmutativa**: en general $QR ≠ RQ$\n",
        "\n",
        "De hecho, $QR$ y $RQ$ solo están *ambos* definidos si $Q$ tiene el tamaño $m \\times n$ y $R$ tiene el tamaño $n \\times m$. Veamos un ejemplo en el que ambos *están* definidos y mostramos que (en general) *NO* son iguales:"
      ]
    },
    {
      "cell_type": "code",
      "execution_count": null,
      "metadata": {
        "colab": {
          "base_uri": "https://localhost:8080/"
        },
        "id": "c_RjZGdDS5wV",
        "outputId": "3d742ce3-b773-44d0-813a-b2ec4241a51a"
      },
      "outputs": [],
      "source": [
        "F = np.array([\n",
        "        [5,2],\n",
        "        [4,1],\n",
        "        [9,3]\n",
        "    ])\n",
        "A.dot(F)"
      ]
    },
    {
      "cell_type": "code",
      "execution_count": null,
      "metadata": {
        "colab": {
          "base_uri": "https://localhost:8080/"
        },
        "id": "PqkNpgWkS5wV",
        "outputId": "4d8b45d8-b7fe-402f-f9e1-daeabd1c619f"
      },
      "outputs": [],
      "source": [
        "F.dot(A)"
      ]
    },
    {
      "cell_type": "markdown",
      "metadata": {
        "id": "OBaD119iS5wV"
      },
      "source": [
        "Por otro lado, **la multiplicación de matrices *es* asociativa**, lo que significa que $Q(RS) = (QR)S$. Vamos a crear una matriz de $4 \\times 5$ $G$ para ilustrar esto:"
      ]
    },
    {
      "cell_type": "code",
      "execution_count": null,
      "metadata": {
        "colab": {
          "base_uri": "https://localhost:8080/"
        },
        "id": "wWAghSoNS5wV",
        "outputId": "204fad14-dc16-466b-a93a-9a001a2c11bc"
      },
      "outputs": [],
      "source": [
        "G = np.array([\n",
        "        [8,  7,  4,  2,  5],\n",
        "        [2,  5,  1,  0,  5],\n",
        "        [9, 11, 17, 21,  0],\n",
        "        [0,  1,  0,  1,  2]])\n",
        "A.dot(D).dot(G)     # (AB)G"
      ]
    },
    {
      "cell_type": "code",
      "execution_count": null,
      "metadata": {
        "colab": {
          "base_uri": "https://localhost:8080/"
        },
        "id": "9_gYtRCdS5wV",
        "outputId": "25a7939c-2e34-4b7f-c10a-481c8d8e3328"
      },
      "outputs": [],
      "source": [
        "A.dot(D.dot(G))     # A(BG)"
      ]
    },
    {
      "cell_type": "markdown",
      "metadata": {
        "id": "0-UEr5PPS5wV"
      },
      "source": [
        "También es ***distributivo* sobre la suma** de matrices, lo que significa que $(Q + R)S = QS + RS$. Por ejemplo:"
      ]
    },
    {
      "cell_type": "code",
      "execution_count": null,
      "metadata": {
        "colab": {
          "base_uri": "https://localhost:8080/"
        },
        "id": "wfmVYPK_S5wW",
        "outputId": "2403975c-09a1-444c-9336-de56bead5437"
      },
      "outputs": [],
      "source": [
        "(A + B).dot(D)"
      ]
    },
    {
      "cell_type": "code",
      "execution_count": null,
      "metadata": {
        "colab": {
          "base_uri": "https://localhost:8080/"
        },
        "id": "Q2Cf6_I9S5wW",
        "outputId": "d9f39071-dca9-4901-8668-ab06fefb8944"
      },
      "outputs": [],
      "source": [
        "A.dot(D) + B.dot(D)"
      ]
    },
    {
      "cell_type": "markdown",
      "metadata": {
        "id": "9f8gtQT9S5wW"
      },
      "source": [
        "El producto de una matriz $M$ por la matriz identidad (de igual tamaño) da como resultado la misma matriz $M$. Más formalmente, si $M$ es una matriz $m \\times n$, entonces:\n",
        "\n",
        "$M I_n = I_m M = M$\n",
        "\n",
        "Esto generalmente se escribe de manera más concisa (ya que el tamaño de las matrices de identidad no es ambiguo dado el contexto):\n",
        "\n",
        "$MI = IM = M$\n",
        "\n",
        "Por ejemplo:"
      ]
    },
    {
      "cell_type": "code",
      "execution_count": null,
      "metadata": {
        "colab": {
          "base_uri": "https://localhost:8080/"
        },
        "id": "zNgoNm_HS5wW",
        "outputId": "f023418d-5a44-4143-c2bd-3c0809700828"
      },
      "outputs": [],
      "source": [
        "A.dot(np.eye(3))"
      ]
    },
    {
      "cell_type": "code",
      "execution_count": null,
      "metadata": {
        "colab": {
          "base_uri": "https://localhost:8080/"
        },
        "id": "DZLitj2XS5wW",
        "outputId": "c82cb44e-b942-4f49-b164-1da82991ac54"
      },
      "outputs": [],
      "source": [
        "np.eye(2).dot(A)"
      ]
    },
    {
      "cell_type": "markdown",
      "metadata": {
        "id": "Nis4ebQyS5wW"
      },
      "source": [
        "**Precaución**: el operador `*` de NumPy realiza multiplicaciones por elementos, *NO* una multiplicación de matrices:"
      ]
    },
    {
      "cell_type": "code",
      "execution_count": null,
      "metadata": {
        "colab": {
          "base_uri": "https://localhost:8080/"
        },
        "id": "oV67DlkaS5wW",
        "outputId": "acf9c011-cb1a-4270-aa4b-451687b5bb0f",
        "scrolled": true
      },
      "outputs": [],
      "source": [
        "A * B   # NO es una multiplicación de matrices"
      ]
    },
    {
      "cell_type": "markdown",
      "metadata": {
        "id": "Y3ut2z10S5wW"
      },
      "source": [
        "**El operador infijo @**\n",
        "\n",
        "Python 3.5 [introdujo](https://docs.python.org/3/whatsnew/3.5.html#pep-465-a-dedicated-infix-operator-for-matrix-multiplication) el operador infijo `@` para la multiplicación de matrices, y NumPy 1.10 agregó soporte para ello. Si está utilizando Python 3.5+ y NumPy 1.10+, simplemente puede escribir `A @ D` en lugar de `A.dot(D)`, lo que hace que su código sea mucho más legible (pero menos portátil). Este operador también funciona para productos de puntos vectoriales."
      ]
    },
    {
      "cell_type": "code",
      "execution_count": null,
      "metadata": {
        "colab": {
          "base_uri": "https://localhost:8080/"
        },
        "id": "IfW09yf5S5wX",
        "outputId": "64a8be97-2c35-41e0-e845-fe0f96bc52af"
      },
      "outputs": [],
      "source": [
        "import sys\n",
        "print(\"Python version: {}.{}.{}\".format(*sys.version_info))\n",
        "print(\"Numpy version:\", np.version.version)\n",
        "\n",
        "A @ D"
      ]
    },
    {
      "cell_type": "markdown",
      "metadata": {
        "id": "ZICoRZdWS5wX"
      },
      "source": [
        "Nota: `Q @ R` es en realidad equivalente a `Q.__matmul__(R)`, que NumPy implementa como `np.matmul(Q, R)`, no como `Q.dot(R)`. La principal diferencia es que `matmul` no soporta la multiplicación escalar, mientras que `dot` sí, así que puedes escribir `Q.dot(3)`, que es equivalente a `Q * 3`, pero no puedes escribir `Q @ 3`."
      ]
    },
    {
      "cell_type": "markdown",
      "metadata": {
        "id": "S0Xgzfl4S5wX"
      },
      "source": [
        "## Matriz transpuesta\n",
        "La transpuesta de una matriz $M$ es una matriz denominada $M^T$ tal que la fila $i^{th}$ en $M^T$ es igual a la columna $i^{th}$ en $M$ :\n",
        "\n",
        "$$ A^T =\n",
        "\\begin{bmatrix}\n",
        "  10 & 20 & 30 \\\\\n",
        "  40 & 50 & 60\n",
        "\\end{bmatrix}^T =\n",
        "\\begin{bmatrix}\n",
        "  10 & 40 \\\\\n",
        "  20 & 50 \\\\\n",
        "  30 & 60\n",
        "\\end{bmatrix}$$\n",
        "\n",
        "En otras palabras, ($A^T)_{i,j}$ = $A_{j,i}$\n",
        "\n",
        "Obviamente, si $M$ es una matriz $m \\times n$, entonces $M^T$ es una matriz $n \\times m$.\n",
        "\n",
        "Nota: hay algunas otras notaciones, como $M^t$, $M′$ o ${^t}M$.\n",
        "\n",
        "En NumPy, la transposición de una matriz se puede obtener simplemente usando el atributo `T`:"
      ]
    },
    {
      "cell_type": "code",
      "execution_count": null,
      "metadata": {
        "colab": {
          "base_uri": "https://localhost:8080/"
        },
        "id": "wFwP-87_S5wX",
        "outputId": "c0c86c01-14c0-4b4f-8091-1a1e7e8c47d2"
      },
      "outputs": [],
      "source": [
        "A"
      ]
    },
    {
      "cell_type": "code",
      "execution_count": null,
      "metadata": {
        "colab": {
          "base_uri": "https://localhost:8080/"
        },
        "id": "GWqBlv4aS5wX",
        "outputId": "f942f835-50b0-4cd8-c76d-cb19f8628497"
      },
      "outputs": [],
      "source": [
        "A.T"
      ]
    },
    {
      "cell_type": "markdown",
      "metadata": {
        "id": "_aPIINhyS5wX"
      },
      "source": [
        "Como era de esperar, transponer una matriz dos veces devuelve la matriz original:"
      ]
    },
    {
      "cell_type": "code",
      "execution_count": null,
      "metadata": {
        "colab": {
          "base_uri": "https://localhost:8080/"
        },
        "id": "G8UiwG_wS5wX",
        "outputId": "749c2d55-c6fb-41d0-a15f-46fff2ffd6d9"
      },
      "outputs": [],
      "source": [
        "A.T.T"
      ]
    },
    {
      "cell_type": "markdown",
      "metadata": {
        "id": "Xe7EFjl3S5wX"
      },
      "source": [
        "La transposición es distributiva sobre la suma de matrices, lo que significa que $(Q + R)^T = Q^T + R^T$. Por ejemplo:"
      ]
    },
    {
      "cell_type": "code",
      "execution_count": null,
      "metadata": {
        "colab": {
          "base_uri": "https://localhost:8080/"
        },
        "id": "jFi7qgVJS5wY",
        "outputId": "3ef9408a-8a21-4e60-ecb8-d1d8c4305312"
      },
      "outputs": [],
      "source": [
        "(A + B).T"
      ]
    },
    {
      "cell_type": "code",
      "execution_count": null,
      "metadata": {
        "colab": {
          "base_uri": "https://localhost:8080/"
        },
        "id": "FepV1rnVS5wY",
        "outputId": "0abb98b0-32e0-45df-cd6d-d096a6919ddf"
      },
      "outputs": [],
      "source": [
        "A.T + B.T"
      ]
    },
    {
      "cell_type": "markdown",
      "metadata": {
        "id": "rzz8rEchS5wY"
      },
      "source": [
        "Además, $(Q \\cdot R)^T = R^T \\cdot Q^T$. Tenga en cuenta que el orden es inverso. Por ejemplo:"
      ]
    },
    {
      "cell_type": "code",
      "execution_count": null,
      "metadata": {
        "colab": {
          "base_uri": "https://localhost:8080/"
        },
        "id": "ICEV5wpRS5wY",
        "outputId": "eedbf4ea-12b2-4107-913e-580dda18c760"
      },
      "outputs": [],
      "source": [
        "(A.dot(D)).T"
      ]
    },
    {
      "cell_type": "code",
      "execution_count": null,
      "metadata": {
        "colab": {
          "base_uri": "https://localhost:8080/"
        },
        "id": "GoUzCPZzS5wY",
        "outputId": "cd321c5a-9640-4e12-fdfe-34a8bfaa4ab6"
      },
      "outputs": [],
      "source": [
        "D.T.dot(A.T)"
      ]
    },
    {
      "cell_type": "markdown",
      "metadata": {
        "id": "gGDt8-KMS5wY"
      },
      "source": [
        "Una **matriz simétrica** $M$ se define como una matriz que es igual a su traspuesta: $M^T = M$. Esta definición implica que debe ser una matriz cuadrada cuyos elementos sean simétricos con respecto a la diagonal principal, por ejemplo:\n",
        "\n",
        "\\begin{bmatrix}\n",
        "  17 & 22 & 27 & 49 \\\\\n",
        "  22 & 29 & 36 & 0 \\\\\n",
        "  27 & 36 & 45 & 2 \\\\\n",
        "  49 & 0 & 2 & 99\n",
        "\\end{bmatrix}\n",
        "\n",
        "El producto de una matriz por su transpuesta siempre es una matriz simétrica, por ejemplo:"
      ]
    },
    {
      "cell_type": "code",
      "execution_count": null,
      "metadata": {
        "colab": {
          "base_uri": "https://localhost:8080/"
        },
        "id": "wMAilak7S5wZ",
        "outputId": "e9ebab40-b12c-43b7-ce48-d0be5443a4fc"
      },
      "outputs": [],
      "source": [
        "D.dot(D.T)"
      ]
    },
    {
      "cell_type": "markdown",
      "metadata": {
        "id": "BTlivUn3S5wZ"
      },
      "source": [
        "## Conversión de matrices 1D en matrices 2D en NumPy\n",
        "Como mencionamos anteriormente, en NumPy (a diferencia de Matlab, por ejemplo), 1D realmente significa 1D: no existe tal cosa como una matriz 1D vertical o una matriz 1D horizontal. Por lo tanto, no debería sorprenderse al ver que la transposición de una matriz 1D no hace nada:"
      ]
    },
    {
      "cell_type": "code",
      "execution_count": null,
      "metadata": {
        "id": "UBpSp3N0S5wZ"
      },
      "outputs": [],
      "source": [
        "u = np.array([2, 5])"
      ]
    },
    {
      "cell_type": "code",
      "execution_count": null,
      "metadata": {
        "colab": {
          "base_uri": "https://localhost:8080/"
        },
        "id": "5iBPewfTS5wZ",
        "outputId": "598db25e-414b-41bd-fe43-a245457e19d3"
      },
      "outputs": [],
      "source": [
        "u.T"
      ]
    },
    {
      "cell_type": "markdown",
      "metadata": {
        "id": "wEAZE80vS5wZ"
      },
      "source": [
        "Queremos convertir $\\textbf{u}$ en un vector fila antes de transponerlo. Hay algunas maneras de hacer esto:"
      ]
    },
    {
      "cell_type": "code",
      "execution_count": null,
      "metadata": {
        "colab": {
          "base_uri": "https://localhost:8080/"
        },
        "id": "VOk6_g8eS5wZ",
        "outputId": "bf433764-e892-4afd-f03e-224d9cebc933"
      },
      "outputs": [],
      "source": [
        "u_row = np.array([u])\n",
        "u_row"
      ]
    },
    {
      "cell_type": "markdown",
      "metadata": {
        "id": "IEs7rQfES5wa"
      },
      "source": [
        "Observe los corchetes adicionales: esta es una matriz 2D con solo una fila (es decir, una matriz de 1x2). En otras palabras, realmente es un **vector de fila**."
      ]
    },
    {
      "cell_type": "code",
      "execution_count": null,
      "metadata": {
        "colab": {
          "base_uri": "https://localhost:8080/"
        },
        "id": "7VrGXqjCS5wa",
        "outputId": "74641919-7261-4583-a272-3a8a7ed37dbe"
      },
      "outputs": [],
      "source": [
        "u[np.newaxis, :]"
      ]
    },
    {
      "cell_type": "markdown",
      "metadata": {
        "id": "PnjZlH-bS5wa"
      },
      "source": [
        "Observe los corchetes adicionales: esta es una matriz 2D con solo una fila (es decir, una matriz de 1x2). En otras palabras, realmente es un **vector de fila**."
      ]
    },
    {
      "cell_type": "code",
      "execution_count": null,
      "metadata": {
        "colab": {
          "base_uri": "https://localhost:8080/"
        },
        "id": "2QZmZxFgS5wa",
        "outputId": "e3d3e47e-4b5b-4e0a-a1c7-78d89a9b78be"
      },
      "outputs": [],
      "source": [
        "u[np.newaxis]"
      ]
    },
    {
      "cell_type": "markdown",
      "metadata": {
        "id": "EMY1k32wS5wa"
      },
      "source": [
        "Esto es equivalente, pero un poco menos explícito."
      ]
    },
    {
      "cell_type": "markdown",
      "metadata": {
        "id": "x7te-CBuS5wa"
      },
      "source": [
        "Ok, ahora transpongamos nuestro vector fila:"
      ]
    },
    {
      "cell_type": "code",
      "execution_count": null,
      "metadata": {
        "colab": {
          "base_uri": "https://localhost:8080/"
        },
        "id": "aBGjxyGrS5wa",
        "outputId": "44c0be97-7b52-41a2-c072-a34401c52cce"
      },
      "outputs": [],
      "source": [
        "u_row.T"
      ]
    },
    {
      "cell_type": "markdown",
      "metadata": {
        "id": "lyv0HVaXS5wb"
      },
      "source": [
        "¡Genial! Ahora tenemos un buen **vector de columna**.\n",
        "\n",
        "En lugar de crear un vector de fila y luego transponerlo, también es posible convertir una matriz 1D directamente en un vector de columna:"
      ]
    },
    {
      "cell_type": "code",
      "execution_count": null,
      "metadata": {
        "colab": {
          "base_uri": "https://localhost:8080/"
        },
        "id": "9YI2xE0yS5wb",
        "outputId": "311355ba-646f-4fdd-e88e-3a62c030c501"
      },
      "outputs": [],
      "source": [
        "u[:, np.newaxis]"
      ]
    },
    {
      "cell_type": "markdown",
      "metadata": {
        "id": "aVUYENjkS5wb"
      },
      "source": [
        "## Graficar una matriz\n",
        "Ya hemos visto que los vectores se pueden representar como puntos o flechas en un espacio N-dimensional. ¿Existe una buena representación gráfica de las matrices? Bueno, simplemente puede ver una matriz como una lista de vectores, por lo que trazar una matriz da como resultado muchos puntos o flechas. Por ejemplo, creemos una matriz `P` de $2 \\times 4$ y representémosla como puntos:"
      ]
    },
    {
      "cell_type": "code",
      "execution_count": null,
      "metadata": {
        "colab": {
          "base_uri": "https://localhost:8080/",
          "height": 269
        },
        "id": "-g3cg0fqS5wb",
        "outputId": "3824a863-91ca-4986-d885-f6cb07dc67fd"
      },
      "outputs": [],
      "source": [
        "import matplotlib.pyplot as plt\n",
        "\n",
        "P = np.array([\n",
        "        [3.0, 4.0, 1.0, 4.6],\n",
        "        [0.2, 3.5, 2.0, 0.5]\n",
        "    ])\n",
        "x_coords_P, y_coords_P = P\n",
        "plt.scatter(x_coords_P, y_coords_P)\n",
        "plt.axis([0, 5, 0, 4])\n",
        "plt.show()"
      ]
    },
    {
      "cell_type": "markdown",
      "metadata": {
        "id": "299l9q5vS5wc"
      },
      "source": [
        "Por supuesto, también podríamos haber almacenado los mismos 4 vectores como vectores de fila en lugar de vectores de columna, dando como resultado una matriz de $4 \\times 2$ (la transpuesta de $P$, de hecho). Es realmente una elección arbitraria.\n",
        "\n",
        "Como los vectores están ordenados, puedes ver la matriz como un camino y representarla con puntos conectados:"
      ]
    },
    {
      "cell_type": "code",
      "execution_count": null,
      "metadata": {
        "colab": {
          "base_uri": "https://localhost:8080/",
          "height": 269
        },
        "id": "NlEosqXnS5wc",
        "outputId": "5be2c428-f6f7-4ed6-9b4b-b2a3591212ed"
      },
      "outputs": [],
      "source": [
        "plt.plot(x_coords_P, y_coords_P, \"bo\")\n",
        "plt.plot(x_coords_P, y_coords_P, \"b--\")\n",
        "plt.axis([0, 5, 0, 4])\n",
        "plt.grid()\n",
        "plt.show()"
      ]
    },
    {
      "cell_type": "markdown",
      "metadata": {
        "id": "ulmZ4_2_S5wc"
      },
      "source": [
        "O puede representarlo como un polígono: la clase `Polygon` de matplotlib espera una matriz $n \\times 2$ NumPy, no una matriz $2 \\times n$, por lo que solo necesitamos darle $P^T$:"
      ]
    },
    {
      "cell_type": "code",
      "execution_count": null,
      "metadata": {
        "colab": {
          "base_uri": "https://localhost:8080/",
          "height": 269
        },
        "id": "gfG8a0ZKS5wc",
        "outputId": "7a66dbe5-6f7c-43f9-a8e5-7fa3530ee7a6"
      },
      "outputs": [],
      "source": [
        "from matplotlib.patches import Polygon\n",
        "plt.gca().add_artist(Polygon(P.T))\n",
        "plt.axis([0, 5, 0, 4])\n",
        "plt.grid()\n",
        "plt.show()"
      ]
    },
    {
      "cell_type": "markdown",
      "metadata": {
        "id": "bXO9pJrPS5wk"
      },
      "source": [
        "## Determinante\n",
        "El determinante de una matriz cuadrada $M$, anotado $\\det(M)$ o $\\det M$ o $|M|$ es un valor que se puede calcular a partir de sus elementos $(M_{i,j})$ usando varios métodos equivalentes. Uno de los métodos más simples es este enfoque recursivo:\n",
        "\n",
        "$|M| = M_{1,1}\\times|M^{(1,1)}| - M_{2,1}\\times|M^{(2,1)}| + M_{3,1}\\times|M^{(3,1)}| - M_{4,1}\\times|M^{(4,1)}| + \\cdots ± M_{n,1}\\times|M^{(n,1)}|$\n",
        "\n",
        "* Donde $M^{(i,j)}$ es la matriz $M$ sin fila $i$ ni columna $j$.\n",
        "Por ejemplo, calculemos el determinante de la siguiente matriz $3 \\times 3$:\n",
        "$M = \\begin{bmatrix}\n",
        "  1 & 2 & 3 \\\\\n",
        "  4 & 5 & 6 \\\\\n",
        "  7 & 8 & 0\n",
        "\\end{bmatrix}$\n",
        "\n",
        "Usando el método anterior, obtenemos: \n",
        "\n",
        "$|M| = 1 \\times \\left | \\begin{bmatrix} 5 & 6 \\\\ 8 & 0 \\end{bmatrix} \\right |\n",
        "     - 2 \\times \\left | \\begin{bmatrix} 4 & 6 \\\\ 7 & 0 \\end{bmatrix} \\right |\n",
        "     + 3 \\times \\left | \\begin{bmatrix} 4 & 5 \\\\ 7 & 8 \\end{bmatrix} \\right |$ \n",
        "\n",
        "Ahora necesitamos calcular el determinante de cada una de estas matrices de $2 \\times 2$ (estos determinantes se llaman **menores**):\n",
        "\n",
        "$\\left | \\begin{bmatrix} 5 & 6 \\\\ 8 & 0 \\end{bmatrix} \\right | = 5 \\times 0 - 6 \\times 8 = -48$\n",
        "\n",
        "$\\left | \\begin{bmatrix} 4 & 6 \\\\ 7 & 0 \\end{bmatrix} \\right | = 4 \\times 0 - 6 \\times 7 = -42$\n",
        "\n",
        "$\\left | \\begin{bmatrix} 4 & 5 \\\\ 7 & 8 \\end{bmatrix} \\right | = 4 \\times 8 - 5 \\times 7 = -3$\n",
        "\n",
        "Ahora podemos calcular el resultado final:\n",
        "\n",
        "$|M| = 1 \\times (-48) - 2 \\times (-42) + 3 \\times (-3) = 27$"
      ]
    }
  ],
  "metadata": {
    "colab": {
      "collapsed_sections": [
        "Iduki9SvS5wQ",
        "nGZbwkcJS5wR",
        "ioVRizawS5wS",
        "oOc6CwjES5wU",
        "S0Xgzfl4S5wX",
        "BTlivUn3S5wZ",
        "aVUYENjkS5wb",
        "KKmRCDe4S5wc",
        "Qms8vMlNS5wc",
        "CNv-Wo_CS5wd",
        "McUydsI5S5wd",
        "na-duj1MS5wf",
        "CvSfrzM9S5wh",
        "MUhHXclsS5wi",
        "bXO9pJrPS5wk"
      ],
      "name": "Clase2_Matrices.ipynb",
      "provenance": []
    },
    "kernelspec": {
      "display_name": "Python 3",
      "language": "python",
      "name": "python3"
    },
    "language_info": {
      "codemirror_mode": {
        "name": "ipython",
        "version": 3
      },
      "file_extension": ".py",
      "mimetype": "text/x-python",
      "name": "python",
      "nbconvert_exporter": "python",
      "pygments_lexer": "ipython3",
      "version": "3.11.9"
    },
    "toc": {
      "toc_cell": false,
      "toc_number_sections": true,
      "toc_threshold": 6,
      "toc_window_display": false
    }
  },
  "nbformat": 4,
  "nbformat_minor": 0
}
