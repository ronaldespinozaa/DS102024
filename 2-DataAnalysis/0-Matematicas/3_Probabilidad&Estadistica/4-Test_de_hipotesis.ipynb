{
 "cells": [
  {
   "cell_type": "markdown",
   "metadata": {
    "_cell_guid": "b1076dfc-b9ad-4769-8c92-a6c4dae69d19",
    "_uuid": "8f2839f25d086af736a60e9eeb907d3b93b6e0e5"
   },
   "source": [
    "# Test de hipótesis"
   ]
  },
  {
   "cell_type": "markdown",
   "metadata": {
    "_cell_guid": "79c7e3d0-c299-4dcb-8224-4455121ee9b0",
    "_uuid": "d629ff2d2480ee46fbb7e2d37f6b5fab8052498a",
    "collapsed": true
   },
   "source": [
    "Las estimaciones puntuales y los intervalos de confianza son herramientas básicas de inferencia que sirven de base para otra técnica de inferencia: las pruebas de hipótesis estadísticas. Las pruebas de hipótesis estadísticas son un medio para determinar si los datos observados se desvían de lo esperado. La biblioteca scipy.stats de Python contiene una serie de funciones que facilitan la realización de pruebas de hipótesis."
   ]
  },
  {
   "cell_type": "markdown",
   "metadata": {},
   "source": [
    "## Fundamentos del test de hipótesis"
   ]
  },
  {
   "cell_type": "markdown",
   "metadata": {},
   "source": [
    "Los test de hipótesis estadísticas se basan en una afirmación denominada hipótesis nula, que asume que no ocurre nada interesante entre las variables que se están probando. La forma exacta de la hipótesis nula varía de un tipo de prueba a otro: si se comprueba si los grupos difieren, la hipótesis nula afirma que los grupos son iguales. Por ejemplo, si quieres comprobar si la edad media de los votantes de tu estado difiere de la media nacional, la hipótesis nula sería que no hay diferencia entre las edades medias.\n",
    "\n",
    "El propósito de un test de hipótesis es determinar si es probable que la hipótesis nula sea cierta dados los datos de la muestra. Si hay pocas pruebas en contra de la hipótesis nula dados los datos, se acepta la hipótesis nula. Si la hipótesis nula es improbable dados los datos, puede rechazar la nula a favor de la hipótesis alternativa: que está ocurriendo algo interesante. La forma exacta de la hipótesis alternativa dependerá de la prueba específica que se esté realizando. Siguiendo con el ejemplo anterior, la hipótesis alternativa sería que la edad media de los votantes de su estado difiere de hecho de la media nacional.\n",
    "\n",
    "Una vez que se tienen las hipótesis nula y alternativa, se elige un nivel de significación (a menudo denotado por la letra griega α). El nivel de significación es un umbral de probabilidad que determina cuándo se rechaza la hipótesis nula. Tras realizar una prueba, si la probabilidad de obtener un resultado tan extremo como el que se observa debido al azar es inferior al nivel de significación, se rechaza la hipótesis nula a favor de la alternativa. Esta probabilidad de obtener un resultado tan extremo o más que el observado se conoce como valor p.\n",
    "\n",
    "La prueba T es una prueba estadística que se utiliza para determinar si una muestra de datos numéricos difiere significativamente de la población o si dos muestras difieren entre sí."
   ]
  },
  {
   "cell_type": "markdown",
   "metadata": {},
   "source": [
    "## Prueba T de una muestra"
   ]
  },
  {
   "cell_type": "markdown",
   "metadata": {},
   "source": [
    "Una prueba t de una muestra comprueba si la media de una muestra difiere de la media de la población. Creemos unos datos ficticios de edad para la población de votantes de todo el país y una muestra de votantes de Minnesota y comprobemos si la edad media de los votantes de Minnesota difiere de la de la población:"
   ]
  },
  {
   "cell_type": "code",
   "execution_count": null,
   "metadata": {},
   "outputs": [],
   "source": [
    "import numpy as np\n",
    "import pandas as pd\n",
    "import scipy.stats as stats\n",
    "import matplotlib.pyplot as plt\n",
    "import math"
   ]
  },
  {
   "cell_type": "code",
   "execution_count": 2,
   "metadata": {},
   "outputs": [
    {
     "name": "stdout",
     "output_type": "stream",
     "text": [
      "43.000112\n",
      "39.26\n"
     ]
    }
   ],
   "source": [
    "np.random.seed(6)\n",
    "\n",
    "population_ages1 = stats.poisson.rvs(loc=18, mu=35, size=150000)\n",
    "population_ages2 = stats.poisson.rvs(loc=18, mu=10, size=100000)\n",
    "population_ages = np.concatenate((population_ages1, population_ages2))\n",
    "\n",
    "minnesota_ages1 = stats.poisson.rvs(loc=18, mu=30, size=30)\n",
    "minnesota_ages2 = stats.poisson.rvs(loc=18, mu=10, size=20)\n",
    "minnesota_ages = np.concatenate((minnesota_ages1, minnesota_ages2))\n",
    "\n",
    "print( population_ages.mean() )\n",
    "print( minnesota_ages.mean() )"
   ]
  },
  {
   "cell_type": "markdown",
   "metadata": {},
   "source": [
    "Observa que hemos utilizado una combinación ligeramente diferente de distribuciones para generar los datos de la muestra de Minnesota, por lo que sabemos que las dos medias son diferentes. Realicemos una prueba t con un nivel de confianza del 95% y veamos si rechaza correctamente la hipótesis nula de que la muestra procede de la misma distribución que la población. Para realizar una prueba t de una muestra, podemos utilizar la función stats.**ttest_1samp()**:"
   ]
  },
  {
   "cell_type": "code",
   "execution_count": 3,
   "metadata": {},
   "outputs": [
    {
     "data": {
      "text/plain": [
       "Ttest_1sampResult(statistic=-2.5742714883655027, pvalue=0.013118685425061678)"
      ]
     },
     "execution_count": 3,
     "metadata": {},
     "output_type": "execute_result"
    }
   ],
   "source": [
    "stats.ttest_1samp(a = minnesota_ages,               # Datos de la muestra\n",
    "                 popmean = population_ages.mean())  # Media popoblación"
   ]
  },
  {
   "cell_type": "markdown",
   "metadata": {},
   "source": [
    "El resultado de la prueba muestra que el estadístico de prueba \"t\" es igual a -2,574. Este estadístico de prueba nos indica cuánto se desvía la media muestral de la hipótesis nula. Si el estadístico t se encuentra fuera de los cuantiles de la distribución t correspondientes a nuestro nivel de confianza y grados de libertad, rechazamos la hipótesis nula. Podemos comprobar los cuantiles con **stats.t.ppf()**:"
   ]
  },
  {
   "cell_type": "code",
   "execution_count": 4,
   "metadata": {},
   "outputs": [
    {
     "data": {
      "text/plain": [
       "-2.0095752344892093"
      ]
     },
     "execution_count": 4,
     "metadata": {},
     "output_type": "execute_result"
    }
   ],
   "source": [
    "stats.t.ppf(q=0.025,  # Cuantil a comprobar\n",
    "            df=49)  # Grados de libertad"
   ]
  },
  {
   "cell_type": "code",
   "execution_count": 5,
   "metadata": {},
   "outputs": [
    {
     "data": {
      "text/plain": [
       "2.009575234489209"
      ]
     },
     "execution_count": 5,
     "metadata": {},
     "output_type": "execute_result"
    }
   ],
   "source": [
    "stats.t.ppf(q=0.975,  # Quantile to check\n",
    "            df=49)  # Degrees of freedom"
   ]
  },
  {
   "cell_type": "markdown",
   "metadata": {},
   "source": [
    "\n",
    "Podemos calcular las probabilidades de ver un resultado tan extremo como el que observamos (conocido como valor p) pasando el estadístico t como el cuantil a la función **stats.t.cdf()**:"
   ]
  },
  {
   "cell_type": "code",
   "execution_count": 6,
   "metadata": {},
   "outputs": [
    {
     "data": {
      "text/plain": [
       "0.013121066545690117"
      ]
     },
     "execution_count": 6,
     "metadata": {},
     "output_type": "execute_result"
    }
   ],
   "source": [
    "stats.t.cdf(x= -2.5742,      # Estadística de la prueba T\n",
    "               df= 49) * 2   # Multiplique por dos para una prueba de dos colas"
   ]
  },
  {
   "cell_type": "markdown",
   "metadata": {},
   "source": [
    "*Nota: La hipótesis alternativa que estamos comprobando es si la media de la muestra difiere (no es igual) de la media de la población. Dado que la muestra puede diferir en sentido positivo o negativo, multiplicamos por dos.\n",
    "\n",
    "Observe que este valor es el mismo que el valor p que aparece en el resultado de la prueba t original. Un valor p de 0,01311 significa que esperaríamos ver datos tan extremos como los de nuestra muestra debido al azar aproximadamente el 1,3% de las veces si la hipótesis nula fuera cierta. En este caso, el valor p es inferior a nuestro nivel de significación α (igual a 1-conf.nivel o 0,05), por lo que deberíamos rechazar la hipótesis nula. Si construyéramos un intervalo de confianza del 95% para la muestra, no captaría la media poblacional de 43:"
   ]
  },
  {
   "cell_type": "code",
   "execution_count": 7,
   "metadata": {},
   "outputs": [
    {
     "data": {
      "text/plain": [
       "(36.369669080722176, 42.15033091927782)"
      ]
     },
     "execution_count": 7,
     "metadata": {},
     "output_type": "execute_result"
    }
   ],
   "source": [
    "sigma = minnesota_ages.std()/math.sqrt(50)  # Desviación estándar de la muestra/tamaño de la muestra\n",
    "\n",
    "stats.t.interval(0.95,                        # Nivel de confianza\n",
    "                 df = 49,                     # Grados de libertad\n",
    "                 loc = minnesota_ages.mean(), # Media de la muestra\n",
    "                 scale= sigma)                # Desviación típica estimada"
   ]
  },
  {
   "cell_type": "markdown",
   "metadata": {},
   "source": [
    "Por otra parte, dado que hay un 1,3% de posibilidades de que un resultado tan extremo se deba al azar, no es significativo con un nivel de confianza del 99%. Esto significa que si tuviéramos que construir un intervalo de confianza del 99%, capturaría la media de la población:"
   ]
  },
  {
   "cell_type": "code",
   "execution_count": 8,
   "metadata": {},
   "outputs": [
    {
     "data": {
      "text/plain": [
       "(35.40547994092107, 43.11452005907893)"
      ]
     },
     "execution_count": 8,
     "metadata": {},
     "output_type": "execute_result"
    }
   ],
   "source": [
    "stats.t.interval(alpha = 0.99,                # Nivel de confianza\n",
    "                 df = 49,                     # Grados de libertad\n",
    "                 loc = minnesota_ages.mean(), # Media de la muestra\n",
    "                 scale= sigma)                # Desviación típica estimada"
   ]
  },
  {
   "cell_type": "markdown",
   "metadata": {},
   "source": [
    "Con un nivel de confianza más alto, construimos un intervalo de confianza más amplio y aumentamos las probabilidades de que capte la media verdadera, con lo que es menos probable que rechacemos la hipótesis nula. En este caso, el valor p de 0,013 es mayor que nuestro nivel de significación de 0,01 y no rechazamos la hipótesis nula."
   ]
  },
  {
   "cell_type": "markdown",
   "metadata": {},
   "source": [
    "## Prueba T de dos muestras"
   ]
  },
  {
   "cell_type": "markdown",
   "metadata": {},
   "source": [
    "\n",
    "Una prueba t de dos muestras investiga si las medias de dos muestras de datos independientes difieren entre sí. En una prueba de dos muestras, la hipótesis nula es que las medias de ambos grupos son iguales. A diferencia de la prueba de una muestra, en la que se compara con un parámetro poblacional conocido, la prueba de dos muestras sólo tiene en cuenta las medias muestrales. Puede realizar una prueba t de dos muestras pasando con la función **stats.ttest_ind()**. Generemos una muestra de los datos de edad de los votantes de Wisconsin y comparémosla con la muestra que hicimos anteriormente:"
   ]
  },
  {
   "cell_type": "code",
   "execution_count": 9,
   "metadata": {},
   "outputs": [
    {
     "name": "stdout",
     "output_type": "stream",
     "text": [
      "42.8\n"
     ]
    }
   ],
   "source": [
    "np.random.seed(12)\n",
    "wisconsin_ages1 = stats.poisson.rvs(loc=18, mu=33, size=30)\n",
    "wisconsin_ages2 = stats.poisson.rvs(loc=18, mu=13, size=20)\n",
    "wisconsin_ages = np.concatenate((wisconsin_ages1, wisconsin_ages2))\n",
    "\n",
    "print( wisconsin_ages.mean() )"
   ]
  },
  {
   "cell_type": "code",
   "execution_count": 10,
   "metadata": {},
   "outputs": [
    {
     "data": {
      "text/plain": [
       "Ttest_indResult(statistic=-1.7083870793286842, pvalue=0.09073104343957748)"
      ]
     },
     "execution_count": 10,
     "metadata": {},
     "output_type": "execute_result"
    }
   ],
   "source": [
    "stats.ttest_ind(a= minnesota_ages,\n",
    "                b= wisconsin_ages,\n",
    "                equal_var=False)    # Supongamos que las muestras tienen la misma varianza."
   ]
  },
  {
   "cell_type": "markdown",
   "metadata": {},
   "source": [
    "La prueba arroja un valor p de 0,0907, lo que significa que hay un 9% de probabilidades de que veamos datos muestrales tan alejados si los dos grupos analizados son realmente idénticos. Si utilizáramos un nivel de confianza del 95%, no rechazaríamos la hipótesis nula, ya que el valor p es superior al nivel de significación correspondiente del 5%."
   ]
  },
  {
   "cell_type": "markdown",
   "metadata": {},
   "source": [
    "## Prueba T pareada"
   ]
  },
  {
   "cell_type": "markdown",
   "metadata": {},
   "source": [
    "La prueba t básica de dos muestras está diseñada para probar diferencias entre grupos independientes. En algunos casos, puede que interese comprobar las diferencias entre muestras del mismo grupo en distintos momentos. Por ejemplo, un hospital puede querer comprobar si un medicamento para adelgazar funciona comprobando el peso de los pacientes del mismo grupo antes y después del tratamiento. Una prueba t pareada permite comprobar si las medias de las muestras del mismo grupo difieren.\n",
    "\n",
    "Podemos realizar una prueba t pareada utilizando la función de **scipy stats.ttest_rel()**. Generemos algunos datos ficticios sobre el peso de los pacientes y hagamos una prueba t pareada:"
   ]
  },
  {
   "cell_type": "code",
   "execution_count": null,
   "metadata": {},
   "outputs": [
    {
     "data": {
      "text/html": [
       "<div>\n",
       "<style scoped>\n",
       "    .dataframe tbody tr th:only-of-type {\n",
       "        vertical-align: middle;\n",
       "    }\n",
       "\n",
       "    .dataframe tbody tr th {\n",
       "        vertical-align: top;\n",
       "    }\n",
       "\n",
       "    .dataframe thead th {\n",
       "        text-align: right;\n",
       "    }\n",
       "</style>\n",
       "<table border=\"1\" class=\"dataframe\">\n",
       "  <thead>\n",
       "    <tr style=\"text-align: right;\">\n",
       "      <th></th>\n",
       "      <th>weight_before</th>\n",
       "      <th>weight_after</th>\n",
       "      <th>weight_change</th>\n",
       "    </tr>\n",
       "  </thead>\n",
       "  <tbody>\n",
       "    <tr>\n",
       "      <th>count</th>\n",
       "      <td>100.000000</td>\n",
       "      <td>100.000000</td>\n",
       "      <td>100.000000</td>\n",
       "    </tr>\n",
       "    <tr>\n",
       "      <th>mean</th>\n",
       "      <td>250.345546</td>\n",
       "      <td>249.115171</td>\n",
       "      <td>-1.230375</td>\n",
       "    </tr>\n",
       "    <tr>\n",
       "      <th>std</th>\n",
       "      <td>28.132539</td>\n",
       "      <td>28.422183</td>\n",
       "      <td>4.783696</td>\n",
       "    </tr>\n",
       "    <tr>\n",
       "      <th>min</th>\n",
       "      <td>170.400443</td>\n",
       "      <td>165.913930</td>\n",
       "      <td>-11.495286</td>\n",
       "    </tr>\n",
       "    <tr>\n",
       "      <th>25%</th>\n",
       "      <td>230.421042</td>\n",
       "      <td>229.148236</td>\n",
       "      <td>-4.046211</td>\n",
       "    </tr>\n",
       "    <tr>\n",
       "      <th>50%</th>\n",
       "      <td>250.830805</td>\n",
       "      <td>251.134089</td>\n",
       "      <td>-1.413463</td>\n",
       "    </tr>\n",
       "    <tr>\n",
       "      <th>75%</th>\n",
       "      <td>270.637145</td>\n",
       "      <td>268.927258</td>\n",
       "      <td>1.738673</td>\n",
       "    </tr>\n",
       "    <tr>\n",
       "      <th>max</th>\n",
       "      <td>314.700233</td>\n",
       "      <td>316.720357</td>\n",
       "      <td>9.759282</td>\n",
       "    </tr>\n",
       "  </tbody>\n",
       "</table>\n",
       "</div>"
      ],
      "text/plain": [
       "       weight_before  weight_after  weight_change\n",
       "count     100.000000    100.000000     100.000000\n",
       "mean      250.345546    249.115171      -1.230375\n",
       "std        28.132539     28.422183       4.783696\n",
       "min       170.400443    165.913930     -11.495286\n",
       "25%       230.421042    229.148236      -4.046211\n",
       "50%       250.830805    251.134089      -1.413463\n",
       "75%       270.637145    268.927258       1.738673\n",
       "max       314.700233    316.720357       9.759282"
      ]
     },
     "execution_count": 11,
     "metadata": {},
     "output_type": "execute_result"
    }
   ],
   "source": [
    "np.random.seed(11)\n",
    "\n",
    "before= stats.norm.rvs(scale=30, loc=250, size=100)\n",
    "\n",
    "after = before + stats.norm.rvs(scale=5, loc=-1.25, size=100)\n",
    "\n",
    "weight_df = pd.DataFrame({\"weight_before\":before,\n",
    "                          \"weight_after\":after,\n",
    "                          \"weight_change\":after-before})\n",
    "\n",
    "weight_df.describe()             # Comprobar un resumen de los datos"
   ]
  },
  {
   "cell_type": "markdown",
   "metadata": {},
   "source": [
    "El resumen muestra que los pacientes perdieron alrededor de 1,23 kilos de media después del tratamiento. Realicemos una prueba t pareada para ver si esta diferencia es significativa con un nivel de confianza del 95%:"
   ]
  },
  {
   "cell_type": "code",
   "execution_count": 12,
   "metadata": {},
   "outputs": [
    {
     "data": {
      "text/plain": [
       "Ttest_relResult(statistic=2.5720175998568284, pvalue=0.011596444318439857)"
      ]
     },
     "execution_count": 12,
     "metadata": {},
     "output_type": "execute_result"
    }
   ],
   "source": [
    "stats.ttest_rel(a = before,\n",
    "                b = after)"
   ]
  },
  {
   "cell_type": "markdown",
   "metadata": {},
   "source": [
    "## Error de tipo I y de tipo II"
   ]
  },
  {
   "cell_type": "markdown",
   "metadata": {},
   "source": [
    "El resultado de una prueba de hipótesis estadística y la correspondiente decisión de rechazar o aceptar la hipótesis nula no son infalibles. Una prueba proporciona pruebas a favor o en contra de la hipótesis nula y entonces se decide si aceptarla o rechazarla basándose en esas pruebas, pero éstas pueden carecer de la fuerza necesaria para llegar a la conclusión correcta. Las conclusiones incorrectas obtenidas a partir de pruebas de hipótesis se clasifican en una de estas dos categorías: error de tipo I y error de tipo II.\n",
    "\n",
    "El error de tipo I describe una situación en la que se rechaza la hipótesis nula cuando en realidad es cierta. Este tipo de error también se conoce como \"falso positivo\". La tasa de error de tipo I es igual al nivel de significación α, por lo que establecer un nivel de confianza más alto (y, por tanto, un alfa más bajo) reduce las posibilidades de obtener un falso positivo.\n",
    "\n",
    "El error de tipo II describe una situación en la que no se rechaza la hipótesis nula cuando en realidad es falsa. El error de tipo II también se conoce como \"falso negativo\". Cuanto mayor sea el nivel de confianza, mayor será la probabilidad de cometer un error de tipo II.\n",
    "\n",
    "Investiguemos estos errores con un gráfico:"
   ]
  },
  {
   "cell_type": "code",
   "execution_count": 13,
   "metadata": {},
   "outputs": [
    {
     "data": {
      "image/png": "[encoded data removed]",
      "text/plain": [
       "<Figure size 864x720 with 1 Axes>"
      ]
     },
     "metadata": {},
     "output_type": "display_data"
    }
   ],
   "source": [
    "plt.figure(figsize=(12,10))\n",
    "\n",
    "\n",
    "plt.fill_between(x=np.arange(-4,-2,0.01), \n",
    "                 y1= stats.norm.pdf(np.arange(-4,-2,0.01)) ,\n",
    "                 facecolor='red',\n",
    "                 alpha=0.35)\n",
    "\n",
    "plt.fill_between(x=np.arange(-2,2,0.01), \n",
    "                 y1= stats.norm.pdf(np.arange(-2,2,0.01)) ,\n",
    "                 facecolor='grey',\n",
    "                 alpha=0.35)\n",
    "\n",
    "plt.fill_between(x=np.arange(2,4,0.01), \n",
    "                 y1= stats.norm.pdf(np.arange(2,4,0.01)) ,\n",
    "                 facecolor='red',\n",
    "                 alpha=0.5)\n",
    "\n",
    "plt.fill_between(x=np.arange(-4,-2,0.01), \n",
    "                 y1= stats.norm.pdf(np.arange(-4,-2,0.01),loc=3, scale=2) ,\n",
    "                 facecolor='grey',\n",
    "                 alpha=0.35)\n",
    "\n",
    "plt.fill_between(x=np.arange(-2,2,0.01), \n",
    "                 y1= stats.norm.pdf(np.arange(-2,2,0.01),loc=3, scale=2) ,\n",
    "                 facecolor='blue',\n",
    "                 alpha=0.35)\n",
    "\n",
    "plt.fill_between(x=np.arange(2,10,0.01), \n",
    "                 y1= stats.norm.pdf(np.arange(2,10,0.01),loc=3, scale=2),\n",
    "                 facecolor='grey',\n",
    "                 alpha=0.35)\n",
    "\n",
    "plt.text(x=-0.8, y=0.15, s= \"Null Hypothesis\")\n",
    "plt.text(x=2.5, y=0.13, s= \"Alternative\")\n",
    "plt.text(x=2.1, y=0.01, s= \"Type 1 Error\")\n",
    "plt.text(x=-3.2, y=0.01, s= \"Type 1 Error\")\n",
    "plt.text(x=0, y=0.02, s= \"Type 2 Error\");"
   ]
  },
  {
   "cell_type": "markdown",
   "metadata": {},
   "source": [
    "En el gráfico anterior, las zonas rojas indican errores de tipo I, suponiendo que la hipótesis alternativa no es diferente de la nula para una prueba bilateral con un nivel de confianza del 95%.\n",
    "\n",
    "El área azul representa los errores de tipo II que se producen cuando la hipótesis alternativa es diferente de la nula, como muestra la distribución de la derecha. Observe que la tasa de error de tipo II es el área bajo la distribución alternativa dentro de los cuantiles determinados por la distribución nula y el nivel de confianza. Podemos calcular la tasa de error de tipo II para las distribuciones anteriores de la siguiente manera:"
   ]
  },
  {
   "cell_type": "code",
   "execution_count": 14,
   "metadata": {},
   "outputs": [
    {
     "data": {
      "text/plain": [
       "0.294956061112323"
      ]
     },
     "execution_count": 14,
     "metadata": {},
     "output_type": "execute_result"
    }
   ],
   "source": [
    "lower_quantile = stats.norm.ppf(0.025)  # Valor de corte inferior\n",
    "upper_quantile = stats.norm.ppf(0.975)  # Valor de corte superior\n",
    "\n",
    "# Área bajo alternativa, a la izquierda el valor de corte inferior\n",
    "low = stats.norm.cdf(lower_quantile,    \n",
    "                     loc=3,             \n",
    "                     scale=2)\n",
    "\n",
    "# Área bajo alternativa, a la izquierda el valor de corte superior\n",
    "high = stats.norm.cdf(upper_quantile, \n",
    "                      loc=3, \n",
    "                      scale=2)          \n",
    "\n",
    "# Área bajo la alternativa, entre los puntos de corte (error de tipo II)\n",
    "high-low"
   ]
  },
  {
   "cell_type": "markdown",
   "metadata": {},
   "source": [
    "Con las distribuciones normales anteriores, no podríamos rechazar la hipótesis nula en un 30% de las ocasiones, ya que las distribuciones están lo suficientemente próximas entre sí como para solaparse de forma significativa."
   ]
  },
  {
   "cell_type": "markdown",
   "metadata": {},
   "source": [
    "## Poder estadístico"
   ]
  },
  {
   "cell_type": "markdown",
   "metadata": {},
   "source": [
    "La [potencia](https://es.wikipedia.org/wiki/Poder_estad%C3%ADstico) de una prueba estadística es la probabilidad de que la prueba rechace la hipótesis nula cuando la alternativa es realmente diferente de la nula. En otras palabras, la potencia es la probabilidad de que la prueba detecte que ocurre algo interesante cuando realmente *ocurre* algo interesante. La potencia es igual a uno menos la tasa de error de tipo II. La potencia de una prueba estadística está influida por:\n",
    "\n",
    "1. El nivel de significación elegido para la prueba.\n",
    "2. El tamaño de la muestra.\n",
    "3. El tamaño del efecto de la prueba.\n",
    "\n",
    "Al elegir un nivel de significación para una prueba, existe un equilibrio entre el error de tipo I y el de tipo II. Un nivel de significación bajo, como 0,01, hace que sea menos probable que una prueba tenga errores de tipo I (falsos positivos), pero más probable que tenga errores de tipo II (falsos negativos) que una prueba con un valor mayor del nivel de significación α. Una convención común es que las pruebas estadísticas deben tener una potencia de al menos 0,8.\n",
    "\n",
    "Un mayor tamaño de la muestra reduce la incertidumbre de la estimación puntual, haciendo que la distribución de la muestra se estreche, lo que se traduce en menores tasas de error de tipo II y una mayor potencia.\n",
    "\n",
    "[Tamaño del efecto](https://es.wikipedia.org/wiki/Tama%C3%B1o_del_efecto) es un término general que describe una medida numérica del tamaño de algún fenómeno. Existen muchas medidas diferentes del tamaño del efecto que surgen en diferentes contextos. En el contexto de la prueba T, un tamaño del efecto simple es la diferencia entre las medias de las muestras. Este número puede estandarizarse dividiéndolo por la desviación típica de la población o la desviación típica conjunta de las muestras. Esto pone el tamaño del efecto en términos de desviaciones estándar, por lo que un tamaño del efecto estandarizado de 0,5 se interpretaría como que la media de una muestra está a 0,5 desviaciones estándar de otra (en general, 0,5 se considera un tamaño del efecto \"grande\").\n",
    "\n",
    "Dado que la potencia estadística, el nivel de significación, el tamaño del efecto y el tamaño de la muestra están relacionados, es posible calcular cualquiera de ellos para valores dados de los otros tres. Esto puede ser una parte importante del proceso de diseño de una prueba de hipótesis y del análisis de los resultados. Por ejemplo, si desea realizar una prueba con un nivel de significación determinado (digamos el estándar 0,05) y una potencia determinada (digamos el estándar 0,8) y está interesado en un tamaño del efecto determinado (digamos 0,5 para la diferencia estandarizada entre las medias muestrales), puede utilizar esa información para determinar el tamaño de la muestra que necesita.\n",
    "\n",
    "En python, la biblioteca statsmodels contiene funciones para resolver cualquier parámetro de la potencia de las pruebas T. Utilice **statsmodels.stats.power.tt_solve_power** para pruebas t de una muestra y **statsmodels.stats.power.tt_ind_solve_power** para una prueba t de dos muestras. Comprobemos el tamaño de la muestra que debemos utilizar dados los valores de los parámetros estándar anteriores para una prueba t de una muestra:"
   ]
  },
  {
   "cell_type": "code",
   "execution_count": 15,
   "metadata": {},
   "outputs": [
    {
     "data": {
      "text/plain": [
       "33.3671314275208"
      ]
     },
     "execution_count": 15,
     "metadata": {},
     "output_type": "execute_result"
    }
   ],
   "source": [
    "from statsmodels.stats.power import tt_solve_power\n",
    "\n",
    "tt_solve_power(effect_size = 0.5,\n",
    "               alpha = 0.05,\n",
    "               power = 0.8)"
   ]
  },
  {
   "cell_type": "markdown",
   "metadata": {},
   "source": [
    "En este caso, querríamos un tamaño de muestra de al menos 34 para hacer un estudio con la potencia y el nivel de significación deseados, capaz de detectar un tamaño de efecto grande."
   ]
  },
  {
   "cell_type": "markdown",
   "metadata": {},
   "source": [
    "# Wrap Up"
   ]
  },
  {
   "cell_type": "markdown",
   "metadata": {},
   "source": [
    "La prueba t es una potente herramienta para investigar las diferencias entre las medias de la muestra y de la población. Las pruebas t se aplican a variables numéricas."
   ]
  },
  {
   "cell_type": "markdown",
   "metadata": {},
   "source": [
    "# Siguiente lección: [Tests de Chi-cuadrado](5-Tests_de_chi-cuadrado.ipynb)"
   ]
  }
 ],
 "metadata": {
  "kernelspec": {
   "display_name": "Python 3",
   "language": "python",
   "name": "python3"
  },
  "language_info": {
   "codemirror_mode": {
    "name": "ipython",
    "version": 3
   },
   "file_extension": ".py",
   "mimetype": "text/x-python",
   "name": "python",
   "nbconvert_exporter": "python",
   "pygments_lexer": "ipython3",
   "version": "3.11.9"
  }
 },
 "nbformat": 4,
 "nbformat_minor": 4
}
