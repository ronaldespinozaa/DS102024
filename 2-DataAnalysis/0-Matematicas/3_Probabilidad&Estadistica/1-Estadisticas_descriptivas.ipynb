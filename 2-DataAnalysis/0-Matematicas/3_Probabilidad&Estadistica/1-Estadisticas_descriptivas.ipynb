{
 "cells": [
  {
   "cell_type": "markdown",
   "metadata": {
    "_cell_guid": "b1076dfc-b9ad-4769-8c92-a6c4dae69d19",
    "_uuid": "8f2839f25d086af736a60e9eeb907d3b93b6e0e5"
   },
   "source": [
    "# Estadísticas descriptivas"
   ]
  },
  {
   "cell_type": "markdown",
   "metadata": {
    "_cell_guid": "79c7e3d0-c299-4dcb-8224-4455121ee9b0",
    "_uuid": "d629ff2d2480ee46fbb7e2d37f6b5fab8052498a",
    "collapsed": true
   },
   "source": [
    "Las estadísticas descriptivas son medidas que resumen características importantes de los datos, a menudo con un solo número. Elaborar estadísticas descriptivas es un primer paso habitual tras limpiar y preparar un conjunto de datos para su análisis."
   ]
  },
  {
   "cell_type": "markdown",
   "metadata": {},
   "source": [
    "## Medidas de tendencia central"
   ]
  },
  {
   "cell_type": "markdown",
   "metadata": {},
   "source": [
    "Las medidas de tendencai cental son estadísticas que nos dan una idea del \"centro\" de una variable numérica. En otras palabras, las medidas de centralidad nos dan una idea del valor típico que cabría esperar. Entre las medidas comunes de centralidad se incluyen la media, la mediana y la moda.\n",
    "\n",
    "La media es simplemente un promedio: la suma de los valores dividida por el número total de registros."
   ]
  },
  {
   "cell_type": "code",
   "execution_count": null,
   "metadata": {},
   "outputs": [],
   "source": [
    "%matplotlib inline\n",
    "\n",
    "import numpy as np\n",
    "import pandas as pd\n",
    "import matplotlib.pyplot as plt"
   ]
  },
  {
   "cell_type": "code",
   "execution_count": null,
   "metadata": {},
   "outputs": [],
   "source": [
    "url = (\n",
    "    \"https://gist.githubusercontent.com/seankross/a412dfbd88b3db70b74b/\"\n",
    "    \"raw/5f23f993cd87c283ce766e7ac6b329ee7cc2e1d1/mtcars.csv\"\n",
    ")\n",
    "mtcars = pd.read_csv(url)\n",
    "mtcars.index = mtcars.model\n",
    "del mtcars[\"model\"]\n",
    "\n",
    "mtcars.head()"
   ]
  },
  {
   "cell_type": "code",
   "execution_count": null,
   "metadata": {},
   "outputs": [],
   "source": [
    "mtcars.mean()      # Obtener la media de cada columna"
   ]
  },
  {
   "cell_type": "markdown",
   "metadata": {},
   "source": [
    "También podemos obtener las medias de cada fila proporcionando un argumento de eje:"
   ]
  },
  {
   "cell_type": "code",
   "execution_count": null,
   "metadata": {},
   "outputs": [],
   "source": [
    "mtcars.mean(axis=1)           # Obtener la media de cada fila"
   ]
  },
  {
   "cell_type": "markdown",
   "metadata": {},
   "source": [
    "La mediana de una distribución es el valor en el que el 50% de los datos están por debajo y el otro 50% por encima. En esencia, la mediana divide los datos por la mitad. La mediana también se conoce como percentil 50%, ya que el 50% de las observaciones se encuentran por debajo de ella."
   ]
  },
  {
   "cell_type": "code",
   "execution_count": null,
   "metadata": {},
   "outputs": [],
   "source": [
    "mtcars.median()                 # Obtener la mediana de cada columna"
   ]
  },
  {
   "cell_type": "markdown",
   "metadata": {},
   "source": [
    "Una vez más, podríamos obtener las medianas de las filas suministrando el argumento axis=1.\n",
    "\n",
    "Aunque la media y la mediana nos dan una idea del centro de una distribución, no siempre son iguales. La mediana siempre nos da un valor que divide los datos en dos mitades, mientras que la media es una media numérica, por lo que los valores extremos pueden tener un impacto significativo en la media. En una distribución simétrica, la media y la mediana serán iguales. Investiguemos con un gráfico de densidad:"
   ]
  },
  {
   "cell_type": "code",
   "execution_count": null,
   "metadata": {},
   "outputs": [],
   "source": [
    "norm_data = pd.DataFrame(np.random.normal(size=100000))\n",
    "\n",
    "norm_data.plot(kind=\"density\",\n",
    "              figsize=(10,10));\n",
    "\n",
    "\n",
    "plt.vlines(norm_data.mean(),     # Trazar línea negra en la media\n",
    "           ymin=0, \n",
    "           ymax=0.4,\n",
    "           linewidth=5.0);\n",
    "\n",
    "plt.vlines(norm_data.median(),   # Trazar línea roja en la mediana\n",
    "           ymin=0, \n",
    "           ymax=0.4, \n",
    "           linewidth=2.0,\n",
    "           color=\"red\");"
   ]
  },
  {
   "cell_type": "markdown",
   "metadata": {},
   "source": [
    "En el gráfico anterior, la media y la mediana están tan próximas a cero que la línea roja de la mediana se sitúa encima de la línea negra más gruesa trazada en la media.\n",
    "\n",
    "En las distribuciones sesgadas, la media tiende a ser arrastrada en la dirección del sesgo, mientras que la mediana tiende a resistir los efectos del sesgo:"
   ]
  },
  {
   "cell_type": "code",
   "execution_count": null,
   "metadata": {},
   "outputs": [],
   "source": [
    "skewed_data = pd.DataFrame(np.random.exponential(size=100000))\n",
    "\n",
    "skewed_data.plot(kind=\"density\",\n",
    "              figsize=(10,10),\n",
    "              xlim=(-1,5));\n",
    "\n",
    "\n",
    "plt.vlines(skewed_data.mean(),     # Trazar línea negra en la media\n",
    "           ymin=0, \n",
    "           ymax=0.8,\n",
    "           linewidth=5.0);\n",
    "\n",
    "plt.vlines(skewed_data.median(),   # Trazar línea roja en la mediana\n",
    "           ymin=0, \n",
    "           ymax=0.8, \n",
    "           linewidth=2.0,\n",
    "           color=\"red\");"
   ]
  },
  {
   "cell_type": "markdown",
   "metadata": {},
   "source": [
    "La media también se ve muy influida por los valores atípicos, mientras que la mediana resiste la influencia de los valores atípicos:"
   ]
  },
  {
   "cell_type": "code",
   "execution_count": null,
   "metadata": {},
   "outputs": [],
   "source": [
    "norm_data = np.random.normal(size=50)\n",
    "outliers = np.random.normal(15, size=3)\n",
    "combined_data = pd.DataFrame(np.concatenate((norm_data, outliers), axis=0))\n",
    "\n",
    "combined_data.plot(kind=\"density\",\n",
    "              figsize=(10,10),\n",
    "              xlim=(-5,20));\n",
    "\n",
    "\n",
    "plt.vlines(combined_data.mean(),     # Trazar línea negra en la media\n",
    "           ymin=0, \n",
    "           ymax=0.2,\n",
    "           linewidth=5.0);\n",
    "\n",
    "plt.vlines(combined_data.median(),   # Trazar línea roja en la mediana\n",
    "           ymin=0, \n",
    "           ymax=0.2, \n",
    "           linewidth=2.0,\n",
    "           color=\"red\");"
   ]
  },
  {
   "cell_type": "markdown",
   "metadata": {},
   "source": [
    "Dado que la mediana tiende a resistir los efectos de la asimetría y los valores atípicos, se conoce como estadística \"robusta\". La mediana suele dar una mejor idea del valor típico en una distribución con asimetría o valores atípicos significativos.\n",
    "\n",
    "La moda de una variable es simplemente el valor que aparece con más frecuencia. A diferencia de la media y la mediana, se puede tomar el modo de una variable categórica y es posible tener múltiples modos. Encuentre la moda con df.mode():"
   ]
  },
  {
   "cell_type": "code",
   "execution_count": null,
   "metadata": {},
   "outputs": [],
   "source": [
    "mtcars.mode()"
   ]
  },
  {
   "cell_type": "markdown",
   "metadata": {},
   "source": [
    "Las columnas con modos múltiples (valores múltiples con el mismo recuento) devuelven valores múltiples como modo. Las columnas sin modo (ningún valor que aparezca más de una vez) devuelven NaN."
   ]
  },
  {
   "cell_type": "markdown",
   "metadata": {},
   "source": [
    "## Medidas de dispersión"
   ]
  },
  {
   "cell_type": "markdown",
   "metadata": {},
   "source": [
    "Las medidas de dispersión son estadísticas que describen cómo varían los datos. Mientras que las medidas de centro nos dan una idea del valor típico, las medidas de dispersión nos dan una idea de cuánto tienden a divergir los datos del valor típico.\n",
    "\n",
    "Una de las medidas más sencillas de dispersión es el rango. El rango es la distancia entre las observaciones máxima y mínima:"
   ]
  },
  {
   "cell_type": "code",
   "execution_count": null,
   "metadata": {},
   "outputs": [],
   "source": [
    "max(mtcars[\"mpg\"]) - min(mtcars[\"mpg\"])"
   ]
  },
  {
   "cell_type": "markdown",
   "metadata": {},
   "source": [
    "Como ya se ha indicado, la mediana representa el percentil 50 de un conjunto de datos. Se puede utilizar un resumen de varios percentiles para describir la dispersión de una variable. Podemos extraer el valor mínimo (percentil 0), el primer cuartil (percentil 25), la mediana, el tercer cuartil (percentil 75) y el valor máximo (percentil 100) utilizando la función quantile():"
   ]
  },
  {
   "cell_type": "code",
   "execution_count": null,
   "metadata": {},
   "outputs": [],
   "source": [
    "five_num = [mtcars[\"mpg\"].quantile(0),   \n",
    "            mtcars[\"mpg\"].quantile(0.25),\n",
    "            mtcars[\"mpg\"].quantile(0.50),\n",
    "            mtcars[\"mpg\"].quantile(0.75),\n",
    "            mtcars[\"mpg\"].quantile(1)]\n",
    "\n",
    "five_num"
   ]
  },
  {
   "cell_type": "markdown",
   "metadata": {},
   "source": [
    "Dado que estos valores se utilizan con tanta frecuencia para describir datos, se conocen como \"resumen de cinco números\". Son los mismos valores de percentil que devuelve df.describe():"
   ]
  },
  {
   "cell_type": "code",
   "execution_count": null,
   "metadata": {},
   "outputs": [],
   "source": [
    "mtcars[\"mpg\"].describe()"
   ]
  },
  {
   "cell_type": "markdown",
   "metadata": {},
   "source": [
    "El rango intercuartílico (IQR) es otra medida común de dispersión. El IQR es la distancia entre el tercer cuartil y el primer cuartil:"
   ]
  },
  {
   "cell_type": "code",
   "execution_count": null,
   "metadata": {},
   "outputs": [],
   "source": [
    "mtcars[\"mpg\"].quantile(0.75) - mtcars[\"mpg\"].quantile(0.25)"
   ]
  },
  {
   "cell_type": "markdown",
   "metadata": {},
   "source": [
    "Los gráficos de caja son representaciones visuales del resumen de cinco números y el IQR:"
   ]
  },
  {
   "cell_type": "code",
   "execution_count": null,
   "metadata": {},
   "outputs": [],
   "source": [
    "mtcars.boxplot(column=\"mpg\",\n",
    "               return_type='axes',\n",
    "               figsize=(8,8))\n",
    "\n",
    "plt.text(x=0.74, y=22.25, s=\"3rd Quartile\")\n",
    "plt.text(x=0.8, y=18.75, s=\"Median\")\n",
    "plt.text(x=0.75, y=15.5, s=\"1st Quartile\")\n",
    "plt.text(x=0.9, y=10, s=\"Min\")\n",
    "plt.text(x=0.9, y=33.5, s=\"Max\")\n",
    "plt.text(x=0.7, y=19.5, s=\"IQR\", rotation=90, size=25);"
   ]
  },
  {
   "cell_type": "markdown",
   "metadata": {},
   "source": [
    "La varianza y la desviación típica son otras dos medidas habituales de la dispersión. La varianza de una distribución es la media de las desviaciones (diferencias) al cuadrado de la media."
   ]
  },
  {
   "cell_type": "code",
   "execution_count": null,
   "metadata": {},
   "outputs": [],
   "source": [
    "mtcars[\"mpg\"].var()"
   ]
  },
  {
   "cell_type": "markdown",
   "metadata": {},
   "source": [
    "\n",
    "La desviación típica es la raíz cuadrada de la varianza. La desviación estándar puede ser más interpretable que la varianza, ya que la desviación estándar se expresa en términos de las mismas unidades que la variable en cuestión, mientras que la varianza se expresa en términos de unidades al cuadrado."
   ]
  },
  {
   "cell_type": "code",
   "execution_count": null,
   "metadata": {},
   "outputs": [],
   "source": [
    "mtcars[\"mpg\"].std()"
   ]
  },
  {
   "cell_type": "markdown",
   "metadata": {},
   "source": [
    "Dado que tanto la varianza como la desviación típica se derivan de la media, son susceptibles a la influencia de la asimetría y los valores atípicos de los datos. La desviación absoluta de la mediana es una medida alternativa de dispersión basada en la mediana, que hereda la solidez de la mediana frente a la influencia de la asimetría y los valores atípicos. Es la mediana del valor absoluto de las desviaciones de la mediana:"
   ]
  },
  {
   "cell_type": "code",
   "execution_count": null,
   "metadata": {},
   "outputs": [],
   "source": [
    "abs_median_devs = abs(mtcars[\"mpg\"] - mtcars[\"mpg\"].median())\n",
    "\n",
    "abs_median_devs.median() * 1.4826"
   ]
  },
  {
   "cell_type": "markdown",
   "metadata": {},
   "source": [
    "*Nota: El MAD suele multiplicarse por un factor de escala de 1,4826.*"
   ]
  },
  {
   "cell_type": "markdown",
   "metadata": {},
   "source": [
    "## Skewness y Kurtosis"
   ]
  },
  {
   "cell_type": "markdown",
   "metadata": {},
   "source": [
    "Además de las medidas de centro y dispersión, las estadísticas descriptivas incluyen medidas que dan una idea de la forma de una distribución. La asimetría mide la inclinación o asimetría de una distribución, mientras que la curtosis mide cuántos datos se encuentran en las colas de una distribución en comparación con el centro. No vamos a entrar en los cálculos exactos que hay detrás de la asimetría y la curtosis, pero en esencia no son más que estadísticas que llevan la idea de varianza un paso más allá: mientras que la varianza implica elevar al cuadrado las desviaciones de la media, la asimetría implica elevar al cubo las desviaciones de la media y la curtosis implica elevar las desviaciones de la media a la cuarta potencia.\n",
    "\n",
    "Pandas ha incorporado funciones para comprobar la asimetría y la curtosis, df.skew() y df.kurt() respectivamente:"
   ]
  },
  {
   "cell_type": "code",
   "execution_count": null,
   "metadata": {},
   "outputs": [],
   "source": [
    "mtcars[\"mpg\"].skew()  # Check skewness"
   ]
  },
  {
   "cell_type": "code",
   "execution_count": null,
   "metadata": {},
   "outputs": [],
   "source": [
    "mtcars[\"mpg\"].kurt()  # Check kurtosis"
   ]
  },
  {
   "cell_type": "markdown",
   "metadata": {},
   "source": [
    "Para explorar más a fondo estas dos medidas, vamos a crear algunos datos ficticios e inspeccionarlos:"
   ]
  },
  {
   "cell_type": "code",
   "execution_count": null,
   "metadata": {},
   "outputs": [],
   "source": [
    "norm_data = np.random.normal(size=100000)\n",
    "skewed_data = np.concatenate((np.random.normal(size=35000)+2, \n",
    "                             np.random.exponential(size=65000)), \n",
    "                             axis=0)\n",
    "uniform_data = np.random.uniform(0,2, size=100000)\n",
    "peaked_data = np.concatenate((np.random.exponential(size=50000),\n",
    "                             np.random.exponential(size=50000)*(-1)),\n",
    "                             axis=0)\n",
    "\n",
    "data_df = pd.DataFrame({\"norm\":norm_data,\n",
    "                       \"skewed\":skewed_data,\n",
    "                       \"uniform\":uniform_data,\n",
    "                       \"peaked\":peaked_data})"
   ]
  },
  {
   "cell_type": "code",
   "execution_count": null,
   "metadata": {},
   "outputs": [],
   "source": [
    "data_df.plot(kind=\"density\",\n",
    "            figsize=(10,10),\n",
    "            xlim=(-5,5));"
   ]
  },
  {
   "cell_type": "markdown",
   "metadata": {},
   "source": [
    "Ahora comprobemos la asimetría de cada una de las distribuciones. Como la asimetría se mide con la asimetría, esperaríamos ver una asimetría baja en todas las distribuciones excepto en la asimétrica, porque todas las demás son aproximadamente simétricas:"
   ]
  },
  {
   "cell_type": "code",
   "execution_count": null,
   "metadata": {},
   "outputs": [],
   "source": [
    "data_df.skew()"
   ]
  },
  {
   "cell_type": "markdown",
   "metadata": {},
   "source": [
    "Ahora comprobemos la curtosis."
   ]
  },
  {
   "cell_type": "code",
   "execution_count": null,
   "metadata": {},
   "outputs": [],
   "source": [
    "data_df.kurt()"
   ]
  },
  {
   "cell_type": "markdown",
   "metadata": {},
   "source": [
    "Como podemos ver en el resultado, los datos distribuidos normalmente tienen una curtosis cercana a cero, la distribución plana tiene una curtosis negativa y las dos distribuciones con más datos en las colas frente al centro tienen una curtosis más alta."
   ]
  },
  {
   "cell_type": "markdown",
   "metadata": {},
   "source": [
    "## Wrap Up"
   ]
  },
  {
   "cell_type": "markdown",
   "metadata": {},
   "source": [
    "Las estadísticas descriptivas ayudan a explorar las características de sus datos, como el centro, la dispersión y la forma, resumiéndolas con medidas numéricas. Los estadísticos descriptivos ayudan a orientar un análisis y permiten comunicar los resultados a otras personas de forma rápida y concisa. Además, determinados valores, como la media y la varianza, se utilizan en todo tipo de pruebas estadísticas y modelos predictivos.\n",
    "\n",
    "En esta lección, hemos generado muchos datos aleatorios para ilustrar conceptos, pero en realidad no hemos aprendido mucho sobre las funciones que hemos estado utilizando para generar datos aleatorios"
   ]
  },
  {
   "cell_type": "markdown",
   "metadata": {},
   "source": [
    "## Próxima lección: [Distribuciones de probabilidad](2-Distribuciones_de_probabilidad.ipynb)"
   ]
  }
 ],
 "metadata": {
  "kernelspec": {
   "display_name": "Python 3",
   "language": "python",
   "name": "python3"
  },
  "language_info": {
   "codemirror_mode": {
    "name": "ipython",
    "version": 3
   },
   "file_extension": ".py",
   "mimetype": "text/x-python",
   "name": "python",
   "nbconvert_exporter": "python",
   "pygments_lexer": "ipython3",
   "version": "3.11.9"
  }
 },
 "nbformat": 4,
 "nbformat_minor": 1
}
