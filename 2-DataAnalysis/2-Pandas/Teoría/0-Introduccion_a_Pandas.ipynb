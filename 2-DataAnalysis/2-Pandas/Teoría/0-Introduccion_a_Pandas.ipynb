{
 "cells": [
  {
   "cell_type": "markdown",
   "metadata": {},
   "source": [
    "# Manipulación de datos con Pandas"
   ]
  },
  {
   "cell_type": "markdown",
   "metadata": {},
   "source": [
    "En este notebook vamos a profundizar en este conocimiento mediante un análisis detallado de las estructuras de datos proporcionadas por la librería Pandas.\n",
    "Pandas es un paquete más reciente construido sobre NumPy, y proporciona una implementación eficiente de un ``DataFrame``.\n",
    "Los ``DataFrame`` son esencialmente matrices multidimensionales con etiquetas de fila y columna adjuntas, y a menudo con tipos heterogéneos y/o datos que faltan.\n",
    "Además de ofrecer una cómoda interfaz de almacenamiento para datos etiquetados, Pandas implementa una serie de potentes operaciones de datos familiares para los usuarios tanto de marcos de bases de datos como de programas de hojas de cálculo.\n",
    "\n",
    "Como hemos visto, la estructura de datos ``ndarray`` de NumPy proporciona características esenciales para el tipo de datos limpios y bien organizados que se ven típicamente en tareas de cálculo numérico.\n",
    "Aunque sirve muy bien a este propósito, sus limitaciones se hacen evidentes cuando necesitamos más flexibilidad (por ejemplo, adjuntar etiquetas a los datos, trabajar con datos que faltan, etc.) y cuando intentamos realizar operaciones que no se corresponden bien con la transmisión por elementos (por ejemplo, agrupaciones, pivotes, etc.), cada una de las cuales es una pieza importante del análisis de los datos menos estructurados disponibles en muchas formas en el mundo que nos rodea.\n",
    "Pandas, y en particular sus objetos ``Series`` y ``DataFrame``, se basa en la estructura de array de NumPy y proporciona un acceso eficiente a este tipo de tareas de \"manipulación de datos\" que ocupan gran parte del tiempo de un científico de datos.\n",
    "\n",
    "En este notebook, nos centraremos en la mecánica de uso de ``Series``, ``DataFrame``, y estructuras relacionadas de manera efectiva."
   ]
  },
  {
   "cell_type": "markdown",
   "metadata": {},
   "source": [
    "## Instalación y uso de Pandas\n",
    "\n",
    "La instalación de Pandas en su sistema requiere que NumPy esté instalado, y si se construye la librería desde el código fuente, requiere las herramientas apropiadas para compilar los fuentes C y Cython sobre los que se construye Pandas.\n",
    "Los detalles de esta instalación se pueden encontrar en la [documentación de Pandas](http://pandas.pydata.org/).\n",
    "\n",
    "```bash\n",
    "pip install pandas\n",
    "```\n",
    "\n",
    "```bash\n",
    "poetry add pandas\n",
    "```\n",
    "\n",
    "Una vez instalado Pandas, puede importarlo y comprobar la versión:"
   ]
  },
  {
   "cell_type": "code",
   "execution_count": null,
   "metadata": {
    "collapsed": false
   },
   "outputs": [],
   "source": [
    "import pandas\n",
    "pandas.__version__"
   ]
  },
  {
   "cell_type": "markdown",
   "metadata": {},
   "source": [
    "Así como generalmente importamos NumPy bajo el alias ``np``, importaremos Pandas bajo el alias ``pd``:"
   ]
  },
  {
   "cell_type": "code",
   "execution_count": null,
   "metadata": {
    "collapsed": true
   },
   "outputs": [],
   "source": [
    "import pandas as pd"
   ]
  },
  {
   "cell_type": "markdown",
   "metadata": {},
   "source": [
    "<!--NAVIGATION-->\n",
    "[Introducción a los objetos Pandas](1-Objetos_pandas.ipynb) >\n"
   ]
  }
 ],
 "metadata": {
  "anaconda-cloud": {},
  "kernelspec": {
   "display_name": "Python 3",
   "language": "python",
   "name": "python3"
  },
  "language_info": {
   "codemirror_mode": {
    "name": "ipython",
    "version": 3
   },
   "file_extension": ".py",
   "mimetype": "text/x-python",
   "name": "python",
   "nbconvert_exporter": "python",
   "pygments_lexer": "ipython3",
   "version": "3.11.9"
  }
 },
 "nbformat": 4,
 "nbformat_minor": 0
}
