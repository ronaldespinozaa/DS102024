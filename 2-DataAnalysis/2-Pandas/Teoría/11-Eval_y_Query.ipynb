{
 "cells": [
  {
   "cell_type": "markdown",
   "metadata": {},
   "source": [
    "# Pandas de alto rendimiento: eval() y query()"
   ]
  },
  {
   "cell_type": "markdown",
   "metadata": {},
   "source": [
    "Como ya hemos visto en notebook anteriores, la potencia de PyData se basa en la capacidad de NumPy y Pandas para introducir operaciones básicas en C a través de una sintaxis intuitiva: algunos ejemplos son las operaciones vectorizadas/transmitidas en NumPy, y las operaciones de tipo agrupación en Pandas.\n",
    "Aunque estas abstracciones son eficientes y eficaces para muchos casos de uso común, a menudo dependen de la creación de objetos intermedios temporales, que pueden causar una sobrecarga indebida en el tiempo de cálculo y el uso de memoria.\n",
    "\n",
    "Pandas incluye algunas herramientas que permiten acceder directamente a operaciones de velocidad C sin la costosa asignación de arrays intermedios.\n",
    "Se trata de las funciones ``eval()`` y ``query()``.\n",
    "En este cuaderno repasaremos su uso y daremos algunas reglas sobre cuándo deberías pensar en usarlas."
   ]
  },
  {
   "cell_type": "markdown",
   "metadata": {},
   "source": [
    "## Motivación de ``query()`` y ``eval()``: Expresiones compuestas\n",
    "\n",
    "Hemos visto anteriormente que NumPy y Pandas soportan operaciones vectoriales rápidas; por ejemplo, al sumar los elementos de dos arrays:"
   ]
  },
  {
   "cell_type": "code",
   "execution_count": null,
   "metadata": {
    "collapsed": false
   },
   "outputs": [],
   "source": [
    "import numpy as np\n",
    "rng = np.random.RandomState(42)\n",
    "x = rng.rand(1000000)\n",
    "y = rng.rand(1000000)\n",
    "%timeit x + y"
   ]
  },
  {
   "cell_type": "markdown",
   "metadata": {},
   "source": [
    "Esto es mucho más rápido que hacer la suma mediante un bucle o comprensión de Python:"
   ]
  },
  {
   "cell_type": "code",
   "execution_count": null,
   "metadata": {
    "collapsed": false
   },
   "outputs": [],
   "source": [
    "%timeit np.fromiter((xi + yi for xi, yi in zip(x, y)), dtype=x.dtype, count=len(x))"
   ]
  },
  {
   "cell_type": "markdown",
   "metadata": {},
   "source": [
    "Pero esta abstracción puede perder eficacia al calcular expresiones compuestas.\n",
    "Por ejemplo, considere la siguiente expresión:"
   ]
  },
  {
   "cell_type": "code",
   "execution_count": null,
   "metadata": {
    "collapsed": true
   },
   "outputs": [],
   "source": [
    "mask = (x > 0.5) & (y < 0.5)"
   ]
  },
  {
   "cell_type": "markdown",
   "metadata": {},
   "source": [
    "Dado que NumPy evalúa cada subexpresión, esto equivale aproximadamente a lo siguiente:"
   ]
  },
  {
   "cell_type": "code",
   "execution_count": null,
   "metadata": {
    "collapsed": true
   },
   "outputs": [],
   "source": [
    "tmp1 = (x > 0.5)\n",
    "tmp2 = (y < 0.5)\n",
    "mask = tmp1 & tmp2"
   ]
  },
  {
   "cell_type": "markdown",
   "metadata": {},
   "source": [
    "El beneficio aquí es que evalúa la expresión de una manera que no utiliza arrays temporales de tamaño completo, y por lo tanto puede ser mucho más eficiente que NumPy, especialmente para arrays grandes."
   ]
  },
  {
   "cell_type": "markdown",
   "metadata": {},
   "source": [
    "## ``pandas.eval()`` para operaciones eficientes\n",
    "\n",
    "La función ``eval()`` de Pandas utiliza expresiones de cadena para calcular eficientemente operaciones utilizando ``DataFrame``.\n",
    "Por ejemplo, considera los siguientes ``DataFrame``:"
   ]
  },
  {
   "cell_type": "code",
   "execution_count": null,
   "metadata": {
    "collapsed": false
   },
   "outputs": [],
   "source": [
    "import pandas as pd\n",
    "nrows, ncols = 100000, 100\n",
    "rng = np.random.RandomState(42)\n",
    "df1, df2, df3, df4 = (pd.DataFrame(rng.rand(nrows, ncols))\n",
    "                      for i in range(4))"
   ]
  },
  {
   "cell_type": "markdown",
   "metadata": {},
   "source": [
    "Para calcular la suma de los cuatro ``DataFrame`` utilizando el enfoque típico de Pandas, podemos simplemente escribir la suma:"
   ]
  },
  {
   "cell_type": "code",
   "execution_count": null,
   "metadata": {
    "collapsed": false
   },
   "outputs": [],
   "source": [
    "%timeit df1 + df2 + df3 + df4"
   ]
  },
  {
   "cell_type": "markdown",
   "metadata": {},
   "source": [
    "El mismo resultado puede calcularse mediante ``pd.eval`` construyendo la expresión como una string:"
   ]
  },
  {
   "cell_type": "code",
   "execution_count": null,
   "metadata": {
    "collapsed": false
   },
   "outputs": [],
   "source": [
    "%timeit pd.eval('df1 + df2 + df3 + df4')"
   ]
  },
  {
   "cell_type": "markdown",
   "metadata": {},
   "source": [
    "La versión ``eval()`` de esta expresión es aproximadamente un 50% más rápida (y utiliza mucha menos memoria), pero da el mismo resultado:"
   ]
  },
  {
   "cell_type": "code",
   "execution_count": null,
   "metadata": {
    "collapsed": false
   },
   "outputs": [],
   "source": [
    "np.allclose(df1 + df2 + df3 + df4,\n",
    "            pd.eval('df1 + df2 + df3 + df4'))"
   ]
  },
  {
   "cell_type": "markdown",
   "metadata": {},
   "source": [
    "### Operaciones soportadas por ``pd.eval()``\n",
    "\n",
    "Pandas ``pd.eval()`` soporta un amplio rango de operaciones.\n",
    "Para demostrarlas, usaremos los siguientes ``DataFrame`` enteros:"
   ]
  },
  {
   "cell_type": "code",
   "execution_count": null,
   "metadata": {
    "collapsed": true
   },
   "outputs": [],
   "source": [
    "df1, df2, df3, df4, df5 = (pd.DataFrame(rng.randint(0, 1000, (100, 3)))\n",
    "                           for i in range(5))"
   ]
  },
  {
   "cell_type": "markdown",
   "metadata": {},
   "source": [
    "#### Operadores aritméticos\n",
    "``pd.eval()`` soporta todos los operadores aritméticos. Por ejemplo:"
   ]
  },
  {
   "cell_type": "code",
   "execution_count": null,
   "metadata": {
    "collapsed": false
   },
   "outputs": [],
   "source": [
    "result1 = -df1 * df2 / (df3 + df4) - df5\n",
    "result2 = pd.eval('-df1 * df2 / (df3 + df4) - df5')\n",
    "np.allclose(result1, result2)"
   ]
  },
  {
   "cell_type": "markdown",
   "metadata": {},
   "source": [
    "#### Operadores de comparación\n",
    "``pd.eval()`` soporta todos los operadores de comparación, incluidas las expresiones encadenadas:"
   ]
  },
  {
   "cell_type": "code",
   "execution_count": null,
   "metadata": {
    "collapsed": false
   },
   "outputs": [],
   "source": [
    "result1 = (df1 < df2) & (df2 <= df3) & (df3 != df4)\n",
    "result2 = pd.eval('df1 < df2 <= df3 != df4')\n",
    "np.allclose(result1, result2)"
   ]
  },
  {
   "cell_type": "markdown",
   "metadata": {},
   "source": [
    "#### Operadores bit a bit\n",
    "``pd.eval()`` soporta los operadores bit a bit ``&`` y ``|``:"
   ]
  },
  {
   "cell_type": "code",
   "execution_count": null,
   "metadata": {
    "collapsed": false
   },
   "outputs": [],
   "source": [
    "result1 = (df1 < 0.5) & (df2 < 0.5) | (df3 < df4)\n",
    "result2 = pd.eval('(df1 < 0.5) & (df2 < 0.5) | (df3 < df4)')\n",
    "np.allclose(result1, result2)"
   ]
  },
  {
   "cell_type": "markdown",
   "metadata": {},
   "source": [
    "Además, admite el uso de los literales ``and`` y ``or`` en expresiones booleanas:"
   ]
  },
  {
   "cell_type": "code",
   "execution_count": null,
   "metadata": {
    "collapsed": false
   },
   "outputs": [],
   "source": [
    "result3 = pd.eval('(df1 < 0.5) and (df2 < 0.5) or (df3 < df4)')\n",
    "np.allclose(result1, result3)"
   ]
  },
  {
   "cell_type": "markdown",
   "metadata": {},
   "source": [
    "#### Atributos e índices de objetos\n",
    "\n",
    "``pd.eval()`` permite acceder a los atributos de los objetos mediante la sintaxis ``obj.attr``, y a los índices mediante la sintaxis ``obj[index]``:"
   ]
  },
  {
   "cell_type": "code",
   "execution_count": null,
   "metadata": {
    "collapsed": false
   },
   "outputs": [],
   "source": [
    "result1 = df2.T[0] + df3.iloc[1]\n",
    "result2 = pd.eval('df2.T[0] + df3.iloc[1]')\n",
    "np.allclose(result1, result2)"
   ]
  },
  {
   "cell_type": "markdown",
   "metadata": {},
   "source": [
    "## ``DataFrame.eval()`` para operaciones por columnas\n",
    "\n",
    "Al igual que Pandas tiene una función de alto nivel ``pd.eval()``, ``DataFrame`` tiene un método ``eval()`` que funciona de manera similar.\n",
    "La ventaja del método ``eval()`` es que se puede hacer referencia a las columnas *por su nombre*.\n",
    "Usaremos este array etiquetado como ejemplo:"
   ]
  },
  {
   "cell_type": "code",
   "execution_count": null,
   "metadata": {
    "collapsed": false
   },
   "outputs": [],
   "source": [
    "df = pd.DataFrame(rng.rand(1000, 3), columns=['A', 'B', 'C'])\n",
    "df.head()"
   ]
  },
  {
   "cell_type": "markdown",
   "metadata": {},
   "source": [
    "Usando ``pd.eval()`` como arriba, podemos calcular expresiones con las tres columnas así:"
   ]
  },
  {
   "cell_type": "code",
   "execution_count": null,
   "metadata": {
    "collapsed": false
   },
   "outputs": [],
   "source": [
    "result1 = (df['A'] + df['B']) / (df['C'] - 1)\n",
    "result2 = pd.eval(\"(df.A + df.B) / (df.C - 1)\")\n",
    "np.allclose(result1, result2)"
   ]
  },
  {
   "cell_type": "markdown",
   "metadata": {},
   "source": [
    "El método ``DataFrame.eval()`` permite una evaluación mucho más sucinta de las expresiones con las columnas:"
   ]
  },
  {
   "cell_type": "code",
   "execution_count": null,
   "metadata": {
    "collapsed": false
   },
   "outputs": [],
   "source": [
    "result3 = df.eval('(A + B) / (C - 1)')\n",
    "np.allclose(result1, result3)"
   ]
  },
  {
   "cell_type": "markdown",
   "metadata": {},
   "source": [
    "Observe que aquí tratamos los *nombres de columna como variables* dentro de la expresión evaluada, y el resultado es el que desearíamos."
   ]
  },
  {
   "cell_type": "markdown",
   "metadata": {},
   "source": [
    "### Asignación en DataFrame.eval()\n",
    "\n",
    "Además de las opciones que acabamos de discutir, ``DataFrame.eval()`` también permite la asignación a cualquier columna.\n",
    "Usemos el ``DataFrame`` de antes, que tiene las columnas ``'A'``, ``'B'``, y ``'C'``:"
   ]
  },
  {
   "cell_type": "code",
   "execution_count": null,
   "metadata": {
    "collapsed": false
   },
   "outputs": [],
   "source": [
    "df.head()"
   ]
  },
  {
   "cell_type": "markdown",
   "metadata": {},
   "source": [
    "Podemos utilizar ``df.eval()`` para crear una nueva columna ``'D'`` y asignarle un valor calculado a partir de las otras columnas:"
   ]
  },
  {
   "cell_type": "code",
   "execution_count": null,
   "metadata": {
    "collapsed": false
   },
   "outputs": [],
   "source": [
    "df.eval('D = (A + B) / C', inplace=True)\n",
    "df.head()"
   ]
  },
  {
   "cell_type": "markdown",
   "metadata": {},
   "source": [
    "Del mismo modo, puede modificarse cualquier columna existente:"
   ]
  },
  {
   "cell_type": "code",
   "execution_count": null,
   "metadata": {
    "collapsed": false
   },
   "outputs": [],
   "source": [
    "df.eval('D = (A - B) / C', inplace=True)\n",
    "df.head()"
   ]
  },
  {
   "cell_type": "markdown",
   "metadata": {},
   "source": [
    "### Variables locales en DataFrame.eval()\n",
    "\n",
    "El método ``DataFrame.eval()`` soporta una sintaxis adicional que le permite trabajar con variables locales de Python."
   ]
  },
  {
   "cell_type": "code",
   "execution_count": null,
   "metadata": {
    "collapsed": false
   },
   "outputs": [],
   "source": [
    "column_mean = df.mean(1)\n",
    "result1 = df['A'] + column_mean\n",
    "result2 = df.eval('A + @column_mean')\n",
    "np.allclose(result1, result2)"
   ]
  },
  {
   "cell_type": "markdown",
   "metadata": {},
   "source": [
    "El carácter ``@`` marca aquí un *nombre de variable* en lugar de un *nombre de columna*, y te permite evaluar eficientemente expresiones que involucran los dos \"espacios de nombres\": el espacio de nombres de las columnas, y el espacio de nombres de los objetos Python.\n",
    "Ten en cuenta que este carácter ``@`` sólo está soportado por el método ``DataFrame.eval()`` *method*, no por la función ``pandas.eval()`` *function*, porque la función ``pandas.eval()`` sólo tiene acceso a un espacio de nombres (Python)."
   ]
  },
  {
   "cell_type": "markdown",
   "metadata": {},
   "source": [
    "## Método DataFrame.query()\n",
    "\n",
    "El ``DataFrame`` tiene otro método basado en cadenas evaluadas, llamado método ``query()``.\n",
    "Considera lo siguiente:"
   ]
  },
  {
   "cell_type": "code",
   "execution_count": null,
   "metadata": {
    "collapsed": false
   },
   "outputs": [],
   "source": [
    "result1 = df[(df.A < 0.5) & (df.B < 0.5)]\n",
    "result2 = pd.eval('df[(df.A < 0.5) & (df.B < 0.5)]')\n",
    "np.allclose(result1, result2)"
   ]
  },
  {
   "cell_type": "markdown",
   "metadata": {},
   "source": [
    "Al igual que en el ejemplo utilizado anteriormente sobre ``DataFrame.eval()``, se trata de una expresión que implica columnas del ``DataFrame``.\n",
    "Sin embargo, no puede expresarse utilizando la sintaxis ``DataFrame.eval()``.\n",
    "En su lugar, para este tipo de operación de filtrado, puedes utilizar el método ``query()``:"
   ]
  },
  {
   "cell_type": "code",
   "execution_count": null,
   "metadata": {
    "collapsed": false
   },
   "outputs": [],
   "source": [
    "result2 = df.query('A < 0.5 and B < 0.5')\n",
    "np.allclose(result1, result2)"
   ]
  },
  {
   "cell_type": "markdown",
   "metadata": {},
   "source": [
    "Además de ser un cálculo más eficiente, comparado con la expresión de enmascaramiento es mucho más fácil de leer y entender.\n",
    "Tenga en cuenta que el método ``query()`` también acepta la bandera ``@`` para marcar variables locales:"
   ]
  },
  {
   "cell_type": "code",
   "execution_count": null,
   "metadata": {
    "collapsed": false
   },
   "outputs": [],
   "source": [
    "Cmean = df['C'].mean()\n",
    "result1 = df[(df.A < Cmean) & (df.B < Cmean)]\n",
    "result2 = df.query('A < @Cmean and B < @Cmean')\n",
    "np.allclose(result1, result2)"
   ]
  },
  {
   "cell_type": "markdown",
   "metadata": {},
   "source": [
    "## Rendimiento: Cuándo utilizar estas funciones\n",
    "\n",
    "A la hora de considerar si utilizar o no estas funciones, hay dos consideraciones: *tiempo de cálculo* y *uso de memoria*.\n",
    "El uso de memoria es el aspecto más predecible. Como ya se ha mencionado, cada expresión compuesta que involucre arrays de NumPy o ``DataFrame``s de Pandas resultará en la creación implícita de arrays temporales:"
   ]
  },
  {
   "cell_type": "code",
   "execution_count": null,
   "metadata": {
    "collapsed": true
   },
   "outputs": [],
   "source": [
    "x = df[(df.A < 0.5) & (df.B < 0.5)]"
   ]
  },
  {
   "cell_type": "markdown",
   "metadata": {},
   "source": [
    "es aproximadamente equivalente a esto:"
   ]
  },
  {
   "cell_type": "code",
   "execution_count": null,
   "metadata": {
    "collapsed": false
   },
   "outputs": [],
   "source": [
    "tmp1 = df.A < 0.5\n",
    "tmp2 = df.B < 0.5\n",
    "tmp3 = tmp1 & tmp2\n",
    "x = df[tmp3]"
   ]
  },
  {
   "cell_type": "markdown",
   "metadata": {},
   "source": [
    "Si el tamaño del ``DataFrame`` temporal es significativo comparado con la memoria disponible de tu sistema (normalmente varios gigabytes) entonces es una buena idea usar una expresión ``eval()`` o ``query()``.\n",
    "Puedes comprobar el tamaño aproximado de tu array en bytes usando esto:"
   ]
  },
  {
   "cell_type": "code",
   "execution_count": null,
   "metadata": {
    "collapsed": false
   },
   "outputs": [],
   "source": [
    "df.values.nbytes"
   ]
  },
  {
   "cell_type": "markdown",
   "metadata": {},
   "source": [
    "Desde el punto de vista del rendimiento, ``eval()`` puede ser más rápido incluso cuando no se está maximizando la memoria del sistema.\n",
    "La cuestión es cómo se comparan tus ``DataFrame`` temporales con el tamaño de la caché L1 o L2 de la CPU en tu sistema (normalmente unos pocos megabytes en 2016); si son mucho más grandes, entonces ``eval()`` puede evitar algún movimiento potencialmente lento de valores entre las diferentes cachés de memoria.\n",
    "En la práctica, encuentro que la diferencia en tiempo de cálculo entre los métodos tradicionales y el método ``eval``/``query`` no suele ser significativa; en todo caso, el método tradicional es más rápido para matrices más pequeñas.\n",
    "El beneficio de ``eval``/``query`` es principalmente el ahorro de memoria, y la sintaxis a veces más limpia que ofrecen.\n",
    "\n",
    "Hemos cubierto la mayoría de los detalles de ``eval()`` y ``query()`` aquí; para más información sobre ellos, puedes consultar la documentación de Pandas.\n",
    "En particular, se pueden especificar diferentes analizadores sintácticos y motores para ejecutar estas consultas; para más detalles sobre esto, vea la discusión dentro de la sección [\"Enhancing Performance\"](https://pandas.pydata.org/pandas-docs/dev/user_guide/enhancingperf.html)."
   ]
  },
  {
   "cell_type": "markdown",
   "metadata": {},
   "source": [
    "<!--NAVIGATION-->\n",
    "< [Trabajando con TimeSeries](10-Trabajar_con_TimeSeries.ipynb)\n"
   ]
  }
 ],
 "metadata": {
  "anaconda-cloud": {},
  "kernelspec": {
   "display_name": "Python 3",
   "language": "python",
   "name": "python3"
  },
  "language_info": {
   "codemirror_mode": {
    "name": "ipython",
    "version": 3
   },
   "file_extension": ".py",
   "mimetype": "text/x-python",
   "name": "python",
   "nbconvert_exporter": "python",
   "pygments_lexer": "ipython3",
   "version": "3.11.9"
  }
 },
 "nbformat": 4,
 "nbformat_minor": 0
}
