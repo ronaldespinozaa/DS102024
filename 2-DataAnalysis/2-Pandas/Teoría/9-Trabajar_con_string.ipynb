{
 "cells": [
  {
   "cell_type": "markdown",
   "metadata": {},
   "source": [
    "# Operaciones vectorizadas con string"
   ]
  },
  {
   "cell_type": "markdown",
   "metadata": {},
   "source": [
    "Uno de los puntos fuertes de Python es su relativa facilidad para manejar y manipular datos de cadenas.\n",
    "Pandas se basa en esto y proporciona un conjunto completo de *operaciones vectorizadas de string* que se convierten en una pieza esencial del tipo de manipulación necesaria cuando se trabaja con (léase: limpieza) datos del mundo real.\n",
    "En esta sección, recorreremos algunas de las operaciones de cadena de Pandas, y luego echaremos un vistazo a su uso para limpiar parcialmente un conjunto de datos muy desordenado de recetas recogidas de Internet."
   ]
  },
  {
   "cell_type": "markdown",
   "metadata": {},
   "source": [
    "## Introducción a las operaciones de string de Pandas\n",
    "\n",
    "Hemos visto en secciones anteriores cómo herramientas como NumPy y Pandas generalizan las operaciones aritméticas para que podamos realizar fácil y rápidamente la misma operación sobre muchos elementos de un array. Por ejemplo:"
   ]
  },
  {
   "cell_type": "code",
   "execution_count": null,
   "metadata": {
    "collapsed": false
   },
   "outputs": [],
   "source": [
    "import numpy as np\n",
    "x = np.array([2, 3, 5, 7, 11, 13])\n",
    "x * 2"
   ]
  },
  {
   "cell_type": "markdown",
   "metadata": {},
   "source": [
    "Esta *vectorización* de las operaciones simplifica la sintaxis para operar con matrices de datos: ya no tenemos que preocuparnos por el tamaño o la forma de la matriz, sino sólo por la operación que queremos realizar.\n",
    "Para matrices de cadenas, NumPy no proporciona un acceso tan simple, y por lo tanto estás atascado usando una sintaxis de bucle más largas:"
   ]
  },
  {
   "cell_type": "code",
   "execution_count": null,
   "metadata": {
    "collapsed": false
   },
   "outputs": [],
   "source": [
    "data = ['peter', 'Paul', 'MARY', 'aLEX']\n",
    "[s.capitalize() for s in data]"
   ]
  },
  {
   "cell_type": "markdown",
   "metadata": {},
   "source": [
    "Esto puede ser suficiente para trabajar con algunos datos, pero se romperá si hay valores perdidos.\n",
    "Por ejemplo:"
   ]
  },
  {
   "cell_type": "code",
   "execution_count": null,
   "metadata": {
    "collapsed": false
   },
   "outputs": [],
   "source": [
    "data = ['peter', 'Paul', None, 'MARY', 'aLEX']\n",
    "[s.capitalize() for s in data]"
   ]
  },
  {
   "cell_type": "markdown",
   "metadata": {},
   "source": [
    "Pandas incluye características para hacer frente tanto a esta necesidad de operaciones vectorizadas de string como para manejar correctamente los datos que faltan a través del atributo ``str`` de los objetos Series e Index de Pandas que contienen string.\n",
    "Así, por ejemplo, supongamos que creamos una Serie Pandas con estos datos:"
   ]
  },
  {
   "cell_type": "code",
   "execution_count": null,
   "metadata": {
    "collapsed": false
   },
   "outputs": [],
   "source": [
    "import pandas as pd\n",
    "names = pd.Series(data)\n",
    "names"
   ]
  },
  {
   "cell_type": "markdown",
   "metadata": {},
   "source": [
    "Ahora podemos llamar a un único método que pondrá en mayúsculas todas las entradas, saltándose los valores que falten:"
   ]
  },
  {
   "cell_type": "code",
   "execution_count": null,
   "metadata": {
    "collapsed": false
   },
   "outputs": [],
   "source": [
    "names.str.capitalize()"
   ]
  },
  {
   "cell_type": "markdown",
   "metadata": {},
   "source": [
    "Usando el tabulador en este atributo ``str`` listará todos los métodos vectorizados de string disponibles para Pandas."
   ]
  },
  {
   "cell_type": "markdown",
   "metadata": {},
   "source": [
    "## Tablas de métodos de string de Pandas\n",
    "\n",
    "Si tiene una buena comprensión de la manipulación de string en Python, la mayor parte de la sintaxis de string de Pandas es lo suficientemente intuitiva como para que probablemente sea suficiente con listar una tabla de métodos disponibles; empezaremos con eso aquí, antes de profundizar en algunas de las sutilezas.\n",
    "Los ejemplos de esta sección utilizan la siguiente serie de nombres:"
   ]
  },
  {
   "cell_type": "code",
   "execution_count": null,
   "metadata": {
    "collapsed": true
   },
   "outputs": [],
   "source": [
    "monte = pd.Series(['Graham Chapman', 'John Cleese', 'Terry Gilliam',\n",
    "                   'Eric Idle', 'Terry Jones', 'Michael Palin'])"
   ]
  },
  {
   "cell_type": "markdown",
   "metadata": {},
   "source": [
    "### Métodos similares a los métodos de string de Python\n",
    "\n",
    "Casi todos los métodos de string incorporados en Python son reflejados por un método de string vectorizado de Pandas. Aquí hay una lista de métodos ``str`` de Pandas que reflejan métodos de string de Python:\n",
    "\n",
    "|             |                  |                  |                  |\n",
    "|-------------|------------------|------------------|------------------|\n",
    "|``len()``    | ``lower()``      | ``translate()``  | ``islower()``    | \n",
    "|``ljust()``  | ``upper()``      | ``startswith()`` | ``isupper()``    | \n",
    "|``rjust()``  | ``find()``       | ``endswith()``   | ``isnumeric()``  | \n",
    "|``center()`` | ``rfind()``      | ``isalnum()``    | ``isdecimal()``  | \n",
    "|``zfill()``  | ``index()``      | ``isalpha()``    | ``split()``      | \n",
    "|``strip()``  | ``rindex()``     | ``isdigit()``    | ``rsplit()``     | \n",
    "|``rstrip()`` | ``capitalize()`` | ``isspace()``    | ``partition()``  | \n",
    "|``lstrip()`` |  ``swapcase()``  |  ``istitle()``   | ``rpartition()`` |\n",
    "\n",
    "Observa que tienen varios valores de retorno. Algunos, como ``lower()``, devuelven una serie de string:"
   ]
  },
  {
   "cell_type": "code",
   "execution_count": null,
   "metadata": {
    "collapsed": false
   },
   "outputs": [],
   "source": [
    "monte.str.lower()"
   ]
  },
  {
   "cell_type": "markdown",
   "metadata": {},
   "source": [
    "Pero otros devuelven números:"
   ]
  },
  {
   "cell_type": "code",
   "execution_count": null,
   "metadata": {
    "collapsed": false
   },
   "outputs": [],
   "source": [
    "monte.str.len()"
   ]
  },
  {
   "cell_type": "markdown",
   "metadata": {},
   "source": [
    "O valores booleanos:"
   ]
  },
  {
   "cell_type": "code",
   "execution_count": null,
   "metadata": {
    "collapsed": false
   },
   "outputs": [],
   "source": [
    "monte.str.startswith('T')"
   ]
  },
  {
   "cell_type": "markdown",
   "metadata": {},
   "source": [
    "Otros devuelven listas u otros valores compuestos para cada elemento:"
   ]
  },
  {
   "cell_type": "code",
   "execution_count": null,
   "metadata": {
    "collapsed": false
   },
   "outputs": [],
   "source": [
    "monte.str.split()"
   ]
  },
  {
   "cell_type": "markdown",
   "metadata": {},
   "source": [
    "Veremos más manipulaciones de este tipo de objeto serie-de-listas a medida que continuemos."
   ]
  },
  {
   "cell_type": "markdown",
   "metadata": {},
   "source": [
    "### Métodos que utilizan expresiones regulares\n",
    "\n",
    "Además, hay varios métodos que aceptan expresiones regulares para examinar el contenido de cada elemento de string, y siguen algunas de las convenciones de la API del módulo incorporado ``re`` de Python:\n",
    "\n",
    "| Método | Descripción |\n",
    "|--------|-------------|\n",
    "| ``match()`` | Llama a ``re.match()`` en cada elemento, devolviendo un booleano. |\n",
    "| ``extract()`` | Llama a ``re.match()`` en cada elemento, devolviendo los grupos coincidentes como strings.|\n",
    "| ``findall()`` | Llama a ``re.findall()`` en cada elemento |\n",
    "| ``replace()`` | Sustituir las ocurrencias del patrón por otra string|\n",
    "| ``contains()`` | Llama a ``re.search()`` en cada elemento, devolviendo un booleano |\n",
    "| ``count()`` | Contar ocurrencias del patrón|\n",
    "| ``split()``   | Equivalente a ``str.split()``, pero acepta expresiones regulares |\n",
    "| ``rsplit()`` | Equivalente a ``str.rsplit()``, pero acepta expresiones regulares |"
   ]
  },
  {
   "cell_type": "markdown",
   "metadata": {},
   "source": [
    "Con ellas se puede hacer una amplia gama de operaciones interesantes.\n",
    "Por ejemplo, podemos extraer el nombre de pila de cada uno pidiendo un grupo contiguo de caracteres al principio de cada elemento:"
   ]
  },
  {
   "cell_type": "code",
   "execution_count": null,
   "metadata": {
    "collapsed": false
   },
   "outputs": [],
   "source": [
    "monte.str.extract('([A-Za-z]+)', expand=False)"
   ]
  },
  {
   "cell_type": "markdown",
   "metadata": {},
   "source": [
    "O podemos hacer algo más complicado, como buscar todos los nombres que empiecen y acaben por consonante, haciendo uso de los caracteres de expresión regular de inicio de string (``^``) y final de string (``$``):"
   ]
  },
  {
   "cell_type": "code",
   "execution_count": null,
   "metadata": {
    "collapsed": false
   },
   "outputs": [],
   "source": [
    "monte.str.findall(r'^[^AEIOU].*[^aeiou]$')"
   ]
  },
  {
   "cell_type": "markdown",
   "metadata": {},
   "source": [
    "La posibilidad de aplicar de forma concisa expresiones regulares a las entradas de ``Series`` o ``Dataframe`` abre muchas posibilidades de análisis y limpieza de datos."
   ]
  },
  {
   "cell_type": "markdown",
   "metadata": {},
   "source": [
    "### Métodos diversos\n",
    "\n",
    "Por último, hay algunos métodos diversos que permiten realizar otras operaciones convenientes:\n",
    "\n",
    "| Método | Descripción |\n",
    "|--------|-------------|\n",
    "| ``get()`` | Indexar cada elemento |\n",
    "| ``slice()`` | Cortar cada elemento|\n",
    "| ``slice_replace()`` | Reemplazar la rebanada en cada elemento con el valor pasado|\n",
    "| ``cat()``      | Concatenar string|\n",
    "| ``repeat()`` | Valores de repetición |\n",
    "| ``normalize()`` | Devuelve la forma Unicode de la cadena |\n",
    "| ``pad()`` | Añadir espacios en blanco a la izquierda, a la derecha o a ambos lados de las string|\n",
    "| ``wrap()`` | Dividir string largas en líneas de longitud inferior a una anchura determinada|\n",
    "| ``join()`` | Une las string de cada elemento de la Serie con el separador pasado|\n",
    "| ``get_dummies()`` | extraer variables ficticias como marco de datos |"
   ]
  },
  {
   "cell_type": "markdown",
   "metadata": {},
   "source": [
    "#### Acceso vectorial a los artículos y troceado\n",
    "\n",
    "Las operaciones ``get()`` y ``slice()``, en particular, permiten el acceso vectorizado a los elementos de cada array.\n",
    "Por ejemplo, podemos obtener una porción de los tres primeros caracteres de cada matriz utilizando ``str.slice(0, 3)``."
   ]
  },
  {
   "cell_type": "code",
   "execution_count": null,
   "metadata": {
    "collapsed": false
   },
   "outputs": [],
   "source": [
    "monte.str[0:3]"
   ]
  },
  {
   "cell_type": "markdown",
   "metadata": {},
   "source": [
    "La indexación mediante ``df.str.get(i)`` y ``df.str[i]`` también es similar.\n",
    "\n",
    "Estos métodos ``get()`` y ``slice()`` también permiten acceder a los elementos de las matrices devueltas por ``split()``.\n",
    "Por ejemplo, para extraer el apellido de cada entrada, podemos combinar ``split()`` y ``get()``:"
   ]
  },
  {
   "cell_type": "code",
   "execution_count": null,
   "metadata": {
    "collapsed": false
   },
   "outputs": [],
   "source": [
    "monte.str.split().str.get(-1)"
   ]
  },
  {
   "cell_type": "markdown",
   "metadata": {},
   "source": [
    "#### Variables indicadoras\n",
    "\n",
    "Otro método que requiere una explicación adicional es el método ``get_dummies()``.\n",
    "Es útil cuando los datos tienen una columna que contiene algún tipo de indicador codificado.\n",
    "Por ejemplo, podemos tener un conjunto de datos que contenga información en forma de códigos, como A=\"nacido en América\", B=\"nacido en el Reino Unido\", C=\"le gusta el queso\", D=\"le gusta el spam\":"
   ]
  },
  {
   "cell_type": "code",
   "execution_count": null,
   "metadata": {
    "collapsed": false
   },
   "outputs": [],
   "source": [
    "full_monte = pd.DataFrame({'name': monte,\n",
    "                           'info': ['B|C|D', 'B|D', 'A|C',\n",
    "                                    'B|D', 'B|C', 'B|C|D']})\n",
    "full_monte"
   ]
  },
  {
   "cell_type": "markdown",
   "metadata": {},
   "source": [
    "La rutina ``get_dummies()`` permite dividir rápidamente estas variables indicadoras en un ``DataFrame``:"
   ]
  },
  {
   "cell_type": "code",
   "execution_count": null,
   "metadata": {
    "collapsed": false
   },
   "outputs": [],
   "source": [
    "full_monte['info'].str.get_dummies('|')"
   ]
  },
  {
   "cell_type": "markdown",
   "metadata": {},
   "source": [
    "Con estas operaciones como bloques de construcción, puede construir una gama interminable de procedimientos de procesamiento de string al limpiar sus datos."
   ]
  },
  {
   "cell_type": "markdown",
   "metadata": {},
   "source": [
    "## Ejemplo: Base de datos de recetas\n",
    "\n",
    "Estas operaciones vectoriales de cadenas resultan muy útiles en el proceso de limpieza de datos desordenados del mundo real.\n",
    "Aquí veremos un ejemplo, utilizando una base de datos abierta de recetas compilada a partir de varias fuentes de la Web.\n",
    "Nuestro objetivo será analizar los datos de la receta en listas de ingredientes, para que podamos encontrar rápidamente una receta basada en algunos ingredientes que tenemos a mano.\n",
    "\n",
    "Desde la primavera de 2016, esta base de datos ocupa unos 30 MB, y se puede descargar y descomprimir con estos comandos:"
   ]
  },
  {
   "cell_type": "code",
   "execution_count": null,
   "metadata": {
    "collapsed": false
   },
   "outputs": [],
   "source": [
    "# !curl -L -o data/recipeitems-latest.json-full.zip https://github.com/sameergarg/scala-elasticsearch/raw/master/conf/recipeitems-latest.json-full.zip"
   ]
  },
  {
   "cell_type": "code",
   "execution_count": null,
   "metadata": {},
   "outputs": [],
   "source": [
    "import zipfile\n",
    "\n",
    "# Ruta del archivo descargado\n",
    "zip_path = 'data/recipeitems-latest.json-full.zip'\n",
    "# Directorio donde se descomprimirá\n",
    "extract_dir = 'data/'\n",
    "\n",
    "# Descomprimir usando zipfile\n",
    "with zipfile.ZipFile(zip_path, 'r') as zip_ref:\n",
    "    zip_ref.extractall(extract_dir)\n",
    "\n",
    "print(f\"Archivo descomprimido en: {extract_dir}\")"
   ]
  },
  {
   "cell_type": "markdown",
   "metadata": {},
   "source": [
    "La base de datos está en formato JSON, así que probaremos ``pd.read_json`` para leerla:"
   ]
  },
  {
   "cell_type": "code",
   "execution_count": null,
   "metadata": {
    "collapsed": false
   },
   "outputs": [],
   "source": [
    "try:\n",
    "    recipes = pd.read_json('data/recipeitems-latest.json')\n",
    "except ValueError as e:\n",
    "    print(\"ValueError:\", e)"
   ]
  },
  {
   "cell_type": "markdown",
   "metadata": {},
   "source": [
    "¡Uy! Obtenemos un ``ValueError`` mencionando que hay \"trailing data\".\n",
    "Buscando el texto de este error en Internet, parece que se debe a usar un fichero en el que *cada línea* es en sí misma un JSON válido, pero el fichero completo no lo es.\n",
    "Comprobemos si esta interpretación es cierta:"
   ]
  },
  {
   "cell_type": "code",
   "execution_count": null,
   "metadata": {
    "collapsed": false
   },
   "outputs": [],
   "source": [
    "from io import StringIO\n",
    "with open('data/recipeitems-latest.json') as f:\n",
    "    line = f.readline()\n",
    "\n",
    "df = pd.read_json(StringIO(line))"
   ]
  },
  {
   "cell_type": "markdown",
   "metadata": {},
   "source": [
    "Sí, aparentemente cada línea es un JSON válido, así que tendremos que encadenarlas.\n",
    "Una forma de hacerlo es construir una representación de string que contenga todas estas entradas JSON, y luego cargarlo todo con ``pd.read_json``:"
   ]
  },
  {
   "cell_type": "code",
   "execution_count": null,
   "metadata": {
    "collapsed": true
   },
   "outputs": [],
   "source": [
    "import json\n",
    "\n",
    "# Leer el archivo con la codificación adecuada\n",
    "with open('data/recipeitems-latest.json', 'r', encoding='utf-8') as f:\n",
    "    data = [json.loads(line) for line in f]\n",
    "\n",
    "# Normalizar los datos JSON en un DataFrame de pandas\n",
    "recipes = pd.json_normalize(data)"
   ]
  },
  {
   "cell_type": "code",
   "execution_count": null,
   "metadata": {
    "collapsed": false
   },
   "outputs": [],
   "source": [
    "recipes.shape"
   ]
  },
  {
   "cell_type": "markdown",
   "metadata": {},
   "source": [
    "Vemos que hay casi 200.000 recetas y 17 columnas.\n",
    "Echemos un vistazo a una fila para ver lo que tenemos:"
   ]
  },
  {
   "cell_type": "code",
   "execution_count": null,
   "metadata": {
    "collapsed": false
   },
   "outputs": [],
   "source": [
    "recipes.iloc[0]"
   ]
  },
  {
   "cell_type": "markdown",
   "metadata": {},
   "source": [
    "Hay mucha información, pero gran parte está desordenada, como suele ocurrir con los datos extraídos de Internet.\n",
    "En concreto, la lista de ingredientes está en formato de cadena; vamos a tener que extraer cuidadosamente la información que nos interesa.\n",
    "Empecemos por examinar más detenidamente los ingredientes:"
   ]
  },
  {
   "cell_type": "code",
   "execution_count": null,
   "metadata": {
    "collapsed": false
   },
   "outputs": [],
   "source": [
    "recipes.ingredients.str.len().describe()"
   ]
  },
  {
   "cell_type": "markdown",
   "metadata": {},
   "source": [
    "Las listas de ingredientes tienen una longitud media de 250 caracteres, con un mínimo de 0 y un máximo de casi 10.000.\n",
    "\n",
    "Por curiosidad, veamos qué receta tiene la lista de ingredientes más larga:"
   ]
  },
  {
   "cell_type": "code",
   "execution_count": null,
   "metadata": {
    "collapsed": false
   },
   "outputs": [],
   "source": [
    "recipes.name[np.argmax(recipes.ingredients.str.len())]"
   ]
  },
  {
   "cell_type": "markdown",
   "metadata": {},
   "source": [
    "Desde luego parece una receta complicada.\n",
    "\n",
    "Podemos hacer otras exploraciones agregadas; por ejemplo, veamos cuántas de las recetas son de comida para el desayuno:"
   ]
  },
  {
   "cell_type": "code",
   "execution_count": null,
   "metadata": {
    "collapsed": false
   },
   "outputs": [],
   "source": [
    "recipes.description.str.contains('[Bb]reakfast').sum()"
   ]
  },
  {
   "cell_type": "markdown",
   "metadata": {},
   "source": [
    "O cuántas de las recetas incluyen la canela como ingrediente:"
   ]
  },
  {
   "cell_type": "code",
   "execution_count": null,
   "metadata": {
    "collapsed": false
   },
   "outputs": [],
   "source": [
    "recipes.ingredients.str.contains('[Cc]innamon').sum()"
   ]
  },
  {
   "cell_type": "markdown",
   "metadata": {},
   "source": [
    "Incluso podríamos mirar si alguna receta escribe mal el ingrediente como \"cinamon\":"
   ]
  },
  {
   "cell_type": "code",
   "execution_count": null,
   "metadata": {
    "collapsed": false
   },
   "outputs": [],
   "source": [
    "recipes.ingredients.str.contains('[Cc]inamon').sum()"
   ]
  },
  {
   "cell_type": "markdown",
   "metadata": {},
   "source": [
    "Este es el tipo de exploración de datos esencial que es posible con las herramientas de cadenas de Pandas.\n",
    "Es en este tipo de manipulación de datos donde Python realmente destaca."
   ]
  },
  {
   "cell_type": "markdown",
   "metadata": {},
   "source": [
    "### Un sencillo recomendador de recetas\n",
    "\n",
    "Vayamos un poco más lejos, y empecemos a trabajar en un sencillo sistema de recomendación de recetas: dada una lista de ingredientes, encontrar una receta que utilice todos esos ingredientes.\n",
    "Aunque conceptualmente es sencilla, la tarea se complica por la heterogeneidad de los datos: no es fácil, por ejemplo, extraer una lista limpia de ingredientes de cada fila.\n",
    "Así que haremos un poco de trampa: empezaremos con una lista de ingredientes comunes, y simplemente buscaremos para ver si están en la lista de ingredientes de cada receta.\n",
    "Para simplificar, vamos a ceñirnos a las hierbas y especias por el momento:"
   ]
  },
  {
   "cell_type": "code",
   "execution_count": null,
   "metadata": {
    "collapsed": true
   },
   "outputs": [],
   "source": [
    "spice_list = ['salt', 'pepper', 'oregano', 'sage', 'parsley',\n",
    "              'rosemary', 'tarragon', 'thyme', 'paprika', 'cumin']"
   ]
  },
  {
   "cell_type": "markdown",
   "metadata": {},
   "source": [
    "A continuación, podemos construir un ``DataFrame`` booleano formado por los valores Verdadero y Falso, que indica si este ingrediente aparece en la lista:"
   ]
  },
  {
   "cell_type": "code",
   "execution_count": null,
   "metadata": {
    "collapsed": false
   },
   "outputs": [],
   "source": [
    "import re\n",
    "spice_df = pd.DataFrame(dict((spice, recipes.ingredients.str.contains(spice, re.IGNORECASE))\n",
    "                             for spice in spice_list))\n",
    "spice_df.head()"
   ]
  },
  {
   "cell_type": "markdown",
   "metadata": {},
   "source": [
    "Ahora, como ejemplo, digamos que nos gustaría encontrar una receta que utilice perejil, pimentón y estragón.\n",
    "Podemos calcular esto muy rápidamente usando el método ``query()`` de ``DataFrame``."
   ]
  },
  {
   "cell_type": "code",
   "execution_count": null,
   "metadata": {
    "collapsed": false
   },
   "outputs": [],
   "source": [
    "selection = spice_df.query('parsley & paprika & tarragon')\n",
    "len(selection)"
   ]
  },
  {
   "cell_type": "markdown",
   "metadata": {},
   "source": [
    "Sólo encontramos 10 recetas con esta combinación; utilicemos el índice devuelto por esta selección para descubrir los nombres de las recetas que tienen esta combinación:"
   ]
  },
  {
   "cell_type": "code",
   "execution_count": null,
   "metadata": {
    "collapsed": false
   },
   "outputs": [],
   "source": [
    "recipes.name[selection.index]"
   ]
  },
  {
   "cell_type": "markdown",
   "metadata": {},
   "source": [
    "Ahora que hemos reducido nuestra selección de recetas en un factor de casi 20.000, estamos en condiciones de tomar una decisión más informada sobre lo que nos gustaría cocinar para la cena."
   ]
  },
  {
   "cell_type": "markdown",
   "metadata": {},
   "source": [
    "### Ir más allá con las recetas\n",
    "\n",
    "Espero que este ejemplo te haya dado una idea de los tipos de operaciones de limpieza de datos que se pueden realizar eficientemente con los métodos de string de Pandas.\n",
    "Por supuesto, construir un sistema de recomendación de recetas muy robusto requeriría *mucho* más trabajo.\n",
    "Extraer las listas completas de ingredientes de cada receta sería una parte importante de la tarea; por desgracia, la gran variedad de formatos utilizados hace que este proceso lleve bastante tiempo.\n",
    "Esto apunta a la verdad de que en la ciencia de datos, la limpieza y manipulación de los datos del mundo real a menudo comprende la mayor parte del trabajo, y Pandas proporciona las herramientas que pueden ayudarle a hacer esto de manera eficiente."
   ]
  },
  {
   "cell_type": "markdown",
   "metadata": {},
   "source": [
    "<!--NAVIGATION-->\n",
    "< [Pivot Tables](8-Pivot_tables.ipynb) | [Trabajar con Time Series](10-Trabajar_con_TimeSeries.ipynb) >\n"
   ]
  }
 ],
 "metadata": {
  "anaconda-cloud": {},
  "kernelspec": {
   "display_name": "Python 3",
   "language": "python",
   "name": "python3"
  },
  "language_info": {
   "codemirror_mode": {
    "name": "ipython",
    "version": 3
   },
   "file_extension": ".py",
   "mimetype": "text/x-python",
   "name": "python",
   "nbconvert_exporter": "python",
   "pygments_lexer": "ipython3",
   "version": "3.11.9"
  }
 },
 "nbformat": 4,
 "nbformat_minor": 0
}
