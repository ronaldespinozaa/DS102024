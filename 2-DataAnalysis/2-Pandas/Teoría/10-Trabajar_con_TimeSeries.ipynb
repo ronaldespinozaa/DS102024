{
 "cells": [
  {
   "cell_type": "markdown",
   "metadata": {},
   "source": [
    "# Trabajar con series temporales"
   ]
  },
  {
   "cell_type": "markdown",
   "metadata": {},
   "source": [
    "Pandas se desarrolló en el contexto de la modelización financiera, por lo que, como era de esperar, contiene un conjunto bastante amplio de herramientas para trabajar con fechas, horas y datos indexados en el tiempo.\n",
    "Los datos de fecha y hora vienen en varias formas, que discutiremos aquí:\n",
    "\n",
    "- Los *TimeStamp* hacen referencia a momentos particulares en el tiempo (por ejemplo, 4 de julio de 2015 a las 7:00am).\n",
    "- Los *intervalos de tiempo* y los *períodos* hacen referencia a un periodo de tiempo entre un punto inicial y final concreto; por ejemplo, el año 2015. Los periodos suelen hacer referencia a un caso especial de intervalos de tiempo en el que cada intervalo tiene una longitud uniforme y no se solapa (por ejemplo, periodos de 24 horas que comprenden días).\n",
    "- Los *deltas* o *duraciones* de tiempo hacen referencia a una longitud exacta de tiempo (por ejemplo, una duración de 22,56 segundos).\n",
    "\n",
    "En este notebook, introduciremos cómo trabajar con cada uno de estos tipos de datos fecha/hora en Pandas.\n",
    "Esta breve sección no es en absoluto una guía completa de las herramientas de series temporales disponibles en Python o Pandas, sino que pretende ser una visión general de cómo usted, debe abordar el trabajo con series temporales.\n",
    "Comenzaremos con una breve discusión de las herramientas para tratar con fechas y horas en Python, antes de pasar más específicamente a una discusión de las herramientas proporcionadas por Pandas."
   ]
  },
  {
   "cell_type": "markdown",
   "metadata": {},
   "source": [
    "## Dates y Times en Python\n",
    "\n",
    "El mundo Python dispone de un gran número de representaciones de fechas, horas, deltas y periodos de tiempo.\n",
    "Aunque las herramientas de series temporales proporcionadas por Pandas tienden a ser las más útiles para aplicaciones de ciencia de datos, es útil ver su relación con otros paquetes utilizados en Python."
   ]
  },
  {
   "cell_type": "markdown",
   "metadata": {},
   "source": [
    "### Date y time nativas de Python: ``datetime`` y ``dateutil``\n",
    "\n",
    "Los objetos básicos de Python para trabajar con fechas y horas residen en el módulo incorporado ``datetime``.\n",
    "Junto con el módulo de terceros ``dateutil``, puedes utilizarlo para realizar rápidamente una serie de funciones útiles con fechas y horas.\n",
    "Por ejemplo, puedes construir manualmente una fecha utilizando el tipo ``datetime``:"
   ]
  },
  {
   "cell_type": "code",
   "execution_count": null,
   "metadata": {
    "collapsed": false
   },
   "outputs": [],
   "source": [
    "from datetime import datetime\n",
    "datetime(year=2015, month=7, day=4)"
   ]
  },
  {
   "cell_type": "markdown",
   "metadata": {},
   "source": [
    "O, utilizando el módulo ``dateutil``, puede analizar fechas a partir de diversos formatos de string:"
   ]
  },
  {
   "cell_type": "code",
   "execution_count": null,
   "metadata": {
    "collapsed": false
   },
   "outputs": [],
   "source": [
    "from dateutil import parser\n",
    "date = parser.parse(\"4th of July, 2015\")\n",
    "date"
   ]
  },
  {
   "cell_type": "markdown",
   "metadata": {
    "collapsed": false
   },
   "source": [
    "Una vez que tienes un objeto ``datetime``, puedes hacer cosas como imprimir el día de la semana:"
   ]
  },
  {
   "cell_type": "code",
   "execution_count": null,
   "metadata": {
    "collapsed": false
   },
   "outputs": [],
   "source": [
    "date.strftime('%A')"
   ]
  },
  {
   "cell_type": "markdown",
   "metadata": {},
   "source": [
    "En la última línea, hemos usado uno de los códigos de formato de string estándar para imprimir fechas (``\"%A\"``), sobre el que puedes leer en la [sección strftime](https://docs.python.org/es/3/library/datetime.html#strftime-and-strptime-behavior) de la [documentación de datetime](https://docs.python.org/es/3/library/datetime.html) de Python.\n",
    "La documentación de otras utilidades de fecha se puede encontrar en [dateutil's online documentation](http://labix.org/python-dateutil).\n",
    "\n",
    "Un paquete relacionado que hay que tener en cuenta es [``pytz``](https://github.com/stub42/pytz/blob/master/src/README.rst), que contiene herramientas para trabajar con la parte de los datos de series temporales que más migra: las zonas horarias.\n",
    "\n",
    "La potencia de ``datetime`` y ``dateutil`` reside en su flexibilidad y fácil sintaxis: puedes utilizar estos objetos y sus métodos incorporados para realizar fácilmente casi cualquier operación que te interese.\n",
    "\n",
    "Estas se rompen es cuando se desea trabajar con grandes matrices de fechas y horas:\n",
    "Al igual que las listas de variables numéricas de Python son subóptimas comparadas con las matrices numéricas tipadas al estilo NumPy, las listas de objetos datetime de Python son subóptimas comparadas con las matrices tipadas de fechas codificadas."
   ]
  },
  {
   "cell_type": "markdown",
   "metadata": {},
   "source": [
    "### Matrices tipográficas de time: NumPy's ``datetime64``\n",
    "\n",
    "Las debilidades del formato datetime de Python inspiraron al equipo de NumPy a añadir un conjunto de tipos de datos nativos de series temporales a NumPy.\n",
    "El tipo de datos ``datetime64`` codifica las fechas como enteros de 64 bits y, por tanto, permite representar matrices de fechas de forma muy compacta.\n",
    "``datetime64`` requiere un formato de entrada muy específico:"
   ]
  },
  {
   "cell_type": "code",
   "execution_count": null,
   "metadata": {
    "collapsed": false
   },
   "outputs": [],
   "source": [
    "import numpy as np\n",
    "date = np.array('2015-07-04', dtype=np.datetime64)\n",
    "date"
   ]
  },
  {
   "cell_type": "markdown",
   "metadata": {},
   "source": [
    "Sin embargo, una vez que tenemos esta fecha formateada, podemos realizar rápidamente operaciones vectoriales sobre ella:"
   ]
  },
  {
   "cell_type": "code",
   "execution_count": null,
   "metadata": {
    "collapsed": false
   },
   "outputs": [],
   "source": [
    "date + np.arange(12)"
   ]
  },
  {
   "cell_type": "markdown",
   "metadata": {},
   "source": [
    "Debido al tipo uniforme en los arrays ``datetime64`` de NumPy, este tipo de operación puede realizarse mucho más rápidamente que si trabajásemos directamente con los objetos ``datetime`` de Python, especialmente cuando los arrays se hacen grandes.\n",
    "\n",
    "Un detalle de los objetos ``datetime64`` y ``timedelta64`` es que están construidos sobre una *unidad de tiempo fundamental*.\n",
    "Dado que el objeto ``datetime64`` está limitado a una precisión de 64 bits, el rango de tiempos codificables es $2^{64}$ veces esta unidad fundamental.\n",
    "En otras palabras, ``datetime64`` impone un compromiso entre *resolución temporal* y *intervalo temporal máximo*.\n",
    "\n",
    "Por ejemplo, si quieres una resolución temporal de un nanosegundo, sólo tienes suficiente información para codificar un rango de $2^{64}$ nanosegundos, o algo menos de 600 años.\n",
    "NumPy inferirá la unidad deseada de la entrada; por ejemplo, aquí es una fecha-hora basada en días:"
   ]
  },
  {
   "cell_type": "code",
   "execution_count": null,
   "metadata": {
    "collapsed": false
   },
   "outputs": [],
   "source": [
    "np.datetime64('2015-07-04')"
   ]
  },
  {
   "cell_type": "markdown",
   "metadata": {},
   "source": [
    "Esta es una fecha-hora basada en minutos:"
   ]
  },
  {
   "cell_type": "code",
   "execution_count": null,
   "metadata": {
    "collapsed": false
   },
   "outputs": [],
   "source": [
    "np.datetime64('2015-07-04 12:00')"
   ]
  },
  {
   "cell_type": "markdown",
   "metadata": {},
   "source": [
    "Observe que la zona horaria se ajusta automáticamente a la hora local del ordenador que ejecuta el código.\n",
    "Puede forzar cualquier unidad fundamental deseada utilizando uno de los muchos códigos de formato; por ejemplo, aquí forzaremos un tiempo basado en nanosegundos:"
   ]
  },
  {
   "cell_type": "code",
   "execution_count": null,
   "metadata": {
    "collapsed": false
   },
   "outputs": [],
   "source": [
    "np.datetime64('2015-07-04 12:59:59.50', 'ns')"
   ]
  },
  {
   "cell_type": "markdown",
   "metadata": {},
   "source": [
    "La siguiente tabla, extraída de la [NumPy datetime64 documentation](http://docs.scipy.org/doc/numpy/reference/arrays.datetime.html), enumera los códigos de formato disponibles junto con los intervalos de tiempo relativos y absolutos que pueden codificar:"
   ]
  },
  {
   "cell_type": "markdown",
   "metadata": {},
   "source": [
    "|Código  | Significado   | Duración (relativa)  | Duración (absoluta)    |\n",
    "|--------|-------------  |----------------------|------------------------|\n",
    "| ``Y``  | Año\t         | ± 9.2e18 años        | [9.2e18 BC, 9.2e18 AD] |\n",
    "| ``M``  | Mes           | ± 7.6e17 años        | [7.6e17 BC, 7.6e17 AD] |\n",
    "| ``W``  | Semana\t     | ± 1.7e17 años        | [1.7e17 BC, 1.7e17 AD] |\n",
    "| ``D``  | Día           | ± 2.5e16 años        | [2.5e16 BC, 2.5e16 AD] |\n",
    "| ``h``  | Hora          | ± 1.0e15 años        | [1.0e15 BC, 1.0e15 AD] |\n",
    "| ``m``  | Minuto        | ± 1.7e13 años        | [1.7e13 BC, 1.7e13 AD] |\n",
    "| ``s``  | Segundo       | ± 2.9e12 años        | [ 2.9e9 BC, 2.9e9 AD]  |\n",
    "| ``ms`` | Milisegundo   | ± 2.9e9 años         | [ 2.9e6 BC, 2.9e6 AD]  |\n",
    "| ``us`` | Microsegundos | ± 2.9e6 años         | [290301 BC, 294241 AD] |\n",
    "| ``ns`` | Nanosegundo   | ± 292 años           | [ 1678 AD, 2262 AD]    |\n",
    "| ``ps`` | Picosegundo   | ± 106 días           | [ 1969 AD, 1970 AD]    |\n",
    "| ``fs`` | Femtosegundo  | ± 2.6 horas          | [ 1969 AD, 1970 AD]    |\n",
    "| ``as`` | Attosegundo   | ± 9.2 segundos       | [ 1969 AD, 1970 AD]    |"
   ]
  },
  {
   "cell_type": "markdown",
   "metadata": {},
   "source": [
    "Para los tipos de datos que vemos en el mundo real, un valor por defecto útil es ``datetime64[ns]``, ya que puede codificar un rango útil de fechas modernas con una precisión adecuadamente fina.\n",
    "\n",
    "Por último, observaremos que aunque el tipo de datos ``datetime64`` soluciona algunas de las deficiencias del tipo ``datetime`` incorporado en Python, carece de muchos de los métodos y funciones que proporcionan ``datetime`` y especialmente ``dateutil``."
   ]
  },
  {
   "cell_type": "markdown",
   "metadata": {},
   "source": [
    "### Date y time en pandas: lo mejor de ambos mundos\n",
    "\n",
    "Pandas se basa en todas las herramientas que acabamos de discutir para proporcionar un objeto ``Timestamp``, que combina la facilidad de uso de ``datetime`` y ``dateutil`` con el almacenamiento eficiente y la interfaz vectorizada de ``numpy.datetime64``.\n",
    "A partir de un grupo de estos objetos ``Timestamp``, Pandas puede construir un ``DatetimeIndex`` que se puede utilizar para indexar datos en un ``Series`` o ``DataFrame``; veremos muchos ejemplos de esto más adelante.\n",
    "\n",
    "Por ejemplo, podemos utilizar las herramientas de Pandas para repetir la demostración anterior.\n",
    "Podemos analizar una string de fecha con formato flexible, y utilizar códigos de formato para obtener el día de la semana:"
   ]
  },
  {
   "cell_type": "code",
   "execution_count": null,
   "metadata": {
    "collapsed": false
   },
   "outputs": [],
   "source": [
    "import pandas as pd\n",
    "date = pd.to_datetime(\"4th of July, 2015\")\n",
    "date"
   ]
  },
  {
   "cell_type": "code",
   "execution_count": null,
   "metadata": {
    "collapsed": false
   },
   "outputs": [],
   "source": [
    "date.strftime('%A')"
   ]
  },
  {
   "cell_type": "markdown",
   "metadata": {},
   "source": [
    "Además, podemos realizar operaciones vectoriales al estilo NumPy directamente sobre este mismo objeto:"
   ]
  },
  {
   "cell_type": "code",
   "execution_count": null,
   "metadata": {
    "collapsed": false
   },
   "outputs": [],
   "source": [
    "date + pd.to_timedelta(np.arange(12), 'D')"
   ]
  },
  {
   "cell_type": "markdown",
   "metadata": {},
   "source": [
    "## Pandas Time Series: Indexación por tiempo\n",
    "\n",
    "Donde las herramientas de series temporales de Pandas se vuelven realmente útiles es cuando empiezas a *indexar datos por marcas de tiempo*.\n",
    "Por ejemplo, podemos construir un objeto ``Series`` que tenga datos indexados por tiempo:"
   ]
  },
  {
   "cell_type": "code",
   "execution_count": null,
   "metadata": {
    "collapsed": false
   },
   "outputs": [],
   "source": [
    "index = pd.DatetimeIndex(['2014-07-04', '2014-08-04',\n",
    "                          '2015-07-04', '2015-08-04'])\n",
    "data = pd.Series([0, 1, 2, 3], index=index)\n",
    "data"
   ]
  },
  {
   "cell_type": "markdown",
   "metadata": {},
   "source": [
    "Ahora que tenemos estos datos en una ``Series``, podemos hacer uso de cualquiera de los patrones de indexación ``Series`` que hemos discutido en secciones anteriores, pasando valores que pueden ser coaccionados en fechas:"
   ]
  },
  {
   "cell_type": "code",
   "execution_count": null,
   "metadata": {
    "collapsed": false
   },
   "outputs": [],
   "source": [
    "data['2014-07-04':'2015-07-04']"
   ]
  },
  {
   "cell_type": "markdown",
   "metadata": {},
   "source": [
    "Existen otras operaciones especiales de indexación por fecha, como pasar un año para obtener una porción de todos los datos de ese año:"
   ]
  },
  {
   "cell_type": "code",
   "execution_count": null,
   "metadata": {
    "collapsed": false
   },
   "outputs": [],
   "source": [
    "data['2015']"
   ]
  },
  {
   "cell_type": "markdown",
   "metadata": {},
   "source": [
    "Más adelante veremos otros ejemplos de la conveniencia de las fechas como índices.\n",
    "Pero antes, echemos un vistazo a las estructuras de datos de series temporales disponibles."
   ]
  },
  {
   "cell_type": "markdown",
   "metadata": {},
   "source": [
    "## Estructuras de datos de Time Series de Pandas\n",
    "\n",
    "Esta sección introducirá las estructuras de datos fundamentales de Pandas para trabajar con datos de series temporales:\n",
    "\n",
    "- Para *marcas de tiempo*, Pandas proporciona el tipo ``Timestamp``. Como se ha mencionado antes, es esencialmente un reemplazo para el tipo de datos nativo de Python ``datetime``, pero está basado en el tipo de datos más eficiente ``numpy.datetime64``. La estructura de índice asociada es ``DatetimeIndex``.\n",
    "- Para *períodos de tiempo*, Pandas proporciona el tipo ``Period``. Codifica un intervalo de frecuencia fija basado en ``numpy.datetime64``. La estructura de índice asociada es ``PeriodIndex``.\n",
    "- Para *deltas* o *duraciones* de tiempo, Pandas proporciona el tipo ``Timedelta``. ``Timedelta`` es un reemplazo más eficiente para el tipo nativo de Python ``datetime.timedelta``, y está basado en ``numpy.timedelta64``. La estructura de índice asociada es ``TimedeltaIndex``."
   ]
  },
  {
   "cell_type": "markdown",
   "metadata": {},
   "source": [
    "Los objetos fecha/hora más importantes son ``Timestamp`` y ``DatetimeIndex``.\n",
    "Aunque estos objetos de clase pueden invocarse directamente, es más común utilizar la función ``pd.to_datetime()``, que puede analizar una amplia variedad de formatos.\n",
    "Si se pasa una única fecha a ``pd.to_datetime()``, se obtiene un ``Timestamp``; si se pasa una serie de fechas, por defecto se obtiene un ``DatetimeIndex``:"
   ]
  },
  {
   "cell_type": "code",
   "execution_count": null,
   "metadata": {
    "collapsed": false
   },
   "outputs": [],
   "source": [
    "dates = pd.to_datetime([datetime(2015, 7, 3), '4th of July, 2015',\n",
    "                       '2015-Jul-6', '07-07-2015', '20150708'])\n",
    "dates"
   ]
  },
  {
   "cell_type": "markdown",
   "metadata": {},
   "source": [
    "Cualquier ``DatetimeIndex`` puede convertirse en un ``PeriodIndex`` con la función ``to_period()`` añadiendo un código de frecuencia; aquí utilizaremos ``'D`` para indicar la frecuencia diaria:"
   ]
  },
  {
   "cell_type": "code",
   "execution_count": null,
   "metadata": {
    "collapsed": false
   },
   "outputs": [],
   "source": [
    "dates.to_period('D')"
   ]
  },
  {
   "cell_type": "markdown",
   "metadata": {},
   "source": [
    "Se crea un ``TimedeltaIndex``, por ejemplo, cuando una fecha se resta de otra:"
   ]
  },
  {
   "cell_type": "code",
   "execution_count": null,
   "metadata": {
    "collapsed": false
   },
   "outputs": [],
   "source": [
    "dates - dates[0]"
   ]
  },
  {
   "cell_type": "markdown",
   "metadata": {},
   "source": [
    "### Secuencias regulares: ``pd.date_range()``\n",
    "\n",
    "Para hacer más cómoda la creación de secuencias regulares de fechas, Pandas ofrece algunas funciones para este propósito: ``pd.date_range()`` para marcas de tiempo, ``pd.period_range()`` para periodos, y ``pd.timedelta_range()`` para deltas de tiempo.\n",
    "Hemos visto que ``range()`` de Python y ``np.arange()`` de NumPy convierten un punto de inicio, un punto final y un tamaño de paso opcional en una secuencia.\n",
    "Del mismo modo, ``pd.date_range()`` acepta una fecha de inicio, una fecha final y un código de frecuencia opcional para crear una secuencia regular de fechas.\n",
    "Por defecto, la frecuencia es de un día:"
   ]
  },
  {
   "cell_type": "code",
   "execution_count": null,
   "metadata": {
    "collapsed": false
   },
   "outputs": [],
   "source": [
    "pd.date_range('2015-07-03', '2015-07-10')"
   ]
  },
  {
   "cell_type": "markdown",
   "metadata": {},
   "source": [
    "Alternativamente, el intervalo de fechas puede especificarse no con un punto de inicio y un punto final, sino con un punto de inicio y un número de períodos:"
   ]
  },
  {
   "cell_type": "code",
   "execution_count": null,
   "metadata": {
    "collapsed": false
   },
   "outputs": [],
   "source": [
    "pd.date_range('2015-07-03', periods=8)"
   ]
  },
  {
   "cell_type": "markdown",
   "metadata": {},
   "source": [
    "El espaciado puede modificarse alterando el argumento ``freq``, que por defecto es ``D``.\n",
    "Por ejemplo, aquí construiremos un rango de marcas de tiempo horarias:"
   ]
  },
  {
   "cell_type": "code",
   "execution_count": null,
   "metadata": {
    "collapsed": false
   },
   "outputs": [],
   "source": [
    "pd.date_range('2015-07-03', periods=8, freq='h')"
   ]
  },
  {
   "cell_type": "markdown",
   "metadata": {},
   "source": [
    "Para crear secuencias regulares de valores ``Period`` o ``Timedelta``, son útiles las funciones muy similares ``pd.period_range()`` y ``pd.timedelta_range()``.\n",
    "Aquí tienes algunos periodos mensuales:"
   ]
  },
  {
   "cell_type": "code",
   "execution_count": null,
   "metadata": {
    "collapsed": false
   },
   "outputs": [],
   "source": [
    "pd.period_range('2015-07', periods=8, freq='M')"
   ]
  },
  {
   "cell_type": "markdown",
   "metadata": {},
   "source": [
    "Y una secuencia de duraciones que aumentan en una hora:"
   ]
  },
  {
   "cell_type": "code",
   "execution_count": null,
   "metadata": {
    "collapsed": false
   },
   "outputs": [],
   "source": [
    "pd.timedelta_range(0, periods=10, freq='h')"
   ]
  },
  {
   "cell_type": "markdown",
   "metadata": {},
   "source": [
    "## Frecuencias y desplazamientos\n",
    "\n",
    "Fundamental para estas herramientas de series temporales de Pandas es el concepto de frecuencia o desfase de fecha.\n",
    "Al igual que vimos anteriormente los códigos ``D`` (día) y ``H`` (hora), podemos utilizar dichos códigos para especificar cualquier espaciado de frecuencia deseado.\n",
    "La siguiente tabla resume los principales códigos disponibles:"
   ]
  },
  {
   "cell_type": "markdown",
   "metadata": {},
   "source": [
    "| Código | Descripción         |\n",
    "|--------|---------------------|\n",
    "| ``D``  | Día natural |\n",
    "| ``W``  | Semanal |\n",
    "| ``M``  | Fin de mes |\n",
    "| ``Q``  | Fin de trimestre |\n",
    "| ``A``  | Fin de año |\n",
    "| ``h``  | Horas |\n",
    "| ``min``  | Minutos |\n",
    "| ``s``  | Segundos |\n",
    "| ``ms``  | Milliseonds |\n",
    "| ``us``  | Microsegundos |\n",
    "| ``ns``  | nanosegundos |\n",
    "| ``B``  | Día laborable |\n",
    "| ``BME`` | Fin de mes empresarial |\n",
    "| ``BQE`` | Fin de trimestre comercial |\n",
    "| ``BYE`` | Cierre del ejercicio\n",
    "| ``bh`` | Horario comercial |"
   ]
  },
  {
   "cell_type": "markdown",
   "metadata": {},
   "source": [
    "Las frecuencias mensual, trimestral y anual se marcan al final del periodo especificado.\n",
    "Añadiendo un sufijo ``S`` a cualquiera de ellas, en su lugar se marcarán al principio:"
   ]
  },
  {
   "cell_type": "markdown",
   "metadata": {},
   "source": [
    "| Código    | Descripción            |\n",
    "|---------|------------------------|\n",
    "| ``MS``  | Mes de inicio |\n",
    "| ``QS``  | Inicio del trimestre |\n",
    "| ``AS``  | Año de inicio |\n",
    "|``BMS``  | Inicio del mes comercial |\n",
    "|``BQS``  | Inicio del trimestre comercial |\n",
    "|``BAS``  | Inicio del ejercicio"
   ]
  },
  {
   "cell_type": "markdown",
   "metadata": {},
   "source": [
    "Además, puede cambiar el mes utilizado para marcar cualquier código trimestral o anual añadiendo un código de mes de tres letras como sufijo:\n",
    "\n",
    "- ``Q-JAN``, ``BQ-FEB``, ``QS-MAR``, ``BQS-APR``, etc.\n",
    "- ``A-JAN``, ``BA-FEB``, ``AS-MAR``, ``BAS-APR``, etc.\n",
    "\n",
    "Del mismo modo, el punto de división de la frecuencia semanal puede modificarse añadiendo un código de día de la semana de tres letras:\n",
    "\n",
    "- ``W-SUN``, ``W-MON``, ``W-TUE``, ``W-WED``, etc.\n",
    "\n",
    "Además, los códigos pueden combinarse con números para especificar otras frecuencias.\n",
    "Por ejemplo, para una frecuencia de 2 horas 30 minutos, podemos combinar los códigos de hora (``H``) y minutos (``T``) de la siguiente manera:"
   ]
  },
  {
   "cell_type": "code",
   "execution_count": null,
   "metadata": {
    "collapsed": false
   },
   "outputs": [],
   "source": [
    "pd.timedelta_range(0, periods=9, freq=\"2h30min\")"
   ]
  },
  {
   "cell_type": "markdown",
   "metadata": {},
   "source": [
    "Todos estos códigos cortos se refieren a instancias específicas de Pandas time series offsets, que se pueden encontrar en el módulo ``pd.tseries.offsets``.\n",
    "Por ejemplo, podemos crear un offset de día laborable directamente de la siguiente manera:"
   ]
  },
  {
   "cell_type": "code",
   "execution_count": null,
   "metadata": {
    "collapsed": false
   },
   "outputs": [],
   "source": [
    "from pandas.tseries.offsets import BDay\n",
    "pd.date_range('2015-07-01', periods=5, freq=BDay())"
   ]
  },
  {
   "cell_type": "markdown",
   "metadata": {},
   "source": [
    "Para más información sobre el uso de frecuencias y desplazamientos, consulte la sección [\"DateOffset\"](https://pandas.pydata.org/pandas-docs/stable/user_guide/timeseries.html) de la documentación de Pandas."
   ]
  },
  {
   "cell_type": "markdown",
   "metadata": {},
   "source": [
    "## Remuestreo, desplazamiento y ventanas\n",
    "\n",
    "La capacidad de utilizar fechas y horas como índices para organizar y acceder intuitivamente a los datos es una pieza importante de las herramientas de series temporales de Pandas.\n",
    "Los beneficios de los datos indexados en general (alineación automática durante las operaciones, corte y acceso intuitivo a los datos, etc.) se siguen aplicando, y Pandas proporciona varias operaciones adicionales específicas de series temporales.\n",
    "\n",
    "Vamos a echar un vistazo a algunas de ellas aquí, utilizando algunos datos de precios de acciones como ejemplo.\n",
    "Debido a que Pandas fue desarrollado en gran medida en un contexto financiero, incluye algunas herramientas muy específicas para los datos financieros.\n",
    "Por ejemplo, el paquete ``yfinance``, sabe cómo importar datos financieros de una serie de fuentes disponibles, incluyendo Yahoo finance, Google Finance, y otros.\n",
    "Aquí cargaremos el historial de precios de cierre de Google:"
   ]
  },
  {
   "cell_type": "code",
   "execution_count": null,
   "metadata": {
    "collapsed": false
   },
   "outputs": [],
   "source": [
    "import yfinance as yf\n",
    "\n",
    "goog = yf.download('GOOG', start='2004-01-01', end='2016-12-31')\n",
    "\n",
    "goog.head()"
   ]
  },
  {
   "cell_type": "markdown",
   "metadata": {},
   "source": [
    "Para simplificar, utilizaremos sólo el precio de cierre:"
   ]
  },
  {
   "cell_type": "code",
   "execution_count": null,
   "metadata": {
    "collapsed": true
   },
   "outputs": [],
   "source": [
    "goog = goog['Close']"
   ]
  },
  {
   "cell_type": "markdown",
   "metadata": {},
   "source": [
    "Podemos visualizar esto usando el método ``plot()``, después de la configuración normal de Matplotlib."
   ]
  },
  {
   "cell_type": "code",
   "execution_count": null,
   "metadata": {
    "collapsed": false
   },
   "outputs": [],
   "source": [
    "import matplotlib.pyplot as plt\n",
    "import seaborn as sns\n",
    "sns.set_style('whitegrid')"
   ]
  },
  {
   "cell_type": "code",
   "execution_count": null,
   "metadata": {
    "collapsed": false
   },
   "outputs": [],
   "source": [
    "goog.plot();"
   ]
  },
  {
   "cell_type": "markdown",
   "metadata": {},
   "source": [
    "### Remuestreo y conversión de frecuencias\n",
    "\n",
    "Una necesidad común para los datos de series temporales es el remuestreo a una frecuencia mayor o menor.\n",
    "Esto puede hacerse utilizando el método ``resample()``, o el método mucho más simple ``asfreq()``.\n",
    "La principal diferencia entre ambos es que ``resample()`` es fundamentalmente una *agregación de datos*, mientras que ``asfreq()`` es fundamentalmente una *selección de datos*.\n",
    "\n",
    "Echemos un vistazo al precio de cierre de Google y comparemos lo que nos devuelven los dos cuando reducimos el muestreo de los datos.\n",
    "Aquí volveremos a muestrear los datos al final del año comercial:"
   ]
  },
  {
   "cell_type": "code",
   "execution_count": null,
   "metadata": {
    "collapsed": false
   },
   "outputs": [],
   "source": [
    "goog.plot(alpha=0.5, style='-')\n",
    "goog.resample('BYE').mean().plot(style=':')\n",
    "goog.asfreq('BYE').plot(style='--');\n",
    "plt.legend(['input', 'resample', 'asfreq'],\n",
    "           loc='upper left');"
   ]
  },
  {
   "cell_type": "markdown",
   "metadata": {},
   "source": [
    "Fíjese en la diferencia: en cada punto, ``resample`` informa de la *media del año anterior*, mientras que ``asfreq`` informa del *valor al final del año*."
   ]
  },
  {
   "cell_type": "markdown",
   "metadata": {},
   "source": [
    "Para el muestreo ascendente, ``resample()`` y ``asfreq()`` son en gran medida equivalentes, aunque resample tiene muchas más opciones disponibles.\n",
    "En este caso, el valor por defecto para ambos métodos es dejar los puntos de muestreo ascendente vacíos, es decir, llenos de valores NA.\n",
    "Al igual que con la función ``pd.fillna()`` comentada anteriormente, ``asfreq()`` acepta un argumento ``method`` para especificar cómo se imputan los valores.\n",
    "En este caso, volveremos a muestrear los datos de los días laborables con una frecuencia diaria (es decir, incluidos los fines de semana):"
   ]
  },
  {
   "cell_type": "code",
   "execution_count": null,
   "metadata": {
    "collapsed": false
   },
   "outputs": [],
   "source": [
    "fig, ax = plt.subplots(2, sharex=True)\n",
    "data = goog.iloc[:10]\n",
    "\n",
    "data.asfreq('D').plot(ax=ax[0], marker='o')\n",
    "\n",
    "data.asfreq('D', method='bfill').plot(ax=ax[1], style='-o')\n",
    "data.asfreq('D', method='ffill').plot(ax=ax[1], style='--o')\n",
    "ax[1].legend([\"back-fill\", \"forward-fill\"]);"
   ]
  },
  {
   "cell_type": "markdown",
   "metadata": {},
   "source": [
    "El panel superior es el predeterminado: los días no laborables se dejan como valores NA y no aparecen en el gráfico.\n",
    "El panel inferior muestra las diferencias entre dos estrategias para rellenar los huecos: forward-filling y backward-filling."
   ]
  },
  {
   "cell_type": "markdown",
   "metadata": {},
   "source": [
    "### Time-shifts\n",
    "\n",
    "Otra operación común específica de las series temporales es el desplazamiento de los datos en el tiempo.\n",
    "Pandas tiene dos métodos estrechamente relacionados para calcular esto: ``shift()`` y ``shift(freq='D)``.\n",
    "En resumen, la diferencia entre ellos es que ``shift()`` *desplaza los datos*, mientras que ``shift(freq='D)`` *desplaza el índice*.\n",
    "En ambos casos, el desplazamiento se especifica en múltiplos de la frecuencia.\n",
    "\n",
    "Aquí desplazaremos tanto ``shift()`` como ``shift(freq='D)`` 900 días;"
   ]
  },
  {
   "cell_type": "code",
   "execution_count": null,
   "metadata": {
    "collapsed": false
   },
   "outputs": [],
   "source": [
    "# Crear las subtramas\n",
    "fig, ax = plt.subplots(3, sharey=True)\n",
    "\n",
    "# Aplicar una frecuencia a los datos\n",
    "goog = goog.asfreq('D', method='pad')\n",
    "\n",
    "# Graficar los datos originales\n",
    "goog.plot(ax=ax[0])\n",
    "# Graficar los datos desplazados\n",
    "goog.shift(900).plot(ax=ax[1])\n",
    "# Desplazar el índice de tiempo y graficar\n",
    "goog.shift(900, freq='D').plot(ax=ax[2])\n",
    "\n",
    "# Leyendas y anotaciones\n",
    "local_max = pd.to_datetime('2007-11-05')\n",
    "offset = pd.Timedelta(900, 'D')\n",
    "\n",
    "ax[0].legend(['input'], loc=2)\n",
    "ax[0].get_xticklabels()[2].set(weight='heavy', color='red')\n",
    "ax[0].axvline(local_max, alpha=0.3, color='red')\n",
    "\n",
    "ax[1].legend(['shift(900)'], loc=2)\n",
    "ax[1].get_xticklabels()[2].set(weight='heavy', color='red')\n",
    "ax[1].axvline(local_max + offset, alpha=0.3, color='red')\n",
    "\n",
    "ax[2].legend(['shift(900, freq=\"D\")'], loc=2)\n",
    "ax[2].get_xticklabels()[1].set(weight='heavy', color='red')\n",
    "ax[2].axvline(local_max + offset, alpha=0.3, color='red');\n",
    "\n",
    "plt.show()"
   ]
  },
  {
   "cell_type": "markdown",
   "metadata": {},
   "source": [
    "Aquí vemos que ``shift(900)`` desplaza los *datos* 900 días, empujando parte de ellos fuera del extremo del gráfico (y dejando los valores NA en el otro extremo), mientras que ``shift(900, freq='D)`` desplaza los *valores de índice* 900 días.\n",
    "\n",
    "Un contexto común para este tipo de desplazamiento es el cálculo de diferencias en el tiempo. Por ejemplo, utilizamos los valores desplazados para calcular el rendimiento de la inversión a un año de las acciones de Google a lo largo del conjunto de datos:"
   ]
  },
  {
   "cell_type": "code",
   "execution_count": null,
   "metadata": {
    "collapsed": false
   },
   "outputs": [],
   "source": [
    "ROI = 100 * (goog.shift(-365, freq='D') / goog - 1)\n",
    "ROI.plot()\n",
    "plt.ylabel('% Retorno de la inversión');"
   ]
  },
  {
   "cell_type": "markdown",
   "metadata": {},
   "source": [
    "Esto nos ayuda a ver la tendencia general de las acciones de Google: hasta ahora, los momentos más rentables para invertir en Google han sido (como era de esperar, en retrospectiva) poco después de su salida a bolsa y en plena recesión de 2009."
   ]
  },
  {
   "cell_type": "markdown",
   "metadata": {},
   "source": [
    "### Rolling windows\n",
    "\n",
    "Las estadísticas continuas son un tercer tipo de operación específica de series temporales implementada por Pandas.\n",
    "Se pueden realizar mediante el atributo ``rolling()`` de los objetos ``Series`` y ``DataFrame``, que devuelve una vista similar a la que vimos con la operación ``groupby``.\n",
    "Esta ventana rodante pone a disposición una serie de operaciones de agregación por defecto.\n",
    "\n",
    "Por ejemplo, aquí se muestra la media móvil centrada de un año y la desviación estándar de los precios de las acciones de Google:"
   ]
  },
  {
   "cell_type": "code",
   "execution_count": null,
   "metadata": {
    "collapsed": false
   },
   "outputs": [],
   "source": [
    "rolling = goog.rolling(365, center=True)\n",
    "\n",
    "data = pd.DataFrame({'input': goog,\n",
    "                     'one-year rolling_mean': rolling.mean(),\n",
    "                     'one-year rolling_std': rolling.std()})\n",
    "ax = data.plot(style=['-', '--', ':'])\n",
    "ax.lines[0].set_alpha(0.3)"
   ]
  },
  {
   "cell_type": "markdown",
   "metadata": {},
   "source": [
    "Al igual que con las operaciones de agrupamiento, los métodos ``aggregate()`` y ``apply()`` pueden utilizarse para cálculos de balanceo personalizados."
   ]
  },
  {
   "cell_type": "markdown",
   "metadata": {},
   "source": [
    "## Ejemplo: Visualización de los recuentos de bicicletas de Seattle\n",
    "\n",
    "Como ejemplo más complejo de trabajo con series temporales de datos, echemos un vistazo a los recuentos de bicicletas en el puente [Fremont Bridge] de Seattle.\n",
    "Estos datos proceden de un contador de bicicletas automatizado, instalado a finales de 2012, que cuenta con sensores inductivos en las aceras este y oeste del puente.\n",
    "Los recuentos horarios de bicicletas pueden descargarse de http://data.seattle.gov/; aquí está el [enlace directo al conjunto de datos](https://data.seattle.gov/Transportation/Fremont-Bridge-Hourly-Bicycle-Counts-by-Month-Octo/65db-xm6k).\n",
    "\n",
    "A partir del verano de 2016, el CSV puede descargarse de la siguiente manera:"
   ]
  },
  {
   "cell_type": "code",
   "execution_count": null,
   "metadata": {
    "collapsed": false
   },
   "outputs": [],
   "source": [
    "# !curl -o data/FremontBridge.csv https://data.seattle.gov/api/views/65db-xm6k/rows.csv?accessType=DOWNLOAD"
   ]
  },
  {
   "cell_type": "markdown",
   "metadata": {},
   "source": [
    "Una vez descargado este conjunto de datos, podemos utilizar Pandas para leer la salida CSV en un ``DataFrame``.\n",
    "Especificaremos que queremos la Fecha como índice, y queremos que estas fechas se analicen automáticamente:"
   ]
  },
  {
   "cell_type": "code",
   "execution_count": null,
   "metadata": {
    "collapsed": false
   },
   "outputs": [],
   "source": [
    "data = pd.read_csv('data/FremontBridge.csv', index_col='Date', dtype=str)\n",
    "\n",
    "# Convertir manualmente la columna de fechas a datetime usando to_datetime\n",
    "data.index = pd.to_datetime(data.index, format=\"%m/%d/%Y %I:%M:%S %p\")\n",
    "data.head()"
   ]
  },
  {
   "cell_type": "markdown",
   "metadata": {},
   "source": [
    "Para mayor comodidad, procesaremos este conjunto de datos acortando los nombres de las columnas y añadiendo una columna \"Total\":"
   ]
  },
  {
   "cell_type": "code",
   "execution_count": null,
   "metadata": {
    "collapsed": false
   },
   "outputs": [],
   "source": [
    "data.columns = ['Total', 'West', 'East']\n",
    "\n",
    "data['Total'] = pd.to_numeric(data['Total'], errors='coerce')\n",
    "data['West'] = pd.to_numeric(data['West'], errors='coerce')\n",
    "data['East'] = pd.to_numeric(data['East'], errors='coerce')\n",
    "\n",
    "data['Total'] = data.eval('West + East')\n",
    "\n",
    "data.head()"
   ]
  },
  {
   "cell_type": "markdown",
   "metadata": {},
   "source": [
    "Veamos ahora las estadísticas resumidas de estos datos:"
   ]
  },
  {
   "cell_type": "code",
   "execution_count": null,
   "metadata": {
    "collapsed": false
   },
   "outputs": [],
   "source": [
    "data.dropna().describe()"
   ]
  },
  {
   "cell_type": "markdown",
   "metadata": {},
   "source": [
    "### Visualización de los datos\n",
    "\n",
    "Podemos comprender mejor el conjunto de datos visualizándolo.\n",
    "Empecemos por trazar los datos brutos:"
   ]
  },
  {
   "cell_type": "code",
   "execution_count": null,
   "metadata": {
    "collapsed": false
   },
   "outputs": [],
   "source": [
    "import seaborn as sns\n",
    "sns.set_style('whitegrid')"
   ]
  },
  {
   "cell_type": "code",
   "execution_count": null,
   "metadata": {
    "collapsed": false
   },
   "outputs": [],
   "source": [
    "data.plot()\n",
    "plt.ylabel('Recuento horario de bicicletas');"
   ]
  },
  {
   "cell_type": "markdown",
   "metadata": {},
   "source": [
    "Las 25.000 muestras horarias son demasiado densas para que podamos entenderlas.\n",
    "Podemos obtener más información volviendo a muestrear los datos en una cuadrícula más gruesa.\n",
    "Hagamos un nuevo muestreo por semanas:"
   ]
  },
  {
   "cell_type": "code",
   "execution_count": null,
   "metadata": {
    "collapsed": false
   },
   "outputs": [],
   "source": [
    "weekly = data.resample('W').sum()\n",
    "weekly.plot(style=[':', '--', '-'])\n",
    "plt.ylabel('Recuento semanal de bicicletas');"
   ]
  },
  {
   "cell_type": "markdown",
   "metadata": {},
   "source": [
    "Esto nos muestra algunas tendencias estacionales interesantes: como cabría esperar, la gente va más en bicicleta en verano que en invierno, e incluso dentro de una misma estación el uso de la bicicleta varía de una semana a otra (probablemente en función del tiempo).\n",
    "\n",
    "Otra forma útil de agregar los datos es utilizar una media móvil, utilizando la función ``pd.rolling_mean()``.\n",
    "Aquí haremos una media móvil de 30 días de nuestros datos, asegurándonos de centrar la ventana:"
   ]
  },
  {
   "cell_type": "code",
   "execution_count": null,
   "metadata": {
    "collapsed": false
   },
   "outputs": [],
   "source": [
    "daily = data.resample('D').sum()\n",
    "daily.rolling(30, center=True).sum().plot(style=[':', '--', '-'])\n",
    "plt.ylabel('recuento medio por hora');"
   ]
  },
  {
   "cell_type": "markdown",
   "metadata": {},
   "source": [
    "La irregularidad del resultado se debe al hard cutoff de la ventana.\n",
    "Podemos obtener una versión más suave de una media móvil utilizando una función de ventana, por ejemplo, una ventana gaussiana.\n",
    "El siguiente código especifica tanto la anchura de la ventana (elegimos 50 días) como la anchura de la gaussiana dentro de la ventana (elegimos 10 días):"
   ]
  },
  {
   "cell_type": "code",
   "execution_count": null,
   "metadata": {
    "collapsed": false
   },
   "outputs": [],
   "source": [
    "daily.rolling(50, center=True,\n",
    "              win_type='gaussian').sum(std=10).plot(style=[':', '--', '-']);"
   ]
  },
  {
   "cell_type": "markdown",
   "metadata": {},
   "source": [
    "### Profundizar en los datos\n",
    "\n",
    "Aunque estas vistas de datos suavizados son útiles para hacerse una idea de la tendencia general de los datos, ocultan gran parte de la estructura interesante.\n",
    "Por ejemplo, podríamos querer ver el tráfico medio en función de la hora del día."
   ]
  },
  {
   "cell_type": "code",
   "execution_count": null,
   "metadata": {
    "collapsed": false
   },
   "outputs": [],
   "source": [
    "by_time = data.groupby(data.index.time).mean()\n",
    "hourly_ticks = 4 * 60 * 60 * np.arange(6)\n",
    "by_time.plot(xticks=hourly_ticks, style=[':', '--', '-']);"
   ]
  },
  {
   "cell_type": "markdown",
   "metadata": {},
   "source": [
    "El tráfico horario presenta una distribución fuertemente bimodal, con picos en torno a las 8:00 de la mañana y las 5:00 de la tarde.\n",
    "Es probable que esto evidencie un fuerte componente de tráfico de cercanías que cruza el puente.\n",
    "Las diferencias entre la acera oeste (generalmente utilizada en dirección al centro de Seattle), que alcanza su punto máximo por la mañana, y la acera este (generalmente utilizada en dirección contraria al centro de Seattle), que alcanza su punto máximo por la tarde, así lo demuestran.\n",
    "\n",
    "También nos interesa saber cómo cambian las cosas según el día de la semana. Una vez más, podemos hacerlo con una simple agrupación:"
   ]
  },
  {
   "cell_type": "code",
   "execution_count": null,
   "metadata": {
    "collapsed": false
   },
   "outputs": [],
   "source": [
    "by_weekday = data.groupby(data.index.dayofweek).mean()\n",
    "by_weekday.index = ['Mon', 'Tues', 'Wed', 'Thurs', 'Fri', 'Sat', 'Sun']\n",
    "by_weekday.plot(style=[':', '--', '-']);"
   ]
  },
  {
   "cell_type": "markdown",
   "metadata": {},
   "source": [
    "Esto muestra una fuerte distinción entre los totales de los días laborables y los fines de semana, con aproximadamente el doble de usuarios medios cruzando el puente de lunes a viernes que los sábados y domingos.\n",
    "\n",
    "Teniendo esto en cuenta, hagamos un GroupBy compuesto y veamos la tendencia por hora en días laborables frente a fines de semana.\n",
    "Empezaremos agrupando por la bandera que indica el fin de semana y por la hora del día:"
   ]
  },
  {
   "cell_type": "code",
   "execution_count": null,
   "metadata": {
    "collapsed": false
   },
   "outputs": [],
   "source": [
    "weekend = np.where(data.index.weekday < 5, 'Weekday', 'Weekend')\n",
    "by_time = data.groupby([weekend, data.index.time]).mean()"
   ]
  },
  {
   "cell_type": "markdown",
   "metadata": {},
   "source": [
    "Ahora usaremos algunas de las herramientas de Matplotlib para trazar dos paneles uno al lado del otro:"
   ]
  },
  {
   "cell_type": "code",
   "execution_count": null,
   "metadata": {
    "collapsed": false
   },
   "outputs": [],
   "source": [
    "import matplotlib.pyplot as plt\n",
    "fig, ax = plt.subplots(1, 2, figsize=(14, 5))\n",
    "by_time.loc['Weekday'].plot(ax=ax[0], title='Weekdays',\n",
    "                           xticks=hourly_ticks, style=[':', '--', '-'])\n",
    "by_time.loc['Weekend'].plot(ax=ax[1], title='Weekends',\n",
    "                           xticks=hourly_ticks, style=[':', '--', '-']);"
   ]
  },
  {
   "cell_type": "markdown",
   "metadata": {},
   "source": [
    "El resultado es muy interesante: vemos un patrón bimodal de desplazamientos durante la semana laboral, y un patrón unimodal de ocio durante los fines de semana.\n",
    "Sería interesante analizar estos datos con más detalle y examinar el efecto del tiempo, la temperatura, la época del año y otros factores en las pautas de desplazamiento de la gente."
   ]
  },
  {
   "cell_type": "markdown",
   "metadata": {},
   "source": [
    "<!--NAVIGATION-->\n",
    "< [Trabajar con string](9-Trabajar_con_string.ipynb) | [Eval y Query](11-Eval_y_Query.ipynb) >\n"
   ]
  }
 ],
 "metadata": {
  "anaconda-cloud": {},
  "kernelspec": {
   "display_name": "Python 3",
   "language": "python",
   "name": "python3"
  },
  "language_info": {
   "codemirror_mode": {
    "name": "ipython",
    "version": 3
   },
   "file_extension": ".py",
   "mimetype": "text/x-python",
   "name": "python",
   "nbconvert_exporter": "python",
   "pygments_lexer": "ipython3",
   "version": "3.11.9"
  }
 },
 "nbformat": 4,
 "nbformat_minor": 0
}
