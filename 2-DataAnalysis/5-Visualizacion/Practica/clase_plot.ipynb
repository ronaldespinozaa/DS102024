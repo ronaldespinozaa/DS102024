{
 "cells": [
  {
   "cell_type": "markdown",
   "metadata": {},
   "source": [
    "# Ejercicio: Generador de Gráficos Automático\n",
    "\n",
    "## Instrucciones:\n",
    "1. Crea una clase llamada `AutoPlot`.\n",
    "\n",
    "2. La clase debe tener tres métodos principales:\n",
    "   - `univariate_plot`: para gráficos univariantes.\n",
    "   - `bivariate_plot`: para gráficos bivariantes.\n",
    "   - `multivariate_plot`: para gráficos multivariantes.\n",
    "\n",
    "3. Cada método debe recibir como argumentos:\n",
    "   - `data`: un DataFrame de pandas que contiene los datos.\n",
    "   - `variables`: una lista de nombres de columnas.\n",
    "   - `types`: una lista de tipos correspondientes a cada columna (nominal, ordinal, continuo, discreto, fecha).\n",
    "   \n",
    "4. Los métodos deben seleccionar y generar automáticamente el gráfico más adecuado basado en los tipos de variables.\n"
   ]
  }
 ],
 "metadata": {
  "language_info": {
   "name": "python"
  }
 },
 "nbformat": 4,
 "nbformat_minor": 2
}
