{
 "cells": [
  {
   "cell_type": "markdown",
   "metadata": {},
   "source": [
    "# Gráficos lineales sencillos"
   ]
  },
  {
   "cell_type": "markdown",
   "metadata": {},
   "source": [
    "Quizás el más simple de todos los gráficos es la visualización de una única función $y = f(x)$.\n",
    "Aquí vamos a echar un primer vistazo a la creación de un gráfico simple de este tipo."
   ]
  },
  {
   "cell_type": "code",
   "execution_count": null,
   "metadata": {
    "collapsed": true
   },
   "outputs": [],
   "source": [
    "import matplotlib.pyplot as plt\n",
    "import numpy as np\n",
    "plt.style.use('ggplot')"
   ]
  },
  {
   "cell_type": "markdown",
   "metadata": {},
   "source": [
    "Para todos los gráficos de Matplotlib, empezamos creando una figura y unos ejes.\n",
    "En su forma más simple, una figura y los ejes se pueden crear de la siguiente manera:"
   ]
  },
  {
   "cell_type": "code",
   "execution_count": null,
   "metadata": {
    "collapsed": false
   },
   "outputs": [],
   "source": [
    "fig = plt.figure()\n",
    "ax = plt.axes()"
   ]
  },
  {
   "cell_type": "markdown",
   "metadata": {},
   "source": [
    "En Matplotlib, la *figure* (una instancia de la clase ``plt.Figure``) puede considerarse como un único contenedor que contiene todos los objetos que representan ejes, gráficos, texto y etiquetas.\n",
    "Los *ejes* (una instancia de la clase ``plt.Axes``) es lo que vemos arriba: una caja delimitadora con ticks y etiquetas, que contendrá los elementos que componen nuestra visualización.\n",
    "A lo largo de este notebook, utilizaremos el nombre de variable ``fig`` para referirnos a una figura, y ``ax`` para referirnos a un eje o grupo de ejes.\n",
    "\n",
    "Una vez que hemos creado un eje, podemos utilizar la función ``ax.plot`` para representar algunos datos. Empecemos con una simple función seno:"
   ]
  },
  {
   "cell_type": "code",
   "execution_count": null,
   "metadata": {
    "collapsed": false
   },
   "outputs": [],
   "source": [
    "fig = plt.figure()\n",
    "ax = plt.axes()\n",
    "\n",
    "x = np.linspace(0, 10, 1000)\n",
    "ax.plot(x, np.sin(x));"
   ]
  },
  {
   "cell_type": "markdown",
   "metadata": {},
   "source": [
    "Alternativamente, podemos usar la interfaz pylab y dejar que la figura y los ejes se creen por nosotros en segundo plano:"
   ]
  },
  {
   "cell_type": "code",
   "execution_count": null,
   "metadata": {
    "collapsed": false
   },
   "outputs": [],
   "source": [
    "plt.plot(x, np.sin(x));"
   ]
  },
  {
   "cell_type": "markdown",
   "metadata": {},
   "source": [
    "Si queremos crear una única figura con múltiples líneas, podemos simplemente llamar a la función ``plot`` varias veces:"
   ]
  },
  {
   "cell_type": "code",
   "execution_count": null,
   "metadata": {
    "collapsed": false
   },
   "outputs": [],
   "source": [
    "plt.plot(x, np.sin(x))\n",
    "plt.plot(x, np.cos(x));"
   ]
  },
  {
   "cell_type": "markdown",
   "metadata": {},
   "source": [
    "## Ajustar el trazado: colores y estilos de línea"
   ]
  },
  {
   "cell_type": "markdown",
   "metadata": {},
   "source": [
    "El primer ajuste que puede desear realizar en un gráfico es controlar los colores y estilos de las líneas.\n",
    "La función ``plt.plot()`` acepta argumentos adicionales que pueden utilizarse para especificarlos.\n",
    "Para ajustar el color, puede utilizar la palabra clave ``color``, que acepta un argumento de cadena que representa prácticamente cualquier color imaginable.\n",
    "El color se puede especificar de varias maneras:"
   ]
  },
  {
   "cell_type": "code",
   "execution_count": null,
   "metadata": {
    "collapsed": false
   },
   "outputs": [],
   "source": [
    "plt.plot(x, np.sin(x - 0), color='blue')        # especificar el color por su nombre\n",
    "plt.plot(x, np.sin(x - 1), color='g')           # código de color corto (rgbcmyk)\n",
    "plt.plot(x, np.sin(x - 2), color='0.75')        # Escala de grises entre 0 y 1\n",
    "plt.plot(x, np.sin(x - 3), color='#FFDD44')     # Código hexadecimal (RRGGBB de 00 a FF)\n",
    "plt.plot(x, np.sin(x - 4), color=(1.0,0.2,0.3)) # tupla RGB, valores 0 a 1\n",
    "plt.plot(x, np.sin(x - 5), color='chartreuse'); # todos los nombres de colores HTML admitidos"
   ]
  },
  {
   "cell_type": "markdown",
   "metadata": {},
   "source": [
    "Si no se especifica ningún color, Matplotlib pasará automáticamente por un conjunto de colores predeterminados para varias líneas.\n",
    "\n",
    "Del mismo modo, el estilo de línea se puede ajustar utilizando la palabra clave ``linestyle``:"
   ]
  },
  {
   "cell_type": "code",
   "execution_count": null,
   "metadata": {
    "collapsed": false
   },
   "outputs": [],
   "source": [
    "plt.plot(x, x + 0, linestyle='solid')\n",
    "plt.plot(x, x + 1, linestyle='dashed')\n",
    "plt.plot(x, x + 2, linestyle='dashdot')\n",
    "plt.plot(x, x + 3, linestyle='dotted');\n",
    "\n",
    "# Para abreviar, puede utilizar los siguientes códigos:\n",
    "plt.plot(x, x + 4, linestyle='-')  # sólido\n",
    "plt.plot(x, x + 5, linestyle='--') # discontinua\n",
    "plt.plot(x, x + 6, linestyle='-.') # linea punto\n",
    "plt.plot(x, x + 7, linestyle=':');  # punteado"
   ]
  },
  {
   "cell_type": "markdown",
   "metadata": {},
   "source": [
    "Si desea ser extremadamente conciso, estos códigos ``linestyle`` y ``color`` pueden combinarse en un único argumento no clave para la función ``plt.plot()``:"
   ]
  },
  {
   "cell_type": "code",
   "execution_count": null,
   "metadata": {
    "collapsed": false
   },
   "outputs": [],
   "source": [
    "plt.plot(x, x + 0, '-g')  # verde sólido\n",
    "plt.plot(x, x + 1, '--c') # cian discontinuo\n",
    "plt.plot(x, x + 2, '-.k') # negro linea punto\n",
    "plt.plot(x, x + 3, ':r');  # rojo punteado"
   ]
  },
  {
   "cell_type": "markdown",
   "metadata": {},
   "source": [
    "Estos códigos de color de un solo carácter reflejan las abreviaturas estándar de los sistemas de color RGB (Rojo/Verde/Azul) y CMYK (Cian/Magenta/Amarillo/Negro), utilizados habitualmente para gráficos digitales en color."
   ]
  },
  {
   "cell_type": "markdown",
   "metadata": {},
   "source": [
    "## Ajustar el gráfico: Límites de los ejes\n",
    "\n",
    "Matplotlib hace un trabajo decente en la elección de los límites de los ejes por defecto, pero a veces es bueno tener un control más fino.\n",
    "La forma más básica de ajustar los límites de los ejes es utilizar los métodos ``plt.xlim()`` y ``plt.ylim()``:"
   ]
  },
  {
   "cell_type": "code",
   "execution_count": null,
   "metadata": {
    "collapsed": false
   },
   "outputs": [],
   "source": [
    "plt.plot(x, np.sin(x))\n",
    "\n",
    "plt.xlim(-1, 11)\n",
    "plt.ylim(-1.5, 1.5);"
   ]
  },
  {
   "cell_type": "markdown",
   "metadata": {},
   "source": [
    "Si por alguna razón quieres que alguno de los ejes se muestre al revés, puedes invertir el orden de los argumentos:"
   ]
  },
  {
   "cell_type": "code",
   "execution_count": null,
   "metadata": {
    "collapsed": false
   },
   "outputs": [],
   "source": [
    "plt.plot(x, np.sin(x))\n",
    "\n",
    "plt.xlim(10, 0)\n",
    "plt.ylim(1.2, -1.2);"
   ]
  },
  {
   "cell_type": "markdown",
   "metadata": {},
   "source": [
    "El método ``plt.axis()`` te permite establecer los límites ``x`` e ``y`` con una sola llamada, pasando una lista que especifica ``[xmin, xmax, ymin, ymax]``:"
   ]
  },
  {
   "cell_type": "code",
   "execution_count": null,
   "metadata": {
    "collapsed": false
   },
   "outputs": [],
   "source": [
    "plt.plot(x, np.sin(x))\n",
    "plt.axis([-1, 11, -1.5, 1.5]);"
   ]
  },
  {
   "cell_type": "markdown",
   "metadata": {},
   "source": [
    "El método ``plt.axis()`` va incluso más allá, permitiéndole hacer cosas como ajustar automáticamente los límites alrededor del gráfico actual:"
   ]
  },
  {
   "cell_type": "code",
   "execution_count": null,
   "metadata": {
    "collapsed": false
   },
   "outputs": [],
   "source": [
    "plt.plot(x, np.sin(x))\n",
    "plt.axis('tight');"
   ]
  },
  {
   "cell_type": "markdown",
   "metadata": {},
   "source": [
    "Permite incluso especificaciones de mayor nivel, como garantizar una relación de aspecto igual para que en tu pantalla, una unidad en ``x`` sea igual a una unidad en ``y``:"
   ]
  },
  {
   "cell_type": "code",
   "execution_count": null,
   "metadata": {
    "collapsed": false
   },
   "outputs": [],
   "source": [
    "plt.plot(x, np.sin(x))\n",
    "plt.axis('equal');"
   ]
  },
  {
   "cell_type": "markdown",
   "metadata": {},
   "source": [
    "## Etiquetado de plots\n",
    "\n",
    "Como última parte, veremos brevemente el etiquetado de los gráficos: títulos, etiquetas de ejes y leyendas simples.\n",
    "\n",
    "Los títulos y las etiquetas de los ejes son las etiquetas más sencillas; existen métodos que pueden utilizarse para establecerlas rápidamente:"
   ]
  },
  {
   "cell_type": "code",
   "execution_count": null,
   "metadata": {
    "collapsed": false
   },
   "outputs": [],
   "source": [
    "plt.plot(x, np.sin(x))\n",
    "plt.title(\"Una curva sinusoidal\")\n",
    "plt.xlabel(\"x\")\n",
    "plt.ylabel(\"sin(x)\");"
   ]
  },
  {
   "cell_type": "markdown",
   "metadata": {},
   "source": [
    "La posición, el tamaño y el estilo de estas etiquetas pueden ajustarse utilizando argumentos opcionales a la función."
   ]
  },
  {
   "cell_type": "markdown",
   "metadata": {},
   "source": [
    "Cuando se muestran múltiples líneas dentro de un mismo eje, puede ser útil crear una leyenda gráfica que etiquete cada tipo de línea.\n",
    "Una vez más, Matplotlib tiene una forma integrada de crear rápidamente una leyenda de este tipo.\n",
    "Se hace a través del método ``plt.legend()``.\n",
    "Aunque hay varias maneras válidas de usar esto, me parece más fácil especificar la etiqueta de cada línea utilizando la palabra clave ``label`` de la función de trazado:"
   ]
  },
  {
   "cell_type": "code",
   "execution_count": null,
   "metadata": {
    "collapsed": false
   },
   "outputs": [],
   "source": [
    "plt.plot(x, np.sin(x), '-g', label='sin(x)')\n",
    "plt.plot(x, np.cos(x), ':b', label='cos(x)')\n",
    "plt.axis('equal')\n",
    "\n",
    "plt.legend();"
   ]
  },
  {
   "cell_type": "markdown",
   "metadata": {},
   "source": [
    "<!--NAVIGATION-->\n",
    "< [Introducción a Matplotlib](0-Introduccion_a_Matplotlib.ipynb) | [Gráficos de dispersión](2-Scatter_Plots.ipynb) >\n"
   ]
  }
 ],
 "metadata": {
  "anaconda-cloud": {},
  "kernelspec": {
   "display_name": "Python 3",
   "language": "python",
   "name": "python3"
  },
  "language_info": {
   "codemirror_mode": {
    "name": "ipython",
    "version": 3
   },
   "file_extension": ".py",
   "mimetype": "text/x-python",
   "name": "python",
   "nbconvert_exporter": "python",
   "pygments_lexer": "ipython3",
   "version": "3.11.9"
  }
 },
 "nbformat": 4,
 "nbformat_minor": 0
}
