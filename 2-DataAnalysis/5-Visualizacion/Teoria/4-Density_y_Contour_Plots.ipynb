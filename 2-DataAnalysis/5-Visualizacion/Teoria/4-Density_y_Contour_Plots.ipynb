{
 "cells": [
  {
   "cell_type": "markdown",
   "metadata": {},
   "source": [
    "# Gráficos de densidad y contorno"
   ]
  },
  {
   "cell_type": "markdown",
   "metadata": {},
   "source": [
    "A veces es útil mostrar datos tridimensionales en dos dimensiones utilizando contornos o regiones codificadas por colores.\n",
    "Hay tres funciones de Matplotlib que pueden ser útiles para esta tarea: ``plt.contour`` para gráficos de contorno, ``plt.contourf`` para gráficos de contorno rellenos, y ``plt.imshow`` para mostrar imágenes."
   ]
  },
  {
   "cell_type": "code",
   "execution_count": null,
   "metadata": {
    "collapsed": true
   },
   "outputs": [],
   "source": [
    "import matplotlib.pyplot as plt\n",
    "plt.style.use('ggplot')\n",
    "import numpy as np"
   ]
  },
  {
   "cell_type": "markdown",
   "metadata": {},
   "source": [
    "## Visualización de una función tridimensional"
   ]
  },
  {
   "cell_type": "markdown",
   "metadata": {},
   "source": [
    "Empezaremos demostrando un gráfico de contorno usando una función $z = f(x, y)$, usando la siguiente elección particular para $f$."
   ]
  },
  {
   "cell_type": "code",
   "execution_count": null,
   "metadata": {
    "collapsed": false
   },
   "outputs": [],
   "source": [
    "def f(x:float, y:float) -> float:\n",
    "    return np.sin(x) ** 10 + np.cos(10 + y * x) * np.cos(x)"
   ]
  },
  {
   "cell_type": "markdown",
   "metadata": {},
   "source": [
    "Se puede crear un gráfico de contorno con la función ``plt.contour``.\n",
    "Toma tres argumentos: una rejilla de valores *x*, una rejilla de valores *y* y una rejilla de valores *z*.\n",
    "Los valores *x* e *y* representan posiciones en el gráfico, y los valores *z* estarán representados por los niveles de contorno.\n",
    "Quizá la forma más sencilla de preparar estos datos sea utilizar la función ``np.meshgrid``, que construye rejillas bidimensionales a partir de matrices unidimensionales:"
   ]
  },
  {
   "cell_type": "code",
   "execution_count": null,
   "metadata": {
    "collapsed": false
   },
   "outputs": [],
   "source": [
    "x = np.linspace(0, 5, 50)\n",
    "y = np.linspace(0, 5, 40)\n",
    "\n",
    "X, Y = np.meshgrid(x, y)\n",
    "Z = f(X, Y)"
   ]
  },
  {
   "cell_type": "markdown",
   "metadata": {},
   "source": [
    "Veámoslo ahora con un gráfico de contorno estándar de sólo líneas:"
   ]
  },
  {
   "cell_type": "code",
   "execution_count": null,
   "metadata": {
    "collapsed": false
   },
   "outputs": [],
   "source": [
    "plt.contour(X, Y, Z, colors='black');"
   ]
  },
  {
   "cell_type": "markdown",
   "metadata": {},
   "source": [
    "Tenga en cuenta que, por defecto, cuando se utiliza un solo color, los valores negativos se representan con líneas discontinuas y los positivos con líneas continuas.\n",
    "Como alternativa, las líneas pueden codificarse por colores especificando un mapa de colores con el argumento ``cmap``."
   ]
  },
  {
   "cell_type": "code",
   "execution_count": null,
   "metadata": {
    "collapsed": false
   },
   "outputs": [],
   "source": [
    "plt.contour(X, Y, Z, 20, cmap='RdGy');"
   ]
  },
  {
   "cell_type": "markdown",
   "metadata": {},
   "source": [
    "Aquí elegimos el mapa de color ``RdGy`` (abreviatura de *Rojo-Gris*), que es una buena opción para datos centrados.\n",
    "Matplotlib tiene una amplia gama de mapas de colores disponibles.\n",
    "\n",
    "Nuestro gráfico se ve mejor, pero los espacios entre las líneas pueden distraer un poco.\n",
    "Podemos cambiar esto cambiando a un gráfico de contorno relleno utilizando la función ``plt.contourf()``, que utiliza prácticamente la misma sintaxis que ``plt.contour()``.\n",
    "\n",
    "Además, añadiremos un comando ``plt.colorbar()``, que crea automáticamente un eje adicional con información de color etiquetada para el gráfico:"
   ]
  },
  {
   "cell_type": "code",
   "execution_count": null,
   "metadata": {
    "collapsed": false
   },
   "outputs": [],
   "source": [
    "plt.contourf(X, Y, Z, 20, cmap='RdGy')\n",
    "plt.colorbar();"
   ]
  },
  {
   "cell_type": "markdown",
   "metadata": {},
   "source": [
    "La barra de colores deja claro que las regiones negras son \"picos\", mientras que las rojas son \"valles\"."
   ]
  },
  {
   "cell_type": "markdown",
   "metadata": {},
   "source": [
    "Por último, a veces puede ser útil combinar gráficos de contorno y gráficos de imagen.\n",
    "Por ejemplo, aquí utilizaremos una imagen de fondo parcialmente transparente (con la transparencia definida mediante el parámetro ``alpha``) y sobretrazaremos los contornos con etiquetas en los propios contornos (utilizando la función ``plt.clabel()``):"
   ]
  },
  {
   "cell_type": "code",
   "execution_count": null,
   "metadata": {
    "collapsed": false
   },
   "outputs": [],
   "source": [
    "contours = plt.contour(X, Y, Z, 3, colors='black')\n",
    "plt.clabel(contours, inline=True, fontsize=8)\n",
    "\n",
    "plt.imshow(Z, extent=[0, 5, 0, 5], origin='lower',\n",
    "           cmap='RdGy', alpha=0.5)\n",
    "plt.colorbar();"
   ]
  },
  {
   "cell_type": "markdown",
   "metadata": {},
   "source": [
    "<!--NAVIGATION-->\n",
    "< [Visualización de errores](3-Errorbars.ipynb) | [Histogramas, binnings y densidad](5-Histograms_y_Binnings.ipynb) >\n"
   ]
  }
 ],
 "metadata": {
  "anaconda-cloud": {},
  "kernelspec": {
   "display_name": "Python 3",
   "language": "python",
   "name": "python3"
  },
  "language_info": {
   "codemirror_mode": {
    "name": "ipython",
    "version": 3
   },
   "file_extension": ".py",
   "mimetype": "text/x-python",
   "name": "python",
   "nbconvert_exporter": "python",
   "pygments_lexer": "ipython3",
   "version": "3.11.9"
  }
 },
 "nbformat": 4,
 "nbformat_minor": 0
}
