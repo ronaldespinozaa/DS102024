{
 "cells": [
  {
   "cell_type": "markdown",
   "metadata": {},
   "source": [
    "# Otras bibliotecas gráficas de Python\n",
    "\n",
    "Aunque Matplotlib y seaborn son las bibliotecas de visualización de Python más destacada, existen otras herramientas más modernas que también merece la pena explorar.\n",
    "\n",
    "Aquí mencionaré brevemente algunas de ellas:\n",
    "\n",
    "- [Bokeh](http://bokeh.pydata.org) es una biblioteca de visualización JavaScript con un front-end Python que crea visualizaciones altamente interactivas capaces de manejar conjuntos de datos muy grandes y/o en streaming. La interfaz de Python genera una estructura de datos JSON que puede ser interpretada por el motor Bokeh JS.\n",
    "- [Plotly](http://plot.ly) es el producto homónimo de código abierto de la empresa Plotly, y es similar en espíritu a Bokeh. Dado que Plotly es el principal producto de una startup, está recibiendo un gran esfuerzo de desarrollo. El uso de la biblioteca es totalmente gratuito.\n",
    "- [Vispy](http://vispy.org/) es un proyecto activamente desarrollado que se centra en la visualización dinámica de grandes conjuntos de datos. Como está diseñado para OpenGL y hace uso de procesadores gráficos eficientes en tu ordenador, es capaz de renderizar algunas visualizaciones bastante grandes e impresionantes.\n",
    "- [Vega](https://vega.github.io/) y [Vega-Lite](https://vega.github.io/vega-lite) son representaciones gráficas declarativas, producto de años de investigación en el lenguaje fundamental de la visualización de datos. La implementación de renderizado de referencia es JavaScript, pero la API es independiente del lenguaje. Hay una API de Python en desarrollo en el paquete [Altair](https://altair-viz.github.io/).\n",
    "- [Folium](https://python-visualization.github.io/folium/latest/) es una biblioteca en Python diseñada para la visualización de datos geoespaciales. Se construye sobre Leaflet.js y permite crear mapas interactivos con facilidad. Folium es especialmente útil para proyectos en los que se requiere visualizar datos geográficos junto con información adicional, como gráficos de calor, clústeres de marcadores y choropleth maps, todo sin necesidad de conocer JavaScript. Esto lo convierte en una herramienta accesible para desarrolladores y analistas de datos que trabajan principalmente en Python.\n",
    "- [Geopandas](https://geopandas.org/en/stable/) es una extensión de la biblioteca Pandas que facilita la manipulación de datos geoespaciales. Geopandas permite trabajar con geometrías, como puntos, líneas y polígonos, integrando operaciones espaciales de manera sencilla y eficiente. Aunque no está centrado en la visualización como Folium, es una herramienta poderosa para la manipulación de datos espaciales antes de su visualización. Geopandas se puede combinar con otras bibliotecas, como Matplotlib, para crear visualizaciones estáticas, o con Folium, para generar mapas interactivos.\n"
   ]
  },
  {
   "cell_type": "markdown",
   "metadata": {},
   "source": [
    "<!--NAVIGATION-->\n",
    "< [Visualización con Seaborn](9-Visualizacion_con_Seaborn.ipynb)\n",
    "\n"
   ]
  }
 ],
 "metadata": {
  "kernelspec": {
   "display_name": "Python 3",
   "language": "python",
   "name": "python3"
  },
  "language_info": {
   "codemirror_mode": {
    "name": "ipython",
    "version": 3
   },
   "file_extension": ".py",
   "mimetype": "text/x-python",
   "name": "python",
   "nbconvert_exporter": "python",
   "pygments_lexer": "ipython3",
   "version": "3.5.1"
  }
 },
 "nbformat": 4,
 "nbformat_minor": 0
}
