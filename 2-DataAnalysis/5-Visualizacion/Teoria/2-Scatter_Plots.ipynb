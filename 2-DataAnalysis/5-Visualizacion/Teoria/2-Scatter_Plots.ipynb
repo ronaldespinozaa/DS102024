{
 "cells": [
  {
   "cell_type": "markdown",
   "metadata": {},
   "source": [
    "# Gráficos de dispersión simples"
   ]
  },
  {
   "cell_type": "markdown",
   "metadata": {},
   "source": [
    "Otro tipo de gráfico muy utilizado es el gráfico de dispersión simple, un primo cercano del gráfico de líneas.\n",
    "En lugar de que los puntos estén unidos por segmentos de línea, aquí los puntos se representan individualmente con un punto, un círculo u otra forma."
   ]
  },
  {
   "cell_type": "code",
   "execution_count": null,
   "metadata": {
    "collapsed": true
   },
   "outputs": [],
   "source": [
    "import matplotlib.pyplot as plt\n",
    "plt.style.use('ggplot')\n",
    "import numpy as np"
   ]
  },
  {
   "cell_type": "markdown",
   "metadata": {},
   "source": [
    "## Gráficos de dispersión con ``plt.plot``\n",
    "\n",
    "Anteriormente vimos ``plt.plot``/``ax.plot`` para producir gráficos de líneas.\n",
    "Resulta que esta misma función puede producir gráficos de dispersión también:"
   ]
  },
  {
   "cell_type": "code",
   "execution_count": null,
   "metadata": {
    "collapsed": false
   },
   "outputs": [],
   "source": [
    "x = np.linspace(0, 10, 30)\n",
    "y = np.sin(x)\n",
    "\n",
    "plt.plot(x, y, 'o', color='black');"
   ]
  },
  {
   "cell_type": "markdown",
   "metadata": {},
   "source": [
    "El tercer argumento de la llamada a la función es un carácter que representa el tipo de símbolo utilizado para el trazado. Al igual que se pueden especificar opciones como ``'-'``, ``'--'`` para controlar el estilo de línea, el estilo de marcador tiene su propio conjunto de códigos cortos de cadena. La lista completa de símbolos disponibles puede verse en la documentación de ``plt.plot``, o en la documentación online de Matplotlib. La mayoría de las posibilidades son bastante intuitivas, y aquí mostraremos algunas de las más comunes:"
   ]
  },
  {
   "cell_type": "code",
   "execution_count": null,
   "metadata": {
    "collapsed": false
   },
   "outputs": [],
   "source": [
    "rng = np.random.RandomState(0)\n",
    "for marker in ['o', '.', ',', 'x', '+', 'v', '^', '<', '>', 's', 'd']:\n",
    "    plt.plot(rng.rand(5), rng.rand(5), marker,\n",
    "             label=\"marker='{0}'\".format(marker))\n",
    "plt.legend(numpoints=1)\n",
    "plt.xlim(0, 1.8);"
   ]
  },
  {
   "cell_type": "markdown",
   "metadata": {},
   "source": [
    "Para aumentar aún más las posibilidades, estos códigos de caracteres pueden utilizarse junto con códigos de línea y color para trazar puntos junto con una línea que los conecte:"
   ]
  },
  {
   "cell_type": "code",
   "execution_count": null,
   "metadata": {
    "collapsed": false
   },
   "outputs": [],
   "source": [
    "plt.plot(x, y, '-ok');"
   ]
  },
  {
   "cell_type": "markdown",
   "metadata": {},
   "source": [
    "Los argumentos adicionales a ``plt.plot`` especifican una amplia gama de propiedades de las líneas y marcadores:"
   ]
  },
  {
   "cell_type": "code",
   "execution_count": null,
   "metadata": {
    "collapsed": false
   },
   "outputs": [],
   "source": [
    "plt.plot(x, y, '-p', color='gray',\n",
    "         markersize=15, linewidth=4,\n",
    "         markerfacecolor='white',\n",
    "         markeredgecolor='gray',\n",
    "         markeredgewidth=2)\n",
    "plt.ylim(-1.2, 1.2);"
   ]
  },
  {
   "cell_type": "markdown",
   "metadata": {},
   "source": [
    "## Gráficos de dispersión con ``plt.scatter``\n",
    "\n",
    "Un segundo método más potente para crear gráficos de dispersión es la función ``plt.scatter``, que puede utilizarse de forma muy similar a la función ``plt.plot``:"
   ]
  },
  {
   "cell_type": "code",
   "execution_count": null,
   "metadata": {
    "collapsed": false
   },
   "outputs": [],
   "source": [
    "plt.scatter(x, y, marker='o');"
   ]
  },
  {
   "cell_type": "markdown",
   "metadata": {},
   "source": [
    "La principal diferencia de ``plt.scatter`` con respecto a ``plt.plot`` es que puede utilizarse para crear gráficos de dispersión en los que las propiedades de cada punto individual (tamaño, color de la cara, color del borde, etc.) pueden controlarse individualmente o asignarse a datos.\n",
    "\n",
    "También utilizaremos la palabra clave ``alpha`` para ajustar el nivel de transparencia:"
   ]
  },
  {
   "cell_type": "code",
   "execution_count": null,
   "metadata": {
    "collapsed": false
   },
   "outputs": [],
   "source": [
    "rng = np.random.RandomState(0)\n",
    "x = rng.randn(100)\n",
    "y = rng.randn(100)\n",
    "colors = rng.rand(100)\n",
    "sizes = 1000 * rng.rand(100)\n",
    "\n",
    "plt.scatter(x, y, c=colors, s=sizes, alpha=0.3,\n",
    "            cmap='viridis')\n",
    "plt.colorbar();  # mostrar escala de colores"
   ]
  },
  {
   "cell_type": "markdown",
   "metadata": {},
   "source": [
    "Observe que el argumento color se asigna automáticamente a una escala de colores (mostrada aquí por el comando ``colorbar()``), y que el argumento tamaño se da en píxeles.\n",
    "De este modo, el color y el tamaño de los puntos pueden utilizarse para transmitir información en la visualización, con el fin de visualizar datos multidimensionales.\n",
    "\n",
    "Por ejemplo, podemos utilizar los datos de Iris de Scikit-Learn, donde cada muestra es uno de los tres tipos de flores a las que se ha medido cuidadosamente el tamaño de sus pétalos y sépalos:"
   ]
  },
  {
   "cell_type": "code",
   "execution_count": null,
   "metadata": {
    "collapsed": false
   },
   "outputs": [],
   "source": [
    "from sklearn.datasets import load_iris\n",
    "iris = load_iris()\n",
    "features = iris.data.T\n",
    "\n",
    "plt.scatter(features[0], features[1], alpha=0.2,\n",
    "            s=100*features[3], c=iris.target, cmap='viridis')\n",
    "plt.xlabel(iris.feature_names[0])\n",
    "plt.ylabel(iris.feature_names[1]);"
   ]
  },
  {
   "cell_type": "markdown",
   "metadata": {},
   "source": [
    "Podemos ver que este gráfico de dispersión nos ha dado la posibilidad de explorar simultáneamente cuatro dimensiones diferentes de los datos:\n",
    "la ubicación (x, y) de cada punto corresponde a la longitud y anchura del sépalo, el tamaño del punto está relacionado con la anchura del pétalo, y el color está relacionado con la especie concreta de flor.\n",
    "Los gráficos de dispersión multicolor y multifeature como éste pueden ser útiles tanto para la exploración como para la presentación de datos."
   ]
  },
  {
   "cell_type": "markdown",
   "metadata": {},
   "source": [
    "<!--NAVIGATION-->\n",
    "< [Gráficos lineales sencillos](1-Line-Plots.ipynb) | [Visualización de errores](03-Errorbars.ipynb) >\n"
   ]
  }
 ],
 "metadata": {
  "kernelspec": {
   "display_name": "Python 3",
   "language": "python",
   "name": "python3"
  },
  "language_info": {
   "codemirror_mode": {
    "name": "ipython",
    "version": 3
   },
   "file_extension": ".py",
   "mimetype": "text/x-python",
   "name": "python",
   "nbconvert_exporter": "python",
   "pygments_lexer": "ipython3",
   "version": "3.11.9"
  }
 },
 "nbformat": 4,
 "nbformat_minor": 0
}
