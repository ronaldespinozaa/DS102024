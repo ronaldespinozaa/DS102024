{
 "cells": [
  {
   "cell_type": "markdown",
   "metadata": {},
   "source": [
    "# Visualización con Matplotlib"
   ]
  },
  {
   "cell_type": "markdown",
   "metadata": {},
   "source": [
    "Ahora echaremos un vistazo en profundidad al paquete Matplotlib para la visualización en Python.\n",
    "\n",
    "Matplotlib es una biblioteca de visualización de datos multiplataforma basada en matrices NumPy y diseñada para funcionar con la pila SciPy más amplia.\n",
    "\n",
    "Una de las características más importantes de Matplotlib es su capacidad para funcionar con muchos sistemas operativos y sistemas gráficos.\n",
    "\n",
    "Matplotlib soporta docenas de backends y tipos de salida, lo que significa que puedes contar con él para trabajar independientemente del sistema operativo que estés utilizando o del formato de salida que desees.\n",
    "Este enfoque multiplataforma, de todo para todos, ha sido uno de los grandes puntos fuertes de Matplotlib que ha dado lugar a una gran base de usuarios, que a su vez ha dado lugar a una base activa de desarrolladores y a las potentes herramientas de Matplotlib y a su ubicuidad en el mundo científico de Python.\n"
   ]
  },
  {
   "cell_type": "markdown",
   "metadata": {},
   "source": [
    "### Importación de Matplotlib\n",
    "\n",
    "Al igual que usamos la abreviatura ``np`` para NumPy y la abreviatura ``pd`` para Pandas, usaremos algunas abreviaturas estándar para las importaciones de Matplotlib:"
   ]
  },
  {
   "cell_type": "code",
   "execution_count": null,
   "metadata": {
    "collapsed": true
   },
   "outputs": [],
   "source": [
    "import matplotlib as mpl\n",
    "import matplotlib.pyplot as plt"
   ]
  },
  {
   "cell_type": "markdown",
   "metadata": {},
   "source": [
    "### Ajuste de estilos\n",
    "\n",
    "Utilizaremos la directiva ``plt.style`` para elegir estilos estéticos apropiados para nuestras figuras.\n",
    "\n",
    "[Estilos](https://matplotlib.org/stable/gallery/style_sheets/style_sheets_reference.html)"
   ]
  },
  {
   "cell_type": "code",
   "execution_count": null,
   "metadata": {
    "collapsed": true
   },
   "outputs": [],
   "source": [
    "plt.style.use(style='ggplot')"
   ]
  },
  {
   "cell_type": "markdown",
   "metadata": {},
   "source": [
    "### ¿``show()`` o No ``show()``? ¿Cómo mostrar los gráficos?"
   ]
  },
  {
   "cell_type": "markdown",
   "metadata": {},
   "source": [
    "Una visualización que no se puede ver no será de mucha utilidad, pero la forma de ver los gráficos de Matplotlib depende del contexto.\n",
    "El mejor uso de Matplotlib difiere dependiendo de cómo lo esté utilizando; a grandes rasgos, los tres contextos aplicables son el uso de Matplotlib en un script, en un terminal IPython o en un notebook IPython."
   ]
  },
  {
   "cell_type": "markdown",
   "metadata": {},
   "source": [
    "#### Trazado a partir de un script\n",
    "\n",
    "Si estás utilizando Matplotlib desde un script, la función ``plt.show()`` es tu amiga.\n",
    "\n",
    "``plt.show()`` inicia un bucle de eventos, busca todos los objetos figura actualmente activos, y abre una o más ventanas interactivas que muestran su figura o figuras.\n",
    "\n",
    "Así, por ejemplo, puedes tener un fichero llamado *myplot.py* que contenga lo siguiente:\n",
    "\n",
    "```python\n",
    "# ------- file: myplot.py ------\n",
    "import matplotlib.pyplot as plt\n",
    "import numpy as np\n",
    "\n",
    "x = np.linspace(0, 10, 100)\n",
    "\n",
    "plt.plot(x, np.sin(x))\n",
    "plt.plot(x, np.cos(x))\n",
    "\n",
    "plt.show()\n",
    "```\n",
    "\n",
    "A continuación, puede ejecutar este script desde la línea de comandos, con lo que se abrirá una ventana en la que se mostrará su figura:\n",
    "\n",
    "```\n",
    "$ python myplot.py\n",
    "```\n",
    "\n",
    "El comando ``plt.show()`` hace mucho bajo el capó, ya que debe interactuar con el backend gráfico interactivo de su sistema.\n",
    "Los detalles de esta operación pueden variar mucho de un sistema a otro e incluso de una instalación a otra, pero matplotlib hace todo lo posible para ocultarte todos estos detalles.\n",
    "\n",
    "Una cosa a tener en cuenta: el comando ``plt.show()`` debe ser utilizado *sólo una vez* por sesión de Python, y se ve más a menudo al final del script.\n",
    "\n",
    "Múltiples comandos ``show()`` pueden llevar a un comportamiento impredecible dependiente del backend, y deberían ser evitados."
   ]
  },
  {
   "cell_type": "markdown",
   "metadata": {},
   "source": [
    "#### Trazar desde un notebook IPython"
   ]
  },
  {
   "cell_type": "code",
   "execution_count": null,
   "metadata": {
    "collapsed": false
   },
   "outputs": [],
   "source": [
    "import numpy as np\n",
    "x = np.linspace(0, 10, 100)\n",
    "\n",
    "fig = plt.figure()\n",
    "plt.plot(x, np.sin(x), '-')\n",
    "plt.plot(x, np.cos(x), '--')\n",
    "plt.show();"
   ]
  },
  {
   "cell_type": "markdown",
   "metadata": {},
   "source": [
    "### Guardar figuras en un archivo\n",
    "\n",
    "Una buena característica de Matplotlib es la posibilidad de guardar figuras en una amplia variedad de formatos.\n",
    "Guardar una figura puede hacerse usando el comando ``savefig()``.\n",
    "Por ejemplo, para guardar la figura anterior como un archivo PNG, puede ejecutar esto:"
   ]
  },
  {
   "cell_type": "code",
   "execution_count": null,
   "metadata": {
    "collapsed": false
   },
   "outputs": [],
   "source": [
    "fig.savefig('my_figure.png')"
   ]
  },
  {
   "cell_type": "markdown",
   "metadata": {},
   "source": [
    "En ``savefig()``, el formato de archivo se deduce de la extensión del nombre de archivo dado.\n",
    "Dependiendo de qué backends tenga instalados, hay disponibles muchos formatos de archivo diferentes.\n",
    "La lista de tipos de archivo soportados se puede encontrar para su sistema utilizando el siguiente método del objeto figure canvas:"
   ]
  },
  {
   "cell_type": "code",
   "execution_count": null,
   "metadata": {
    "collapsed": false
   },
   "outputs": [],
   "source": [
    "fig.canvas.get_supported_filetypes()"
   ]
  },
  {
   "cell_type": "markdown",
   "metadata": {},
   "source": [
    "<!--NAVIGATION-->\n",
    "[Gráficos lineales sencillos](1-Line_Plots.ipynb) >\n"
   ]
  }
 ],
 "metadata": {
  "anaconda-cloud": {},
  "kernelspec": {
   "display_name": "Python 3",
   "language": "python",
   "name": "python3"
  },
  "language_info": {
   "codemirror_mode": {
    "name": "ipython",
    "version": 3
   },
   "file_extension": ".py",
   "mimetype": "text/x-python",
   "name": "python",
   "nbconvert_exporter": "python",
   "pygments_lexer": "ipython3",
   "version": "3.11.9"
  }
 },
 "nbformat": 4,
 "nbformat_minor": 0
}
