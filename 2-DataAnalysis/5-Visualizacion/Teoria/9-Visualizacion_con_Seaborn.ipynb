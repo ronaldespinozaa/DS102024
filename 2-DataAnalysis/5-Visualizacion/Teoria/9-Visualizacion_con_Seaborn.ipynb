{
 "cells": [
  {
   "cell_type": "markdown",
   "metadata": {},
   "source": [
    "# Visualización con Seaborn"
   ]
  },
  {
   "cell_type": "markdown",
   "metadata": {},
   "source": [
    "Matplotlib ha demostrado ser una herramienta de visualización increíblemente útil y popular, pero incluso los usuarios más ávidos admitirán que a menudo deja mucho que desear.\n",
    "Hay varias quejas válidas sobre Matplotlib que surgen a menudo:\n",
    "\n",
    "- Antes de la versión 2.0, los valores por defecto de Matplotlib no son exactamente las mejores opciones. Se basó en MATLAB alrededor de 1999, y esto a menudo se nota.\n",
    "- La API de Matplotlib es relativamente de bajo nivel. Hacer una visualización estadística sofisticada es posible, pero a menudo requiere *mucho* código repetitivo.\n",
    "- Matplotlib es anterior a Pandas por más de una década, y por lo tanto no está diseñado para su uso con Pandas ``DataFrame``s. Para visualizar los datos de un ``DataFrame`` de Pandas, hay que extraer cada ``Serie`` y a menudo concatenarlas en el formato adecuado. Sería mejor tener una librería de ploteo que pudiera usar inteligentemente las etiquetas del ``DataFrame`` en un ploteo.\n",
    "\n",
    "Una respuesta a estos problemas es [Seaborn](http://seaborn.pydata.org/). Seaborn proporciona una API sobre Matplotlib que ofrece opciones sanas para el estilo de trazado y los colores por defecto, define funciones simples de alto nivel para los tipos de trazado estadísticos comunes, y se integra con la funcionalidad proporcionada por Pandas ``DataFrame``."
   ]
  },
  {
   "cell_type": "markdown",
   "metadata": {},
   "source": [
    "## Seaborn Vs Matplotlib\n",
    "\n",
    "He aquí un ejemplo de un simple gráfico de paseo aleatorio en Matplotlib, utilizando su clásico formato y colores.\n",
    "Comenzamos con las importaciones típicas:"
   ]
  },
  {
   "cell_type": "code",
   "execution_count": null,
   "metadata": {
    "collapsed": true
   },
   "outputs": [],
   "source": [
    "import matplotlib.pyplot as plt\n",
    "plt.style.use('ggplot')\n",
    "%matplotlib inline\n",
    "import numpy as np\n",
    "import pandas as pd"
   ]
  },
  {
   "cell_type": "markdown",
   "metadata": {},
   "source": [
    "Ahora creamos algunos datos aleatorios:"
   ]
  },
  {
   "cell_type": "code",
   "execution_count": null,
   "metadata": {
    "collapsed": true
   },
   "outputs": [],
   "source": [
    "# Crear algunos datos\n",
    "rng = np.random.RandomState(0)\n",
    "x = np.linspace(0, 10, 500)\n",
    "y = np.cumsum(rng.randn(500, 6), 0)"
   ]
  },
  {
   "cell_type": "markdown",
   "metadata": {},
   "source": [
    "Y hacer una trama sencilla:"
   ]
  },
  {
   "cell_type": "code",
   "execution_count": null,
   "metadata": {
    "collapsed": false
   },
   "outputs": [],
   "source": [
    "# Trazar los datos con los valores por defecto de Matplotlib\n",
    "plt.plot(x, y)\n",
    "plt.legend('ABCDEF', ncol=2, loc='upper left');"
   ]
  },
  {
   "cell_type": "markdown",
   "metadata": {},
   "source": [
    "Aunque el resultado contiene toda la información que nos gustaría que transmitiera, lo hace de una forma que no es del todo agradable estéticamente, e incluso parece un poco anticuada en el contexto de la visualización de datos del siglo XXI.\n",
    "\n",
    "Veamos ahora cómo funciona con Seaborn.\n",
    "\n",
    "Como veremos, Seaborn tiene muchas de sus propias rutinas de trazado de alto nivel, pero también puede sobrescribir los parámetros por defecto de Matplotlib y, a su vez, hacer que incluso simples scripts de Matplotlib produzcan resultados muy superiores.\n",
    "Podemos establecer el estilo llamando al método ``set_theme()`` de Seaborn.\n",
    "Por convención, Seaborn se importa como ``sns``:"
   ]
  },
  {
   "cell_type": "code",
   "execution_count": null,
   "metadata": {
    "collapsed": false
   },
   "outputs": [],
   "source": [
    "import seaborn as sns\n",
    "sns.set_theme()"
   ]
  },
  {
   "cell_type": "markdown",
   "metadata": {},
   "source": [
    "Now let's rerun the same two lines as before:"
   ]
  },
  {
   "cell_type": "code",
   "execution_count": null,
   "metadata": {
    "collapsed": false
   },
   "outputs": [],
   "source": [
    "# mismo código de trazado que el anterior\n",
    "plt.plot(x, y)\n",
    "plt.legend('ABCDEF', ncol=2, loc='upper left');"
   ]
  },
  {
   "cell_type": "markdown",
   "metadata": {},
   "source": [
    "## Explorando los plots Seaborn\n",
    "\n",
    "La idea principal de Seaborn es que proporciona comandos de alto nivel para crear una variedad de tipos de gráficos útiles para la exploración de datos estadísticos, e incluso para el ajuste de modelos estadísticos.\n",
    "\n",
    "Veamos algunos de los conjuntos de datos y tipos de gráficos disponibles en Seaborn. Tenga en cuenta que todo lo siguiente *podría* hacerse utilizando comandos Matplotlib sin procesar (esto es, de hecho, lo que Seaborn hace bajo el capó), pero la API de Seaborn es mucho más conveniente."
   ]
  },
  {
   "cell_type": "markdown",
   "metadata": {},
   "source": [
    "### Histogramas, KDE y densidades\n",
    "\n",
    "A menudo, en la visualización de datos estadísticos, todo lo que quieres es trazar histogramas y distribuciones conjuntas de variables.\n",
    "Hemos visto que esto es relativamente sencillo en Matplotlib:"
   ]
  },
  {
   "cell_type": "code",
   "execution_count": null,
   "metadata": {
    "collapsed": false
   },
   "outputs": [],
   "source": [
    "data = np.random.multivariate_normal([0, 0], [[5, 2], [2, 2]], size=2000)\n",
    "data = pd.DataFrame(data, columns=['x', 'y'])\n",
    "\n",
    "for col in 'xy':\n",
    "    plt.hist(data[col], density=True, alpha=0.5)"
   ]
  },
  {
   "cell_type": "markdown",
   "metadata": {},
   "source": [
    "En lugar de un histograma, podemos obtener una estimación suave de la distribución utilizando una estimación de la densidad del núcleo, lo que Seaborn hace con ``sns.kdeplot``:"
   ]
  },
  {
   "cell_type": "code",
   "execution_count": null,
   "metadata": {
    "collapsed": false
   },
   "outputs": [],
   "source": [
    "for col in 'xy':\n",
    "    sns.kdeplot(data[col], fill=True)"
   ]
  },
  {
   "cell_type": "markdown",
   "metadata": {},
   "source": [
    "Los histogramas y los KDE pueden combinarse"
   ]
  },
  {
   "cell_type": "code",
   "execution_count": null,
   "metadata": {
    "collapsed": false
   },
   "outputs": [],
   "source": [
    "sns.histplot(data['x'],kde=True)\n",
    "sns.histplot(data['y'],kde=True);"
   ]
  },
  {
   "cell_type": "markdown",
   "metadata": {},
   "source": [
    "Si pasamos el conjunto de datos bidimensional completo a ``kdeplot``, obtendremos una visualización bidimensional de los datos:"
   ]
  },
  {
   "cell_type": "code",
   "execution_count": null,
   "metadata": {
    "collapsed": false
   },
   "outputs": [],
   "source": [
    "sns.kdeplot(data);"
   ]
  },
  {
   "cell_type": "markdown",
   "metadata": {},
   "source": [
    "Podemos ver la distribución conjunta y las distribuciones marginales juntas utilizando ``sns.jointplot``.\n",
    "Para este gráfico, vamos a establecer el estilo a un fondo blanco:"
   ]
  },
  {
   "cell_type": "code",
   "execution_count": null,
   "metadata": {
    "collapsed": false
   },
   "outputs": [],
   "source": [
    "with sns.axes_style('white'):\n",
    "    sns.jointplot(data[['x','y']], kind='kde');"
   ]
  },
  {
   "cell_type": "markdown",
   "metadata": {},
   "source": [
    "### Pair plots\n",
    "\n",
    "Cuando se generalizan los gráficos conjuntos a conjuntos de datos de mayores dimensiones, se obtienen *gráficos de pares*. Esto resulta muy útil para explorar correlaciones entre datos multidimensionales, cuando se desea representar todos los pares de valores entre sí.\n",
    "\n",
    "Haremos una demostración con el conocido conjunto de datos Iris, que contiene medidas de pétalos y sépalos de tres especies de iris:"
   ]
  },
  {
   "cell_type": "code",
   "execution_count": null,
   "metadata": {
    "collapsed": false
   },
   "outputs": [],
   "source": [
    "iris = sns.load_dataset(\"iris\")\n",
    "iris.head()"
   ]
  },
  {
   "cell_type": "markdown",
   "metadata": {},
   "source": [
    "Visualizing the multidimensional relationships among the samples is as easy as calling ``sns.pairplot``:"
   ]
  },
  {
   "cell_type": "code",
   "execution_count": null,
   "metadata": {
    "collapsed": false
   },
   "outputs": [],
   "source": [
    "sns.pairplot(iris, hue='species', height=2.5);"
   ]
  },
  {
   "cell_type": "markdown",
   "metadata": {},
   "source": [
    "### Histogramas facetados\n",
    "\n",
    "A veces la mejor manera de ver los datos es a través de histogramas de subconjuntos. El ``FacetGrid`` de Seaborn lo hace extremadamente sencillo.\n",
    "Vamos a ver unos datos que muestran la cantidad que el personal de un restaurante recibe en propinas en función de varios datos indicadores:"
   ]
  },
  {
   "cell_type": "code",
   "execution_count": null,
   "metadata": {
    "collapsed": false
   },
   "outputs": [],
   "source": [
    "tips = sns.load_dataset('tips')\n",
    "tips.head()"
   ]
  },
  {
   "cell_type": "code",
   "execution_count": null,
   "metadata": {
    "collapsed": false
   },
   "outputs": [],
   "source": [
    "tips['tip_pct'] = 100 * tips['tip'] / tips['total_bill']\n",
    "\n",
    "grid = sns.FacetGrid(tips, row=\"sex\", col=\"time\", margin_titles=True)\n",
    "grid.map(plt.hist, \"tip_pct\", bins=np.linspace(0, 40, 15));"
   ]
  },
  {
   "cell_type": "markdown",
   "metadata": {},
   "source": [
    "### Joint distributions\n",
    "\n",
    "De forma similar al pairplot que vimos anteriormente, podemos utilizar ``sns.jointplot`` para mostrar la distribución conjunta entre diferentes conjuntos de datos, junto con las distribuciones marginales asociadas:"
   ]
  },
  {
   "cell_type": "code",
   "execution_count": null,
   "metadata": {
    "collapsed": false
   },
   "outputs": [],
   "source": [
    "with sns.axes_style('white'):\n",
    "    sns.jointplot(data=tips,x=\"total_bill\", y=\"tip\",  kind='hex')"
   ]
  },
  {
   "cell_type": "markdown",
   "metadata": {},
   "source": [
    "El gráfico conjunto puede incluso realizar una estimación automática de la densidad del núcleo y una regresión:"
   ]
  },
  {
   "cell_type": "code",
   "execution_count": null,
   "metadata": {
    "collapsed": false
   },
   "outputs": [],
   "source": [
    "sns.jointplot(data=tips,x=\"total_bill\", y=\"tip\",  kind='reg')"
   ]
  },
  {
   "cell_type": "markdown",
   "metadata": {},
   "source": [
    "### Bar plots"
   ]
  },
  {
   "cell_type": "code",
   "execution_count": null,
   "metadata": {
    "collapsed": false
   },
   "outputs": [],
   "source": [
    "planets = sns.load_dataset('planets')\n",
    "planets.head()"
   ]
  },
  {
   "cell_type": "code",
   "execution_count": null,
   "metadata": {
    "collapsed": false
   },
   "outputs": [],
   "source": [
    "with sns.axes_style('white'):\n",
    "    g = sns.catplot(data=planets,x=\"year\",  aspect=2,\n",
    "                       kind=\"count\", color='steelblue')\n",
    "    g.set_xticklabels(step=5)"
   ]
  },
  {
   "cell_type": "markdown",
   "metadata": {},
   "source": [
    "Podemos aprender más observando el *método* de descubrimiento de cada uno de estos planetas:"
   ]
  },
  {
   "cell_type": "code",
   "execution_count": null,
   "metadata": {
    "collapsed": false
   },
   "outputs": [],
   "source": [
    "with sns.axes_style('white'):\n",
    "    g = sns.catplot(data=planets,x=\"year\", aspect=4.0, kind='count',\n",
    "                       hue='method', order=range(2001, 2015))\n",
    "    g.set_ylabels('Number of Planets Discovered')"
   ]
  },
  {
   "cell_type": "markdown",
   "metadata": {},
   "source": [
    "## Ejemplo: Exploración de los tiempos de llegada al maratón\n",
    "\n",
    "Aquí vamos a ver el uso de Seaborn para ayudar a visualizar y comprender los resultados finales de un maratón."
   ]
  },
  {
   "cell_type": "code",
   "execution_count": null,
   "metadata": {
    "collapsed": false
   },
   "outputs": [],
   "source": [
    "# !curl -o data/marathon-data.csv https://raw.githubusercontent.com/jakevdp/marathon-data/master/marathon-data.csv"
   ]
  },
  {
   "cell_type": "code",
   "execution_count": null,
   "metadata": {
    "collapsed": false
   },
   "outputs": [],
   "source": [
    "data = pd.read_csv('data/marathon-data.csv')\n",
    "data.head()"
   ]
  },
  {
   "cell_type": "markdown",
   "metadata": {},
   "source": [
    "Por defecto, Pandas carga las columnas de tiempo como cadenas de Python (tipo ``object``); podemos ver esto mirando el atributo ``dtypes`` del DataFrame:"
   ]
  },
  {
   "cell_type": "code",
   "execution_count": null,
   "metadata": {
    "collapsed": false
   },
   "outputs": [],
   "source": [
    "data.dtypes"
   ]
  },
  {
   "cell_type": "markdown",
   "metadata": {},
   "source": [
    "Arreglemos esto proporcionando un conversor para los tiempos:"
   ]
  },
  {
   "cell_type": "code",
   "execution_count": null,
   "metadata": {
    "collapsed": false
   },
   "outputs": [],
   "source": [
    "import datetime\n",
    "\n",
    "def convert_time(s):\n",
    "    h, m, s = map(int, s.split(':'))\n",
    "    return datetime.timedelta(hours=h, minutes=m, seconds=s)\n",
    "\n",
    "data = pd.read_csv('data/marathon-data.csv',\n",
    "                   converters={'split':convert_time, 'final':convert_time})\n",
    "data.head()"
   ]
  },
  {
   "cell_type": "code",
   "execution_count": null,
   "metadata": {
    "collapsed": false
   },
   "outputs": [],
   "source": [
    "data.dtypes"
   ]
  },
  {
   "cell_type": "markdown",
   "metadata": {},
   "source": [
    "Así queda mucho mejor. Para el propósito de nuestras utilidades de trazado Seaborn, vamos a añadir columnas que dan los tiempos en segundos:"
   ]
  },
  {
   "cell_type": "code",
   "execution_count": null,
   "metadata": {
    "collapsed": false
   },
   "outputs": [],
   "source": [
    "data['split_sec'] = data['split'].astype(int) / 1E9\n",
    "data['final_sec'] = data['final'].astype(int) / 1E9\n",
    "data.head()"
   ]
  },
  {
   "cell_type": "markdown",
   "metadata": {},
   "source": [
    "Para hacernos una idea del aspecto de los datos, podemos trazar un ``jointplot`` sobre los datos:"
   ]
  },
  {
   "cell_type": "code",
   "execution_count": null,
   "metadata": {
    "collapsed": false
   },
   "outputs": [],
   "source": [
    "with sns.axes_style('white'):\n",
    "    g = sns.jointplot( data,x=\"split_sec\", y=\"final_sec\", kind='hex')\n",
    "    g.ax_joint.plot(np.linspace(4000, 16000),\n",
    "                    np.linspace(8000, 32000), ':k')"
   ]
  },
  {
   "cell_type": "markdown",
   "metadata": {},
   "source": [
    "La línea de puntos muestra dónde se situaría el tiempo de alguien que corriera el maratón a un ritmo perfectamente constante. El hecho de que la distribución se sitúe por encima de esta línea indica (como era de esperar) que la mayoría de la gente va más despacio a lo largo del maratón.\n",
    "Si has corrido en competición, sabrás que los que hacen lo contrario -correr más rápido durante la segunda mitad de la carrera- se dice que han hecho un \"parcial negativo\".\n",
    "\n",
    "Creemos otra columna en los datos, la fracción fraccionada, que mide el grado en que cada corredor fracciona negativa o positivamente la carrera:"
   ]
  },
  {
   "cell_type": "code",
   "execution_count": null,
   "metadata": {
    "collapsed": false
   },
   "outputs": [],
   "source": [
    "data['split_frac'] = 1 - 2 * data['split_sec'] / data['final_sec']\n",
    "data.head()"
   ]
  },
  {
   "cell_type": "markdown",
   "metadata": {},
   "source": [
    "Cuando esta diferencia de división es menor que cero, la persona divide negativamente la carrera en esa fracción.\n",
    "Hagamos un gráfico de distribución de esta fracción de división:"
   ]
  },
  {
   "cell_type": "code",
   "execution_count": null,
   "metadata": {
    "collapsed": false
   },
   "outputs": [],
   "source": [
    "sns.histplot(data['split_frac'], kde=False);\n",
    "plt.axvline(0, color=\"k\", linestyle=\"--\");"
   ]
  },
  {
   "cell_type": "code",
   "execution_count": null,
   "metadata": {
    "collapsed": false
   },
   "outputs": [],
   "source": [
    "sum(data.split_frac < 0)"
   ]
  },
  {
   "cell_type": "markdown",
   "metadata": {},
   "source": [
    "De los casi 40.000 participantes, sólo 250 hicieron un split negativo en su maratón.\n",
    "\n",
    "Veamos si existe alguna correlación entre esta fracción de parciales y otras variables. Para ello utilizaremos ``pairgrid``, que dibuja gráficos de todas estas correlaciones:"
   ]
  },
  {
   "cell_type": "code",
   "execution_count": null,
   "metadata": {
    "collapsed": false
   },
   "outputs": [],
   "source": [
    "g = sns.PairGrid(data, vars=['age', 'split_sec', 'final_sec', 'split_frac'],\n",
    "                 hue='gender')\n",
    "g.map(plt.scatter, alpha=0.8)\n",
    "g.add_legend();"
   ]
  },
  {
   "cell_type": "markdown",
   "metadata": {},
   "source": [
    "Parece que la fracción de división no se correlaciona especialmente con la edad, pero sí con el tiempo final: los corredores más rápidos tienden a tener divisiones más cercanas a la par en su tiempo de maratón.\n",
    "\n",
    "La diferencia entre hombres y mujeres es interesante. Veamos el histograma de fracciones divididas para estos dos grupos:"
   ]
  },
  {
   "cell_type": "code",
   "execution_count": null,
   "metadata": {
    "collapsed": false
   },
   "outputs": [],
   "source": [
    "sns.kdeplot(data.split_frac[data.gender=='M'], label='men', fill=True)\n",
    "sns.kdeplot(data.split_frac[data.gender=='W'], label='women', fill=True)\n",
    "plt.xlabel('split_frac');"
   ]
  },
  {
   "cell_type": "markdown",
   "metadata": {},
   "source": [
    "Lo interesante aquí es que hay muchos más hombres que mujeres que corren casi a partes iguales.\n",
    "Casi parece una distribución bimodal entre hombres y mujeres. Veamos si podemos averiguar lo que ocurre observando las distribuciones en función de la edad.\n",
    "\n",
    "Una buena forma de comparar distribuciones es utilizar un *violin plot*."
   ]
  },
  {
   "cell_type": "code",
   "execution_count": null,
   "metadata": {
    "collapsed": false
   },
   "outputs": [],
   "source": [
    "sns.violinplot(data=data, x=\"gender\", y=\"split_frac\", \n",
    "               hue=\"gender\", palette=[\"lightblue\", \"lightpink\"], legend=False);"
   ]
  },
  {
   "cell_type": "markdown",
   "metadata": {},
   "source": [
    "Esta es otra forma de comparar las distribuciones entre hombres y mujeres.\n",
    "\n",
    "Profundicemos un poco más y comparemos estos gráficos de violín en función de la edad. Empezaremos creando una nueva columna en la matriz que especifique la década de edad en la que se encuentra cada persona:"
   ]
  },
  {
   "cell_type": "code",
   "execution_count": null,
   "metadata": {
    "collapsed": false
   },
   "outputs": [],
   "source": [
    "data['age_dec'] = data.age.map(lambda age: 10 * (age // 10))\n",
    "data.head()"
   ]
  },
  {
   "cell_type": "code",
   "execution_count": null,
   "metadata": {
    "collapsed": false
   },
   "outputs": [],
   "source": [
    "men = (data.gender == 'M')\n",
    "women = (data.gender == 'W')\n",
    "\n",
    "with sns.axes_style(style=None):\n",
    "    sns.violinplot(x=\"age_dec\", y=\"split_frac\", hue=\"gender\", data=data,\n",
    "                   split=True, inner=\"quartile\",\n",
    "                   palette=[\"lightblue\", \"lightpink\"])\n"
   ]
  },
  {
   "cell_type": "markdown",
   "metadata": {},
   "source": [
    "Si observamos esto, podemos ver en qué difieren las distribuciones de hombres y mujeres: las distribuciones de las divisiones de los hombres de entre 20 y 50 años muestran una pronunciada sobredensidad hacia las divisiones más bajas en comparación con las mujeres de la misma edad (o de cualquier edad, para el caso).\n",
    "\n",
    "También resulta sorprendente que las mujeres de 80 años parezcan superar a *todos* en términos de tiempo de split. Esto se debe probablemente al hecho de que estamos estimando la distribución a partir de números pequeños, ya que sólo hay un puñado de corredoras en ese rango:"
   ]
  },
  {
   "cell_type": "code",
   "execution_count": null,
   "metadata": {
    "collapsed": false
   },
   "outputs": [],
   "source": [
    "(data.age > 80).sum()"
   ]
  },
  {
   "cell_type": "markdown",
   "metadata": {},
   "source": [
    "Volviendo a los hombres con parciales negativos: ¿quiénes son estos corredores? ¿Esta fracción se correlaciona con terminar rápido? Podemos representar esto muy fácilmente. Utilizaremos ``regplot``, que ajustará automáticamente una regresión lineal a los datos:"
   ]
  },
  {
   "cell_type": "code",
   "execution_count": null,
   "metadata": {
    "collapsed": false
   },
   "outputs": [],
   "source": [
    "g = sns.lmplot(data=data,x='final_sec', y='split_frac', col='gender', \n",
    "               markers=\".\", scatter_kws=dict(color='c'))\n",
    "g.map(plt.axhline, y=0.1, color=\"k\", ls=\":\");"
   ]
  },
  {
   "cell_type": "markdown",
   "metadata": {},
   "source": [
    "Al parecer, los corredores de élite que terminan la carrera en menos de 15.000 segundos, es decir, en unas 4 horas, son los que tienen parciales más rápidos. Las personas más lentas tienen muchas menos probabilidades de tener un segundo parcial rápido (estrategia de carrera en la cual un corredor completa la segunda mitad de la carrera más rápido que la primera mitad.)."
   ]
  },
  {
   "cell_type": "markdown",
   "metadata": {},
   "source": [
    "<!--NAVIGATION-->\n",
    "< [Texto y Anotaciones](8-Text_y_Annotation.ipynb) | [Otras Librerías](10-Otras_librerias.ipynb) >\n",
    "\n"
   ]
  }
 ],
 "metadata": {
  "anaconda-cloud": {},
  "kernelspec": {
   "display_name": "Python 3",
   "language": "python",
   "name": "python3"
  },
  "language_info": {
   "codemirror_mode": {
    "name": "ipython",
    "version": 3
   },
   "file_extension": ".py",
   "mimetype": "text/x-python",
   "name": "python",
   "nbconvert_exporter": "python",
   "pygments_lexer": "ipython3",
   "version": "3.11.9"
  }
 },
 "nbformat": 4,
 "nbformat_minor": 0
}
