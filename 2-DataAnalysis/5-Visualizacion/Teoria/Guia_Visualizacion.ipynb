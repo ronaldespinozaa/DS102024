{
 "cells": [
  {
   "cell_type": "markdown",
   "metadata": {},
   "source": [
    "# **Guía de Tipos de Gráficos en Ciencia de Datos**"
   ]
  },
  {
   "cell_type": "markdown",
   "metadata": {},
   "source": [
    "Esta guía describe varios tipos de gráficos comunes en ciencia de datos, sus usos, y cuándo es apropiado utilizarlos. La mayoría de estos gráficos se pueden crear utilizando la librería `seaborn` en Python."
   ]
  },
  {
   "cell_type": "markdown",
   "metadata": {},
   "source": [
    "## 1. **Histograma**\n",
    "\n",
    "### ¿Para qué sirve?\n",
    "Un histograma se utiliza para visualizar la distribución de un conjunto de datos continuos. Divide los datos en \"bins\" o contenedores, mostrando cuántos datos caen dentro de cada contenedor.\n",
    "\n",
    "### ¿Cuándo usarlo?\n",
    "- Para analizar la distribución de una variable continua.\n",
    "- Para identificar patrones como la normalidad, sesgo, y la presencia de outliers."
   ]
  },
  {
   "cell_type": "markdown",
   "metadata": {},
   "source": [
    "## 2. **Boxplot**\n",
    "\n",
    "### ¿Para qué sirve?\n",
    "Un boxplot (o diagrama de caja) muestra la distribución de datos en base a cinco números estadísticos: mínimo, primer cuartil, mediana, tercer cuartil, y máximo. También puede mostrar outliers.\n",
    "\n",
    "### ¿Cuándo usarlo?\n",
    "- Para comparar la distribución de una variable continua entre diferentes categorías.\n",
    "- Para identificar outliers."
   ]
  },
  {
   "cell_type": "markdown",
   "metadata": {},
   "source": [
    "## 3. **Violin Plot**\n",
    "\n",
    "### ¿Para qué sirve?\n",
    "Un violin plot combina aspectos de un boxplot y un KDE (Kernel Density Estimate), mostrando la distribución de los datos y su densidad.\n",
    "\n",
    "### ¿Cuándo usarlo?\n",
    "- Para comparar la distribución y la densidad de una variable continua entre diferentes categorías.\n",
    "- Útil cuando quieres ver tanto la dispersión como la densidad.\n"
   ]
  },
  {
   "cell_type": "markdown",
   "metadata": {},
   "source": [
    "## 4. **Scatter Plot**\n",
    "\n",
    "### ¿Para qué sirve?\n",
    "Un scatter plot (diagrama de dispersión) muestra la relación entre dos variables continuas. Cada punto en el gráfico representa una observación.\n",
    "\n",
    "### ¿Cuándo usarlo?\n",
    "- Para explorar relaciones o correlaciones entre dos variables continuas.\n",
    "- Para identificar patrones, grupos, o outliers."
   ]
  },
  {
   "cell_type": "markdown",
   "metadata": {},
   "source": [
    "## 5. **Line Plot**\n",
    "\n",
    "### ¿Para qué sirve?\n",
    "Un line plot (gráfico de líneas) muestra la relación entre dos variables, donde los puntos están conectados por una línea. Es útil para visualizar tendencias a lo largo del tiempo o de otra variable ordenada.\n",
    "\n",
    "### ¿Cuándo usarlo?\n",
    "- Para mostrar la evolución de una variable continua a lo largo del tiempo.\n",
    "- Para ver la tendencia de una variable."
   ]
  },
  {
   "cell_type": "markdown",
   "metadata": {},
   "source": [
    "## 6. **Catplot**\n",
    "\n",
    "### ¿Para qué sirve?\n",
    "Catplot es una función versátil que puede crear varios tipos de gráficos categóricos como boxplot, violinplot, barplot, etc., utilizando una interfaz consistente.\n",
    "\n",
    "### ¿Cuándo usarlo?\n",
    "- Cuando necesitas crear gráficos categóricos complejos o quieres comparar diferentes tipos de gráficos categóricos con facilidad."
   ]
  },
  {
   "cell_type": "markdown",
   "metadata": {},
   "source": [
    "## 7. **Barplot**\n",
    "\n",
    "### ¿Para qué sirve?\n",
    "Un barplot (gráfico de barras) muestra la relación entre una variable categórica y una variable continua. Las alturas de las barras representan la media (o algún otro resumen) de la variable continua.\n",
    "\n",
    "### ¿Cuándo usarlo?\n",
    "- Para comparar la media de una variable continua entre diferentes categorías.\n",
    "- Cuando quieres resumir datos categóricos."
   ]
  },
  {
   "cell_type": "markdown",
   "metadata": {},
   "source": [
    "## 8. **Countplot**\n",
    "\n",
    "### ¿Para qué sirve?\n",
    "Un countplot muestra la cantidad de observaciones en cada categoría de una variable categórica.\n",
    "\n",
    "### ¿Cuándo usarlo?\n",
    "- Para contar el número de observaciones en cada categoría de una variable categórica.\n",
    "- Útil en análisis exploratorios para entender la distribución de categorías."
   ]
  },
  {
   "cell_type": "markdown",
   "metadata": {},
   "source": [
    "## 9. **Heatmap**\n",
    "\n",
    "### ¿Para qué sirve?\n",
    "Un heatmap (mapa de calor) muestra datos tabulares en forma de matriz, donde los valores se representan con colores. Es útil para visualizar matrices de correlación o cualquier tipo de datos bidimensionales.\n",
    "\n",
    "### ¿Cuándo usarlo?\n",
    "- Para visualizar la correlación entre varias variables.\n",
    "- Para representar matrices de datos en una forma más comprensible."
   ]
  },
  {
   "cell_type": "markdown",
   "metadata": {},
   "source": [
    "## 10. **Pairplot**\n",
    "\n",
    "### ¿Para qué sirve?\n",
    "Un pairplot crea un conjunto de gráficos de dispersión entre pares de variables, junto con histogramas o KDEs para cada variable individual.\n",
    "\n",
    "### ¿Cuándo usarlo?\n",
    "- Para explorar relaciones entre múltiples variables a la vez.\n",
    "- Útil en análisis exploratorios para descubrir relaciones y patrones en datos multivariados."
   ]
  },
  {
   "cell_type": "markdown",
   "metadata": {},
   "source": [
    "## 11. **KDE Plot**\n",
    "\n",
    "### ¿Para qué sirve?\n",
    "Un KDE plot (Kernel Density Estimate) muestra la densidad estimada de una variable continua. Es una alternativa más suave a los histogramas.\n",
    "\n",
    "### ¿Cuándo usarlo?\n",
    "- Para visualizar la distribución de una variable continua de forma más suave.\n",
    "- Para comparar la distribución entre diferentes categorías."
   ]
  },
  {
   "cell_type": "markdown",
   "metadata": {},
   "source": [
    "## 12. **Swarmplot**\n",
    "\n",
    "### ¿Para qué sirve?\n",
    "Un swarmplot distribuye puntos de datos en el eje horizontal (o vertical) de manera que no se superpongan, proporcionando una buena alternativa a los gráficos de violín y caja para ver la distribución de puntos individuales.\n",
    "\n",
    "### ¿Cuándo usarlo?\n",
    "- Para mostrar todas las observaciones individuales junto con su distribución.\n",
    "- Útil para visualizar la distribución de puntos en un espacio categórico."
   ]
  },
  {
   "cell_type": "markdown",
   "metadata": {},
   "source": [
    "## 13. **Jointplot**\n",
    "\n",
    "### ¿Para qué sirve?\n",
    "Un jointplot combina gráficos de dispersión y KDE o histogramas para mostrar la relación entre dos variables y sus distribuciones marginales.\n",
    "\n",
    "### ¿Cuándo usarlo?\n",
    "- Para analizar la relación entre dos variables continuas junto con sus distribuciones.\n",
    "- Útil para descubrir correlaciones y patrones entre dos variables."
   ]
  }
 ],
 "metadata": {
  "language_info": {
   "name": "python"
  }
 },
 "nbformat": 4,
 "nbformat_minor": 2
}
