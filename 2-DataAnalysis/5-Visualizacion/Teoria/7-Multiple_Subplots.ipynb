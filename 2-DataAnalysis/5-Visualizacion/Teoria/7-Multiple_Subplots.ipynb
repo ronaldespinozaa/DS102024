{
 "cells": [
  {
   "cell_type": "markdown",
   "metadata": {},
   "source": [
    "# Multiple Subplots"
   ]
  },
  {
   "cell_type": "markdown",
   "metadata": {},
   "source": [
    "A veces es útil comparar diferentes vistas de los datos una al lado de la otra.\n",
    "Con este fin, Matplotlib tiene el concepto de *subplots*: grupos de ejes más pequeños que pueden existir juntos dentro de una sola figura.\n",
    "Estos subplots pueden ser inserciones, cuadrículas de gráficos u otros diseños más complicados."
   ]
  },
  {
   "cell_type": "code",
   "execution_count": null,
   "metadata": {
    "collapsed": true
   },
   "outputs": [],
   "source": [
    "import matplotlib.pyplot as plt\n",
    "plt.style.use('ggplot')\n",
    "import numpy as np"
   ]
  },
  {
   "cell_type": "markdown",
   "metadata": {},
   "source": [
    "## ``plt.axes``: Subplots a mano\n",
    "\n",
    "El método más básico para crear un eje es utilizar la función ``plt.axes``.\n",
    "Como hemos visto anteriormente, por defecto crea un objeto eje estándar que rellena toda la figura.\n",
    "``plt.axes`` también toma un argumento opcional que es una lista de cuatro números en el sistema de coordenadas de la figura.\n",
    "Estos números representan ``[izquierda, abajo, ancho, alto]`` en el sistema de coordenadas de la figura, que va de 0 en la parte inferior izquierda de la figura a 1 en la parte superior derecha de la figura.\n",
    "\n",
    "Por ejemplo, podemos crear un eje de inserción en la esquina superior derecha de otro eje estableciendo la posición *x* e *y* en 0,65 (es decir, comenzando en el 65% de la anchura y el 65% de la altura de la figura) y las extensiones *x* e *y* en 0,2 (es decir, el tamaño de los ejes es el 20% de la anchura y el 20% de la altura de la figura):"
   ]
  },
  {
   "cell_type": "code",
   "execution_count": null,
   "metadata": {
    "collapsed": false
   },
   "outputs": [],
   "source": [
    "ax1 = plt.axes()  # ejes estándar\n",
    "ax2 = plt.axes([0.65, 0.65, 0.2, 0.2])"
   ]
  },
  {
   "cell_type": "markdown",
   "metadata": {},
   "source": [
    "El equivalente de este comando dentro de la interfaz orientada a objetos es ``fig.add_axes()``. Usemos esto para crear dos ejes apilados verticalmente:"
   ]
  },
  {
   "cell_type": "code",
   "execution_count": null,
   "metadata": {
    "collapsed": false
   },
   "outputs": [],
   "source": [
    "fig = plt.figure()\n",
    "ax1 = fig.add_axes([0.1, 0.5, 0.8, 0.4],\n",
    "                   xticklabels=[], ylim=(-1.2, 1.2))\n",
    "ax2 = fig.add_axes([0.1, 0.1, 0.8, 0.4],\n",
    "                   ylim=(-1.2, 1.2))\n",
    "\n",
    "x = np.linspace(0, 10)\n",
    "ax1.plot(np.sin(x))\n",
    "ax2.plot(np.cos(x));"
   ]
  },
  {
   "cell_type": "markdown",
   "metadata": {},
   "source": [
    "Ahora tenemos dos ejes (el superior sin etiquetas) que se están tocando: la parte inferior del panel superior (en la posición 0,5) coincide con la parte superior del panel inferior (en la posición 0,1 + 0,4)."
   ]
  },
  {
   "cell_type": "markdown",
   "metadata": {},
   "source": [
    "## ``plt.subplot``: Cuadrículas simples de subplots\n",
    "\n",
    "Las columnas o filas alineadas de subplots son una necesidad tan común que Matplotlib tiene varias rutinas que facilitan su creación.\n",
    "El nivel más bajo es ``plt.subplot()``, que crea un único subgrupo dentro de una rejilla.\n",
    "Como puede ver, este comando toma tres argumentos enteros: el número de filas, el número de columnas y el índice del gráfico a crear en este esquema, que va desde la parte superior izquierda a la inferior derecha:"
   ]
  },
  {
   "cell_type": "code",
   "execution_count": null,
   "metadata": {
    "collapsed": false
   },
   "outputs": [],
   "source": [
    "for i in range(1, 7):\n",
    "    plt.subplot(2, 3, i)\n",
    "    plt.text(0.5, 0.5, str((2, 3, i)),\n",
    "             fontsize=18, ha='center')"
   ]
  },
  {
   "cell_type": "markdown",
   "metadata": {},
   "source": [
    "El comando ``plt.subplots_adjust`` puede utilizarse para ajustar el espaciado entre estos gráficos.\n",
    "El siguiente código utiliza el comando orientado a objetos equivalente, ``fig.add_subplot()``:"
   ]
  },
  {
   "cell_type": "code",
   "execution_count": null,
   "metadata": {
    "collapsed": false
   },
   "outputs": [],
   "source": [
    "fig = plt.figure()\n",
    "fig.subplots_adjust(hspace=0.4, wspace=0.4)\n",
    "for i in range(1, 7):\n",
    "    ax = fig.add_subplot(2, 3, i)\n",
    "    ax.text(0.5, 0.5, str((2, 3, i)),\n",
    "           fontsize=18, ha='center')"
   ]
  },
  {
   "cell_type": "markdown",
   "metadata": {},
   "source": [
    "Hemos utilizado los argumentos ``hspace`` y ``wspace`` de ``plt.subplots_adjust``, que especifican el espaciado a lo largo de la altura y la anchura de la figura, en unidades del tamaño de la subplot (en este caso, el espacio es el 40% de la anchura y la altura de la subplot)."
   ]
  },
  {
   "cell_type": "markdown",
   "metadata": {},
   "source": [
    "## ``plt.subplots``: Toda la cuadrícula de una vez\n",
    "\n",
    "El método descrito puede llegar a ser bastante tedioso cuando se crea una rejilla grande de subplots, especialmente si desea ocultar las etiquetas de los ejes X e Y en las parcelas interiores.\n",
    "Para este propósito, ``plt.subplots()`` es la herramienta más fácil de usar. En lugar de crear un único subplot, esta función crea una rejilla completa de subplots en una sola línea, devolviéndolos en un array NumPy.\n",
    "Los argumentos son el número de filas y el número de columnas, junto con las palabras clave opcionales ``sharex`` y ``sharey``, que permiten especificar las relaciones entre los distintos ejes.\n",
    "\n",
    "Aquí crearemos una rejilla de subplots de $2 \\times 3$, donde todos los ejes de la misma fila comparten la escala del eje y, y todos los ejes de la misma columna comparten la escala del eje x:"
   ]
  },
  {
   "cell_type": "code",
   "execution_count": null,
   "metadata": {
    "collapsed": false
   },
   "outputs": [],
   "source": [
    "fig, ax = plt.subplots(2, 3, sharex='col', sharey='row')"
   ]
  },
  {
   "cell_type": "markdown",
   "metadata": {},
   "source": [
    "Tenga en cuenta que al especificar ``sharex`` y ``sharey``, hemos eliminado automáticamente las etiquetas interiores de la rejilla para hacer el gráfico más limpio.\n",
    "La rejilla resultante de instancias de ejes se devuelve dentro de una matriz NumPy, lo que permite la especificación conveniente de los ejes deseados utilizando la notación estándar de indexación de matrices:"
   ]
  },
  {
   "cell_type": "code",
   "execution_count": null,
   "metadata": {
    "collapsed": false
   },
   "outputs": [],
   "source": [
    "# los ejes están en una matriz bidimensional, indexada por [row, col].\n",
    "for i in range(2):\n",
    "    for j in range(3):\n",
    "        ax[i, j].text(0.5, 0.5, str((i, j)),\n",
    "                      fontsize=18, ha='center')\n",
    "fig"
   ]
  },
  {
   "cell_type": "markdown",
   "metadata": {},
   "source": [
    "En comparación con ``plt.subplot()``, ``plt.subplots()`` es más consistente con la indexación convencional basada en 0 de Python."
   ]
  },
  {
   "cell_type": "markdown",
   "metadata": {},
   "source": [
    "## ``plt.GridSpec``: Arreglos más complicados\n",
    "\n",
    "Para ir más allá de una rejilla normal y crear subplots que abarquen varias filas y columnas, ``plt.GridSpec()`` es la mejor herramienta.\n",
    "El objeto ``plt.GridSpec()`` no crea un gráfico por sí mismo; es simplemente una interfaz práctica que es reconocida por el comando ``plt.subplot()``.\n",
    "Por ejemplo, una gridspec para una rejilla de dos filas y tres columnas con algún espacio especificado de anchura y altura se parece a esto:"
   ]
  },
  {
   "cell_type": "code",
   "execution_count": null,
   "metadata": {
    "collapsed": false
   },
   "outputs": [],
   "source": [
    "grid = plt.GridSpec(2, 3, wspace=0.4, hspace=0.3)"
   ]
  },
  {
   "cell_type": "markdown",
   "metadata": {},
   "source": [
    "A partir de aquí podemos especificar las ubicaciones y extensiones de las subparcelas utilizando la conocida sintaxis de corte de Python:"
   ]
  },
  {
   "cell_type": "code",
   "execution_count": null,
   "metadata": {
    "collapsed": false
   },
   "outputs": [],
   "source": [
    "plt.subplot(grid[0, 0])\n",
    "plt.subplot(grid[0, 1:])\n",
    "plt.subplot(grid[1, :2])\n",
    "plt.subplot(grid[1, 2]);"
   ]
  },
  {
   "cell_type": "markdown",
   "metadata": {},
   "source": [
    "Este tipo de alineación flexible de la rejilla tiene una amplia gama de usos.\n",
    "Se utiliza con más frecuencia para crear histogramas de varios ejes como los que se muestran aquí:"
   ]
  },
  {
   "cell_type": "code",
   "execution_count": null,
   "metadata": {
    "collapsed": false
   },
   "outputs": [],
   "source": [
    "# Crear unos datos con distribución normal\n",
    "mean = [0, 0]\n",
    "cov = [[1, 1], [1, 2]]\n",
    "x, y = np.random.multivariate_normal(mean, cov, 3000).T\n",
    "\n",
    "# Configurar los ejes con gridspec\n",
    "fig = plt.figure(figsize=(6, 6))\n",
    "grid = plt.GridSpec(4, 4, hspace=0.2, wspace=0.2)\n",
    "main_ax = fig.add_subplot(grid[:-1, 1:])\n",
    "y_hist = fig.add_subplot(grid[:-1, 0], xticklabels=[], sharey=main_ax)\n",
    "x_hist = fig.add_subplot(grid[-1, 1:], yticklabels=[], sharex=main_ax)\n",
    "\n",
    "# puntos de dispersión en los ejes principales\n",
    "main_ax.plot(x, y, 'ok', markersize=3, alpha=0.2)\n",
    "\n",
    "# histograma en los ejes adjuntos\n",
    "x_hist.hist(x, 40, histtype='stepfilled',\n",
    "            orientation='vertical', color='gray')\n",
    "x_hist.invert_yaxis()\n",
    "\n",
    "y_hist.hist(y, 40, histtype='stepfilled',\n",
    "            orientation='horizontal', color='gray')\n",
    "y_hist.invert_xaxis()"
   ]
  },
  {
   "cell_type": "markdown",
   "metadata": {},
   "source": [
    "<!--NAVIGATION-->\n",
    "< [Customizando Legendas](7-Customizing_Legends.ipynb) | [Texto y anotación](8-Text_y_Annotation.ipynb) >\n"
   ]
  }
 ],
 "metadata": {
  "anaconda-cloud": {},
  "kernelspec": {
   "display_name": "Python 3",
   "language": "python",
   "name": "python3"
  },
  "language_info": {
   "codemirror_mode": {
    "name": "ipython",
    "version": 3
   },
   "file_extension": ".py",
   "mimetype": "text/x-python",
   "name": "python",
   "nbconvert_exporter": "python",
   "pygments_lexer": "ipython3",
   "version": "3.11.9"
  }
 },
 "nbformat": 4,
 "nbformat_minor": 0
}
