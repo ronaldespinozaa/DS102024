{
  "cells": [
    {
      "cell_type": "markdown",
      "metadata": {
        "id": "SK0x1ge8PTr9"
      },
      "source": [
        "# Introducción a Bases de datos y SQL\n",
        "\n",
        "\n",
        "\n",
        "\n",
        "\n",
        "---\n",
        "\n"
      ]
    },
    {
      "cell_type": "markdown",
      "metadata": {
        "id": "UUbJeNRBJoxT"
      },
      "source": [
        "### Recapitulación de la clase SQL\n",
        "\n",
        "En la clase anterior tuvimos una introducción a los conceptos claves de SQL:\n",
        "1. ¿Qué es una base de datos? ¿Para qué nos sirve?\n",
        "2. ¿Qué NO es una base de datos? {Excel por ejemplo}\n",
        "3. ¿Qué es un DBMS? ¿Qué es un motor de bases de datos?\n",
        "4. Tipos de bases de datos\n",
        "  - Pros y contras de las mismas\n",
        "5. Tipos de datos\n",
        "6. Diseño y creación de una base de datos\n",
        "7. Introducción al lenguaje SQL\n",
        "  - Como se conforma un comando SELECT"
      ]
    },
    {
      "cell_type": "markdown",
      "metadata": {
        "id": "DLQgbHbCaFjx"
      },
      "source": [
        "## Entremos en profundidad en dos puntos clave: \n",
        "\n",
        "#### Tipos de datos: ¿por qué son tan importantes?"
      ]
    },
    {
      "cell_type": "markdown",
      "metadata": {
        "id": "0X1FEB8lbnTF"
      },
      "source": [
        "A la hora de crear el esquema de nuestras tablas, es muy importante que conozcamos en detalle nuestros datos:\n",
        "- ¿Qué volumen manejaremos?\n",
        "- ¿Cuales y como son las fuentes de datos que recibiremos?\n",
        "- ¿Hay cambios? ¿Con qué frecuencia?"
      ]
    },
    {
      "cell_type": "markdown",
      "metadata": {
        "id": "om7c5ExabnQ2"
      },
      "source": [
        "### Revisando la creación de la tabla 'Customers' de la clase pasada:\n",
        "\n",
        "\n",
        "\n",
        "```\n",
        "CREATE TABLE IF NOT EXISTS bootcamp.Customers (\n",
        "  customer_id INT NOT NULL,\n",
        "  customer_name VARCHAR(50) NOT NULL,\n",
        "  fecha_inicio DATE NOT NULL,\n",
        "  fecha_fin DATE,\n",
        "  PRIMARY KEY (customer_id)\n",
        "  );\n",
        "```\n",
        "\n",
        "### ¿Cual es la diferencia entre estas dos formas de crear la tabla?\n",
        "\n",
        "```\n",
        "CREATE TABLE IF NOT EXISTS bootcamp.Customers (\n",
        "  customer_id BIGINT NOT NULL,\n",
        "  customer_name TEXT NOT NULL,\n",
        "  fecha_inicio DATE NOT NULL,\n",
        "  fecha_fin DATE ,\n",
        "  PRIMARY KEY (customer_id)\n",
        "  );\n",
        "```\n",
        "\n",
        "A priori, las diferencias no parecen muy grandes:\n",
        "- En el primer caso tenemos que:\n",
        "  - customer_id será de tipo INT\n",
        "  - customer_name será de tipo VARCHAR(50)\n",
        "  - fecha_inicio y fecha_fin serán de tipo DATE\n",
        "\n",
        "- En el segundo caso tenemos que:\n",
        "  - customer_id sería de tipo BIGINT\n",
        "  - customer_name sería de tipo TEXT\n",
        "\n",
        "\n",
        "\n",
        "\n",
        "\n",
        "Éste paso, que en ocasiones puede aparentar trivial, es muy importante a la hora de administrar nuestras bases de datos por distintas razones.\n",
        "\n",
        "1. Elegir INT por sobre BIGINT haría que cada valor de 'customer_id' sea más ligero de almacenar pero nos \"ata\" al rango de valores que el tipo de dato INT implica.\n",
        "2. En el caso de 'customer_name' sucede algo similar, si nosotros optamos por elegir el tipo de dato VARCHAR(50) cada valor de dicha columna ocupará 2 bytes + el número de caracteres pero tiene la contra de que si un cliente tuviera un nombre muy largo, superior a los 50 caracteres no podríamos ingresarlo directamente a la tabla.\n",
        "\n",
        "\n",
        "\n",
        "\n",
        "\n",
        "---\n",
        "\n",
        "\n",
        "\n",
        "---\n",
        "\n"
      ]
    },
    {
      "cell_type": "markdown",
      "metadata": {
        "id": "f47r-ZjmbnV2"
      },
      "source": [
        "### Repaso de la anatomía de un comando SELECT\n",
        "De la clase anterior sabemos que\n",
        "\n",
        "La sentencia SELECT se compone de varias cláusulas:\n",
        "\n",
        "* SELECT\n",
        "\n",
        "* FROM\n",
        "\n",
        "* WHERE\n",
        "\n",
        "* GROUP BY\n",
        "\n",
        "* ORDER BY\n",
        "\n",
        "* HAVING\n",
        "\n",
        "\n",
        "Sin embargo, algo que no mencionamos es que el ORDEN en el que escribamos nuestras clausulas es muy importante. Si no respetamos dicho orden el comando puede fallar por completo.\n",
        "\n",
        "En éste sentido, les presentamos una regla nemotécnica para recordar el orden en el que deben ir las clausulas.\n",
        "\n",
        "***'So few workers go home on time'***\n",
        "\n",
        "So = SELECT\n",
        "\n",
        "Few = FROM\n",
        "\n",
        "Workers = WHERE\n",
        "\n",
        "Go = GROUPBY\n",
        "\n",
        "Home = HAVING\n",
        "\n",
        "On = ORDERBY\n",
        "\n",
        "time"
      ]
    },
    {
      "cell_type": "markdown",
      "metadata": {
        "id": "vtYLwHsfv5k2"
      },
      "source": [
        "Ejemplos: \n",
        "\n",
        "\n",
        "Ésta sentencia SQL es incorrecta y arrojaría un error\n",
        "```\n",
        "SELECT columna1, COUNT(columna2)\n",
        "FROM tabla\n",
        "GROUP BY columna1\n",
        "WHERE columna2 = 1\n",
        "```\n",
        "\n",
        "Por su parte la siguiente sentencia funcionaría:\n",
        "\n",
        "```\n",
        "SELECT columna1, COUNT(columna2)\n",
        "FROM tabla\n",
        "WHERE columna2 = 1\n",
        "GROUP BY columna1\n",
        "```\n",
        "\n",
        "Como se ve, la diferencia aparenta ser pequeña pero puede darnos muchos dolores de cabeza si no prestamos atención al orden de las clausulas.\n"
      ]
    },
    {
      "cell_type": "markdown",
      "metadata": {
        "id": "gSbqZhyjv5in"
      },
      "source": [
        "\n",
        "\n",
        "---\n",
        "\n",
        "\n",
        "\n",
        "---\n",
        "\n"
      ]
    },
    {
      "cell_type": "markdown",
      "metadata": {
        "id": "dsAt21FDv5pO"
      },
      "source": [
        "## Introducción a las vistas o views\n",
        "\n",
        "Una vista es una tabla \"virtual\" basada en el resultado de una consulta de tipo \"SELECT\" a una tabla.\n",
        "\n",
        "Existen varias razones por las cuales las vistas nos pueden resultar útiles:\n",
        "- Por temas de seguridad, podríamos necesitar que un grupo de usuarios tenga acceso exclusivamente a algunos datos y no otros dentro de una tabla.\n",
        "- Por temas de conveniencia, nos podría interesar filtrar las columnas que queremos que un usuario vea.\n",
        "- Etc,.\n",
        "\n",
        "\n",
        "Crear una vista es muy similar a crear una tabla con la importante diferencia que tenemos que especificar un comando SELECT a la hora de crearla.\n",
        "\n",
        "\n",
        "Como ejemplo, vamos a crear una vista en la cual queremos mostrar datos de la tabla 'bootcamp.Customers' que trabajamos la clase anterior, con la condición de que solo vamos a mostrar los clientes cuyo nombre contenga la letra 'u'.\n",
        "\n",
        "En este caso, vamos a crear una vista con las mismas columnas que la tabla original pero filtrando los registros o las filas.\n",
        "```\n",
        "CREATE VIEW vista_ejemplo AS\n",
        "SELECT *\n",
        "FROM bootcamp.Customers c\n",
        "WHERE c.customer_name LIKE '%u%'\n",
        "```\n",
        "\n",
        "De la misma manera podríamos crear una vista que contenga las mismas filas que la tabla original pero filtrando las columnas que queremos mostrar.\n",
        "\n",
        "```\n",
        "CREATE VIEW vista_ejemplo_2 AS\n",
        "SELECT c.customer_name, c.fecha_inicio\n",
        "FROM bootcamp.Customers c\n",
        "```\n",
        "\n",
        "Por último, lógicamente ésto se puede complicar tanto como lo deseemos. Pongamos como ejemplo que algún usuario nos solicita tener una vista disponible que muestre lo siguiente:\n",
        "\n",
        "- Solamente el nombre de los usuarios\n",
        "- Que se dieron de alta el día de ayer\n",
        "\n",
        "```\n",
        "CREATE VIEW vista_ejemplo_3 AS\n",
        "SELECT c.customer_name, c.fecha_inicio\n",
        "FROM bootcamp.Customers c\n",
        "WHERE c.fecha_inicio = current_date - 1\n",
        "```\n"
      ]
    },
    {
      "cell_type": "markdown",
      "metadata": {
        "id": "GFZgwmODp6F1"
      },
      "source": [
        "\n",
        "\n",
        "---\n",
        "\n",
        "\n",
        "\n",
        "---\n",
        "\n",
        "\n",
        "\n",
        "---\n",
        "\n"
      ]
    },
    {
      "cell_type": "markdown",
      "metadata": {
        "id": "LLK-aHOe1tXY"
      },
      "source": [
        "## Introducción a las subconsultas o subqueries\n",
        "\n",
        "Como indica su nombre, una subconsulta o subquery, es una query de SQL anidada dentro de una query mayor.\n",
        "\n",
        "Hasta el momento trabajamos con consultas o queries relativamente sencillas, pero a medida que se complica el trabajo nos vamos a encontrar con situaciones en las que las subqueries resultan muy útiles.\n",
        "\n",
        "Una subquery puede estar anidada dentro de una consulta de tipo SELECT, INSERT, UPDATE o DELETE pero se utiliza -generalmente- en conjunto con la clausula WHERE dentro de una sentencia SELECT. \n",
        "\n",
        "Veamoslo con un ejemplo para entenderlo mejor:\n",
        "Retomando la siguiente tabla 'bootcamp.Orders', tenemos \n",
        "\n",
        "\n",
        "```\n",
        "CREATE TABLE IF NOT EXISTS bootcamp.Orders (\n",
        "  order_id INT NOT NULL,\n",
        "  customer_id INT NOT NULL,\n",
        "  order_date DATE NOT NULL,\n",
        "  order_price DECIMAL(8,2),\n",
        "  PRIMARY KEY (order_id),\n",
        "FOREIGN KEY (customer_id) REFERENCES bootcamp.Customers(customer_id)\n",
        "  );\n",
        "```\n",
        "\n",
        "Ahora supongamos que tenemos que consultar esa tabla y retornar los registros donde el 'order_price' sea máximo. ¿Cómo podemos lograr ésto si de antemano no sabemos cual es el precio máximo?\n",
        "\n",
        "\n",
        "```\n",
        "SELECT * \n",
        "FROM bootcamp.Orders\n",
        "WHERE order_price = (SELECT MAX(order_price) FROM Orders)\n",
        "```\n",
        "\n",
        "Como mencionamos antes, ésto también puede utilizarse en consultas del tipo INSERT, por ejemplo.\n",
        "\n",
        "En un nuevo ejemplo, podemos tener el siguiente caso:\n",
        "- Tenemos una tabla llamada 'bootcamp.Orders_antiguas' con el mismo esquema que 'bootcamp.Orders'\n",
        "- Queremos insertar los registros de Orders_antiguas a la nueva tabla \"bootcamp.Orders\" pero solo a partir de cierta fecha.\n",
        "Utilizar una subconsulta aquí nos facilitaría el trabajo\n",
        "\n",
        "\n",
        "```\n",
        "INSERT INTO bootcamp.Orders\n",
        "SELECT * \n",
        "FROM bootcamp.Orders_antiguas o\n",
        "WHERE o.order_date >= '2021-01-01'\n",
        "```\n",
        "\n",
        "\n",
        "\n",
        "Y así como vimos con la introducción a las vistas, ésto puede extenderse y complicarse tanto como lo necesitemos. De todas formas, acá cabe una aclaración no menor:\n",
        "- Las subqueries o subconsultas NO son la forma más eficiente en todas las circunstancias. Por lo que si vemos que estamos \"abusando\" o reutilizando muchas veces las mismas subconsultas, probablemente sea conveniente re-pensar nuestras queries o diagrama de datos y analizar de que manera podemos mejorarlo.\n",
        "\n"
      ]
    },
    {
      "cell_type": "markdown",
      "metadata": {
        "id": "sVz3av1BCXwu"
      },
      "source": [
        "\n",
        "\n",
        "---\n",
        "\n",
        "\n",
        "\n",
        "---\n",
        "\n",
        "\n",
        "\n",
        "---\n",
        "\n"
      ]
    },
    {
      "cell_type": "markdown",
      "metadata": {
        "id": "IszxDXI1SSco"
      },
      "source": [
        "## Introducción a los Joins\n",
        "\n",
        "Los \"joins\" son una de las partes más importantes del lenguaje SQL.\n",
        "En términos sencillos nos permiten unir y cruzar datos entre tablas (o incluso cruzar una tabla consigo misma)\n",
        "\n",
        "En la última parte de la clase anterior vimos un caso donde queríamos seleccionar un \"Total Gastado\" que se obtenía de la tabla 'bootcamp.Orders' y traer además el nombre de quien había gastado ese monto - dato que existía en la tabla 'bootcamp.Customers'.\n",
        "\n",
        "Para este tipo de situaciones y muchas otras que se encuentran en el día a día trabajando con bases de datos, los joins son la herramienta principal.\n",
        "\n",
        "En éste sentido, existen 4 tipos de joins:\n",
        "\n",
        "- (INNER) JOIN: Devuelve los registros que existan en ambas tablas exclusivamente.\n",
        "  - En el ejemplo de la clase pasada donde queríamos \"unir\" datos de las tablas 'Orders' y 'Customers', éste join nos retornaría exclusivamente registros en donde un 'Customer' tiene una 'Order' y viceversa.\n",
        "\n",
        "```\n",
        "SELECT *\n",
        "FROM bootcamp.Orders o\n",
        "INNER JOIN bootcamp.Customers c\n",
        "ON o.customer_id = c.customer_id \n",
        "-- Solo retornará registros donde exista la coincidencia o.customer_id = c.customer_id \n",
        "```\n",
        "\n",
        "\n",
        "- LEFT (OUTER) JOIN: Devuelve todos los registros de la tabla que esté 'a la izquierda' del join y además aquellos que coincidan con la tabla 'a la derecha'.\n",
        "  - Continuando con el ejemplo anterior\n",
        "\n",
        "```\n",
        "SELECT *\n",
        "FROM bootcamp.Orders o\n",
        "LEFT JOIN bootcamp.Customers c\n",
        "ON o.customer_id = c.customer_id \n",
        "-- Retornará TODOS los registros de bootcamp.Orders \n",
        "-- y además aquellos de bootcamp.Customers donde exista la coincidencia o.customer_id = c.customer_id \n",
        "```\n",
        "- RIGHT (OUTER) JOIN: Es la versión \"complementaria\" al LEFT JOIN\n",
        "<br><br/>\n",
        "- FULL (OUTER) JOIN: Devuelve todos los registros de ambas tablas, uniendo aquellos en los que haya coincidencia.\n"
      ]
    },
    {
      "cell_type": "markdown",
      "metadata": {
        "id": "wj6LOgzWC_Cz"
      },
      "source": [
        "\n",
        "\n",
        "---\n",
        "\n",
        "\n",
        "\n",
        "---\n",
        "\n"
      ]
    },
    {
      "cell_type": "markdown",
      "metadata": {
        "id": "cXQkMTt5DA1b"
      },
      "source": [
        "## Introducción a la normalización\n",
        "\n",
        "Entender y cementar todos los conocimientos y prácticas relacionados a la normalización de una base de datos escapa al alcance del curso.\n",
        "\n",
        "De todas formas ésta pretende ser una breve introducción al tema para entender las buenas prácticas y las convenciones que hacen a la correcta administración de las bases de datos y las tablas que viven en ella.\n",
        "\n",
        "En términos concretos la normalización se entiende como una técnica de organización de datos en una base que consiste en descomponer las tablas para eliminar la redundancia. Es un proceso de multiples pasos para llevar la data a una forma tabular, eliminando duplicación en las tablas relacionales.\n",
        "\n",
        "Si no prestamos atención a la normalización podemos caer rápidamente en una situación en la que la base se vuelve lenta y vulnerable a la inconsistencia de los datos.\n",
        "\n",
        "La normalización es un proceso en constante desarrollo a la que se suman nuevas prácticas constantemente. Por tanto, nos vamos a enfocar en las llamadas \"primeras dos formas de normalización\".\n",
        "\n",
        "### 1NF - First Normal Form o Primera forma normal:\n",
        "Para 'cumplir' con la primera forma normal se deben:\n",
        "- Remover grupos repetidos de las tablas y registros con multiples valores.\n",
        "- Crear tablas separadas por cada grupo de data relacionada\n",
        "- Identificar los distintos grupos de datos relacionados mediante primary keys.\n",
        "\n",
        "\n",
        "### 2NF - Second Normal Form o Segunda forma normal:\n",
        "Para acatar con la segunda forma normal debemos:\n",
        "- Cumplir con la primera forma\n",
        "- Asegurarnos que no exista dependencia parcial\n"
      ]
    }
  ],
  "metadata": {
    "colab": {
      "name": "Humai SQL II - Teórico.ipynb",
      "provenance": [],
      "toc_visible": true
    },
    "kernelspec": {
      "display_name": "Python 3",
      "name": "python3"
    },
    "language_info": {
      "name": "python"
    }
  },
  "nbformat": 4,
  "nbformat_minor": 0
}
