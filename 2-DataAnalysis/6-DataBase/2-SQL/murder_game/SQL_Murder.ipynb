{
  "cells": [
    {
      "cell_type": "markdown",
      "metadata": {
        "id": "Ej11X-Yvy6Y9"
      },
      "source": [
        "# SQL"
      ]
    },
    {
      "cell_type": "markdown",
      "metadata": {},
      "source": [
        "## Conexión a PostgreSQL usando SQLAlchemy"
      ]
    },
    {
      "cell_type": "code",
      "execution_count": null,
      "metadata": {},
      "outputs": [],
      "source": [
        "import os\n",
        "import pandas as pd\n",
        "from typing import Union\n",
        "from sqlalchemy import create_engine, text\n",
        "\n",
        "# Reemplaza USER y PASSWORD del .env\n",
        "engine = create_engine(\"sqlite:///data/sql-murder-mystery.db\")\n",
        "\n",
        "# Probar la conexión\n",
        "try:\n",
        "    connection = engine.connect()\n",
        "    print(\"Conexión exitosa\")\n",
        "    connection.close()\n",
        "except Exception as e:\n",
        "    print(f\"Error al conectar: {e}\")\n",
        "\n",
        "\n",
        "def ejecutar_query(query: str) -> Union[pd.DataFrame, str]:\n",
        "    \"\"\"\n",
        "    Ejecuta una consulta SQL en la base de datos y devuelve un DataFrame.\n",
        "\n",
        "    Parámetros:\n",
        "    - query (str): La consulta SQL a ejecutar.\n",
        "\n",
        "    Retorna:\n",
        "    - Union[pd.DataFrame, pl.DataFrame, str]: Retorna un DataFrame en pandas o polars dependiendo del parámetro 'devolver_polars',\n",
        "      o un mensaje de éxito/error si la operación no es un SELECT.\n",
        "    \"\"\"\n",
        "    \n",
        "    with engine.connect() as connection:\n",
        "        try:\n",
        "            result = connection.execute(text(query))\n",
        "            \n",
        "            # Determinar si es una consulta SELECT para devolver datos\n",
        "            if result.returns_rows:\n",
        "                rows = result.fetchall()\n",
        "                columns = result.keys()\n",
        "\n",
        "                # Convertir filas en un diccionario de listas para crear correctamente el DataFrame en polars\n",
        "                data_dict = {col: [row[idx] for row in rows] for idx, col in enumerate(columns)}\n",
        "\n",
        "                # Verificación de coincidencia de columnas y filas\n",
        "                return pd.DataFrame(data_dict)\n",
        "            else:\n",
        "                connection.commit()\n",
        "                return f\"Query ejecutada correctamente: {result.rowcount} filas afectadas.\"\n",
        "        except Exception as e:\n",
        "            return f\"Error al ejecutar la query: {e}\"\n"
      ]
    },
    {
      "cell_type": "code",
      "execution_count": null,
      "metadata": {
        "colab": {
          "base_uri": "https://localhost:8080/",
          "height": 159
        },
        "id": "GoWPG4ne6iCz",
        "outputId": "00902065-d2be-429b-cd67-4a495f4aa7b8"
      },
      "outputs": [],
      "source": [
        "query= \"\"\n",
        "ejecutar_query(query=query)"
      ]
    },
    {
      "cell_type": "code",
      "execution_count": null,
      "metadata": {
        "colab": {
          "base_uri": "https://localhost:8080/",
          "height": 159
        },
        "id": "9jYYgjP568zC",
        "outputId": "5a050c26-a8d5-4bc0-acf3-c50d3a02128d"
      },
      "outputs": [],
      "source": [
        "query =''\n",
        "\n",
        "ejecutar_query(query=query)"
      ]
    },
    {
      "cell_type": "code",
      "execution_count": null,
      "metadata": {
        "colab": {
          "base_uri": "https://localhost:8080/",
          "height": 97
        },
        "id": "zgfE-oyR6bEw",
        "outputId": "29909a01-8e0a-4d89-ea81-9c931d1bcb22"
      },
      "outputs": [],
      "source": [
        "query = \"\"\n",
        "\n",
        "ejecutar_query(query=query)"
      ]
    },
    {
      "cell_type": "code",
      "execution_count": null,
      "metadata": {
        "colab": {
          "base_uri": "https://localhost:8080/",
          "height": 159
        },
        "id": "QSXZaaiVY87_",
        "outputId": "a4c1a398-2a5d-4f4b-f0df-d354442c1a40"
      },
      "outputs": [],
      "source": [
        "query= ''\n",
        "\n",
        "ejecutar_query(query=query)"
      ]
    },
    {
      "cell_type": "code",
      "execution_count": null,
      "metadata": {
        "colab": {
          "base_uri": "https://localhost:8080/",
          "height": 97
        },
        "id": "-bmjZbx1ZonS",
        "outputId": "00762230-f24f-4bb8-9b8c-3cb1fa1dcc51"
      },
      "outputs": [],
      "source": [
        "query= ''\n",
        "\n",
        "ejecutar_query(query=query)"
      ]
    },
    {
      "cell_type": "code",
      "execution_count": null,
      "metadata": {
        "colab": {
          "base_uri": "https://localhost:8080/",
          "height": 97
        },
        "id": "hJRXJmuraJfJ",
        "outputId": "6ef2728b-de42-4f29-86ff-d3a7b324312c"
      },
      "outputs": [],
      "source": [
        "query= ''\n",
        "\n",
        "ejecutar_query(query=query)"
      ]
    },
    {
      "cell_type": "code",
      "execution_count": null,
      "metadata": {
        "colab": {
          "base_uri": "https://localhost:8080/",
          "height": 97
        },
        "id": "cVdeElzqa968",
        "outputId": "5678aae8-53af-4c6c-b35b-993f24b815ae"
      },
      "outputs": [],
      "source": [
        "query= ''\n",
        "\n",
        "ejecutar_query(query=query)"
      ]
    },
    {
      "cell_type": "code",
      "execution_count": null,
      "metadata": {
        "colab": {
          "base_uri": "https://localhost:8080/",
          "height": 128
        },
        "id": "hRBWuE-Ec8TO",
        "outputId": "74eb542d-4704-4d64-844e-77be4e19b728"
      },
      "outputs": [],
      "source": [
        "query= \"\"\n",
        "\n",
        "ejecutar_query(query=query)"
      ]
    }
  ],
  "metadata": {
    "colab": {
      "collapsed_sections": [],
      "name": "HUMAI - SQL.ipynb",
      "provenance": []
    },
    "kernelspec": {
      "display_name": "Python 3",
      "name": "python3"
    },
    "language_info": {
      "codemirror_mode": {
        "name": "ipython",
        "version": 3
      },
      "file_extension": ".py",
      "mimetype": "text/x-python",
      "name": "python",
      "nbconvert_exporter": "python",
      "pygments_lexer": "ipython3",
      "version": "3.11.9"
    }
  },
  "nbformat": 4,
  "nbformat_minor": 0
}
