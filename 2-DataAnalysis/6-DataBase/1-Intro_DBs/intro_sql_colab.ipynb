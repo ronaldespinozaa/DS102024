{
  "cells": [
    {
      "cell_type": "markdown",
      "metadata": {
        "id": "Ej11X-Yvy6Y9"
      },
      "source": [
        "# SQL"
      ]
    },
    {
      "cell_type": "code",
      "execution_count": null,
      "metadata": {
        "colab": {
          "base_uri": "https://localhost:8080/",
          "height": 142
        },
        "id": "Ekn6v0kWwz_l",
        "outputId": "afa62291-dfc3-4cd1-abc8-3c0dd845a09f"
      },
      "outputs": [],
      "source": [
        "# install\n",
        "!apt install postgresql postgresql-contrib &>log\n",
        "!service postgresql start\n",
        "!sudo -u postgres psql -c \"CREATE USER root WITH SUPERUSER\"\n",
        "# set connection\n",
        "%load_ext sql\n",
        "%config SqlMagic.feedback=False\n",
        "%config SqlMagic.autopandas=True\n",
        "%sql postgresql+psycopg2://@/postgres"
      ]
    },
    {
      "cell_type": "markdown",
      "metadata": {
        "id": "6ZJbv9HV0bqa"
      },
      "source": [
        "### Crear base de datos"
      ]
    },
    {
      "cell_type": "code",
      "execution_count": null,
      "metadata": {
        "colab": {
          "base_uri": "https://localhost:8080/",
          "height": 66
        },
        "id": "QlZVqP3NxA0i",
        "outputId": "6369e0bf-a304-4ff8-d913-1c07ce736918"
      },
      "outputs": [],
      "source": [
        "%sql CREATE SCHEMA IF NOT EXISTS bootcamp"
      ]
    },
    {
      "cell_type": "markdown",
      "metadata": {
        "id": "uLPHRsKC0dRz"
      },
      "source": [
        "## DDL - Crear tablas"
      ]
    },
    {
      "cell_type": "markdown",
      "metadata": {
        "id": "Lg8IPkoF0h2J"
      },
      "source": [
        "### Tabla Customers"
      ]
    },
    {
      "cell_type": "markdown",
      "metadata": {
        "id": "jK-cp5QZ1oOP"
      },
      "source": [
        "\n",
        "\n",
        "```\n",
        "CREATE TABLE IF NOT EXISTS bootcamp.Customers (\n",
        "  customer_id INT NOT NULL,\n",
        "  customer_name VARCHAR(50) NOT NULL,\n",
        "  fecha_inicio DATE NOT NULL,\n",
        "  fecha_fin DATE,\n",
        "  PRIMARY KEY (customer_id)\n",
        "  );\n",
        "```\n",
        "\n"
      ]
    },
    {
      "cell_type": "code",
      "execution_count": null,
      "metadata": {
        "colab": {
          "base_uri": "https://localhost:8080/",
          "height": 66
        },
        "id": "wCimAQqKydAu",
        "outputId": "d9e2940b-1e77-4098-b602-c934f9a9d153"
      },
      "outputs": [],
      "source": [
        "%sql CREATE TABLE IF NOT EXISTS bootcamp.Customers (customer_id INT NOT NULL, customer_name VARCHAR(50) NOT NULL, fecha_inicio DATE NOT NULL, fecha_fin DATE, PRIMARY KEY (customer_id));"
      ]
    },
    {
      "cell_type": "markdown",
      "metadata": {
        "id": "3ABTa6KW13mA"
      },
      "source": [
        "### Tabla Orders"
      ]
    },
    {
      "cell_type": "markdown",
      "metadata": {
        "id": "u5nfPn8N16ag"
      },
      "source": [
        "\n",
        "\n",
        "```\n",
        "CREATE TABLE IF NOT EXISTS bootcamp.Orders (\n",
        "  order_id INT NOT NULL,\n",
        "  customer_id INT NOT NULL,\n",
        "  order_date DATE NOT NULL,\n",
        "  order_price DECIMAL(8,2),\n",
        "  PRIMARY KEY (order_id),\n",
        "FOREIGN KEY (customer_id) REFERENCES bootcamp.Customers(customer_id)\n",
        "  );\n",
        "```\n",
        "\n"
      ]
    },
    {
      "cell_type": "code",
      "execution_count": null,
      "metadata": {
        "colab": {
          "base_uri": "https://localhost:8080/",
          "height": 66
        },
        "id": "3AO7tICr250k",
        "outputId": "0b4e6df1-0c7c-4415-eeaf-be98f4a5e552"
      },
      "outputs": [],
      "source": [
        "%sql CREATE TABLE IF NOT EXISTS bootcamp.Orders (order_id INT NOT NULL, customer_id INT NOT NULL, order_date DATE NOT NULL, order_price DECIMAL(8,2), PRIMARY KEY (order_id), FOREIGN KEY (customer_id) REFERENCES bootcamp.Customers(customer_id));"
      ]
    },
    {
      "cell_type": "markdown",
      "metadata": {
        "id": "WPpb2QHp3DNL"
      },
      "source": [
        "### Tabla Shipments"
      ]
    },
    {
      "cell_type": "markdown",
      "metadata": {
        "id": "otZp-f-k3DZk"
      },
      "source": [
        "```\n",
        "CREATE TABLE IF NOT EXISTS bootcamp.Shipments (\n",
        "  shipment_id INT NOT NULL,\n",
        "  order_id INT NOT NULL,\n",
        "  shipment_date DATE NOT NULL,\n",
        "  shipment_city VARCHAR(50),\n",
        "  PRIMARY KEY (shipment_id),\n",
        "  FOREIGN KEY (order_id) REFERENCES bootcamp.Orders(order_id)\n",
        "  );\n",
        "\n",
        "```\n",
        "\n"
      ]
    },
    {
      "cell_type": "code",
      "execution_count": null,
      "metadata": {
        "colab": {
          "base_uri": "https://localhost:8080/",
          "height": 66
        },
        "id": "3Rh5JfLH3Dfi",
        "outputId": "c33f1481-ccd6-498e-f4fa-8142c6fa4380"
      },
      "outputs": [],
      "source": [
        "%sql CREATE TABLE IF NOT EXISTS bootcamp.Shipments ( shipment_id INT NOT NULL, order_id INT NOT NULL, shipment_date DATE NOT NULL, shipment_city VARCHAR(50), PRIMARY KEY (shipment_id), FOREIGN KEY (order_id) REFERENCES bootcamp.Orders(order_id));"
      ]
    },
    {
      "cell_type": "markdown",
      "metadata": {
        "id": "-bxfd7RN3a9o"
      },
      "source": [
        "### Check que se hayan creado las tablas"
      ]
    },
    {
      "cell_type": "code",
      "execution_count": null,
      "metadata": {
        "colab": {
          "base_uri": "https://localhost:8080/",
          "height": 274
        },
        "id": "lkfUcosl3dqV",
        "outputId": "622e5c07-a3bd-4819-a20f-e24aaab41caa"
      },
      "outputs": [],
      "source": [
        "%sql SELECT * FROM information_schema.tables WHERE table_schema = 'bootcamp';"
      ]
    },
    {
      "cell_type": "markdown",
      "metadata": {
        "id": "cMUX_kmH6A02"
      },
      "source": [
        "## DML - Insertar datos ficticios"
      ]
    },
    {
      "cell_type": "markdown",
      "metadata": {
        "id": "wOHLAV_34RQd"
      },
      "source": [
        "\n",
        "\n",
        "```\n",
        "INSERT INTO bootcamp.Customers \n",
        "VALUES \n",
        "(1, 'Juan', '04/08/1989', Null),\n",
        "(2, 'Mario', '05/05/2005', Null),\n",
        "(3, 'Laura', '03/21/2020', '02/05/2022')\n",
        ";\n",
        "```\n",
        "\n"
      ]
    },
    {
      "cell_type": "code",
      "execution_count": null,
      "metadata": {
        "id": "qWRU_HCxyTXe"
      },
      "outputs": [],
      "source": [
        "%sql INSERT INTO bootcamp.Customers VALUES (1, 'Juan', '04/08/1989', Null), (2, 'Mario', '05/05/2005', Null), (3, 'Laura', '03/21/2020', '02/05/2022')"
      ]
    },
    {
      "cell_type": "markdown",
      "metadata": {
        "id": "ympnit_X4XFl"
      },
      "source": [
        "\n",
        "\n",
        "```\n",
        "INSERT INTO bootcamp.Orders\n",
        "VALUES\n",
        "(1, 1, '06/05/2022', 45),\n",
        "(2, 1, '06/05/2021', 60),\n",
        "(3, 1, '06/06/2022', 70),\n",
        "(4, 2, '01/05/2022', 5),\n",
        "(5, 3, '06/10/2022', 145),\n",
        "(6, 3, '03/02/2022', 2)\n",
        ";\n",
        "```\n",
        "\n"
      ]
    },
    {
      "cell_type": "code",
      "execution_count": null,
      "metadata": {
        "colab": {
          "base_uri": "https://localhost:8080/",
          "height": 66
        },
        "id": "F5vNQT15ya8U",
        "outputId": "9f6bf3f0-990b-4d84-d193-cdc2360f4999"
      },
      "outputs": [],
      "source": [
        "%sql INSERT INTO bootcamp.Orders VALUES (1, 1, '06/05/2022', 45), (2, 1, '06/05/2021', 60), (3, 1, '06/06/2022', 70), (4, 2, '01/05/2022', 5), (5, 3, '06/10/2022', 145), (6, 3, '03/02/2022', 2);"
      ]
    },
    {
      "cell_type": "markdown",
      "metadata": {
        "id": "BQZFFubh4-zs"
      },
      "source": [
        "\n",
        "```\n",
        "INSERT INTO bootcamp.Shipments \n",
        "VALUES \n",
        "(1, 1, '06/06/2022', 'Barcelona'), \n",
        "(2, 2, '06/06/2021', 'Madrid'), \n",
        "(3, 3, '06/10/2022', 'Barcelona'), \n",
        "(4, 4, '02/05/2022', 'Vigo'), \n",
        "(5, 5, '06/15/2022', 'Barcelona'), \n",
        "(6, 6, '03/05/2022', 'Madrid')\n",
        ";\n",
        "```\n",
        "\n",
        "\n",
        "\n"
      ]
    },
    {
      "cell_type": "code",
      "execution_count": null,
      "metadata": {
        "colab": {
          "base_uri": "https://localhost:8080/",
          "height": 66
        },
        "id": "hSEcRWPQyvKA",
        "outputId": "a8234dc9-1c25-401d-8732-14f2d36d4db4"
      },
      "outputs": [],
      "source": [
        "%sql INSERT INTO bootcamp.Shipments VALUES (1, 1, '06/06/2022', 'Barcelona'), (2, 2, '06/06/2021', 'Madrid'), (3, 3, '06/10/2022', 'Barcelona'), (4, 4, '02/05/2022', 'Vigo'), (5, 5, '06/15/2022', 'Barcelona'), (6, 6, '03/05/2022', 'Madrid');"
      ]
    },
    {
      "cell_type": "markdown",
      "metadata": {
        "id": "DHVI1TL06Yrc"
      },
      "source": [
        "## DDL - Consulas SELECT"
      ]
    },
    {
      "cell_type": "markdown",
      "metadata": {
        "id": "OQWLtvgC6fqy"
      },
      "source": [
        "1. Retorna todos los registros de la tabla Customers."
      ]
    },
    {
      "cell_type": "code",
      "execution_count": null,
      "metadata": {},
      "outputs": [],
      "source": []
    },
    {
      "cell_type": "markdown",
      "metadata": {
        "id": "zwQpqp1B7NIO"
      },
      "source": [
        "2. Retorna la cantidad de envios por shipment_city"
      ]
    },
    {
      "cell_type": "code",
      "execution_count": null,
      "metadata": {
        "colab": {
          "base_uri": "https://localhost:8080/",
          "height": 159
        },
        "id": "9jYYgjP568zC",
        "outputId": "5a050c26-a8d5-4bc0-acf3-c50d3a02128d"
      },
      "outputs": [],
      "source": []
    },
    {
      "cell_type": "markdown",
      "metadata": {
        "id": "iClzrlpu6b4M"
      },
      "source": [
        "3. Retorna la cantidad de envios a Barcelona"
      ]
    },
    {
      "cell_type": "code",
      "execution_count": null,
      "metadata": {
        "colab": {
          "base_uri": "https://localhost:8080/",
          "height": 97
        },
        "id": "zgfE-oyR6bEw",
        "outputId": "29909a01-8e0a-4d89-ea81-9c931d1bcb22"
      },
      "outputs": [],
      "source": []
    },
    {
      "cell_type": "markdown",
      "metadata": {
        "id": "KKNcVrfBYwFA"
      },
      "source": [
        "4. Retorna todas las ordenes mayores a €50"
      ]
    },
    {
      "cell_type": "code",
      "execution_count": null,
      "metadata": {
        "colab": {
          "base_uri": "https://localhost:8080/",
          "height": 159
        },
        "id": "QSXZaaiVY87_",
        "outputId": "a4c1a398-2a5d-4f4b-f0df-d354442c1a40"
      },
      "outputs": [],
      "source": []
    },
    {
      "cell_type": "markdown",
      "metadata": {
        "id": "YmmYPcM3ZBKc"
      },
      "source": [
        "5. Retorna el cliente que más dinero gasto"
      ]
    },
    {
      "cell_type": "code",
      "execution_count": null,
      "metadata": {
        "colab": {
          "base_uri": "https://localhost:8080/",
          "height": 97
        },
        "id": "-bmjZbx1ZonS",
        "outputId": "00762230-f24f-4bb8-9b8c-3cb1fa1dcc51"
      },
      "outputs": [],
      "source": []
    },
    {
      "cell_type": "markdown",
      "metadata": {
        "id": "XngkcbSyaY4m"
      },
      "source": [
        "6. Y que si queremos ver el nombre del cliente? Dato que se encuentra en otra tabla."
      ]
    },
    {
      "cell_type": "code",
      "execution_count": null,
      "metadata": {
        "colab": {
          "base_uri": "https://localhost:8080/",
          "height": 97
        },
        "id": "hJRXJmuraJfJ",
        "outputId": "6ef2728b-de42-4f29-86ff-d3a7b324312c"
      },
      "outputs": [],
      "source": []
    },
    {
      "cell_type": "markdown",
      "metadata": {
        "id": "UWx1ghlwa3dl"
      },
      "source": [
        "7. Retornar la duración promedio de los clientes que se dieron de baja."
      ]
    },
    {
      "cell_type": "code",
      "execution_count": null,
      "metadata": {
        "colab": {
          "base_uri": "https://localhost:8080/",
          "height": 97
        },
        "id": "cVdeElzqa968",
        "outputId": "5678aae8-53af-4c6c-b35b-993f24b815ae"
      },
      "outputs": [],
      "source": []
    },
    {
      "cell_type": "markdown",
      "metadata": {
        "id": "7u9voJXuc12H"
      },
      "source": [
        "8. Retornar los clientes que tienen una 'a' en el nombre."
      ]
    },
    {
      "cell_type": "code",
      "execution_count": null,
      "metadata": {
        "colab": {
          "base_uri": "https://localhost:8080/",
          "height": 128
        },
        "id": "hRBWuE-Ec8TO",
        "outputId": "74eb542d-4704-4d64-844e-77be4e19b728"
      },
      "outputs": [],
      "source": []
    }
  ],
  "metadata": {
    "colab": {
      "collapsed_sections": [],
      "name": "HUMAI - SQL.ipynb",
      "provenance": []
    },
    "kernelspec": {
      "display_name": "Python 3",
      "name": "python3"
    },
    "language_info": {
      "codemirror_mode": {
        "name": "ipython",
        "version": 3
      },
      "file_extension": ".py",
      "mimetype": "text/x-python",
      "name": "python",
      "nbconvert_exporter": "python",
      "pygments_lexer": "ipython3",
      "version": "3.11.2"
    }
  },
  "nbformat": 4,
  "nbformat_minor": 0
}
