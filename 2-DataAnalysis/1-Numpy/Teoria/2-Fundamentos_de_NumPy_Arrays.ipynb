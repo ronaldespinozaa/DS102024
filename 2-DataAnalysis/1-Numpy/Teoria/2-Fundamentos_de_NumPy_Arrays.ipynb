{
 "cells": [
  {
   "cell_type": "markdown",
   "metadata": {},
   "source": [
    "# Fundamentos de NumPy Arrays"
   ]
  },
  {
   "cell_type": "markdown",
   "metadata": {},
   "source": [
    "La manipulación de datos en Python es casi sinónimo de manipulación de arrays en NumPy: incluso las herramientas como Pandas están construidas en torno a los arrays de NumPy.\n",
    "Este notebook presenta varios ejemplos de manipulación de arrays NumPy para acceder a datos y subarrays, y para dividir, reformar y unir arrays.\n",
    "Aunque los tipos de operaciones mostradas aquí pueden parecer un poco secas y pedantes, comprenden los bloques de construcción de muchos otros ejemplos utilizados.\n",
    "\n",
    "Cubriremos aquí algunas categorías de manipulaciones básicas de arrays:\n",
    "\n",
    "- *Atributos de los arrays*: Determinar el tamaño, la forma, el consumo de memoria y los tipos de datos de los arrays.\n",
    "- *Indexación de arrays*: Obtener y establecer el valor de elementos individuales del array\n",
    "- *Recorte de matrices*: Obtención y configuración de submatrices más pequeñas dentro de una matriz mayor.\n",
    "- *Remodelación de matrices*: Cambiar la forma de una matriz\n",
    "- *Unión y división de matrices*: Combinar varias matrices en una, y dividir una matriz en muchas"
   ]
  },
  {
   "cell_type": "markdown",
   "metadata": {},
   "source": [
    "##  Atributos de NumPy Array"
   ]
  },
  {
   "cell_type": "markdown",
   "metadata": {},
   "source": [
    "Primero vamos a discutir algunos atributos útiles de los arrays.\n",
    "Empezaremos definiendo tres arrays aleatorios, uno unidimensional, otro bidimensional y otro tridimensional.\n",
    "Utilizaremos el generador de números aleatorios de NumPy, al que *bloquearemos* con un valor establecido utilizando una semilla para asegurarnos de que se generan las mismas matrices aleatorias cada vez que se ejecuta este código:"
   ]
  },
  {
   "cell_type": "code",
   "execution_count": null,
   "metadata": {
    "collapsed": false
   },
   "outputs": [],
   "source": [
    "import numpy as np\n",
    "np.random.seed(0)  # semillas para la reproducibilidad\n",
    "\n",
    "x1 = np.random.randint(10, size=6)  # Matriz unidimensional\n",
    "x2 = np.random.randint(10, size=(3, 4))  # Matriz bidimensional\n",
    "x3 = np.random.randint(10, size=(3, 4, 5))  # Matriz tridimensional"
   ]
  },
  {
   "cell_type": "markdown",
   "metadata": {},
   "source": [
    "Cada matriz tiene atributos ``ndim`` (el número de dimensiones), ``shape`` (el tamaño de cada dimensión) y ``size`` (el tamaño total de la matriz):"
   ]
  },
  {
   "cell_type": "code",
   "execution_count": null,
   "metadata": {
    "collapsed": false
   },
   "outputs": [],
   "source": [
    "print(\"x3 ndim: \", x3.ndim)\n",
    "print(\"x3 shape:\", x3.shape)\n",
    "print(\"x3 size: \", x3.size)"
   ]
  },
  {
   "cell_type": "markdown",
   "metadata": {},
   "source": [
    "Otro atributo útil es el ``dtype``:"
   ]
  },
  {
   "cell_type": "code",
   "execution_count": null,
   "metadata": {
    "collapsed": false
   },
   "outputs": [],
   "source": [
    "print(\"dtype:\", x3.dtype)"
   ]
  },
  {
   "cell_type": "markdown",
   "metadata": {},
   "source": [
    "Otros atributos son ``itemsize``, que indica el tamaño (en bytes) de cada elemento de la matriz, y ``nbytes``, que indica el tamaño total (en bytes) de la matriz:"
   ]
  },
  {
   "cell_type": "code",
   "execution_count": null,
   "metadata": {
    "collapsed": false
   },
   "outputs": [],
   "source": [
    "print(\"itemsize:\", x3.itemsize, \"bytes\")\n",
    "print(\"nbytes:\", x3.nbytes, \"bytes\")"
   ]
  },
  {
   "cell_type": "markdown",
   "metadata": {},
   "source": [
    "En general, esperamos que ``nbytes`` sea igual a ``itemsize`` multiplicado por ``size``."
   ]
  },
  {
   "cell_type": "markdown",
   "metadata": {},
   "source": [
    "## Indexación de Matrices: Acceso a elementos individuales"
   ]
  },
  {
   "cell_type": "markdown",
   "metadata": {},
   "source": [
    "En una matriz unidimensional, el valor $i^{th}$ (contando desde cero) se puede acceder especificando el índice deseado entre corchetes, al igual que con las listas de Python:"
   ]
  },
  {
   "cell_type": "code",
   "execution_count": null,
   "metadata": {
    "collapsed": false
   },
   "outputs": [],
   "source": [
    "x1"
   ]
  },
  {
   "cell_type": "code",
   "execution_count": null,
   "metadata": {
    "collapsed": false
   },
   "outputs": [],
   "source": [
    "x1[0]"
   ]
  },
  {
   "cell_type": "code",
   "execution_count": null,
   "metadata": {
    "collapsed": false
   },
   "outputs": [],
   "source": [
    "x1[4]"
   ]
  },
  {
   "cell_type": "markdown",
   "metadata": {},
   "source": [
    "Para indexar desde el final del array, puedes utilizar índices negativos:"
   ]
  },
  {
   "cell_type": "code",
   "execution_count": null,
   "metadata": {
    "collapsed": false
   },
   "outputs": [],
   "source": [
    "x1[-1]"
   ]
  },
  {
   "cell_type": "code",
   "execution_count": null,
   "metadata": {
    "collapsed": false
   },
   "outputs": [],
   "source": [
    "x1[-2]"
   ]
  },
  {
   "cell_type": "markdown",
   "metadata": {},
   "source": [
    "En una matriz multidimensional, se puede acceder a los elementos mediante una tupla de índices separados por comas:"
   ]
  },
  {
   "cell_type": "code",
   "execution_count": null,
   "metadata": {
    "collapsed": false
   },
   "outputs": [],
   "source": [
    "x2"
   ]
  },
  {
   "cell_type": "code",
   "execution_count": null,
   "metadata": {
    "collapsed": false
   },
   "outputs": [],
   "source": [
    "x2[0, 0]"
   ]
  },
  {
   "cell_type": "code",
   "execution_count": null,
   "metadata": {
    "collapsed": false
   },
   "outputs": [],
   "source": [
    "x2[2, 0]"
   ]
  },
  {
   "cell_type": "code",
   "execution_count": null,
   "metadata": {
    "collapsed": false
   },
   "outputs": [],
   "source": [
    "x2[2, -1]"
   ]
  },
  {
   "cell_type": "markdown",
   "metadata": {},
   "source": [
    "Los valores también pueden modificarse utilizando cualquiera de las notaciones de índice anteriores:"
   ]
  },
  {
   "cell_type": "code",
   "execution_count": null,
   "metadata": {
    "collapsed": false
   },
   "outputs": [],
   "source": [
    "x2[0, 0] = 12\n",
    "x2"
   ]
  },
  {
   "cell_type": "markdown",
   "metadata": {},
   "source": [
    "Tenga en cuenta que, a diferencia de las listas de Python, las matrices de NumPy tienen un tipo fijo.\n",
    "Esto significa, por ejemplo, que si intentas insertar un valor de punto flotante en un array de enteros, el valor será truncado silenciosamente. No se deje sorprender por este comportamiento."
   ]
  },
  {
   "cell_type": "code",
   "execution_count": null,
   "metadata": {
    "collapsed": false
   },
   "outputs": [],
   "source": [
    "x1[0] = 3.14159  # ¡esto será truncado!\n",
    "x1"
   ]
  },
  {
   "cell_type": "markdown",
   "metadata": {},
   "source": [
    "## Array Slicing: Acceso a submatrices"
   ]
  },
  {
   "cell_type": "markdown",
   "metadata": {},
   "source": [
    "Del mismo modo que podemos usar corchetes para acceder a elementos individuales de una matriz, también podemos usarlos para acceder a submatrices con la notación *slice*, marcada por el carácter dos puntos (``:``).\n",
    "La sintaxis de troceado de NumPy sigue la de la lista estándar de Python; para acceder a un trozo de una matriz ``x``, usa esto:\n",
    "``` python\n",
    "x[start:stop:step]\n",
    "```\n",
    "Si alguno de ellos no se especifica, se adoptan por defecto los valores ``start=0``, ``stop=``*``size of dimension``*, ``step=1``.\n",
    "Veremos cómo acceder a las submatrices en una dimensión y en varias dimensiones."
   ]
  },
  {
   "cell_type": "markdown",
   "metadata": {},
   "source": [
    "### Submatrices unidimensionales"
   ]
  },
  {
   "cell_type": "code",
   "execution_count": null,
   "metadata": {
    "collapsed": false
   },
   "outputs": [],
   "source": [
    "x = np.arange(10)\n",
    "x"
   ]
  },
  {
   "cell_type": "code",
   "execution_count": null,
   "metadata": {
    "collapsed": false
   },
   "outputs": [],
   "source": [
    "x[:5]  # primeros cinco elementos"
   ]
  },
  {
   "cell_type": "code",
   "execution_count": null,
   "metadata": {
    "collapsed": false
   },
   "outputs": [],
   "source": [
    "x[5:]  # elementos después del índice 5"
   ]
  },
  {
   "cell_type": "code",
   "execution_count": null,
   "metadata": {
    "collapsed": false
   },
   "outputs": [],
   "source": [
    "x[4:7]  # submatriz central"
   ]
  },
  {
   "cell_type": "code",
   "execution_count": null,
   "metadata": {
    "collapsed": false
   },
   "outputs": [],
   "source": [
    "x[::2]  # cada dos elementos"
   ]
  },
  {
   "cell_type": "code",
   "execution_count": null,
   "metadata": {
    "collapsed": false
   },
   "outputs": [],
   "source": [
    "x[1::2]  # cada dos elementos, empezando por el índice 1"
   ]
  },
  {
   "cell_type": "markdown",
   "metadata": {},
   "source": [
    "Un caso potencialmente confuso es cuando el valor de ``step`` es negativo.\n",
    "En este caso, los valores por defecto de ``start`` y ``stop`` se intercambian.\n",
    "Esto se convierte en una forma conveniente de invertir una matriz:"
   ]
  },
  {
   "cell_type": "code",
   "execution_count": null,
   "metadata": {
    "collapsed": false
   },
   "outputs": [],
   "source": [
    "x[::-1]  # todos los elementos, al revés"
   ]
  },
  {
   "cell_type": "code",
   "execution_count": null,
   "metadata": {
    "collapsed": false
   },
   "outputs": [],
   "source": [
    "x[5::-2]  # invertido cada dos a partir del índice 5"
   ]
  },
  {
   "cell_type": "markdown",
   "metadata": {},
   "source": [
    "### Submatrices multidimensionales\n",
    "\n",
    "Los subarreglos multidimensionales funcionan de la misma manera, con varios subarreglos separados por comas.\n",
    "Por ejemplo:"
   ]
  },
  {
   "cell_type": "code",
   "execution_count": null,
   "metadata": {
    "collapsed": false
   },
   "outputs": [],
   "source": [
    "x2"
   ]
  },
  {
   "cell_type": "code",
   "execution_count": null,
   "metadata": {
    "collapsed": false
   },
   "outputs": [],
   "source": [
    "x2[:2, :3]  # dos filas, tres columnas"
   ]
  },
  {
   "cell_type": "code",
   "execution_count": null,
   "metadata": {
    "collapsed": false
   },
   "outputs": [],
   "source": [
    "x2[:3, ::2]  # todas las filas, cada dos columnas"
   ]
  },
  {
   "cell_type": "markdown",
   "metadata": {},
   "source": [
    "Por último, las dimensiones de las submatrices pueden incluso invertirse juntas:"
   ]
  },
  {
   "cell_type": "code",
   "execution_count": null,
   "metadata": {
    "collapsed": false
   },
   "outputs": [],
   "source": [
    "x2[::-1, ::-1]"
   ]
  },
  {
   "cell_type": "markdown",
   "metadata": {},
   "source": [
    "#### Acceso a filas y columnas de una matriz\n",
    "\n",
    "Una de las rutinas más habituales es el acceso a filas o columnas de una matriz.\n",
    "Esto puede hacerse combinando la indexación y el corte, utilizando un corte vacío marcado por dos puntos (``:``):"
   ]
  },
  {
   "cell_type": "code",
   "execution_count": null,
   "metadata": {
    "collapsed": false
   },
   "outputs": [],
   "source": [
    "print(x2[:, 0])  # primera columna de x2"
   ]
  },
  {
   "cell_type": "code",
   "execution_count": null,
   "metadata": {
    "collapsed": false
   },
   "outputs": [],
   "source": [
    "print(x2[0, :])  # primera fila de x2"
   ]
  },
  {
   "cell_type": "markdown",
   "metadata": {},
   "source": [
    "En el caso del acceso por filas, puede omitirse el segmento vacío para obtener una sintaxis más compacta:"
   ]
  },
  {
   "cell_type": "code",
   "execution_count": null,
   "metadata": {
    "collapsed": false
   },
   "outputs": [],
   "source": [
    "print(x2[0])  # equivalente a x2[0, :]"
   ]
  },
  {
   "cell_type": "markdown",
   "metadata": {},
   "source": [
    "### Subarrays como vistas no-copy\n",
    "\n",
    "Una cosa importante -y extremadamente útil- que hay que saber sobre los cortes de matrices es que devuelven *vistas* en lugar de *copias* de los datos de la matriz.\n",
    "Esta es un área en la que el corte de arrays en NumPy difiere del corte de listas en Python: en las listas, los cortes son copias.\n",
    "Consideremos nuestro array bidimensional de antes:"
   ]
  },
  {
   "cell_type": "code",
   "execution_count": null,
   "metadata": {
    "collapsed": false
   },
   "outputs": [],
   "source": [
    "print(x2)"
   ]
  },
  {
   "cell_type": "markdown",
   "metadata": {},
   "source": [
    "Extraigamos un $2 \\times 2$ de esta submatriz:"
   ]
  },
  {
   "cell_type": "code",
   "execution_count": null,
   "metadata": {
    "collapsed": false
   },
   "outputs": [],
   "source": [
    "x2_sub = x2[:2, :2]\n",
    "print(x2_sub)"
   ]
  },
  {
   "cell_type": "markdown",
   "metadata": {},
   "source": [
    "Ahora bien, si modificamos esta submatriz, ¡veremos que la matriz original ha cambiado! Observa:"
   ]
  },
  {
   "cell_type": "code",
   "execution_count": null,
   "metadata": {
    "collapsed": false
   },
   "outputs": [],
   "source": [
    "x2_sub[0, 0] = 99\n",
    "print(x2_sub)"
   ]
  },
  {
   "cell_type": "code",
   "execution_count": null,
   "metadata": {
    "collapsed": false
   },
   "outputs": [],
   "source": [
    "print(x2)"
   ]
  },
  {
   "cell_type": "markdown",
   "metadata": {},
   "source": [
    "Este comportamiento por defecto es en realidad bastante útil: significa que cuando trabajamos con grandes conjuntos de datos, podemos acceder y procesar trozos de estos conjuntos de datos sin necesidad de copiar el búfer de datos subyacente."
   ]
  },
  {
   "cell_type": "markdown",
   "metadata": {},
   "source": [
    "### Creación de copias de matrices\n",
    "\n",
    "A pesar de las buenas características de las vistas de array, a veces es útil copiar explícitamente los datos dentro de un array o un subarray. Esto se puede hacer fácilmente con el método ``copy()``:"
   ]
  },
  {
   "cell_type": "code",
   "execution_count": null,
   "metadata": {
    "collapsed": false
   },
   "outputs": [],
   "source": [
    "x2_sub_copy = x2[:2, :2].copy()\n",
    "print(x2_sub_copy)"
   ]
  },
  {
   "cell_type": "markdown",
   "metadata": {},
   "source": [
    "Si ahora modificamos esta submatriz, la matriz original no se ve afectada:"
   ]
  },
  {
   "cell_type": "code",
   "execution_count": null,
   "metadata": {
    "collapsed": false
   },
   "outputs": [],
   "source": [
    "x2_sub_copy[0, 0] = 42\n",
    "print(x2_sub_copy)"
   ]
  },
  {
   "cell_type": "code",
   "execution_count": null,
   "metadata": {
    "collapsed": false
   },
   "outputs": [],
   "source": [
    "print(x2)"
   ]
  },
  {
   "cell_type": "markdown",
   "metadata": {},
   "source": [
    "## Remodelación de matrices\n",
    "\n",
    "Otro tipo de operación útil es la remodelación de matrices.\n",
    "La forma más flexible de hacerlo es con el método ``reshape``.\n",
    "Por ejemplo, si quieres poner los números del 1 al 9 en una rejilla de 3 veces 3$, puedes hacer lo siguiente:"
   ]
  },
  {
   "cell_type": "code",
   "execution_count": null,
   "metadata": {
    "collapsed": false
   },
   "outputs": [],
   "source": [
    "grid = np.arange(1, 10).reshape((3, 3))\n",
    "print(grid)"
   ]
  },
  {
   "cell_type": "markdown",
   "metadata": {},
   "source": [
    "Ten en cuenta que para que esto funcione, el tamaño del array inicial debe coincidir con el tamaño del array remodelado.\n",
    "Siempre que sea posible, el método ``reshape`` utilizará una vista sin copia del array inicial, pero con buffers de memoria no contiguos no siempre es así.\n",
    "\n",
    "Otro patrón común de remodelación es la conversión de un array unidimensional en una matriz bidimensional de filas o columnas.\n",
    "Esto se puede hacer con el método ``reshape``, o más fácilmente haciendo uso de la palabra clave ``newaxis`` dentro de una operación slice:"
   ]
  },
  {
   "cell_type": "code",
   "execution_count": null,
   "metadata": {
    "collapsed": false
   },
   "outputs": [],
   "source": [
    "x = np.array([1, 2, 3])\n",
    "\n",
    "# vector fila mediante reshape\n",
    "x.reshape((1, 3))"
   ]
  },
  {
   "cell_type": "code",
   "execution_count": null,
   "metadata": {
    "collapsed": false
   },
   "outputs": [],
   "source": [
    "# vector fila a través de newaxis\n",
    "x[np.newaxis, :]"
   ]
  },
  {
   "cell_type": "code",
   "execution_count": null,
   "metadata": {
    "collapsed": false
   },
   "outputs": [],
   "source": [
    "# vector columna mediante reshape\n",
    "x.reshape((3, 1))"
   ]
  },
  {
   "cell_type": "code",
   "execution_count": null,
   "metadata": {
    "collapsed": false
   },
   "outputs": [],
   "source": [
    "# vector columna a través de newaxis\n",
    "x[:, np.newaxis]"
   ]
  },
  {
   "cell_type": "markdown",
   "metadata": {},
   "source": [
    "## Concatenación y división de matrices\n",
    "\n",
    "Todas las rutinas anteriores trabajan con matrices simples. También es posible combinar múltiples arrays en uno, y a la inversa dividir un único array en múltiples arrays. Echaremos un vistazo a estas operaciones aquí."
   ]
  },
  {
   "cell_type": "markdown",
   "metadata": {},
   "source": [
    "### Concatenación de matrices\n",
    "\n",
    "La concatenación, o unión de dos arrays en NumPy, se realiza principalmente utilizando las rutinas ``np.concatenate``, ``np.vstack``, y ``np.hstack``.\n",
    "``np.concatenate`` toma una tupla o lista de arrays como primer argumento, como podemos ver aquí:"
   ]
  },
  {
   "cell_type": "code",
   "execution_count": null,
   "metadata": {
    "collapsed": false
   },
   "outputs": [],
   "source": [
    "x = np.array([1, 2, 3])\n",
    "y = np.array([3, 2, 1])\n",
    "np.concatenate([x, y])"
   ]
  },
  {
   "cell_type": "markdown",
   "metadata": {},
   "source": [
    "También puedes concatenar más de dos matrices a la vez:"
   ]
  },
  {
   "cell_type": "code",
   "execution_count": null,
   "metadata": {
    "collapsed": false
   },
   "outputs": [],
   "source": [
    "z = [99, 99, 99]\n",
    "print(np.concatenate([x, y, z]))"
   ]
  },
  {
   "cell_type": "markdown",
   "metadata": {},
   "source": [
    "También puede utilizarse para matrices bidimensionales:"
   ]
  },
  {
   "cell_type": "code",
   "execution_count": null,
   "metadata": {
    "collapsed": false
   },
   "outputs": [],
   "source": [
    "grid = np.array([[1, 2, 3],\n",
    "                 [4, 5, 6]])"
   ]
  },
  {
   "cell_type": "code",
   "execution_count": null,
   "metadata": {
    "collapsed": false
   },
   "outputs": [],
   "source": [
    "# concatenar a lo largo del primer eje\n",
    "np.concatenate([grid, grid])"
   ]
  },
  {
   "cell_type": "code",
   "execution_count": null,
   "metadata": {
    "collapsed": false
   },
   "outputs": [],
   "source": [
    "# concatenar a lo largo del segundo eje (índice cero)\n",
    "np.concatenate([grid, grid], axis=1)"
   ]
  },
  {
   "cell_type": "markdown",
   "metadata": {},
   "source": [
    "Para trabajar con matrices de dimensiones mixtas, puede resultar más claro utilizar las funciones ``np.vstack`` (pila vertical) y ``np.hstack`` (pila horizontal):"
   ]
  },
  {
   "cell_type": "code",
   "execution_count": null,
   "metadata": {
    "collapsed": false
   },
   "outputs": [],
   "source": [
    "x = np.array([1, 2, 3])\n",
    "grid = np.array([[9, 8, 7],\n",
    "                 [6, 5, 4]])\n",
    "\n",
    "# apilar verticalmente las matrices\n",
    "np.vstack([x, grid])"
   ]
  },
  {
   "cell_type": "code",
   "execution_count": null,
   "metadata": {
    "collapsed": false
   },
   "outputs": [],
   "source": [
    "# apilar horizontalmente las matrices\n",
    "y = np.array([[99],\n",
    "              [99]])\n",
    "np.hstack([grid, y])"
   ]
  },
  {
   "cell_type": "markdown",
   "metadata": {},
   "source": [
    "Del mismo modo, ``np.dstack`` apilará matrices a lo largo del tercer eje."
   ]
  },
  {
   "cell_type": "markdown",
   "metadata": {},
   "source": [
    "### División de matrices\n",
    "\n",
    "Lo contrario de la concatenación es la división, que se realiza mediante las funciones ``np.split``, ``np.hsplit`` y ``np.vsplit``.  Para cada una de ellas, podemos pasar una lista de índices con los puntos de división:"
   ]
  },
  {
   "cell_type": "code",
   "execution_count": null,
   "metadata": {
    "collapsed": false
   },
   "outputs": [],
   "source": [
    "x = [1, 2, 3, 99, 99, 3, 2, 1]\n",
    "x1, x2, x3 = np.split(x, [3, 5])\n",
    "print(x1, x2, x3)"
   ]
  },
  {
   "cell_type": "markdown",
   "metadata": {},
   "source": [
    "Tenga en cuenta que *N* puntos de división, conduce a *N + 1* subarrays.\n",
    "Las funciones relacionadas ``np.hsplit`` y ``np.vsplit`` son similares:"
   ]
  },
  {
   "cell_type": "code",
   "execution_count": null,
   "metadata": {
    "collapsed": false
   },
   "outputs": [],
   "source": [
    "grid = np.arange(16).reshape((4, 4))\n",
    "grid"
   ]
  },
  {
   "cell_type": "code",
   "execution_count": null,
   "metadata": {
    "collapsed": false
   },
   "outputs": [],
   "source": [
    "upper, lower = np.vsplit(grid, [2])\n",
    "print(upper)\n",
    "print(lower)"
   ]
  },
  {
   "cell_type": "code",
   "execution_count": null,
   "metadata": {
    "collapsed": false
   },
   "outputs": [],
   "source": [
    "left, right = np.hsplit(grid, [2])\n",
    "print(left)\n",
    "print(right)"
   ]
  },
  {
   "cell_type": "markdown",
   "metadata": {},
   "source": [
    "Del mismo modo, ``np.dsplit`` dividirá las matrices a lo largo del tercer eje."
   ]
  },
  {
   "cell_type": "markdown",
   "metadata": {},
   "source": [
    "## Matematicas"
   ]
  },
  {
   "cell_type": "markdown",
   "metadata": {},
   "source": [
    "<!--NAVIGATION-->\n",
    "< [Data Types en Python](1-Data_types_en_python.ipynb) | [Computación en Matrices NumPy:](3-Computation_en_arrays.ipynb) >"
   ]
  }
 ],
 "metadata": {
  "anaconda-cloud": {},
  "kernelspec": {
   "display_name": "Python 3",
   "language": "python",
   "name": "python3"
  },
  "language_info": {
   "codemirror_mode": {
    "name": "ipython",
    "version": 3
   },
   "file_extension": ".py",
   "mimetype": "text/x-python",
   "name": "python",
   "nbconvert_exporter": "python",
   "pygments_lexer": "ipython3",
   "version": "3.11.9"
  }
 },
 "nbformat": 4,
 "nbformat_minor": 0
}
