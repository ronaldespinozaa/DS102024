{
 "cells": [
  {
   "cell_type": "markdown",
   "metadata": {
    "deletable": true,
    "editable": true
   },
   "source": [
    "# Introducción a NumPy"
   ]
  },
  {
   "cell_type": "markdown",
   "metadata": {
    "deletable": true,
    "editable": true
   },
   "source": [
    "Los conjuntos de datos pueden provenir de una amplia gama de fuentes y una amplia gama de formatos, incluyendo ser colecciones de documentos, colecciones de imágenes, colecciones de clips de sonido, colecciones de medidas numéricas, o casi cualquier otra cosa.\n",
    "A pesar de esta aparente heterogeneidad, nos ayudará pensar en todos los datos fundamentalmente como matrices de números.\n",
    "\n",
    "Por ejemplo, las imágenes, sobre todo las digitales, pueden considerarse simplemente como matrices bidimensionales de números que representan el brillo de los píxeles de una zona.\n",
    "Los clips de sonido pueden considerarse matrices unidimensionales de intensidad en función del tiempo.\n",
    "El texto puede convertirse de varias formas en representaciones numéricas, como dígitos binarios que representan la frecuencia de ciertas palabras o pares de palabras.\n",
    "Sean cuales sean los datos, el primer paso para hacerlos analizables será transformarlos en matrices de números.\n",
    "\n",
    "Por esta razón, el almacenamiento y la manipulación eficiente de matrices numéricas es absolutamente fundamental para el proceso de hacer ciencia de datos.\n",
    "A continuación veremos las herramientas especializadas que tiene Python para manejar tales matrices numéricas: el paquete NumPy, y el paquete Pandas.\n",
    "\n",
    "NumPy (abreviatura de *Numerical Python*) proporciona una interfaz eficiente para almacenar y operar con buffers de datos densos.\n",
    "En cierto modo, las matrices NumPy son como el tipo ``list`` incorporado en Python, pero las matrices NumPy proporcionan un almacenamiento mucho más eficiente y operaciones de datos a medida que las matrices crecen en tamaño.\n",
    "Las matrices NumPy forman el núcleo de casi todo el ecosistema de herramientas de ciencia de datos en Python, por lo que el tiempo dedicado a aprender a utilizar NumPy de manera eficaz será valioso independientemente del aspecto de la ciencia de datos que le interese."
   ]
  },
  {
   "cell_type": "markdown",
   "metadata": {},
   "source": [
    "```bash\n",
    "pip install numpy\n",
    "```\n",
    "```bash\n",
    "poetry add numpy\n",
    "```"
   ]
  },
  {
   "cell_type": "code",
   "execution_count": null,
   "metadata": {
    "collapsed": false,
    "deletable": true,
    "editable": true
   },
   "outputs": [],
   "source": [
    "import numpy\n",
    "numpy.__version__"
   ]
  },
  {
   "cell_type": "markdown",
   "metadata": {
    "deletable": true,
    "editable": true
   },
   "source": [
    "Por convención, encontrarás que la mayoría de la gente en el mundo SciPy/PyData importará NumPy usando ``np`` como alias:"
   ]
  },
  {
   "cell_type": "code",
   "execution_count": null,
   "metadata": {
    "collapsed": false,
    "deletable": true,
    "editable": true
   },
   "outputs": [],
   "source": [
    "import numpy as np"
   ]
  },
  {
   "cell_type": "markdown",
   "metadata": {
    "deletable": true,
    "editable": true
   },
   "source": [
    "## Recordatorio sobre la documentación incorporada\n",
    "\n",
    "No olvides que IPython le ofrece la posibilidad de explorar rápidamente el contenido de un paquete (utilizando la función de completar tabulador), así como la documentación de varias funciones (utilizando el carácter ``?``.\n",
    "\n",
    "Por ejemplo, para mostrar todo el contenido del espacio de nombres numpy, puedes escribir esto:\n",
    "\n",
    "```ipython\n",
    "In [3]: np.<TAB>\n",
    "```\n",
    "\n",
    "Y para mostrar la documentación incorporada de NumPy, puedes usar esto:\n",
    "\n",
    "```ipython\n",
    "In [4]: np?\n",
    "```\n"
   ]
  },
  {
   "cell_type": "markdown",
   "metadata": {
    "deletable": true,
    "editable": true
   },
   "source": [
    "<!--NAVIGATION-->\n",
    "## Próxima lección: [Data Types en Python](1-Data_types_en_python.ipynb)\n"
   ]
  }
 ],
 "metadata": {
  "anaconda-cloud": {},
  "kernelspec": {
   "display_name": "Python 3",
   "language": "python",
   "name": "python3"
  },
  "language_info": {
   "codemirror_mode": {
    "name": "ipython",
    "version": 3
   },
   "file_extension": ".py",
   "mimetype": "text/x-python",
   "name": "python",
   "nbconvert_exporter": "python",
   "pygments_lexer": "ipython3",
   "version": "3.11.9"
  }
 },
 "nbformat": 4,
 "nbformat_minor": 0
}
