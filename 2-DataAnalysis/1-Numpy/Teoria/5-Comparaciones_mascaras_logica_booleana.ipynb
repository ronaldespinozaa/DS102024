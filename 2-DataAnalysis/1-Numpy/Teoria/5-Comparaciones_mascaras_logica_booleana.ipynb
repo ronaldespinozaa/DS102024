{
 "cells": [
  {
   "cell_type": "markdown",
   "metadata": {},
   "source": [
    "# Comparaciones, máscaras y lógica booleana"
   ]
  },
  {
   "cell_type": "markdown",
   "metadata": {},
   "source": [
    "Esta sección cubre el uso de máscaras booleanas para examinar y manipular valores dentro de matrices NumPy.\n",
    "El enmascaramiento aparece cuando se desea extraer, modificar, contar o manipular valores en un array basándose en algún criterio: por ejemplo, puede que desee contar todos los valores mayores que un cierto valor, o quizás eliminar todos los valores atípicos que están por encima de algún umbral.\n",
    "En NumPy, el enmascaramiento booleano es a menudo la forma más eficiente de realizar este tipo de tareas."
   ]
  },
  {
   "cell_type": "markdown",
   "metadata": {},
   "source": [
    "## Ejemplo: Contar días de lluvia\n",
    "\n",
    "Imagina que tienes una serie de datos que representan la cantidad de precipitación cada día durante un año en una ciudad determinada.\n",
    "Por ejemplo, aquí cargaremos las estadísticas de precipitaciones diarias para la ciudad de Seattle en 2014, utilizando Pandas:"
   ]
  },
  {
   "cell_type": "code",
   "execution_count": null,
   "metadata": {
    "collapsed": false
   },
   "outputs": [],
   "source": [
    "import numpy as np\n",
    "import pandas as pd\n",
    "\n",
    "# usa pandas para extraer las pulgadas de lluvia como un array NumPy\n",
    "rainfall = pd.read_csv('data/Seattle2014.csv')['PRCP'].values\n",
    "inches = rainfall / 254.0  # 1/10mm -> inches\n",
    "inches.shape"
   ]
  },
  {
   "cell_type": "markdown",
   "metadata": {},
   "source": [
    "La matriz contiene 365 valores, que dan la precipitación diaria en pulgadas del 1 de enero al 31 de diciembre de 2014.\n",
    "\n",
    "Como primera visualización rápida, veamos el histograma de días de lluvia, que se generó utilizando Matplotlib."
   ]
  },
  {
   "cell_type": "code",
   "execution_count": null,
   "metadata": {
    "collapsed": false
   },
   "outputs": [],
   "source": [
    "import matplotlib.pyplot as plt\n",
    "import seaborn as sns\n",
    "\n",
    "sns.set_style(\"whitegrid\")"
   ]
  },
  {
   "cell_type": "code",
   "execution_count": null,
   "metadata": {
    "collapsed": false
   },
   "outputs": [],
   "source": [
    "plt.hist(inches, 40);"
   ]
  },
  {
   "cell_type": "markdown",
   "metadata": {},
   "source": [
    "Este histograma nos da una idea general de cómo son los datos: a pesar de su reputación, la gran mayoría de los días en Seattle tuvieron precipitaciones medidas cercanas a cero en 2014.\n",
    "Pero esto no es suficiente para transmitir cierta información que nos gustaría ver: por ejemplo, ¿cuántos días de lluvia hubo en el año? ¿Cuál es la precipitación media en esos días de lluvia? ¿Cuántos días llovió más de medio centímetro?"
   ]
  },
  {
   "cell_type": "markdown",
   "metadata": {},
   "source": [
    "### Profundizar en los datos\n",
    "\n",
    "Una forma de hacer esto sería responder a estas preguntas a mano: hacer un bucle con los datos, incrementando un contador cada vez que veamos valores en el rango deseado.\n",
    "Por las razones discutidas anteriormente, este enfoque es muy ineficiente, tanto desde el punto de vista del tiempo de escritura de código y el tiempo de cálculo del resultado.\n",
    "Vimos que las ufuncs de NumPy pueden usarse en lugar de bucles para hacer operaciones aritméticas rápidas elemento a elemento sobre arrays; del mismo modo, podemos usar otras ufuncs para hacer *comparaciones* elemento a elemento sobre arrays, y podemos manipular los resultados para responder a las preguntas que tengamos.\n",
    "Dejaremos los datos a un lado por ahora, y discutiremos algunas herramientas generales en NumPy para usar *enmascaramiento* para responder rápidamente a este tipo de preguntas."
   ]
  },
  {
   "cell_type": "markdown",
   "metadata": {},
   "source": [
    "## Operadores de comparación como ufuncs\n",
    "\n",
    "En particular en los operadores aritméticos. Vimos que usar ``+``, ``-``, ``*``, ``/``, y otros en arrays lleva a operaciones elemento a elemento.\n",
    "NumPy también implementa operadores de comparación como ``<`` (menor que) y ``>`` (mayor que) como ufuncs.\n",
    "El resultado de estos operadores de comparación es siempre un array de tipo booleano.\n",
    "Están disponibles las seis operaciones de comparación estándar:"
   ]
  },
  {
   "cell_type": "code",
   "execution_count": null,
   "metadata": {
    "collapsed": true
   },
   "outputs": [],
   "source": [
    "x = np.array([1, 2, 3, 4, 5])"
   ]
  },
  {
   "cell_type": "code",
   "execution_count": null,
   "metadata": {
    "collapsed": false
   },
   "outputs": [],
   "source": [
    "x < 3  # menos de"
   ]
  },
  {
   "cell_type": "code",
   "execution_count": null,
   "metadata": {
    "collapsed": false
   },
   "outputs": [],
   "source": [
    "x > 3  # mayor que"
   ]
  },
  {
   "cell_type": "code",
   "execution_count": null,
   "metadata": {
    "collapsed": false
   },
   "outputs": [],
   "source": [
    "x <= 3  # menor o igual"
   ]
  },
  {
   "cell_type": "code",
   "execution_count": null,
   "metadata": {
    "collapsed": false
   },
   "outputs": [],
   "source": [
    "x >= 3  # mayor o igual"
   ]
  },
  {
   "cell_type": "code",
   "execution_count": null,
   "metadata": {
    "collapsed": false
   },
   "outputs": [],
   "source": [
    "x != 3  # no igual"
   ]
  },
  {
   "cell_type": "code",
   "execution_count": null,
   "metadata": {
    "collapsed": false
   },
   "outputs": [],
   "source": [
    "x == 3  # igual"
   ]
  },
  {
   "cell_type": "markdown",
   "metadata": {},
   "source": [
    "También es posible realizar una comparación elemento a elemento de dos matrices e incluir expresiones compuestas:"
   ]
  },
  {
   "cell_type": "code",
   "execution_count": null,
   "metadata": {
    "collapsed": false
   },
   "outputs": [],
   "source": [
    "(2 * x) == (x ** 2)"
   ]
  },
  {
   "cell_type": "markdown",
   "metadata": {},
   "source": [
    "Como en el caso de los operadores aritméticos, los operadores de comparación se implementan como ufuncs en NumPy; por ejemplo, cuando escribes ``x < 3``, internamente NumPy utiliza ``np.less(x, 3)``.\n",
    "    Aquí se muestra un resumen de los operadores de comparación y su ufunc equivalente:\n",
    "\n",
    "| Operador\t    | Ufunc equivalente   |\n",
    "|---------------|---------------------|\n",
    "|``==``         |``np.equal``         |\n",
    "|``<``          |``np.less``          |\n",
    "|``>``          |``np.greater``       |\n",
    "|``!=``         |``np.not_equal``     |\n",
    "|``<=``         |``np.less_equal``    |\n",
    "|``>=``         |``np.greater_equal`` |"
   ]
  },
  {
   "cell_type": "markdown",
   "metadata": {},
   "source": [
    "Al igual que en el caso de los ufuncs aritméticos, éstos funcionarán en matrices de cualquier tamaño y forma.\n",
    "He aquí un ejemplo bidimensional:"
   ]
  },
  {
   "cell_type": "code",
   "execution_count": null,
   "metadata": {
    "collapsed": false
   },
   "outputs": [],
   "source": [
    "rng = np.random.RandomState(0)\n",
    "x = rng.randint(10, size=(3, 4))\n",
    "x"
   ]
  },
  {
   "cell_type": "code",
   "execution_count": null,
   "metadata": {
    "collapsed": false
   },
   "outputs": [],
   "source": [
    "x < 6"
   ]
  },
  {
   "cell_type": "markdown",
   "metadata": {},
   "source": [
    "En cada caso, el resultado es una matriz booleana, y NumPy proporciona una serie de patrones sencillos para trabajar con estos resultados booleanos."
   ]
  },
  {
   "cell_type": "markdown",
   "metadata": {},
   "source": [
    "## Trabajar con matrices booleanas\n",
    "\n",
    "Dada una matriz booleana, hay un montón de operaciones útiles que puedes hacer.\n",
    "Trabajaremos con ``x``, el array bidimensional que creamos antes."
   ]
  },
  {
   "cell_type": "code",
   "execution_count": null,
   "metadata": {
    "collapsed": false
   },
   "outputs": [],
   "source": [
    "print(x)"
   ]
  },
  {
   "cell_type": "markdown",
   "metadata": {},
   "source": [
    "### Contar entradas\n",
    "\n",
    "Para contar el número de entradas ``True`` en una matriz booleana, ``np.count_nonzero`` es útil:"
   ]
  },
  {
   "cell_type": "code",
   "execution_count": null,
   "metadata": {
    "collapsed": false
   },
   "outputs": [],
   "source": [
    "# ¿cuántos valores inferiores a 6?\n",
    "np.count_nonzero(x < 6)"
   ]
  },
  {
   "cell_type": "markdown",
   "metadata": {},
   "source": [
    "Vemos que hay ocho entradas del array que son menores que 6.\n",
    "Otra forma de obtener esta información es utilizar ``np.sum``; en este caso, ``False`` se interpreta como ``0``, y ``True`` se interpreta como ``1``:"
   ]
  },
  {
   "cell_type": "code",
   "execution_count": null,
   "metadata": {
    "collapsed": false
   },
   "outputs": [],
   "source": [
    "np.sum(x < 6)"
   ]
  },
  {
   "cell_type": "markdown",
   "metadata": {},
   "source": [
    "La ventaja de ``sum()`` es que al igual que con otras funciones de agregación de NumPy, esta suma se puede hacer a lo largo de filas o columnas también:"
   ]
  },
  {
   "cell_type": "code",
   "execution_count": null,
   "metadata": {
    "collapsed": false
   },
   "outputs": [],
   "source": [
    "# ¿Cuántos valores menores que 6 hay en cada fila?\n",
    "np.sum(x < 6, axis=1)"
   ]
  },
  {
   "cell_type": "markdown",
   "metadata": {},
   "source": [
    "Cuenta el número de valores menores que 6 en cada fila de la matriz.\n",
    "\n",
    "Si nos interesa comprobar rápidamente si alguno o todos los valores son verdaderos, podemos utilizar ``np.any`` o ``np.all``:"
   ]
  },
  {
   "cell_type": "code",
   "execution_count": null,
   "metadata": {
    "collapsed": false
   },
   "outputs": [],
   "source": [
    "# ¿hay valores superiores a 8?\n",
    "np.any(x > 8)"
   ]
  },
  {
   "cell_type": "code",
   "execution_count": null,
   "metadata": {
    "collapsed": false
   },
   "outputs": [],
   "source": [
    "# ¿hay valores inferiores a cero?\n",
    "np.any(x < 0)"
   ]
  },
  {
   "cell_type": "code",
   "execution_count": null,
   "metadata": {
    "collapsed": false
   },
   "outputs": [],
   "source": [
    "# ¿todos los valores son inferiores a 10?\n",
    "np.all(x < 10)"
   ]
  },
  {
   "cell_type": "code",
   "execution_count": null,
   "metadata": {
    "collapsed": false
   },
   "outputs": [],
   "source": [
    "# ¿son todos los valores iguales a 6?\n",
    "np.all(x == 6)"
   ]
  },
  {
   "cell_type": "markdown",
   "metadata": {},
   "source": [
    "``np.all`` y ``np.any`` también se pueden utilizar a lo largo de determinados ejes. Por ejemplo:"
   ]
  },
  {
   "cell_type": "code",
   "execution_count": null,
   "metadata": {
    "collapsed": false
   },
   "outputs": [],
   "source": [
    "# ¿todos los valores de cada fila son menores que 8?\n",
    "np.all(x < 8, axis=1)"
   ]
  },
  {
   "cell_type": "markdown",
   "metadata": {},
   "source": [
    "En este caso, todos los elementos de la primera y la tercera fila son inferiores a 8, mientras que no ocurre lo mismo en la segunda fila."
   ]
  },
  {
   "cell_type": "markdown",
   "metadata": {},
   "source": [
    "### Operadores booleanos\n",
    "\n",
    "Ya hemos visto cómo podríamos contar, digamos, todos los días con lluvia inferior a cuatro pulgadas, o todos los días con lluvia superior a dos pulgadas.\n",
    "¿Pero qué pasa si queremos saber todos los días en los que llueve menos de cuatro pulgadas y más de una pulgada?\n",
    "Esto se consigue mediante los operadores lógicos *bitwise* de Python, ``&``, ``|``, ``^`` y ``~``.\n",
    "Al igual que con los operadores aritméticos estándar, NumPy los sobrecarga como ufuncs que funcionan elemento a elemento en matrices (normalmente booleanas).\n",
    "\n",
    "Por ejemplo, podemos abordar este tipo de pregunta compuesta de la siguiente manera:"
   ]
  },
  {
   "cell_type": "code",
   "execution_count": null,
   "metadata": {
    "collapsed": false
   },
   "outputs": [],
   "source": [
    "np.sum((inches > 0.5) & (inches < 1))"
   ]
  },
  {
   "cell_type": "markdown",
   "metadata": {},
   "source": [
    "Así, vemos que hay 29 días con precipitaciones entre 0,5 y 1,0 pulgadas.\n",
    "\n",
    "Tenga en cuenta que los paréntesis aquí son importantes, debido a las reglas de precedencia de operadores, con los paréntesis eliminados esta expresión se evaluaría de la siguiente manera, lo que da lugar a un error:\n",
    "\n",
    "``` python\n",
    "pulgadas > (0.5 & pulgadas) < 1\n",
    "```\n"
   ]
  },
  {
   "cell_type": "code",
   "execution_count": null,
   "metadata": {
    "collapsed": false
   },
   "outputs": [],
   "source": [
    "np.sum(~( (inches <= 0.5) | (inches >= 1) ))"
   ]
  },
  {
   "cell_type": "markdown",
   "metadata": {},
   "source": [
    "La combinación de operadores de comparación y operadores booleanos en matrices puede dar lugar a una amplia gama de operaciones lógicas eficaces.\n",
    "\n",
    "La siguiente tabla resume los operadores booleanos bit a bit y sus ufuncs equivalentes:"
   ]
  },
  {
   "cell_type": "markdown",
   "metadata": {},
   "source": [
    "| Operator\t    | Equivalent ufunc    |\n",
    "|---------------|---------------------|\n",
    "|``&``          |``np.bitwise_and``   |\n",
    "|``^``          |``np.bitwise_xor``   |\n",
    "|``\\|``         |``np.bitwise_or``    |\n",
    "|``~``          |``np.bitwise_not``   |"
   ]
  },
  {
   "cell_type": "markdown",
   "metadata": {},
   "source": [
    "Utilizando estas herramientas, podríamos empezar a responder a los tipos de preguntas que tenemos sobre nuestros datos meteorológicos.\n",
    "He aquí algunos ejemplos de resultados que podemos calcular al combinar el enmascaramiento con las agregaciones:"
   ]
  },
  {
   "cell_type": "code",
   "execution_count": null,
   "metadata": {
    "collapsed": false
   },
   "outputs": [],
   "source": [
    "print(\"Número de días sin lluvia:      \", np.sum(inches == 0))\n",
    "print(\"Número de días con lluvia:         \", np.sum(inches != 0))\n",
    "print(\"Días con más de 0,5 pulgadas:\", np.sum(inches > 0.5))\n",
    "print(\"Días de lluvia con < 0,2 pulgadas  :\", np.sum((inches > 0) &\n",
    "                                                (inches < 0.2)))"
   ]
  },
  {
   "cell_type": "markdown",
   "metadata": {},
   "source": [
    "## Matrices booleanas como máscaras\n",
    "\n",
    "En la sección anterior vimos agregados calculados directamente sobre matrices booleanas.\n",
    "Un patrón más potente es utilizar matrices booleanas como máscaras, para seleccionar subconjuntos particulares de los propios datos.\n",
    "Volviendo a nuestra matriz ``x`` de antes, supongamos que queremos una matriz de todos los valores de la matriz que son menores que, digamos, 5:"
   ]
  },
  {
   "cell_type": "code",
   "execution_count": null,
   "metadata": {
    "collapsed": false
   },
   "outputs": [],
   "source": [
    "x"
   ]
  },
  {
   "cell_type": "markdown",
   "metadata": {},
   "source": [
    "Podemos obtener una matriz booleana para esta condición fácilmente, como ya hemos visto:"
   ]
  },
  {
   "cell_type": "code",
   "execution_count": null,
   "metadata": {
    "collapsed": false
   },
   "outputs": [],
   "source": [
    "x < 5"
   ]
  },
  {
   "cell_type": "markdown",
   "metadata": {},
   "source": [
    "Ahora, para *seleccionar* estos valores de la matriz, podemos simplemente indexar en esta matriz booleana; esto se conoce como una operación de *enmascaramiento*:"
   ]
  },
  {
   "cell_type": "code",
   "execution_count": null,
   "metadata": {
    "collapsed": false
   },
   "outputs": [],
   "source": [
    "x[x < 5]"
   ]
  },
  {
   "cell_type": "markdown",
   "metadata": {},
   "source": [
    "Lo que se devuelve es una matriz unidimensional llena con todos los valores que cumplen esta condición; en otras palabras, todos los valores en posiciones en las que la matriz de máscaras es ``True``.\n",
    "\n",
    "A continuación, podemos operar con estos valores como queramos.\n",
    "Por ejemplo, podemos calcular algunas estadísticas relevantes sobre los datos de lluvia de Seattle:"
   ]
  },
  {
   "cell_type": "code",
   "execution_count": null,
   "metadata": {
    "collapsed": false
   },
   "outputs": [],
   "source": [
    "# construir una máscara de todos los días de lluvia\n",
    "rainy = (inches > 0)\n",
    "\n",
    "# construir una máscara de todos los días de verano (el 21 de junio es el 172º día)\n",
    "days = np.arange(365)\n",
    "summer = (days > 172) & (days < 262)\n",
    "\n",
    "print(\"Mediana de la precipitación en días de lluvia en 2014 (pulgadas):   \",\n",
    "      np.median(inches[rainy]))\n",
    "print(\"Mediana de la precipitación en días de verano de 2014 (pulgadas):  \",\n",
    "      np.median(inches[summer]))\n",
    "print(\"Precipitación máxima en los días de verano de 2014 (pulgadas): \",\n",
    "      np.max(inches[summer]))\n",
    "print(\"Precipitación media en días de lluvia no estivales (pulgadas):\",\n",
    "      np.median(inches[rainy & ~summer]))"
   ]
  },
  {
   "cell_type": "markdown",
   "metadata": {},
   "source": [
    "Combinando operaciones booleanas, operaciones de enmascaramiento y agregados, podemos responder muy rápidamente a este tipo de preguntas para nuestro conjunto de datos."
   ]
  },
  {
   "cell_type": "markdown",
   "metadata": {},
   "source": [
    "## Aside: Uso de las palabras clave y/o frente a los operadores &/|\n",
    "\n",
    "Un punto común de confusión es la diferencia entre las palabras clave ``and`` y ``or`` por un lado, y los operadores ``&`` y ``|`` por otro.\n",
    "¿Cuándo utilizar uno y cuándo el otro?\n",
    "\n",
    "La diferencia es la siguiente: ``and`` y ``or`` miden la verdad o falsedad de *todo un objeto*, mientras que ``&`` y ``|`` se refieren a *bits dentro de cada objeto*.\n",
    "\n",
    "Cuando usas ``and`` o ``or``, es equivalente a pedir a Python que trate el objeto como una única entidad booleana.\n",
    "En Python, todos los enteros distintos de cero se evaluarán como True. Por lo tanto:"
   ]
  },
  {
   "cell_type": "code",
   "execution_count": null,
   "metadata": {
    "collapsed": false
   },
   "outputs": [],
   "source": [
    "bool(42), bool(0)"
   ]
  },
  {
   "cell_type": "code",
   "execution_count": null,
   "metadata": {
    "collapsed": false
   },
   "outputs": [],
   "source": [
    "bool(42 and 0)"
   ]
  },
  {
   "cell_type": "code",
   "execution_count": null,
   "metadata": {
    "collapsed": false
   },
   "outputs": [],
   "source": [
    "bool(42 or 0)"
   ]
  },
  {
   "cell_type": "markdown",
   "metadata": {},
   "source": [
    "Cuando utilizas ``&`` y ``|`` en números enteros, la expresión opera sobre los bits del elemento, aplicando el *and* o el *or* a los bits individuales que componen el número:"
   ]
  },
  {
   "cell_type": "code",
   "execution_count": null,
   "metadata": {
    "collapsed": false
   },
   "outputs": [],
   "source": [
    "bin(42)"
   ]
  },
  {
   "cell_type": "code",
   "execution_count": null,
   "metadata": {
    "collapsed": false
   },
   "outputs": [],
   "source": [
    "bin(59)"
   ]
  },
  {
   "cell_type": "code",
   "execution_count": null,
   "metadata": {
    "collapsed": false
   },
   "outputs": [],
   "source": [
    "bin(42 & 59)"
   ]
  },
  {
   "cell_type": "code",
   "execution_count": null,
   "metadata": {
    "collapsed": false
   },
   "outputs": [],
   "source": [
    "bin(42 | 59)"
   ]
  },
  {
   "cell_type": "markdown",
   "metadata": {},
   "source": [
    "Observe que los bits correspondientes de la representación binaria se comparan para obtener el resultado.\n",
    "\n",
    "Cuando se tiene una matriz de valores booleanos en NumPy, esto puede ser pensado como una cadena de bits donde ``1 = True`` y ``0 = False``, y el resultado de ``&`` y ``|`` opera de manera similar a la anterior:"
   ]
  },
  {
   "cell_type": "code",
   "execution_count": null,
   "metadata": {
    "collapsed": false
   },
   "outputs": [],
   "source": [
    "A = np.array([1, 0, 1, 0, 1, 0], dtype=bool)\n",
    "B = np.array([1, 1, 1, 0, 1, 1], dtype=bool)\n",
    "A | B"
   ]
  },
  {
   "cell_type": "markdown",
   "metadata": {},
   "source": [
    "El uso de ``or`` en estas matrices tratará de evaluar la verdad o falsedad de todo el objeto matriz, que no es un valor bien definido:"
   ]
  },
  {
   "cell_type": "code",
   "execution_count": null,
   "metadata": {
    "collapsed": false
   },
   "outputs": [],
   "source": [
    "A or B"
   ]
  },
  {
   "cell_type": "markdown",
   "metadata": {},
   "source": [
    "Del mismo modo, al realizar una expresión booleana en un array dado, debes utilizar ``|`` o ``&`` en lugar de ``or`` o ``and``:"
   ]
  },
  {
   "cell_type": "code",
   "execution_count": null,
   "metadata": {
    "collapsed": false
   },
   "outputs": [],
   "source": [
    "x = np.arange(10)\n",
    "(x > 4) & (x < 8)"
   ]
  },
  {
   "cell_type": "markdown",
   "metadata": {},
   "source": [
    "Intentar evaluar la verdad o falsedad de todo el array dará el mismo ``ValueError`` que vimos anteriormente:"
   ]
  },
  {
   "cell_type": "code",
   "execution_count": null,
   "metadata": {
    "collapsed": false
   },
   "outputs": [],
   "source": [
    "(x > 4) and (x < 8)"
   ]
  },
  {
   "cell_type": "markdown",
   "metadata": {},
   "source": [
    "Así que recuerde esto: ``and`` y ``or`` realizan una única evaluación booleana sobre un objeto entero, mientras que ``&`` y ``|`` realizan múltiples evaluaciones booleanas sobre el contenido (los bits o bytes individuales) de un objeto.\n",
    "Para las matrices booleanas de NumPy, esta última es casi siempre la operación deseada."
   ]
  },
  {
   "cell_type": "markdown",
   "metadata": {},
   "source": [
    "<!--NAVIGATION-->\n",
    "< [Calculo sobre agregados de Matrices](4-Calculo_sobre_agregados_de_matrices.ipynb) | [Sorting](6-Sorting.ipynb) >\n"
   ]
  }
 ],
 "metadata": {
  "anaconda-cloud": {},
  "kernelspec": {
   "display_name": "Python 3",
   "language": "python",
   "name": "python3"
  },
  "language_info": {
   "codemirror_mode": {
    "name": "ipython",
    "version": 3
   },
   "file_extension": ".py",
   "mimetype": "text/x-python",
   "name": "python",
   "nbconvert_exporter": "python",
   "pygments_lexer": "ipython3",
   "version": "3.11.9"
  }
 },
 "nbformat": 4,
 "nbformat_minor": 0
}
