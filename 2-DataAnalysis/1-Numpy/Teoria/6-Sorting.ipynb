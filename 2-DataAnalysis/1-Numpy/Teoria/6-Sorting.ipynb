{
 "cells": [
  {
   "cell_type": "markdown",
   "metadata": {},
   "source": [
    "# Ordenación de matrices"
   ]
  },
  {
   "cell_type": "markdown",
   "metadata": {},
   "source": [
    "Hasta este punto nos hemos ocupado principalmente de las herramientas para acceder y operar con datos de arrays con NumPy.\n",
    "Este notebook cubre algoritmos relacionados con la ordenación de valores en arrays NumPy.\n",
    "Estos algoritmos son un tema favorito en los cursos introductorios de informática: si alguna vez has tomado uno, probablemente has tenido sueños (o, dependiendo de tu temperamento, pesadillas) sobre *ordenaciones de inserción*, *ordenaciones de selección*, *ordenaciones de fusión*, *ordenaciones rápidas*, *ordenaciones de burbuja*, y muchas, muchas más.\n",
    "Todos son medios para realizar una tarea similar: ordenar los valores de una lista o matriz.\n",
    "\n",
    "Por ejemplo, una simple *ordenación por selección* encuentra repetidamente el valor mínimo de una lista, y hace intercambios hasta que la lista está ordenada. Podemos codificar esto en unas pocas líneas de Python:"
   ]
  },
  {
   "cell_type": "code",
   "execution_count": null,
   "metadata": {
    "collapsed": false
   },
   "outputs": [],
   "source": [
    "import numpy as np\n",
    "\n",
    "def selection_sort(x:np.array) -> np.array:\n",
    "    for i in range(len(x)):\n",
    "        swap = i + np.argmin(x[i:])\n",
    "        (x[i], x[swap]) = (x[swap], x[i])\n",
    "    return x"
   ]
  },
  {
   "cell_type": "code",
   "execution_count": null,
   "metadata": {
    "collapsed": false
   },
   "outputs": [],
   "source": [
    "x = np.array([2, 1, 4, 3, 5])\n",
    "selection_sort(x)"
   ]
  },
  {
   "cell_type": "markdown",
   "metadata": {},
   "source": [
    "Como cualquier estudiante de primer año de informática le dirá, la ordenación por selección es útil por su simplicidad, pero es demasiado lenta para ser útil para matrices más grandes.\n",
    "Para una lista de $N$ valores, requiere $N$ bucles, cada uno de los cuales hace en orden $\\sim N$ comparaciones para encontrar el valor de intercambio.\n",
    "En términos de la notación \"big-O\" utilizada a menudo para caracterizar estos algoritmos, la ordenación por selección tiene un promedio de $\\mathcal{O}[N^2]$: si se duplica el número de elementos de la lista, el tiempo de ejecución se multiplicará por cuatro aproximadamente.\n",
    "\n",
    "Sin embargo, incluso la ordenación por selección es mucho mejor que mi algoritmo de ordenación favorito de todos los tiempos, el *bogosort*:"
   ]
  },
  {
   "cell_type": "code",
   "execution_count": null,
   "metadata": {
    "collapsed": false
   },
   "outputs": [],
   "source": [
    "def bogosort(x:np.array) -> np.array:\n",
    "    while np.any(x[:-1] > x[1:]):\n",
    "        np.random.shuffle(x)\n",
    "    return x"
   ]
  },
  {
   "cell_type": "code",
   "execution_count": null,
   "metadata": {
    "collapsed": false
   },
   "outputs": [],
   "source": [
    "x = np.array([2, 1, 4, 3, 5])\n",
    "bogosort(x)"
   ]
  },
  {
   "cell_type": "markdown",
   "metadata": {},
   "source": [
    "Este tonto método de ordenación se basa en el puro azar: se aplica repetidamente una mezcla aleatoria de la matriz hasta que el resultado resulta estar ordenado.\n",
    "Con un escalado medio de $\\mathcal{O}[N veces N!]$, (es decir, *N* veces *N* factorial) esto debería -de forma bastante obvia- no utilizarse nunca para ningún cálculo real.\n",
    "\n",
    "Afortunadamente, Python contiene algoritmos de ordenación incorporados que son *mucho* más eficientes que cualquiera de los algoritmos simplistas que acabamos de mostrar. Empezaremos viendo los algoritmos incorporados en Python, y luego echaremos un vistazo a las rutinas incluidas en NumPy y optimizadas para arrays NumPy."
   ]
  },
  {
   "cell_type": "markdown",
   "metadata": {},
   "source": [
    "## Ordenación rápida en NumPy: ``np.sort`` y ``np.argsort``\n",
    "\n",
    "Aunque Python tiene incorporadas las funciones ``sort`` y ``sorted`` para trabajar con listas, no las discutiremos aquí porque la función ``np.sort`` de NumPy resulta ser mucho más eficiente y útil para nuestros propósitos.\n",
    "Por defecto, ``np.sort`` utiliza un algoritmo $\\mathcal{O}[N\\log N]$, *quicksort*, aunque también están disponibles *mergesort* y *heapsort*. Para la mayoría de las aplicaciones, el quicksort por defecto es más que suficiente.\n",
    "\n",
    "Para devolver una versión ordenada de la matriz sin modificar la entrada, puede utilizar ``np.sort``:"
   ]
  },
  {
   "cell_type": "code",
   "execution_count": null,
   "metadata": {
    "collapsed": false
   },
   "outputs": [],
   "source": [
    "x = np.array([2, 1, 4, 3, 5])\n",
    "np.sort(x)"
   ]
  },
  {
   "cell_type": "markdown",
   "metadata": {},
   "source": [
    "Si prefieres ordenar el array en su lugar, puedes utilizar el método ``sort`` de arrays:"
   ]
  },
  {
   "cell_type": "code",
   "execution_count": null,
   "metadata": {
    "collapsed": false
   },
   "outputs": [],
   "source": [
    "x.sort()\n",
    "print(x)"
   ]
  },
  {
   "cell_type": "markdown",
   "metadata": {},
   "source": [
    "Una función relacionada es ``argsort``, que devuelve los *índices* de los elementos ordenados:"
   ]
  },
  {
   "cell_type": "code",
   "execution_count": null,
   "metadata": {
    "collapsed": false
   },
   "outputs": [],
   "source": [
    "x = np.array([2, 1, 4, 3, 5])\n",
    "i = np.argsort(x)\n",
    "print(i)"
   ]
  },
  {
   "cell_type": "markdown",
   "metadata": {},
   "source": [
    "El primer elemento de este resultado da el índice del elemento más pequeño, el segundo valor da el índice del segundo más pequeño, y así sucesivamente.\n",
    "Si se desea, estos índices pueden utilizarse (mediante indexación de fantasía) para construir la matriz ordenada:"
   ]
  },
  {
   "cell_type": "code",
   "execution_count": null,
   "metadata": {
    "collapsed": false
   },
   "outputs": [],
   "source": [
    "x[i]"
   ]
  },
  {
   "cell_type": "markdown",
   "metadata": {},
   "source": [
    "### Ordenación por filas o columnas"
   ]
  },
  {
   "cell_type": "markdown",
   "metadata": {},
   "source": [
    "Una característica útil de los algoritmos de ordenación de NumPy es la capacidad de ordenar a lo largo de filas o columnas específicas de un array multidimensional utilizando el argumento ``axis``. Por ejemplo:"
   ]
  },
  {
   "cell_type": "code",
   "execution_count": null,
   "metadata": {
    "collapsed": false
   },
   "outputs": [],
   "source": [
    "rand = np.random.RandomState(42)\n",
    "X = rand.randint(0, 10, (4, 6))\n",
    "print(X)"
   ]
  },
  {
   "cell_type": "code",
   "execution_count": null,
   "metadata": {
    "collapsed": false
   },
   "outputs": [],
   "source": [
    "# ordena cada columna de X\n",
    "np.sort(X, axis=0)"
   ]
  },
  {
   "cell_type": "code",
   "execution_count": null,
   "metadata": {
    "collapsed": false
   },
   "outputs": [],
   "source": [
    "# ordena cada fila de X\n",
    "np.sort(X, axis=1)"
   ]
  },
  {
   "cell_type": "markdown",
   "metadata": {},
   "source": [
    "Tenga en cuenta que esto trata cada fila o columna como una matriz independiente, y cualquier relación entre los valores de fila o columna se perderá."
   ]
  },
  {
   "cell_type": "markdown",
   "metadata": {},
   "source": [
    "## Ordenaciones parciales: Partición\n",
    "\n",
    "A veces no estamos interesados en ordenar todo el array, sino que simplemente queremos encontrar los *k* valores más pequeños del array. NumPy proporciona esto en la función ``np.partition``. ``np.partition`` toma un array y un número *K*; el resultado es un nuevo array con los *K* valores más pequeños a la izquierda de la partición, y el resto de valores a la derecha, en orden arbitrario:"
   ]
  },
  {
   "cell_type": "code",
   "execution_count": null,
   "metadata": {
    "collapsed": false
   },
   "outputs": [],
   "source": [
    "x = np.array([7, 2, 3, 1, 6, 5, 4])\n",
    "np.partition(x, 3)"
   ]
  },
  {
   "cell_type": "markdown",
   "metadata": {},
   "source": [
    "Observe que los tres primeros valores de la matriz resultante son los tres más pequeños de la matriz, y las restantes posiciones de la matriz contienen los valores restantes.\n",
    "Dentro de las dos particiones, los elementos tienen un orden arbitrario.\n",
    "\n",
    "De forma similar a la ordenación, podemos particionar a lo largo de un eje arbitrario de una matriz multidimensional:"
   ]
  },
  {
   "cell_type": "code",
   "execution_count": null,
   "metadata": {
    "collapsed": false
   },
   "outputs": [],
   "source": [
    "np.partition(X, 2, axis=1)"
   ]
  },
  {
   "cell_type": "markdown",
   "metadata": {},
   "source": [
    "El resultado es una matriz en la que las dos primeras ranuras de cada fila contienen los valores más pequeños de esa fila, y los valores restantes llenan las ranuras restantes.\n",
    "\n",
    "Por último, al igual que existe un ``np.argsort`` que calcula los índices de la ordenación, existe un ``np.argpartition`` que calcula los índices de la partición.\n",
    "Veremos esto en acción en la siguiente sección."
   ]
  },
  {
   "cell_type": "markdown",
   "metadata": {},
   "source": [
    "<!--NAVIGATION-->\n",
    "< [ Comparaciones de mascaras y logica booleana](5-Comparaciones_mascaras_logica_booleana.ipynb) | [Matrices estructuradas de NumPy](7-Matrices_estructuradas_de_NumPy.ipynb) >\n"
   ]
  }
 ],
 "metadata": {
  "anaconda-cloud": {},
  "kernelspec": {
   "display_name": "Python 3",
   "language": "python",
   "name": "python3"
  },
  "language_info": {
   "codemirror_mode": {
    "name": "ipython",
    "version": 3
   },
   "file_extension": ".py",
   "mimetype": "text/x-python",
   "name": "python",
   "nbconvert_exporter": "python",
   "pygments_lexer": "ipython3",
   "version": "3.11.9"
  }
 },
 "nbformat": 4,
 "nbformat_minor": 0
}
