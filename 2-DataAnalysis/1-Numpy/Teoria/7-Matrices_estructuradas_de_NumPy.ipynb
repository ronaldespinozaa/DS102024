{
 "cells": [
  {
   "cell_type": "markdown",
   "metadata": {},
   "source": [
    "# Datos Estructurados: Matrices estructuradas de NumPy"
   ]
  },
  {
   "cell_type": "markdown",
   "metadata": {},
   "source": [
    "Aunque a menudo nuestros datos pueden representarse bien mediante una matriz homogénea de valores, a veces no es así. Est notebook demuestra el uso de los *array estructurados* y *array de registros* de NumPy, que proporcionan un almacenamiento eficiente para datos compuestos y heterogéneos.  Mientras que los patrones mostrados aquí son útiles para operaciones simples, escenarios como este a menudo se prestan al uso de ``Dataframe`` de Pandas."
   ]
  },
  {
   "cell_type": "code",
   "execution_count": null,
   "metadata": {
    "collapsed": true
   },
   "outputs": [],
   "source": [
    "import numpy as np"
   ]
  },
  {
   "cell_type": "markdown",
   "metadata": {},
   "source": [
    "Imaginemos que tenemos varias categorías de datos sobre una serie de personas (digamos, nombre, edad y peso), y nos gustaría almacenar estos valores para utilizarlos en un programa Python.\n",
    "Sería posible almacenarlos en tres matrices distintas:"
   ]
  },
  {
   "cell_type": "code",
   "execution_count": null,
   "metadata": {
    "collapsed": false
   },
   "outputs": [],
   "source": [
    "name = ['Alice', 'Bob', 'Cathy', 'Doug']\n",
    "age = [25, 45, 37, 19]\n",
    "weight = [55.0, 85.5, 68.0, 61.5]"
   ]
  },
  {
   "cell_type": "markdown",
   "metadata": {},
   "source": [
    "Pero esto es un poco torpe. No hay nada aquí que nos diga que las tres matrices están relacionadas; sería más natural si pudiéramos utilizar una sola estructura para almacenar todos estos datos.\n",
    "NumPy puede manejar esto a través de arrays estructurados, que son arrays con tipos de datos compuestos.\n",
    "\n",
    "Recordemos que anteriormente creamos un array simple usando una expresión como esta:"
   ]
  },
  {
   "cell_type": "code",
   "execution_count": null,
   "metadata": {
    "collapsed": false
   },
   "outputs": [],
   "source": [
    "x = np.zeros(4, dtype=int)"
   ]
  },
  {
   "cell_type": "markdown",
   "metadata": {},
   "source": [
    "De forma similar, podemos crear una matriz estructurada utilizando una especificación de tipo de datos compuesto:"
   ]
  },
  {
   "cell_type": "code",
   "execution_count": null,
   "metadata": {
    "collapsed": false
   },
   "outputs": [],
   "source": [
    "# Utilizar un tipo de datos compuesto para matrices estructuradas\n",
    "data = np.zeros(4, dtype={'names':('name', 'age', 'weight'),\n",
    "                          'formats':('U10', 'i4', 'f8')})\n",
    "print(data.dtype)"
   ]
  },
  {
   "cell_type": "markdown",
   "metadata": {},
   "source": [
    "Aquí ``'U10'`` se traduce como \"cadena Unicode de longitud máxima 10\", ``'i4'`` se traduce como \"entero de 4 bytes (es decir, 32 bits)\" y ``'f8'`` se traduce como \"flotante de 8 bytes (es decir, 64 bits)\".\n",
    "Discutiremos otras opciones para estos códigos de tipo más adelante.\n",
    "\n",
    "Ahora que hemos creado un array contenedor vacío, podemos llenar el array con nuestras listas de valores:"
   ]
  },
  {
   "cell_type": "code",
   "execution_count": null,
   "metadata": {
    "collapsed": false
   },
   "outputs": [],
   "source": [
    "data['name'] = name\n",
    "data['age'] = age\n",
    "data['weight'] = weight\n",
    "print(data)"
   ]
  },
  {
   "cell_type": "markdown",
   "metadata": {},
   "source": [
    "Como esperábamos, los datos están ahora agrupados en un cómodo bloque de memoria.\n",
    "\n",
    "Lo práctico de las matrices estructuradas es que ahora puedes referirte a los valores por índice o por nombre:"
   ]
  },
  {
   "cell_type": "code",
   "execution_count": null,
   "metadata": {
    "collapsed": false
   },
   "outputs": [],
   "source": [
    "# Obtener todos los nombres\n",
    "data['name']"
   ]
  },
  {
   "cell_type": "code",
   "execution_count": null,
   "metadata": {
    "collapsed": false
   },
   "outputs": [],
   "source": [
    "# Obtener la primera fila de datos\n",
    "data[0]"
   ]
  },
  {
   "cell_type": "code",
   "execution_count": null,
   "metadata": {
    "collapsed": false
   },
   "outputs": [],
   "source": [
    "# Obtener el nombre de la última fila\n",
    "data[-1]['name']"
   ]
  },
  {
   "cell_type": "markdown",
   "metadata": {},
   "source": [
    "El uso de máscaras booleanas permite incluso realizar operaciones más sofisticadas, como filtrar por edad:"
   ]
  },
  {
   "cell_type": "code",
   "execution_count": null,
   "metadata": {
    "collapsed": false
   },
   "outputs": [],
   "source": [
    "# Obtener nombres cuya edad sea inferior a 30 años\n",
    "data[data['age'] < 30]['name']"
   ]
  },
  {
   "cell_type": "markdown",
   "metadata": {},
   "source": [
    "## Creación de matrices estructuradas\n",
    "\n",
    "Los tipos de datos de matrices estructuradas pueden especificarse de varias maneras.\n",
    "Anteriormente, vimos el método de diccionario:"
   ]
  },
  {
   "cell_type": "code",
   "execution_count": null,
   "metadata": {
    "collapsed": false
   },
   "outputs": [],
   "source": [
    "np.dtype({'names':('name', 'age', 'weight'),\n",
    "          'formats':('U10', 'i4', 'f8')})"
   ]
  },
  {
   "cell_type": "markdown",
   "metadata": {},
   "source": [
    "Para mayor claridad, los tipos numéricos pueden especificarse utilizando tipos Python o ``dtype`` de NumPy:"
   ]
  },
  {
   "cell_type": "code",
   "execution_count": null,
   "metadata": {
    "collapsed": false
   },
   "outputs": [],
   "source": [
    "np.dtype({'names':('name', 'age', 'weight'),\n",
    "          'formats':((np.str_, 10), int, np.float32)})"
   ]
  },
  {
   "cell_type": "markdown",
   "metadata": {},
   "source": [
    "Un tipo compuesto también puede especificarse como una lista de tuplas:"
   ]
  },
  {
   "cell_type": "code",
   "execution_count": null,
   "metadata": {
    "collapsed": false
   },
   "outputs": [],
   "source": [
    "np.dtype([('name', 'S10'), ('age', 'i4'), ('weight', 'f8')])"
   ]
  },
  {
   "cell_type": "markdown",
   "metadata": {},
   "source": [
    "Si los nombres de los tipos no le importan, puede especificar los tipos solos en una cadena separada por comas:"
   ]
  },
  {
   "cell_type": "code",
   "execution_count": null,
   "metadata": {
    "collapsed": false
   },
   "outputs": [],
   "source": [
    "np.dtype('S10,i4,f8')"
   ]
  },
  {
   "cell_type": "markdown",
   "metadata": {},
   "source": [
    "Los códigos de formato de cadena abreviados pueden parecer confusos, pero se basan en principios sencillos.\n",
    "El primer carácter (opcional) es ``<`` o ``>``, que significa \"little endian\" o \"big endian\", respectivamente, y especifica la convención de ordenación de los bits significativos.\n",
    "El siguiente carácter especifica el tipo de datos: caracteres, bytes, ints, puntos flotantes, etc.\n",
    "El último carácter o caracteres representan el tamaño del objeto en bytes.\n",
    "\n",
    "| Carácter         | Descripción           | Ejemplo                             |\n",
    "| ---------        | -----------           | -------                             | \n",
    "| ``'b'``          | Byte                  | ``np.dtype('b')``                   |\n",
    "| ``'i'``          | Entero con signo      | ``np.dtype('i4') == np.int32``      |\n",
    "| ``'u'``          | Entero sin signo      | ``np.dtype('u1') == np.uint8``      |\n",
    "| ``'f'``          | Punto flotante        | ``np.dtype('f8') == np.int64``      |\n",
    "| ``'c'``          | Punto flotante complej| ``np.dtype('c16') == np.complex128``|\n",
    "| ``'S'``, ``'a'`` | String                | ``np.dtype('S5')``                  |\n",
    "| ``'U'``          | Unicode string        | ``np.dtype('U') == np.str_``        |\n",
    "| ``'V'``          | Raw data (void)       | ``np.dtype('V') == np.void``        |"
   ]
  },
  {
   "cell_type": "markdown",
   "metadata": {},
   "source": [
    "<!--NAVIGATION-->\n",
    "< [Sorting](6-Sorting.ipynb)\n",
    "\n"
   ]
  }
 ],
 "metadata": {
  "anaconda-cloud": {},
  "kernelspec": {
   "display_name": "Python 3",
   "language": "python",
   "name": "python3"
  },
  "language_info": {
   "codemirror_mode": {
    "name": "ipython",
    "version": 3
   },
   "file_extension": ".py",
   "mimetype": "text/x-python",
   "name": "python",
   "nbconvert_exporter": "python",
   "pygments_lexer": "ipython3",
   "version": "3.11.9"
  }
 },
 "nbformat": 4,
 "nbformat_minor": 0
}
