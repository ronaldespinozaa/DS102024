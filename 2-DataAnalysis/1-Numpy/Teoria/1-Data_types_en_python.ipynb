{
 "cells": [
  {
   "cell_type": "markdown",
   "metadata": {},
   "source": [
    "# Tipos de datos en Python"
   ]
  },
  {
   "cell_type": "markdown",
   "metadata": {},
   "source": [
    "La ciencia y la computación basadas en datos requieren comprender cómo se almacenan y manipulan los datos.\n",
    "Este notebook describe y contrasta cómo se manejan las matrices de datos en el propio lenguaje Python, y cómo NumPy mejora esto.\n",
    "\n",
    "Los usuarios de Python a menudo se sienten atraídos por su facilidad de uso, una de cuyas piezas es el tipado dinámico.\n",
    "Mientras que un lenguaje de tipado estático como C o Java requiere que cada variable sea declarada explícitamente, un lenguaje de tipado dinámico como Python se salta esta especificación. Por ejemplo, en C podrías especificar una operación concreta de la siguiente manera:\n",
    "\n",
    "```C\n",
    "/* C code */\n",
    "int result = 0;\n",
    "for(int i=0; i<100; i++){\n",
    "    result += i;\n",
    "}\n",
    "```\n",
    "\n",
    "Mientras que en Python la operación equivalente podría escribirse así:\n",
    "\n",
    "```python\n",
    "# Python code\n",
    "result = 0\n",
    "for i in range(100):\n",
    "    result += i\n",
    "```\n",
    "\n",
    "Fíjate en la principal diferencia: en C, los tipos de datos de cada variable se declaran explícitamente, mientras que en Python los tipos se deducen dinámicamente. Esto significa, por ejemplo, que podemos asignar cualquier tipo de dato a cualquier variable:\n",
    "\n",
    "```python\n",
    "# Python code\n",
    "x = 4\n",
    "x = \"four\"\n",
    "```\n",
    "\n",
    "Aquí hemos cambiado el contenido de ``x`` de un int a un str. Lo mismo en C provocaría (dependiendo de la configuración del compilador) un error de compilación u otras consecuencias no deseadas:\n",
    "\n",
    "```C\n",
    "/* C code */\n",
    "int x = 4;\n",
    "x = \"four\";  // FAILS\n",
    "```\n",
    "\n",
    "Este tipo de flexibilidad es una pieza que hace que Python y otros lenguajes de tipado dinámico sean convenientes y fáciles de usar.\n",
    "Entender *cómo* funciona esto es una parte importante del aprendizaje para analizar datos de forma eficiente y efectiva con Python.\n",
    "Pero lo que esta flexibilidad de tipos también señala es el hecho de que las variables Python son más que su valor; también contienen información extra sobre el tipo del valor."
   ]
  },
  {
   "cell_type": "markdown",
   "metadata": {},
   "source": [
    "## Un número entero en Python es algo más que un número entero\n",
    "\n",
    "La implementación estándar de Python está escrita en C.\n",
    "Esto significa que cada objeto Python es simplemente una estructura C inteligentemente disfrazada, que contiene no sólo su valor, sino también otra información. Por ejemplo, cuando definimos un entero en Python, como ``x = 10000``, ``x`` no es sólo un entero \"en bruto\". En realidad es un puntero a una estructura C compuesta, que contiene varios valores.\n",
    "Mirando a través del código fuente de Python 3, encontramos que la definición del tipo entero (largo) se parece efectivamente a esto (una vez que las macros C se expanden):\n",
    "\n",
    "```C\n",
    "struct _longobject {\n",
    "    long ob_refcnt;\n",
    "    PyTypeObject *ob_type;\n",
    "    size_t ob_size;\n",
    "    long ob_digit[1];\n",
    "};\n",
    "```\n",
    "\n",
    "Un único entero en Python 3 contiene en realidad cuatro piezas:\n",
    "\n",
    "- ``ob_refcnt``, un recuento de referencias que ayuda a Python a gestionar silenciosamente la asignación y liberación de memoria\n",
    "- ``ob_type``, que codifica el tipo de la variable\n",
    "- ``ob_size``, que especifica el tamaño de los siguientes miembros de datos\n",
    "- ``ob_digit``, que contiene el valor entero real que esperamos que represente la variable Python.\n",
    "\n",
    "Esto significa que hay una cierta sobrecarga en el almacenamiento de un número entero en Python en comparación con un número entero en un lenguaje compilado como C, como se ilustra en la siguiente figura:"
   ]
  },
  {
   "cell_type": "markdown",
   "metadata": {},
   "source": [
    "![Integer Memory Layout](img/cint_vs_pyint.png)"
   ]
  },
  {
   "cell_type": "markdown",
   "metadata": {},
   "source": [
    "Aquí ``PyObject_HEAD`` es la parte de la estructura que contiene el recuento de referencias, el código de tipo y otras piezas mencionadas anteriormente.\n",
    "\n",
    "Observa la diferencia aquí: un entero en C es esencialmente una etiqueta para una posición en memoria cuyos bytes codifican un valor entero.\n",
    "Un entero Python es un puntero a una posición en memoria que contiene toda la información del objeto Python, incluyendo los bytes que contienen el valor entero.\n",
    "Esta información extra en la estructura de enteros de Python es lo que permite codificar Python de forma tan libre y dinámica.\n",
    "Sin embargo, toda esta información adicional en los tipos Python tiene un coste, que se hace especialmente evidente en las estructuras que combinan muchos de estos objetos."
   ]
  },
  {
   "cell_type": "markdown",
   "metadata": {},
   "source": [
    "## Una lista Python es más que una lista\n",
    "\n",
    "Consideremos ahora lo que ocurre cuando utilizamos una estructura de datos Python que contiene muchos objetos Python.\n",
    "El contenedor multi-elemento mutable estándar en Python es la lista.\n",
    "Podemos crear una lista de enteros como sigue:"
   ]
  },
  {
   "cell_type": "code",
   "execution_count": null,
   "metadata": {
    "collapsed": false
   },
   "outputs": [],
   "source": [
    "L = list(range(10))\n",
    "L"
   ]
  },
  {
   "cell_type": "code",
   "execution_count": null,
   "metadata": {
    "collapsed": false
   },
   "outputs": [],
   "source": [
    "type(L[0])"
   ]
  },
  {
   "cell_type": "markdown",
   "metadata": {},
   "source": [
    "O, lo que es lo mismo, una lista de cadenas:"
   ]
  },
  {
   "cell_type": "code",
   "execution_count": null,
   "metadata": {
    "collapsed": false
   },
   "outputs": [],
   "source": [
    "L2 = [str(c) for c in L]\n",
    "L2"
   ]
  },
  {
   "cell_type": "code",
   "execution_count": null,
   "metadata": {
    "collapsed": false
   },
   "outputs": [],
   "source": [
    "type(L2[0])"
   ]
  },
  {
   "cell_type": "markdown",
   "metadata": {},
   "source": [
    "Gracias a la tipificación dinámica de Python, podemos incluso crear listas heterogéneas:"
   ]
  },
  {
   "cell_type": "code",
   "execution_count": null,
   "metadata": {
    "collapsed": false
   },
   "outputs": [],
   "source": [
    "L3 = [True, \"2\", 3.0, 4]\n",
    "[type(item) for item in L3]"
   ]
  },
  {
   "cell_type": "markdown",
   "metadata": {},
   "source": [
    "Pero esta flexibilidad tiene un coste: para permitir estos tipos flexibles, cada elemento de la lista debe contener su propia información de tipo, número de referencias y otra información, es decir, cada elemento es un objeto Python completo.\n",
    "En el caso especial de que todas las variables sean del mismo tipo, mucha de esta información es redundante: puede ser mucho más eficiente almacenar los datos en un array de tipo fijo.\n",
    "La diferencia entre una lista de tipo dinámico y una matriz de tipo fijo (estilo NumPy) se ilustra en la siguiente figura:"
   ]
  },
  {
   "cell_type": "markdown",
   "metadata": {},
   "source": [
    "![Array Memory Layout](img/array_vs_list.png)"
   ]
  },
  {
   "cell_type": "markdown",
   "metadata": {},
   "source": [
    "A nivel de implementación, el array contiene esencialmente un único puntero a un bloque contiguo de datos.\n",
    "La lista de Python, por otro lado, contiene un puntero a un bloque de punteros, cada uno de los cuales a su vez apunta a un objeto completo de Python como el entero de Python que vimos antes.\n",
    "De nuevo, la ventaja de la lista es la flexibilidad: dado que cada elemento de la lista es una estructura completa que contiene tanto datos como información de tipo, la lista puede llenarse con datos de cualquier tipo que se desee.\n",
    "Las matrices de tipo fijo al estilo NumPy carecen de esta flexibilidad, pero son mucho más eficientes para almacenar y manipular datos."
   ]
  },
  {
   "cell_type": "markdown",
   "metadata": {},
   "source": [
    "## Matrices de tipo fijo en Python\n",
    "\n",
    "Python ofrece varias opciones diferentes para almacenar datos en buffers de datos eficientes y de tipo fijo.\n",
    "El módulo incorporado ``array`` (disponible desde Python 3.3) se puede utilizar para crear matrices densas de un tipo uniforme:"
   ]
  },
  {
   "cell_type": "code",
   "execution_count": null,
   "metadata": {
    "collapsed": false
   },
   "outputs": [],
   "source": [
    "import array\n",
    "L = list(range(10))\n",
    "A = array.array('i', L)\n",
    "A"
   ]
  },
  {
   "cell_type": "markdown",
   "metadata": {},
   "source": [
    "Aquí ``'i'`` es un código de tipo que indica que el contenido son números enteros.\n",
    "\n",
    "Mucho más útil, sin embargo, es el objeto ``ndarray`` del paquete NumPy.\n",
    "Mientras que el objeto ``array`` de Python proporciona un almacenamiento eficiente de datos basados en arrays, NumPy añade a esto *operaciones* eficientes sobre esos datos.\n",
    "\n",
    "Empezaremos con la importación estándar de NumPy, bajo el alias ``np``:"
   ]
  },
  {
   "cell_type": "code",
   "execution_count": null,
   "metadata": {
    "collapsed": false
   },
   "outputs": [],
   "source": [
    "import numpy as np"
   ]
  },
  {
   "cell_type": "markdown",
   "metadata": {},
   "source": [
    "## Creación de matrices a partir de listas en Python\n",
    "\n",
    "En primer lugar, podemos utilizar ``np.array`` para crear matrices a partir de listas de Python:"
   ]
  },
  {
   "cell_type": "code",
   "execution_count": null,
   "metadata": {
    "collapsed": false
   },
   "outputs": [],
   "source": [
    "# matriz de enteros:\n",
    "np.array([1, 4, 2, 5, 3])"
   ]
  },
  {
   "cell_type": "markdown",
   "metadata": {},
   "source": [
    "Recuerda que a diferencia de las listas de Python, NumPy está limitado a matrices que contienen el mismo tipo.\n",
    "Si los tipos no coinciden, NumPy hará una conversión ascendente si es posible (aquí, los enteros se convierten a coma flotante):"
   ]
  },
  {
   "cell_type": "code",
   "execution_count": null,
   "metadata": {
    "collapsed": false
   },
   "outputs": [],
   "source": [
    "np.array([3.14, 4, 2, 3])"
   ]
  },
  {
   "cell_type": "markdown",
   "metadata": {},
   "source": [
    "Si queremos establecer explícitamente el tipo de datos del array resultante, podemos utilizar la palabra clave ``dtype``:"
   ]
  },
  {
   "cell_type": "code",
   "execution_count": null,
   "metadata": {
    "collapsed": false
   },
   "outputs": [],
   "source": [
    "np.array([1, 2, 3, 4], dtype='float32')"
   ]
  },
  {
   "cell_type": "markdown",
   "metadata": {},
   "source": [
    "Por último, a diferencia de las listas de Python, las matrices de NumPy pueden ser explícitamente multidimensionales; he aquí una forma de inicializar una matriz multidimensional utilizando una lista de listas:"
   ]
  },
  {
   "cell_type": "code",
   "execution_count": null,
   "metadata": {
    "collapsed": false
   },
   "outputs": [],
   "source": [
    "# las listas anidadas dan lugar a matrices multidimensionales\n",
    "np.array([range(i, i + 3) for i in [2, 4, 6]])"
   ]
  },
  {
   "cell_type": "markdown",
   "metadata": {},
   "source": [
    "Las listas interiores se tratan como filas de la matriz bidimensional resultante."
   ]
  },
  {
   "cell_type": "markdown",
   "metadata": {},
   "source": [
    "## Crear matrices desde cero\n",
    "\n",
    "Especialmente para matrices más grandes, es más eficiente crear matrices desde cero usando rutinas incorporadas en NumPy.\n",
    "Aquí hay varios ejemplos:"
   ]
  },
  {
   "cell_type": "code",
   "execution_count": null,
   "metadata": {
    "collapsed": false
   },
   "outputs": [],
   "source": [
    "# Crear una matriz de enteros de longitud 10 llena de ceros\n",
    "np.zeros(10, dtype=int)"
   ]
  },
  {
   "cell_type": "code",
   "execution_count": null,
   "metadata": {
    "collapsed": false
   },
   "outputs": [],
   "source": [
    "# Crear una matriz de coma flotante 3x5 llena de unos\n",
    "np.ones((3, 5), dtype=float)"
   ]
  },
  {
   "cell_type": "code",
   "execution_count": null,
   "metadata": {
    "collapsed": false
   },
   "outputs": [],
   "source": [
    "# Crear una matriz 3x5 llena con 3.14\n",
    "np.full((3, 5), 3.14)"
   ]
  },
  {
   "cell_type": "code",
   "execution_count": null,
   "metadata": {
    "collapsed": false
   },
   "outputs": [],
   "source": [
    "# Crear un array lleno con una secuencia lineal\n",
    "# Empezando en 0, terminando en 20, pasando por 2\n",
    "# (esto es similar a la función incorporada range())\n",
    "np.arange(0, 20, 2)"
   ]
  },
  {
   "cell_type": "code",
   "execution_count": null,
   "metadata": {
    "collapsed": false
   },
   "outputs": [],
   "source": [
    "# Crear una matriz de cinco valores espaciados uniformemente entre 0 y 1\n",
    "np.linspace(0, 1, 5)"
   ]
  },
  {
   "cell_type": "code",
   "execution_count": null,
   "metadata": {
    "collapsed": false
   },
   "outputs": [],
   "source": [
    "# Crear una matriz de 3x3 de distribuidos uniformemente\n",
    "# valores aleatorios entre 0 y 1\n",
    "np.random.random((3, 3))"
   ]
  },
  {
   "cell_type": "code",
   "execution_count": null,
   "metadata": {
    "collapsed": false
   },
   "outputs": [],
   "source": [
    "# Crear una matriz 3x3 de valores aleatorios distribuidos normalmente\n",
    "# con media 0 y desviación estándar 1\n",
    "np.random.normal(0, 1, (3, 3))"
   ]
  },
  {
   "cell_type": "code",
   "execution_count": null,
   "metadata": {
    "collapsed": false
   },
   "outputs": [],
   "source": [
    "# Crea una matriz 3x3 de enteros aleatorios en el intervalo [0, 10)\n",
    "np.random.randint(0, 10, (3, 3))"
   ]
  },
  {
   "cell_type": "code",
   "execution_count": null,
   "metadata": {
    "collapsed": false
   },
   "outputs": [],
   "source": [
    "# Crear una matriz de identidad 3x3\n",
    "np.eye(3)"
   ]
  },
  {
   "cell_type": "code",
   "execution_count": null,
   "metadata": {
    "collapsed": false
   },
   "outputs": [],
   "source": [
    "# Crear un array no inicializado de tres enteros\n",
    "# Los valores serán los que ya existan en esa posición de memoria\n",
    "np.empty(3)"
   ]
  },
  {
   "cell_type": "markdown",
   "metadata": {},
   "source": [
    "## Tipos de datos estándar de NumPy\n",
    "\n",
    "Los arrays de NumPy contienen valores de un único tipo, por lo que es importante tener un conocimiento detallado de esos tipos y sus limitaciones.\n",
    "Dado que NumPy está construido en C, los tipos serán familiares para los usuarios de C, Fortran y otros lenguajes relacionados.\n",
    "\n",
    "Los tipos de datos estándar de NumPy se listan en la siguiente tabla.\n",
    "Tenga en cuenta que al construir un array, se pueden especificar utilizando una cadena:\n",
    "\n",
    "```python\n",
    "np.zeros(10, dtype='int16')\n",
    "```\n",
    "\n",
    "O utilizando el objeto NumPy asociado:\n",
    "\n",
    "```python\n",
    "np.zeros(10, dtype=np.int16)\n",
    "```"
   ]
  },
  {
   "cell_type": "markdown",
   "metadata": {},
   "source": [
    "| Data type\t    | Descripción |\n",
    "|---------------|-------------|\n",
    "| ``bool_``     | Boolean (True or False) almacenado como byte |\n",
    "| ``int_``      | Por defecto integer type (same as C ``long``; normalmente ``int64`` or ``int32``)| \n",
    "| ``intc``      | Idéntico a C ``int`` (normalmente ``int32`` or ``int64``)| \n",
    "| ``intp``      | Integer utilizado para la indexación (igual que C ``ssize_t``; normalmente ``int32`` or ``int64``)| \n",
    "| ``int8``      | Byte (-128 to 127)| \n",
    "| ``int16``     | Integer (-32768 to 32767)|\n",
    "| ``int32``     | Integer (-2147483648 to 2147483647)|\n",
    "| ``int64``     | Integer (-9223372036854775808 to 9223372036854775807)| \n",
    "| ``uint8``     | Unsigned integer (0 to 255)| \n",
    "| ``uint16``    | Unsigned integer (0 to 65535)| \n",
    "| ``uint32``    | Unsigned integer (0 to 4294967295)| \n",
    "| ``uint64``    | Unsigned integer (0 to 18446744073709551615)| \n",
    "| ``float_``    | Abreviatura de ``float64``.| \n",
    "| ``float16``   | Flotante de media precisión: bit de signo, exponente de 5 bits, mantisa de 10 bits| \n",
    "| ``float32``   | Flotante de precisión simple: bit de signo, exponente de 8 bits, mantisa de 23 bits| \n",
    "| ``float64``   | Flotante de doble precisión: bit de signo, exponente de 11 bits, mantisa de 52 bits| \n",
    "| ``complex_``  | Abreviatura de ``complex128``.| \n",
    "| ``complex64`` | Número complejo, representado por dos floats de 32 bits| \n",
    "| ``complex128``| Número complejo, representado por dos floats de 64 bits| \n",
    "\n",
    "*un flotante de doble precisión permite representar números con mayor precisión y en un rango más amplio que un flotante de simple precisión debido a la mayor cantidad de bits utilizados para el exponente y la mantisa.*"
   ]
  },
  {
   "cell_type": "markdown",
   "metadata": {},
   "source": [
    "<!--NAVIGATION-->\n",
    "< [Introduccion a NumPy](0-Introduccion-a-NumPy.ipynb) | [Fundamentos de NumPy Arrays](2-Fundamentos_de_NumPy_Arrays.ipynb) >"
   ]
  }
 ],
 "metadata": {
  "anaconda-cloud": {},
  "kernelspec": {
   "display_name": "Python 3",
   "language": "python",
   "name": "python3"
  },
  "language_info": {
   "codemirror_mode": {
    "name": "ipython",
    "version": 3
   },
   "file_extension": ".py",
   "mimetype": "text/x-python",
   "name": "python",
   "nbconvert_exporter": "python",
   "pygments_lexer": "ipython3",
   "version": "3.11.9"
  }
 },
 "nbformat": 4,
 "nbformat_minor": 0
}
