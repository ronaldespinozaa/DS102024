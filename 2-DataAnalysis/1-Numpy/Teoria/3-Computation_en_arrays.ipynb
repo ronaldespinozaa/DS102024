{
 "cells": [
  {
   "cell_type": "markdown",
   "metadata": {},
   "source": [
    "# Computation on NumPy Arrays: Funciones Universales"
   ]
  },
  {
   "cell_type": "markdown",
   "metadata": {},
   "source": [
    "La computación en matrices NumPy puede ser muy rápida, o puede ser muy lenta.\n",
    "La clave para hacerlo rápido es usar operaciones *vectorizadas*, generalmente implementadas a través de las *funciones universales* (ufuncs) de NumPy.\n",
    "Esta sección motiva la necesidad de las ufuncs de NumPy, que pueden usarse para hacer cálculos repetidos sobre elementos de array mucho más eficientes.\n",
    "A continuación, se presentan muchas de las ufuncs aritméticas más comunes y útiles disponibles en el paquete NumPy."
   ]
  },
  {
   "cell_type": "markdown",
   "metadata": {},
   "source": [
    "## La lentitud de los bucles\n",
    "\n",
    "La implementación por defecto de Python (conocida como CPython) realiza algunas operaciones muy lentamente.\n",
    "Esto se debe en parte a la naturaleza dinámica e interpretada del lenguaje: el hecho de que los tipos son flexibles, de modo que las secuencias de operaciones no pueden compilarse a código máquina eficiente como en lenguajes como C y Fortran.\n",
    "Recientemente ha habido varios intentos de abordar esta debilidad: ejemplos bien conocidos son el proyecto [PyPy](http://pypy.org/), una implementación compilada just-in-time de Python; el proyecto [Cython](http://cython.org), que convierte código Python en código C compilable; y el proyecto [Numba](http://numba.pydata.org/), que convierte fragmentos de código Python en bytecode LLVM rápido.\n",
    "Cada uno de ellos tiene sus puntos fuertes y débiles, pero se puede afirmar con seguridad que ninguno de los tres enfoques ha superado todavía el alcance y la popularidad del motor CPython estándar.\n",
    "\n",
    "La relativa lentitud de Python se manifiesta generalmente en situaciones en las que se repiten muchas operaciones pequeñas - por ejemplo, bucles sobre matrices para operar sobre cada elemento.\n",
    "Por ejemplo, imaginemos que tenemos una matriz de valores y queremos calcular el recíproco de cada uno.\n",
    "Un enfoque sencillo podría ser el siguiente:"
   ]
  },
  {
   "cell_type": "code",
   "execution_count": 1,
   "metadata": {
    "collapsed": false
   },
   "outputs": [
    {
     "data": {
      "text/plain": [
       "array([0.16666667, 1.        , 0.25      , 0.25      , 0.125     ])"
      ]
     },
     "execution_count": 1,
     "metadata": {},
     "output_type": "execute_result"
    }
   ],
   "source": [
    "import numpy as np\n",
    "np.random.seed(0)\n",
    "\n",
    "def compute_reciprocals(values:np.array) -> np.array:\n",
    "    output = np.empty(len(values))\n",
    "    for i in range(len(values)):\n",
    "        output[i] = 1.0 / values[i]\n",
    "    return output\n",
    "        \n",
    "values = np.random.randint(1, 10, size=5)\n",
    "compute_reciprocals(values)"
   ]
  },
  {
   "cell_type": "markdown",
   "metadata": {},
   "source": [
    "Esta implementación probablemente resulte bastante natural para alguien que tenga, por ejemplo, conocimientos de C o Java.\n",
    "Pero si medimos el tiempo de ejecución de este código para una entrada grande, veremos que esta operación es muy lenta, ¡quizás sorprendentemente!\n",
    "Vamos a comparar esto con la magia ``%timeit`` de IPython."
   ]
  },
  {
   "cell_type": "code",
   "execution_count": 2,
   "metadata": {
    "collapsed": false
   },
   "outputs": [
    {
     "name": "stdout",
     "output_type": "stream",
     "text": [
      "1.77 s ± 14.6 ms per loop (mean ± std. dev. of 7 runs, 1 loop each)\n"
     ]
    }
   ],
   "source": [
    "big_array = np.random.randint(1, 100, size=1000000)\n",
    "%timeit compute_reciprocals(big_array)"
   ]
  },
  {
   "cell_type": "markdown",
   "metadata": {},
   "source": [
    "Se tardan varios segundos en calcular ese millón de operaciones y almacenar el resultado.\n",
    "Cuando incluso los teléfonos móviles tienen velocidades de procesamiento medidas en Giga-FLOPS (es decir, miles de millones de operaciones numéricas por segundo), esto parece casi absurdamente lento.\n",
    "Resulta que el cuello de botella aquí no son las operaciones en sí, sino la comprobación de tipos y los envíos de funciones que CPython debe hacer en cada ciclo del bucle.\n",
    "Cada vez que se calcula el recíproco, Python primero examina el tipo del objeto y hace una búsqueda dinámica de la función correcta a utilizar para ese tipo.\n",
    "Si estuviéramos trabajando en código compilado, esta especificación de tipo sería conocida antes de que el código se ejecute y el resultado podría ser calculado mucho más eficientemente."
   ]
  },
  {
   "cell_type": "markdown",
   "metadata": {},
   "source": [
    "## Presentación de UFuncs\n",
    "\n",
    "Para muchos tipos de operaciones, NumPy proporciona una interfaz conveniente para este tipo de rutinas compiladas y tipadas estáticamente. Esto se conoce como una operación *vectorizada*.\n",
    "Esto se puede lograr simplemente realizando una operación en la matriz, que luego se aplicará a cada elemento.\n",
    "Este enfoque vectorizado está diseñado para empujar el bucle a la capa compilada que subyace en NumPy, lo que lleva a una ejecución mucho más rápida.\n",
    "\n",
    "Compare los resultados de los dos siguientes:"
   ]
  },
  {
   "cell_type": "code",
   "execution_count": 3,
   "metadata": {
    "collapsed": false
   },
   "outputs": [
    {
     "name": "stdout",
     "output_type": "stream",
     "text": [
      "[0.16666667 1.         0.25       0.25       0.125     ]\n",
      "[0.16666667 1.         0.25       0.25       0.125     ]\n"
     ]
    }
   ],
   "source": [
    "print(compute_reciprocals(values))\n",
    "print(1.0 / values)"
   ]
  },
  {
   "cell_type": "markdown",
   "metadata": {},
   "source": [
    "Si observamos el tiempo de ejecución de nuestro gran array, vemos que se completa órdenes de magnitud más rápido que el bucle de Python:"
   ]
  },
  {
   "cell_type": "code",
   "execution_count": 4,
   "metadata": {
    "collapsed": false
   },
   "outputs": [
    {
     "name": "stdout",
     "output_type": "stream",
     "text": [
      "2.14 ms ± 149 μs per loop (mean ± std. dev. of 7 runs, 100 loops each)\n"
     ]
    }
   ],
   "source": [
    "%timeit (1.0 / big_array)"
   ]
  },
  {
   "cell_type": "markdown",
   "metadata": {},
   "source": [
    "Las operaciones vectoriales en NumPy se implementan mediante *ufuncs*, cuyo principal propósito es ejecutar rápidamente operaciones repetidas sobre valores en arrays de NumPy.\n",
    "Los ufuncs son extremadamente flexibles - antes vimos una operación entre un escalar y un array, pero también podemos operar entre dos arrays:"
   ]
  },
  {
   "cell_type": "code",
   "execution_count": 5,
   "metadata": {
    "collapsed": false
   },
   "outputs": [
    {
     "data": {
      "text/plain": [
       "array([0.        , 0.5       , 0.66666667, 0.75      , 0.8       ])"
      ]
     },
     "execution_count": 5,
     "metadata": {},
     "output_type": "execute_result"
    }
   ],
   "source": [
    "np.arange(5) / np.arange(1, 6)"
   ]
  },
  {
   "cell_type": "markdown",
   "metadata": {},
   "source": [
    "Además, las operaciones ufunc no se limitan a las matrices unidimensionales, sino que también pueden actuar sobre matrices multidimensionales:"
   ]
  },
  {
   "cell_type": "code",
   "execution_count": 6,
   "metadata": {
    "collapsed": false
   },
   "outputs": [
    {
     "data": {
      "text/plain": [
       "array([[  1,   2,   4],\n",
       "       [  8,  16,  32],\n",
       "       [ 64, 128, 256]])"
      ]
     },
     "execution_count": 6,
     "metadata": {},
     "output_type": "execute_result"
    }
   ],
   "source": [
    "x = np.arange(9).reshape((3, 3))\n",
    "2 ** x"
   ]
  },
  {
   "cell_type": "markdown",
   "metadata": {},
   "source": [
    "Los cálculos que utilizan la vectorización a través de ufuncs son casi siempre más eficientes que su contrapartida implementada utilizando bucles de Python, especialmente a medida que las matrices crecen en tamaño.\n",
    "Cada vez que veas un bucle de este tipo en un script de Python, deberías considerar si se puede sustituir por una expresión vectorizada."
   ]
  },
  {
   "cell_type": "markdown",
   "metadata": {},
   "source": [
    "## Explorando las UFuncs de NumPy\n",
    "\n",
    "Ufuncs existen en dos formas: *unary ufuncs*, que operan en una sola entrada, y *binary ufuncs*, que operan en dos entradas.\n",
    "Aquí veremos ejemplos de ambos tipos de funciones."
   ]
  },
  {
   "cell_type": "markdown",
   "metadata": {},
   "source": [
    "### Aritmética de matrices\n",
    "\n",
    "Los ufuncs de NumPy se sienten muy naturales de usar porque hacen uso de los operadores aritméticos nativos de Python.\n",
    "Se pueden utilizar la suma, resta, multiplicación y división estándar:"
   ]
  },
  {
   "cell_type": "code",
   "execution_count": 7,
   "metadata": {
    "collapsed": false
   },
   "outputs": [
    {
     "name": "stdout",
     "output_type": "stream",
     "text": [
      "x     = [0 1 2 3]\n",
      "x + 5 = [5 6 7 8]\n",
      "x - 5 = [-5 -4 -3 -2]\n",
      "x * 2 = [0 2 4 6]\n",
      "x / 2 = [0.  0.5 1.  1.5]\n",
      "x // 2 = [0 0 1 1]\n"
     ]
    }
   ],
   "source": [
    "x = np.arange(4)\n",
    "print(\"x     =\", x)\n",
    "print(\"x + 5 =\", x + 5)\n",
    "print(\"x - 5 =\", x - 5)\n",
    "print(\"x * 2 =\", x * 2)\n",
    "print(\"x / 2 =\", x / 2)\n",
    "print(\"x // 2 =\", x // 2)  # división entera"
   ]
  },
  {
   "cell_type": "markdown",
   "metadata": {},
   "source": [
    "También hay un ufunc para la negación, y un operador ``**`` para la exponenciación, y un operador ``%`` para el módulo:"
   ]
  },
  {
   "cell_type": "code",
   "execution_count": 8,
   "metadata": {
    "collapsed": false
   },
   "outputs": [
    {
     "name": "stdout",
     "output_type": "stream",
     "text": [
      "-x     =  [ 0 -1 -2 -3]\n",
      "x ** 2 =  [0 1 4 9]\n",
      "x % 2  =  [0 1 0 1]\n"
     ]
    }
   ],
   "source": [
    "print(\"-x     = \", -x)\n",
    "print(\"x ** 2 = \", x ** 2)\n",
    "print(\"x % 2  = \", x % 2)"
   ]
  },
  {
   "cell_type": "markdown",
   "metadata": {},
   "source": [
    "Además, se pueden encadenar como se desee y se respeta el orden estándar de las operaciones:"
   ]
  },
  {
   "cell_type": "code",
   "execution_count": 9,
   "metadata": {
    "collapsed": false
   },
   "outputs": [
    {
     "data": {
      "text/plain": [
       "array([-1.  , -2.25, -4.  , -6.25])"
      ]
     },
     "execution_count": 9,
     "metadata": {},
     "output_type": "execute_result"
    }
   ],
   "source": [
    "-(0.5*x + 1) ** 2"
   ]
  },
  {
   "cell_type": "markdown",
   "metadata": {},
   "source": [
    "Cada una de estas operaciones aritméticas son simplemente envolturas convenientes alrededor de funciones específicas incorporadas en NumPy; por ejemplo, el operador ``+`` es una envoltura para la función ``add``:"
   ]
  },
  {
   "cell_type": "code",
   "execution_count": 10,
   "metadata": {
    "collapsed": false
   },
   "outputs": [
    {
     "data": {
      "text/plain": [
       "array([2, 3, 4, 5])"
      ]
     },
     "execution_count": 10,
     "metadata": {},
     "output_type": "execute_result"
    }
   ],
   "source": [
    "np.add(x, 2)"
   ]
  },
  {
   "cell_type": "markdown",
   "metadata": {},
   "source": [
    "La siguiente tabla enumera los operadores aritméticos implementados en NumPy:\n",
    "\n",
    "| Operador\t    | Ufunc equivalente    | Descripción                          |\n",
    "|---------------|---------------------|---------------------------------------|\n",
    "|``+``          |``np.add``           |Adición (e.g., ``1 + 1 = 2``)         |\n",
    "|``-``          |``np.subtract``      |Resta (e.g., ``3 - 2 = 1``)      |\n",
    "|``-``          |``np.negative``      |Negación unaria (e.g., ``-2``)          |\n",
    "|``*``          |``np.multiply``      |Multiplicación (e.g., ``2 * 3 = 6``)   |\n",
    "|``/``          |``np.divide``        |División (e.g., ``3 / 2 = 1.5``)       |\n",
    "|``//``         |``np.floor_divide``  |División entera (e.g., ``3 // 2 = 1``)  |\n",
    "|``**``         |``np.power``         |Exponenciación (e.g., ``2 ** 3 = 8``)  |\n",
    "|``%``          |``np.mod``           |Módulo/remanente (e.g., ``9 % 4 = 1``)|\n",
    "\n",
    "Además, existen operadores booleanos/bitwise."
   ]
  },
  {
   "cell_type": "markdown",
   "metadata": {},
   "source": [
    "### Valor absoluto\n",
    "\n",
    "Al igual que NumPy entiende los operadores aritméticos incorporados en Python, también entiende la función de valor absoluto incorporada en Python:"
   ]
  },
  {
   "cell_type": "code",
   "execution_count": 11,
   "metadata": {
    "collapsed": false
   },
   "outputs": [
    {
     "data": {
      "text/plain": [
       "array([2, 1, 0, 1, 2])"
      ]
     },
     "execution_count": 11,
     "metadata": {},
     "output_type": "execute_result"
    }
   ],
   "source": [
    "x = np.array([-2, -1, 0, 1, 2])\n",
    "abs(x)"
   ]
  },
  {
   "cell_type": "markdown",
   "metadata": {},
   "source": [
    "La correspondiente ufunc de NumPy es ``np.absolute``, que también está disponible con el alias ``np.abs``:"
   ]
  },
  {
   "cell_type": "code",
   "execution_count": 12,
   "metadata": {
    "collapsed": false
   },
   "outputs": [
    {
     "data": {
      "text/plain": [
       "array([2, 1, 0, 1, 2])"
      ]
     },
     "execution_count": 12,
     "metadata": {},
     "output_type": "execute_result"
    }
   ],
   "source": [
    "np.absolute(x)"
   ]
  },
  {
   "cell_type": "code",
   "execution_count": 13,
   "metadata": {
    "collapsed": false
   },
   "outputs": [
    {
     "data": {
      "text/plain": [
       "array([2, 1, 0, 1, 2])"
      ]
     },
     "execution_count": 13,
     "metadata": {},
     "output_type": "execute_result"
    }
   ],
   "source": [
    "np.abs(x)"
   ]
  },
  {
   "cell_type": "markdown",
   "metadata": {},
   "source": [
    "Esta ufunc también puede manejar datos complejos, en los que el valor absoluto devuelve la magnitud:"
   ]
  },
  {
   "cell_type": "code",
   "execution_count": 14,
   "metadata": {
    "collapsed": false
   },
   "outputs": [
    {
     "data": {
      "text/plain": [
       "array([5., 5., 2., 1.])"
      ]
     },
     "execution_count": 14,
     "metadata": {},
     "output_type": "execute_result"
    }
   ],
   "source": [
    "x = np.array([3 - 4j, 4 - 3j, 2 + 0j, 0 + 1j])\n",
    "np.abs(x)"
   ]
  },
  {
   "cell_type": "markdown",
   "metadata": {},
   "source": [
    "### Funciones trigonométricas\n",
    "\n",
    "NumPy proporciona un gran número de ufunciones útiles, y algunas de las más útiles para el científico de datos son las funciones trigonométricas.\n",
    "Empezaremos definiendo un array de ángulos:"
   ]
  },
  {
   "cell_type": "code",
   "execution_count": 15,
   "metadata": {
    "collapsed": false
   },
   "outputs": [],
   "source": [
    "theta = np.linspace(0, np.pi, 3)"
   ]
  },
  {
   "cell_type": "markdown",
   "metadata": {},
   "source": [
    "Ahora podemos calcular algunas funciones trigonométricas sobre estos valores:"
   ]
  },
  {
   "cell_type": "code",
   "execution_count": 16,
   "metadata": {
    "collapsed": false
   },
   "outputs": [
    {
     "name": "stdout",
     "output_type": "stream",
     "text": [
      "theta      =  [0.         1.57079633 3.14159265]\n",
      "sin(theta) =  [0.0000000e+00 1.0000000e+00 1.2246468e-16]\n",
      "cos(theta) =  [ 1.000000e+00  6.123234e-17 -1.000000e+00]\n",
      "tan(theta) =  [ 0.00000000e+00  1.63312394e+16 -1.22464680e-16]\n"
     ]
    }
   ],
   "source": [
    "print(\"theta      = \", theta)\n",
    "print(\"sin(theta) = \", np.sin(theta))\n",
    "print(\"cos(theta) = \", np.cos(theta))\n",
    "print(\"tan(theta) = \", np.tan(theta))"
   ]
  },
  {
   "cell_type": "markdown",
   "metadata": {},
   "source": [
    "Los valores se calculan con precisión de máquina, por lo que los valores que deberían ser cero no siempre llegan exactamente a cero.\n",
    "También se dispone de funciones trigonométricas inversas:"
   ]
  },
  {
   "cell_type": "code",
   "execution_count": 17,
   "metadata": {
    "collapsed": false
   },
   "outputs": [
    {
     "name": "stdout",
     "output_type": "stream",
     "text": [
      "x         =  [-1, 0, 1]\n",
      "arcsin(x) =  [-1.57079633  0.          1.57079633]\n",
      "arccos(x) =  [3.14159265 1.57079633 0.        ]\n",
      "arctan(x) =  [-0.78539816  0.          0.78539816]\n"
     ]
    }
   ],
   "source": [
    "x = [-1, 0, 1]\n",
    "print(\"x         = \", x)\n",
    "print(\"arcsin(x) = \", np.arcsin(x))\n",
    "print(\"arccos(x) = \", np.arccos(x))\n",
    "print(\"arctan(x) = \", np.arctan(x))"
   ]
  },
  {
   "cell_type": "markdown",
   "metadata": {},
   "source": [
    "### Exponentes y logaritmos\n",
    "\n",
    "Otro tipo común de operación disponible en un ufunc de NumPy son los exponenciales:"
   ]
  },
  {
   "cell_type": "code",
   "execution_count": 18,
   "metadata": {
    "collapsed": false
   },
   "outputs": [
    {
     "name": "stdout",
     "output_type": "stream",
     "text": [
      "x     = [1, 2, 3]\n",
      "e^x   = [ 2.71828183  7.3890561  20.08553692]\n",
      "2^x   = [2. 4. 8.]\n",
      "3^x   = [ 3  9 27]\n"
     ]
    }
   ],
   "source": [
    "x = [1, 2, 3]\n",
    "print(\"x     =\", x)\n",
    "print(\"e^x   =\", np.exp(x))\n",
    "print(\"2^x   =\", np.exp2(x))\n",
    "print(\"3^x   =\", np.power(3, x))"
   ]
  },
  {
   "cell_type": "markdown",
   "metadata": {},
   "source": [
    "La inversa de los exponenciales, los logaritmos, también están disponibles.\n",
    "El ``np.log`` básico da el logaritmo natural; si prefiere calcular el logaritmo de base-2 o el logaritmo de base-10, también están disponibles:"
   ]
  },
  {
   "cell_type": "code",
   "execution_count": 19,
   "metadata": {
    "collapsed": false
   },
   "outputs": [
    {
     "name": "stdout",
     "output_type": "stream",
     "text": [
      "x        = [1, 2, 4, 10]\n",
      "ln(x)    = [0.         0.69314718 1.38629436 2.30258509]\n",
      "log2(x)  = [0.         1.         2.         3.32192809]\n",
      "log10(x) = [0.         0.30103    0.60205999 1.        ]\n"
     ]
    }
   ],
   "source": [
    "x = [1, 2, 4, 10]\n",
    "print(\"x        =\", x)\n",
    "print(\"ln(x)    =\", np.log(x))\n",
    "print(\"log2(x)  =\", np.log2(x))\n",
    "print(\"log10(x) =\", np.log10(x))"
   ]
  },
  {
   "cell_type": "markdown",
   "metadata": {},
   "source": [
    "También hay algunas versiones especializadas que son útiles para mantener la precisión con entradas muy pequeñas:"
   ]
  },
  {
   "cell_type": "code",
   "execution_count": 20,
   "metadata": {
    "collapsed": false
   },
   "outputs": [
    {
     "name": "stdout",
     "output_type": "stream",
     "text": [
      "exp(x) - 1 = [0.         0.0010005  0.01005017 0.10517092]\n",
      "log(1 + x) = [0.         0.0009995  0.00995033 0.09531018]\n"
     ]
    }
   ],
   "source": [
    "x = [0, 0.001, 0.01, 0.1]\n",
    "print(\"exp(x) - 1 =\", np.expm1(x))\n",
    "print(\"log(1 + x) =\", np.log1p(x))"
   ]
  },
  {
   "cell_type": "markdown",
   "metadata": {},
   "source": [
    "Cuando ``x`` es muy pequeño, estas funciones dan valores más precisos que si se utilizara ``np.log`` o ``np.exp`` en bruto."
   ]
  },
  {
   "cell_type": "markdown",
   "metadata": {},
   "source": [
    "### Specialized ufuncs\n",
    "\n",
    "NumPy tiene muchas más ufuncs disponibles, incluyendo funciones trigonométricas hiperbólicas, aritmética bitwise, operadores de comparación, conversiones de radianes a grados, redondeo y restos, y mucho más.\n",
    "La documentación de NumPy contiene muchas funciones interesantes.\n",
    "\n",
    "Otra fuente excelente para ufuncs más especializados y oscuros es el submódulo ``scipy.special``.\n",
    "Si quieres calcular alguna función matemática oscura en tus datos, es probable que esté implementada en ``scipy.special``.\n",
    "Hay demasiadas funciones para enumerarlas todas, pero el siguiente fragmento muestra un par que podrían surgir en un contexto estadístico:"
   ]
  },
  {
   "cell_type": "code",
   "execution_count": 21,
   "metadata": {
    "collapsed": false
   },
   "outputs": [],
   "source": [
    "from scipy import special"
   ]
  },
  {
   "cell_type": "code",
   "execution_count": 22,
   "metadata": {
    "collapsed": false
   },
   "outputs": [
    {
     "name": "stdout",
     "output_type": "stream",
     "text": [
      "gamma(x)     = [1.0000e+00 2.4000e+01 3.6288e+05]\n",
      "ln|gamma(x)| = [ 0.          3.17805383 12.80182748]\n",
      "beta(x, 2)   = [0.5        0.03333333 0.00909091]\n"
     ]
    }
   ],
   "source": [
    "# Funciones gamma (factoriales generalizados) y funciones afines\n",
    "x = [1, 5, 10]\n",
    "print(\"gamma(x)     =\", special.gamma(x))\n",
    "print(\"ln|gamma(x)| =\", special.gammaln(x))\n",
    "print(\"beta(x, 2)   =\", special.beta(x, 2))"
   ]
  },
  {
   "cell_type": "code",
   "execution_count": 23,
   "metadata": {
    "collapsed": false
   },
   "outputs": [
    {
     "name": "stdout",
     "output_type": "stream",
     "text": [
      "erf(x)  = [0.         0.32862676 0.67780119 0.84270079]\n",
      "erfc(x) = [1.         0.67137324 0.32219881 0.15729921]\n",
      "erfinv(x) = [0.         0.27246271 0.73286908        inf]\n"
     ]
    }
   ],
   "source": [
    "# Función de error (integral de Gauss)\n",
    "# su complemento, y su inversa\n",
    "x = np.array([0, 0.3, 0.7, 1.0])\n",
    "print(\"erf(x)  =\", special.erf(x))\n",
    "print(\"erfc(x) =\", special.erfc(x))\n",
    "print(\"erfinv(x) =\", special.erfinv(x))"
   ]
  },
  {
   "cell_type": "markdown",
   "metadata": {},
   "source": [
    "Hay muchas, muchas más ufuncs disponibles tanto en NumPy como en ``scipy.special``.\n",
    "Dado que la documentación de estos paquetes está disponible en línea, una búsqueda en la web del tipo \"gamma function python\" generalmente encontrará la información relevante."
   ]
  },
  {
   "cell_type": "markdown",
   "metadata": {},
   "source": [
    "## Características avanzadas de Ufunc\n",
    "\n",
    "Muchos usuarios de NumPy hacen uso de ufuncs sin llegar a aprender su conjunto completo de características.\n",
    "Vamos a esbozar algunas características especializadas de ufuncs aquí."
   ]
  },
  {
   "cell_type": "markdown",
   "metadata": {},
   "source": [
    "### Especificar salida\n",
    "\n",
    "Para cálculos grandes, a veces es útil poder especificar el array donde se almacenará el resultado del cálculo.\n",
    "En lugar de crear un array temporal, esto se puede utilizar para escribir los resultados del cálculo directamente en la ubicación de memoria donde se desea que estén.\n",
    "Para todas las ufuncs, esto puede hacerse utilizando el argumento ``out`` de la función:"
   ]
  },
  {
   "cell_type": "code",
   "execution_count": 24,
   "metadata": {
    "collapsed": false
   },
   "outputs": [
    {
     "name": "stdout",
     "output_type": "stream",
     "text": [
      "[ 0. 10. 20. 30. 40.]\n"
     ]
    }
   ],
   "source": [
    "x = np.arange(5)\n",
    "y = np.empty(5)\n",
    "np.multiply(x, 10, out=y)\n",
    "print(y)"
   ]
  },
  {
   "cell_type": "markdown",
   "metadata": {},
   "source": [
    "Esto puede utilizarse incluso con vistas de matrices. Por ejemplo, podemos escribir los resultados de un cálculo en uno de cada dos elementos de una matriz especificada:"
   ]
  },
  {
   "cell_type": "code",
   "execution_count": 25,
   "metadata": {
    "collapsed": false
   },
   "outputs": [
    {
     "name": "stdout",
     "output_type": "stream",
     "text": [
      "[ 1.  0.  2.  0.  4.  0.  8.  0. 16.  0.]\n"
     ]
    }
   ],
   "source": [
    "y = np.zeros(10)\n",
    "np.power(2, x, out=y[::2])\n",
    "print(y)"
   ]
  },
  {
   "cell_type": "markdown",
   "metadata": {},
   "source": [
    "Si en lugar de eso hubiéramos escrito ``y[::2] = 2 ** x``, se habría creado una matriz temporal para contener los resultados de ``2 ** x``, seguida de una segunda operación para copiar esos valores en la matriz ``y``.\n",
    "Esto no supone una gran diferencia para un cálculo tan pequeño, pero para matrices muy grandes el ahorro de memoria derivado del uso cuidadoso del argumento ``out`` puede ser significativo."
   ]
  },
  {
   "cell_type": "markdown",
   "metadata": {},
   "source": [
    "### Agregados\n",
    "\n",
    "Para ufuncs binarios, hay algunos agregados interesantes que se pueden calcular directamente desde el objeto.\n",
    "Por ejemplo, si queremos *reducir* un array con una operación concreta, podemos utilizar el método ``reduce`` de cualquier ufunc.\n",
    "Una reducción aplica repetidamente una operación dada a los elementos de un array hasta que sólo queda un único resultado.\n",
    "\n",
    "Por ejemplo, llamar a ``reduce`` en la ufunc ``add`` devuelve la suma de todos los elementos del array:"
   ]
  },
  {
   "cell_type": "code",
   "execution_count": 26,
   "metadata": {
    "collapsed": false
   },
   "outputs": [
    {
     "data": {
      "text/plain": [
       "np.int64(15)"
      ]
     },
     "execution_count": 26,
     "metadata": {},
     "output_type": "execute_result"
    }
   ],
   "source": [
    "x = np.arange(1, 6)\n",
    "np.add.reduce(x)"
   ]
  },
  {
   "cell_type": "markdown",
   "metadata": {},
   "source": [
    "Del mismo modo, al llamar a ``reduce`` en la ufunc ``multiply`` se obtiene el producto de todos los elementos del array:"
   ]
  },
  {
   "cell_type": "code",
   "execution_count": 27,
   "metadata": {
    "collapsed": false
   },
   "outputs": [
    {
     "data": {
      "text/plain": [
       "np.int64(120)"
      ]
     },
     "execution_count": 27,
     "metadata": {},
     "output_type": "execute_result"
    }
   ],
   "source": [
    "np.multiply.reduce(x)"
   ]
  },
  {
   "cell_type": "markdown",
   "metadata": {},
   "source": [
    "Si queremos almacenar todos los resultados intermedios del cálculo, podemos utilizar ``accumulate``:"
   ]
  },
  {
   "cell_type": "code",
   "execution_count": 28,
   "metadata": {
    "collapsed": false
   },
   "outputs": [
    {
     "data": {
      "text/plain": [
       "array([ 1,  3,  6, 10, 15])"
      ]
     },
     "execution_count": 28,
     "metadata": {},
     "output_type": "execute_result"
    }
   ],
   "source": [
    "np.add.accumulate(x)"
   ]
  },
  {
   "cell_type": "code",
   "execution_count": 29,
   "metadata": {
    "collapsed": false
   },
   "outputs": [
    {
     "data": {
      "text/plain": [
       "array([  1,   2,   6,  24, 120])"
      ]
     },
     "execution_count": 29,
     "metadata": {},
     "output_type": "execute_result"
    }
   ],
   "source": [
    "np.multiply.accumulate(x)"
   ]
  },
  {
   "cell_type": "markdown",
   "metadata": {},
   "source": [
    "Tenga en cuenta que para estos casos particulares, hay funciones NumPy dedicadas para calcular los resultados (``np.sum``, ``np.prod``, ``np.cumsum``, ``np.cumprod``)."
   ]
  },
  {
   "cell_type": "markdown",
   "metadata": {},
   "source": [
    "### Productos exteriores\n",
    "\n",
    "Por último, cualquier ufunc puede calcular la salida de todos los pares de dos entradas diferentes utilizando el método ``outer``.\n",
    "Esto te permite, en una línea, hacer cosas como crear una tabla de multiplicar:"
   ]
  },
  {
   "cell_type": "code",
   "execution_count": 30,
   "metadata": {
    "collapsed": false,
    "scrolled": true
   },
   "outputs": [
    {
     "data": {
      "text/plain": [
       "array([[ 1,  2,  3,  4,  5],\n",
       "       [ 2,  4,  6,  8, 10],\n",
       "       [ 3,  6,  9, 12, 15],\n",
       "       [ 4,  8, 12, 16, 20],\n",
       "       [ 5, 10, 15, 20, 25]])"
      ]
     },
     "execution_count": 30,
     "metadata": {},
     "output_type": "execute_result"
    }
   ],
   "source": [
    "x = np.arange(1, 6)\n",
    "np.multiply.outer(x, x)"
   ]
  },
  {
   "cell_type": "markdown",
   "metadata": {},
   "source": [
    "Otra característica extremadamente útil de ufuncs es la capacidad de operar entre matrices de diferentes tamaños y formas, un conjunto de operaciones conocido como *broadcasting*."
   ]
  },
  {
   "cell_type": "markdown",
   "metadata": {},
   "source": [
    "<!--NAVIGATION-->\n",
    "< [Fundamentos de Numpy Arrays](2-Fundamentos_de_Numpy_Arrays.ipynb) | [Cálculo sobre agregados de matrices](4-Calculo_sobre_agregados_de_matrices.ipynb) >\n"
   ]
  }
 ],
 "metadata": {
  "anaconda-cloud": {},
  "kernelspec": {
   "display_name": "Python 3",
   "language": "python",
   "name": "python3"
  },
  "language_info": {
   "codemirror_mode": {
    "name": "ipython",
    "version": 3
   },
   "file_extension": ".py",
   "mimetype": "text/x-python",
   "name": "python",
   "nbconvert_exporter": "python",
   "pygments_lexer": "ipython3",
   "version": "3.11.9"
  }
 },
 "nbformat": 4,
 "nbformat_minor": 0
}
