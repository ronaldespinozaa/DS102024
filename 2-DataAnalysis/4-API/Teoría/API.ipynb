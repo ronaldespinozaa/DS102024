{
 "cells": [
  {
   "attachments": {},
   "cell_type": "markdown",
   "metadata": {},
   "source": [
    "# ***API (Application Programming Interface)***"
   ]
  },
  {
   "attachments": {},
   "cell_type": "markdown",
   "metadata": {},
   "source": [
    "Vivimos en un mundo donde todos están interconectados entre ellos, donde en pocos segundos conseguimos mandar un mensaje a una persona que está incluso a miles de kilómetros y donde, cómodamente desde la cama con nuestro smartphone, podríamos incluso programar encender la máquina del café; pero ¿cómo ocurre esta conexión?\n",
    "\n",
    "¿Cómo permiten esto los diferentes dispositivos (tablet, pc, smartphone) y las aplicaciones? \n",
    "\n",
    "Concretamente, ¿cómo conseguimos hacer todas estas operaciones?\n",
    "\n",
    "El héroe silencioso y poco citado que te permite hacer todo esto son las Application Programming Interface o mejor conocidas como API. "
   ]
  },
  {
   "attachments": {},
   "cell_type": "markdown",
   "metadata": {},
   "source": [
    "![API](data:image/jpeg;base64,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)"
   ]
  },
  {
   "attachments": {},
   "cell_type": "markdown",
   "metadata": {},
   "source": [
    "Las APIs (Application Programming Interfaces) son un conjunto de reglas y protocolos que permiten la comunicación entre diferentes aplicaciones y sistemas. Las APIs facilitan la obtención y el intercambio de información entre aplicaciones sin necesidad de conocer los detalles de implementación de cada una de ellas."
   ]
  },
  {
   "attachments": {},
   "cell_type": "markdown",
   "metadata": {},
   "source": [
    "![API](https://blog.finerioconnect.com/wp-content/uploads/2020/04/como-funciona-una-api.jpg)"
   ]
  },
  {
   "attachments": {},
   "cell_type": "markdown",
   "metadata": {},
   "source": [
    "![API](https://media.geeksforgeeks.org/wp-content/uploads/20230216170349/What-is-an-API.png)"
   ]
  },
  {
   "attachments": {},
   "cell_type": "markdown",
   "metadata": {},
   "source": [
    "## API y las API REST"
   ]
  },
  {
   "attachments": {},
   "cell_type": "markdown",
   "metadata": {},
   "source": [
    "Por lo general, la API sigue el formato de aplicación a aplicación, mientras que REST (Representational State Transfer que podríamos traducir como transferencia del estado) sigue una estructura diferente: Cliente-Servidor. El cliente y el servidor están evolucionando de forma independiente, proporcionando más flexibilidad en el trabajo."
   ]
  },
  {
   "attachments": {},
   "cell_type": "markdown",
   "metadata": {},
   "source": [
    "API de aplicación a aplicación:\n",
    "Cuando nos referimos a una API en general, nos referimos a un conjunto de reglas y protocolos que permiten la comunicación entre diferentes aplicaciones. En este caso, la comunicación es de aplicación a aplicación, lo que significa que una aplicación solicita información o servicios a otra aplicación.\n",
    "\n",
    "Un ejemplo de API de aplicación a aplicación es la API de Twitter. Esta API permite a los desarrolladores interactuar con la plataforma de Twitter para realizar acciones como publicar tweets, acceder a tweets publicados, buscar usuarios, entre otros. En este caso, una aplicación (por ejemplo, una aplicación de análisis de redes sociales) se comunica directamente con la aplicación de Twitter a través de su API.\n",
    "\n",
    "\n",
    "\n",
    "Arquitectura REST (Cliente-Servidor):\n",
    "REST (Representational State Transfer) es un estilo de arquitectura que se utiliza comúnmente en la implementación de servicios web. En una arquitectura REST, se sigue un patrón de Cliente-Servidor. El cliente (generalmente una aplicación web, móvil o de escritorio) realiza solicitudes a un servidor que proporciona recursos y servicios. El cliente y el servidor evolucionan de forma independiente, lo que permite mayor flexibilidad en el desarrollo y mantenimiento de cada uno de ellos.\n",
    "\n",
    "Un ejemplo de arquitectura REST es la API de OpenWeatherMap. OpenWeatherMap proporciona datos meteorológicos a través de una API RESTful. Un cliente (por ejemplo, una aplicación móvil del tiempo) realiza solicitudes a la API de OpenWeatherMap utilizando el protocolo HTTP, y el servidor de OpenWeatherMap responde con los datos meteorológicos solicitados."
   ]
  },
  {
   "attachments": {},
   "cell_type": "markdown",
   "metadata": {},
   "source": [
    "_________"
   ]
  },
  {
   "attachments": {},
   "cell_type": "markdown",
   "metadata": {},
   "source": [
    "Para interactuar con una API, generalmente necesitarás realizar solicitudes HTTP. Python tiene una biblioteca popular llamada requests que facilita la realización de solicitudes HTTP. Primero, asegúrate de instalar la biblioteca requests ejecutando:"
   ]
  },
  {
   "cell_type": "code",
   "execution_count": null,
   "metadata": {},
   "outputs": [],
   "source": [
    "# !pip install requests "
   ]
  },
  {
   "attachments": {},
   "cell_type": "markdown",
   "metadata": {},
   "source": [
    "Para realizar una solicitud HTTP, puedes utilizar los métodos proporcionados por requests, como ``get``, ``post``, ``put`` y ``delete``. Por ejemplo, si deseas obtener datos de una API mediante una solicitud ``GET``, puedes hacer lo siguiente:"
   ]
  },
  {
   "attachments": {},
   "cell_type": "markdown",
   "metadata": {},
   "source": [
    "``MÉTODO POST``\n",
    "\n",
    "Se usa comúnmente para comunicar al servidor la finalización de una operación específica, por ejemplo, para activar el desencadenador de otros scripts. Si es necesario, puede contener un paquete de información para pasar al servidor.\n",
    "\n",
    "A menudo se usa mucho en lugar del método PUT para actualizar datos.\n",
    "\n",
    "``MÉTODO GET``\n",
    "\n",
    "Es el método que el buscador aplica de default para cada una de nuestras peticiones, para entendernos, cuando navegamos en un sitio web o hacemos clic en un enlace estamos efectuando una GET hacia ese recurso.\n",
    "\n",
    "``MÉTODO PUT``\n",
    "\n",
    "Según los principios REST tendría que ser usado para crear o actualizar un dato. Por ejemplo si llamáramos PUT/blog/artículo-2 estamos comunicando al server querer crear un nuevo artículo, llamado artículo-2.\n",
    "\n",
    "``MÉTODO DELETE``\n",
    "\n",
    "Es el contrario del PUT, se invoca cuando desea eliminar un recurso del servidor."
   ]
  },
  {
   "cell_type": "code",
   "execution_count": 2,
   "metadata": {},
   "outputs": [],
   "source": [
    "import requests\n",
    "\n",
    "url = 'https://as.com/'\n",
    "response = requests.get(url)"
   ]
  },
  {
   "cell_type": "code",
   "execution_count": 8,
   "metadata": {},
   "outputs": [
    {
     "data": {
      "text/plain": [
       "<Response [200]>"
      ]
     },
     "execution_count": 8,
     "metadata": {},
     "output_type": "execute_result"
    }
   ],
   "source": [
    "response"
   ]
  },
  {
   "attachments": {},
   "cell_type": "markdown",
   "metadata": {},
   "source": [
    "La variable response contendrá la respuesta HTTP, incluyendo el código de estado y los datos devueltos por la API. Puedes verificar el código de estado con response.status_code y acceder a los datos de la respuesta con response.json() si la API devuelve datos en formato JSON."
   ]
  },
  {
   "attachments": {},
   "cell_type": "markdown",
   "metadata": {},
   "source": [
    "Una vez que hayas obtenido los datos de la API, es posible que desees manipularlos, analizarlos o almacenarlos en un formato estructurado. Pandas es una biblioteca popular de Python para el análisis y la manipulación de datos."
   ]
  },
  {
   "attachments": {},
   "cell_type": "markdown",
   "metadata": {},
   "source": [
    "Supongamos que la API devuelve datos en formato JSON con una estructura similar a esta:"
   ]
  },
  {
   "attachments": {},
   "cell_type": "markdown",
   "metadata": {},
   "source": [
    "```\n",
    "  {\"datos\": [\n",
    "    {\"id\": 1, \"nombre\": \"Juan\", \"edad\": 33},\n",
    "    {\"id\": 2, \"nombre\": \"Carla\", \"edad\": 23},\n",
    "    {\"id\": 3, \"nombre\": \"Manuel\", \"edad\": 57}\n",
    "  ]}\n",
    "```"
   ]
  },
  {
   "attachments": {},
   "cell_type": "markdown",
   "metadata": {},
   "source": [
    "Después de realizar la solicitud y obtener la respuesta en formato JSON, puedes convertir los datos en un DataFrame de Pandas:"
   ]
  },
  {
   "cell_type": "code",
   "execution_count": null,
   "metadata": {},
   "outputs": [],
   "source": [
    "import pandas as pd\n",
    "data = response.json()\n",
    "df = pd.DataFrame(data['data'])"
   ]
  },
  {
   "attachments": {},
   "cell_type": "markdown",
   "metadata": {},
   "source": [
    "--------------"
   ]
  },
  {
   "attachments": {},
   "cell_type": "markdown",
   "metadata": {},
   "source": [
    "## Ejemplo Practico:"
   ]
  },
  {
   "attachments": {},
   "cell_type": "markdown",
   "metadata": {},
   "source": [
    "### POKEAPI"
   ]
  },
  {
   "attachments": {},
   "cell_type": "markdown",
   "metadata": {},
   "source": [
    "Para este ejmeplo vamos a utilizar la API [POKEAPI](https://pokeapi.co/)"
   ]
  },
  {
   "attachments": {},
   "cell_type": "markdown",
   "metadata": {},
   "source": [
    "Lo primero que tenemos que hacer antes de `\"atacar\"` una API es leer la documentacion para saber que parametros utiliza y que informacion puedo obtener"
   ]
  },
  {
   "attachments": {},
   "cell_type": "markdown",
   "metadata": {},
   "source": [
    "Ya leido la documentacion podemos empezar a `\"atacar\"` la API para crear una DataFrame y poder hacer nuestro analisis de datos"
   ]
  },
  {
   "attachments": {},
   "cell_type": "markdown",
   "metadata": {},
   "source": [
    "Lo podemos dividir en 4 pasos:"
   ]
  },
  {
   "attachments": {},
   "cell_type": "markdown",
   "metadata": {},
   "source": [
    "Pado 1: Obtener nombres e ID de Pokémon y guardar en DataFrame"
   ]
  },
  {
   "cell_type": "code",
   "execution_count": 6,
   "metadata": {},
   "outputs": [],
   "source": [
    "import requests\n",
    "import pandas as pd\n",
    "from concurrent.futures import ThreadPoolExecutor, as_completed\n",
    "import warnings\n",
    "warnings.filterwarnings('ignore')"
   ]
  },
  {
   "cell_type": "code",
   "execution_count": 7,
   "metadata": {},
   "outputs": [
    {
     "data": {
      "text/html": [
       "<div>\n",
       "<style scoped>\n",
       "    .dataframe tbody tr th:only-of-type {\n",
       "        vertical-align: middle;\n",
       "    }\n",
       "\n",
       "    .dataframe tbody tr th {\n",
       "        vertical-align: top;\n",
       "    }\n",
       "\n",
       "    .dataframe thead th {\n",
       "        text-align: right;\n",
       "    }\n",
       "</style>\n",
       "<table border=\"1\" class=\"dataframe\">\n",
       "  <thead>\n",
       "    <tr style=\"text-align: right;\">\n",
       "      <th></th>\n",
       "      <th>name</th>\n",
       "      <th>url</th>\n",
       "    </tr>\n",
       "  </thead>\n",
       "  <tbody>\n",
       "    <tr>\n",
       "      <th>0</th>\n",
       "      <td>bulbasaur</td>\n",
       "      <td>https://pokeapi.co/api/v2/pokemon/1/</td>\n",
       "    </tr>\n",
       "    <tr>\n",
       "      <th>1</th>\n",
       "      <td>ivysaur</td>\n",
       "      <td>https://pokeapi.co/api/v2/pokemon/2/</td>\n",
       "    </tr>\n",
       "    <tr>\n",
       "      <th>2</th>\n",
       "      <td>venusaur</td>\n",
       "      <td>https://pokeapi.co/api/v2/pokemon/3/</td>\n",
       "    </tr>\n",
       "    <tr>\n",
       "      <th>3</th>\n",
       "      <td>charmander</td>\n",
       "      <td>https://pokeapi.co/api/v2/pokemon/4/</td>\n",
       "    </tr>\n",
       "    <tr>\n",
       "      <th>4</th>\n",
       "      <td>charmeleon</td>\n",
       "      <td>https://pokeapi.co/api/v2/pokemon/5/</td>\n",
       "    </tr>\n",
       "    <tr>\n",
       "      <th>...</th>\n",
       "      <td>...</td>\n",
       "      <td>...</td>\n",
       "    </tr>\n",
       "    <tr>\n",
       "      <th>1276</th>\n",
       "      <td>koraidon-gliding-build</td>\n",
       "      <td>https://pokeapi.co/api/v2/pokemon/10267/</td>\n",
       "    </tr>\n",
       "    <tr>\n",
       "      <th>1277</th>\n",
       "      <td>miraidon-low-power-mode</td>\n",
       "      <td>https://pokeapi.co/api/v2/pokemon/10268/</td>\n",
       "    </tr>\n",
       "    <tr>\n",
       "      <th>1278</th>\n",
       "      <td>miraidon-drive-mode</td>\n",
       "      <td>https://pokeapi.co/api/v2/pokemon/10269/</td>\n",
       "    </tr>\n",
       "    <tr>\n",
       "      <th>1279</th>\n",
       "      <td>miraidon-aquatic-mode</td>\n",
       "      <td>https://pokeapi.co/api/v2/pokemon/10270/</td>\n",
       "    </tr>\n",
       "    <tr>\n",
       "      <th>1280</th>\n",
       "      <td>miraidon-glide-mode</td>\n",
       "      <td>https://pokeapi.co/api/v2/pokemon/10271/</td>\n",
       "    </tr>\n",
       "  </tbody>\n",
       "</table>\n",
       "<p>1281 rows × 2 columns</p>\n",
       "</div>"
      ],
      "text/plain": [
       "                         name                                       url\n",
       "0                   bulbasaur      https://pokeapi.co/api/v2/pokemon/1/\n",
       "1                     ivysaur      https://pokeapi.co/api/v2/pokemon/2/\n",
       "2                    venusaur      https://pokeapi.co/api/v2/pokemon/3/\n",
       "3                  charmander      https://pokeapi.co/api/v2/pokemon/4/\n",
       "4                  charmeleon      https://pokeapi.co/api/v2/pokemon/5/\n",
       "...                       ...                                       ...\n",
       "1276   koraidon-gliding-build  https://pokeapi.co/api/v2/pokemon/10267/\n",
       "1277  miraidon-low-power-mode  https://pokeapi.co/api/v2/pokemon/10268/\n",
       "1278      miraidon-drive-mode  https://pokeapi.co/api/v2/pokemon/10269/\n",
       "1279    miraidon-aquatic-mode  https://pokeapi.co/api/v2/pokemon/10270/\n",
       "1280      miraidon-glide-mode  https://pokeapi.co/api/v2/pokemon/10271/\n",
       "\n",
       "[1281 rows x 2 columns]"
      ]
     },
     "execution_count": 7,
     "metadata": {},
     "output_type": "execute_result"
    }
   ],
   "source": [
    "# Paso 1: Obtener la lista de todos los Pokémon\n",
    "url = \"https://pokeapi.co/api/v2/pokemon?limit=2000\"\n",
    "response = requests.get(url)\n",
    "data = response.json()\n",
    "\n",
    "# Crear una lista de diccionarios con el nombre y la URL de cada Pokémon\n",
    "pokemon_list = [{\"name\": pokemon[\"name\"], \"url\": pokemon[\"url\"]} for pokemon in data[\"results\"]]\n",
    "\n",
    "pokemon_df = pd.DataFrame(pokemon_list)\n",
    "pokemon_df"
   ]
  },
  {
   "attachments": {},
   "cell_type": "markdown",
   "metadata": {},
   "source": [
    "Esta parte del código crea un DataFrame con los nombres e ID de los Pokémon."
   ]
  },
  {
   "attachments": {},
   "cell_type": "markdown",
   "metadata": {},
   "source": [
    "Paso 2: Extraer tipos y habilidades de cada Pokémon y agregarlos al DataFrame"
   ]
  },
  {
   "cell_type": "code",
   "execution_count": 8,
   "metadata": {},
   "outputs": [
    {
     "data": {
      "text/html": [
       "<div>\n",
       "<style scoped>\n",
       "    .dataframe tbody tr th:only-of-type {\n",
       "        vertical-align: middle;\n",
       "    }\n",
       "\n",
       "    .dataframe tbody tr th {\n",
       "        vertical-align: top;\n",
       "    }\n",
       "\n",
       "    .dataframe thead th {\n",
       "        text-align: right;\n",
       "    }\n",
       "</style>\n",
       "<table border=\"1\" class=\"dataframe\">\n",
       "  <thead>\n",
       "    <tr style=\"text-align: right;\">\n",
       "      <th></th>\n",
       "      <th>name</th>\n",
       "      <th>url</th>\n",
       "      <th>types</th>\n",
       "      <th>abilities</th>\n",
       "    </tr>\n",
       "  </thead>\n",
       "  <tbody>\n",
       "    <tr>\n",
       "      <th>0</th>\n",
       "      <td>bulbasaur</td>\n",
       "      <td>https://pokeapi.co/api/v2/pokemon/1/</td>\n",
       "      <td>grass, poison</td>\n",
       "      <td>overgrow, chlorophyll</td>\n",
       "    </tr>\n",
       "    <tr>\n",
       "      <th>1</th>\n",
       "      <td>ivysaur</td>\n",
       "      <td>https://pokeapi.co/api/v2/pokemon/2/</td>\n",
       "      <td>grass, poison</td>\n",
       "      <td>overgrow, chlorophyll</td>\n",
       "    </tr>\n",
       "    <tr>\n",
       "      <th>2</th>\n",
       "      <td>venusaur</td>\n",
       "      <td>https://pokeapi.co/api/v2/pokemon/3/</td>\n",
       "      <td>grass, poison</td>\n",
       "      <td>overgrow, chlorophyll</td>\n",
       "    </tr>\n",
       "    <tr>\n",
       "      <th>3</th>\n",
       "      <td>charmander</td>\n",
       "      <td>https://pokeapi.co/api/v2/pokemon/4/</td>\n",
       "      <td>fire</td>\n",
       "      <td>blaze, solar-power</td>\n",
       "    </tr>\n",
       "    <tr>\n",
       "      <th>4</th>\n",
       "      <td>charmeleon</td>\n",
       "      <td>https://pokeapi.co/api/v2/pokemon/5/</td>\n",
       "      <td>fire</td>\n",
       "      <td>blaze, solar-power</td>\n",
       "    </tr>\n",
       "  </tbody>\n",
       "</table>\n",
       "</div>"
      ],
      "text/plain": [
       "         name                                   url          types  \\\n",
       "0   bulbasaur  https://pokeapi.co/api/v2/pokemon/1/  grass, poison   \n",
       "1     ivysaur  https://pokeapi.co/api/v2/pokemon/2/  grass, poison   \n",
       "2    venusaur  https://pokeapi.co/api/v2/pokemon/3/  grass, poison   \n",
       "3  charmander  https://pokeapi.co/api/v2/pokemon/4/           fire   \n",
       "4  charmeleon  https://pokeapi.co/api/v2/pokemon/5/           fire   \n",
       "\n",
       "               abilities  \n",
       "0  overgrow, chlorophyll  \n",
       "1  overgrow, chlorophyll  \n",
       "2  overgrow, chlorophyll  \n",
       "3     blaze, solar-power  \n",
       "4     blaze, solar-power  "
      ]
     },
     "execution_count": 8,
     "metadata": {},
     "output_type": "execute_result"
    }
   ],
   "source": [
    "def get_pokemon_details(pokemon_url):\n",
    "    response = requests.get(pokemon_url)\n",
    "    pokemon_data = response.json()\n",
    "     \n",
    "    types = [t[\"type\"][\"name\"] for t in pokemon_data[\"types\"]]\n",
    "    abilities = [a[\"ability\"][\"name\"] for a in pokemon_data[\"abilities\"]]\n",
    "    \n",
    "    return types, abilities\n",
    "\n",
    "pokemon_df[\"types\"] = None\n",
    "pokemon_df[\"abilities\"] = None\n",
    "\n",
    "for index, row in pokemon_df.iterrows():\n",
    "    pokemon_url = row[\"url\"]\n",
    "    types, abilities = get_pokemon_details(pokemon_url)\n",
    "    \n",
    "    pokemon_df.at[index, \"types\"] = \", \".join(types)\n",
    "    pokemon_df.at[index, \"abilities\"] = \", \".join(abilities)\n",
    "\n",
    "pokemon_df.head()"
   ]
  },
  {
   "attachments": {},
   "cell_type": "markdown",
   "metadata": {},
   "source": [
    "Esta parte del código agrega las columnas 'types' y 'abilities' al DataFrame existente y llena cada fila con la información correspondiente. "
   ]
  },
  {
   "attachments": {},
   "cell_type": "markdown",
   "metadata": {},
   "source": [
    "Paso 3: Extraer estadísticas base de cada Pokémon y agregarlas al DataFrame"
   ]
  },
  {
   "cell_type": "code",
   "execution_count": 9,
   "metadata": {},
   "outputs": [
    {
     "data": {
      "text/html": [
       "<div>\n",
       "<style scoped>\n",
       "    .dataframe tbody tr th:only-of-type {\n",
       "        vertical-align: middle;\n",
       "    }\n",
       "\n",
       "    .dataframe tbody tr th {\n",
       "        vertical-align: top;\n",
       "    }\n",
       "\n",
       "    .dataframe thead th {\n",
       "        text-align: right;\n",
       "    }\n",
       "</style>\n",
       "<table border=\"1\" class=\"dataframe\">\n",
       "  <thead>\n",
       "    <tr style=\"text-align: right;\">\n",
       "      <th></th>\n",
       "      <th>name</th>\n",
       "      <th>url</th>\n",
       "      <th>types</th>\n",
       "      <th>abilities</th>\n",
       "      <th>hp</th>\n",
       "      <th>attack</th>\n",
       "      <th>defense</th>\n",
       "      <th>special-attack</th>\n",
       "      <th>special-defense</th>\n",
       "      <th>speed</th>\n",
       "    </tr>\n",
       "  </thead>\n",
       "  <tbody>\n",
       "    <tr>\n",
       "      <th>0</th>\n",
       "      <td>bulbasaur</td>\n",
       "      <td>https://pokeapi.co/api/v2/pokemon/1/</td>\n",
       "      <td>grass, poison</td>\n",
       "      <td>overgrow, chlorophyll</td>\n",
       "      <td>45</td>\n",
       "      <td>49</td>\n",
       "      <td>49</td>\n",
       "      <td>65</td>\n",
       "      <td>65</td>\n",
       "      <td>45</td>\n",
       "    </tr>\n",
       "    <tr>\n",
       "      <th>1</th>\n",
       "      <td>ivysaur</td>\n",
       "      <td>https://pokeapi.co/api/v2/pokemon/2/</td>\n",
       "      <td>grass, poison</td>\n",
       "      <td>overgrow, chlorophyll</td>\n",
       "      <td>60</td>\n",
       "      <td>62</td>\n",
       "      <td>63</td>\n",
       "      <td>80</td>\n",
       "      <td>80</td>\n",
       "      <td>60</td>\n",
       "    </tr>\n",
       "    <tr>\n",
       "      <th>2</th>\n",
       "      <td>venusaur</td>\n",
       "      <td>https://pokeapi.co/api/v2/pokemon/3/</td>\n",
       "      <td>grass, poison</td>\n",
       "      <td>overgrow, chlorophyll</td>\n",
       "      <td>80</td>\n",
       "      <td>82</td>\n",
       "      <td>83</td>\n",
       "      <td>100</td>\n",
       "      <td>100</td>\n",
       "      <td>80</td>\n",
       "    </tr>\n",
       "    <tr>\n",
       "      <th>3</th>\n",
       "      <td>charmander</td>\n",
       "      <td>https://pokeapi.co/api/v2/pokemon/4/</td>\n",
       "      <td>fire</td>\n",
       "      <td>blaze, solar-power</td>\n",
       "      <td>39</td>\n",
       "      <td>52</td>\n",
       "      <td>43</td>\n",
       "      <td>60</td>\n",
       "      <td>50</td>\n",
       "      <td>65</td>\n",
       "    </tr>\n",
       "    <tr>\n",
       "      <th>4</th>\n",
       "      <td>charmeleon</td>\n",
       "      <td>https://pokeapi.co/api/v2/pokemon/5/</td>\n",
       "      <td>fire</td>\n",
       "      <td>blaze, solar-power</td>\n",
       "      <td>58</td>\n",
       "      <td>64</td>\n",
       "      <td>58</td>\n",
       "      <td>80</td>\n",
       "      <td>65</td>\n",
       "      <td>80</td>\n",
       "    </tr>\n",
       "  </tbody>\n",
       "</table>\n",
       "</div>"
      ],
      "text/plain": [
       "         name                                   url          types  \\\n",
       "0   bulbasaur  https://pokeapi.co/api/v2/pokemon/1/  grass, poison   \n",
       "1     ivysaur  https://pokeapi.co/api/v2/pokemon/2/  grass, poison   \n",
       "2    venusaur  https://pokeapi.co/api/v2/pokemon/3/  grass, poison   \n",
       "3  charmander  https://pokeapi.co/api/v2/pokemon/4/           fire   \n",
       "4  charmeleon  https://pokeapi.co/api/v2/pokemon/5/           fire   \n",
       "\n",
       "               abilities  hp attack defense special-attack special-defense  \\\n",
       "0  overgrow, chlorophyll  45     49      49             65              65   \n",
       "1  overgrow, chlorophyll  60     62      63             80              80   \n",
       "2  overgrow, chlorophyll  80     82      83            100             100   \n",
       "3     blaze, solar-power  39     52      43             60              50   \n",
       "4     blaze, solar-power  58     64      58             80              65   \n",
       "\n",
       "  speed  \n",
       "0    45  \n",
       "1    60  \n",
       "2    80  \n",
       "3    65  \n",
       "4    80  "
      ]
     },
     "execution_count": 9,
     "metadata": {},
     "output_type": "execute_result"
    }
   ],
   "source": [
    "def get_base_stats(pokemon_data):\n",
    "    base_stats = {}\n",
    "    \n",
    "    for stat in pokemon_data[\"stats\"]:\n",
    "        stat_name = stat[\"stat\"][\"name\"]\n",
    "        base_value = stat[\"base_stat\"]\n",
    "        base_stats[stat_name] = base_value\n",
    "    \n",
    "    return base_stats\n",
    "\n",
    "stat_columns = [\"hp\", \"attack\", \"defense\", \"special-attack\", \"special-defense\", \"speed\"]\n",
    "\n",
    "for column in stat_columns:\n",
    "    pokemon_df[column] = None\n",
    "\n",
    "for index, row in pokemon_df.iterrows():\n",
    "    pokemon_url = row[\"url\"]\n",
    "    response = requests.get(pokemon_url)\n",
    "    pokemon_data = response.json()\n",
    "    \n",
    "    base_stats = get_base_stats(pokemon_data)\n",
    "    \n",
    "    for stat, value in base_stats.items():\n",
    "        pokemon_df.at[index, stat] = value\n",
    "\n",
    "pokemon_df.head()"
   ]
  },
  {
   "cell_type": "code",
   "execution_count": 32,
   "metadata": {},
   "outputs": [
    {
     "data": {
      "text/html": [
       "<div>\n",
       "<style scoped>\n",
       "    .dataframe tbody tr th:only-of-type {\n",
       "        vertical-align: middle;\n",
       "    }\n",
       "\n",
       "    .dataframe tbody tr th {\n",
       "        vertical-align: top;\n",
       "    }\n",
       "\n",
       "    .dataframe thead th {\n",
       "        text-align: right;\n",
       "    }\n",
       "</style>\n",
       "<table border=\"1\" class=\"dataframe\">\n",
       "  <thead>\n",
       "    <tr style=\"text-align: right;\">\n",
       "      <th></th>\n",
       "      <th>name</th>\n",
       "      <th>url</th>\n",
       "      <th>types</th>\n",
       "      <th>abilities</th>\n",
       "      <th>hp</th>\n",
       "      <th>attack</th>\n",
       "      <th>defense</th>\n",
       "      <th>special-attack</th>\n",
       "      <th>special-defense</th>\n",
       "      <th>speed</th>\n",
       "      <th>is_legendary</th>\n",
       "      <th>generation</th>\n",
       "      <th>hidden_ability</th>\n",
       "      <th>primary_type</th>\n",
       "      <th>main_type</th>\n",
       "      <th>total_stats</th>\n",
       "      <th>weight</th>\n",
       "      <th>height</th>\n",
       "    </tr>\n",
       "  </thead>\n",
       "  <tbody>\n",
       "    <tr>\n",
       "      <th>0</th>\n",
       "      <td>bulbasaur</td>\n",
       "      <td>https://pokeapi.co/api/v2/pokemon/1/</td>\n",
       "      <td>grass, poison</td>\n",
       "      <td>overgrow, chlorophyll</td>\n",
       "      <td>45</td>\n",
       "      <td>49</td>\n",
       "      <td>49</td>\n",
       "      <td>65</td>\n",
       "      <td>65</td>\n",
       "      <td>45</td>\n",
       "      <td>False</td>\n",
       "      <td>generation-i</td>\n",
       "      <td>chlorophyll</td>\n",
       "      <td>grass</td>\n",
       "      <td>grass</td>\n",
       "      <td>318</td>\n",
       "      <td>69</td>\n",
       "      <td>7</td>\n",
       "    </tr>\n",
       "    <tr>\n",
       "      <th>1</th>\n",
       "      <td>ivysaur</td>\n",
       "      <td>https://pokeapi.co/api/v2/pokemon/2/</td>\n",
       "      <td>grass, poison</td>\n",
       "      <td>overgrow, chlorophyll</td>\n",
       "      <td>60</td>\n",
       "      <td>62</td>\n",
       "      <td>63</td>\n",
       "      <td>80</td>\n",
       "      <td>80</td>\n",
       "      <td>60</td>\n",
       "      <td>False</td>\n",
       "      <td>generation-i</td>\n",
       "      <td>chlorophyll</td>\n",
       "      <td>grass</td>\n",
       "      <td>grass</td>\n",
       "      <td>405</td>\n",
       "      <td>130</td>\n",
       "      <td>10</td>\n",
       "    </tr>\n",
       "    <tr>\n",
       "      <th>2</th>\n",
       "      <td>venusaur</td>\n",
       "      <td>https://pokeapi.co/api/v2/pokemon/3/</td>\n",
       "      <td>grass, poison</td>\n",
       "      <td>overgrow, chlorophyll</td>\n",
       "      <td>80</td>\n",
       "      <td>82</td>\n",
       "      <td>83</td>\n",
       "      <td>100</td>\n",
       "      <td>100</td>\n",
       "      <td>80</td>\n",
       "      <td>False</td>\n",
       "      <td>generation-i</td>\n",
       "      <td>chlorophyll</td>\n",
       "      <td>grass</td>\n",
       "      <td>grass</td>\n",
       "      <td>525</td>\n",
       "      <td>1000</td>\n",
       "      <td>20</td>\n",
       "    </tr>\n",
       "    <tr>\n",
       "      <th>3</th>\n",
       "      <td>charmander</td>\n",
       "      <td>https://pokeapi.co/api/v2/pokemon/4/</td>\n",
       "      <td>fire</td>\n",
       "      <td>blaze, solar-power</td>\n",
       "      <td>39</td>\n",
       "      <td>52</td>\n",
       "      <td>43</td>\n",
       "      <td>60</td>\n",
       "      <td>50</td>\n",
       "      <td>65</td>\n",
       "      <td>False</td>\n",
       "      <td>generation-i</td>\n",
       "      <td>solar-power</td>\n",
       "      <td>fire</td>\n",
       "      <td>fire</td>\n",
       "      <td>309</td>\n",
       "      <td>85</td>\n",
       "      <td>6</td>\n",
       "    </tr>\n",
       "    <tr>\n",
       "      <th>4</th>\n",
       "      <td>charmeleon</td>\n",
       "      <td>https://pokeapi.co/api/v2/pokemon/5/</td>\n",
       "      <td>fire</td>\n",
       "      <td>blaze, solar-power</td>\n",
       "      <td>58</td>\n",
       "      <td>64</td>\n",
       "      <td>58</td>\n",
       "      <td>80</td>\n",
       "      <td>65</td>\n",
       "      <td>80</td>\n",
       "      <td>False</td>\n",
       "      <td>generation-i</td>\n",
       "      <td>solar-power</td>\n",
       "      <td>fire</td>\n",
       "      <td>fire</td>\n",
       "      <td>405</td>\n",
       "      <td>190</td>\n",
       "      <td>11</td>\n",
       "    </tr>\n",
       "  </tbody>\n",
       "</table>\n",
       "</div>"
      ],
      "text/plain": [
       "         name                                   url          types  \\\n",
       "0   bulbasaur  https://pokeapi.co/api/v2/pokemon/1/  grass, poison   \n",
       "1     ivysaur  https://pokeapi.co/api/v2/pokemon/2/  grass, poison   \n",
       "2    venusaur  https://pokeapi.co/api/v2/pokemon/3/  grass, poison   \n",
       "3  charmander  https://pokeapi.co/api/v2/pokemon/4/           fire   \n",
       "4  charmeleon  https://pokeapi.co/api/v2/pokemon/5/           fire   \n",
       "\n",
       "               abilities  hp  attack  defense special-attack special-defense  \\\n",
       "0  overgrow, chlorophyll  45      49       49             65              65   \n",
       "1  overgrow, chlorophyll  60      62       63             80              80   \n",
       "2  overgrow, chlorophyll  80      82       83            100             100   \n",
       "3     blaze, solar-power  39      52       43             60              50   \n",
       "4     blaze, solar-power  58      64       58             80              65   \n",
       "\n",
       "  speed is_legendary    generation hidden_ability primary_type main_type  \\\n",
       "0    45        False  generation-i    chlorophyll        grass     grass   \n",
       "1    60        False  generation-i    chlorophyll        grass     grass   \n",
       "2    80        False  generation-i    chlorophyll        grass     grass   \n",
       "3    65        False  generation-i    solar-power         fire      fire   \n",
       "4    80        False  generation-i    solar-power         fire      fire   \n",
       "\n",
       "  total_stats weight height  \n",
       "0         318     69      7  \n",
       "1         405    130     10  \n",
       "2         525   1000     20  \n",
       "3         309     85      6  \n",
       "4         405    190     11  "
      ]
     },
     "execution_count": 32,
     "metadata": {},
     "output_type": "execute_result"
    }
   ],
   "source": [
    "def get_species_details(species_data):\n",
    "    is_legendary = species_data[\"is_legendary\"]\n",
    "    generation = species_data[\"generation\"][\"name\"]\n",
    "    return is_legendary, generation\n",
    "\n",
    "def get_hidden_ability(pokemon_data):\n",
    "    hidden_ability = None\n",
    "    for ability in pokemon_data[\"abilities\"]:\n",
    "        if ability[\"is_hidden\"]:\n",
    "            hidden_ability = ability[\"ability\"][\"name\"]\n",
    "            break\n",
    "    return hidden_ability\n",
    "\n",
    "def get_primary_type(pokemon_data):\n",
    "    primary_type = pokemon_data[\"types\"][0][\"type\"][\"name\"]\n",
    "    return primary_type\n",
    "\n",
    "def get_weight_and_height(pokemon_data):\n",
    "    weight = pokemon_data[\"weight\"]\n",
    "    height = pokemon_data[\"height\"]\n",
    "    return weight, height\n",
    "\n",
    "\n",
    "# Agregar las columnas 'is_legendary', 'generation', 'hidden_ability' y 'primary_type' al DataFrame\n",
    "pokemon_df[\"is_legendary\"] = None\n",
    "pokemon_df[\"generation\"] = None\n",
    "pokemon_df[\"hidden_ability\"] = None\n",
    "pokemon_df[\"primary_type\"] = None\n",
    "pokemon_df[\"weight\"] = None\n",
    "pokemon_df[\"height\"] = None\n",
    "\n",
    "# Completar las columnas 'is_legendary', 'generation', 'hidden_ability' y 'primary_type' con los valores reales\n",
    "for index, row in pokemon_df.iterrows():\n",
    "    pokemon_url = row[\"url\"]\n",
    "    response = requests.get(pokemon_url)\n",
    "    pokemon_data = response.json()\n",
    "    \n",
    "    species_url = pokemon_data[\"species\"][\"url\"]\n",
    "    species_response = requests.get(species_url)\n",
    "    species_data = species_response.json()\n",
    "    \n",
    "    is_legendary, generation = get_species_details(species_data)\n",
    "    hidden_ability = get_hidden_ability(pokemon_data)\n",
    "    primary_type = get_primary_type(pokemon_data)\n",
    "    weight, height = get_weight_and_height(pokemon_data)\n",
    "    \n",
    "    pokemon_df.at[index, \"is_legendary\"] = is_legendary\n",
    "    pokemon_df.at[index, \"generation\"] = generation\n",
    "    pokemon_df.at[index, \"hidden_ability\"] = hidden_ability\n",
    "    pokemon_df.at[index, \"primary_type\"] = primary_type\n",
    "    pokemon_df.at[index, \"weight\"] = weight\n",
    "    pokemon_df.at[index, \"height\"] = height\n",
    "\n",
    "pokemon_df.head()\n",
    "\n"
   ]
  },
  {
   "attachments": {},
   "cell_type": "markdown",
   "metadata": {},
   "source": [
    "Esta parte del código agrega las columnas de estadísticas base al DataFrame existente y llena cada fila con la información correspondiente."
   ]
  },
  {
   "attachments": {},
   "cell_type": "markdown",
   "metadata": {},
   "source": [
    "Paso 4: Guardar el DataFrame en un archivo CSV y, opcionalmente, en una base de datos SQLite"
   ]
  },
  {
   "cell_type": "code",
   "execution_count": 12,
   "metadata": {},
   "outputs": [
    {
     "name": "stdout",
     "output_type": "stream",
     "text": [
      "Archivo CSV guardado como: pokemon_data.csv\n"
     ]
    }
   ],
   "source": [
    "# Guardar el DataFrame en un archivo CSV\n",
    "csv_output_file = \"pokemon_data.csv\"\n",
    "pokemon_df.to_csv(csv_output_file, index=False)\n",
    "print(f\"Archivo CSV guardado como: {csv_output_file}\")"
   ]
  },
  {
   "cell_type": "code",
   "execution_count": null,
   "metadata": {},
   "outputs": [],
   "source": [
    "import os\n",
    "import sqlite3\n",
    "\n",
    "# Opcional: Guardar el DataFrame en una base de datos SQLite\n",
    "sqlite_output_file = \"pokemon_data.db\"\n",
    "\n",
    "if not os.path.exists(sqlite_output_file):\n",
    "    conn = sqlite3.connect(sqlite_output_file)\n",
    "    cursor = conn.cursor()\n",
    "    \n",
    "    pokemon_df.to_sql(\"pokemon\", conn, if_exists=\"replace\", index=False)\n",
    "    conn.commit()\n",
    "    \n",
    "    print(f\"Base de datos SQLite guardada como: {sqlite_output_file}\")\n",
    "    \n",
    "    conn.close()"
   ]
  }
 ],
 "metadata": {
  "kernelspec": {
   "display_name": "este",
   "language": "python",
   "name": "python3"
  },
  "language_info": {
   "codemirror_mode": {
    "name": "ipython",
    "version": 3
   },
   "file_extension": ".py",
   "mimetype": "text/x-python",
   "name": "python",
   "nbconvert_exporter": "python",
   "pygments_lexer": "ipython3",
   "version": "3.9.5"
  },
  "orig_nbformat": 4
 },
 "nbformat": 4,
 "nbformat_minor": 2
}
