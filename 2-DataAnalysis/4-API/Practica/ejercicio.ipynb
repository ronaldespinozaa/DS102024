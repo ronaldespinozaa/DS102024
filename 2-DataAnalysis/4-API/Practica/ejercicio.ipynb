{
 "cells": [
  {
   "cell_type": "markdown",
   "metadata": {},
   "source": [
    "# Ejercicio: Crear un DataFrame Completo con SWAPI"
   ]
  },
  {
   "cell_type": "markdown",
   "metadata": {},
   "source": [
    "## Objetivo:\n",
    "El objetivo de este ejercicio es que los alumnos practiquen la obtención de datos de una API REST y su posterior procesamiento para crear un DataFrame en Pandas que contenga información detallada sobre personajes de Star Wars."
   ]
  },
  {
   "cell_type": "markdown",
   "metadata": {},
   "source": [
    "## Instrucciones:\n",
    "\n",
    "1. Obtener los datos:\n",
    "\n",
    "- Utilizar la API de Star Wars (SWAPI) para obtener datos sobre los personajes (people) de la saga.\n",
    "- La URL base para obtener la lista de personajes es: https://swapi.dev/api/people/.\n",
    "- Dado que los datos están paginados, deberán recorrer todas las páginas para obtener la lista completa de personajes.\n",
    "\n",
    "2. Crear el DataFrame:\n",
    "\n",
    "    Crear un DataFrame que incluya las siguientes columnas con la información detallada de cada personaje:\n",
    "\n",
    "    - id: Identificador único del personaje.\n",
    "    - name: Nombre del personaje.\n",
    "    - height: Altura del personaje (en centímetros).\n",
    "    - mass: Peso del personaje (en kilogramos).\n",
    "    - hair_color: Color de cabello.\n",
    "    - skin_color: Color de piel.\n",
    "    - eye_color: Color de ojos.\n",
    "    - birth_year: Año de nacimiento.\n",
    "    - gender: Género.\n",
    "    - homeworld: Nombre del planeta de origen (obtenido mediante una petición adicional a la API).\n",
    "    - species: Nombre de la especie del personaje (obtenido mediante una petición adicional si el campo species no está vacío).\n",
    "    - films: Lista de nombres de películas en las que aparece el personaje (obtenido mediante peticiones adicionales).\n",
    "\n",
    "3. Procesamiento de datos:\n",
    "\n",
    "    - Cada entrada en el campo homeworld de los personajes es un enlace a la API, desde el cual se debe obtener el nombre del planeta.\n",
    "\n",
    "    - El campo species contiene una lista de enlaces. Si no está vacío, se debe obtener el nombre de la especie desde la API.\n",
    "\n",
    "    - El campo films contiene una lista de enlaces a las películas. Se debe realizar una petición por cada enlace para obtener el título de la película.\n",
    "\n",
    "4. Entrega del ejercicio:\n",
    "\n",
    "    - Se debe entregar un archivo .ipynb (Jupyter Notebook) con el código que obtenga los datos, procese las respuestas y construya el DataFrame completo.\n",
    "\n",
    "    - También deben incluir en el notebook una breve descripción de cómo organizaron el proceso para obtener los datos y construir el DataFrame."
   ]
  },
  {
   "cell_type": "markdown",
   "metadata": {},
   "source": [
    "Tips:\n",
    "\n",
    "- Utilicen la librería requests para realizar las peticiones HTTP.\n",
    "- Tengan en cuenta que la API utiliza paginación, por lo que deberán iterar sobre las páginas hasta obtener todos los datos.\n",
    "- Los datos relacionados (homeworld, species, films) requieren realizar peticiones adicionales, así que gestionen adecuadamente los tiempos de espera (pueden considerar utilizar la función time.sleep() para evitar sobrecargar la API).\n",
    "- Si encuentran campos con datos faltantes o errores, documenten cómo lo manejan en su notebook."
   ]
  }
 ],
 "metadata": {
  "language_info": {
   "name": "python"
  },
  "orig_nbformat": 4
 },
 "nbformat": 4,
 "nbformat_minor": 2
}
