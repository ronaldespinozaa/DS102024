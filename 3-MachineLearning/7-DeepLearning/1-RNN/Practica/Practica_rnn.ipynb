{
 "cells": [
  {
   "cell_type": "markdown",
   "metadata": {},
   "source": [
    "## Ejercicio para tus Alumnos: Regresión y Clasificación con el Dataset de Bike Sharing"
   ]
  },
  {
   "cell_type": "markdown",
   "metadata": {},
   "source": [
    "### Instrucciones Generales\n",
    "- Descarga el dataset de Bike Sharing de la UCI Machine Learning Repository (https://archive.ics.uci.edu/ml/datasets/bike+sharing+dataset)\n",
    "- Explora y prepara los datos\n",
    "- Desarrolla un modelo de regresión para predecir el número de alquileres\n",
    "- Desarrolla un modelo de clasificación para predecir categorías de demanda\n",
    "- Evalúa y compara ambos modelos"
   ]
  },
  {
   "cell_type": "markdown",
   "metadata": {},
   "source": [
    "### Ejercicio de Regresión\n",
    "\n",
    "#### Carga y exploración inicial de datos\n",
    "1. Cargar el dataset\n",
    "2. Explorar la estructura de los datos (shape, info, describe)\n",
    "3. Visualizar la distribución de alquileres de bicicletas\n",
    "4. Analizar correlaciones entre variables\n",
    "#### Preprocesamiento de datos\n",
    "5. Manejar valores nulos si existen\n",
    "6. Codificar variables categóricas (día de la semana, temporada, etc.)\n",
    "7. Normalizar variables numéricas\n",
    "8. Dividir en conjuntos de entrenamiento y prueba\n",
    "#### Construcción del modelo de regresión\n",
    "9. Diseñar la arquitectura de la red neuronal\n",
    "10. Configurar hiperparámetros iniciales\n",
    "11. Compilar el modelo usando la función de pérdida adecuada para regresión (MSE)\n",
    "12. Implementar callbacks (EarlyStopping, ReduceLROnPlateau)\n",
    "#### Entrenamiento y evaluación\n",
    "13. Entrenar el modelo\n",
    "14. Visualizar las curvas de aprendizaje\n",
    "15. Evaluar en el conjunto de prueba (MSE, MAE, R²)\n",
    "16. Visualizar predicciones vs valores reales\n",
    "#### Optimización\n",
    "17. Ajustar hiperparámetros (tasa de aprendizaje, arquitectura, etc.)\n",
    "18. Probar diferentes combinaciones de características\n",
    "19. Implementar regularización si es necesario\n",
    "20. Pasos Detallados para el Ejercicio de Clasificación\n",
    "\n",
    "\n",
    "### Problema de Clasificación\n",
    "1. Crear categorías basadas en el número de alquileres (por ejemplo, 'baja', 'media', 'alta')\n",
    "2. Visualizar la distribución de las clases\n",
    "#### Preparación de datos para clasificación\n",
    "3. Codificar la variable objetivo (one-hot encoding)\n",
    "4. Asegurar balance de clases o implementar técnicas para manejar desbalance\n",
    "#### Construcción del modelo de clasificación\n",
    "5. Diseñar la arquitectura de la red neuronal (similar a la de regresión pero con ajustes)\n",
    "6. Usar activación softmax en la capa de salida\n",
    "7. Compilar con función de pérdida categorical_crossentropy\n",
    "8. Añadir métricas de clasificación (accuracy, precision, recall)\n",
    "#### Entrenamiento y evaluación\n",
    "9. Entrenar el modelo de clasificación\n",
    "10. Visualizar la matriz de confusión\n",
    "11. Calcular métricas por clase (precision, recall, F1-score)\n",
    "12. Generar curva ROC para problemas multiclase\n",
    "#### Optimización y comparación\n",
    "13. Ajustar hiperparámetros\n",
    "14. Comparar con otros algoritmos de clasificación\n",
    "15. Evaluar importancia de características\n"
   ]
  },
  {
   "cell_type": "markdown",
   "metadata": {},
   "source": []
  },
  {
   "cell_type": "markdown",
   "metadata": {},
   "source": []
  }
 ],
 "metadata": {
  "language_info": {
   "name": "python"
  }
 },
 "nbformat": 4,
 "nbformat_minor": 2
}
