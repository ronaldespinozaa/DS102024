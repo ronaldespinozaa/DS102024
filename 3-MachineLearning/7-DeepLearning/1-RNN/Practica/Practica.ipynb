{
 "cells": [
  {
   "cell_type": "markdown",
   "metadata": {},
   "source": [
    "## Ejercicio 1: Construcción de una RNN para Clasificación de Tweets\n",
    "\n",
    "Instrucciones:\n",
    "\n",
    "1. Descargar el dataset Twitter Sentiment Analysis Dataset.\n",
    "1. Preprocesar los tweets: limpieza, tokenización, padding.\n",
    "1. Construir y entrenar una RNN utilizando LSTM para clasificar los tweets en positivos o negativos.\n",
    "1. Evaluar el modelo y reportar la precisión."
   ]
  },
  {
   "cell_type": "code",
   "execution_count": null,
   "metadata": {
    "vscode": {
     "languageId": "plaintext"
    }
   },
   "outputs": [],
   "source": []
  },
  {
   "cell_type": "markdown",
   "metadata": {},
   "source": [
    "## Ejercicio 2: Generación de Texto con GRU\n",
    "\n",
    "Instrucciones:\n",
    "\n",
    "1. Utilizar el corpus de obras de Shakespeare.\n",
    "1. Preprocesar el texto y crear secuencias de caracteres.\n",
    "1. Construir y entrenar una RNN con GRU para generar texto.\n",
    "1. Generar un fragmento de texto a partir de una semilla. "
   ]
  },
  {
   "cell_type": "code",
   "execution_count": null,
   "metadata": {
    "vscode": {
     "languageId": "plaintext"
    }
   },
   "outputs": [],
   "source": []
  },
  {
   "cell_type": "markdown",
   "metadata": {},
   "source": [
    "## Ejercicio 3: Predicción de Series Temporales con RNN\n",
    "\n",
    "Instrucciones:\n",
    "\n",
    "1. Utilizar datos históricos de temperatura.\n",
    "1. Preprocesar y normalizar los datos.\n",
    "1. Crear secuencias para el entrenamiento.\n",
    "1. Construir y entrenar una RNN con LSTM para predecir temperaturas futuras.\n",
    "1. Evaluar y visualizar las predicciones."
   ]
  },
  {
   "cell_type": "code",
   "execution_count": null,
   "metadata": {
    "vscode": {
     "languageId": "plaintext"
    }
   },
   "outputs": [],
   "source": []
  }
 ],
 "metadata": {
  "language_info": {
   "name": "python"
  }
 },
 "nbformat": 4,
 "nbformat_minor": 2
}
