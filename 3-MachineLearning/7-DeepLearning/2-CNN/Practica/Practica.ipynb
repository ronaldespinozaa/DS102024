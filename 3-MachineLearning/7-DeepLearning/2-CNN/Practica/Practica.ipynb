{
 "cells": [
  {
   "cell_type": "markdown",
   "metadata": {},
   "source": [
    "## Ejercicio 1: Construcción de una CNN para Clasificación de Imágenes Personalizadas\n",
    "\n",
    "Instrucciones:\n",
    "\n",
    "1. Descargar un dataset personalizado, por ejemplo, imágenes de flores de diferentes categorías.\n",
    "1. Preprocesar las imágenes: redimensionar, normalizar y dividir en conjuntos de entrenamiento y prueba.\n",
    "1. Construir y entrenar una CNN utilizando Keras para clasificar las imágenes en sus respectivas categorías.\n",
    "1. Evaluar el modelo y reportar la precisión."
   ]
  },
  {
   "cell_type": "code",
   "execution_count": null,
   "metadata": {},
   "outputs": [],
   "source": []
  },
  {
   "cell_type": "markdown",
   "metadata": {},
   "source": [
    "## Ejercicio 2: Implementación de Transfer Learning con ResNet50\n",
    "\n",
    "Instrucciones:\n",
    "\n",
    "1. Utilizar un modelo preentrenado como ResNet50.\n",
    "1. Congelar las capas del modelo base y añadir nuevas capas superiores para la clasificación personalizada.\n",
    "1. Entrenar el modelo y evaluar su desempeño."
   ]
  },
  {
   "cell_type": "code",
   "execution_count": null,
   "metadata": {},
   "outputs": [],
   "source": []
  },
  {
   "cell_type": "markdown",
   "metadata": {},
   "source": [
    "## Ejercicio 3: Detección de Objetos con SSD (Single Shot MultiBox Detector)\n",
    "\n",
    "Instrucciones:\n",
    "\n",
    "1. Utilizar una implementación preexistente de SSD con Keras.\n",
    "1. Entrenar el modelo en un dataset de detección de objetos.\n",
    "1. Evaluar y visualizar las predicciones."
   ]
  },
  {
   "cell_type": "code",
   "execution_count": null,
   "metadata": {},
   "outputs": [],
   "source": []
  }
 ],
 "metadata": {
  "language_info": {
   "name": "python"
  }
 },
 "nbformat": 4,
 "nbformat_minor": 2
}
