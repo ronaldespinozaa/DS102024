{
 "cells": [
  {
   "cell_type": "markdown",
   "id": "ff142541",
   "metadata": {
    "papermill": {
     "duration": 0.002493,
     "end_time": "2023-04-20T17:46:35.885191",
     "exception": false,
     "start_time": "2023-04-20T17:46:35.882698",
     "status": "completed"
    },
    "tags": []
   },
   "source": [
    "# Introducción\n",
    " \n",
    "Una **tarjeta de modelo** es un documento breve que proporciona información clave sobre un modelo de aprendizaje automático.  Las tarjetas de modelo aumentan la transparencia al comunicar información sobre modelos entrenados a un público amplio."
   ]
  },
  {
   "cell_type": "markdown",
   "id": "9bef603d",
   "metadata": {
    "papermill": {
     "duration": 0.001604,
     "end_time": "2023-04-20T17:46:35.888722",
     "exception": false,
     "start_time": "2023-04-20T17:46:35.887118",
     "status": "completed"
    },
    "tags": []
   },
   "source": [
    "# Tarjetas modelo\n",
    " \n",
    "Aunque los sistemas de IA desempeñan un papel cada vez más importante en todas las industrias, pocas personas entienden cómo funcionan estos sistemas. Los investigadores de IA están explorando muchas formas de comunicar información clave sobre los modelos para informar a las personas que utilizan sistemas de IA, a las que se ven afectadas por ellos y a otras.\n",
    "\n",
    "Las tarjetas de modelo -introducidas en un [documento de 2019](https://arxiv.org/abs/1810.03993)- son una forma de que los equipos comuniquen información clave sobre su sistema de IA a un público amplio. Esta información generalmente incluye los usos previstos para el modelo, cómo funciona el modelo y cómo se desempeña el modelo en diferentes situaciones.\n",
    "\n",
    "Las fichas de los modelos son similares a las etiquetas nutricionales de los alimentos envasados.\n",
    "\n",
    "# ¿A quién va dirigida tu tarjeta modelo?\n",
    "\n",
    "Una ficha modelo debe encontrar el equilibrio entre ser fácil de entender y comunicar información técnica importante. Al redactar una ficha modelo, debes tener en cuenta tu audiencia: los grupos de personas que tienen más probabilidades de leer tu ficha modelo. Estos grupos variarán en función de la finalidad del sistema de IA.\n",
    "\n",
    "Por ejemplo, una ficha modelo de un sistema de IA que ayude a los profesionales de la medicina a interpretar las radiografías para diagnosticar mejor las lesiones musculoesqueléticas probablemente será leída por profesionales de la medicina, científicos, pacientes, investigadores, responsables políticos y desarrolladores de sistemas de IA similares. Por tanto, la tarjeta modelo puede presuponer cierto conocimiento de la atención sanitaria y de los sistemas de IA."
   ]
  },
  {
   "cell_type": "markdown",
   "id": "b5a38c66",
   "metadata": {
    "papermill": {
     "duration": 0.001631,
     "end_time": "2023-04-20T17:46:35.892907",
     "exception": false,
     "start_time": "2023-04-20T17:46:35.891276",
     "status": "completed"
    },
    "tags": []
   },
   "source": [
    "# ¿Qué secciones debe contener una ficha modelo?\n",
    "\n",
    "Según el documento original, una tarjeta modelo debe tener las nueve secciones siguientes. Tenga en cuenta que las distintas organizaciones pueden añadir, quitar o reorganizar las secciones de la tarjeta modelo en función de sus necesidades.\n",
    "\n",
    "## 1. Detalles del modelo\n",
    "* Incluya información de fondo, como el desarrollador y la versión del modelo.\n",
    " \n",
    "## 2. Uso previsto\n",
    "- ¿Qué casos de uso se contemplan?\n",
    "- ¿Quiénes son los usuarios previstos?\n",
    "- ¿Qué casos de uso quedan fuera del ámbito de aplicación?\n",
    " \n",
    "## 3. Factores\n",
    "- ¿Qué factores afectan al impacto del modelo? Por ejemplo, los resultados del modelo de detección de sonrisas varían en función de factores demográficos como la edad, el sexo o la etnia, factores ambientales como la iluminación o la lluvia e instrumentación como el tipo de cámara.\n",
    " \n",
    "## 4. Métricas\n",
    "- ¿Qué parámetros utiliza para medir el rendimiento del modelo? ¿Por qué ha elegido esas métricas?\n",
    "  - Para los sistemas de **clasificación** -en los que la salida es una etiqueta de clase- los tipos de error potenciales incluyen la tasa de falsos positivos, la tasa de falsos negativos, la tasa de falsos descubrimientos y la tasa de falsas omisiones. La importancia relativa de cada uno de ellos depende del caso de uso.\n",
    "  - Para los **análisis basados en puntuaciones** -en los que el resultado es una puntuación o un precio- considere la posibilidad de informar sobre el rendimiento del modelo en todos los grupos.\n",
    "\n",
    " \n",
    "## 5. Datos de evaluación\n",
    "- ¿Qué conjuntos de datos utilizó para evaluar el rendimiento del modelo?  Proporcione los conjuntos de datos si puede.\n",
    "- ¿Por qué eligió estos conjuntos de datos para la evaluación?\n",
    "- ¿Son los conjuntos de datos representativos de casos de uso típicos, casos de prueba previstos y/o casos difíciles?\n",
    " \n",
    "## 6. Datos de entrenamiento\n",
    "- ¿Con qué datos se ha entrenado el modelo?\n",
    " \n",
    "## 7. Análisis cuantitativos\n",
    "- ¿Cómo ha funcionado el modelo según las métricas elegidas? Desglose el rendimiento por factores importantes y sus intersecciones. Por ejemplo, en el ejemplo de detección de sonrisas, el rendimiento se desglosa por edad (p. ej., joven, mayor), sexo (p. ej., femenino, masculino) y, a continuación, ambos (p. ej., mayor-femenino, mayor-masculino, joven-femenino, joven-masculino).\n",
    " \n",
    "## 8. Consideraciones éticas\n",
    "- Describa las consideraciones éticas relacionadas con el modelo, como los datos sensibles utilizados para entrenar el modelo, si el modelo tiene implicaciones para la vida humana, la salud o la seguridad, cómo se mitigó el riesgo y qué daños pueden estar presentes en el uso del modelo.\n",
    " \n",
    "## 9. Advertencias y recomendaciones\n",
    "- Añada cualquier cosa importante que no haya tratado en otra parte de la ficha del modelo."
   ]
  }
 ],
 "metadata": {
  "kernelspec": {
   "display_name": "Python 3",
   "language": "python",
   "name": "python3"
  },
  "language_info": {
   "codemirror_mode": {
    "name": "ipython",
    "version": 3
   },
   "file_extension": ".py",
   "mimetype": "text/x-python",
   "name": "python",
   "nbconvert_exporter": "python",
   "pygments_lexer": "ipython3",
   "version": "3.7.12"
  },
  "papermill": {
   "default_parameters": {},
   "duration": 9.144979,
   "end_time": "2023-04-20T17:46:36.525368",
   "environment_variables": {},
   "exception": null,
   "input_path": "__notebook__.ipynb",
   "output_path": "__notebook__.ipynb",
   "parameters": {},
   "start_time": "2023-04-20T17:46:27.380389",
   "version": "2.2.2"
  }
 },
 "nbformat": 4,
 "nbformat_minor": 5
}
