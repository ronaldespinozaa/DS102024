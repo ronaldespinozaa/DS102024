{
 "cells": [
  {
   "cell_type": "markdown",
   "id": "7c6869d9",
   "metadata": {},
   "source": [
    "# Optimización de Hiperparámetros en Machine Learning\n",
    "\n",
    "Este notebook explora diferentes técnicas de optimización de hiperparámetros usando el dataset del Titanic:\n",
    "1. GridSearchCV\n",
    "2. RandomizedSearchCV\n",
    "3. Optimización Bayesiana (con scikit-optimize)\n",
    "4. Optuna\n",
    "\n",
    "## Preparación de datos y configuración inicial"
   ]
  },
  {
   "cell_type": "code",
   "execution_count": null,
   "id": "75b82abf",
   "metadata": {
    "lines_to_next_cell": 1
   },
   "outputs": [],
   "source": [
    "# Importamos las bibliotecas necesarias\n",
    "import numpy as np\n",
    "import pandas as pd\n",
    "from sklearn.model_selection import train_test_split, cross_val_score\n",
    "from sklearn.preprocessing import StandardScaler\n",
    "from sklearn.ensemble import RandomForestClassifier\n",
    "from sklearn.metrics import accuracy_score, classification_report\n",
    "import warnings\n",
    "warnings.filterwarnings('ignore')"
   ]
  },
  {
   "cell_type": "code",
   "execution_count": null,
   "id": "16604094",
   "metadata": {
    "lines_to_next_cell": 1
   },
   "outputs": [],
   "source": [
    "# Cargamos y preparamos los datos del Titanic\n",
    "def preparar_datos_titanic():\n",
    "    # Cargamos los datos\n",
    "    df = pd.read_csv('https://raw.githubusercontent.com/datasciencedojo/datasets/master/titanic.csv')\n",
    "\n",
    "    # Preprocesamiento básico\n",
    "    df['Age'].fillna(df['Age'].median(), inplace=True)\n",
    "    df['Embarked'].fillna(df['Embarked'].mode()[0], inplace=True)\n",
    "\n",
    "    # Codificación de variables categóricas\n",
    "    df['Sex'] = df['Sex'].map({'female': 1, 'male': 0})\n",
    "    embarked_dummies = pd.get_dummies(df['Embarked'], prefix='Embarked')\n",
    "    df = pd.concat([df, embarked_dummies], axis=1)\n",
    "\n",
    "    # Seleccionamos características\n",
    "    features = ['Pclass', 'Sex', 'Age', 'SibSp', 'Parch', 'Fare',\n",
    "               'Embarked_C', 'Embarked_Q', 'Embarked_S']\n",
    "    X = df[features]\n",
    "    y = df['Survived']\n",
    "\n",
    "    # Dividimos los datos\n",
    "    X_train, X_test, y_train, y_test = train_test_split(X, y, test_size=0.2, random_state=42)\n",
    "\n",
    "    # Escalamos las características\n",
    "    scaler = StandardScaler()\n",
    "    X_train_scaled = scaler.fit_transform(X_train)\n",
    "    X_test_scaled = scaler.transform(X_test)\n",
    "\n",
    "    return X_train_scaled, X_test_scaled, y_train, y_test"
   ]
  },
  {
   "cell_type": "code",
   "execution_count": null,
   "id": "b960bb08",
   "metadata": {},
   "outputs": [],
   "source": [
    "# Cargamos los datos\n",
    "X_train, X_test, y_train, y_test = preparar_datos_titanic()"
   ]
  },
  {
   "cell_type": "markdown",
   "id": "99d856de",
   "metadata": {},
   "source": [
    "## 1. GridSearchCV\n",
    "Búsqueda exhaustiva en una cuadrícula de hiperparámetros"
   ]
  },
  {
   "cell_type": "code",
   "execution_count": null,
   "id": "7a01957b",
   "metadata": {},
   "outputs": [],
   "source": [
    "from sklearn.model_selection import GridSearchCV\n",
    "\n",
    "# Definimos el espacio de búsqueda\n",
    "param_grid = {\n",
    "    'n_estimators': [100, 200, 300],\n",
    "    'max_depth': [10, 20, 30, None],\n",
    "    'min_samples_split': [2, 5, 10],\n",
    "    'min_samples_leaf': [1, 2, 4]\n",
    "}\n",
    "\n",
    "# Creamos y ejecutamos GridSearchCV\n",
    "rf = RandomForestClassifier(random_state=42)\n",
    "grid_search = GridSearchCV(rf, param_grid, cv=5, scoring='accuracy', n_jobs=-1)\n",
    "grid_search.fit(X_train, y_train)\n",
    "\n",
    "# Evaluamos los resultados\n",
    "print(\"Mejores parámetros (Grid):\", grid_search.best_params_)\n",
    "print(\"Mejor puntuación (Grid):\", grid_search.best_score_)\n",
    "y_pred_grid = grid_search.predict(X_test)\n",
    "print(\"\\nInforme de clasificación (Grid):\")\n",
    "print(classification_report(y_test, y_pred_grid))"
   ]
  },
  {
   "cell_type": "markdown",
   "id": "d3aec54c",
   "metadata": {},
   "source": [
    "## 2. RandomizedSearchCV\n",
    "Búsqueda aleatoria en el espacio de hiperparámetros"
   ]
  },
  {
   "cell_type": "code",
   "execution_count": null,
   "id": "6512a1d2",
   "metadata": {},
   "outputs": [],
   "source": [
    "from sklearn.model_selection import RandomizedSearchCV\n",
    "from scipy.stats import randint, uniform\n",
    "\n",
    "# Definimos distribuciones para los parámetros\n",
    "param_distributions = {\n",
    "    'n_estimators': randint(100, 500),\n",
    "    'max_depth': randint(10, 50),\n",
    "    'min_samples_split': randint(2, 15),\n",
    "    'min_samples_leaf': randint(1, 10)\n",
    "}\n",
    "\n",
    "# Creamos y ejecutamos RandomizedSearchCV\n",
    "random_search = RandomizedSearchCV(\n",
    "    rf, param_distributions, n_iter=20, cv=5,\n",
    "    scoring='accuracy', n_jobs=-1, random_state=42\n",
    ")\n",
    "random_search.fit(X_train, y_train)\n",
    "\n",
    "# Evaluamos los resultados\n",
    "print(\"Mejores parámetros (Random):\", random_search.best_params_)\n",
    "print(\"Mejor puntuación (Random):\", random_search.best_score_)\n",
    "y_pred_random = random_search.predict(X_test)\n",
    "print(\"\\nInforme de clasificación (Random):\")\n",
    "print(classification_report(y_test, y_pred_random))"
   ]
  },
  {
   "cell_type": "markdown",
   "id": "3f266c22",
   "metadata": {},
   "source": [
    "## 3. Optimización Bayesiana\n",
    "Usando scikit-optimize para búsqueda más eficiente"
   ]
  },
  {
   "cell_type": "code",
   "execution_count": null,
   "id": "43b936f2",
   "metadata": {},
   "outputs": [],
   "source": [
    "from skopt import BayesSearchCV\n",
    "from skopt.space import Integer, Real\n",
    "\n",
    "# Definimos el espacio de búsqueda\n",
    "bayes_space = {\n",
    "    'n_estimators': Integer(100, 500),\n",
    "    'max_depth': Integer(10, 50),\n",
    "    'min_samples_split': Integer(2, 15),\n",
    "    'min_samples_leaf': Integer(1, 10)\n",
    "}\n",
    "\n",
    "# Creamos y ejecutamos BayesSearchCV\n",
    "bayes_search = BayesSearchCV(\n",
    "    rf, bayes_space, n_iter=20, cv=5,\n",
    "    scoring='accuracy', n_jobs=-1, random_state=42\n",
    ")\n",
    "bayes_search.fit(X_train, y_train)\n",
    "\n",
    "# Evaluamos los resultados\n",
    "print(\"Mejores parámetros (Bayes):\", bayes_search.best_params_)\n",
    "print(\"Mejor puntuación (Bayes):\", bayes_search.best_score_)\n",
    "y_pred_bayes = bayes_search.predict(X_test)\n",
    "print(\"\\nInforme de clasificación (Bayes):\")\n",
    "print(classification_report(y_test, y_pred_bayes))"
   ]
  },
  {
   "cell_type": "markdown",
   "id": "80da5768",
   "metadata": {},
   "source": [
    "## 4. Optuna\n",
    "Framework de optimización automática de hiperparámetros"
   ]
  },
  {
   "cell_type": "code",
   "execution_count": null,
   "id": "fc9394a7",
   "metadata": {},
   "outputs": [],
   "source": [
    "import optuna\n",
    "\n",
    "def objetivo(trial):\n",
    "    # Definimos el espacio de búsqueda\n",
    "    params = {\n",
    "        'n_estimators': trial.suggest_int('n_estimators', 100, 500),\n",
    "        'max_depth': trial.suggest_int('max_depth', 10, 50),\n",
    "        'min_samples_split': trial.suggest_int('min_samples_split', 2, 15),\n",
    "        'min_samples_leaf': trial.suggest_int('min_samples_leaf', 1, 10)\n",
    "    }\n",
    "\n",
    "    # Creamos y entrenamos el modelo\n",
    "    rf = RandomForestClassifier(**params, random_state=42)\n",
    "\n",
    "    # Evaluamos usando validación cruzada\n",
    "    scores = cross_val_score(rf, X_train, y_train, cv=5, scoring='accuracy')\n",
    "    return scores.mean()\n",
    "\n",
    "# Creamos y ejecutamos el estudio de Optuna\n",
    "study = optuna.create_study(direction='maximize')\n",
    "study.optimize(objetivo, n_trials=20)\n",
    "\n",
    "# Evaluamos los resultados\n",
    "print(\"Mejores parámetros (Optuna):\", study.best_params)\n",
    "print(\"Mejor puntuación (Optuna):\", study.best_value)\n",
    "\n",
    "# Entrenamos el modelo final con los mejores parámetros\n",
    "rf_final = RandomForestClassifier(**study.best_params, random_state=42)\n",
    "rf_final.fit(X_train, y_train)\n",
    "y_pred_optuna = rf_final.predict(X_test)\n",
    "print(\"\\nInforme de clasificación (Optuna):\")\n",
    "print(classification_report(y_test, y_pred_optuna))"
   ]
  },
  {
   "cell_type": "markdown",
   "id": "47ba44be",
   "metadata": {},
   "source": [
    "## Comparación de Resultados"
   ]
  },
  {
   "cell_type": "code",
   "execution_count": null,
   "id": "7a21d102",
   "metadata": {},
   "outputs": [],
   "source": [
    "# Creamos un DataFrame con los resultados\n",
    "resultados = pd.DataFrame({\n",
    "    'Método': ['GridSearchCV', 'RandomizedSearchCV', 'BayesSearchCV', 'Optuna'],\n",
    "    'Accuracy': [\n",
    "        accuracy_score(y_test, y_pred_grid),\n",
    "        accuracy_score(y_test, y_pred_random),\n",
    "        accuracy_score(y_test, y_pred_bayes),\n",
    "        accuracy_score(y_test, y_pred_optuna)\n",
    "    ]\n",
    "})\n",
    "\n",
    "print(\"Comparación de resultados:\")\n",
    "print(resultados)"
   ]
  },
  {
   "cell_type": "markdown",
   "id": "efe87d74",
   "metadata": {},
   "source": [
    "## Conclusiones\n",
    "\n",
    "Este notebook demuestra diferentes métodos de optimización de hiperparámetros:\n",
    "\n",
    "1. GridSearchCV: Búsqueda exhaustiva pero computacionalmente costosa\n",
    "2. RandomizedSearchCV: Más eficiente que Grid Search, buenos resultados con menos tiempo\n",
    "3. Optimización Bayesiana: Búsqueda inteligente que aprende de iteraciones anteriores\n",
    "4. Optuna: Framework moderno con características avanzadas y visualización\n",
    "\n",
    "Cada método tiene sus ventajas y desventajas en términos de tiempo de computación y calidad de resultados."
   ]
  }
 ],
 "metadata": {
  "jupytext": {
   "cell_metadata_filter": "-all",
   "main_language": "python",
   "notebook_metadata_filter": "-all"
  }
 },
 "nbformat": 4,
 "nbformat_minor": 5
}
