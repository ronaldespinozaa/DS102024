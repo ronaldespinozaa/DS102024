{
 "cells": [
  {
   "cell_type": "markdown",
   "id": "e58a171c",
   "metadata": {},
   "source": [
    "## Ejercicio 1\n",
    "\n",
    "**Enunciado:** Entrena y ajusta un árbol de decisión para el conjunto de datos _moons_.\n",
    "\n",
    "a. Genera el conjunto de datos usando `make_moons(n_samples=10000, noise=0.4)`.\n",
    "\n",
    "b. Divídelo en conjunto de entrenamiento y prueba utilizando `train_test_split()`.\n",
    "\n",
    "c. Utiliza _GridSearchCV_ para buscar buenos hiperparámetros (prueba varios valores de `max_leaf_nodes`, `max_depth` y `min_samples_split`).\n",
    "\n",
    "d. Entrena el modelo con los mejores hiperparámetros y evalúa la precisión en el conjunto de prueba (se espera alrededor de 85% a 87% de precisión)."
   ]
  }
 ],
 "metadata": {
  "jupytext": {
   "cell_metadata_filter": "-all",
   "main_language": "python",
   "notebook_metadata_filter": "-all"
  },
  "language_info": {
   "name": "python"
  }
 },
 "nbformat": 4,
 "nbformat_minor": 5
}
