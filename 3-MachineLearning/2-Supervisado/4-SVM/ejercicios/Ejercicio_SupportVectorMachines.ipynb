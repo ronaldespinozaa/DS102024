{
 "cells": [
  {
   "cell_type": "markdown",
   "id": "dc59b0af",
   "metadata": {},
   "source": [
    "# Ejercicio 1.\n",
    "\n",
    "_Ejercicio: Entrena un `LinearSVC` en un conjunto de datos linealmente separable. Luego, entrena un `SVC` y un `SGDClassifier` en el mismo conjunto. Comprueba si puedes obtener modelos que sean, aproximadamente, iguales._\n",
    "\n",
    "Utilizaremos el dataset Iris, ya que las clases Iris Setosa e Iris Versicolor son linealmente separables."
   ]
  },
  {
   "cell_type": "code",
   "execution_count": null,
   "id": "a6d22bc1",
   "metadata": {},
   "outputs": [],
   "source": [
    "from sklearn import datasets\n",
    "\n",
    "iris = datasets.load_iris(as_frame=True)\n",
    "X = iris.data[[\"petal length (cm)\", \"petal width (cm)\"]].values\n",
    "y = iris.target\n",
    "\n",
    "# Filtramos para quedarnos con Iris setosa e Iris versicolor\n",
    "setosa_or_versicolor = (y == 0) | (y == 1)\n",
    "X = X[setosa_or_versicolor]\n",
    "y = y[setosa_or_versicolor]"
   ]
  },
  {
   "cell_type": "markdown",
   "id": "a2385940",
   "metadata": {},
   "source": [
    "Ahora construimos y entrenamos 3 modelos:\n",
    "- **LinearSVC**: se utiliza con `loss=\"hinge\"` para que sea comparable.\n",
    "- **SVC**: se especifica `kernel=\"linear\"` para que sea equivalente.\n",
    "- **SGDClassifier**: se ajusta el parámetro `alpha` para que la regularización sea similar a la de los otros modelos."
   ]
  },
  {
   "cell_type": "code",
   "execution_count": null,
   "id": "f36c4c60",
   "metadata": {
    "lines_to_next_cell": 1
   },
   "outputs": [],
   "source": [
    "from sklearn.svm import SVC, LinearSVC\n",
    "from sklearn.linear_model import SGDClassifier\n",
    "from sklearn.preprocessing import StandardScaler\n",
    "\n",
    "C = 5\n",
    "alpha = 0.05\n",
    "\n",
    "scaler = StandardScaler()\n",
    "X_scaled = scaler.fit_transform(X)\n",
    "\n",
    "lin_clf = LinearSVC().fit()\n",
    "svc_clf = SVC().fit()\n",
    "sgd_clf = SGDClassifier().fit()"
   ]
  },
  {
   "cell_type": "markdown",
   "id": "ed658ba1",
   "metadata": {},
   "source": [
    "Visualizamos las fronteras de decisión de los tres modelos."
   ]
  },
  {
   "cell_type": "code",
   "execution_count": null,
   "id": "18e25fd1",
   "metadata": {},
   "outputs": [],
   "source": [
    "def compute_decision_boundary(model):\n",
    "    \"\"\"\n",
    "    Calcula dos puntos en el espacio original (desescalado) que definen la línea de decisión.\n",
    "    \"\"\"\n",
    "    w = -model.coef_[0, 0] / model.coef_[0, 1]\n",
    "    b = -model.intercept_[0] / model.coef_[0, 1]\n",
    "    return scaler.inverse_transform([[-10, -10 * w + b], [10, 10 * w + b]])\n",
    "\n",
    "lin_line = compute_decision_boundary()\n",
    "svc_line = compute_decision_boundary()\n",
    "sgd_line = compute_decision_boundary()\n",
    "\n",
    "# Dibujamos las fronteras de decisión de los tres modelos\n",
    "plt.figure(figsize=(11, 4))\n",
    "plt.plot(lin_line[:, 0], lin_line[:, 1], \"k:\", label=\"LinearSVC\")\n",
    "plt.plot(svc_line[:, 0], svc_line[:, 1], \"b--\", linewidth=2, label=\"SVC\")\n",
    "plt.plot(sgd_line[:, 0], sgd_line[:, 1], \"r-\", label=\"SGDClassifier\")\n",
    "plt.plot(X[:, 0][y == 1], X[:, 1][y == 1], \"bs\", label=\"Iris versicolor\")\n",
    "plt.plot(X[:, 0][y == 0], X[:, 1][y == 0], \"yo\", label=\"Iris setosa\")\n",
    "plt.xlabel(\"Longitud del pétalo\")\n",
    "plt.ylabel(\"Ancho del pétalo\")\n",
    "plt.legend(loc=\"upper center\")\n",
    "plt.axis([0, 5.5, 0, 2])\n",
    "plt.grid()\n",
    "\n",
    "plt.show()"
   ]
  },
  {
   "cell_type": "markdown",
   "id": "9488ae85",
   "metadata": {},
   "source": [
    "¡Las fronteras resultantes son bastante similares!"
   ]
  },
  {
   "cell_type": "markdown",
   "id": "0e3e0776",
   "metadata": {},
   "source": [
    "# Ejercicio 10.\n",
    "\n",
    "_Ejercicio: Entrena un clasificador SVM en el dataset Wine (disponible con `sklearn.datasets.load_wine()`). Este dataset contiene análisis químicos de 178 muestras de vino producidas por 3 cultivares distintos. El objetivo es entrenar un modelo capaz de predecir el cultivador basándose en el análisis químico. Dado que las SVM son clasificadores binarios, se debe usar una estrategia uno-contra-todos. ¿Qué precisión puedes alcanzar?_"
   ]
  },
  {
   "cell_type": "code",
   "execution_count": null,
   "id": "f6516040",
   "metadata": {},
   "outputs": [],
   "source": [
    "from sklearn.datasets import load_wine\n",
    "\n",
    "wine = load_wine(as_frame=True)"
   ]
  },
  {
   "cell_type": "code",
   "execution_count": null,
   "id": "8dcb4c6d",
   "metadata": {},
   "outputs": [],
   "source": [
    "print(wine.DESCR)"
   ]
  },
  {
   "cell_type": "code",
   "execution_count": null,
   "id": "5871d46d",
   "metadata": {},
   "outputs": [],
   "source": [
    "from sklearn.model_selection import train_test_split\n",
    "\n",
    "X_train, X_test, y_train, y_test = train_test_split(\n",
    "    wine.data, wine.target, random_state=42)"
   ]
  },
  {
   "cell_type": "code",
   "execution_count": null,
   "id": "46d8dcb8",
   "metadata": {},
   "outputs": [],
   "source": [
    "X_train.head()"
   ]
  },
  {
   "cell_type": "code",
   "execution_count": null,
   "id": "2f78102a",
   "metadata": {},
   "outputs": [],
   "source": [
    "y_train.head()"
   ]
  },
  {
   "cell_type": "markdown",
   "id": "aca164e0",
   "metadata": {},
   "source": [
    "Empezamos con un clasificador SVM lineal. Al usar LinearSVC se aplica la estrategia One-vs-Rest (uno-contra-todos) de forma automática."
   ]
  },
  {
   "cell_type": "code",
   "execution_count": null,
   "id": "85c381ea",
   "metadata": {},
   "outputs": [],
   "source": [
    "lin_clf = LinearSVC(dual=True, random_state=42)\n",
    "# Entrenamiento sin escalar: es probable que falle la convergencia\n",
    "try:\n",
    "    lin_clf.fit(X_train, y_train)\n",
    "except Exception as e:\n",
    "    print(\"Error de convergencia:\", e)"
   ]
  },
  {
   "cell_type": "markdown",
   "id": "d3674294",
   "metadata": {},
   "source": [
    "Aumentar el número de iteraciones a un millón, el modelo converge?."
   ]
  },
  {
   "cell_type": "code",
   "execution_count": null,
   "id": "514b8a20",
   "metadata": {},
   "outputs": [],
   "source": [
    "lin_clf = LinearSVC(dual=True, random_state=42)\n",
    "lin_clf.fit(X_train, y_train)"
   ]
  },
  {
   "cell_type": "markdown",
   "id": "521d87db",
   "metadata": {},
   "source": [
    "Evaluamos el modelo con validación cruzada (baseline):\n"
   ]
  },
  {
   "cell_type": "code",
   "execution_count": null,
   "id": "d8078d0e",
   "metadata": {},
   "outputs": [],
   "source": [
    "from sklearn.model_selection import cross_val_score\n",
    "\n",
    "score_lin = cross_val_score()\n",
    "print(\"Precisión sin escalar (LinearSVC):\", score_lin)"
   ]
  },
  {
   "cell_type": "markdown",
   "id": "7698afeb",
   "metadata": {},
   "source": [
    "La precisión obtenida es de aproximadamente 91%, lo cual no es óptimo. Que olvidamos?"
   ]
  },
  {
   "cell_type": "code",
   "execution_count": null,
   "id": "cb74e302",
   "metadata": {},
   "outputs": [],
   "source": []
  },
  {
   "cell_type": "markdown",
   "id": "1f98911e",
   "metadata": {},
   "source": [
    "Ahora, el modelo converge sin problemas. Evaluamos su rendimiento:"
   ]
  },
  {
   "cell_type": "code",
   "execution_count": null,
   "id": "b86af630",
   "metadata": {},
   "outputs": [],
   "source": [
    "score_lin_scaled = cross_val_score()\n",
    "print(\"Precisión con escalado (LinearSVC):\", score_lin_scaled)"
   ]
  },
  {
   "cell_type": "markdown",
   "id": "a490c631",
   "metadata": {},
   "source": [
    "Se alcanza una precisión de alrededor del 97.7%, lo cual es muy bueno.\n",
    "\n",
    "Probamos a continuación un SVM con núcleo (SVC) para ver si mejora:"
   ]
  },
  {
   "cell_type": "code",
   "execution_count": null,
   "id": "01168dd6",
   "metadata": {},
   "outputs": [],
   "source": [
    "score_svc = cross_val_score()\n",
    "print(\"Precisión (SVC) sin ajuste:\", score_svc)"
   ]
  },
  {
   "cell_type": "markdown",
   "id": "176b3169",
   "metadata": {},
   "source": [
    "Aunque no mejora, podemos ajustar los hiperparámetros para obtener mejores resultados:"
   ]
  },
  {
   "cell_type": "markdown",
   "id": "b9412cc9",
   "metadata": {},
   "source": [
    "**NOTA:** _Optimización clases no vistas todavía_"
   ]
  },
  {
   "cell_type": "code",
   "execution_count": null,
   "id": "f8b70e60",
   "metadata": {},
   "outputs": [],
   "source": [
    "from sklearn.model_selection import RandomizedSearchCV\n",
    "from scipy.stats import loguniform, uniform\n",
    "\n",
    "param_distrib = {\n",
    "    \"svc__gamma\": loguniform(0.001, 0.1),\n",
    "    \"svc__C\": uniform(1, 10)\n",
    "}\n",
    "rnd_search_cv = RandomizedSearchCV(svm_clf, param_distrib, n_iter=100, cv=5, random_state=42)\n",
    "rnd_search_cv.fit(X_train, y_train)\n",
    "print(\"Mejor estimador:\", rnd_search_cv.best_estimator_)"
   ]
  },
  {
   "cell_type": "code",
   "execution_count": null,
   "id": "35c4c560",
   "metadata": {},
   "outputs": [],
   "source": [
    "print(\"Precisión en CV (SVC ajustado):\", rnd_search_cv.best_score_)"
   ]
  },
  {
   "cell_type": "markdown",
   "id": "14d426db",
   "metadata": {},
   "source": [
    "El modelo SVC ajustado tiene un buen desempeño. Ahora lo evaluamos en el conjunto de prueba:"
   ]
  },
  {
   "cell_type": "code",
   "execution_count": null,
   "id": "b8c2f2f2",
   "metadata": {},
   "outputs": [],
   "source": [
    "test_score = rnd_search_cv.score(X_test, y_test)\n",
    "print(\"Precisión en el conjunto de prueba:\", test_score)"
   ]
  },
  {
   "cell_type": "markdown",
   "id": "23a3c50c",
   "metadata": {},
   "source": [
    "Aunque el SVC ajustado supera al LinearSVC en validación cruzada, el rendimiento en el conjunto de prueba es un poco menor, lo que puede deberse a un leve sobreajuste durante el ajuste de hiperparámetros. En cualquier caso, el resultado es aceptable."
   ]
  },
  {
   "cell_type": "markdown",
   "id": "1554f896",
   "metadata": {},
   "source": [
    "# Ejercicio 11.\n",
    "\n",
    "_Ejercicio: Entrena y ajusta un regresor SVM en el dataset de California Housing. Puedes utilizar el dataset original (disponible con `sklearn.datasets.fetch_california_housing()`). Los objetivos representan cientos de miles de dólares. Debido a que hay más de 20,000 instancias, las SVM pueden ser lentas, por lo que para la sintonización de hiperparámetros se recomienda usar menos instancias (por ejemplo, 2,000). ¿Cuál es el RMSE de tu mejor modelo?_"
   ]
  },
  {
   "cell_type": "code",
   "execution_count": null,
   "id": "62874793",
   "metadata": {},
   "outputs": [],
   "source": [
    "from sklearn.datasets import fetch_california_housing\n",
    "\n",
    "housing = fetch_california_housing()\n",
    "X = housing.data\n",
    "y = housing.target"
   ]
  },
  {
   "cell_type": "markdown",
   "id": "8239a474",
   "metadata": {},
   "source": [
    "Dividimos el dataset en entrenamiento y prueba:"
   ]
  },
  {
   "cell_type": "code",
   "execution_count": null,
   "id": "77074a04",
   "metadata": {},
   "outputs": [],
   "source": [
    "from sklearn.model_selection import train_test_split\n",
    "\n",
    "X_train, X_test, y_train, y_test = train_test_split(X, y, test_size=0.2, random_state=42)"
   ]
  },
  {
   "cell_type": "markdown",
   "id": "124f70a3",
   "metadata": {},
   "source": [
    "Recuerda que es fundamental escalar los datos cuando se usan SVM."
   ]
  },
  {
   "cell_type": "markdown",
   "id": "7ed02185",
   "metadata": {},
   "source": [
    "Empezamos con un modelo simple de regresión lineal utilizando LinearSVR:"
   ]
  },
  {
   "cell_type": "code",
   "execution_count": null,
   "id": "fd555e90",
   "metadata": {},
   "outputs": [],
   "source": [
    "from sklearn.svm import LinearSVR\n",
    "\n",
    "lin_svr.fit(X_train, y_train)"
   ]
  },
  {
   "cell_type": "markdown",
   "id": "7d439873",
   "metadata": {},
   "source": [
    "Si no converge, incrementamos el número máximo de iteraciones:"
   ]
  },
  {
   "cell_type": "code",
   "execution_count": null,
   "id": "c0f542dd",
   "metadata": {},
   "outputs": [],
   "source": [
    "lin_svr.fit(X_train, y_train)"
   ]
  },
  {
   "cell_type": "markdown",
   "id": "99800be6",
   "metadata": {},
   "source": [
    "Evaluamos el rendimiento en el conjunto de entrenamiento:"
   ]
  },
  {
   "cell_type": "code",
   "execution_count": null,
   "id": "4ee90de0",
   "metadata": {},
   "outputs": [],
   "source": [
    "from sklearn.metrics import root_mean_squared_error\n",
    "\n",
    "y_pred = lin_svr.predict(X_train)\n",
    "rmse = root_mean_squared_error(y_train, y_pred)\n",
    "print(\"RMSE (LinearSVR):\", rmse)"
   ]
  },
  {
   "cell_type": "markdown",
   "id": "8223b624",
   "metadata": {},
   "source": [
    "Dado que en este dataset los objetivos representan cientos de miles de dólares, el RMSE indica el error esperado (por ejemplo, errores de ~98,000 dólares no serían sorprendentes). Probemos a mejorar el resultado usando un SVM con núcleo RBF.\n",
    "\n",
    "Utilizaremos búsqueda aleatoria con validación cruzada para ajustar los hiperparámetros `C` y `gamma`."
   ]
  },
  {
   "cell_type": "markdown",
   "id": "4ced57bc",
   "metadata": {},
   "source": [
    "**NOTA:** _Optimización no vista aún_"
   ]
  },
  {
   "cell_type": "code",
   "execution_count": null,
   "id": "c8cf0824",
   "metadata": {},
   "outputs": [],
   "source": [
    "from sklearn.svm import SVR\n",
    "from sklearn.model_selection import RandomizedSearchCV\n",
    "from scipy.stats import loguniform, uniform\n",
    "\n",
    "\n",
    "param_distrib = {\n",
    "    \"svr__gamma\": loguniform(0.001, 0.1),\n",
    "    \"svr__C\": uniform(1, 10)\n",
    "}\n",
    "# Utilizamos solo las primeras 2000 instancias para la sintonización\n",
    "rnd_search_cv = RandomizedSearchCV(svm_reg, param_distrib, n_iter=100, cv=3, random_state=42)\n",
    "rnd_search_cv.fit(X_train[:2000], y_train[:2000])"
   ]
  },
  {
   "cell_type": "code",
   "execution_count": null,
   "id": "6ef08651",
   "metadata": {},
   "outputs": [],
   "source": [
    "print(\"Mejor estimador (SVR ajustado):\", rnd_search_cv.best_estimator_)"
   ]
  },
  {
   "cell_type": "code",
   "execution_count": null,
   "id": "2eb1556b",
   "metadata": {},
   "outputs": [],
   "source": [
    "# Evaluamos mediante validación cruzada en el conjunto de entrenamiento\n",
    "cv_scores = -cross_val_score(rnd_search_cv.best_estimator_, X_train, y_train, scoring=\"neg_root_mean_squared_error\")\n",
    "print(\"RMSE CV (SVR ajustado):\", cv_scores.mean())"
   ]
  },
  {
   "cell_type": "markdown",
   "id": "c0562e0a",
   "metadata": {},
   "source": [
    "El modelo ajustado con núcleo RBF muestra un RMSE considerablemente menor en validación cruzada.\n",
    "\n",
    "Ahora lo evaluamos en el conjunto de prueba:"
   ]
  },
  {
   "cell_type": "code",
   "execution_count": null,
   "id": "19731f1b",
   "metadata": {},
   "outputs": [],
   "source": [
    "y_pred = rnd_search_cv.best_estimator_.predict(X_test)\n",
    "rmse_test = root_mean_squared_error(y_test, y_pred, squared=False)\n",
    "print(\"RMSE en el conjunto de prueba (SVR ajustado):\", rmse_test)"
   ]
  },
  {
   "cell_type": "markdown",
   "id": "57d6a225",
   "metadata": {},
   "source": [
    "En este caso, las SVM funcionan muy bien para el dataset Wine, pero en el dataset California Housing otros métodos (por ejemplo, Random Forests) pueden superar su rendimiento.\n",
    "\n",
    "¡Y eso es todo por hoy!"
   ]
  }
 ],
 "metadata": {
  "jupytext": {
   "cell_metadata_filter": "-all",
   "main_language": "python",
   "notebook_metadata_filter": "-all"
  },
  "language_info": {
   "name": "python"
  }
 },
 "nbformat": 4,
 "nbformat_minor": 5
}
