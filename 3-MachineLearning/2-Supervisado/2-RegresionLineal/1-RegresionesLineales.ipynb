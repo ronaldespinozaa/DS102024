{
 "cells": [
  {
   "cell_type": "markdown",
   "metadata": {},
   "source": [
    "# **Regresiones Lineales**"
   ]
  },
  {
   "cell_type": "markdown",
   "metadata": {},
   "source": [
    "Comenzaremos con el análisis del modelo de regresión lineal, uno de los más simples que existen. Exploraremos dos métodos diferentes para entrenarlo:\n",
    "\n",
    "- Ecuación de \"forma cerrada\": Este método calcula directamente los parámetros del modelo que mejor se ajustan al conjunto de entrenamiento, minimizando la función de coste.\n",
    "\n",
    "- Descenso de gradiente (DG): Un método de optimización iterativo que ajusta gradualmente los parámetros del modelo para minimizar la función de coste, convergiendo finalmente a los mismos parámetros que el primer método.\n",
    "\n",
    "Luego, estudiaremos la regresión polinómica, un modelo más complejo que puede ajustarse a conjuntos de datos no lineales. Dado que este modelo tiene más parámetros que la regresión lineal, es más propenso al sobreajuste. Exploraremos cómo detectar el sobreajuste utilizando curvas de aprendizaje y luego veremos varias técnicas de regularización para reducir este riesgo.\n",
    "\n",
    "Finalmente, examinaremos otros dos modelos comúnmente utilizados para tareas de clasificación: la regresión logística y la regresión softmax."
   ]
  },
  {
   "cell_type": "markdown",
   "metadata": {},
   "source": [
    "# Regresión lineal"
   ]
  },
  {
   "cell_type": "markdown",
   "metadata": {},
   "source": [
    "Se puede expresar de manera más concisa usando una forma vectorizada:\n",
    "\n",
    "$$\\hat{y} = ℎ_{θ}(x) = θ · x$$\n",
    "\n",
    "En esta ecuación:\n",
    "\n",
    "- $h_{θ}$ es la función de hipótesis usando los parámetros del modelo $θ$.\n",
    "- $θ$ es el vector de parámetros, que incluye el sesgo $θ₀$ y los pesos $θ₁$ a $θ_n$.\n",
    "- $x$ es el vector de características, que incluye $x₀$ a $x_n$, con $x₀ = 1$.\n",
    "- $θ \\cdot x$ es el producto punto de los vectores $θ$ y $x$, lo que equivale a $θ₀x₀ + θ₁x₁ + ... + θ_nx_n$.\n",
    "\n",
    "En Machine Learning, los vectores suelen representarse como vectores columna. Si $θ$ y $x$ son vectores columna, la predicción es:\n",
    "\n",
    "$$\\hat{𝑦}=𝜃^⊺\\times𝑥$$\n",
    "\n",
    "Aquí, $θ^⊺$ es la transpuesta de $θ$ (vector fila), y $θ^⊺ \\times x$ es la multiplicación de matrices, que da el mismo resultado que el producto punto, pero como una matriz de una sola celda en lugar de un escalar.\n",
    "\n",
    "Entrenamiento del modelo: Para entrenar un modelo de regresión lineal, necesitamos ajustar sus parámetros para que el modelo se ajuste mejor al conjunto de entrenamiento. Esto se logra minimizando el error cuadrático medio (MSE):\n",
    "\n",
    "$$𝑀𝑆𝐸(𝜃)=\\frac{1}{𝑚}\\sum_{i=1}{𝑚}(𝜃⊺𝑥𝑖−𝑦𝑖)2$$\n",
    " \n",
    "\n",
    "Donde $m$ es el número de instancias en el conjunto de entrenamiento, $x_{i}$ es el vector de características de la $i$-ésima instancia, y $y_{i}$ es el valor objetivo correspondiente.\n",
    "\n",
    "Para simplificar, escribimos $MSE(θ)$ en lugar de $MSE(X, h_{θ})$, ya que la función está parametrizada por $θ$.\n",
    "\n",
    "Este enfoque es común porque minimizar el MSE es más sencillo que minimizar el RMSE y conduce al mismo resultado.\n",
    "\n",
    "Nota: A menudo, en Machine Learning, la función de pérdida optimizada durante el entrenamiento es diferente de la métrica de rendimiento final. Esto se hace porque la función de pérdida es más fácil de optimizar y puede incluir términos adicionales para regularización."
   ]
  },
  {
   "cell_type": "markdown",
   "metadata": {},
   "source": [
    "## La Ecuación Normal"
   ]
  },
  {
   "cell_type": "markdown",
   "metadata": {},
   "source": [
    "Para encontrar el valor de $θ$ que minimiza el $MSE$, existe una solución de forma cerrada, es decir, una ecuación matemática que da el resultado directamente. Esto se conoce como la ecuación normal.\n",
    "\n",
    "$$\\hat{θ} = (X^⊺X)^{−1}X^⊺y$$\n",
    "\n",
    "En esta ecuación:\n",
    "\n",
    "$\\hat{θ}$ es el valor de $θ$ que minimiza la función de costo.\n",
    "$y$ es el vector de valores objetivo que contiene $y^{(1)}$ a $y^{(m)}$"
   ]
  },
  {
   "cell_type": "code",
   "execution_count": null,
   "metadata": {},
   "outputs": [],
   "source": [
    "# Librerias\n",
    "import numpy as np\n",
    "import matplotlib.pyplot as plt"
   ]
  },
  {
   "cell_type": "code",
   "execution_count": null,
   "metadata": {},
   "outputs": [],
   "source": [
    "\n",
    "np.random.seed(42)\n",
    "m = 100 # número de instancias\n",
    "X = 2 * np.random.rand(m, 1)  \n",
    "y = 4 + 3 * X + np.random.randn(m, 1) "
   ]
  },
  {
   "cell_type": "code",
   "execution_count": null,
   "metadata": {},
   "outputs": [],
   "source": [
    "\n",
    "plt.figure(figsize=(6, 4))\n",
    "plt.plot(X, y, \"b.\")\n",
    "plt.xlabel(\"$x_1$\")\n",
    "plt.ylabel(\"$y$\", rotation=0)\n",
    "plt.axis([0, 2, 0, 15])\n",
    "plt.grid()\n",
    "plt.show()"
   ]
  },
  {
   "cell_type": "markdown",
   "metadata": {},
   "source": [
    "Ahora vamos a calcular $θ$ utilizando la ecuación Normal. Utilizaremos la función inv() del módulo álgebra lineal de NumPy (np.linalg) para calcular la inversa de una matriz, y el método dot() para la multiplicación de matrices:"
   ]
  },
  {
   "cell_type": "code",
   "execution_count": null,
   "metadata": {},
   "outputs": [],
   "source": [
    "from sklearn.preprocessing import add_dummy_feature\n",
    "\n",
    "X_b = add_dummy_feature(X)  # añade x0 = 1 a cada instancia\n",
    "theta_best = np.linalg.inv(X_b.T @ X_b) @ X_b.T @ y"
   ]
  },
  {
   "cell_type": "markdown",
   "metadata": {},
   "source": [
    "El operador @ realiza la multiplicación de matrices. Si A y B son matrices NumPy, entonces A @ B es equivalente a np.matmul(A, B). Muchas otras bibliotecas, como TensorFlow, PyTorch y JAX, también soportan el operador @. Sin embargo, no se puede utilizar @ en arrays Python puros (es decir, listas de listas)."
   ]
  },
  {
   "cell_type": "markdown",
   "metadata": {},
   "source": [
    "La función que hemos utilizado para generar los datos es $y = 4 + 3x1 + ruido \\space gaussiano$. Veamos lo que encontró la ecuación:"
   ]
  },
  {
   "cell_type": "code",
   "execution_count": null,
   "metadata": {},
   "outputs": [],
   "source": [
    "theta_best"
   ]
  },
  {
   "cell_type": "markdown",
   "metadata": {},
   "source": [
    "Habríamos esperado $θ_0 = 4$ y $θ_1 = 3$ en lugar de $θ_0 = 4,215$ y $θ_1 = 2,770$. Se acercaba bastante, pero el ruido hacía imposible recuperar los parámetros exactos de la función original. Cuanto más pequeño y ruidoso es el conjunto de datos, más difícil resulta.\n",
    "Ahora podemos hacer predicciones utilizando $θ$:"
   ]
  },
  {
   "cell_type": "code",
   "execution_count": null,
   "metadata": {},
   "outputs": [],
   "source": [
    "X_new = np.array([[0], [2]])\n",
    "X_new_b = add_dummy_feature(X_new)  # añade x0 = 1 a cada instancia\n",
    "y_predict = X_new_b @ theta_best\n",
    "y_predict"
   ]
  },
  {
   "cell_type": "code",
   "execution_count": null,
   "metadata": {},
   "outputs": [],
   "source": [
    "\n",
    "plt.figure(figsize=(6, 4))  \n",
    "plt.plot(X_new, y_predict, \"r-\", label=\"Predictions\")\n",
    "plt.plot(X, y, \"b.\")\n",
    "\n",
    "\n",
    "plt.xlabel(\"$x_1$\")\n",
    "plt.ylabel(\"$y$\", rotation=0)\n",
    "plt.axis([0, 2, 0, 15])\n",
    "plt.grid()\n",
    "plt.legend(loc=\"upper left\")\n",
    "\n",
    "plt.show()"
   ]
  },
  {
   "cell_type": "markdown",
   "metadata": {},
   "source": [
    "Realizar una regresión lineal con Scikit-Learn es relativamente sencillo:"
   ]
  },
  {
   "cell_type": "code",
   "execution_count": null,
   "metadata": {},
   "outputs": [],
   "source": [
    "from sklearn.linear_model import LinearRegression\n",
    "\n",
    "lin_reg = LinearRegression()\n",
    "lin_reg.fit(X, y)\n",
    "lin_reg.intercept_, lin_reg.coef_"
   ]
  },
  {
   "cell_type": "code",
   "execution_count": null,
   "metadata": {},
   "outputs": [],
   "source": [
    "lin_reg.predict(X_new)"
   ]
  },
  {
   "cell_type": "markdown",
   "metadata": {},
   "source": [
    "La clase `LinearRegression` se basa en la función `scipy.linalg.lstsq()` (el nombre significa \"mínimos cuadrados\"), que podrías llamar directamente:"
   ]
  },
  {
   "cell_type": "code",
   "execution_count": null,
   "metadata": {},
   "outputs": [],
   "source": [
    "theta_best_svd, residuals, rank, s = np.linalg.lstsq(X_b, y, rcond=1e-6)\n",
    "theta_best_svd"
   ]
  },
  {
   "cell_type": "markdown",
   "metadata": {},
   "source": [
    "Esta función calcula $\\mathbf{X}^+\\mathbf{y}$, donde $\\mathbf{X}^{+}$ es la _pseudoinversa_ de $\\mathbf{X}$ (concretamente la inversa de Moore-Penrose). Puede utilizar `np.linalg.pinv()` para calcular la pseudoinversa directamente:"
   ]
  },
  {
   "cell_type": "code",
   "execution_count": null,
   "metadata": {},
   "outputs": [],
   "source": [
    "np.linalg.pinv(X_b) @ y"
   ]
  },
  {
   "cell_type": "markdown",
   "metadata": {},
   "source": [
    "# Gradient Descent"
   ]
  },
  {
   "cell_type": "markdown",
   "metadata": {},
   "source": [
    "El descenso de gradiente ajusta los parámetros de un modelo para minimizar la función de coste, como bajar una montaña buscando la pendiente más pronunciada. La tasa de aprendizaje controla el tamaño de los pasos: si es muy baja, el algoritmo será lento; si es alta, puede no encontrar el mínimo.\n",
    "\n",
    "La función de coste en regresión lineal es convexa, lo que garantiza un único mínimo global que el descenso de gradiente puede alcanzar si se configura bien. Es importante escalar las características para que el algoritmo converja más rápido.\n",
    "\n",
    "Entrenar un modelo significa encontrar los parámetros que minimicen la función de coste. En regresión lineal, esto es más sencillo gracias a la convexidad de la función."
   ]
  },
  {
   "cell_type": "markdown",
   "metadata": {},
   "source": [
    "## Batch Gradient Descent"
   ]
  },
  {
   "cell_type": "markdown",
   "metadata": {},
   "source": [
    "Para implementar el descenso de gradiente, necesitas calcular el gradiente de la función de costo respecto a cada parámetro $θ_j$. Esto te indica cómo cambia la función de costo cuando ajustas $θ_j$ ligeramente. La fórmula para la derivada parcial del $MSE$ respecto a $θ_j$ es:\n",
    "\n",
    "$$\\frac{∂}{∂θ_j} MSE(θ) = \\frac{2}{m} \\sum_{i=1}^{m} (θ^⊺x^i - y^i) x_{j}^i$$\n",
    "\n",
    "El vector gradiente (que contiene todas las derivadas parciales) se calcula como:\n",
    "\n",
    "$$∇_θMSE(θ) = \\begin{bmatrix} \\frac{∂}{∂θ_0} MSE(θ) \\\\ \\frac{∂}{∂θ_1} MSE(θ) \\\\ ⋮ \\\\ \\frac{∂}{∂θ_n} MSE(θ) \\end{bmatrix} = \\frac{2}{m} X^⊺(Xθ - y) $$\n",
    "\n",
    "ste cálculo se realiza sobre todo el conjunto de entrenamiento en cada paso, por eso se llama descenso de gradiente por lotes. Es más lento en grandes conjuntos de datos, pero escala bien con muchas características.\n",
    "\n",
    "Para actualizar $θ$ y moverte cuesta abajo, restas el gradiente multiplicado por la tasa de aprendizaje $η$:\n",
    "\n",
    "$$θ^{(next step)} = θ − η∇_θ MSE(θ)$$"
   ]
  },
  {
   "cell_type": "code",
   "execution_count": null,
   "metadata": {},
   "outputs": [],
   "source": [
    "eta = 0.1  # ratio de aprendizaje\n",
    "n_epochs = 1000\n",
    "m = len(X_b)  # número de instancias\n",
    "\n",
    "np.random.seed(42)\n",
    "theta = np.random.randn(2, 1)  # parámetros del modelo inicializados aleatoriamente\n",
    "\n",
    "for epoch in range(n_epochs):\n",
    "    gradients = 2 / m * X_b.T @ (X_b @ theta - y)\n",
    "    theta = theta - eta * gradients"
   ]
  },
  {
   "cell_type": "markdown",
   "metadata": {},
   "source": [
    "No ha sido tan difícil. Cada iteración sobre el conjunto de entrenamiento se llama epoch. Veamos el theta resultante:"
   ]
  },
  {
   "cell_type": "code",
   "execution_count": null,
   "metadata": {},
   "outputs": [],
   "source": [
    "theta"
   ]
  },
  {
   "cell_type": "markdown",
   "metadata": {},
   "source": [
    "¡Eso es exactamente lo que encontró la ecuación Normal! El descenso del Gradiente ha funcionado perfectamente. Pero, ¿y si hubieras utilizado una tasa de aprendizaje (eta) diferente? La figura muestra los 20 primeros pasos del descenso del Gradiente utilizando tres tasas de aprendizaje diferentes. La línea de la parte inferior de cada gráfico representa el punto de partida aleatorio y, a continuación, cada época está representada por una línea cada vez más oscura."
   ]
  },
  {
   "cell_type": "code",
   "execution_count": null,
   "metadata": {},
   "outputs": [],
   "source": [
    "import matplotlib as mpl\n",
    "\n",
    "def plot_gradient_descent(theta, eta):\n",
    "    m = len(X_b)\n",
    "    plt.plot(X, y, \"b.\")\n",
    "    n_epochs = 1000\n",
    "    n_shown = 20\n",
    "    theta_path = []\n",
    "    for epoch in range(n_epochs):\n",
    "        if epoch < n_shown:\n",
    "            y_predict = X_new_b @ theta\n",
    "            color = mpl.colors.rgb2hex(plt.cm.OrRd(epoch / n_shown + 0.15))\n",
    "            plt.plot(X_new, y_predict, linestyle=\"solid\", color=color)\n",
    "        gradients = 2 / m * X_b.T @ (X_b @ theta - y)\n",
    "        theta = theta - eta * gradients\n",
    "        theta_path.append(theta)\n",
    "    plt.xlabel(\"$x_1$\")\n",
    "    plt.axis([0, 2, 0, 15])\n",
    "    plt.grid()\n",
    "    plt.title(fr\"$\\eta = {eta}$\")\n",
    "    return theta_path\n",
    "\n",
    "np.random.seed(42)\n",
    "theta = np.random.randn(2, 1) # inicialización aleatoria\n",
    "\n",
    "plt.figure(figsize=(10, 4))\n",
    "plt.subplot(131)\n",
    "plot_gradient_descent(theta, eta=0.02)\n",
    "plt.ylabel(\"$y$\", rotation=0)\n",
    "plt.subplot(132)\n",
    "theta_path_bgd = plot_gradient_descent(theta, eta=0.1)\n",
    "plt.gca().axes.yaxis.set_ticklabels([])\n",
    "plt.subplot(133)\n",
    "plt.gca().axes.yaxis.set_ticklabels([])\n",
    "plot_gradient_descent(theta, eta=0.5)\n",
    "plt.show()"
   ]
  },
  {
   "cell_type": "markdown",
   "metadata": {},
   "source": [
    "A la izquierda, la tasa de aprendizaje es demasiado baja: el algoritmo eventualmente llegará a la solución, pero tardará mucho. En el centro, la tasa de aprendizaje es adecuada: converge rápidamente en pocas épocas. A la derecha, la tasa es demasiado alta: el algoritmo diverge, saltando y alejándose de la solución en cada paso.\n",
    "\n",
    "Para encontrar una buena tasa de aprendizaje, puedes usar gridsearch, pero limita el número de épocas para evitar que los modelos que tardan mucho en converger sean seleccionados. El número de épocas debe ser lo suficientemente alto para que el algoritmo se acerque a la solución, pero no tanto como para perder tiempo cuando ya no hay cambios significativos.\n",
    "\n",
    "Una solución sencilla es establecer un número grande de épocas y detener el algoritmo cuando el vector gradiente sea pequeño, es decir, cuando su norma sea menor que un pequeño número $ϵ$ (tolerancia), lo que indica que el algoritmo ha casi alcanzado el mínimo."
   ]
  },
  {
   "cell_type": "markdown",
   "metadata": {},
   "source": [
    "## Stochastic Gradient Descent"
   ]
  },
  {
   "cell_type": "markdown",
   "metadata": {},
   "source": [
    "El descenso de gradiente por lotes utiliza todo el conjunto de entrenamiento para calcular los gradientes en cada paso, lo que lo hace lento con grandes conjuntos de datos. En contraste, el descenso de gradiente estocástico elige una instancia aleatoria por paso, calculando los gradientes rápidamente con esa única instancia. Esto lo hace mucho más rápido y permite entrenar con conjuntos de datos enormes.\n",
    "\n",
    "Sin embargo, debido a su aleatoriedad, el descenso de gradiente estocástico es menos regular: en lugar de bajar suavemente hacia el mínimo, la función de coste oscila, acercándose al mínimo pero sin asentarse completamente. Esto puede ser ventajoso para escapar de mínimos locales y acercarse al mínimo global.\n",
    "\n",
    "Para resolver el problema de la aleatoriedad, se puede reducir gradualmente la tasa de aprendizaje: comenzando con pasos grandes para un progreso rápido y luego haciendo los pasos más pequeños para que el algoritmo se asiente en el mínimo global. Este enfoque es similar al recocido simulado, donde la tasa de aprendizaje (llamada programa de aprendizaje) se reduce lentamente. Si la tasa se reduce demasiado rápido, podrías quedar atrapado en un mínimo local; si se reduce demasiado lento, podrías rebotar alrededor del mínimo por mucho tiempo."
   ]
  },
  {
   "cell_type": "code",
   "execution_count": null,
   "metadata": {},
   "outputs": [],
   "source": [
    "theta_path_sgd = []  # necesitamos almacenar la trayectoria de theta en el\n",
    "                     # espacio de parámetros para trazar la siguiente figura"
   ]
  },
  {
   "cell_type": "code",
   "execution_count": null,
   "metadata": {},
   "outputs": [],
   "source": [
    "n_epochs = 50\n",
    "t0, t1 = 5, 50  # hiperparámetros del programa de aprendizaje\n",
    "\n",
    "def learning_schedule(t):\n",
    "    return t0 / (t + t1)\n",
    "\n",
    "np.random.seed(42)\n",
    "theta = np.random.randn(2, 1)  \n",
    "\n",
    "n_shown = 20  \n",
    "plt.figure(figsize=(6, 4)) \n",
    "\n",
    "for epoch in range(n_epochs):\n",
    "    for iteration in range(m):\n",
    "\n",
    "        if epoch == 0 and iteration < n_shown:\n",
    "            y_predict = X_new_b @ theta\n",
    "            color = mpl.colors.rgb2hex(plt.cm.OrRd(iteration / n_shown + 0.15))\n",
    "            plt.plot(X_new, y_predict, color=color)\n",
    "\n",
    "        random_index = np.random.randint(m)\n",
    "        xi = X_b[random_index : random_index + 1]\n",
    "        yi = y[random_index : random_index + 1]\n",
    "        gradients = 2 * xi.T @ (xi @ theta - yi)  # para SGD, no dividir por m\n",
    "        eta = learning_schedule(epoch * m + iteration)\n",
    "        theta = theta - eta * gradients\n",
    "        theta_path_sgd.append(theta) \n",
    "\n",
    "\n",
    "plt.plot(X, y, \"b.\")\n",
    "plt.xlabel(\"$x_1$\")\n",
    "plt.ylabel(\"$y$\", rotation=0)\n",
    "plt.axis([0, 2, 0, 15])\n",
    "plt.grid()\n",
    "plt.show()"
   ]
  },
  {
   "cell_type": "markdown",
   "metadata": {},
   "source": [
    "Por convención, iteramos por rondas de $m$ iteraciones; cada ronda se denomina época, como antes. Mientras que el código del descenso del Gradiente por lotes itera 1.000 veces a través de todo el conjunto de entrenamiento, este código lo hace sólo 50 veces y alcanza una solución bastante buena:"
   ]
  },
  {
   "cell_type": "code",
   "execution_count": null,
   "metadata": {
    "scrolled": true
   },
   "outputs": [],
   "source": [
    "theta"
   ]
  },
  {
   "cell_type": "markdown",
   "metadata": {},
   "source": [
    "En el descenso de gradiente estocástico (SGD), las instancias se eligen aleatoriamente en cada época, lo que significa que algunas pueden ser seleccionadas varias veces, mientras que otras podrían no ser elegidas. Para asegurarte de que el algoritmo pasa por todas las instancias en cada época, podrías barajar el conjunto de entrenamiento antes de cada iteración. Sin embargo, este enfoque es más complejo y no suele mejorar significativamente los resultados.\n",
    "\n",
    "Para realizar una regresión lineal con SGD en Scikit-Learn, puedes usar la clase SGDRegressor, que optimiza la función de coste MSE por defecto. Puedes configurarlo para ejecutarse hasta un máximo de 1,000 épocas (max_iter) o hasta que la pérdida disminuya menos de $10^{-5}$ (tol) durante 100 épocas. Comienza con una tasa de aprendizaje de 0.01 (eta0), utilizando el programa de aprendizaje predeterminado, y sin regularización (penalty=None).\n"
   ]
  },
  {
   "cell_type": "code",
   "execution_count": null,
   "metadata": {},
   "outputs": [],
   "source": [
    "from sklearn.linear_model import SGDRegressor\n",
    "\n",
    "sgd_reg = SGDRegressor(max_iter=1000, tol=1e-5, penalty=None, eta0=0.01,\n",
    "                       n_iter_no_change=100, random_state=42)\n",
    "sgd_reg.fit(X, y.ravel())  # y.ravel() because fit() expects 1D targets\n"
   ]
  },
  {
   "cell_type": "markdown",
   "metadata": {},
   "source": [
    "Una vez más, se encuentra una solución bastante cercana a la que devuelve la ecuación Normal:"
   ]
  },
  {
   "cell_type": "code",
   "execution_count": null,
   "metadata": {},
   "outputs": [],
   "source": [
    "sgd_reg.intercept_, sgd_reg.coef_"
   ]
  },
  {
   "cell_type": "markdown",
   "metadata": {},
   "source": [
    "Todos los estimadores de Scikit-Learn pueden entrenarse usando el método fit(), pero algunos también tienen un método partial_fit(), que permite entrenar el modelo en una o más instancias de forma incremental. Al llamar repetidamente a partial_fit(), se entrena gradualmente el modelo, lo cual es útil para tener más control sobre el proceso.\n",
    "\n",
    "Algunos modelos también tienen el hiperparámetro warm_start. Si warm_start=True, llamar a fit() en un modelo entrenado continuará el entrenamiento desde donde se dejó, en lugar de reiniciarlo. Esto respeta hiperparámetros como max_iter y tol. Sin embargo, ten en cuenta que fit() reinicia el contador de iteraciones del programa de aprendizaje, mientras que partial_fit() no lo hace."
   ]
  },
  {
   "cell_type": "markdown",
   "metadata": {},
   "source": [
    "## Mini-batch gradient descent"
   ]
  },
  {
   "cell_type": "markdown",
   "metadata": {},
   "source": [
    "El descenso de gradiente por mini lotes es un punto intermedio entre el descenso de gradiente por lotes y el estocástico. En lugar de calcular los gradientes usando todo el conjunto de entrenamiento (como en el descenso por lotes) o solo una instancia (como en el estocástico), el descenso por mini lotes usa pequeños conjuntos aleatorios de instancias, llamados minilotes.\n",
    "\n",
    "Ventajas:\n",
    "\n",
    "- Mejora el rendimiento gracias a la optimización por hardware, especialmente con GPU.\n",
    "- El progreso es menos errático que con el descenso estocástico, lo que lo acerca más al mínimo.\n",
    "\n",
    "Desventajas:\n",
    "\n",
    "- Puede ser más difícil escapar de mínimos locales en problemas complejos.\n",
    "\n",
    "En resumen, el descenso por mini lotes combina la estabilidad del descenso por lotes con la velocidad del estocástico, aunque requiere un buen programa de aprendizaje para acercarse al mínimo global."
   ]
  },
  {
   "cell_type": "code",
   "execution_count": null,
   "metadata": {},
   "outputs": [],
   "source": [
    "\n",
    "from math import ceil\n",
    "\n",
    "n_epochs = 50\n",
    "minibatch_size = 20\n",
    "n_batches_per_epoch = ceil(m / minibatch_size)\n",
    "\n",
    "np.random.seed(42)\n",
    "theta = np.random.randn(2, 1)  # inicialización aleatoria\n",
    "\n",
    "t0, t1 = 200, 1000  # hiperparámetros del programa de aprendizaje\n",
    "\n",
    "def learning_schedule(t):\n",
    "    return t0 / (t + t1)\n",
    "\n",
    "theta_path_mgd = []\n",
    "for epoch in range(n_epochs):\n",
    "    shuffled_indices = np.random.permutation(m)\n",
    "    X_b_shuffled = X_b[shuffled_indices]\n",
    "    y_shuffled = y[shuffled_indices]\n",
    "    for iteration in range(0, n_batches_per_epoch):\n",
    "        idx = iteration * minibatch_size\n",
    "        xi = X_b_shuffled[idx : idx + minibatch_size]\n",
    "        yi = y_shuffled[idx : idx + minibatch_size]\n",
    "        gradients = 2 / minibatch_size * xi.T @ (xi @ theta - yi)\n",
    "        eta = learning_schedule(iteration)\n",
    "        theta = theta - eta * gradients\n",
    "        theta_path_mgd.append(theta)\n",
    "\n",
    "theta_path_bgd = np.array(theta_path_bgd)\n",
    "theta_path_sgd = np.array(theta_path_sgd)\n",
    "theta_path_mgd = np.array(theta_path_mgd)\n",
    "\n",
    "plt.figure(figsize=(7, 4))\n",
    "plt.plot(theta_path_sgd[:, 0], theta_path_sgd[:, 1], \"r-s\", linewidth=1,\n",
    "         label=\"Stochastic\")\n",
    "plt.plot(theta_path_mgd[:, 0], theta_path_mgd[:, 1], \"g-+\", linewidth=2,\n",
    "         label=\"Mini-batch\")\n",
    "plt.plot(theta_path_bgd[:, 0], theta_path_bgd[:, 1], \"b-o\", linewidth=3,\n",
    "         label=\"Batch\")\n",
    "plt.legend(loc=\"upper left\")\n",
    "plt.xlabel(r\"$\\theta_0$\")\n",
    "plt.ylabel(r\"$\\theta_1$   \", rotation=0)\n",
    "plt.axis([2.6, 4.6, 2.3, 3.4])\n",
    "plt.grid()\n",
    "plt.show()"
   ]
  },
  {
   "cell_type": "markdown",
   "metadata": {},
   "source": [
    "compara los algoritmos que hemos analizado hasta ahora para la regresión lineal (recuerde que m es el número de instancias de entrenamiento y n es el número de características)."
   ]
  },
  {
   "cell_type": "markdown",
   "metadata": {},
   "source": [
    "|Algoritmo| Gran m |Soporte fuera de núcleo| Gran n| Hiperparámetros| Escalado necesario| Scikit-Learn|\n",
    "|---|---|---|---|---|---|---|\n",
    "|Ecuación normal| Rápido| No| Lento| 0 |No| N/A|\n",
    "|SVD |Rápido |No |Lento| 0 |No |LinearRegression|\n",
    "|Batch GD| Lento| No| Rápido| 2| Sí| N/A|\n",
    "|Estocástico GD| Rápido| Sí| Rápido| ≥2| Sí| SGDRegressor|\n",
    "|Mini-batch GD| Rápido| Sí| Rápido| ≥2| Sí| N/A||"
   ]
  },
  {
   "cell_type": "markdown",
   "metadata": {},
   "source": [
    "Casi no hay diferencias después del entrenamiento: todos estos algoritmos acaban con modelos muy similares y hacen predicciones exactamente de la misma manera."
   ]
  },
  {
   "cell_type": "markdown",
   "metadata": {},
   "source": [
    "# Regresión polinómica"
   ]
  },
  {
   "cell_type": "markdown",
   "metadata": {},
   "source": [
    "¿Y si los datos son más complejos que una línea recta? Sorprendentemente, puede utilizar un modelo lineal para ajustar datos no lineales. Una forma sencilla de hacerlo es añadir potencias de cada característica como nuevas características y, a continuación, entrenar un modelo lineal en este conjunto ampliado de características. Esta técnica se denomina regresión polinómica."
   ]
  },
  {
   "cell_type": "markdown",
   "metadata": {},
   "source": [
    "Veamos un ejemplo. Primero, generaremos algunos datos no lineales, basados en una simple ecuación cuadrática, es decir, una ecuación de la forma $ y = ax^2 + bx + c $, más algo de ruido:"
   ]
  },
  {
   "cell_type": "code",
   "execution_count": null,
   "metadata": {},
   "outputs": [],
   "source": [
    "np.random.seed(42)\n",
    "m = 100\n",
    "X = 6 * np.random.rand(m, 1) - 3\n",
    "y = 0.5 * X ** 2 + X + 2 + np.random.randn(m, 1)"
   ]
  },
  {
   "cell_type": "code",
   "execution_count": null,
   "metadata": {},
   "outputs": [],
   "source": [
    "plt.figure(figsize=(6, 4))\n",
    "plt.plot(X, y, \"b.\")\n",
    "plt.xlabel(\"$x_1$\")\n",
    "plt.ylabel(\"$y$\", rotation=0)\n",
    "plt.axis([-3, 3, 0, 10])\n",
    "plt.grid()\n",
    "plt.show()"
   ]
  },
  {
   "cell_type": "markdown",
   "metadata": {},
   "source": [
    "Está claro que una línea recta nunca se ajustará correctamente a estos datos. Así que vamos a utilizar la clase PolynomialFeatures de Scikit-Learn para transformar nuestros datos de entrenamiento, añadiendo el cuadrado (polinomio de segundo grado) de cada característica en el conjunto de entrenamiento como una nueva característica (en este caso sólo hay una característica):\n"
   ]
  },
  {
   "cell_type": "code",
   "execution_count": null,
   "metadata": {},
   "outputs": [],
   "source": [
    "from sklearn.preprocessing import PolynomialFeatures\n",
    "\n",
    "poly_features = PolynomialFeatures(degree=2, include_bias=False)\n",
    "X_poly = poly_features.fit_transform(X)\n",
    "X[0]"
   ]
  },
  {
   "cell_type": "code",
   "execution_count": null,
   "metadata": {},
   "outputs": [],
   "source": [
    "X_poly[0]"
   ]
  },
  {
   "cell_type": "markdown",
   "metadata": {},
   "source": [
    "X_poly contiene ahora la característica original de X más el cuadrado de esta característica. Ahora podemos ajustar un modelo de regresión lineal a estos datos de entrenamiento ampliados:"
   ]
  },
  {
   "cell_type": "code",
   "execution_count": null,
   "metadata": {},
   "outputs": [],
   "source": [
    "lin_reg = LinearRegression()\n",
    "lin_reg.fit(X_poly, y)\n",
    "lin_reg.intercept_, lin_reg.coef_"
   ]
  },
  {
   "cell_type": "code",
   "execution_count": null,
   "metadata": {},
   "outputs": [],
   "source": [
    "\n",
    "X_new = np.linspace(-3, 3, 100).reshape(100, 1)\n",
    "X_new_poly = poly_features.transform(X_new)\n",
    "y_new = lin_reg.predict(X_new_poly)\n",
    "\n",
    "plt.figure(figsize=(6, 4))\n",
    "plt.plot(X, y, \"b.\")\n",
    "plt.plot(X_new, y_new, \"r-\", linewidth=2, label=\"Predictions\")\n",
    "plt.xlabel(\"$x_1$\")\n",
    "plt.ylabel(\"$y$\", rotation=0)\n",
    "plt.legend(loc=\"upper left\")\n",
    "plt.axis([-3, 3, 0, 10])\n",
    "plt.grid()\n",
    "plt.show()"
   ]
  },
  {
   "cell_type": "markdown",
   "metadata": {},
   "source": [
    "No está mal: el modelo estima $ y = 0.56x1^2 + 0.93x1 + 1.78 $ cuando de hecho la función original era $ y = 0.5x1^2 + 1.0x1 + 2.0 $ más ruido Gaussiano. \n",
    "\n",
    "Ten en cuenta que cuando hay múltiples características, la regresión polinómica es capaz de encontrar relaciones entre características, lo cual es algo que un modelo de regresión lineal simple no puede hacer. Esto es posible gracias a que PolynomialFeatures también agrega todas las combinaciones de características hasta el grado dado. Por ejemplo, si hubiera dos características a y b, PolynomialFeatures con degree=3 no solo agregaría las características a², a³, b² y b³, sino también las combinaciones ab, a²b y ab².\n"
   ]
  },
  {
   "cell_type": "markdown",
   "metadata": {},
   "source": [
    "¡PolynomialFeatures(degree=d) transforma una matriz que contiene n características en una matriz que contiene $(n + d)! / d!n!$ es el factorial de n, igual a $1 × 2 × 3 × ⋯ × n$. ¡Cuidado con la explosión combinatoria del número de características!"
   ]
  },
  {
   "cell_type": "markdown",
   "metadata": {},
   "source": [
    "# Curvas de aprendizaje"
   ]
  },
  {
   "cell_type": "markdown",
   "metadata": {},
   "source": [
    "Si realiza una regresión polinómica de alto grado, probablemente ajustará los datos de entrenamiento mucho mejor que con una regresión lineal pura. Por ejemplo, la Figura aplica un modelo polinómico de 300 grados a los datos de entrenamiento anteriores y compara el resultado con un modelo lineal puro y un modelo cuadrático (polinómico de segundo grado). Observe cómo el modelo polinómico de 300 grados se contonea para acercarse lo más posible a las instancias de entrenamiento"
   ]
  },
  {
   "cell_type": "code",
   "execution_count": null,
   "metadata": {},
   "outputs": [],
   "source": [
    "from sklearn.preprocessing import StandardScaler\n",
    "from sklearn.pipeline import make_pipeline\n",
    "\n",
    "plt.figure(figsize=(6, 4))\n",
    "\n",
    "for style, width, degree in ((\"r-+\", 2, 1), (\"b--\", 2, 2), (\"g-\", 1, 300)):\n",
    "    polybig_features = PolynomialFeatures(degree=degree, include_bias=False)\n",
    "    std_scaler = StandardScaler()\n",
    "    lin_reg = LinearRegression()\n",
    "    polynomial_regression = make_pipeline(polybig_features, std_scaler, lin_reg)\n",
    "    polynomial_regression.fit(X, y)\n",
    "    y_newbig = polynomial_regression.predict(X_new)\n",
    "    label = f\"{degree} degree{'s' if degree > 1 else ''}\"\n",
    "    plt.plot(X_new, y_newbig, style, label=label, linewidth=width)\n",
    "\n",
    "plt.plot(X, y, \"b.\", linewidth=3)\n",
    "plt.legend(loc=\"upper left\")\n",
    "plt.xlabel(\"$x_1$\")\n",
    "plt.ylabel(\"$y$\", rotation=0)\n",
    "plt.axis([-3, 3, 0, 10])\n",
    "plt.grid()\n",
    "plt.show()"
   ]
  },
  {
   "cell_type": "markdown",
   "metadata": {},
   "source": [
    "El modelo de regresión polinómica de alto grado tiende a sobrefit (sobreajustar) los datos de entrenamiento, mientras que el modelo lineal tiende a underfit (subajustar). El modelo cuadrático generalmente generaliza mejor en este caso, ya que los datos se generaron con una función cuadrática. Sin embargo, en la práctica, no siempre sabrás cuál es la función generadora de los datos, por lo que necesitas herramientas para decidir la complejidad adecuada de tu modelo.\n",
    "\n",
    "Cross-Validation se utiliza para estimar el rendimiento de generalización de un modelo. Si el modelo rinde bien en los datos de entrenamiento pero mal en validación, está sobreajustando. Si rinde mal en ambos, está subajustando.\n",
    "\n",
    "Otra herramienta útil son las curvas de aprendizaje, que muestran el error de entrenamiento y validación a lo largo de las iteraciones de entrenamiento. Si el modelo no permite entrenamiento incremental, puedes entrenarlo varias veces en subconjuntos crecientes del conjunto de entrenamiento.\n",
    "\n",
    "Scikit-Learn ofrece la función learning_curve(), que entrena y evalúa el modelo usando Cross-Validation, generando curvas de aprendizaje. Esta función puede reentrenar el modelo en subconjuntos crecientes del conjunto de entrenamiento, o entrenarlo de manera incremental si el modelo lo permite, configurando exploit_incremental_learning=True."
   ]
  },
  {
   "cell_type": "code",
   "execution_count": null,
   "metadata": {},
   "outputs": [],
   "source": [
    "from sklearn.model_selection import learning_curve\n",
    "\n",
    "train_sizes, train_scores, valid_scores = learning_curve(\n",
    "    LinearRegression(), X, y, train_sizes=np.linspace(0.01, 1.0, 40), cv=5,\n",
    "    scoring=\"neg_root_mean_squared_error\")\n",
    "train_errors = -train_scores.mean(axis=1)\n",
    "valid_errors = -valid_scores.mean(axis=1)\n",
    "\n",
    "plt.figure(figsize=(6, 4))  # extra code – not needed, just formatting\n",
    "plt.plot(train_sizes, train_errors, \"r-+\", linewidth=2, label=\"train\")\n",
    "plt.plot(train_sizes, valid_errors, \"b-\", linewidth=3, label=\"valid\")\n",
    "\n",
    "plt.xlabel(\"Training set size\")\n",
    "plt.ylabel(\"RMSE\")\n",
    "plt.grid()\n",
    "plt.legend(loc=\"upper right\")\n",
    "plt.axis([0, 80, 0, 2.5])\n",
    "\n",
    "plt.show()"
   ]
  },
  {
   "cell_type": "markdown",
   "metadata": {},
   "source": [
    "Este modelo está subajustado. Veamos por qué:\n",
    "\n",
    "1. Error de entrenamiento: Cuando el conjunto de entrenamiento es pequeño, el modelo puede ajustarse perfectamente a los pocos datos disponibles, por lo que la curva de error comienza en cero. A medida que se añaden más datos, el modelo no puede ajustarse perfectamente debido al ruido y a la naturaleza no lineal de los datos, por lo que el error de entrenamiento aumenta y luego se estabiliza en una meseta.\n",
    "\n",
    "2. Error de validación: Con pocas instancias de entrenamiento, el modelo no generaliza bien, lo que hace que el error de validación sea alto inicialmente. A medida que se añaden más ejemplos, el modelo mejora y el error de validación disminuye, pero luego también se estabiliza en una meseta, cerca del error de entrenamiento.\n",
    "\n",
    "Estas curvas de aprendizaje son típicas de un modelo subajustado: ambas curvas están altas, cercanas entre sí, y se han estabilizado. En este caso, agregar más datos de entrenamiento no mejorará el rendimiento. La solución es usar un modelo más complejo o mejorar las características."
   ]
  },
  {
   "cell_type": "markdown",
   "metadata": {},
   "source": [
    "Veamos ahora las curvas de aprendizaje de un modelo polinómico de 10º grado sobre los mismos datos"
   ]
  },
  {
   "cell_type": "code",
   "execution_count": null,
   "metadata": {},
   "outputs": [],
   "source": [
    "from sklearn.pipeline import make_pipeline\n",
    "\n",
    "polynomial_regression = make_pipeline(\n",
    "    PolynomialFeatures(degree=10, include_bias=False),\n",
    "    LinearRegression())\n",
    "\n",
    "train_sizes, train_scores, valid_scores = learning_curve(\n",
    "    polynomial_regression, X, y, train_sizes=np.linspace(0.01, 1.0, 40), cv=5,\n",
    "    scoring=\"neg_root_mean_squared_error\")"
   ]
  },
  {
   "cell_type": "code",
   "execution_count": null,
   "metadata": {},
   "outputs": [],
   "source": [
    "\n",
    "train_errors = -train_scores.mean(axis=1)\n",
    "valid_errors = -valid_scores.mean(axis=1)\n",
    "\n",
    "plt.figure(figsize=(6, 4))\n",
    "plt.plot(train_sizes, train_errors, \"r-+\", linewidth=2, label=\"train\")\n",
    "plt.plot(train_sizes, valid_errors, \"b-\", linewidth=3, label=\"valid\")\n",
    "plt.legend(loc=\"upper right\")\n",
    "plt.xlabel(\"Training set size\")\n",
    "plt.ylabel(\"RMSE\")\n",
    "plt.grid()\n",
    "plt.axis([0, 80, 0, 2.5])\n",
    "plt.show()"
   ]
  },
  {
   "cell_type": "markdown",
   "metadata": {},
   "source": [
    "Estas curvas de aprendizaje se parecen un poco a las anteriores, pero hay dos diferencias muy importantes:\n",
    "- El error en los datos de entrenamiento es mucho menor que antes.\n",
    "- Hay un hueco entre las curvas. Esto significa que el modelo funciona mucho mejor con los datos de entrenamiento que con los datos de validación, lo que caracteriza a un modelo sobreajustado. Sin embargo, si se utilizara un conjunto de datos de entrenamiento mucho mayor, las dos curvas seguirían acercándose."
   ]
  },
  {
   "cell_type": "markdown",
   "metadata": {},
   "source": [
    "Una forma de mejorar un modelo sobreajustado es introducir más datos de entrenamiento hasta que el error de validación alcance el error de entrenamiento."
   ]
  },
  {
   "cell_type": "markdown",
   "metadata": {},
   "source": [
    "## El equilibrio entre sesgo y varianza\n",
    "\n",
    "El error de generalización de un modelo se descompone en tres componentes:\n",
    "\n",
    "- Sesgo: Error causado por suposiciones incorrectas, como suponer que los datos son lineales cuando en realidad no lo son. Un modelo con alto sesgo no se ajusta bien a los datos de entrenamiento.\n",
    "\n",
    "- Varianza: Error debido a la sensibilidad excesiva del modelo a pequeñas variaciones en los datos. Un modelo muy complejo, como un polinómico de alto grado, tiende a tener alta varianza y sobreajusta los datos de entrenamiento.\n",
    "\n",
    "- Error irreductible: Error inherente al ruido en los datos. La única manera de reducirlo es limpiando los datos.\n",
    "\n",
    "Aumentar la complejidad de un modelo generalmente reduce el sesgo pero aumenta la varianza, y viceversa. Este es el equilibrio entre sesgo y varianza."
   ]
  },
  {
   "cell_type": "markdown",
   "metadata": {},
   "source": [
    "# Modelos lineales regularizados"
   ]
  },
  {
   "cell_type": "markdown",
   "metadata": {},
   "source": [
    "Una buena forma de reducir el sobreajuste es regularizar el modelo (es decir, restringirlo): cuantos menos grados de libertad tenga, más difícil será que sobreajuste los datos. Una forma sencilla de regularizar un modelo polinómico es reducir el número de grados polinómicos.\n",
    "\n",
    "Para un modelo lineal, la regularización se consigue normalmente restringiendo los pesos del modelo. Ahora veremos la regresión de Ridge, la regresión de Lasso y la regresión de ElasticNet, que implementan tres formas diferentes de restringir los pesos.\n"
   ]
  },
  {
   "cell_type": "markdown",
   "metadata": {},
   "source": [
    "## Regresión Ridge"
   ]
  },
  {
   "cell_type": "markdown",
   "metadata": {},
   "source": [
    "Es una versión regularizada de la regresión lineal. Añade un término de regularización al MSE:\n",
    "$ J(θ) = MSE(θ) + \\frac{α}{m} \\sum_{i=1}^{n} θ_{i}^2 $\n",
    "\n",
    "Este término de regularización obliga al modelo a mantener los pesos $θ_i$ lo más pequeños posible, lo que ayuda a prevenir el sobreajuste. El hiperparámetro $α$ controla la intensidad de esta regularización:\n",
    "\n",
    "- Si $α = 0$, la regresión Ridge es equivalente a la regresión lineal.\n",
    "- Si $α$ es grande, los pesos se acercan a cero, resultando en una línea casi plana.\n",
    "\n",
    "Importante: El término de regularización solo se añade durante el entrenamiento, no al evaluar el modelo.\n",
    "\n",
    "Para descenso de gradiente por lotes, solo se necesita añadir $\\frac{2αw}{m}$ al gradiente de los pesos, sin modificar el gradiente del término de sesgo $θ_0$.\n"
   ]
  },
  {
   "cell_type": "markdown",
   "metadata": {},
   "source": [
    "Es importante escalar los datos (por ejemplo, utilizando un StandardScaler) antes de realizar la regresión ridge, ya que es sensible a la escala de las características de entrada. Esto ocurre con la mayoría de los modelos regularizados."
   ]
  },
  {
   "cell_type": "markdown",
   "metadata": {},
   "source": [
    "Generemos un conjunto de datos lineales muy pequeño y ruidoso:"
   ]
  },
  {
   "cell_type": "code",
   "execution_count": null,
   "metadata": {},
   "outputs": [],
   "source": [
    "np.random.seed(42)\n",
    "m = 20\n",
    "X = 3 * np.random.rand(m, 1)\n",
    "y = 1 + 0.5 * X + np.random.randn(m, 1) / 1.5\n",
    "X_new = np.linspace(0, 3, 100).reshape(100, 1)"
   ]
  },
  {
   "cell_type": "code",
   "execution_count": null,
   "metadata": {},
   "outputs": [],
   "source": [
    "plt.figure(figsize=(6, 4))\n",
    "plt.plot(X, y, \".\")\n",
    "plt.xlabel(\"$x_1$\")\n",
    "plt.ylabel(\"$y$  \", rotation=0)\n",
    "plt.axis([0, 3, 0, 3.5])\n",
    "plt.grid()\n",
    "plt.show()"
   ]
  },
  {
   "cell_type": "code",
   "execution_count": null,
   "metadata": {},
   "outputs": [],
   "source": [
    "from sklearn.linear_model import Ridge\n",
    "\n",
    "ridge_reg = Ridge(alpha=0.1, solver=\"cholesky\")\n",
    "ridge_reg.fit(X, y)\n",
    "ridge_reg.predict([[1.5]])"
   ]
  },
  {
   "cell_type": "code",
   "execution_count": null,
   "metadata": {},
   "outputs": [],
   "source": [
    "\n",
    "def plot_model(model_class, polynomial, alphas, **model_kwargs):\n",
    "    plt.plot(X, y, \"b.\", linewidth=3)\n",
    "    for alpha, style in zip(alphas, (\"b:\", \"g--\", \"r-\")):\n",
    "        if alpha > 0:\n",
    "            model = model_class(alpha, **model_kwargs)\n",
    "        else:\n",
    "            model = LinearRegression()\n",
    "        if polynomial:\n",
    "            model = make_pipeline(\n",
    "                PolynomialFeatures(degree=10, include_bias=False),\n",
    "                StandardScaler(),\n",
    "                model)\n",
    "        model.fit(X, y)\n",
    "        y_new_regul = model.predict(X_new)\n",
    "        plt.plot(X_new, y_new_regul, style, linewidth=2,\n",
    "                 label=fr\"$\\alpha = {alpha}$\")\n",
    "    plt.legend(loc=\"upper left\")\n",
    "    plt.xlabel(\"$x_1$\")\n",
    "    plt.axis([0, 3, 0, 3.5])\n",
    "    plt.grid()\n",
    "\n",
    "plt.figure(figsize=(9, 3.5))\n",
    "plt.subplot(121)\n",
    "plot_model(Ridge, polynomial=False, alphas=(0, 10, 100), random_state=42)\n",
    "plt.ylabel(\"$y$  \", rotation=0)\n",
    "plt.subplot(122)\n",
    "plot_model(Ridge, polynomial=True, alphas=(0, 10**-5, 1), random_state=42)\n",
    "plt.gca().axes.yaxis.set_ticklabels([])\n",
    "plt.show()"
   ]
  },
  {
   "cell_type": "markdown",
   "metadata": {},
   "source": [
    "La regresión Ridge ajusta modelos lineales para controlar el sobreajuste mediante regularización. En la figura mencionada:\n",
    "\n",
    "- Izquierda: Se usan modelos Ridge simples, lo que da predicciones lineales.\n",
    "\n",
    "- Derecha: Los datos se expanden a características polinómicas de grado 10, se escalan, y luego se aplica la regresión Ridge. A medida que el valor de $α$ aumenta, las predicciones se vuelven más planas, reduciendo la varianza pero aumentando el sesgo.\n",
    "\n",
    "Al igual que con la regresión lineal, la regresión Ridge puede resolverse de dos maneras:\n",
    "\n",
    "1. Ecuación de forma cerrada: Proporciona una solución exacta.\n",
    "\n",
    "2. Descenso de gradiente: Aproxima la solución iterativamente.\n",
    "\n",
    "La solución de forma cerrada para la regresión Ridge es:\n",
    "\n",
    "$ θ = (X^⊺X + αA)^{−1}X^⊺y $\n",
    "\n",
    "Donde $A$ es la matriz identidad con un 0 en la celda correspondiente al término de sesgo.\n",
    "\n",
    "En Scikit-Learn, puedes realizar la regresión Ridge utilizando una variante de esta ecuación con la técnica de factorización de matrices de Cholesky.\n"
   ]
  },
  {
   "cell_type": "code",
   "execution_count": null,
   "metadata": {},
   "outputs": [],
   "source": [
    "# mostrar que obtenemos aproximadamente la misma solución que antes cuando\n",
    "# utilizamos el promedio estocástico GD (solver=\"sag\")\n",
    "ridge_reg = Ridge(alpha=0.1, solver=\"sag\", random_state=42)\n",
    "ridge_reg.fit(X, y)\n",
    "ridge_reg.predict([[1.5]])"
   ]
  },
  {
   "cell_type": "markdown",
   "metadata": {},
   "source": [
    "Y utilizando el descenso de gradiente estocástico:"
   ]
  },
  {
   "cell_type": "code",
   "execution_count": null,
   "metadata": {},
   "outputs": [],
   "source": [
    "sgd_reg = SGDRegressor(penalty=\"l2\", alpha=0.1 / m, tol=None,\n",
    "                       max_iter=1000, eta0=0.01, random_state=42)\n",
    "sgd_reg.fit(X, y.ravel())  # y.ravel() porque fit() espera objetivos 1D\n",
    "sgd_reg.predict([[1.5]])"
   ]
  },
  {
   "cell_type": "markdown",
   "metadata": {},
   "source": [
    "El hiperparámetro de penalización en SGD determina el tipo de regularización a aplicar. Especificar \"l2\" añade un término de regularización a la función de coste MSE, igual a $α$ veces el cuadrado de la norma $ℓ2$ del vector de pesos. Esto es similar a la regresión Ridge, pero sin la división por $m$. Por eso, se pasa alpha=0.1 / m para obtener un resultado equivalente a Ridge(alpha=0.1).\n",
    "\n",
    "La clase RidgeCV también realiza regresión Ridge, pero ajusta automáticamente el hiperparámetro $α$ mediante Cross-Validation. Es similar a usar GridSearchCV, pero está optimizado para la regresión Ridge, lo que lo hace más rápido. Otros estimadores lineales, como LassoCV y ElasticNetCV, también tienen variantes con Cross-Validation eficiente."
   ]
  },
  {
   "cell_type": "code",
   "execution_count": null,
   "metadata": {},
   "outputs": [],
   "source": [
    "# muestra la solución de forma cerrada de la regresión Ridge,\n",
    "# comparar con los parámetros aprendidos del modelo Ridge\n",
    "alpha = 0.1\n",
    "A = np.array([[0., 0.], [0., 1.]])\n",
    "X_b = np.c_[np.ones(m), X]\n",
    "np.linalg.inv(X_b.T @ X_b + alpha * A) @ X_b.T @ y"
   ]
  },
  {
   "cell_type": "code",
   "execution_count": null,
   "metadata": {},
   "outputs": [],
   "source": [
    "ridge_reg.intercept_, ridge_reg.coef_ "
   ]
  },
  {
   "cell_type": "markdown",
   "metadata": {},
   "source": [
    "## Regresión Lasso"
   ]
  },
  {
   "cell_type": "markdown",
   "metadata": {},
   "source": [
    "La regresión Lasso (Least Absolute Shrinkage and Selection Operator) es otra versión regularizada de la regresión lineal. Similar a la regresión Ridge, añade un término de regularización a la función de coste, pero utiliza la norma $ℓ1$ del vector de pesos en lugar del cuadrado de la norma $ℓ2$.\n",
    "\n",
    "En la regresión Lasso, la norma $ℓ1$ se multiplica por $2α$, mientras que en la regresión Ridge, la norma $ℓ2$ se multiplica por $\\frac{α}{m}$. Estos factores se eligen para asegurar que el valor óptimo de $α$ sea independiente del tamaño del conjunto de entrenamiento, ya que diferentes normas requieren diferentes factores."
   ]
  },
  {
   "cell_type": "markdown",
   "metadata": {},
   "source": [
    "La función de coste de la regresión Lasso se define como:\n",
    "\n",
    "$$J(\\theta) = MSE(\\theta) + 2\\alpha \\sum_{i=1}^{n} |\\theta_i| $$\n",
    "\n",
    "Donde:\n",
    "\n",
    "- $J(\\theta)$ es la función de coste total.\n",
    "- $\\text{MSE}(\\theta)$ es el error cuadrático medio (Mean Squared Error).\n",
    "- $2\\alpha \\sum_{i=1}^{n} |\\theta_i|$ es el término de regularización Lasso, donde $|\\theta_i|$ es la norma $ℓ1$ de los pesos.\n",
    "\n",
    "Este término de regularización ayuda a reducir la magnitud de los pesos y puede llevar a que algunos de ellos sean exactamente cero, lo que efectivamente selecciona características."
   ]
  },
  {
   "cell_type": "code",
   "execution_count": null,
   "metadata": {},
   "outputs": [],
   "source": [
    "from sklearn.linear_model import Lasso\n",
    "\n",
    "plt.figure(figsize=(9, 3.5))\n",
    "plt.subplot(121)\n",
    "plot_model(Lasso, polynomial=False, alphas=(0, 0.1, 1), random_state=42)\n",
    "plt.ylabel(\"$y$  \", rotation=0)\n",
    "plt.subplot(122)\n",
    "plot_model(Lasso, polynomial=True, alphas=(0, 1e-2, 1), random_state=42)\n",
    "plt.gca().axes.yaxis.set_ticklabels([])\n",
    "plt.show()"
   ]
  },
  {
   "cell_type": "markdown",
   "metadata": {},
   "source": [
    "Tiene la notable capacidad de eliminar los pesos de las características menos importantes, es decir, los ajusta a cero. Esto significa que Lasso realiza automáticamente la selección de características, produciendo un modelo más simple y con menos características relevantes.\n",
    "\n",
    "Por ejemplo, en el gráfico mencionado (Figura 4-18), con $α = 0.01$, el modelo resultante es aproximadamente cúbico, ya que las características polinómicas de alto grado han sido eliminadas (sus pesos son cero).\n",
    "\n",
    "Esto ocurre debido a cómo funciona la regularización $ℓ1$. En el gráfico superior izquierdo de la Figura 4-19, los contornos representan la pérdida $ℓ1$ ($|θ1| + |θ2|$), que decrece linealmente hacia los ejes. Cuando se aplica el descenso de gradiente, los parámetros tienden a reducirse, y aquellos que están más cerca de cero llegan a cero primero, lo que crea un \"canalón\" que luego lleva el modelo a eliminar ciertos parámetros.\n",
    "\n",
    "En el gráfico superior derecho, los contornos representan la función de coste de la regresión Lasso (MSE más pérdida $ℓ1$). A medida que el descenso de gradiente ajusta los parámetros, uno de ellos llega a cero rápidamente, y el algoritmo sigue un camino que lleva al óptimo global, aunque con cierto \"rebote\". Si se aumenta $α$, el óptimo global se mueve hacia valores más pequeños de los parámetros, eliminando más características; si se disminuye $α$, el modelo retiene más características.\n",
    "\n",
    "En resumen, la regresión Lasso no solo ajusta el modelo a los datos, sino que también simplifica el modelo al eliminar características innecesarias, logrando un equilibrio entre ajuste y simplicidad."
   ]
  },
  {
   "cell_type": "code",
   "execution_count": null,
   "metadata": {},
   "outputs": [],
   "source": [
    "\n",
    "t1a, t1b, t2a, t2b = -1, 3, -1.5, 1.5\n",
    "\n",
    "t1s = np.linspace(t1a, t1b, 500)\n",
    "t2s = np.linspace(t2a, t2b, 500)\n",
    "t1, t2 = np.meshgrid(t1s, t2s)\n",
    "T = np.c_[t1.ravel(), t2.ravel()]\n",
    "Xr = np.array([[1, 1], [1, -1], [1, 0.5]])\n",
    "yr = 2 * Xr[:, :1] + 0.5 * Xr[:, 1:]\n",
    "\n",
    "J = (1 / len(Xr) * ((T @ Xr.T - yr.T) ** 2).sum(axis=1)).reshape(t1.shape)\n",
    "\n",
    "N1 = np.linalg.norm(T, ord=1, axis=1).reshape(t1.shape)\n",
    "N2 = np.linalg.norm(T, ord=2, axis=1).reshape(t1.shape)\n",
    "\n",
    "t_min_idx = np.unravel_index(J.argmin(), J.shape)\n",
    "t1_min, t2_min = t1[t_min_idx], t2[t_min_idx]\n",
    "\n",
    "t_init = np.array([[0.25], [-1]])\n",
    "\n",
    "def bgd_path(theta, X, y, l1, l2, core=1, eta=0.05, n_iterations=200):\n",
    "    path = [theta]\n",
    "    for iteration in range(n_iterations):\n",
    "        gradients = (core * 2 / len(X) * X.T @ (X @ theta - y)\n",
    "                     + l1 * np.sign(theta) + l2 * theta)\n",
    "        theta = theta - eta * gradients\n",
    "        path.append(theta)\n",
    "    return np.array(path)\n",
    "\n",
    "fig, axes = plt.subplots(2, 2, sharex=True, sharey=True, figsize=(10.1, 8))\n",
    "\n",
    "for i, N, l1, l2, title in ((0, N1, 2.0, 0, \"Lasso\"), (1, N2, 0, 2.0, \"Ridge\")):\n",
    "    JR = J + l1 * N1 + l2 * 0.5 * N2 ** 2\n",
    "\n",
    "    tr_min_idx = np.unravel_index(JR.argmin(), JR.shape)\n",
    "    t1r_min, t2r_min = t1[tr_min_idx], t2[tr_min_idx]\n",
    "\n",
    "    levels = np.exp(np.linspace(0, 1, 20)) - 1\n",
    "    levelsJ = levels * (J.max() - J.min()) + J.min()\n",
    "    levelsJR = levels * (JR.max() - JR.min()) + JR.min()\n",
    "    levelsN = np.linspace(0, N.max(), 10)\n",
    "\n",
    "    path_J = bgd_path(t_init, Xr, yr, l1=0, l2=0)\n",
    "    path_JR = bgd_path(t_init, Xr, yr, l1, l2)\n",
    "    path_N = bgd_path(theta=np.array([[2.0], [0.5]]), X=Xr, y=yr,\n",
    "                      l1=np.sign(l1) / 3, l2=np.sign(l2), core=0)\n",
    "    ax = axes[i, 0]\n",
    "    ax.grid()\n",
    "    ax.axhline(y=0, color=\"k\")\n",
    "    ax.axvline(x=0, color=\"k\")\n",
    "    ax.contourf(t1, t2, N / 2.0, levels=levelsN)\n",
    "    ax.plot(path_N[:, 0], path_N[:, 1], \"y--\")\n",
    "    ax.plot(0, 0, \"ys\")\n",
    "    ax.plot(t1_min, t2_min, \"ys\")\n",
    "    ax.set_title(fr\"$\\ell_{i + 1}$ penalty\")\n",
    "    ax.axis([t1a, t1b, t2a, t2b])\n",
    "    if i == 1:\n",
    "        ax.set_xlabel(r\"$\\theta_1$\")\n",
    "    ax.set_ylabel(r\"$\\theta_2$\", rotation=0)\n",
    "\n",
    "    ax = axes[i, 1]\n",
    "    ax.grid()\n",
    "    ax.axhline(y=0, color=\"k\")\n",
    "    ax.axvline(x=0, color=\"k\")\n",
    "    ax.contourf(t1, t2, JR, levels=levelsJR, alpha=0.9)\n",
    "    ax.plot(path_JR[:, 0], path_JR[:, 1], \"w-o\")\n",
    "    ax.plot(path_N[:, 0], path_N[:, 1], \"y--\")\n",
    "    ax.plot(0, 0, \"ys\")\n",
    "    ax.plot(t1_min, t2_min, \"ys\")\n",
    "    ax.plot(t1r_min, t2r_min, \"rs\")\n",
    "    ax.set_title(title)\n",
    "    ax.axis([t1a, t1b, t2a, t2b])\n",
    "    if i == 1:\n",
    "        ax.set_xlabel(r\"$\\theta_1$\")\n",
    "\n",
    "plt.show()"
   ]
  },
  {
   "cell_type": "markdown",
   "metadata": {},
   "source": [
    "Se ilustran las diferencias entre la regresión Lasso (filas superiores) y la regresión Ridge (filas inferiores) en función de los contornos de las funciones de pérdida.\n",
    "\n",
    "- Parte superior izquierda (Lasso, solo $ℓ1$):\n",
    "\n",
    "    - Los contornos en forma de diamante muestran cómo la penalización $ℓ1$ afecta a la función de pérdida, disminuyendo linealmente hacia los ejes.\n",
    "    - El descenso de gradiente sigue un camino discontinuo (línea amarilla), lo que lleva a uno de los parámetros a 0 primero. Esto representa la capacidad de Lasso para eliminar características (dejar sus pesos en 0).\n",
    "\n",
    "- Parte superior derecha (Lasso, MSE + $ℓ1$):\n",
    "\n",
    "    - Aquí se combinan el MSE con la penalización $ℓ1$. Los pequeños círculos blancos muestran el recorrido del descenso de gradiente, que lleva rápidamente uno de los parámetros a 0, luego avanza hacia el óptimo global (cuadrado rojo).\n",
    "    - El rebote alrededor del óptimo es notable porque los gradientes no se acercan a cero, lo que puede requerir una reducción de la tasa de aprendizaje para estabilizar la convergencia.\n",
    "\n",
    "- Parte inferior izquierda (Ridge, solo $ℓ2$):\n",
    "\n",
    "    - Los contornos circulares muestran cómo la penalización $ℓ2$ suaviza la función de pérdida.\n",
    "    - El descenso de gradiente sigue un camino recto hacia el origen, disminuyendo los parámetros gradualmente pero sin llevar ninguno a cero.\n",
    "\n",
    "- Parte inferior derecha (Ridge, MSE + $ℓ2$):\n",
    "\n",
    "    - Aquí, el MSE se combina con la penalización $ℓ2$. El recorrido del descenso de gradiente es más suave y directo hacia el óptimo global, con una reducción gradual de los gradientes a medida que los parámetros se acercan al mínimo.\n",
    "    - Esto demuestra que Ridge no elimina completamente los parámetros, sino que los reduce de manera uniforme.\n",
    "\n",
    "Conclusión:\n",
    "- Lasso es útil para la selección de características, ya que puede llevar algunos parámetros a cero.\n",
    "- Ridge reduce todos los parámetros de manera uniforme, evitando que alguno llegue a cero, y tiende a converger más suavemente al óptimo."
   ]
  },
  {
   "cell_type": "code",
   "execution_count": null,
   "metadata": {},
   "outputs": [],
   "source": [
    "\n",
    "lasso_reg = Lasso(alpha=0.1)\n",
    "lasso_reg.fit(X, y)\n",
    "lasso_reg.predict([[1.5]])"
   ]
  },
  {
   "cell_type": "markdown",
   "metadata": {},
   "source": [
    "Tenga en cuenta que podría utilizar SGDRegressor(penalty=\"l1\", alpha=0.1)."
   ]
  },
  {
   "cell_type": "markdown",
   "metadata": {},
   "source": [
    "## Elastic Net"
   ]
  },
  {
   "cell_type": "markdown",
   "metadata": {},
   "source": [
    "Combina lo mejor de Ridge y Lasso. Su término de regularización es una mezcla ponderada de los términos de regularización de Ridge y Lasso, controlada por un parámetro de mezcla $r$:\n",
    "\n",
    "- Cuando $r = 0$, la red elástica es equivalente a Ridge.\n",
    "- Cuando $r = 1$, es equivalente a Lasso.\n",
    "\n",
    "La función de coste de la red elástica es:\n",
    "\n",
    "$$ 𝐽(𝜃) = 𝑀𝑆𝐸(𝜃) + 𝑟⋅𝛼 \\sum_{𝑖=1}^{𝑛}∣𝜃𝑖∣+\\frac{1−𝑟}{2}⋅\\frac{𝛼}{𝑚}\\sum_{𝑖=1}^{𝑛}𝜃_{𝑖}^2 $$\n",
    "\n",
    "¿Cuándo usar cada tipo de regresión?\n",
    "\n",
    "- Regresión Lineal Simple: En general, se debe evitar, ya que es mejor tener algo de regularización.\n",
    "- Ridge: Buena opción por defecto, adecuada cuando no se tiene certeza sobre la relevancia de las características.\n",
    "- Lasso: Preferible si se sospecha que solo unas pocas características son útiles, ya que puede reducir a cero los pesos de las características menos relevantes.\n",
    "- ElasticNet: Generalmente preferido sobre Lasso cuando el número de características es mayor que el número de instancias de entrenamiento o cuando hay correlación fuerte entre características, ya que es más estable."
   ]
  },
  {
   "cell_type": "code",
   "execution_count": null,
   "metadata": {},
   "outputs": [],
   "source": [
    "from sklearn.linear_model import ElasticNet\n",
    "\n",
    "elastic_net = ElasticNet(alpha=0.1, l1_ratio=0.5)\n",
    "elastic_net.fit(X, y)\n",
    "elastic_net.predict([[1.5]])"
   ]
  },
  {
   "cell_type": "markdown",
   "metadata": {},
   "source": [
    "## Early Stopping"
   ]
  },
  {
   "cell_type": "markdown",
   "metadata": {},
   "source": [
    "Es una técnica de regularización para algoritmos de aprendizaje iterativos, como el descenso de gradiente. En lugar de entrenar hasta completar todas las épocas, se detiene el entrenamiento cuando el error de validación alcanza su mínimo y comienza a aumentar, señalando el inicio del sobreajuste.\n",
    "\n",
    "Explicación:\n",
    "- En el caso de un modelo complejo, como la regresión polinómica de alto grado, el error de predicción (RMSE) en los conjuntos de entrenamiento y validación disminuye inicialmente a medida que avanza el entrenamiento.\n",
    "- Sin embargo, tras un cierto número de épocas, el error de validación comienza a aumentar, indicando que el modelo ha comenzado a sobreajustar.\n",
    "- Con parada temprana, el entrenamiento se detiene en el punto en que el error de validación es mínimo.\n",
    "\n",
    "Geoffrey Hinton la calificó como un \"hermoso almuerzo gratis\" por su sencillez y eficacia.\n",
    "\n",
    "Desafío con Descenso Estocástico y Mini-batch:\n",
    "\n",
    "- Con descenso estocástico o mini-batch, las curvas de error son menos suaves, lo que dificulta identificar cuándo se ha alcanzado el mínimo.\n",
    "- La solución es detenerse solo después de que el error de validación haya superado el mínimo durante un tiempo, y luego retroceder los parámetros del modelo hasta el punto en que el error de validación era mínimo.\n",
    "\n",
    "Conclusión:\n",
    " \n",
    "La parada temprana es una técnica simple pero poderosa para evitar el sobreajuste durante el entrenamiento, especialmente efectiva cuando se aplica correctamente, incluso en escenarios más ruidosos como el descenso estocástico."
   ]
  },
  {
   "cell_type": "code",
   "execution_count": null,
   "metadata": {},
   "outputs": [],
   "source": [
    "from copy import deepcopy\n",
    "from sklearn.metrics import mean_squared_error\n",
    "from sklearn.preprocessing import StandardScaler\n",
    "\n",
    "# código extra - crea el mismo conjunto de datos cuadráticos que antes y lo divide\n",
    "np.random.seed(42)\n",
    "m = 100\n",
    "X = 6 * np.random.rand(m, 1) - 3\n",
    "y = 0.5 * X ** 2 + X + 2 + np.random.randn(m, 1)\n",
    "X_train, y_train = X[: m // 2], y[: m // 2, 0]\n",
    "X_valid, y_valid = X[m // 2 :], y[m // 2 :, 0]\n",
    "\n",
    "preprocessing = make_pipeline(PolynomialFeatures(degree=90, include_bias=False),\n",
    "                              StandardScaler())\n",
    "X_train_prep = preprocessing.fit_transform(X_train)\n",
    "X_valid_prep = preprocessing.transform(X_valid)\n",
    "sgd_reg = SGDRegressor(penalty=None, eta0=0.002, random_state=42)\n",
    "n_epochs = 500\n",
    "best_valid_rmse = float('inf')\n",
    "train_errors, val_errors = [], []  # código extra - es para la figura de abajo\n",
    "\n",
    "for epoch in range(n_epochs):\n",
    "    sgd_reg.partial_fit(X_train_prep, y_train)\n",
    "    y_valid_predict = sgd_reg.predict(X_valid_prep)\n",
    "    val_error = mean_squared_error(y_valid, y_valid_predict, squared=False)\n",
    "    if val_error < best_valid_rmse:\n",
    "        best_valid_rmse = val_error\n",
    "        best_model = deepcopy(sgd_reg)\n",
    "\n",
    "    # código extra - evaluamos el error del tren y lo guardamos para la figura\n",
    "    y_train_predict = sgd_reg.predict(X_train_prep)\n",
    "    train_error = mean_squared_error(y_train, y_train_predict, squared=False)\n",
    "    val_errors.append(val_error)\n",
    "    train_errors.append(train_error)\n",
    "\n",
    "best_epoch = np.argmin(val_errors)\n",
    "plt.figure(figsize=(6, 4))\n",
    "plt.annotate('Best model',\n",
    "             xy=(best_epoch, best_valid_rmse),\n",
    "             xytext=(best_epoch, best_valid_rmse + 0.5),\n",
    "             ha=\"center\",\n",
    "             arrowprops=dict(facecolor='black', shrink=0.05))\n",
    "plt.plot([0, n_epochs], [best_valid_rmse, best_valid_rmse], \"k:\", linewidth=2)\n",
    "plt.plot(val_errors, \"b-\", linewidth=3, label=\"Validation set\")\n",
    "plt.plot(best_epoch, best_valid_rmse, \"bo\")\n",
    "plt.plot(train_errors, \"r--\", linewidth=2, label=\"Training set\")\n",
    "plt.legend(loc=\"upper right\")\n",
    "plt.xlabel(\"Epoch\")\n",
    "plt.ylabel(\"RMSE\")\n",
    "plt.axis([0, n_epochs, 0, 3.5])\n",
    "plt.grid()\n",
    "plt.show()"
   ]
  },
  {
   "cell_type": "markdown",
   "metadata": {},
   "source": [
    "Preprocesamiento:\n",
    "\n",
    "- Expansión polinómica: Se añaden características polinómicas.\n",
    "- Escalado: Se escalan las características tanto del conjunto de entrenamiento como del conjunto de validación.\n",
    "\n",
    "Modelo:\n",
    "\n",
    "- Se crea un SGDRegressor sin regularización y con una tasa de aprendizaje pequeña.\n",
    "- En lugar de usar fit(), se usa partial_fit() en un bucle para realizar el aprendizaje incremental.\n",
    "\n",
    "Evaluación durante el entrenamiento:\n",
    "\n",
    "- En cada época, se mide el RMSE en el conjunto de validación.\n",
    "- Si el RMSE actual es menor que el más bajo observado hasta el momento, se guarda una copia del modelo en la variable best_model.\n",
    "\n",
    "Copia del modelo:\n",
    "\n",
    "- Se usa copy.deepcopy() para guardar el mejor modelo, lo que asegura que tanto los hiperparámetros como los parámetros aprendidos se copian.\n",
    "- sklearn.base.clone() solo copiaría los hiperparámetros, por lo que no es adecuado para esta tarea."
   ]
  },
  {
   "cell_type": "markdown",
   "metadata": {},
   "source": [
    "# Logistic Regression"
   ]
  },
  {
   "cell_type": "markdown",
   "metadata": {},
   "source": [
    "Algunos algoritmos de regresión pueden utilizarse para la clasificación (y viceversa). La regresión logística (también llamada regresión logit) suele utilizarse para estimar la probabilidad de que un caso pertenezca a una clase determinada (por ejemplo, ¿cuál es la probabilidad de que este correo electrónico sea spam?). Si la probabilidad estimada es superior a un umbral determinado (normalmente el 50%), el modelo predice que la instancia pertenece a esa clase (denominada clase positiva, etiquetada como \"1\") y, en caso contrario, predice que no (es decir, que pertenece a la clase negativa, etiquetada como \"0\"). Se trata, por tanto, de un clasificador binario."
   ]
  },
  {
   "cell_type": "markdown",
   "metadata": {},
   "source": [
    "## Estimación de probabilidades"
   ]
  },
  {
   "cell_type": "markdown",
   "metadata": {},
   "source": [
    "La regresión logística funciona de manera similar a la regresión lineal, pero con una diferencia clave. Mientras que el modelo de regresión lineal calcula una suma ponderada de las características de entrada (más un término de sesgo) y devuelve ese resultado directamente, el modelo de regresión logística aplica la función logística (o sigmoide) a este resultado para obtener una probabilidad.\n",
    "\n",
    "La probabilidad estimada por el modelo se expresa en forma vectorizada como:\n",
    "\n",
    "$$\n",
    "p = h_\\theta(x) = \\sigma(\\theta^\\top x)\n",
    "$$\n",
    "\n",
    "La función logística, denotada como 𝜎(⋅), es una función sigmoide que convierte el resultado en un valor entre 0 y 1, según la siguiente fórmula:\n",
    "\n",
    "$$\n",
    "\\sigma(t) = \\frac{1}{1 + \\exp(-t)}\n",
    "$$\n",
    "\n",
    "Esta función tiene forma de \"S\" y es utilizada para modelar probabilidades en regresión logística"
   ]
  },
  {
   "cell_type": "code",
   "execution_count": null,
   "metadata": {},
   "outputs": [],
   "source": [
    "\n",
    "lim = 6\n",
    "t = np.linspace(-lim, lim, 100)\n",
    "sig = 1 / (1 + np.exp(-t))\n",
    "\n",
    "plt.figure(figsize=(8, 3))\n",
    "plt.plot([-lim, lim], [0, 0], \"k-\")\n",
    "plt.plot([-lim, lim], [0.5, 0.5], \"k:\")\n",
    "plt.plot([-lim, lim], [1, 1], \"k:\")\n",
    "plt.plot([0, 0], [-1.1, 1.1], \"k-\")\n",
    "plt.plot(t, sig, \"b-\", linewidth=2, label=r\"$\\sigma(t) = \\dfrac{1}{1 + e^{-t}}$\")\n",
    "plt.xlabel(\"t\")\n",
    "plt.legend(loc=\"upper left\")\n",
    "plt.axis([-lim, lim, -0.1, 1.1])\n",
    "plt.gca().set_yticks([0, 0.25, 0.5, 0.75, 1])\n",
    "plt.grid()\n",
    "plt.show()"
   ]
  },
  {
   "cell_type": "markdown",
   "metadata": {},
   "source": [
    "En un modelo de regresión logística, la predicción se realiza comparando la probabilidad estimada (𝑝) con un umbral del 50%. Si la probabilidad es mayor o igual a 0.5, se predice 1; en caso contrario, se predice 0. La función sigmoide asegura que esto ocurra según el signo de \n",
    "$𝜃^⊤𝑥$\n",
    "\n",
    "$$\n",
    "y = \n",
    "\\begin{cases} \n",
    "0 & \\text{si } 𝑝 < 0.5 \\\\\n",
    "1 & \\text{si } 𝑝 \\geq 0.5 \n",
    "\\end{cases}\n",
    "$$\n",
    "\n",
    "- 𝑝: Probabilidad de que la instancia 𝑥 pertenezca a la clase positiva.\n",
    "- $𝜃^⊤𝑥$: Producto escalar entre el vector de parámetros del modelo (𝜃) y el vector de características de la instancia (𝑥)."
   ]
  },
  {
   "cell_type": "markdown",
   "metadata": {},
   "source": [
    "El score 𝑡 es comúnmente llamado logit. Este nombre proviene del hecho de que la función logit, definida como\n",
    "\n",
    "$$\n",
    "\\text{logit}(p) = \\log\\left(\\frac{p}{1 - p}\\right)\n",
    "$$\n",
    "\n",
    "es la inversa de la función logística. Si calculas el logit de la probabilidad estimada \n",
    "𝑝, obtendrás como resultado 𝑡. El logit también se conoce como log-odds o logaritmo de las probabilidades, ya que es el logaritmo de la razón entre la probabilidad estimada para la clase positiva y la probabilidad estimada para la clase negativa."
   ]
  },
  {
   "cell_type": "markdown",
   "metadata": {},
   "source": [
    "## Función de formación y costes"
   ]
  },
  {
   "cell_type": "markdown",
   "metadata": {},
   "source": [
    "Para entrenar un modelo de regresión logística, el objetivo es ajustar el vector de parámetros \n",
    "𝜃 de manera que el modelo estime altas probabilidades para las instancias positivas (𝑦=1) y bajas probabilidades para las instancias negativas (𝑦=0). Esto se logra minimizando una función de costo.\n",
    "\n",
    "La función de costo para una sola instancia de entrenamiento 𝑥 se define de la siguiente manera:\n",
    "\n",
    "$$\n",
    "\\text{Costo}(\\theta) = \n",
    "\\begin{cases} \n",
    "- \\log(p) & \\text{si } y = 1 \\\\\n",
    "- \\log(1 - p) & \\text{si } y = 0 \n",
    "\\end{cases}\n",
    "$$\n",
    "\n",
    "Esta función tiene sentido porque \n",
    "−log(𝑡) crece mucho cuando 𝑡 se aproxima a 0, lo que significa que el costo será alto si el modelo estima una probabilidad cercana a 0 para una instancia positiva, o si estima una probabilidad cercana a 1 para una instancia negativa. Por el contrario, \n",
    "−log⁡(𝑡) es cercano a 0 cuando 𝑡 está cerca de 1, lo que implica un costo bajo si la probabilidad estimada es correcta (cerca de 0 para una instancia negativa o cerca de 1 para una instancia positiva).\n",
    "\n",
    "La función de costo para todo el conjunto de entrenamiento se calcula como el promedio de los costos de todas las instancias. Esta expresión se conoce como log loss o pérdida logarítmica:\n",
    "\n",
    "$$\n",
    "J(\\theta) = -\\frac{1}{m} \\sum_{i=1}^{m} \\left[ y_i \\log(p_i) + (1 - y_i) \\log(1 - p_i) \\right]\n",
    "$$\n",
    "\n",
    "- p: Probabilidad estimada de que una instancia pertenezca a la clase positiva.\n",
    "- 𝑦: Valor real de la clase para la instancia (1 para positiva, 0 para negativa).\n",
    "- 𝑚: Número total de instancias en el conjunto de entrenamiento.\n",
    "- 𝐽(𝜃): Función de costo total o log loss.\n",
    "\n",
    "Este enfoque garantiza que el modelo minimice los errores de clasificación al ajustar 𝜃 para que las predicciones sean lo más precisas posibles."
   ]
  },
  {
   "cell_type": "markdown",
   "metadata": {},
   "source": [
    "## Límites de la decisión"
   ]
  },
  {
   "cell_type": "markdown",
   "metadata": {},
   "source": [
    "Podemos utilizar el conjunto de datos iris para ilustrar la regresión logística. Este es un famoso conjunto de datos que contiene las longitudes y anchuras de los sépalos y pétalos de 150 flores de iris de tres especies diferentes: Iris setosa, Iris versicolor y Iris virginica.\n",
    "\n",
    "Este conjunto de datos es comúnmente utilizado en el aprendizaje automático para problemas de clasificación, donde se intenta predecir la especie de una flor en función de sus características morfológicas."
   ]
  },
  {
   "cell_type": "markdown",
   "metadata": {},
   "source": [
    "Intentemos construir un clasificador para detectar el tipo de Iris virginica basándonos únicamente en la característica de anchura de los pétalos. El primer paso es cargar los datos y echar un vistazo rápido:"
   ]
  },
  {
   "cell_type": "code",
   "execution_count": null,
   "metadata": {},
   "outputs": [],
   "source": [
    "from sklearn.datasets import load_iris\n",
    "\n",
    "iris = load_iris(as_frame=True)\n",
    "list(iris)"
   ]
  },
  {
   "cell_type": "code",
   "execution_count": null,
   "metadata": {},
   "outputs": [],
   "source": [
    "print(iris.DESCR)"
   ]
  },
  {
   "cell_type": "code",
   "execution_count": null,
   "metadata": {},
   "outputs": [],
   "source": [
    "iris.data.head(3)"
   ]
  },
  {
   "cell_type": "code",
   "execution_count": null,
   "metadata": {},
   "outputs": [],
   "source": [
    "iris.target.head(3)  # ten en cuenta que las instancias no se mezclan"
   ]
  },
  {
   "cell_type": "code",
   "execution_count": null,
   "metadata": {},
   "outputs": [],
   "source": [
    "iris.target_names"
   ]
  },
  {
   "cell_type": "markdown",
   "metadata": {},
   "source": [
    "A continuación, dividiremos los datos y entrenaremos un modelo de regresión logística en el conjunto de entrenamiento:"
   ]
  },
  {
   "cell_type": "code",
   "execution_count": null,
   "metadata": {},
   "outputs": [],
   "source": [
    "from sklearn.linear_model import LogisticRegression\n",
    "from sklearn.model_selection import train_test_split\n",
    "\n",
    "X = iris.data[[\"petal width (cm)\"]].values\n",
    "y = iris.target_names[iris.target] == 'virginica'\n",
    "X_train, X_test, y_train, y_test = train_test_split(X, y, random_state=42)\n",
    "\n",
    "log_reg = LogisticRegression(random_state=42)\n",
    "log_reg.fit(X_train, y_train)"
   ]
  },
  {
   "cell_type": "markdown",
   "metadata": {},
   "source": [
    "Veamos las probabilidades estimadas del modelo para flores con anchuras de pétalo que varían de\n",
    "de 0 cm a 3 cm"
   ]
  },
  {
   "cell_type": "code",
   "execution_count": null,
   "metadata": {},
   "outputs": [],
   "source": [
    "X_new = np.linspace(0, 3, 1000).reshape(-1, 1)  # remodelar para obtener un vector columna\n",
    "y_proba = log_reg.predict_proba(X_new)\n",
    "decision_boundary = X_new[y_proba[:, 1] >= 0.5][0, 0]\n",
    "\n",
    "plt.figure(figsize=(8, 3)) \n",
    "plt.plot(X_new, y_proba[:, 0], \"b--\", linewidth=2,\n",
    "         label=\"Not Iris virginica proba\")\n",
    "plt.plot(X_new, y_proba[:, 1], \"g-\", linewidth=2, label=\"Iris virginica proba\")\n",
    "plt.plot([decision_boundary, decision_boundary], [0, 1], \"k:\", linewidth=2,\n",
    "         label=\"Decision boundary\")\n",
    "\n",
    "plt.arrow(x=decision_boundary, y=0.08, dx=-0.3, dy=0,\n",
    "          head_width=0.05, head_length=0.1, fc=\"b\", ec=\"b\")\n",
    "plt.arrow(x=decision_boundary, y=0.92, dx=0.3, dy=0,\n",
    "          head_width=0.05, head_length=0.1, fc=\"g\", ec=\"g\")\n",
    "plt.plot(X_train[y_train == 0], y_train[y_train == 0], \"bs\")\n",
    "plt.plot(X_train[y_train == 1], y_train[y_train == 1], \"g^\")\n",
    "plt.xlabel(\"Petal width (cm)\")\n",
    "plt.ylabel(\"Probability\")\n",
    "plt.legend(loc=\"center left\")\n",
    "plt.axis([0, 3, -0.02, 1.02])\n",
    "plt.grid()\n",
    "\n",
    "plt.show()"
   ]
  },
  {
   "cell_type": "markdown",
   "metadata": {},
   "source": [
    "El ancho de los pétalos de Iris virginica varía entre 1.4 cm y 2.5 cm. El clasificador predice con alta confianza que es Iris virginica si el ancho es mayor a 2 cm, y que no lo es si es menor a 1 cm. La frontera de decisión está en 1.6 cm: por encima predice Iris virginica, y por debajo, predice que no lo es."
   ]
  },
  {
   "cell_type": "code",
   "execution_count": null,
   "metadata": {},
   "outputs": [],
   "source": [
    "decision_boundary"
   ]
  },
  {
   "cell_type": "code",
   "execution_count": null,
   "metadata": {},
   "outputs": [],
   "source": [
    "log_reg.predict([[1.7], [1.5]])"
   ]
  },
  {
   "cell_type": "markdown",
   "metadata": {},
   "source": [
    "En un gráfico que muestra las características de ancho y largo de los pétalos del conjunto de datos, un clasificador de regresión logística entrenado puede estimar la probabilidad de que una nueva flor sea Iris virginica basado en estas dos características. La línea discontinua en el gráfico representa la frontera de decisión, donde la probabilidad estimada es del 50%. Esta frontera es lineal. Las líneas paralelas indican diferentes probabilidades, desde el 15% (esquina inferior izquierda) hasta el 90% (esquina superior derecha). Las flores más allá de la línea superior derecha tienen más del 90% de probabilidad de ser Iris virginica."
   ]
  },
  {
   "cell_type": "code",
   "execution_count": null,
   "metadata": {},
   "outputs": [],
   "source": [
    "\n",
    "X = iris.data[[\"petal length (cm)\", \"petal width (cm)\"]].values\n",
    "y = iris.target_names[iris.target] == 'virginica'\n",
    "X_train, X_test, y_train, y_test = train_test_split(X, y, random_state=42)\n",
    "\n",
    "log_reg = LogisticRegression(C=2, random_state=42)\n",
    "log_reg.fit(X_train, y_train)\n",
    "\n",
    "# para el gráfico de contornos\n",
    "x0, x1 = np.meshgrid(np.linspace(2.9, 7, 500).reshape(-1, 1),\n",
    "                     np.linspace(0.8, 2.7, 200).reshape(-1, 1))\n",
    "X_new = np.c_[x0.ravel(), x1.ravel()]  # una instancia por punto de la figura\n",
    "y_proba = log_reg.predict_proba(X_new)\n",
    "zz = y_proba[:, 1].reshape(x0.shape)\n",
    "\n",
    "# para el límite de decisión\n",
    "left_right = np.array([2.9, 7])\n",
    "boundary = -((log_reg.coef_[0, 0] * left_right + log_reg.intercept_[0])\n",
    "             / log_reg.coef_[0, 1])\n",
    "\n",
    "plt.figure(figsize=(10, 4))\n",
    "plt.plot(X_train[y_train == 0, 0], X_train[y_train == 0, 1], \"bs\")\n",
    "plt.plot(X_train[y_train == 1, 0], X_train[y_train == 1, 1], \"g^\")\n",
    "contour = plt.contour(x0, x1, zz, cmap=plt.cm.brg)\n",
    "plt.clabel(contour, inline=1)\n",
    "plt.plot(left_right, boundary, \"k--\", linewidth=3)\n",
    "plt.text(3.5, 1.27, \"No Iris virginica\", color=\"b\", ha=\"center\")\n",
    "plt.text(6.5, 2.3, \"Iris virginica\", color=\"g\", ha=\"center\")\n",
    "plt.xlabel(\"Longitud de los pétalos\")\n",
    "plt.ylabel(\"Anchura del pétalo\")\n",
    "plt.axis([2.9, 7, 0.8, 2.7])\n",
    "plt.grid()\n",
    "plt.show()"
   ]
  },
  {
   "cell_type": "markdown",
   "metadata": {},
   "source": [
    "El hiperparámetro que controla la fuerza de regularización de un modelo LogisticRegression de Scikit-Learn no es alfa (como en otros modelos lineales), sino su inverso: C. Cuanto mayor sea el valor de C, menor será la regularización del modelo."
   ]
  },
  {
   "cell_type": "markdown",
   "metadata": {},
   "source": [
    "## Softmax Regression"
   ]
  },
  {
   "cell_type": "markdown",
   "metadata": {},
   "source": [
    "La regresión softmax es una extensión de la regresión logística para problemas de clasificación multiclase. En lugar de entrenar varios clasificadores binarios, softmax estima la probabilidad de cada clase directamente.\n",
    "\n",
    "Primero, el modelo calcula un score $𝑠_{𝑘}(𝑥)$ para cada clase 𝑘 usando un vector de parámetros específico para esa clase. Luego, aplica la función softmax para convertir estos scores en probabilidades normalizadas:\n",
    "\n",
    "$$\n",
    "p_k = \\frac{\\exp(s_k(x))}{\\sum_{j=1}^{K} \\exp(s_j(x))}\n",
    "$$\n",
    "\n",
    "El modelo predice la clase con la probabilidad más alta. Para entrenar el modelo, se minimiza la función de costo de entropía cruzada, que penaliza las predicciones incorrectas:\n",
    "\n",
    "$$\n",
    "J(\\Theta) = -\\frac{1}{m} \\sum_{i=1}^{m} \\sum_{k=1}^{K} y_i^k \\log(p_i^k)\n",
    "$$\n",
    "\n",
    "La entropía cruzada mide cuán bien las probabilidades estimadas coinciden con las clases reales. El gradiente de esta función se utiliza en algoritmos de optimización como el descenso de gradiente para ajustar los parámetros del modelo.\n",
    "\n",
    "La regresión softmax se usa en problemas con clases mutuamente excluyentes, como la clasificación de especies de plantas en el conjunto de datos Iris. En Scikit-Learn, el clasificador LogisticRegression utiliza softmax automáticamente cuando se entrena en múltiples clases."
   ]
  },
  {
   "cell_type": "code",
   "execution_count": null,
   "metadata": {},
   "outputs": [],
   "source": [
    "X = iris.data[[\"petal length (cm)\", \"petal width (cm)\"]].values\n",
    "y = iris[\"target\"]\n",
    "X_train, X_test, y_train, y_test = train_test_split(X, y, random_state=42)\n",
    "\n",
    "softmax_reg = LogisticRegression(C=30, random_state=42)\n",
    "softmax_reg.fit(X_train, y_train)"
   ]
  },
  {
   "cell_type": "code",
   "execution_count": null,
   "metadata": {
    "tags": []
   },
   "outputs": [],
   "source": [
    "softmax_reg.predict([[5, 2]])"
   ]
  },
  {
   "cell_type": "code",
   "execution_count": null,
   "metadata": {
    "tags": []
   },
   "outputs": [],
   "source": [
    "softmax_reg.predict_proba([[5, 2]]).round(2)"
   ]
  },
  {
   "cell_type": "code",
   "execution_count": null,
   "metadata": {},
   "outputs": [],
   "source": [
    "\n",
    "from matplotlib.colors import ListedColormap\n",
    "\n",
    "custom_cmap = ListedColormap([\"#fafab0\", \"#9898ff\", \"#a0faa0\"])\n",
    "\n",
    "x0, x1 = np.meshgrid(np.linspace(0, 8, 500).reshape(-1, 1),\n",
    "                     np.linspace(0, 3.5, 200).reshape(-1, 1))\n",
    "X_new = np.c_[x0.ravel(), x1.ravel()]\n",
    "\n",
    "y_proba = softmax_reg.predict_proba(X_new)\n",
    "y_predict = softmax_reg.predict(X_new)\n",
    "\n",
    "zz1 = y_proba[:, 1].reshape(x0.shape)\n",
    "zz = y_predict.reshape(x0.shape)\n",
    "\n",
    "plt.figure(figsize=(10, 4))\n",
    "plt.plot(X[y == 2, 0], X[y == 2, 1], \"g^\", label=\"Iris virginica\")\n",
    "plt.plot(X[y == 1, 0], X[y == 1, 1], \"bs\", label=\"Iris versicolor\")\n",
    "plt.plot(X[y == 0, 0], X[y == 0, 1], \"yo\", label=\"Iris setosa\")\n",
    "\n",
    "plt.contourf(x0, x1, zz, cmap=custom_cmap)\n",
    "contour = plt.contour(x0, x1, zz1, cmap=\"hot\")\n",
    "plt.clabel(contour, inline=1)\n",
    "plt.xlabel(\"Petal length\")\n",
    "plt.ylabel(\"Petal width\")\n",
    "plt.legend(loc=\"center left\")\n",
    "plt.axis([0.5, 7, 0, 3.5])\n",
    "plt.grid()\n",
    "plt.show()"
   ]
  },
  {
   "cell_type": "markdown",
   "metadata": {},
   "source": [
    "muestra los límites de decisión resultantes, representados por los colores de fondo. Observe que los límites de decisión entre dos clases cualesquiera son lineales. La figura también muestra las probabilidades de la clase Iris versicolor, representadas por las líneas curvas (por ejemplo, la línea marcada con 0,30 representa el límite de probabilidad del 30%). Observe que el modelo puede predecir una clase con una probabilidad estimada inferior al 50%. Por ejemplo, en el punto en el que se encuentran todos los límites de decisión, todas las clases tienen una probabilidad estimada del 33%."
   ]
  }
 ],
 "metadata": {
  "kernelspec": {
   "display_name": "Python 3",
   "language": "python",
   "name": "python3"
  },
  "language_info": {
   "codemirror_mode": {
    "name": "ipython",
    "version": 3
   },
   "file_extension": ".py",
   "mimetype": "text/x-python",
   "name": "python",
   "nbconvert_exporter": "python",
   "pygments_lexer": "ipython3",
   "version": "3.11.9"
  },
  "nav_menu": {},
  "toc": {
   "navigate_menu": true,
   "number_sections": true,
   "sideBar": true,
   "threshold": 6,
   "toc_cell": false,
   "toc_section_display": "block",
   "toc_window_display": false
  }
 },
 "nbformat": 4,
 "nbformat_minor": 4
}
