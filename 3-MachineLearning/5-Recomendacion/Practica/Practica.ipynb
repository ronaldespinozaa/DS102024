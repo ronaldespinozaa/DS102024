{
 "cells": [
  {
   "cell_type": "markdown",
   "metadata": {},
   "source": [
    "## Ejercicio 1: Filtrado Colaborativo Basado en Ítems\n",
    "\n",
    "Implementa un sistema de recomendación basado en ítems utilizando la matriz de calificaciones proporcionada en el ejemplo práctico 1. Recomendale al Usuario 'B' dos productos que aún no ha calificado."
   ]
  },
  {
   "cell_type": "markdown",
   "metadata": {},
   "source": [
    "## Ejercicio 2: Evaluación de Métricas\n",
    "Dada la siguiente matriz de calificaciones reales y predichas para un conjunto de usuarios y productos, calcula el RMSE y el MAE.\n",
    "\n",
    "|Usuario|\tProducto1 (Real)|\tProducto1 (Pred)|\tProducto2 (Real)|\tProducto2 (Pred)|\n",
    "|---|---|---|---|---|\n",
    "|A|\t5|\t4.5|\t3|\t3.5|\n",
    "|B|\t2|\t2.0|\t4|\t3.8|\n",
    "|C|\t0|\t1.2|\t5|\t4.9|\n",
    "|D|\t3|\t3.5|\t0|\t0.2|"
   ]
  },
  {
   "cell_type": "markdown",
   "metadata": {},
   "source": [
    "### Ejercicio 3: Filtrado Basado en Contenido Avanzado\n",
    "Ampliando el ejemplo práctico 2, incluye una nueva columna que clasifique los productos en categorías (por ejemplo, 'Electrónica', 'Cocina', 'Literatura', 'Moda', 'Juguetes'). Utiliza esta información para mejorar el sistema de recomendación basado en contenido, de manera que solo recomiende productos de la misma categoría que el producto objetivo."
   ]
  }
 ],
 "metadata": {
  "language_info": {
   "name": "python"
  }
 },
 "nbformat": 4,
 "nbformat_minor": 2
}
